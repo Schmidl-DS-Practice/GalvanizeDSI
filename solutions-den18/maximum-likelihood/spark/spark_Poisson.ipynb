{
 "cells": [
  {
   "cell_type": "markdown",
   "metadata": {},
   "source": [
    "## 1. Read in the Data, Examine the First Row"
   ]
  },
  {
   "cell_type": "code",
   "execution_count": 1,
   "metadata": {},
   "outputs": [
    {
     "data": {
      "text/plain": [
       "Row(Traffic Report ID='8D4F80DF0D37819CDE3E3D2BB9982D111EBAC97C_1510929686000', Published Date='11/17/2017 02:41:00 PM +0000', Issue Reported='Crash Urgent', Location='(30.213998,-97.830319)', Latitude=30.213998, Longitude=-97.830319, Address='6900 BRODIE LN', Status='ARCHIVED', Status Date='11/17/2017 03:25:00 PM +0000')"
      ]
     },
     "execution_count": 1,
     "metadata": {},
     "output_type": "execute_result"
    }
   ],
   "source": [
    "%matplotlib inline\n",
    "import matplotlib.pyplot as plt\n",
    "import numpy as np\n",
    "\n",
    "from scipy.stats import poisson, kstest\n",
    "\n",
    "from pyspark.sql import SparkSession\n",
    "from pyspark.sql.functions import udf, year, month, dayofmonth, hour, dayofyear, weekofyear\n",
    "from pyspark.sql.types import TimestampType, BooleanType\n",
    "from datetime import datetime\n",
    "\n",
    "spark = SparkSession.builder.getOrCreate()\n",
    "df = spark.read.csv(\"/Users/joesphgartner/Projects/sprints/maximum-likelihood/data/\", header='true',  inferSchema='true')\n",
    "df.head()"
   ]
  },
  {
   "cell_type": "markdown",
   "metadata": {},
   "source": [
    "## 2. Create a New Column with Datetime Objects"
   ]
  },
  {
   "cell_type": "code",
   "execution_count": 2,
   "metadata": {},
   "outputs": [
    {
     "data": {
      "text/plain": [
       "Row(Traffic Report ID='8D4F80DF0D37819CDE3E3D2BB9982D111EBAC97C_1510929686000', Published Date='11/17/2017 02:41:00 PM +0000', Issue Reported='Crash Urgent', Location='(30.213998,-97.830319)', Latitude=30.213998, Longitude=-97.830319, Address='6900 BRODIE LN', Status='ARCHIVED', Status Date='11/17/2017 03:25:00 PM +0000', dt_pub=datetime.datetime(2017, 11, 16, 20, 41))"
      ]
     },
     "execution_count": 2,
     "metadata": {},
     "output_type": "execute_result"
    }
   ],
   "source": [
    "make_dt = udf(lambda date_string: datetime.strptime(date_string, \"%m/%d/%Y %H:%M:%S %p %z\"), TimestampType())\n",
    "df = df.withColumn(\"dt_pub\", make_dt(df['Published Date']))\n",
    "df.head()"
   ]
  },
  {
   "cell_type": "markdown",
   "metadata": {},
   "source": [
    "## 3. Get the Unique 'Issue Reported' Types"
   ]
  },
  {
   "cell_type": "code",
   "execution_count": 3,
   "metadata": {},
   "outputs": [
    {
     "name": "stdout",
     "output_type": "stream",
     "text": [
      "+--------------------+\n",
      "|      Issue Reported|\n",
      "+--------------------+\n",
      "|COLLISION WITH IN...|\n",
      "|   BLOCKED DRIV/ HWY|\n",
      "|  Traffic Impediment|\n",
      "|       Crash Service|\n",
      "|   TRFC HAZD/ DEBRIS|\n",
      "|    zSTALLED VEHICLE|\n",
      "|        VEHICLE FIRE|\n",
      "|       BOAT ACCIDENT|\n",
      "|        Crash Urgent|\n",
      "|      Traffic Hazard|\n",
      "|     LOOSE LIVESTOCK|\n",
      "|    TRAFFIC FATALITY|\n",
      "|    FLEET ACC/ FATAL|\n",
      "|   COLLISN/ LVNG SCN|\n",
      "|     COLLISN / FTSRA|\n",
      "|         ICY ROADWAY|\n",
      "|          HIGH WATER|\n",
      "|           AUTO/ PED|\n",
      "|  N / HZRD TRFC VIOL|\n",
      "|           COLLISION|\n",
      "+--------------------+\n",
      "only showing top 20 rows\n",
      "\n"
     ]
    }
   ],
   "source": [
    "df.select(\"Issue Reported\").distinct().show()"
   ]
  },
  {
   "cell_type": "markdown",
   "metadata": {},
   "source": [
    "## 4. Create Slice\n",
    "We'll be continually revisiting the 'LOOSE LIVESTOCK' type for year 2018, so we start by making a subset first."
   ]
  },
  {
   "cell_type": "code",
   "execution_count": 4,
   "metadata": {},
   "outputs": [
    {
     "name": "stdout",
     "output_type": "stream",
     "text": [
      "+------------+-------------+------------------+-----+\n",
      "|year(dt_pub)|month(dt_pub)|dayofmonth(dt_pub)|count|\n",
      "+------------+-------------+------------------+-----+\n",
      "|        2018|            4|                 5|    3|\n",
      "|        2018|            8|                15|    5|\n",
      "|        2018|            6|                19|    3|\n",
      "|        2018|            7|                 8|    4|\n",
      "|        2018|           10|                30|    6|\n",
      "|        2018|            2|                22|    1|\n",
      "|        2018|            7|                 3|    2|\n",
      "|        2018|            3|                 3|    1|\n",
      "|        2018|            5|                28|    1|\n",
      "|        2018|            6|                 3|    4|\n",
      "|        2018|           12|                24|    2|\n",
      "|        2018|            6|                22|    3|\n",
      "|        2018|           11|                16|    1|\n",
      "|        2018|            1|                13|    1|\n",
      "|        2018|            8|                22|    2|\n",
      "|        2018|           11|                17|    4|\n",
      "|        2018|            1|                21|    1|\n",
      "|        2018|            7|                19|    3|\n",
      "|        2018|           10|                21|    3|\n",
      "|        2018|            1|                12|    1|\n",
      "+------------+-------------+------------------+-----+\n",
      "only showing top 20 rows\n",
      "\n"
     ]
    }
   ],
   "source": [
    "df_livestock = df[(df[\"Issue Reported\"]=='LOOSE LIVESTOCK') & (year(df['dt_pub'])==2018)]\n",
    "df_ls_daily_counts = df_livestock.groupBy([year(df_livestock['dt_pub']), month(df_livestock['dt_pub']), dayofmonth(df_livestock['dt_pub'])]).count()\n",
    "df_ls_daily_counts.show()"
   ]
  },
  {
   "cell_type": "markdown",
   "metadata": {},
   "source": [
    "## 5. Plot the Sum of Log Likelihoods for a Wide Range of Lambda Values"
   ]
  },
  {
   "cell_type": "code",
   "execution_count": 5,
   "metadata": {},
   "outputs": [
    {
     "data": {
      "image/png": "[encoded data removed]",
      "text/plain": [
       "<Figure size 432x288 with 1 Axes>"
      ]
     },
     "metadata": {
      "needs_background": "light"
     },
     "output_type": "display_data"
    }
   ],
   "source": [
    "counts = [x.Count for x in df_ls_daily_counts.select(['Count']).collect()]\n",
    "counts = counts + [0]*(365-len(counts))\n",
    "\n",
    "def sum_log_likelihood(incidents, lam):\n",
    "    return np.sum([poisson.logpmf(x, lam) for x in incidents])\n",
    "\n",
    "_x = np.arange(.1, 10, step=.2)\n",
    "_y = [sum_log_likelihood(counts, x) for x in _x]\n",
    "\n",
    "\n",
    "fig, ax = plt.subplots()\n",
    "ax.plot(_x, _y, 'rx')\n",
    "ax.set_xlabel(\"Lambda Value\")\n",
    "_ = ax.set_ylabel(\"Sum of Log Likelihoods\")"
   ]
  },
  {
   "cell_type": "markdown",
   "metadata": {},
   "source": [
    "## 6. Run a KS Test & Visualize"
   ]
  },
  {
   "cell_type": "code",
   "execution_count": 6,
   "metadata": {},
   "outputs": [
    {
     "data": {
      "text/plain": [
       "KstestResult(statistic=0.1709521263778393, pvalue=8.520616900029789e-10)"
      ]
     },
     "execution_count": 6,
     "metadata": {},
     "output_type": "execute_result"
    }
   ],
   "source": [
    "mll_lambda = max(zip(_y,_x))[1]\n",
    "kstest(counts, 'poisson', [mll_lambda])"
   ]
  },
  {
   "cell_type": "code",
   "execution_count": 7,
   "metadata": {},
   "outputs": [
    {
     "data": {
      "text/plain": [
       "Text(0, 0.5, 'Probability Density')"
      ]
     },
     "execution_count": 7,
     "metadata": {},
     "output_type": "execute_result"
    },
    {
     "data": {
      "image/png": "[encoded data removed]",
      "text/plain": [
       "<Figure size 432x288 with 1 Axes>"
      ]
     },
     "metadata": {
      "needs_background": "light"
     },
     "output_type": "display_data"
    }
   ],
   "source": [
    "incident_range = [x for x in range(14)]\n",
    "fig, ax = plt.subplots()\n",
    "ax.hist(counts, bins = [x-.5 for x in range(16)], color='r', density=True, label='data')\n",
    "ax.plot(incident_range, poisson.pmf(incident_range, mll_lambda), 'kx', ms=8, label='poisson pmf')\n",
    "ax.set_xlabel(\"Number of Incidents\")\n",
    "ax.set_ylabel(\"Probability Density\")"
   ]
  },
  {
   "cell_type": "markdown",
   "metadata": {},
   "source": [
    "## 7. Create an 'is_weekday' Column"
   ]
  },
  {
   "cell_type": "code",
   "execution_count": 8,
   "metadata": {},
   "outputs": [
    {
     "data": {
      "text/plain": [
       "Row(Traffic Report ID='AA4D91CE2E5A36BB7D4BFC5C70DE0C6B781C3D1F_1540856864', Published Date='10/29/2018 11:47:44 PM +0000', Issue Reported='LOOSE LIVESTOCK', Location='(30.082065,-97.66622)', Latitude=30.082065, Longitude=-97.66622, Address='SCHRIBER RD & MAHA LOOP RD', Status='ARCHIVED', Status Date='10/30/2018 01:00:04 AM +0000', dt_pub=datetime.datetime(2018, 10, 29, 6, 47, 44), is_weekday=True)"
      ]
     },
     "execution_count": 8,
     "metadata": {},
     "output_type": "execute_result"
    }
   ],
   "source": [
    "def local_is_weekday(dt):\n",
    "    if dt.weekday() < 5:\n",
    "        return True\n",
    "    return False\n",
    "\n",
    "is_weekday = udf(lambda date_obj: local_is_weekday(date_obj), BooleanType())\n",
    "df_livestock = df_livestock.withColumn(\"is_weekday\", is_weekday(df_livestock['dt_pub']))\n",
    "df_livestock.head()"
   ]
  },
  {
   "cell_type": "markdown",
   "metadata": {},
   "source": [
    "## 8. Create Hourly Visualizations"
   ]
  },
  {
   "cell_type": "code",
   "execution_count": 9,
   "metadata": {},
   "outputs": [
    {
     "data": {
      "image/png": "[encoded data removed]",
      "text/plain": [
       "<Figure size 720x360 with 2 Axes>"
      ]
     },
     "metadata": {
      "needs_background": "light"
     },
     "output_type": "display_data"
    }
   ],
   "source": [
    "df_ls_wd = df_livestock[df_livestock['is_weekday']==True]\n",
    "df_ls_we = df_livestock[df_livestock['is_weekday']==False]\n",
    "\n",
    "df_ls_weekday_hour = df_ls_wd.groupBy([hour(df_ls_wd['dt_pub']), dayofyear(df_ls_wd['dt_pub'])]).count().withColumnRenamed(\"hour(dt_pub)\", \"hour\").withColumnRenamed(\"count\", \"total\").withColumnRenamed(\"dayofyear(dt_pub)\", \"day\").collect()\n",
    "df_ls_weekend_hour = df_ls_we.groupBy([hour(df_ls_we['dt_pub']), dayofyear(df_ls_we['dt_pub'])]).count().withColumnRenamed(\"hour(dt_pub)\", \"hour\").withColumnRenamed(\"count\", \"total\").withColumnRenamed(\"dayofyear(dt_pub)\", \"day\").collect()\n",
    "\n",
    "def map_back(hour):\n",
    "    if hour < 0:\n",
    "        return hour+24\n",
    "    return hour\n",
    "\n",
    "def hourly_stats(count_arr):\n",
    "    hours = [x for x in range(-5, 8)]\n",
    "    hourly_totals = [[x.total for x in count_arr if x.hour==map_back(hour)] for hour in hours]\n",
    "    hourly_totals = [x + [0]*(52-len(x)) for x in hourly_totals]\n",
    "    hourly_averages = [np.mean(x) for x in hourly_totals]\n",
    "    hourly_error = [np.var(x) for x in hourly_totals]\n",
    "    return hours, hourly_averages, hourly_error\n",
    "\n",
    "fig, ax = plt.subplots(1, 2, figsize=(10, 5))\n",
    "hours, hourly_averages, hourly_error = hourly_stats(df_ls_weekday_hour)\n",
    "ax[0].errorbar(hours, hourly_averages, yerr=hourly_error, c='r')\n",
    "ax[0].axvline(-4.5, c='g')\n",
    "ax[0].axvline(6.5, c='g')\n",
    "ax[0].set_xlabel(\"Hours from Midnight\")\n",
    "ax[0].set_ylabel(\"Average Incidents\")\n",
    "ax[0].set_title(\"Weekdays\")\n",
    "hours, hourly_averages, hourly_error = hourly_stats(df_ls_weekend_hour)\n",
    "ax[1].errorbar(hours, hourly_averages, yerr=hourly_error, c='r')\n",
    "ax[1].set_xlabel(\"Hours from Midnight\")\n",
    "ax[1].set_ylabel(\"Average Incidents\")\n",
    "_ = ax[1].set_title(\"Weekends\")"
   ]
  },
  {
   "cell_type": "markdown",
   "metadata": {},
   "source": [
    "# 9. Create Weekly Counts"
   ]
  },
  {
   "cell_type": "code",
   "execution_count": 10,
   "metadata": {},
   "outputs": [
    {
     "data": {
      "image/png": "[encoded data removed]",
      "text/plain": [
       "<Figure size 432x288 with 1 Axes>"
      ]
     },
     "metadata": {
      "needs_background": "light"
     },
     "output_type": "display_data"
    }
   ],
   "source": [
    "df_ls_byweek = df_ls_wd.groupBy([weekofyear(df_ls_wd['dt_pub'])]).count().withColumnRenamed(\"weekofyear(dt_pub)\", \"week\").withColumnRenamed(\"count\", \"total\")\n",
    "\n",
    "week_dict = df_ls_byweek.toPandas().set_index('week').T.to_dict('list')\n",
    "weeks = [x for x in range(1,53)]\n",
    "fig, ax = plt.subplots()\n",
    "ax.scatter(weeks, [week_dict.get(week, [0])[0] for week in weeks], c='r', marker='x')\n",
    "ax.axvline(10, c='g', label=\"Week Boundry\")\n",
    "ax.axvline(27, c='g')\n",
    "ax.set_xlabel(\"Week of Year\")\n",
    "ax.set_ylabel(\"Count of Incidents\")\n",
    "_ = ax.legend()"
   ]
  },
  {
   "cell_type": "markdown",
   "metadata": {},
   "source": [
    "## 10. Create a Stable Subset, Rerun MLE"
   ]
  },
  {
   "cell_type": "code",
   "execution_count": 11,
   "metadata": {},
   "outputs": [
    {
     "data": {
      "image/png": "[encoded data removed]",
      "text/plain": [
       "<Figure size 432x288 with 1 Axes>"
      ]
     },
     "metadata": {
      "needs_background": "light"
     },
     "output_type": "display_data"
    }
   ],
   "source": [
    "df_sub = df_ls_wd[(weekofyear(df_ls_wd['dt_pub'])>9) \\\n",
    "         & (weekofyear(df_ls_wd['dt_pub'])<28) \\\n",
    "         & ((hour(df_ls_wd['dt_pub']) < 7) | (hour(df_ls_wd['dt_pub']) > 19))]\n",
    "    \n",
    "sub_daily_counts = df_sub.groupBy([year(df_sub['dt_pub']), month(df_sub['dt_pub']), dayofmonth(df_sub['dt_pub'])]).count()\n",
    "    \n",
    "\n",
    "counts = [x.Count for x in sub_daily_counts.select(['Count']).collect()]\n",
    "counts = counts + [0]*(85-len(counts))\n",
    "_x = np.arange(.1, 10, step=.2)\n",
    "_y = [sum_log_likelihood(counts, x) for x in _x]\n",
    "\n",
    "fig, ax = plt.subplots()\n",
    "ax.plot(_x, _y, 'rx')\n",
    "ax.set_xlabel(\"Lambda Value\")\n",
    "_ = ax.set_ylabel(\"Sum of Log Likelihoods\")"
   ]
  },
  {
   "cell_type": "markdown",
   "metadata": {},
   "source": [
    "## 11. Check if this Subset is a Better Fit"
   ]
  },
  {
   "cell_type": "code",
   "execution_count": 12,
   "metadata": {},
   "outputs": [
    {
     "data": {
      "text/plain": [
       "KstestResult(statistic=0.1358310260643324, pvalue=0.050606568898742564)"
      ]
     },
     "execution_count": 12,
     "metadata": {},
     "output_type": "execute_result"
    }
   ],
   "source": [
    "mll_lambda = max(zip(_y,_x))[1]\n",
    "kstest(counts, 'poisson', [mll_lambda])"
   ]
  },
  {
   "cell_type": "code",
   "execution_count": 13,
   "metadata": {},
   "outputs": [
    {
     "data": {
      "image/png": "[encoded data removed]",
      "text/plain": [
       "<Figure size 432x288 with 1 Axes>"
      ]
     },
     "metadata": {
      "needs_background": "light"
     },
     "output_type": "display_data"
    }
   ],
   "source": [
    "incident_range = [x for x in range(14)]\n",
    "fig, ax = plt.subplots()\n",
    "ax.hist(counts, bins = [x-.5 for x in range(16)], color='r', density=True, label='data')\n",
    "ax.plot(incident_range, poisson.pmf(incident_range, mll_lambda), 'kx', ms=8, label='poisson pmf')\n",
    "ax.set_xlabel(\"Number of Incidents\")\n",
    "ax.set_ylabel(\"Probability Density\")\n",
    "_ = ax.legend()"
   ]
  },
  {
   "cell_type": "markdown",
   "metadata": {},
   "source": [
    "## Take Aways\n",
    "We can see that the Poisson Distribution and MLE have very specific assumptions baked in, and that our data may not adhere to these assumptions well.  The built in requirement for data to be IID is one that we need to verify, and takes effort, particularly on time ordered data.  \n",
    "\n",
    "Intuition may have signaled that traffic accidents of a particular variety might have been a good fit for this model, but it seems that due to the complex nature of traffic systems, we might need a more dynamic model.\n",
    "\n",
    "Another key takeaway here is the importance of visualizations.  If you have a test such as KS being your default mechanism for goodness of fit, you might be willing to accept the model with the final window.  Visualizing the PMF over the data should make us second guess this.  It doesn't mean that a KS test doesn't have value in assessing a models viablitity, but visualization will continue to be a very important tool for determining the viability of a test."
   ]
  },
  {
   "cell_type": "code",
   "execution_count": null,
   "metadata": {},
   "outputs": [],
   "source": []
  }
 ],
 "metadata": {
  "kernelspec": {
   "display_name": "Python 3",
   "language": "python",
   "name": "python3"
  },
  "language_info": {
   "codemirror_mode": {
    "name": "ipython",
    "version": 3
   },
   "file_extension": ".py",
   "mimetype": "text/x-python",
   "name": "python",
   "nbconvert_exporter": "python",
   "pygments_lexer": "ipython3",
   "version": "3.7.3"
  }
 },
 "nbformat": 4,
 "nbformat_minor": 2
}
