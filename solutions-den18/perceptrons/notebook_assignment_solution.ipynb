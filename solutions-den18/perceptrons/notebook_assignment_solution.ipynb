{
 "cells": [
  {
   "cell_type": "markdown",
   "metadata": {},
   "source": [
    "Multilayer neural networks are a current hot-topic in machine learning. The multilayer perceptron was the first standardized architecture.  In this assignment, you will learn to tune a [multilayer perceptron](https://en.wikipedia.org/wiki/Multilayer_perceptron) model.\n",
    "\n",
    "There are many libraries for using neural networks, but there isn't yet a single standard.  [Tensorflow](https://www.tensorflow.org/) is used by many, with [Keras](https://keras.io/) as one of the official APIs.\n",
    "\n",
    "\n",
    "## Part 1: Installation, and Introduction to Keras\n",
    "\n",
    "We'll be installing Keras and Tensorflow using a Docker container.  You could install Tensorflow natively (see [here](https://www.tensorflow.org/install/pip)) but Tensforflow typically causes downgrades in the Anaconda environment, and it has screwed up students'  Anaconda distribution in the past.\n",
    "\n",
    "**NOTE** If you have a PC with an NVIDIA GPU, and you want to train on it (highly recommended if you're pursuing a neural-net based capstone project), then you'll want to install `nvidia-docker` instead.  Go to the end of this assignment (the bottom of this page) and follow the install directions there.\n",
    "\n",
    "So, on with the Docker install:\n",
    "* Go to the home directory in your Terminal.  \n",
    "  ```bash\n",
    "  $ cd ~\n",
    "  ```\n",
    "\n",
    "* Start a Jupyter server on a `Docker` instance with Tensorflow 2.0 installed. This will pull the image from Docker Hub and make a container named `tensorflow`.\n",
    "\n",
    "    ```bash\n",
    "    $ docker run -it --name tensorflow -p 8888:8888 -v \"$PWD\":/tf tensorflow/tensorflow:2.0.0a0-py3-jupyter\n",
    "    ```\n",
    "  * After starting up the `docker` container and running the `Jupyter` notebook, you'll see a printout like:\n",
    "    ```\n",
    "    ...\n",
    "    To access the notebook, open this file in a browser:\n",
    "        file:///root/.local/share/jupyter/runtime/nbserver-10-open.html\n",
    "    Or copy and paste one of these URLs:\n",
    "        http://(ae4038ed94a3 or 127.0.0.1):8888/?token=e305929f1dca3ae69707f9a67d6467bd92ce3c1d6521919c\n",
    "    ```\n",
    "    \n",
    "    The hex number after `token=` is a password you need to access the notebook. In this case, it is `e305929f1dca3ae69707f9a67d6467bd92ce3c1d6521919c`, but yours will be different.\n",
    "  * Go to `http://localhost:8888` and enter in the password when prompted.\n",
    "  * If you use the above Docker command, the working directory will map to directory `/tf` in the container. The working directory of the Jupyter notebook in the container is `/tf`, and a useful Python script for this assignment in the `src` directory of this repository. Make sure that the `src` directory is in the Jupyter notebook's Python path, one way or another.\n",
    "\n",
    "* This Docker image (and the resulting container) has `numpy`, `keras`, and `tensorflow` packages.  However, it's lacking `pandas` and `sklearn`.  If you want to use them in this assignment, you'll have to access the container from the command line to install them.  Here's how you do that.  \n",
    "  ```bash\n",
    "  $ docker exec -it tensorflow /bin/bash\n",
    "  ```\n",
    "  Then from within the container:\n",
    "  ```bash\n",
    "  # pip install -U scikit-learn  \n",
    "  # pip install pandas\n",
    "  ```\n",
    "* For this assignment you have a couple of workflow options.  You could work in the Jupyter notebook.  Or, you can access the Tensorflow container from Terminal (as you did above) so that you can run a script from the command line.  To do this, in your Terminal access the running container in the bash shell using:  \n",
    "    ```bash\n",
    "    $ docker exec -it tensorflow /bin/bash\n",
    "    ```\n",
    "  Then from within the container:\n",
    "  ```bash\n",
    "  # python mlp.py\n",
    "  ```  \n",
    "  Or:\n",
    "  ```bash\n",
    "  # ipython\n",
    "  In [1]: run mlp.py\n",
    "  ```\n",
    "\n",
    "* Briefly read some example code for Multilayer Perceptron (the standard neural network) at http://keras.io/examples/. Note that these examples are out of date.  If you want to run the examples in the link, you need to import `keras` and supporting modules differently than what's shown in the examples.  Specifically, they need to be imported from `tensorflow`:\n",
    "\n",
    "    ```python\n",
    "    from tensorflow import keras\n",
    "    from tensorflow.keras.models import Sequential\n",
    "    from tensorflow.keras.layers import Dense, Dropout, Activation\n",
    "    from tensorflow.keras.optimizers import SGD\n",
    "    ```"
   ]
  },
  {
   "cell_type": "code",
   "execution_count": 1,
   "metadata": {},
   "outputs": [],
   "source": [
    "from tensorflow import keras\n",
    "from tensorflow.keras.models import Sequential\n",
    "from tensorflow.keras.layers import Dense, Dropout, Activation\n",
    "from tensorflow.keras.optimizers import SGD"
   ]
  },
  {
   "cell_type": "markdown",
   "metadata": {},
   "source": [
    "## Part 2: Building and tuning a neural network model\n",
    "\n",
    "In the Docker-backed Jupyter notebook/Terminal/Ipython console, use the `load_and_condition_MNIST_data` function in `src/mlp.py` to load a train and test set of images of hand-drawn digits.\n",
    "\n",
    "### Initial inspection\n",
    "\n",
    "```python\n",
    "from mlp import load_and_condition_MNIST_data\n",
    "X_train, y_train, X_test, y_test, y_train_onehot = load_and_condition_MNIST_data()\n",
    "```\n",
    "\n",
    "1. The shape of `X_train` is (n_samples, n_features). How many samples are there in the training set? How many in the test set? How many features are there per sample?"
   ]
  },
  {
   "cell_type": "code",
   "execution_count": 4,
   "metadata": {},
   "outputs": [
    {
     "name": "stdout",
     "output_type": "stream",
     "text": [
      "Downloading data from https://storage.googleapis.com/tensorflow/tf-keras-datasets/mnist.npz\n",
      "11493376/11490434 [==============================] - 3s 0us/step\n",
      "\n",
      "Loaded MNIST images\n",
      "\n",
      "First 5 labels of MNIST y_train: [5 0 4 1 9]\n",
      "\n",
      "First 5 labels of MNIST y_train (one-hot):\n",
      "[[0. 0. 0. 0. 0. 1. 0. 0. 0. 0.]\n",
      " [1. 0. 0. 0. 0. 0. 0. 0. 0. 0.]\n",
      " [0. 0. 0. 0. 1. 0. 0. 0. 0. 0.]\n",
      " [0. 1. 0. 0. 0. 0. 0. 0. 0. 0.]\n",
      " [0. 0. 0. 0. 0. 0. 0. 0. 0. 1.]]\n",
      "\n"
     ]
    }
   ],
   "source": [
    "from src.mlp import load_and_condition_MNIST_data\n",
    "X_train, y_train, X_test, y_test, y_train_onehot = load_and_condition_MNIST_data()"
   ]
  },
  {
   "cell_type": "markdown",
   "metadata": {},
   "source": [
    "2. You may have noticed that each sample \"image\" is a row from the `X` matrix - it's a 1-dimensional array. Speculate on why this is a convenient way to store images."
   ]
  },
  {
   "cell_type": "raw",
   "metadata": {},
   "source": [
    "Because it allows us to know where the data is, change their shape, and put it into a NN."
   ]
  },
  {
   "cell_type": "markdown",
   "metadata": {},
   "source": [
    "3. Inspect a few of the sample images. (You may find the `np.reshape` and `ax.imshow` methods useful.) Inspect some of the corresponding labels from the labels `y_train`; you'll find that they're simply a number corresponding to the digit depicted in the image.\n",
    "\n",
    "Look at the `y_train_onehot` labels. What's going on there? We'll get to that soon.\n",
    "\n",
    "Our task is to use X_train and y_train to make a model that will accurately predict the labels in X_test."
   ]
  },
  {
   "cell_type": "code",
   "execution_count": 8,
   "metadata": {},
   "outputs": [],
   "source": [
    "import matplotlib.pyplot as plt\n",
    "%matplotlib inline"
   ]
  },
  {
   "cell_type": "code",
   "execution_count": 135,
   "metadata": {},
   "outputs": [
    {
     "data": {
      "image/png": "[encoded data removed]",
      "text/plain": [
       "<Figure size 432x288 with 1 Axes>"
      ]
     },
     "metadata": {
      "needs_background": "light"
     },
     "output_type": "display_data"
    }
   ],
   "source": [
    "fig, ax = plt.subplots()\n",
    "ax.imshow(X_train[0].reshape(28,28));"
   ]
  },
  {
   "cell_type": "code",
   "execution_count": 127,
   "metadata": {},
   "outputs": [
    {
     "data": {
      "text/plain": [
       "(784,)"
      ]
     },
     "execution_count": 127,
     "metadata": {},
     "output_type": "execute_result"
    }
   ],
   "source": [
    "X_train[0].shape"
   ]
  },
  {
   "cell_type": "code",
   "execution_count": 131,
   "metadata": {},
   "outputs": [
    {
     "data": {
      "text/plain": [
       "784"
      ]
     },
     "execution_count": 131,
     "metadata": {},
     "output_type": "execute_result"
    }
   ],
   "source": [
    "28**2"
   ]
  },
  {
   "cell_type": "markdown",
   "metadata": {},
   "source": [
    "### Baseline model\n",
    "\n",
    "If we conceptualize each image sample as a 1-dimensional vector, we can use any multiclass model available. For example, we could simply train a single decision tree:\n",
    "\n",
    "```python\n",
    "from sklearn.tree import DecisionTreeClassifier\n",
    "from sklearn.metrics import accuracy_score\n",
    "\n",
    "clf = DecisionTreeClassifier()\n",
    "clf.fit(X_train, y_train)\n",
    "yhat = clf.predict(X_test)\n",
    "print(accuracy_score(y_test, yhat))\n",
    "```\n",
    "\n",
    "If you run this, you'll find a single decision tree can classify hand-drawn digits with about 88% accuracy. Pretty good for being so simple. That's the score to beat.\n",
    "\n",
    "Take a moment to discuss with your partner what each split in the decision tree means, and what it means for a decision tree to classify an image."
   ]
  },
  {
   "cell_type": "code",
   "execution_count": 23,
   "metadata": {},
   "outputs": [
    {
     "name": "stdout",
     "output_type": "stream",
     "text": [
      "0.8775\n"
     ]
    }
   ],
   "source": [
    "from sklearn.tree import DecisionTreeClassifier\n",
    "from sklearn.metrics import accuracy_score\n",
    "\n",
    "clf = DecisionTreeClassifier()\n",
    "clf.fit(X_train, y_train)\n",
    "yhat = clf.predict(X_test)\n",
    "print(accuracy_score(y_test, yhat))"
   ]
  },
  {
   "cell_type": "markdown",
   "metadata": {},
   "source": [
    "### Logistic Regression with Keras\n",
    "\n",
    "Maybe the simplest possible model in Keras a neural network with a single unit and no hidden layer:\n",
    "\n",
    "```python\n",
    "from tensorflow.keras.models import Sequential\n",
    "from tensorflow.keras.layers import Dense\n",
    "import numpy as np\n",
    "np.random.seed(42)\n",
    "\n",
    "n_samples, n_feats = X_train.shape\n",
    "\n",
    "model = Sequential() # sequence of layers\n",
    "\n",
    "denselayer = Dense(units=1,\n",
    "                input_dim=n_feats,\n",
    "                kernel_initializer='uniform',\n",
    "                activation='sigmoid')\n",
    "\n",
    "model.add(denselayer)\n",
    "```\n",
    "\n",
    "1. Build this model, and **without training it**, use the `.predict(X_test)` method to predict the output label of the test set. What is the shape of the output of `predict`? Speculate about why this works, even if you haven't trained the model."
   ]
  },
  {
   "cell_type": "code",
   "execution_count": 144,
   "metadata": {},
   "outputs": [],
   "source": [
    "from tensorflow.keras.models import Sequential\n",
    "from tensorflow.keras.layers import Dense\n",
    "import numpy as np\n",
    "np.random.seed(42)\n",
    "\n",
    "n_samples, n_feats = X_train.shape\n",
    "\n",
    "model = Sequential() # sequence of layers\n",
    "\n",
    "denselayer = Dense(units=1,\n",
    "                input_dim=n_feats,\n",
    "                kernel_initializer='uniform',\n",
    "                activation='sigmoid')\n",
    "\n",
    "model.add(denselayer)"
   ]
  },
  {
   "cell_type": "code",
   "execution_count": 145,
   "metadata": {},
   "outputs": [
    {
     "data": {
      "text/plain": [
       "60000"
      ]
     },
     "execution_count": 145,
     "metadata": {},
     "output_type": "execute_result"
    }
   ],
   "source": [
    "n_samples"
   ]
  },
  {
   "cell_type": "code",
   "execution_count": 146,
   "metadata": {},
   "outputs": [
    {
     "data": {
      "text/plain": [
       "784"
      ]
     },
     "execution_count": 146,
     "metadata": {},
     "output_type": "execute_result"
    }
   ],
   "source": [
    "n_feats"
   ]
  },
  {
   "cell_type": "code",
   "execution_count": 147,
   "metadata": {},
   "outputs": [
    {
     "data": {
      "text/plain": [
       "(10000, 784)"
      ]
     },
     "execution_count": 147,
     "metadata": {},
     "output_type": "execute_result"
    }
   ],
   "source": [
    "X_test.shape"
   ]
  },
  {
   "cell_type": "code",
   "execution_count": 148,
   "metadata": {},
   "outputs": [
    {
     "data": {
      "image/png": "[encoded data removed]",
      "text/plain": [
       "<Figure size 432x288 with 1 Axes>"
      ]
     },
     "metadata": {
      "needs_background": "light"
     },
     "output_type": "display_data"
    }
   ],
   "source": [
    "plt.hist(model.predict(X_test));"
   ]
  },
  {
   "cell_type": "code",
   "execution_count": 149,
   "metadata": {},
   "outputs": [
    {
     "data": {
      "text/plain": [
       "(10000, 1)"
      ]
     },
     "execution_count": 149,
     "metadata": {},
     "output_type": "execute_result"
    }
   ],
   "source": [
    "model.predict(X_test).shape"
   ]
  },
  {
   "cell_type": "raw",
   "metadata": {},
   "source": [
    "it's 10,000 because that is one value per input in X_test. but I the output was uniform but then got crunched into the sigmoid function"
   ]
  },
  {
   "cell_type": "markdown",
   "metadata": {},
   "source": [
    "2. The output of this model is the activation of a single \"neuron\" (aka \"unit\"), as a function of all 784 input pixel features. The output of the neuron is `activation_function( m*x+b )`, where `activation_function` is function specified in the `denselayer` layer, and `m` and `b` are the `.weights` and `.bias` members of the layer. Manually obtain the neuron's weight and bias, and use the pseudocode `activation_function( m*x+b )` to calculate the neuron's response to the first test example `X_test[0]`. "
   ]
  },
  {
   "cell_type": "code",
   "execution_count": 150,
   "metadata": {},
   "outputs": [
    {
     "data": {
      "text/plain": [
       "<function tensorflow.python.keras.activations.sigmoid(x)>"
      ]
     },
     "execution_count": 150,
     "metadata": {},
     "output_type": "execute_result"
    }
   ],
   "source": [
    "model.get_layer(index=0).activation"
   ]
  },
  {
   "cell_type": "code",
   "execution_count": 151,
   "metadata": {},
   "outputs": [
    {
     "data": {
      "text/plain": [
       "<tf.Tensor: id=258791, shape=(1,), dtype=float32, numpy=array([1.2346328e-07], dtype=float32)>"
      ]
     },
     "execution_count": 151,
     "metadata": {},
     "output_type": "execute_result"
    }
   ],
   "source": [
    "model.get_layer(index=0).activation(X_train[0] @ model.get_weights()[0])"
   ]
  },
  {
   "cell_type": "markdown",
   "metadata": {},
   "source": [
    "Now, find the output of a logistic regression model using `m` as the `beta` and `X_test[0]` as `x_i`. How to they compare?"
   ]
  },
  {
   "cell_type": "code",
   "execution_count": 112,
   "metadata": {},
   "outputs": [],
   "source": [
    "def sigma(x):\n",
    "    return 1 / (1 + 1 / np.exp(x))"
   ]
  },
  {
   "cell_type": "code",
   "execution_count": 113,
   "metadata": {},
   "outputs": [
    {
     "name": "stderr",
     "output_type": "stream",
     "text": [
      "/usr/local/lib/python3.5/dist-packages/ipykernel_launcher.py:2: RuntimeWarning: overflow encountered in exp\n",
      "  \n"
     ]
    },
    {
     "data": {
      "text/plain": [
       "array([1.], dtype=float32)"
      ]
     },
     "execution_count": 113,
     "metadata": {},
     "output_type": "execute_result"
    }
   ],
   "source": [
    "sigma(X_train[0] @ model.get_weights()[0])"
   ]
  },
  {
   "cell_type": "raw",
   "metadata": {},
   "source": [
    "they're the same?!!"
   ]
  },
  {
   "cell_type": "markdown",
   "metadata": {},
   "source": [
    "3. The current model can't do multiclass prediction - it can only predict a single thing. Let's use it to predict if an image is a '1'. Create a binary label set `yone_train` and `yone_test` for images that are ones, and then train it like this:\n",
    "\n",
    "```\n",
    "from tensorflow.keras.metrics import Precision, Recall\n",
    "model.compile(loss='binary_crossentropy', optimizer=\"sgd\", metrics=[Precision(), Recall()] ) \n",
    "\n",
    "model.fit(X_train, yone_train, epochs=10, batch_size=5000, verbose=1,\n",
    "              validation_split=0.1)\n",
    "```\n",
    "\n",
    "Take a look at the `weight` and `bias` parameters of the `denselayer`. Have they changed? Now that you've considered the relationship of this neuron to logistic regression, how would you relate training this model to training a logistic regression model? (Consider taking the neuron's `weight` vector, reshaping it into a square, and rendering an image of it.)"
   ]
  },
  {
   "cell_type": "code",
   "execution_count": 54,
   "metadata": {},
   "outputs": [
    {
     "data": {
      "text/plain": [
       "array([False, False, False, ..., False, False, False])"
      ]
     },
     "execution_count": 54,
     "metadata": {},
     "output_type": "execute_result"
    }
   ],
   "source": [
    "y_train==1"
   ]
  },
  {
   "cell_type": "code",
   "execution_count": 56,
   "metadata": {},
   "outputs": [
    {
     "name": "stdout",
     "output_type": "stream",
     "text": [
      "Train on 54000 samples, validate on 6000 samples\n",
      "Epoch 1/10\n",
      "54000/54000 [==============================] - 1s 26us/sample - loss: 0.4115 - precision_2: 0.9465 - recall_2: 0.9524 - val_loss: 0.3400 - val_precision_2: 0.9484 - val_recall_2: 0.9635\n",
      "Epoch 2/10\n",
      "54000/54000 [==============================] - 0s 7us/sample - loss: 0.3887 - precision_2: 0.9459 - recall_2: 0.9547 - val_loss: 0.3216 - val_precision_2: 0.9541 - val_recall_2: 0.9571\n",
      "Epoch 3/10\n",
      "54000/54000 [==============================] - 0s 9us/sample - loss: 0.3658 - precision_2: 0.9470 - recall_2: 0.9532 - val_loss: 0.3028 - val_precision_2: 0.9497 - val_recall_2: 0.9587\n",
      "Epoch 4/10\n",
      "54000/54000 [==============================] - 0s 8us/sample - loss: 0.3465 - precision_2: 0.9461 - recall_2: 0.9542 - val_loss: 0.2903 - val_precision_2: 0.9540 - val_recall_2: 0.9556\n",
      "Epoch 5/10\n",
      "54000/54000 [==============================] - 1s 15us/sample - loss: 0.3317 - precision_2: 0.9471 - recall_2: 0.9521 - val_loss: 0.2746 - val_precision_2: 0.9482 - val_recall_2: 0.9587\n",
      "Epoch 6/10\n",
      "54000/54000 [==============================] - 1s 14us/sample - loss: 0.3137 - precision_2: 0.9482 - recall_2: 0.9545 - val_loss: 0.2651 - val_precision_2: 0.9525 - val_recall_2: 0.9540\n",
      "Epoch 7/10\n",
      "54000/54000 [==============================] - 1s 11us/sample - loss: 0.3035 - precision_2: 0.9481 - recall_2: 0.9540 - val_loss: 0.2555 - val_precision_2: 0.9554 - val_recall_2: 0.9524\n",
      "Epoch 8/10\n",
      "54000/54000 [==============================] - 1s 17us/sample - loss: 0.2854 - precision_2: 0.9473 - recall_2: 0.9537 - val_loss: 0.2541 - val_precision_2: 0.9562 - val_recall_2: 0.9349\n",
      "Epoch 9/10\n",
      "54000/54000 [==============================] - 1s 17us/sample - loss: 0.2816 - precision_2: 0.9469 - recall_2: 0.9512 - val_loss: 0.2364 - val_precision_2: 0.9555 - val_recall_2: 0.9540\n",
      "Epoch 10/10\n",
      "54000/54000 [==============================] - 1s 14us/sample - loss: 0.2635 - precision_2: 0.9477 - recall_2: 0.9539 - val_loss: 0.2280 - val_precision_2: 0.9551 - val_recall_2: 0.9460\n"
     ]
    },
    {
     "data": {
      "text/plain": [
       "<tensorflow.python.keras.callbacks.History at 0x7f3b184e5198>"
      ]
     },
     "execution_count": 56,
     "metadata": {},
     "output_type": "execute_result"
    }
   ],
   "source": [
    "yone_train = y_train==1\n",
    "yone_test = y_test==1\n",
    "\n",
    "from tensorflow.keras.metrics import Precision, Recall\n",
    "model.compile(loss='binary_crossentropy', optimizer=\"sgd\", metrics=[Precision(), Recall()] ) \n",
    "\n",
    "model.fit(X_train, yone_train, epochs=10, batch_size=5000, verbose=1,\n",
    "              validation_split=0.1)"
   ]
  },
  {
   "cell_type": "markdown",
   "metadata": {},
   "source": [
    "### Logistic regression in parallel\n",
    "\n",
    "Keras allows us to perform logistic regression _in parallel_ for a large number of target classes:\n",
    "\n",
    "```python\n",
    "np.random.seed(42)\n",
    "\n",
    "n_samples, n_feats = X_train.shape\n",
    "\n",
    "model = Sequential() # sequence of layers\n",
    "\n",
    "denselayer = Dense(units=10,\n",
    "                input_dim=n_feats,\n",
    "                kernel_initializer='uniform',\n",
    "                activation='sigmoid')\n",
    "\n",
    "model.add(denselayer)\n",
    "\n",
    "model.compile(loss='categorical_crossentropy', \n",
    "              optimizer=\"sgd\", metrics=[\"accuracy\"] )\n",
    "```\n",
    "\n",
    "1. Compile and train this model. What test accuracy does it converge to? Is it good or bad?"
   ]
  },
  {
   "cell_type": "code",
   "execution_count": 154,
   "metadata": {},
   "outputs": [
    {
     "name": "stdout",
     "output_type": "stream",
     "text": [
      "Train on 54000 samples, validate on 6000 samples\n",
      "Epoch 1/10\n",
      "54000/54000 [==============================] - 2s 35us/sample - loss: 4.3623 - accuracy: 0.1815 - val_loss: 3.5668 - val_accuracy: 0.1812\n",
      "Epoch 2/10\n",
      "54000/54000 [==============================] - 1s 23us/sample - loss: 2.7195 - accuracy: 0.1843 - val_loss: 2.2735 - val_accuracy: 0.1838\n",
      "Epoch 3/10\n",
      "54000/54000 [==============================] - 1s 25us/sample - loss: 2.2984 - accuracy: 0.1871 - val_loss: 2.2410 - val_accuracy: 0.1863\n",
      "Epoch 4/10\n",
      "54000/54000 [==============================] - 1s 24us/sample - loss: 2.2743 - accuracy: 0.1908 - val_loss: 2.2223 - val_accuracy: 0.1892\n",
      "Epoch 5/10\n",
      "54000/54000 [==============================] - 1s 22us/sample - loss: 2.2582 - accuracy: 0.1962 - val_loss: 2.2106 - val_accuracy: 0.1967\n",
      "Epoch 6/10\n",
      "54000/54000 [==============================] - 1s 26us/sample - loss: 2.2443 - accuracy: 0.2017 - val_loss: 2.1993 - val_accuracy: 0.2015\n",
      "Epoch 7/10\n",
      "54000/54000 [==============================] - 3s 54us/sample - loss: 2.2310 - accuracy: 0.2086 - val_loss: 2.1877 - val_accuracy: 0.2078\n",
      "Epoch 8/10\n",
      "54000/54000 [==============================] - 2s 29us/sample - loss: 2.2179 - accuracy: 0.2147 - val_loss: 2.1760 - val_accuracy: 0.2117\n",
      "Epoch 9/10\n",
      "54000/54000 [==============================] - 2s 28us/sample - loss: 2.2050 - accuracy: 0.2191 - val_loss: 2.1635 - val_accuracy: 0.2168\n",
      "Epoch 10/10\n",
      "54000/54000 [==============================] - 2s 33us/sample - loss: 2.1911 - accuracy: 0.2244 - val_loss: 2.1522 - val_accuracy: 0.2223\n"
     ]
    },
    {
     "data": {
      "text/plain": [
       "<tensorflow.python.keras.callbacks.History at 0x7f3ac1f3e908>"
      ]
     },
     "execution_count": 154,
     "metadata": {},
     "output_type": "execute_result"
    }
   ],
   "source": [
    "np.random.seed(42)\n",
    "\n",
    "n_samples, n_feats = X_train.shape\n",
    "\n",
    "model = Sequential() # sequence of layers\n",
    "\n",
    "denselayer = Dense(units=10,\n",
    "                input_dim=n_feats,\n",
    "                kernel_initializer='uniform',\n",
    "                activation='sigmoid')\n",
    "\n",
    "model.add(denselayer)\n",
    "\n",
    "model.compile(loss='categorical_crossentropy', \n",
    "              optimizer=\"sgd\", metrics=[\"accuracy\"] )\n",
    "from tensorflow.keras.utils import to_categorical\n",
    "model.fit(X_train, to_categorical(y_train), epochs=10, batch_size=5000, verbose=1,\n",
    "              validation_split=0.1)"
   ]
  },
  {
   "cell_type": "code",
   "execution_count": 156,
   "metadata": {},
   "outputs": [
    {
     "data": {
      "text/plain": [
       "array([0.987779  , 1.        , 0.9999999 , 1.        , 0.02766117,\n",
       "       1.        , 0.        , 1.        , 0.7899191 , 1.        ],\n",
       "      dtype=float32)"
      ]
     },
     "execution_count": 156,
     "metadata": {},
     "output_type": "execute_result"
    }
   ],
   "source": [
    "model.predict(X_test)[0]"
   ]
  },
  {
   "cell_type": "code",
   "execution_count": 157,
   "metadata": {},
   "outputs": [
    {
     "data": {
      "text/plain": [
       "7"
      ]
     },
     "execution_count": 157,
     "metadata": {},
     "output_type": "execute_result"
    }
   ],
   "source": [
    "y_test[0]"
   ]
  },
  {
   "cell_type": "markdown",
   "metadata": {},
   "source": [
    "2. Use the model to find a probabilistic prediction on any item in `X_test`. What is the _sum of probabilities_ for every predicted class?\n",
    "\n",
    "You'll notice the predictions are hot garbage (with an accuracy around 20%), and that the class probabilities for every class sum to more than 1.0.\n",
    "\n",
    "One solution is to apply a function to the neuron outputs that normalizes the vector such that it's constrained to add up to 1.0, and then on a loss from _that_ function."
   ]
  },
  {
   "cell_type": "code",
   "execution_count": 67,
   "metadata": {},
   "outputs": [
    {
     "data": {
      "text/plain": [
       "array([7545.1807, 5831.2075, 9792.941 , 9143.842 , 8151.522 , 9894.979 ,\n",
       "       9627.504 , 9207.542 , 9920.99  , 8872.526 ], dtype=float32)"
      ]
     },
     "execution_count": 67,
     "metadata": {},
     "output_type": "execute_result"
    }
   ],
   "source": [
    "model.predict(X_test).sum(axis=0)"
   ]
  },
  {
   "cell_type": "code",
   "execution_count": 62,
   "metadata": {},
   "outputs": [
    {
     "data": {
      "text/plain": [
       "array([[1.0000000e+00, 0.0000000e+00, 1.0000000e+00, ..., 1.0000000e+00,\n",
       "        1.0000000e+00, 9.9999970e-01],\n",
       "       [9.9732888e-01, 1.0000000e+00, 1.0000000e+00, ..., 6.1809540e-01,\n",
       "        1.0000000e+00, 1.0000000e+00],\n",
       "       [1.0000000e+00, 1.0000000e+00, 1.0000000e+00, ..., 8.6814165e-05,\n",
       "        2.3722827e-02, 1.0000000e+00],\n",
       "       ...,\n",
       "       [1.0000000e+00, 0.0000000e+00, 1.0000000e+00, ..., 1.0000000e+00,\n",
       "        1.0000000e+00, 1.0000000e+00],\n",
       "       [0.0000000e+00, 1.0000000e+00, 1.0000000e+00, ..., 1.0000000e+00,\n",
       "        1.0000000e+00, 1.0000000e+00],\n",
       "       [1.0000000e+00, 4.7272712e-02, 1.0000000e+00, ..., 9.9999988e-01,\n",
       "        1.0000000e+00, 1.0000000e+00]], dtype=float32)"
      ]
     },
     "execution_count": 62,
     "metadata": {},
     "output_type": "execute_result"
    }
   ],
   "source": [
    "model.predict(X_test)"
   ]
  },
  {
   "cell_type": "markdown",
   "metadata": {},
   "source": [
    "3. Change the `activation` argument to \"softmax\", and retrain the model. What is the test accuracy? What is the sum of classification probabilities for all classes, for a single prediction?"
   ]
  },
  {
   "cell_type": "code",
   "execution_count": 76,
   "metadata": {},
   "outputs": [
    {
     "name": "stdout",
     "output_type": "stream",
     "text": [
      "Train on 54000 samples, validate on 6000 samples\n",
      "Epoch 1/10\n",
      "54000/54000 [==============================] - 1s 20us/sample - loss: 153.7726 - accuracy: 0.4230 - val_loss: 44.7059 - val_accuracy: 0.7160\n",
      "Epoch 2/10\n",
      "54000/54000 [==============================] - 1s 14us/sample - loss: 27.2652 - accuracy: 0.7653 - val_loss: 59.4212 - val_accuracy: 0.7413\n",
      "Epoch 3/10\n",
      "54000/54000 [==============================] - 1s 14us/sample - loss: 21.8269 - accuracy: 0.8121 - val_loss: 27.9500 - val_accuracy: 0.8032\n",
      "Epoch 4/10\n",
      "54000/54000 [==============================] - 1s 14us/sample - loss: 22.1566 - accuracy: 0.7858 - val_loss: 11.4100 - val_accuracy: 0.8588\n",
      "Epoch 5/10\n",
      "54000/54000 [==============================] - 1s 14us/sample - loss: 10.2670 - accuracy: 0.8648 - val_loss: 6.4511 - val_accuracy: 0.9008\n",
      "Epoch 6/10\n",
      "54000/54000 [==============================] - 1s 15us/sample - loss: 9.0593 - accuracy: 0.8696 - val_loss: 16.9906 - val_accuracy: 0.7938\n",
      "Epoch 7/10\n",
      "54000/54000 [==============================] - 1s 19us/sample - loss: 18.2243 - accuracy: 0.8241 - val_loss: 6.4388 - val_accuracy: 0.8977\n",
      "Epoch 8/10\n",
      "54000/54000 [==============================] - 1s 22us/sample - loss: 22.5004 - accuracy: 0.7911 - val_loss: 18.8705 - val_accuracy: 0.8357\n",
      "Epoch 9/10\n",
      "54000/54000 [==============================] - 1s 21us/sample - loss: 9.1741 - accuracy: 0.8800 - val_loss: 5.5922 - val_accuracy: 0.9118\n",
      "Epoch 10/10\n",
      "54000/54000 [==============================] - 1s 15us/sample - loss: 12.9840 - accuracy: 0.8515 - val_loss: 24.3765 - val_accuracy: 0.7357\n"
     ]
    },
    {
     "data": {
      "text/plain": [
       "<tensorflow.python.keras.callbacks.History at 0x7f3ae38ed8d0>"
      ]
     },
     "execution_count": 76,
     "metadata": {},
     "output_type": "execute_result"
    }
   ],
   "source": [
    "np.random.seed(42)\n",
    "\n",
    "n_samples, n_feats = X_train.shape\n",
    "\n",
    "model = Sequential() # sequence of layers\n",
    "\n",
    "denselayer = Dense(units=10,\n",
    "                input_dim=n_feats,\n",
    "                kernel_initializer='uniform',\n",
    "                activation='softmax')\n",
    "\n",
    "model.add(denselayer)\n",
    "\n",
    "model.compile(loss='categorical_crossentropy', optimizer=\"sgd\", metrics=[\"accuracy\"] )\n",
    "from tensorflow.keras.utils import to_categorical\n",
    "model.fit(X_train, to_categorical(y_train), epochs=10, batch_size=5000, verbose=1,\n",
    "              validation_split=0.1)"
   ]
  },
  {
   "cell_type": "markdown",
   "metadata": {},
   "source": [
    "Extra credit: train with a large `batch` argument in `.fit`, and make pictures of the unit weights reshaped into 28x28 images."
   ]
  },
  {
   "cell_type": "code",
   "execution_count": null,
   "metadata": {},
   "outputs": [],
   "source": []
  },
  {
   "cell_type": "markdown",
   "metadata": {},
   "source": [
    "### Perceptrons: logistic regression with hidden features\n",
    "\n",
    "A perceptron is an architecture whereby an input is classified into a number of features; features that are actually unknown when model training begins. Then, logistic regression (or softmax regression) using the _hidden features_ as inputs is used to find the final class probabilities. This architecture is called a \"perceptron\", \"multiplayer perceptron\", or \"MLP\". Here's how to define an MLP with 300 neurons in one hidden layer, using Keras:\n",
    "\n",
    "```python\n",
    "np.random.seed(42)\n",
    "\n",
    "n_samples, n_feats = X_train.shape\n",
    "\n",
    "model = Sequential() # sequence of layers\n",
    "\n",
    "hidden_units = 300\n",
    "n_classes = 10\n",
    "\n",
    "hidden_layer = Dense(units=hidden_units,\n",
    "                input_dim=n_feats,\n",
    "                kernel_initializer='constant',\n",
    "                activation='sigmoid')\n",
    "\n",
    "output_layer = Dense(units=n_classes,\n",
    "                input_dim=hidden_units,\n",
    "                kernel_initializer='uniform',\n",
    "                activation='softmax')\n",
    "\n",
    "model.add(hidden_layer)\n",
    "model.add(output_layer)\n",
    "```\n",
    "\n",
    "1. Compile and train this model on the MNIST dataset. The 'adam' optimizer tends to do well. What kind of accuracy do you get? "
   ]
  },
  {
   "cell_type": "code",
   "execution_count": 79,
   "metadata": {},
   "outputs": [
    {
     "name": "stdout",
     "output_type": "stream",
     "text": [
      "60000/60000 [==============================] - 39s 648us/sample - loss: 0.4423 - accuracy: 0.8844\n"
     ]
    },
    {
     "data": {
      "text/plain": [
       "<tensorflow.python.keras.callbacks.History at 0x7f3ada989c50>"
      ]
     },
     "execution_count": 79,
     "metadata": {},
     "output_type": "execute_result"
    }
   ],
   "source": [
    "np.random.seed(42)\n",
    "\n",
    "n_samples, n_feats = X_train.shape\n",
    "\n",
    "model = Sequential() # sequence of layers\n",
    "\n",
    "hidden_units = 300\n",
    "n_classes = 10\n",
    "\n",
    "hidden_layer = Dense(units=hidden_units,\n",
    "                input_dim=n_feats,\n",
    "                kernel_initializer='constant',\n",
    "                activation='sigmoid')\n",
    "\n",
    "output_layer = Dense(units=n_classes,\n",
    "                input_dim=hidden_units,\n",
    "                kernel_initializer='uniform',\n",
    "                activation='softmax')\n",
    "\n",
    "model.add(hidden_layer)\n",
    "model.add(output_layer)\n",
    "model.compile(loss='categorical_crossentropy', optimizer=\"adam\", metrics=[\"accuracy\"])\n",
    "model.fit(X_train, to_categorical(y_train))"
   ]
  },
  {
   "cell_type": "markdown",
   "metadata": {},
   "source": [
    "2. Vary the hyperparameters. Choose differnet activations, kernal initializers, hidden units, optimizers, and optimizer parameters. To access optimizer parameters, instantiate optimizer objects from `tensorflow.keras.optimizers`. Can you get a better accuracy than 94%?\n",
    "\n",
    "This task might feel a little like looking for a needle in a haystack.  Perhaps you can think of an automated approach instead of a manual brute force search? (but with some intuition the brute force search will get you there, too.)  Keras has a [wrapper](https://keras.io/scikit-learn-api/) for the scikit-learn API where you can interface with GridSearch.  See this [blog post.](https://machinelearningmastery.com/grid-search-hyperparameters-deep-learning-models-python-keras/)"
   ]
  },
  {
   "cell_type": "code",
   "execution_count": 119,
   "metadata": {},
   "outputs": [
    {
     "name": "stdout",
     "output_type": "stream",
     "text": [
      "Epoch 1/10\n",
      "60000/60000 [==============================] - 24s 394us/sample - loss: 0.4247 - accuracy: 0.8879\n",
      "Epoch 2/10\n",
      "60000/60000 [==============================] - 21s 344us/sample - loss: 0.3122 - accuracy: 0.9115\n",
      "Epoch 3/10\n",
      "60000/60000 [==============================] - 19s 316us/sample - loss: 0.2891 - accuracy: 0.9160\n",
      "Epoch 4/10\n",
      "60000/60000 [==============================] - 19s 317us/sample - loss: 0.2652 - accuracy: 0.9207\n",
      "Epoch 5/10\n",
      "60000/60000 [==============================] - 24s 398us/sample - loss: 0.2494 - accuracy: 0.9236\n",
      "Epoch 6/10\n",
      "60000/60000 [==============================] - 47s 785us/sample - loss: 0.2457 - accuracy: 0.9252\n",
      "Epoch 7/10\n",
      "60000/60000 [==============================] - 54s 902us/sample - loss: 0.2348 - accuracy: 0.9287\n",
      "Epoch 8/10\n",
      "60000/60000 [==============================] - 30s 495us/sample - loss: 0.2307 - accuracy: 0.9304\n",
      "Epoch 9/10\n",
      "60000/60000 [==============================] - 34s 574us/sample - loss: 0.2242 - accuracy: 0.9323\n",
      "Epoch 10/10\n",
      "60000/60000 [==============================] - 35s 588us/sample - loss: 0.2188 - accuracy: 0.9334\n"
     ]
    },
    {
     "data": {
      "text/plain": [
       "<tensorflow.python.keras.callbacks.History at 0x7f3ac6cb5160>"
      ]
     },
     "execution_count": 119,
     "metadata": {},
     "output_type": "execute_result"
    }
   ],
   "source": [
    "np.random.seed(42)\n",
    "\n",
    "n_samples, n_feats = X_train.shape\n",
    "\n",
    "model = Sequential() # sequence of layers\n",
    "\n",
    "hidden_units = 300\n",
    "n_classes = 10\n",
    "\n",
    "hidden_layer = Dense(units=hidden_units,\n",
    "                input_dim=n_feats,\n",
    "                kernel_initializer='constant',\n",
    "                activation='sigmoid')\n",
    "\n",
    "output_layer = Dense(units=n_classes,\n",
    "                input_dim=hidden_units,\n",
    "                kernel_initializer='uniform',\n",
    "                activation='softmax')\n",
    "\n",
    "model.add(hidden_layer)\n",
    "# model.add(Dense(units=hidden_units,\n",
    "#                 input_dim=hidden_units,\n",
    "#                 kernel_initializer='uniform',\n",
    "#                 activation='softmax'))\n",
    "model.add(output_layer)\n",
    "model.compile(loss='categorical_crossentropy', optimizer=\"adam\", metrics=[\"accuracy\"])\n",
    "model.fit(X_train, to_categorical(y_train), epochs=10, batch=)"
   ]
  },
  {
   "cell_type": "markdown",
   "metadata": {},
   "source": [
    "3. When you have a very good accuracy, make a picture of the weights associated with the hidden layers.\n",
    "\n",
    "Hint: do this, \n",
    "```python\n",
    "hidden_unit_i = 0\n",
    "plt.imshow(hidden_layer.weights[0].numpy()[:,hidden_unit_i].reshape(28,28))\n",
    "```\n",
    "\n",
    "Speculate on what this might mean."
   ]
  },
  {
   "cell_type": "code",
   "execution_count": 120,
   "metadata": {},
   "outputs": [
    {
     "data": {
      "text/plain": [
       "<matplotlib.image.AxesImage at 0x7f3ac30b1e80>"
      ]
     },
     "execution_count": 120,
     "metadata": {},
     "output_type": "execute_result"
    },
    {
     "data": {
      "image/png": "[encoded data removed]",
      "text/plain": [
       "<Figure size 432x288 with 1 Axes>"
      ]
     },
     "metadata": {
      "needs_background": "light"
     },
     "output_type": "display_data"
    }
   ],
   "source": [
    "hidden_unit_i = 0\n",
    "plt.imshow(hidden_layer.weights[0].numpy()[:,hidden_unit_i].reshape(28,28))"
   ]
  },
  {
   "cell_type": "markdown",
   "metadata": {},
   "source": [
    "## Installation for PCs with NVIDIA GPUs that wish to use the GPU to speed up training.  \n",
    "\n",
    "1) Go [here](https://github.com/NVIDIA/nvidia-docker) and follow the directions to install `nvidia-docker`."
   ]
  },
  {
   "cell_type": "code",
   "execution_count": null,
   "metadata": {},
   "outputs": [],
   "source": []
  },
  {
   "cell_type": "markdown",
   "metadata": {},
   "source": [
    "2) Check that it works:  \n",
    "   ```bash\n",
    "   $ docker run --gpus all nvidia/cuda:9.0-base nvidia-smi\n",
    "   ```"
   ]
  },
  {
   "cell_type": "code",
   "execution_count": null,
   "metadata": {},
   "outputs": [],
   "source": []
  },
  {
   "cell_type": "markdown",
   "metadata": {},
   "source": [
    "3) Download an image, make a container and a volume:\n",
    "   ```\n",
    "   $ cd ~\n",
    "   $ docker run --gpus all -it --name tensorflow-gpu -p 8888:8888 -v \"$PWD\":/tf tensorflow/tensorflow:latest-gpu-py3-jupyter\n",
    "   ```\n",
    "\n",
    "As discussed in Part I, you can work with the container in a Jupyter notebook or from terminal."
   ]
  },
  {
   "cell_type": "code",
   "execution_count": null,
   "metadata": {},
   "outputs": [],
   "source": []
  }
 ],
 "metadata": {
  "kernelspec": {
   "display_name": "Python 3",
   "language": "python",
   "name": "python3"
  },
  "language_info": {
   "codemirror_mode": {
    "name": "ipython",
    "version": 3
   },
   "file_extension": ".py",
   "mimetype": "text/x-python",
   "name": "python",
   "nbconvert_exporter": "python",
   "pygments_lexer": "ipython3",
   "version": "3.5.2"
  }
 },
 "nbformat": 4,
 "nbformat_minor": 2
}
