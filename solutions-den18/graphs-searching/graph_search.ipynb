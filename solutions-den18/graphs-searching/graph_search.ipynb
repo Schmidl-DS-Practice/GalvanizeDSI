{
 "cells": [
  {
   "cell_type": "markdown",
   "metadata": {},
   "source": [
    "# Breadth First Search (BFS) Algorithm\n",
    "\n",
    "\n",
    "### Load the IMDb dataset\n",
    "\n",
    "Let's begin by loading and viewing (part of) the dataset to get a feel for what we have."
   ]
  },
  {
   "cell_type": "code",
   "execution_count": 1,
   "metadata": {},
   "outputs": [],
   "source": [
    "from src.load_imdb_data import load_imdb_data"
   ]
  },
  {
   "cell_type": "code",
   "execution_count": 2,
   "metadata": {},
   "outputs": [
    {
     "name": "stdout",
     "output_type": "stream",
     "text": [
      "Julia Roberts was in:\n",
      "{'Closer', 'Eat Pray Love', 'Mirror Mirror', 'August: Osage County', 'Love, Wedding, Marriage', \"Charlotte's Web\", 'Larry Crowne', \"Charlie Wilson's War\", 'Grand Champion', 'The Ant Bully', 'Duplicity', \"Valentine's Day\", \"Ocean's Twelve\"} \n",
      "\n",
      "The Incredibles employed:\n",
      "{'Craig T. Nelson', 'Eli Fucile', 'Bud Luckey', 'Kimberly Adair Clark', 'Bret Parker', 'Holly Hunter', 'Samuel L. Jackson', 'Elizabeth Pe?a', 'Michael Bird', 'Jason Lee', 'John Ratzenberger', 'Wallace Shawn', 'Maeve Andrews', 'Brad Bird', 'Sarah Vowell', 'Jean Sincere', 'Spencer Fox'} \n",
      "\n",
      "len(actors) = 81289 \n",
      "\n",
      "len(movies) = 16753 \n",
      "\n"
     ]
    }
   ],
   "source": [
    "actors, movies = load_imdb_data('data/imdb_edges.tsv')\n",
    "\n",
    "print('Julia Roberts was in:')\n",
    "print(actors['Julia Roberts'], '\\n')\n",
    "print('The Incredibles employed:')\n",
    "print(movies['The Incredibles'], '\\n')\n",
    "\n",
    "print(\"len(actors) =\", len(actors), '\\n')\n",
    "print(\"len(movies) =\", len(movies), '\\n')"
   ]
  },
  {
   "cell_type": "markdown",
   "metadata": {},
   "source": [
    "### Overview of dataset\n",
    "\n",
    "The `actors` dictionary has actor names as keys, and each value is a set of movies an actor was in.\n",
    "\n",
    "The `movies` dictionary has movie names as keys, and each value is a set of actors a movie employeed."
   ]
  },
  {
   "cell_type": "markdown",
   "metadata": {},
   "source": [
    "### Compute Shortest Paths via BFS\n",
    "\n",
    "Now we'll find shortest paths between pairs of actors. We've implemented the BFS algorithm in `src/shortest_path.py`, so we'll import it below.\n",
    "\n",
    "**Note:** We can only use BFS to find shortest paths if the graph is _unweighted_. Our IMDb graph is unweighted, so we're all good. (We'll talk about how to compute shortest paths in _weighted_ graphs during _Extra Credit 2_.)"
   ]
  },
  {
   "cell_type": "code",
   "execution_count": 3,
   "metadata": {},
   "outputs": [],
   "source": [
    "from src.shortest_path import shortest_path, print_path"
   ]
  },
  {
   "cell_type": "code",
   "execution_count": 4,
   "metadata": {},
   "outputs": [
    {
     "name": "stdout",
     "output_type": "stream",
     "text": [
      "length: 2.0\n",
      "    Kevin Bacon\n",
      "R.I.P.D.\n",
      "    Mike O'Malley\n",
      "Eat Pray Love\n",
      "    Julia Roberts\n"
     ]
    }
   ],
   "source": [
    "path = shortest_path(actors, movies, 'Kevin Bacon', 'Julia Roberts')\n",
    "print_path(path)"
   ]
  },
  {
   "cell_type": "code",
   "execution_count": 5,
   "metadata": {},
   "outputs": [
    {
     "name": "stdout",
     "output_type": "stream",
     "text": [
      "length: 1.0\n",
      "    Kevin Bacon\n",
      "Crazy, Stupid, Love.\n",
      "    Steve Carell\n"
     ]
    }
   ],
   "source": [
    "path = shortest_path(actors, movies, 'Kevin Bacon', 'Steve Carell')\n",
    "print_path(path)"
   ]
  },
  {
   "cell_type": "code",
   "execution_count": 6,
   "metadata": {},
   "outputs": [
    {
     "name": "stdout",
     "output_type": "stream",
     "text": [
      "length: 3.5\n",
      "    Kevin Bacon\n",
      "The Woodsman\n",
      "    Eve\n",
      "Olivia Thirlby\n",
      "    No Strings Attached\n",
      "Tom Tangen\n",
      "    Pooltime\n",
      "Matthew Sordello\n"
     ]
    }
   ],
   "source": [
    "path = shortest_path(actors, movies, 'Kevin Bacon', 'Matthew Sordello')\n",
    "print_path(path)"
   ]
  },
  {
   "cell_type": "code",
   "execution_count": 7,
   "metadata": {},
   "outputs": [
    {
     "name": "stdout",
     "output_type": "stream",
     "text": [
      "length: 7.0\n",
      "    Kevin Bacon\n",
      "Going to Pieces: The Rise and Fall of the Slasher Film\n",
      "    Tom Savini\n",
      "Sea of Dust\n",
      "    Suzi Lorraine\n",
      "Day of the Ax\n",
      "    Janet Robbins\n",
      "House of Carnage\n",
      "    Darla Enlow\n",
      "The Stitcher\n",
      "    Heather Surdukan\n",
      "Salvation\n",
      "    Glen Jensen\n",
      "Denizen\n",
      "    Jody Mullins\n"
     ]
    }
   ],
   "source": [
    "path = shortest_path(actors, movies, 'Kevin Bacon', 'Jody Mullins')\n",
    "print_path(path)"
   ]
  },
  {
   "cell_type": "markdown",
   "metadata": {},
   "source": [
    "### Extra Credit 1: Get all the paths\n",
    "\n",
    "It's possible (err, likely) that there will be many paths of equal length between two actors. So, it's possible that there are many _shortest paths_ between actors.\n",
    "\n",
    "We can find _all_ shortest paths between actors by modifying our BFS algorithm to keep track of more info -- i.e. we'll modify our BFS algorithm to keep track of all possible paths of equal length from the source actor to each other actor.\n",
    "\n",
    "There are two key differences in this new algorithm:\n",
    "1. We don't stop when we find the destination. Instead we keep going because we might later find _more ways_ to get to the destination.\n",
    "2. Say we've previously found k ways of reaching node $p$. Now, if we find that we can reach node $n$ from node $p$, we've actually found k new ways of reaching node $n$, so we'll record all those.\n",
    "\n",
    "We've implemented such an algorithm inside `src/shortest_path.py`, so we'll import it now."
   ]
  },
  {
   "cell_type": "code",
   "execution_count": 8,
   "metadata": {},
   "outputs": [],
   "source": [
    "from src.shortest_path import shortest_paths"
   ]
  },
  {
   "cell_type": "code",
   "execution_count": 9,
   "metadata": {},
   "outputs": [
    {
     "name": "stdout",
     "output_type": "stream",
     "text": [
      "Found 7 shortest paths.\n",
      "\n",
      "length: 2.0\n",
      "    Kevin Bacon\n",
      "R.I.P.D.\n",
      "    Mike O'Malley\n",
      "Eat Pray Love\n",
      "    Julia Roberts\n",
      "\n",
      "length: 2.0\n",
      "    Kevin Bacon\n",
      "Beyond All Boundaries\n",
      "    Viola Davis\n",
      "Eat Pray Love\n",
      "    Julia Roberts\n",
      "\n",
      "length: 2.0\n",
      "    Kevin Bacon\n",
      "8\n",
      "    Brad Pitt\n",
      "Ocean's Twelve\n",
      "    Julia Roberts\n",
      "\n",
      "length: 2.0\n",
      "    Kevin Bacon\n",
      "Beyond All Boundaries\n",
      "    Brad Pitt\n",
      "Ocean's Twelve\n",
      "    Julia Roberts\n",
      "\n",
      "length: 2.0\n",
      "    Kevin Bacon\n",
      "8\n",
      "    George Clooney\n",
      "Ocean's Twelve\n",
      "    Julia Roberts\n",
      "\n",
      "length: 2.0\n",
      "    Kevin Bacon\n",
      "Beyond All Boundaries\n",
      "    Tom Hanks\n",
      "Larry Crowne\n",
      "    Julia Roberts\n",
      "\n",
      "length: 2.0\n",
      "    Kevin Bacon\n",
      "Beyond All Boundaries\n",
      "    Tom Hanks\n",
      "Charlie Wilson's War\n",
      "    Julia Roberts\n",
      "\n"
     ]
    }
   ],
   "source": [
    "paths = shortest_paths(actors, movies, 'Kevin Bacon', 'Julia Roberts')\n",
    "\n",
    "print(\"Found {} shortest paths.\\n\".format(len(paths)))\n",
    "\n",
    "for path in paths:\n",
    "    print_path(path)\n",
    "    print()"
   ]
  },
  {
   "cell_type": "markdown",
   "metadata": {},
   "source": [
    "### Extra Credit 2: Dijkstra's shortest path algorithm\n",
    "\n",
    "Dijkstra's algorithm finds shortest paths in _weighted_ graphs. (By the way, there is still one restriction: All weights must be non-negative.)\n",
    "\n",
    "Dijkstra's algorithm is much like BFS, except that we replace the queue with a _priority queue_.\n",
    "\n",
    "Dijkstra's algorithm is implemented in `src/graph.py`. Let's import and use it."
   ]
  },
  {
   "cell_type": "code",
   "execution_count": 10,
   "metadata": {},
   "outputs": [],
   "source": [
    "from src.graph import create_graph, dijkstra"
   ]
  },
  {
   "cell_type": "code",
   "execution_count": 11,
   "metadata": {},
   "outputs": [
    {
     "name": "stdout",
     "output_type": "stream",
     "text": [
      "Distance 13\n",
      "['Sunset', 'Richmond', 'Presidio', 'Marina', 'Russian Hill', 'North Beach']\n"
     ]
    }
   ],
   "source": [
    "graph = create_graph()\n",
    "\n",
    "path_dist, path = dijkstra(graph, 'Sunset', 'North Beach')\n",
    "\n",
    "print('Distance', path_dist)\n",
    "print(path)"
   ]
  },
  {
   "cell_type": "code",
   "execution_count": null,
   "metadata": {},
   "outputs": [],
   "source": []
  }
 ],
 "metadata": {
  "kernelspec": {
   "display_name": "Python 3",
   "language": "python",
   "name": "python3"
  },
  "language_info": {
   "codemirror_mode": {
    "name": "ipython",
    "version": 3
   },
   "file_extension": ".py",
   "mimetype": "text/x-python",
   "name": "python",
   "nbconvert_exporter": "python",
   "pygments_lexer": "ipython3",
   "version": "3.7.1"
  }
 },
 "nbformat": 4,
 "nbformat_minor": 1
}
