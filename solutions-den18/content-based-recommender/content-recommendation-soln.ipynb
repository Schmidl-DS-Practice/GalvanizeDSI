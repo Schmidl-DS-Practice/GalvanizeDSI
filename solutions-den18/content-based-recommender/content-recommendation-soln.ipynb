{
 "cells": [
  {
   "cell_type": "code",
   "execution_count": 2,
   "metadata": {},
   "outputs": [],
   "source": [
    "import pandas as pd\n",
    "from rake_nltk import Rake\n",
    "import numpy as np\n",
    "from sklearn.metrics.pairwise import cosine_similarity\n",
    "from sklearn.feature_extraction.text import CountVectorizer, TfidfVectorizer\n",
    "\n",
    "from src.item_recommender import ItemRecommender\n",
    "\n",
    "import re"
   ]
  },
  {
   "cell_type": "markdown",
   "metadata": {},
   "source": [
    "## Part 1\n",
    "\n",
    "Load the pickle file and set the index to the title, create a bag of words representataion and get predictions"
   ]
  },
  {
   "cell_type": "code",
   "execution_count": 3,
   "metadata": {},
   "outputs": [
    {
     "data": {
      "text/html": [
       "<div>\n",
       "<style scoped>\n",
       "    .dataframe tbody tr th:only-of-type {\n",
       "        vertical-align: middle;\n",
       "    }\n",
       "\n",
       "    .dataframe tbody tr th {\n",
       "        vertical-align: top;\n",
       "    }\n",
       "\n",
       "    .dataframe thead th {\n",
       "        text-align: right;\n",
       "    }\n",
       "</style>\n",
       "<table border=\"1\" class=\"dataframe\">\n",
       "  <thead>\n",
       "    <tr style=\"text-align: right;\">\n",
       "      <th></th>\n",
       "      <th>Title</th>\n",
       "      <th>Genre</th>\n",
       "      <th>Director</th>\n",
       "      <th>Actors</th>\n",
       "      <th>Key_words</th>\n",
       "    </tr>\n",
       "  </thead>\n",
       "  <tbody>\n",
       "    <tr>\n",
       "      <th>0</th>\n",
       "      <td>The Shawshank Redemption</td>\n",
       "      <td>[crime,  drama]</td>\n",
       "      <td>frankdarabont</td>\n",
       "      <td>[timrobbins, morganfreeman, bobgunton]</td>\n",
       "      <td>[common, decency, finding, solace, number, two...</td>\n",
       "    </tr>\n",
       "    <tr>\n",
       "      <th>1</th>\n",
       "      <td>The Godfather</td>\n",
       "      <td>[crime,  drama]</td>\n",
       "      <td>francisfordcoppola</td>\n",
       "      <td>[marlonbrando, alpacino, jamescaan]</td>\n",
       "      <td>[reluctant, son, aging, patriarch, clandestine...</td>\n",
       "    </tr>\n",
       "    <tr>\n",
       "      <th>2</th>\n",
       "      <td>The Godfather: Part II</td>\n",
       "      <td>[crime,  drama]</td>\n",
       "      <td>francisfordcoppola</td>\n",
       "      <td>[alpacino, robertduvall, dianekeaton]</td>\n",
       "      <td>[grip, portrayed, career, tightens, son, vito,...</td>\n",
       "    </tr>\n",
       "    <tr>\n",
       "      <th>3</th>\n",
       "      <td>The Dark Knight</td>\n",
       "      <td>[action,  crime,  drama]</td>\n",
       "      <td>christophernolan</td>\n",
       "      <td>[christianbale, heathledger, aaroneckhart]</td>\n",
       "      <td>[ability, dark, knight, must, accept, one, fig...</td>\n",
       "    </tr>\n",
       "    <tr>\n",
       "      <th>4</th>\n",
       "      <td>12 Angry Men</td>\n",
       "      <td>[crime,  drama]</td>\n",
       "      <td>sidneylumet</td>\n",
       "      <td>[martinbalsam, johnfiedler, leej.cobb]</td>\n",
       "      <td>[evidence, colleagues, forcing, reconsider, ju...</td>\n",
       "    </tr>\n",
       "  </tbody>\n",
       "</table>\n",
       "</div>"
      ],
      "text/plain": [
       "                      Title                     Genre            Director  \\\n",
       "0  The Shawshank Redemption           [crime,  drama]       frankdarabont   \n",
       "1             The Godfather           [crime,  drama]  francisfordcoppola   \n",
       "2    The Godfather: Part II           [crime,  drama]  francisfordcoppola   \n",
       "3           The Dark Knight  [action,  crime,  drama]    christophernolan   \n",
       "4              12 Angry Men           [crime,  drama]         sidneylumet   \n",
       "\n",
       "                                       Actors  \\\n",
       "0      [timrobbins, morganfreeman, bobgunton]   \n",
       "1         [marlonbrando, alpacino, jamescaan]   \n",
       "2       [alpacino, robertduvall, dianekeaton]   \n",
       "3  [christianbale, heathledger, aaroneckhart]   \n",
       "4      [martinbalsam, johnfiedler, leej.cobb]   \n",
       "\n",
       "                                           Key_words  \n",
       "0  [common, decency, finding, solace, number, two...  \n",
       "1  [reluctant, son, aging, patriarch, clandestine...  \n",
       "2  [grip, portrayed, career, tightens, son, vito,...  \n",
       "3  [ability, dark, knight, must, accept, one, fig...  \n",
       "4  [evidence, colleagues, forcing, reconsider, ju...  "
      ]
     },
     "execution_count": 3,
     "metadata": {},
     "output_type": "execute_result"
    }
   ],
   "source": [
    "df = pd.read_pickle('data/movie_data.pickle')\n",
    "df.head()"
   ]
  },
  {
   "cell_type": "code",
   "execution_count": 4,
   "metadata": {},
   "outputs": [
    {
     "data": {
      "text/html": [
       "<div>\n",
       "<style scoped>\n",
       "    .dataframe tbody tr th:only-of-type {\n",
       "        vertical-align: middle;\n",
       "    }\n",
       "\n",
       "    .dataframe tbody tr th {\n",
       "        vertical-align: top;\n",
       "    }\n",
       "\n",
       "    .dataframe thead th {\n",
       "        text-align: right;\n",
       "    }\n",
       "</style>\n",
       "<table border=\"1\" class=\"dataframe\">\n",
       "  <thead>\n",
       "    <tr style=\"text-align: right;\">\n",
       "      <th></th>\n",
       "      <th>Genre</th>\n",
       "      <th>Director</th>\n",
       "      <th>Actors</th>\n",
       "      <th>Key_words</th>\n",
       "    </tr>\n",
       "    <tr>\n",
       "      <th>Title</th>\n",
       "      <th></th>\n",
       "      <th></th>\n",
       "      <th></th>\n",
       "      <th></th>\n",
       "    </tr>\n",
       "  </thead>\n",
       "  <tbody>\n",
       "    <tr>\n",
       "      <th>The Shawshank Redemption</th>\n",
       "      <td>[crime,  drama]</td>\n",
       "      <td>frankdarabont</td>\n",
       "      <td>[timrobbins, morganfreeman, bobgunton]</td>\n",
       "      <td>[common, decency, finding, solace, number, two...</td>\n",
       "    </tr>\n",
       "    <tr>\n",
       "      <th>The Godfather</th>\n",
       "      <td>[crime,  drama]</td>\n",
       "      <td>francisfordcoppola</td>\n",
       "      <td>[marlonbrando, alpacino, jamescaan]</td>\n",
       "      <td>[reluctant, son, aging, patriarch, clandestine...</td>\n",
       "    </tr>\n",
       "    <tr>\n",
       "      <th>The Godfather: Part II</th>\n",
       "      <td>[crime,  drama]</td>\n",
       "      <td>francisfordcoppola</td>\n",
       "      <td>[alpacino, robertduvall, dianekeaton]</td>\n",
       "      <td>[grip, portrayed, career, tightens, son, vito,...</td>\n",
       "    </tr>\n",
       "    <tr>\n",
       "      <th>The Dark Knight</th>\n",
       "      <td>[action,  crime,  drama]</td>\n",
       "      <td>christophernolan</td>\n",
       "      <td>[christianbale, heathledger, aaroneckhart]</td>\n",
       "      <td>[ability, dark, knight, must, accept, one, fig...</td>\n",
       "    </tr>\n",
       "    <tr>\n",
       "      <th>12 Angry Men</th>\n",
       "      <td>[crime,  drama]</td>\n",
       "      <td>sidneylumet</td>\n",
       "      <td>[martinbalsam, johnfiedler, leej.cobb]</td>\n",
       "      <td>[evidence, colleagues, forcing, reconsider, ju...</td>\n",
       "    </tr>\n",
       "  </tbody>\n",
       "</table>\n",
       "</div>"
      ],
      "text/plain": [
       "                                             Genre            Director  \\\n",
       "Title                                                                    \n",
       "The Shawshank Redemption           [crime,  drama]       frankdarabont   \n",
       "The Godfather                      [crime,  drama]  francisfordcoppola   \n",
       "The Godfather: Part II             [crime,  drama]  francisfordcoppola   \n",
       "The Dark Knight           [action,  crime,  drama]    christophernolan   \n",
       "12 Angry Men                       [crime,  drama]         sidneylumet   \n",
       "\n",
       "                                                              Actors  \\\n",
       "Title                                                                  \n",
       "The Shawshank Redemption      [timrobbins, morganfreeman, bobgunton]   \n",
       "The Godfather                    [marlonbrando, alpacino, jamescaan]   \n",
       "The Godfather: Part II         [alpacino, robertduvall, dianekeaton]   \n",
       "The Dark Knight           [christianbale, heathledger, aaroneckhart]   \n",
       "12 Angry Men                  [martinbalsam, johnfiedler, leej.cobb]   \n",
       "\n",
       "                                                                  Key_words  \n",
       "Title                                                                        \n",
       "The Shawshank Redemption  [common, decency, finding, solace, number, two...  \n",
       "The Godfather             [reluctant, son, aging, patriarch, clandestine...  \n",
       "The Godfather: Part II    [grip, portrayed, career, tightens, son, vito,...  \n",
       "The Dark Knight           [ability, dark, knight, must, accept, one, fig...  \n",
       "12 Angry Men              [evidence, colleagues, forcing, reconsider, ju...  "
      ]
     },
     "execution_count": 4,
     "metadata": {},
     "output_type": "execute_result"
    }
   ],
   "source": [
    "df.set_index('Title', inplace = True)\n",
    "df.head()"
   ]
  },
  {
   "cell_type": "code",
   "execution_count": 5,
   "metadata": {},
   "outputs": [],
   "source": [
    "df['bag_of_words'] = ''\n",
    "columns = df.columns\n",
    "for index, row in df.iterrows():\n",
    "    words = ''\n",
    "    for col in columns:\n",
    "        if col != 'Director':\n",
    "            words += ' '.join(row[col])+ ' '\n",
    "        else:\n",
    "            words += row[col]+ ' '\n",
    "    row['bag_of_words'] = words\n",
    "    \n",
    "df.drop(columns = [col for col in df.columns if col!= 'bag_of_words'], inplace = True)"
   ]
  },
  {
   "cell_type": "code",
   "execution_count": 6,
   "metadata": {},
   "outputs": [
    {
     "data": {
      "text/html": [
       "<div>\n",
       "<style scoped>\n",
       "    .dataframe tbody tr th:only-of-type {\n",
       "        vertical-align: middle;\n",
       "    }\n",
       "\n",
       "    .dataframe tbody tr th {\n",
       "        vertical-align: top;\n",
       "    }\n",
       "\n",
       "    .dataframe thead th {\n",
       "        text-align: right;\n",
       "    }\n",
       "</style>\n",
       "<table border=\"1\" class=\"dataframe\">\n",
       "  <thead>\n",
       "    <tr style=\"text-align: right;\">\n",
       "      <th></th>\n",
       "      <th>bag_of_words</th>\n",
       "    </tr>\n",
       "    <tr>\n",
       "      <th>Title</th>\n",
       "      <th></th>\n",
       "    </tr>\n",
       "  </thead>\n",
       "  <tbody>\n",
       "    <tr>\n",
       "      <th>The Shawshank Redemption</th>\n",
       "      <td>crime  drama frankdarabont timrobbins morganfr...</td>\n",
       "    </tr>\n",
       "    <tr>\n",
       "      <th>The Godfather</th>\n",
       "      <td>crime  drama francisfordcoppola marlonbrando a...</td>\n",
       "    </tr>\n",
       "    <tr>\n",
       "      <th>The Godfather: Part II</th>\n",
       "      <td>crime  drama francisfordcoppola alpacino rober...</td>\n",
       "    </tr>\n",
       "    <tr>\n",
       "      <th>The Dark Knight</th>\n",
       "      <td>action  crime  drama christophernolan christia...</td>\n",
       "    </tr>\n",
       "    <tr>\n",
       "      <th>12 Angry Men</th>\n",
       "      <td>crime  drama sidneylumet martinbalsam johnfied...</td>\n",
       "    </tr>\n",
       "  </tbody>\n",
       "</table>\n",
       "</div>"
      ],
      "text/plain": [
       "                                                               bag_of_words\n",
       "Title                                                                      \n",
       "The Shawshank Redemption  crime  drama frankdarabont timrobbins morganfr...\n",
       "The Godfather             crime  drama francisfordcoppola marlonbrando a...\n",
       "The Godfather: Part II    crime  drama francisfordcoppola alpacino rober...\n",
       "The Dark Knight           action  crime  drama christophernolan christia...\n",
       "12 Angry Men              crime  drama sidneylumet martinbalsam johnfied..."
      ]
     },
     "execution_count": 6,
     "metadata": {},
     "output_type": "execute_result"
    }
   ],
   "source": [
    "df.head()"
   ]
  },
  {
   "cell_type": "code",
   "execution_count": 8,
   "metadata": {},
   "outputs": [],
   "source": [
    "# instantiating and generating the count matrix\n",
    "count = CountVectorizer()\n",
    "count_matrix = count.fit_transform(df['bag_of_words'])\n",
    "\n",
    "# creating a Series for the movie titles so they are associated to an ordered numerical\n",
    "# list I will use later to match the indexes\n",
    "indices = pd.Series(df.index)\n"
   ]
  },
  {
   "cell_type": "markdown",
   "metadata": {},
   "source": [
    "#### Create a instance of my recommender class and get predictions"
   ]
  },
  {
   "cell_type": "code",
   "execution_count": 41,
   "metadata": {},
   "outputs": [],
   "source": [
    "rec = ItemRecommender()\n",
    "count_df = pd.DataFrame(count_matrix.todense(), index=indices.values)"
   ]
  },
  {
   "cell_type": "code",
   "execution_count": 42,
   "metadata": {},
   "outputs": [],
   "source": [
    "rec.fit(count_df)"
   ]
  },
  {
   "cell_type": "code",
   "execution_count": 43,
   "metadata": {},
   "outputs": [
    {
     "name": "stdout",
     "output_type": "stream",
     "text": [
      "['No Country for Old Men' 'The Departed' 'Rope' 'The Godfather'\n",
      " 'Reservoir Dogs']\n"
     ]
    }
   ],
   "source": [
    "print(rec.get_recommendations('Fargo'))"
   ]
  },
  {
   "cell_type": "markdown",
   "metadata": {},
   "source": [
    "### Q 4)\n",
    "Fill in code for the `create_user_profile` method."
   ]
  },
  {
   "cell_type": "code",
   "execution_count": 46,
   "metadata": {},
   "outputs": [],
   "source": [
    "profile = rec.get_user_profile(['The Godfather','The Godfather: Part II'])"
   ]
  },
  {
   "cell_type": "code",
   "execution_count": 58,
   "metadata": {},
   "outputs": [
    {
     "data": {
      "text/plain": [
       "array([0., 0., 0., ..., 0., 0., 0.])"
      ]
     },
     "execution_count": 58,
     "metadata": {},
     "output_type": "execute_result"
    }
   ],
   "source": [
    "profile"
   ]
  },
  {
   "cell_type": "markdown",
   "metadata": {},
   "source": [
    "There is not much to see as this is a large matrix however I know one index 584 has values in it so we can look there."
   ]
  },
  {
   "cell_type": "code",
   "execution_count": 59,
   "metadata": {},
   "outputs": [
    {
     "data": {
      "text/plain": [
       "4.0"
      ]
     },
     "execution_count": 59,
     "metadata": {},
     "output_type": "execute_result"
    }
   ],
   "source": [
    "profile[584]"
   ]
  },
  {
   "cell_type": "code",
   "execution_count": 66,
   "metadata": {},
   "outputs": [
    {
     "data": {
      "text/plain": [
       "'crime'"
      ]
     },
     "execution_count": 66,
     "metadata": {},
     "output_type": "execute_result"
    }
   ],
   "source": [
    "count.get_feature_names()[584]"
   ]
  },
  {
   "cell_type": "markdown",
   "metadata": {},
   "source": [
    "It looks like the word crime shows up a lot in the 2 movies involved with this profile.   \n",
    "    \n",
    "    \n",
    "### Q 5)\n",
    "\n",
    "Fill in the `get_user_recommendation` and test it."
   ]
  },
  {
   "cell_type": "code",
   "execution_count": 71,
   "metadata": {},
   "outputs": [
    {
     "name": "stdout",
     "output_type": "stream",
     "text": [
      "['Goodfellas' 'Rope' 'Cool Hand Luke' 'Scarface' 'Fargo']\n"
     ]
    }
   ],
   "source": [
    "print(rec.get_user_recommendation(['The Godfather','The Godfather: Part II']))"
   ]
  },
  {
   "cell_type": "code",
   "execution_count": null,
   "metadata": {},
   "outputs": [],
   "source": []
  },
  {
   "cell_type": "code",
   "execution_count": null,
   "metadata": {},
   "outputs": [],
   "source": []
  },
  {
   "cell_type": "markdown",
   "metadata": {},
   "source": [
    "# Part 2)"
   ]
  },
  {
   "cell_type": "code",
   "execution_count": 72,
   "metadata": {},
   "outputs": [],
   "source": [
    "news = pd.read_pickle('data/articles.pkl')"
   ]
  },
  {
   "cell_type": "code",
   "execution_count": 73,
   "metadata": {},
   "outputs": [
    {
     "data": {
      "text/html": [
       "<div>\n",
       "<style scoped>\n",
       "    .dataframe tbody tr th:only-of-type {\n",
       "        vertical-align: middle;\n",
       "    }\n",
       "\n",
       "    .dataframe tbody tr th {\n",
       "        vertical-align: top;\n",
       "    }\n",
       "\n",
       "    .dataframe thead th {\n",
       "        text-align: right;\n",
       "    }\n",
       "</style>\n",
       "<table border=\"1\" class=\"dataframe\">\n",
       "  <thead>\n",
       "    <tr style=\"text-align: right;\">\n",
       "      <th></th>\n",
       "      <th>document_type</th>\n",
       "      <th>web_url</th>\n",
       "      <th>lead_paragraph</th>\n",
       "      <th>abstract</th>\n",
       "      <th>snippet</th>\n",
       "      <th>news_desk</th>\n",
       "      <th>word_count</th>\n",
       "      <th>source</th>\n",
       "      <th>section_name</th>\n",
       "      <th>subsection_name</th>\n",
       "      <th>_id</th>\n",
       "      <th>pub_date</th>\n",
       "      <th>print_page</th>\n",
       "      <th>headline</th>\n",
       "      <th>content</th>\n",
       "    </tr>\n",
       "  </thead>\n",
       "  <tbody>\n",
       "    <tr>\n",
       "      <th>0</th>\n",
       "      <td>article</td>\n",
       "      <td>http://www.nytimes.com/2013/10/03/sports/footb...</td>\n",
       "      <td>You would think that in a symmetric zero-sum s...</td>\n",
       "      <td>None</td>\n",
       "      <td>You would think that in a symmetric zero-sum s...</td>\n",
       "      <td>Sports</td>\n",
       "      <td>347</td>\n",
       "      <td>The New York Times</td>\n",
       "      <td>Sports</td>\n",
       "      <td>Pro Football</td>\n",
       "      <td>524d4e3a38f0d8198974001f</td>\n",
       "      <td>2013-10-03T00:00:00Z</td>\n",
       "      <td>None</td>\n",
       "      <td>Week 5 Probabilities: Why Offense Is More Impo...</td>\n",
       "      <td>the original goal building model football fore...</td>\n",
       "    </tr>\n",
       "    <tr>\n",
       "      <th>1</th>\n",
       "      <td>article</td>\n",
       "      <td>http://www.nytimes.com/2013/10/03/us/new-immig...</td>\n",
       "      <td>House Democrats on Wednesday unveiled an immig...</td>\n",
       "      <td>House Democrats unveil immigration bill that p...</td>\n",
       "      <td>House Democrats on Wednesday unveiled an immig...</td>\n",
       "      <td>National</td>\n",
       "      <td>83</td>\n",
       "      <td>The New York Times</td>\n",
       "      <td>U.S.</td>\n",
       "      <td>None</td>\n",
       "      <td>524cf71338f0d8198973ff7b</td>\n",
       "      <td>2013-10-03T00:00:00Z</td>\n",
       "      <td>21</td>\n",
       "      <td>New Immigration Bill Put Forward</td>\n",
       "      <td>house unveiled immigration bill provides path ...</td>\n",
       "    </tr>\n",
       "    <tr>\n",
       "      <th>2</th>\n",
       "      <td>article</td>\n",
       "      <td>http://www.nytimes.com/2013/10/03/us/arizona-j...</td>\n",
       "      <td>A federal judge on Wednesday ordered the appoi...</td>\n",
       "      <td>Federal Judge Murray Snow orders the appointme...</td>\n",
       "      <td>A federal judge on Wednesday ordered the appoi...</td>\n",
       "      <td>National</td>\n",
       "      <td>160</td>\n",
       "      <td>The New York Times</td>\n",
       "      <td>U.S.</td>\n",
       "      <td>None</td>\n",
       "      <td>524cf50e38f0d8198973ff79</td>\n",
       "      <td>2013-10-03T00:00:00Z</td>\n",
       "      <td>21</td>\n",
       "      <td>Arizona: Judge Orders Monitor to Oversee Maric...</td>\n",
       "      <td>federal judge wednesday ordered appointment in...</td>\n",
       "    </tr>\n",
       "    <tr>\n",
       "      <th>3</th>\n",
       "      <td>article</td>\n",
       "      <td>http://www.nytimes.com/2013/10/03/us/texas-sta...</td>\n",
       "      <td>Texas has turned to a compounding pharmacy to ...</td>\n",
       "      <td>Documents show that Texas, nation's most activ...</td>\n",
       "      <td>Texas has turned to a compounding pharmacy to ...</td>\n",
       "      <td>National</td>\n",
       "      <td>112</td>\n",
       "      <td>The New York Times</td>\n",
       "      <td>U.S.</td>\n",
       "      <td>None</td>\n",
       "      <td>524cf39a38f0d8198973ff78</td>\n",
       "      <td>2013-10-03T00:00:00Z</td>\n",
       "      <td>21</td>\n",
       "      <td>Texas: State Bought Execution Drugs From a Com...</td>\n",
       "      <td>texas nation’s active death-penalty state turn...</td>\n",
       "    </tr>\n",
       "    <tr>\n",
       "      <th>4</th>\n",
       "      <td>article</td>\n",
       "      <td>http://www.nytimes.com/2013/10/03/sports/tenni...</td>\n",
       "      <td>Rafael Nadal, aiming to end Novak Djokovic’s r...</td>\n",
       "      <td>None</td>\n",
       "      <td>Rafael Nadal, aiming to end Novak Djokovic’s r...</td>\n",
       "      <td>Sports</td>\n",
       "      <td>49</td>\n",
       "      <td>The New York Times</td>\n",
       "      <td>Sports</td>\n",
       "      <td>Tennis</td>\n",
       "      <td>524cf28b38f0d8198973ff73</td>\n",
       "      <td>2013-10-03T00:00:00Z</td>\n",
       "      <td>14</td>\n",
       "      <td>Nadal on Track for No. 1 Spot</td>\n",
       "      <td>rafael nadal aiming end novak djokovic’s run 1...</td>\n",
       "    </tr>\n",
       "  </tbody>\n",
       "</table>\n",
       "</div>"
      ],
      "text/plain": [
       "  document_type                                            web_url  \\\n",
       "0       article  http://www.nytimes.com/2013/10/03/sports/footb...   \n",
       "1       article  http://www.nytimes.com/2013/10/03/us/new-immig...   \n",
       "2       article  http://www.nytimes.com/2013/10/03/us/arizona-j...   \n",
       "3       article  http://www.nytimes.com/2013/10/03/us/texas-sta...   \n",
       "4       article  http://www.nytimes.com/2013/10/03/sports/tenni...   \n",
       "\n",
       "                                      lead_paragraph  \\\n",
       "0  You would think that in a symmetric zero-sum s...   \n",
       "1  House Democrats on Wednesday unveiled an immig...   \n",
       "2  A federal judge on Wednesday ordered the appoi...   \n",
       "3  Texas has turned to a compounding pharmacy to ...   \n",
       "4  Rafael Nadal, aiming to end Novak Djokovic’s r...   \n",
       "\n",
       "                                            abstract  \\\n",
       "0                                               None   \n",
       "1  House Democrats unveil immigration bill that p...   \n",
       "2  Federal Judge Murray Snow orders the appointme...   \n",
       "3  Documents show that Texas, nation's most activ...   \n",
       "4                                               None   \n",
       "\n",
       "                                             snippet news_desk word_count  \\\n",
       "0  You would think that in a symmetric zero-sum s...    Sports        347   \n",
       "1  House Democrats on Wednesday unveiled an immig...  National         83   \n",
       "2  A federal judge on Wednesday ordered the appoi...  National        160   \n",
       "3  Texas has turned to a compounding pharmacy to ...  National        112   \n",
       "4  Rafael Nadal, aiming to end Novak Djokovic’s r...    Sports         49   \n",
       "\n",
       "               source section_name subsection_name                       _id  \\\n",
       "0  The New York Times       Sports    Pro Football  524d4e3a38f0d8198974001f   \n",
       "1  The New York Times         U.S.            None  524cf71338f0d8198973ff7b   \n",
       "2  The New York Times         U.S.            None  524cf50e38f0d8198973ff79   \n",
       "3  The New York Times         U.S.            None  524cf39a38f0d8198973ff78   \n",
       "4  The New York Times       Sports          Tennis  524cf28b38f0d8198973ff73   \n",
       "\n",
       "               pub_date print_page  \\\n",
       "0  2013-10-03T00:00:00Z       None   \n",
       "1  2013-10-03T00:00:00Z         21   \n",
       "2  2013-10-03T00:00:00Z         21   \n",
       "3  2013-10-03T00:00:00Z         21   \n",
       "4  2013-10-03T00:00:00Z         14   \n",
       "\n",
       "                                            headline  \\\n",
       "0  Week 5 Probabilities: Why Offense Is More Impo...   \n",
       "1                   New Immigration Bill Put Forward   \n",
       "2  Arizona: Judge Orders Monitor to Oversee Maric...   \n",
       "3  Texas: State Bought Execution Drugs From a Com...   \n",
       "4                      Nadal on Track for No. 1 Spot   \n",
       "\n",
       "                                             content  \n",
       "0  the original goal building model football fore...  \n",
       "1  house unveiled immigration bill provides path ...  \n",
       "2  federal judge wednesday ordered appointment in...  \n",
       "3  texas nation’s active death-penalty state turn...  \n",
       "4  rafael nadal aiming end novak djokovic’s run 1...  "
      ]
     },
     "execution_count": 73,
     "metadata": {},
     "output_type": "execute_result"
    }
   ],
   "source": [
    "news.head()"
   ]
  },
  {
   "cell_type": "code",
   "execution_count": 86,
   "metadata": {},
   "outputs": [
    {
     "data": {
      "text/plain": [
       "0       Week 5 Probabilities: Why Offense Is More Impo...\n",
       "1                        New Immigration Bill Put Forward\n",
       "2       Arizona: Judge Orders Monitor to Oversee Maric...\n",
       "3       Texas: State Bought Execution Drugs From a Com...\n",
       "4                           Nadal on Track for No. 1 Spot\n",
       "5                   Judge Halts Work on World Cup Stadium\n",
       "6                 Bayern Munich Dominates Manchester City\n",
       "7           American Leads in World Gymnastics All-Around\n",
       "8                        Brodeur’s Starting Streak to End\n",
       "9                              Vonn Is Close to Returning\n",
       "10            Whitney Winner Out of Breeders’ Cup Classic\n",
       "11      Eight Are Killed in Tennessee After Tire Blows...\n",
       "12                Fuel From Landfill Methane Goes on Sale\n",
       "13      On Fashion Runway, South Sudan Takes Steps Tow...\n",
       "14             Preparing Teachers for the Urban Classroom\n",
       "15                                  New York: Two Cities?\n",
       "16                       A Blind Spot on Rearview Cameras\n",
       "17                                    Congress Breaks Bad\n",
       "18                              Excuses, Excuses, Excuses\n",
       "19                       Does Scotland Want Independence?\n",
       "20                 Iran’s President Responds to Netanyahu\n",
       "21      Finally Secure in the Desert, the Coyotes Devo...\n",
       "22                     Libya: Mob Attacks Russian Embassy\n",
       "23                 Evidence North Korea Restarted Reactor\n",
       "24                   The Hague: Warrant Issued for Kenyan\n",
       "25      France: Court Throws Out Cases Claiming Racial...\n",
       "26      Braves’ Free Swingers Face Dodgers’ Staff of Aces\n",
       "27       Jury Clears Promoter in Death of Michael Jackson\n",
       "28      Another Shutdown Victim: U.S. Efforts to Offse...\n",
       "29                        Family Trees of Familiar Scions\n",
       "                              ...                        \n",
       "1375      Israeli Leader Excoriates New President of Iran\n",
       "1376                              John Boehner’s Shutdown\n",
       "1377            A Tough Choice: Play for Brazil or Spain?\n",
       "1378                Favorites? Broncos, by a Wide Margin \n",
       "1379    Opening Rush to Insurance Markets Runs Into Snags\n",
       "1380    Vanska Quits Minnesota Orchestra as Labor Disp...\n",
       "1381    On Day 1, Parks Close, Workers Stay Home and ‘...\n",
       "1382         Chemical Arms Team to Begin Talks With Syria\n",
       "1383      Wall Street Closes Higher Despite U.S. Shutdown\n",
       "1384                            A Monet for Show and Tell\n",
       "1385    Price and Longoria Propel Rays Into Wild-Card ...\n",
       "1386    In Electric BMW i3, Hopes for a Stylish Future...\n",
       "1387                  Day 1: The New World of Health Care\n",
       "1388      Unrest in Central Sudan Leads to Arrests of 700\n",
       "1389    The Fight Against Bullying in Schools Expands ...\n",
       "1390                     Pirates and Reds Renew a Rivalry\n",
       "1391                          The Rut We Can’t Get Out Of\n",
       "1392                                    Beyond Berlusconi\n",
       "1393    Mixed Opening Lines in Knicks’ Courtship of An...\n",
       "1394    Two Marine Corps Generals Are Forced to Retire...\n",
       "1395         Obama’s Remarks on the Budget and Health Law\n",
       "1396    Defining and Demanding a Musician’s Fair Shake...\n",
       "1397    Britain Plans to Require Community Service for...\n",
       "1398    Old Atrocities, Now Official, Galvanize Afghan...\n",
       "1399    Discussing Iran, Obama and Netanyahu Display U...\n",
       "1400              Government Shuts Down in Budget Impasse\n",
       "1401                              The White Gold of Jihad\n",
       "1402         Once-Calm Area of Iraq Is Shaken by Bombings\n",
       "1403    A Wave of Sewing Jobs as Orders Pile Up at U.S...\n",
       "1404                         Can Wendy Davis Have It All?\n",
       "Name: headline, Length: 1405, dtype: object"
      ]
     },
     "execution_count": 86,
     "metadata": {},
     "output_type": "execute_result"
    }
   ],
   "source": [
    "news.headline"
   ]
  },
  {
   "cell_type": "code",
   "execution_count": 74,
   "metadata": {},
   "outputs": [],
   "source": [
    "vectorizer = TfidfVectorizer(stop_words='english', max_features=10000)\n",
    "vectorized_df = vectorizer.fit_transform(news.content)"
   ]
  },
  {
   "cell_type": "code",
   "execution_count": 79,
   "metadata": {},
   "outputs": [],
   "source": [
    "news_recommender = ItemRecommender()\n",
    "news_recommender.fit(vectorized_df, titles = news.headline)"
   ]
  },
  {
   "cell_type": "code",
   "execution_count": 87,
   "metadata": {},
   "outputs": [
    {
     "name": "stdout",
     "output_type": "stream",
     "text": [
      "['A Historic Fair Housing Decision Reaffirmed' '3 Jobs and No Apartment?'\n",
      " 'Two Approaches to Homelessness'\n",
      " 'Have-Nots Squeezed and Stacked in Hong Kong' 'Who Wants to Buy a House?']\n"
     ]
    }
   ],
   "source": [
    "print(news_recommender.get_recommendations('New York: Two Cities?'))"
   ]
  },
  {
   "cell_type": "code",
   "execution_count": null,
   "metadata": {},
   "outputs": [],
   "source": []
  },
  {
   "cell_type": "markdown",
   "metadata": {},
   "source": [
    "# Extra Credit "
   ]
  },
  {
   "cell_type": "code",
   "execution_count": 83,
   "metadata": {},
   "outputs": [
    {
     "data": {
      "text/html": [
       "<div>\n",
       "<style scoped>\n",
       "    .dataframe tbody tr th:only-of-type {\n",
       "        vertical-align: middle;\n",
       "    }\n",
       "\n",
       "    .dataframe tbody tr th {\n",
       "        vertical-align: top;\n",
       "    }\n",
       "\n",
       "    .dataframe thead th {\n",
       "        text-align: right;\n",
       "    }\n",
       "</style>\n",
       "<table border=\"1\" class=\"dataframe\">\n",
       "  <thead>\n",
       "    <tr style=\"text-align: right;\">\n",
       "      <th></th>\n",
       "      <th>document_type</th>\n",
       "      <th>web_url</th>\n",
       "      <th>lead_paragraph</th>\n",
       "      <th>abstract</th>\n",
       "      <th>snippet</th>\n",
       "      <th>news_desk</th>\n",
       "      <th>word_count</th>\n",
       "      <th>source</th>\n",
       "      <th>section_name</th>\n",
       "      <th>subsection_name</th>\n",
       "      <th>_id</th>\n",
       "      <th>pub_date</th>\n",
       "      <th>print_page</th>\n",
       "      <th>headline</th>\n",
       "      <th>content</th>\n",
       "      <th>content_and_title</th>\n",
       "    </tr>\n",
       "  </thead>\n",
       "  <tbody>\n",
       "    <tr>\n",
       "      <th>0</th>\n",
       "      <td>article</td>\n",
       "      <td>http://www.nytimes.com/2013/10/03/sports/footb...</td>\n",
       "      <td>You would think that in a symmetric zero-sum s...</td>\n",
       "      <td>None</td>\n",
       "      <td>You would think that in a symmetric zero-sum s...</td>\n",
       "      <td>Sports</td>\n",
       "      <td>347</td>\n",
       "      <td>The New York Times</td>\n",
       "      <td>Sports</td>\n",
       "      <td>Pro Football</td>\n",
       "      <td>524d4e3a38f0d8198974001f</td>\n",
       "      <td>2013-10-03T00:00:00Z</td>\n",
       "      <td>None</td>\n",
       "      <td>Week 5 Probabilities: Why Offense Is More Impo...</td>\n",
       "      <td>the original goal building model football fore...</td>\n",
       "      <td>the original goal building model football fore...</td>\n",
       "    </tr>\n",
       "    <tr>\n",
       "      <th>1</th>\n",
       "      <td>article</td>\n",
       "      <td>http://www.nytimes.com/2013/10/03/us/new-immig...</td>\n",
       "      <td>House Democrats on Wednesday unveiled an immig...</td>\n",
       "      <td>House Democrats unveil immigration bill that p...</td>\n",
       "      <td>House Democrats on Wednesday unveiled an immig...</td>\n",
       "      <td>National</td>\n",
       "      <td>83</td>\n",
       "      <td>The New York Times</td>\n",
       "      <td>U.S.</td>\n",
       "      <td>None</td>\n",
       "      <td>524cf71338f0d8198973ff7b</td>\n",
       "      <td>2013-10-03T00:00:00Z</td>\n",
       "      <td>21</td>\n",
       "      <td>New Immigration Bill Put Forward</td>\n",
       "      <td>house unveiled immigration bill provides path ...</td>\n",
       "      <td>house unveiled immigration bill provides path ...</td>\n",
       "    </tr>\n",
       "    <tr>\n",
       "      <th>2</th>\n",
       "      <td>article</td>\n",
       "      <td>http://www.nytimes.com/2013/10/03/us/arizona-j...</td>\n",
       "      <td>A federal judge on Wednesday ordered the appoi...</td>\n",
       "      <td>Federal Judge Murray Snow orders the appointme...</td>\n",
       "      <td>A federal judge on Wednesday ordered the appoi...</td>\n",
       "      <td>National</td>\n",
       "      <td>160</td>\n",
       "      <td>The New York Times</td>\n",
       "      <td>U.S.</td>\n",
       "      <td>None</td>\n",
       "      <td>524cf50e38f0d8198973ff79</td>\n",
       "      <td>2013-10-03T00:00:00Z</td>\n",
       "      <td>21</td>\n",
       "      <td>Arizona: Judge Orders Monitor to Oversee Maric...</td>\n",
       "      <td>federal judge wednesday ordered appointment in...</td>\n",
       "      <td>federal judge wednesday ordered appointment in...</td>\n",
       "    </tr>\n",
       "  </tbody>\n",
       "</table>\n",
       "</div>"
      ],
      "text/plain": [
       "  document_type                                            web_url  \\\n",
       "0       article  http://www.nytimes.com/2013/10/03/sports/footb...   \n",
       "1       article  http://www.nytimes.com/2013/10/03/us/new-immig...   \n",
       "2       article  http://www.nytimes.com/2013/10/03/us/arizona-j...   \n",
       "\n",
       "                                      lead_paragraph  \\\n",
       "0  You would think that in a symmetric zero-sum s...   \n",
       "1  House Democrats on Wednesday unveiled an immig...   \n",
       "2  A federal judge on Wednesday ordered the appoi...   \n",
       "\n",
       "                                            abstract  \\\n",
       "0                                               None   \n",
       "1  House Democrats unveil immigration bill that p...   \n",
       "2  Federal Judge Murray Snow orders the appointme...   \n",
       "\n",
       "                                             snippet news_desk word_count  \\\n",
       "0  You would think that in a symmetric zero-sum s...    Sports        347   \n",
       "1  House Democrats on Wednesday unveiled an immig...  National         83   \n",
       "2  A federal judge on Wednesday ordered the appoi...  National        160   \n",
       "\n",
       "               source section_name subsection_name                       _id  \\\n",
       "0  The New York Times       Sports    Pro Football  524d4e3a38f0d8198974001f   \n",
       "1  The New York Times         U.S.            None  524cf71338f0d8198973ff7b   \n",
       "2  The New York Times         U.S.            None  524cf50e38f0d8198973ff79   \n",
       "\n",
       "               pub_date print_page  \\\n",
       "0  2013-10-03T00:00:00Z       None   \n",
       "1  2013-10-03T00:00:00Z         21   \n",
       "2  2013-10-03T00:00:00Z         21   \n",
       "\n",
       "                                            headline  \\\n",
       "0  Week 5 Probabilities: Why Offense Is More Impo...   \n",
       "1                   New Immigration Bill Put Forward   \n",
       "2  Arizona: Judge Orders Monitor to Oversee Maric...   \n",
       "\n",
       "                                             content  \\\n",
       "0  the original goal building model football fore...   \n",
       "1  house unveiled immigration bill provides path ...   \n",
       "2  federal judge wednesday ordered appointment in...   \n",
       "\n",
       "                                   content_and_title  \n",
       "0  the original goal building model football fore...  \n",
       "1  house unveiled immigration bill provides path ...  \n",
       "2  federal judge wednesday ordered appointment in...  "
      ]
     },
     "execution_count": 83,
     "metadata": {},
     "output_type": "execute_result"
    }
   ],
   "source": [
    "news['content_and_title'] = news.content + news.headline\n",
    "news.head(3)"
   ]
  },
  {
   "cell_type": "code",
   "execution_count": 84,
   "metadata": {},
   "outputs": [
    {
     "data": {
      "text/plain": [
       "TfidfVectorizer(analyzer='word', binary=False, decode_error='strict',\n",
       "        dtype=<class 'numpy.float64'>, encoding='utf-8', input='content',\n",
       "        lowercase=True, max_df=1.0, max_features=10000, min_df=1,\n",
       "        ngram_range=(1, 1), norm='l2', preprocessor=None, smooth_idf=True,\n",
       "        stop_words='english', strip_accents=None, sublinear_tf=False,\n",
       "        token_pattern='(?u)\\\\b\\\\w\\\\w+\\\\b', tokenizer=None, use_idf=True,\n",
       "        vocabulary=None)"
      ]
     },
     "execution_count": 84,
     "metadata": {},
     "output_type": "execute_result"
    }
   ],
   "source": [
    "vectorizer2 = TfidfVectorizer(stop_words='english', max_features=10000)\n",
    "vectorizer2.fit(news.content_and_title)"
   ]
  },
  {
   "cell_type": "code",
   "execution_count": 85,
   "metadata": {},
   "outputs": [],
   "source": [
    "content_matrix = vectorizer2.transform(news.content)\n",
    "headline_matrix = vectorizer2.transform(news.headline)"
   ]
  },
  {
   "cell_type": "code",
   "execution_count": 91,
   "metadata": {},
   "outputs": [],
   "source": [
    "def weighted_vector(content_matrix, headline_matrix, alpha):\n",
    "    return (content_matrix * alpha) + (headline_matrix * (1-alpha))"
   ]
  },
  {
   "cell_type": "code",
   "execution_count": 89,
   "metadata": {},
   "outputs": [],
   "source": [
    "weighted_vector = weighted_vector(content_matrix, headline_matrix, .9)"
   ]
  },
  {
   "cell_type": "code",
   "execution_count": 90,
   "metadata": {},
   "outputs": [
    {
     "name": "stdout",
     "output_type": "stream",
     "text": [
      "['New York Legislators’ Secret Income'\n",
      " 'Minnesota: Orchestra Cancels New York Concerts'\n",
      " 'YouTube Plans a Music Awards Show Live From New York'\n",
      " 'Technology Firm From India Will Be New York Marathon Title Sponsor'\n",
      " 'Movers and Shapers']\n"
     ]
    }
   ],
   "source": [
    "weighted_recommender = ItemRecommender()\n",
    "weighted_recommender.fit(weighted_vector, titles = news.headline)\n",
    "print(weighted_recommender.get_recommendations('New York: Two Cities?'))"
   ]
  },
  {
   "cell_type": "code",
   "execution_count": null,
   "metadata": {},
   "outputs": [],
   "source": []
  }
 ],
 "metadata": {
  "kernelspec": {
   "display_name": "Python 3",
   "language": "python",
   "name": "python3"
  },
  "language_info": {
   "codemirror_mode": {
    "name": "ipython",
    "version": 3
   },
   "file_extension": ".py",
   "mimetype": "text/x-python",
   "name": "python",
   "nbconvert_exporter": "python",
   "pygments_lexer": "ipython3",
   "version": "3.7.1"
  }
 },
 "nbformat": 4,
 "nbformat_minor": 2
}
