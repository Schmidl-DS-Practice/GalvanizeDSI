{
 "cells": [
  {
   "cell_type": "markdown",
   "metadata": {},
   "source": [
    "# Sampling Distributions Sprint Solutions"
   ]
  },
  {
   "cell_type": "code",
   "execution_count": 1,
   "metadata": {},
   "outputs": [],
   "source": [
    "%matplotlib inline\n",
    "\n",
    "import numpy as np\n",
    "import scipy.stats as stats\n",
    "import matplotlib.pyplot as plt"
   ]
  },
  {
   "cell_type": "markdown",
   "metadata": {},
   "source": [
    "## Part 1: Bootstrapping\n",
    "\n",
    "Implement a `bootstrap` function to randomly draw with replacement from a given sample. The function should take a sample as a numpy ndarray and the number of resamples as an integer (default: 10000). The function should return a list of numpy ndarray objects, each ndarray is one bootstrap sample."
   ]
  },
  {
   "cell_type": "code",
   "execution_count": 2,
   "metadata": {},
   "outputs": [],
   "source": [
    "def bootstrap(x, resamples=10000):\n",
    "    \"\"\"Draw bootstrap resamples from the array x.\n",
    "\n",
    "    Parameters\n",
    "    ----------\n",
    "    x: np.array, shape (n, )\n",
    "      The data to draw the bootstrap samples from.\n",
    "    \n",
    "    resamples: int\n",
    "      The number of bootstrap samples to draw from x.\n",
    "    \n",
    "    Returns\n",
    "    -------\n",
    "    bootstrap_samples: List[np.array]\n",
    "      The bootsrap resamples from x.  \n",
    "      Each array is a single bootstrap sample.\n",
    "    \"\"\"\n",
    "    n_obs = x.shape[0]\n",
    "    boot_samples = []\n",
    "    for k in range(resamples):\n",
    "        boot_idxs = np.random.randint(n_obs, size=n_obs)\n",
    "        boot_sample = x[boot_idxs]\n",
    "        boot_samples.append(boot_sample)\n",
    "    return boot_samples"
   ]
  },
  {
   "cell_type": "code",
   "execution_count": 3,
   "metadata": {},
   "outputs": [
    {
     "name": "stdout",
     "output_type": "stream",
     "text": [
      "[-0.45311378 -1.67994829  2.11239332  0.8075026   0.21581081]\n",
      "[array([ 2.11239332,  0.21581081,  0.21581081, -0.45311378,  0.8075026 ]), array([-1.67994829,  2.11239332,  0.8075026 , -1.67994829,  0.21581081]), array([-0.45311378,  0.21581081,  0.21581081, -0.45311378,  0.21581081])]\n"
     ]
    }
   ],
   "source": [
    "# Create some random data to test our bootstrap func.\n",
    "rand_data = np.random.randn(5)\n",
    "\n",
    "booted_data = bootstrap(rand_data, resamples=3)\n",
    "\n",
    "# Check that bootstrap is working as expected. booted_data is a list of arrays.\n",
    "print(rand_data)\n",
    "print(booted_data)"
   ]
  },
  {
   "cell_type": "markdown",
   "metadata": {},
   "source": [
    "## Part 2: Bootstrap to find Confidence Interval of Mean"
   ]
  },
  {
   "cell_type": "markdown",
   "metadata": {},
   "source": [
    "Load the data data/productivity.txt."
   ]
  },
  {
   "cell_type": "code",
   "execution_count": 4,
   "metadata": {},
   "outputs": [],
   "source": [
    "productivity = np.loadtxt('productivity.txt')"
   ]
  },
  {
   "cell_type": "markdown",
   "metadata": {},
   "source": [
    "Why is it inappropriate to only report the mean difference in productivity as evidence to support the decision of changing all the monitors to Apple monitors in the company?\n",
    "\n",
    "`The mean difference in productivity is a point estimate from a sample of a larger population.  This type of point estimate does not really tell us anything unless we have some measure of how certain it is, and often we use a confidence interval for that.`"
   ]
  },
  {
   "cell_type": "markdown",
   "metadata": {},
   "source": [
    "Implement a `bootstrap_ci` function to calculate the confidence interval of any sample statistic (in this case the mean). The function should take a sample, a function that computes the sample statistic, the number of resamples (default: 10000), and the confidence level (default: 0.95). The function should return the lower and upper bounds of the confidence interval and the bootstrap distribution of the test statistic."
   ]
  },
  {
   "cell_type": "code",
   "execution_count": 5,
   "metadata": {},
   "outputs": [],
   "source": [
    "def bootstrap_confidence_interval(sample, stat_function=np.mean, resamples=1000, ci=95):\n",
    "    \"\"\"Calculate the CI of chosen sample statistic using bootstrap sampling.\n",
    "\n",
    "    CI = confidence interval\n",
    "\n",
    "    Parameters\n",
    "    ----------\n",
    "    sample: Numpy array\n",
    "        1-d numeric data\n",
    "\n",
    "    stat_function: function, optional (default=np.mean)\n",
    "        Function for calculating as sample statistic on data\n",
    "\n",
    "    iterations: int, optional (default=1000)\n",
    "        Number of bootstrap samples to create\n",
    "\n",
    "    ci: int, optional (default=95)\n",
    "        Percent of distribution encompassed by CI, 0<ci<100\n",
    "\n",
    "    Returns\n",
    "    -------\n",
    "    tuple: lower_ci(float), upper_ci(float), bootstrap_samples_statistic(array)\n",
    "        Lower and upper bounds of CI, sample stat from each bootstrap sample\n",
    "    \"\"\"\n",
    "    boostrap_samples = bootstrap(sample, resamples=resamples)\n",
    "    bootstrap_samples_stat = list(map(stat_function, boostrap_samples))\n",
    "    low_bound = (100. - ci) / 2\n",
    "    high_bound = 100. - low_bound\n",
    "    lower_ci, upper_ci = np.percentile(bootstrap_samples_stat,\n",
    "                                       [low_bound, high_bound])\n",
    "    return lower_ci, upper_ci, bootstrap_samples_stat"
   ]
  },
  {
   "cell_type": "code",
   "execution_count": 6,
   "metadata": {},
   "outputs": [
    {
     "name": "stdout",
     "output_type": "stream",
     "text": [
      "The 95% bootstrapped CI of the mean: (-0.24840000000000031, 10.397599999999997)\n"
     ]
    }
   ],
   "source": [
    "lower_ci, upper_ci, bootstrap_means_prod = bootstrap_confidence_interval(productivity, ci=95)\n",
    "print(\"The 95% bootstrapped CI of the mean: ({}, {})\".format(lower_ci, upper_ci))"
   ]
  },
  {
   "cell_type": "markdown",
   "metadata": {},
   "source": [
    "Plot the bootstrap distribution of the means in a histogram."
   ]
  },
  {
   "cell_type": "code",
   "execution_count": 7,
   "metadata": {},
   "outputs": [
    {
     "data": {
      "text/plain": [
       "Text(0.5, 0, 'Difference in Productivity')"
      ]
     },
     "execution_count": 7,
     "metadata": {},
     "output_type": "execute_result"
    },
    {
     "data": {
      "image/png": "[encoded data removed]",
      "text/plain": [
       "<Figure size 720x288 with 1 Axes>"
      ]
     },
     "metadata": {
      "needs_background": "light"
     },
     "output_type": "display_data"
    }
   ],
   "source": [
    "fig, ax = plt.subplots(figsize=(10, 4))\n",
    "\n",
    "ax.hist(bootstrap_means_prod, bins=20)\n",
    "ax.set_ylabel('Count')\n",
    "ax.set_xlabel('Difference in Productivity')"
   ]
  },
  {
   "cell_type": "markdown",
   "metadata": {},
   "source": [
    "- Based on the bootstrap confidence interval, what conclusions can you draw? What about if a 90% confidence interval were used instead?\n",
    "\n",
    "`Based on the 95% bootstrap CI, we are unable to conclude that the new monitors would lead to an productivity improvement in the population since the CI includes zero in the differences in productivity, implying possibility of no improvement or even reduction in performance.`\n",
    "\n",
    "- What about if a 90% confidence interval were used instead?"
   ]
  },
  {
   "cell_type": "code",
   "execution_count": 8,
   "metadata": {},
   "outputs": [
    {
     "name": "stdout",
     "output_type": "stream",
     "text": [
      "The 90% bootstrapped CI of the mean: (0.5954000000000002, 9.152000000000001)\n",
      "Your results would be slightly different\n"
     ]
    }
   ],
   "source": [
    "lower_ci, upper_ci, bootstrap_samples_stat = bootstrap_confidence_interval(productivity, ci=90)\n",
    "print(\"The 90% bootstrapped CI of the mean: ({}, {})\".format( lower_ci, upper_ci))\n",
    "print(\"Your results would be slightly different\")"
   ]
  },
  {
   "cell_type": "markdown",
   "metadata": {},
   "source": [
    "`Here we see that the CI does not include 0, so we could conclude that there is statistical evidence that the monitors lead to an improvement.  However, we are allowing for a larger chance of a Type I Error (To be discussed in more detail with Frequentist Hypothesis Testing).`\n",
    "\n",
    "\n",
    "- Suppose there are 100 programmers in the company. The cost of changing a monitor is 500 dollars and the increase of one unit of productivity is worth 2,000 dollars, would you recommend switching the monitors? State the assumptions you are making and show your work.\n",
    "\n",
    "`If you want 95% confidence in your decision the answer is obviously a no go since there is a potential decrease in production.  However, if we use the 90% CI to establish a minimum expected average improvement of 0.6 units (which should be close to the value printed above) this implies a net improvement of 0.60 units/person * 100 people = 60 units which has a value of $2000*60 = $120,000 while the cost of new monitors would be $500*100 = $50,000 leading to a profit of approx $70,000 ==> they should buy the new monitors.`"
   ]
  },
  {
   "cell_type": "markdown",
   "metadata": {},
   "source": [
    "## Part 3: Bootstrap to find Confidence Interval of Correlation\n",
    "\n",
    "Correlation between LSAT scores and law school grade point average."
   ]
  },
  {
   "cell_type": "markdown",
   "metadata": {},
   "source": [
    "Load the data data/law_sample.txt"
   ]
  },
  {
   "cell_type": "code",
   "execution_count": 9,
   "metadata": {},
   "outputs": [],
   "source": [
    "## Change path to law_sample.txt\n",
    "law_sample = np.loadtxt('law_sample.txt')"
   ]
  },
  {
   "cell_type": "markdown",
   "metadata": {},
   "source": [
    "Use `scipy.stats.pearsonr` to compute the correlation."
   ]
  },
  {
   "cell_type": "code",
   "execution_count": 10,
   "metadata": {},
   "outputs": [
    {
     "data": {
      "text/plain": [
       "dtype('float64')"
      ]
     },
     "execution_count": 10,
     "metadata": {},
     "output_type": "execute_result"
    }
   ],
   "source": [
    "law_sample.dtype"
   ]
  },
  {
   "cell_type": "code",
   "execution_count": 11,
   "metadata": {},
   "outputs": [
    {
     "name": "stdout",
     "output_type": "stream",
     "text": [
      "The correlation is: 0.78\n"
     ]
    }
   ],
   "source": [
    "corr, p_value = stats.pearsonr(law_sample[:, 0], law_sample[:, 1])\n",
    "print(f\"The correlation is: {corr:2.2f}\")"
   ]
  },
  {
   "cell_type": "markdown",
   "metadata": {},
   "source": [
    "Bootstrapped Estimate of the Correlation"
   ]
  },
  {
   "cell_type": "code",
   "execution_count": 12,
   "metadata": {},
   "outputs": [
    {
     "name": "stdout",
     "output_type": "stream",
     "text": [
      "Bootstrapped 95% CI of Law school correlation coeff: (0.45, 0.96)\n",
      "Bootstrapped 95% CI does not contain 0, so LSAT seems predictive of GPA\n"
     ]
    }
   ],
   "source": [
    "lower_ci, upper_ci, bootstrap_corr_law = bootstrap_confidence_interval(\n",
    "    law_sample, \n",
    "    stat_function=lambda x: stats.pearsonr(x[:, 0], x[:, 1])[0],\n",
    "    resamples=10000, ci=95)\n",
    "print(\"Bootstrapped 95% CI of Law school correlation coeff: ({:2.2f}, {:2.2f})\".format(lower_ci, upper_ci))\n",
    "print(\"Bootstrapped 95% CI does not contain 0, so LSAT seems predictive of GPA\")"
   ]
  },
  {
   "cell_type": "code",
   "execution_count": 13,
   "metadata": {},
   "outputs": [
    {
     "data": {
      "image/png": "[encoded data removed]",
      "text/plain": [
       "<Figure size 432x288 with 1 Axes>"
      ]
     },
     "metadata": {
      "needs_background": "light"
     },
     "output_type": "display_data"
    }
   ],
   "source": [
    "plt.hist(bootstrap_corr_law)\n",
    "plt.xlabel('Correlation Coeff.')\n",
    "plt.ylabel('Count');"
   ]
  },
  {
   "cell_type": "markdown",
   "metadata": {},
   "source": [
    "Recall from the sprint that the shape of this distribution should make us suspicious, due to its asymmetry, and we might want to look into: [Studentized Bootstrap & Bias-Corrected Bootstrap](http://en.wikipedia.org/wiki/Bootstrapping_%28statistics%29#Methods_for_bootstrap_confidence_intervals)\n",
    "\n",
    "- Load in the population data and verify the population correlation is in the 95% CI\n"
   ]
  },
  {
   "cell_type": "code",
   "execution_count": 14,
   "metadata": {},
   "outputs": [
    {
     "name": "stdout",
     "output_type": "stream",
     "text": [
      "Population-wide LSAT and GPA correlation and P-value: 0.76\n"
     ]
    }
   ],
   "source": [
    "law_all = np.loadtxt('law_all.txt')\n",
    "corr_coeff, p_val = stats.pearsonr(law_all[:, 0], law_all[:, 1])\n",
    "print(\"Population-wide LSAT and GPA correlation and P-value: {:2.2f}\".format(corr_coeff))"
   ]
  }
 ],
 "metadata": {
  "anaconda-cloud": {},
  "kernelspec": {
   "display_name": "Python 3",
   "language": "python",
   "name": "python3"
  },
  "language_info": {
   "codemirror_mode": {
    "name": "ipython",
    "version": 3
   },
   "file_extension": ".py",
   "mimetype": "text/x-python",
   "name": "python",
   "nbconvert_exporter": "python",
   "pygments_lexer": "ipython3",
   "version": "3.7.1"
  }
 },
 "nbformat": 4,
 "nbformat_minor": 1
}
