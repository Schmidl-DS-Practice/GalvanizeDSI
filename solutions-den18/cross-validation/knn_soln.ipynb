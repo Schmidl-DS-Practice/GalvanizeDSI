{
 "cells": [
  {
   "cell_type": "markdown",
   "metadata": {},
   "source": [
    "# Loading & Splitting Data"
   ]
  },
  {
   "cell_type": "code",
   "execution_count": 1,
   "metadata": {
    "collapsed": true
   },
   "outputs": [],
   "source": [
    "from sklearn.neighbors import KNeighborsRegressor\n",
    "from sklearn.model_selection import KFold\n",
    "from sklearn.model_selection import train_test_split\n",
    "from sklearn.model_selection import cross_val_score\n",
    "import numpy as np\n",
    "from sklearn.datasets import load_boston\n",
    "from sklearn.metrics import mean_squared_error\n",
    "import numpy as np\n",
    "import pandas as pd\n",
    "import matplotlib.pyplot as plt\n",
    "%matplotlib inline"
   ]
  },
  {
   "cell_type": "code",
   "execution_count": 2,
   "metadata": {
    "collapsed": true
   },
   "outputs": [],
   "source": [
    "boston = load_boston()\n",
    "X = boston.data # housing features\n",
    "y = boston.target # housing prices"
   ]
  },
  {
   "cell_type": "code",
   "execution_count": 3,
   "metadata": {
    "collapsed": true
   },
   "outputs": [],
   "source": [
    "X_train, X_test, y_train, y_test = train_test_split(X, y, test_size=0.25)"
   ]
  },
  {
   "cell_type": "markdown",
   "metadata": {},
   "source": [
    "# Train & Test Split Only (yucky)"
   ]
  },
  {
   "cell_type": "code",
   "execution_count": 4,
   "metadata": {
    "collapsed": true
   },
   "outputs": [],
   "source": [
    "def my_rmse(y_true, y_pred):\n",
    "    mse = ((y_true - y_pred)**2).mean()\n",
    "    return np.sqrt(mse)"
   ]
  },
  {
   "cell_type": "code",
   "execution_count": 5,
   "metadata": {},
   "outputs": [
    {
     "name": "stdout",
     "output_type": "stream",
     "text": [
      "1.9493588689617927\n",
      "1.9493588689617927\n"
     ]
    }
   ],
   "source": [
    "foo = np.array([4,3,1,6,8])\n",
    "bar = np.array([4,6,1,3,7])\n",
    "print(my_rmse(foo,bar))\n",
    "print(np.sqrt(mean_squared_error(foo,bar)))"
   ]
  },
  {
   "cell_type": "code",
   "execution_count": 6,
   "metadata": {},
   "outputs": [
    {
     "name": "stdout",
     "output_type": "stream",
     "text": [
      "RMSE for training set  5.004034467294172\n",
      "RMSE for test set  6.382319080897923\n"
     ]
    }
   ],
   "source": [
    "# Fit your model using the training set\n",
    "reg = KNeighborsRegressor()\n",
    "reg.fit(X_train, y_train)\n",
    "\n",
    "# Call predict to get the predicted values for training and test set\n",
    "train_predicted = reg.predict(X_train)\n",
    "test_predicted = reg.predict(X_test)\n",
    "\n",
    "# Calculate RMSE for training and test set\n",
    "print('RMSE for training set ', my_rmse(y_train, train_predicted))\n",
    "print('RMSE for test set ', my_rmse(y_test, test_predicted))"
   ]
  },
  {
   "cell_type": "markdown",
   "metadata": {},
   "source": [
    "When we evaluate our RMSE on a new set of data, we gain an understanding of how well we are \n",
    "capturing the signal in our data.  We can build more complex models that may bend to perfectly\n",
    "fit our training data.  However, these models are not going to extend well to a new set of data,\n",
    "because they are likely overfit to our training data.  \n",
    "\n",
    "By evaluating our performance metric on a new set of data, we assure that we are modeling signal\n",
    "and not the noise in our data.\n"
   ]
  },
  {
   "cell_type": "markdown",
   "metadata": {},
   "source": [
    "# K-Fold Cross Validation (woo yeah)"
   ]
  },
  {
   "cell_type": "code",
   "execution_count": 7,
   "metadata": {
    "collapsed": true
   },
   "outputs": [],
   "source": [
    "def my_cross_val_score(X_data, y_data, num_folds=3):\n",
    "    ''' Returns error for k-fold cross validation. '''\n",
    "    kf = KFold(n_splits=num_folds)\n",
    "    error = np.empty(num_folds)\n",
    "    index = 0\n",
    "    reg = KNeighborsRegressor()\n",
    "    for train, test in kf.split(X_data):\n",
    "        reg.fit(X_data[train], y_data[train])\n",
    "        pred = reg.predict(X_data[test])\n",
    "        error[index] = my_rmse(pred, y_data[test])\n",
    "        index += 1\n",
    "    return np.mean(error)"
   ]
  },
  {
   "cell_type": "code",
   "execution_count": 8,
   "metadata": {},
   "outputs": [
    {
     "data": {
      "text/plain": [
       "6.283351851426688"
      ]
     },
     "execution_count": 8,
     "metadata": {},
     "output_type": "execute_result"
    }
   ],
   "source": [
    "my_cross_val_score(X_train, y_train, num_folds=5)"
   ]
  },
  {
   "cell_type": "markdown",
   "metadata": {},
   "source": [
    "\"do k-fold cross validation where you limit the training set size by varying amounts\"\n",
    "\n",
    "This could mean either changing k (higher k means there is more data in the training folds), or fixing k and restricting the amount of data we use in the first place."
   ]
  },
  {
   "cell_type": "markdown",
   "metadata": {},
   "source": [
    "Let's try the latter first:"
   ]
  },
  {
   "cell_type": "code",
   "execution_count": 9,
   "metadata": {
    "collapsed": true
   },
   "outputs": [],
   "source": [
    "cv_scores = []\n",
    "for n in range(20,300):\n",
    "    cv_score = my_cross_val_score(X_train[:n], y_train[:n], num_folds=5)\n",
    "    cv_scores.append(cv_score)"
   ]
  },
  {
   "cell_type": "code",
   "execution_count": 10,
   "metadata": {},
   "outputs": [
    {
     "data": {
      "image/png": "[encoded data removed]",
      "text/plain": [
       "<Figure size 432x288 with 1 Axes>"
      ]
     },
     "metadata": {},
     "output_type": "display_data"
    }
   ],
   "source": [
    "plt.plot(list(range(20,300)),cv_scores)\n",
    "plt.xlabel('n')\n",
    "plt.ylabel('rmse')\n",
    "plt.title('average test rmse vs sample size n');"
   ]
  },
  {
   "cell_type": "markdown",
   "metadata": {},
   "source": [
    "What if we use all the data and vary the number of folds?"
   ]
  },
  {
   "cell_type": "code",
   "execution_count": 11,
   "metadata": {
    "collapsed": true
   },
   "outputs": [],
   "source": [
    "cv_scores = []\n",
    "for k in range(2,51):\n",
    "    cv_score = my_cross_val_score(X_train, y_train, num_folds=k)\n",
    "    cv_scores.append(cv_score)"
   ]
  },
  {
   "cell_type": "code",
   "execution_count": 12,
   "metadata": {
    "scrolled": false
   },
   "outputs": [
    {
     "data": {
      "image/png": "[encoded data removed]",
      "text/plain": [
       "<Figure size 432x288 with 1 Axes>"
      ]
     },
     "metadata": {},
     "output_type": "display_data"
    }
   ],
   "source": [
    "plt.plot(cv_scores)\n",
    "plt.xlabel('k')\n",
    "plt.ylabel('rmse')\n",
    "plt.title('average test rmse vs # of folds k');"
   ]
  },
  {
   "cell_type": "code",
   "execution_count": null,
   "metadata": {
    "collapsed": true
   },
   "outputs": [],
   "source": []
  },
  {
   "cell_type": "markdown",
   "metadata": {},
   "source": [
    "I like to see train error along with test error, so let's modify that function a bit"
   ]
  },
  {
   "cell_type": "code",
   "execution_count": 13,
   "metadata": {
    "collapsed": true
   },
   "outputs": [],
   "source": [
    "def my_cross_val_scores(X_data, y_data, num_folds=3):\n",
    "    ''' Returns error for k-fold cross validation. '''\n",
    "    kf = KFold(n_splits=num_folds)\n",
    "    train_error = np.empty(num_folds)\n",
    "    test_error = np.empty(num_folds)\n",
    "    index = 0\n",
    "    reg = KNeighborsRegressor()\n",
    "    for train, test in kf.split(X_data):\n",
    "        reg.fit(X_data[train], y_data[train])\n",
    "        pred_train = reg.predict(X_data[train])\n",
    "        pred_test = reg.predict(X_data[test])\n",
    "        train_error[index] = my_rmse(pred_train, y_data[train])\n",
    "        test_error[index] = my_rmse(pred_test, y_data[test])\n",
    "        index += 1\n",
    "    return np.mean(test_error), np.mean(train_error)"
   ]
  },
  {
   "cell_type": "markdown",
   "metadata": {},
   "source": [
    "Here's rmse vs sample size:"
   ]
  },
  {
   "cell_type": "code",
   "execution_count": 14,
   "metadata": {
    "collapsed": true
   },
   "outputs": [],
   "source": [
    "cv_test_scores = []\n",
    "cv_train_scores = []\n",
    "\n",
    "for n in range(20,301):\n",
    "    cv_test, cv_train = my_cross_val_scores(X_train[:n], y_train[:n], num_folds=5)\n",
    "    cv_test_scores.append(cv_test)\n",
    "    cv_train_scores.append(cv_train)"
   ]
  },
  {
   "cell_type": "code",
   "execution_count": 15,
   "metadata": {},
   "outputs": [
    {
     "data": {
      "image/png": "[encoded data removed]",
      "text/plain": [
       "<Figure size 432x288 with 1 Axes>"
      ]
     },
     "metadata": {},
     "output_type": "display_data"
    }
   ],
   "source": [
    "plt.plot(cv_test_scores, label='test rmse')\n",
    "plt.plot(cv_train_scores, label='train rmse')\n",
    "plt.xlabel('n')\n",
    "plt.ylabel('rmse')\n",
    "plt.title('average rmse vs # sample size')\n",
    "plt.legend();"
   ]
  },
  {
   "cell_type": "code",
   "execution_count": null,
   "metadata": {
    "collapsed": true
   },
   "outputs": [],
   "source": []
  },
  {
   "cell_type": "markdown",
   "metadata": {},
   "source": [
    "And vs # of folds:"
   ]
  },
  {
   "cell_type": "code",
   "execution_count": 16,
   "metadata": {
    "collapsed": true
   },
   "outputs": [],
   "source": [
    "cv_test_scores = []\n",
    "cv_train_scores = []\n",
    "\n",
    "for k in range(2,51):\n",
    "    cv_test, cv_train = my_cross_val_scores(X_train, y_train, num_folds=k)\n",
    "    cv_test_scores.append(cv_test)\n",
    "    cv_train_scores.append(cv_train)"
   ]
  },
  {
   "cell_type": "code",
   "execution_count": 17,
   "metadata": {},
   "outputs": [
    {
     "data": {
      "image/png": "[encoded data removed]",
      "text/plain": [
       "<Figure size 432x288 with 1 Axes>"
      ]
     },
     "metadata": {},
     "output_type": "display_data"
    }
   ],
   "source": [
    "plt.plot(cv_test_scores, label='test rmse')\n",
    "plt.plot(cv_train_scores, label='train rmse')\n",
    "plt.xlabel('k')\n",
    "plt.ylabel('rmse')\n",
    "plt.title('average rmse vs # of folds k')\n",
    "plt.legend();"
   ]
  },
  {
   "cell_type": "markdown",
   "metadata": {},
   "source": [
    "# Stepwise Regression (extra credit)"
   ]
  },
  {
   "cell_type": "code",
   "execution_count": 18,
   "metadata": {
    "collapsed": true
   },
   "outputs": [],
   "source": [
    "from sklearn.datasets import make_friedman1"
   ]
  },
  {
   "cell_type": "code",
   "execution_count": 19,
   "metadata": {
    "collapsed": true
   },
   "outputs": [],
   "source": [
    "X_fri, y_fri = make_friedman1(n_samples=5000, n_features=100, random_state=0)"
   ]
  },
  {
   "cell_type": "code",
   "execution_count": 20,
   "metadata": {},
   "outputs": [],
   "source": [
    "from itertools import combinations\n",
    "from copy import deepcopy\n",
    "from sklearn.metrics import r2_score\n",
    "import quantecon as qe\n",
    "\n",
    "def Eliminate_One(reg, X, y, included_features):\n",
    "    '''\n",
    "    Eliminate One\n",
    "    For a provided regressor, evaluate the ideal subset of n-1 features to try from \n",
    "    a provided list of n features.  This function can be called itterative to perform\n",
    "    recursive feature elimination for a general regression model (not leveraging feature\n",
    "    importances).\n",
    "    \n",
    "    Inputs - \n",
    "    * reg = a regression model matching the sklearn mechanics\n",
    "    * X, y = numpy arrays for the features and targets\n",
    "    * included_features = numpy array indicating the column indexes to subset from\n",
    "    '''\n",
    "    best_r2 = -1\n",
    "    best_reg = deepcopy(reg)\n",
    "    best_features = None\n",
    "    X_train, X_test, y_train, y_test = train_test_split(X, y, test_size=0.25, random_state=13)\n",
    "    print(\"*** Trying {} combinations of features.\".format(included_features.shape[0]-1))\n",
    "    for feats in combinations(included_features, included_features.shape[0]-1):\n",
    "        reg.fit(X_train[:, feats], y_train)\n",
    "        r2 = r2_score(y_test, reg.predict(X_test[:, feats]))\n",
    "        if r2 > best_r2:\n",
    "            best_r2 = r2\n",
    "            best_reg = deepcopy(reg)\n",
    "            best_features = np.array(feats)\n",
    "    return best_reg, best_r2, best_features"
   ]
  },
  {
   "cell_type": "code",
   "execution_count": 21,
   "metadata": {},
   "outputs": [
    {
     "name": "stdout",
     "output_type": "stream",
     "text": [
      "*** Trying 99 combinations of features.\n",
      "TOC: Elapsed: 0:01:35.43\n",
      "With 1 features eliminated we have an adjusted R^2 of 0.273\n",
      "*** Trying 98 combinations of features.\n",
      "TOC: Elapsed: 0:01:23.86\n",
      "With 2 features eliminated we have an adjusted R^2 of 0.275\n",
      "*** Trying 97 combinations of features.\n",
      "TOC: Elapsed: 0:01:29.00\n",
      "With 3 features eliminated we have an adjusted R^2 of 0.267\n",
      "*** Trying 96 combinations of features.\n",
      "TOC: Elapsed: 0:01:26.92\n",
      "With 4 features eliminated we have an adjusted R^2 of 0.286\n",
      "*** Trying 95 combinations of features.\n",
      "TOC: Elapsed: 0:01:24.73\n",
      "With 5 features eliminated we have an adjusted R^2 of 0.266\n",
      "*** Trying 94 combinations of features.\n",
      "TOC: Elapsed: 0:01:24.91\n",
      "With 6 features eliminated we have an adjusted R^2 of 0.276\n",
      "*** Trying 93 combinations of features.\n",
      "TOC: Elapsed: 0:01:19.83\n",
      "With 7 features eliminated we have an adjusted R^2 of 0.276\n",
      "*** Trying 92 combinations of features.\n",
      "TOC: Elapsed: 0:01:21.74\n",
      "With 8 features eliminated we have an adjusted R^2 of 0.283\n",
      "*** Trying 91 combinations of features.\n",
      "TOC: Elapsed: 0:01:20.50\n",
      "With 9 features eliminated we have an adjusted R^2 of 0.306\n",
      "*** Trying 90 combinations of features.\n",
      "TOC: Elapsed: 0:01:20.45\n",
      "With 10 features eliminated we have an adjusted R^2 of 0.294\n",
      "*** Trying 89 combinations of features.\n",
      "TOC: Elapsed: 0:01:10.96\n",
      "With 11 features eliminated we have an adjusted R^2 of 0.293\n",
      "*** Trying 88 combinations of features.\n",
      "TOC: Elapsed: 0:01:6.41\n",
      "With 12 features eliminated we have an adjusted R^2 of 0.288\n",
      "*** Trying 87 combinations of features.\n",
      "TOC: Elapsed: 0:01:11.32\n",
      "With 13 features eliminated we have an adjusted R^2 of 0.324\n",
      "*** Trying 86 combinations of features.\n",
      "TOC: Elapsed: 0:01:20.99\n",
      "With 14 features eliminated we have an adjusted R^2 of 0.316\n",
      "*** Trying 85 combinations of features.\n",
      "TOC: Elapsed: 0:01:2.22\n",
      "With 15 features eliminated we have an adjusted R^2 of 0.329\n",
      "*** Trying 84 combinations of features.\n",
      "TOC: Elapsed: 0:01:5.26\n",
      "With 16 features eliminated we have an adjusted R^2 of 0.315\n",
      "*** Trying 83 combinations of features.\n",
      "TOC: Elapsed: 0:01:4.60\n",
      "With 17 features eliminated we have an adjusted R^2 of 0.320\n",
      "*** Trying 82 combinations of features.\n",
      "TOC: Elapsed: 0:01:2.64\n",
      "With 18 features eliminated we have an adjusted R^2 of 0.334\n",
      "*** Trying 81 combinations of features.\n",
      "TOC: Elapsed: 0:00:56.26\n",
      "With 19 features eliminated we have an adjusted R^2 of 0.326\n",
      "*** Trying 80 combinations of features.\n",
      "TOC: Elapsed: 0:00:53.41\n",
      "With 20 features eliminated we have an adjusted R^2 of 0.338\n",
      "*** Trying 79 combinations of features.\n",
      "TOC: Elapsed: 0:00:54.55\n",
      "With 21 features eliminated we have an adjusted R^2 of 0.337\n",
      "*** Trying 78 combinations of features.\n",
      "TOC: Elapsed: 0:00:54.49\n",
      "With 22 features eliminated we have an adjusted R^2 of 0.333\n",
      "*** Trying 77 combinations of features.\n",
      "TOC: Elapsed: 0:00:53.83\n",
      "With 23 features eliminated we have an adjusted R^2 of 0.350\n",
      "*** Trying 76 combinations of features.\n",
      "TOC: Elapsed: 0:00:51.51\n",
      "With 24 features eliminated we have an adjusted R^2 of 0.337\n",
      "*** Trying 75 combinations of features.\n",
      "TOC: Elapsed: 0:00:48.71\n",
      "With 25 features eliminated we have an adjusted R^2 of 0.341\n",
      "*** Trying 74 combinations of features.\n",
      "TOC: Elapsed: 0:00:44.87\n",
      "With 26 features eliminated we have an adjusted R^2 of 0.344\n",
      "*** Trying 73 combinations of features.\n",
      "TOC: Elapsed: 0:00:48.78\n",
      "With 27 features eliminated we have an adjusted R^2 of 0.357\n",
      "*** Trying 72 combinations of features.\n",
      "TOC: Elapsed: 0:00:42.32\n",
      "With 28 features eliminated we have an adjusted R^2 of 0.361\n",
      "*** Trying 71 combinations of features.\n",
      "TOC: Elapsed: 0:00:41.02\n",
      "With 29 features eliminated we have an adjusted R^2 of 0.340\n",
      "*** Trying 70 combinations of features.\n",
      "TOC: Elapsed: 0:00:37.82\n",
      "With 30 features eliminated we have an adjusted R^2 of 0.360\n",
      "*** Trying 69 combinations of features.\n",
      "TOC: Elapsed: 0:01:3.83\n",
      "With 31 features eliminated we have an adjusted R^2 of 0.353\n",
      "*** Trying 68 combinations of features.\n",
      "TOC: Elapsed: 0:00:46.21\n",
      "With 32 features eliminated we have an adjusted R^2 of 0.350\n",
      "*** Trying 67 combinations of features.\n",
      "TOC: Elapsed: 0:00:33.63\n",
      "With 33 features eliminated we have an adjusted R^2 of 0.376\n",
      "*** Trying 66 combinations of features.\n",
      "TOC: Elapsed: 0:00:32.44\n",
      "With 34 features eliminated we have an adjusted R^2 of 0.367\n",
      "*** Trying 65 combinations of features.\n",
      "TOC: Elapsed: 0:00:31.43\n",
      "With 35 features eliminated we have an adjusted R^2 of 0.367\n",
      "*** Trying 64 combinations of features.\n",
      "TOC: Elapsed: 0:00:36.93\n",
      "With 36 features eliminated we have an adjusted R^2 of 0.387\n",
      "*** Trying 63 combinations of features.\n",
      "TOC: Elapsed: 0:00:32.96\n",
      "With 37 features eliminated we have an adjusted R^2 of 0.376\n",
      "*** Trying 62 combinations of features.\n",
      "TOC: Elapsed: 0:00:28.13\n",
      "With 38 features eliminated we have an adjusted R^2 of 0.382\n",
      "*** Trying 61 combinations of features.\n",
      "TOC: Elapsed: 0:00:27.09\n",
      "With 39 features eliminated we have an adjusted R^2 of 0.397\n",
      "*** Trying 60 combinations of features.\n",
      "TOC: Elapsed: 0:00:26.43\n",
      "With 40 features eliminated we have an adjusted R^2 of 0.392\n",
      "*** Trying 59 combinations of features.\n",
      "TOC: Elapsed: 0:00:22.32\n",
      "With 41 features eliminated we have an adjusted R^2 of 0.393\n",
      "*** Trying 58 combinations of features.\n",
      "TOC: Elapsed: 0:00:21.50\n",
      "With 42 features eliminated we have an adjusted R^2 of 0.389\n",
      "*** Trying 57 combinations of features.\n",
      "TOC: Elapsed: 0:00:20.87\n",
      "With 43 features eliminated we have an adjusted R^2 of 0.410\n",
      "*** Trying 56 combinations of features.\n",
      "TOC: Elapsed: 0:00:20.31\n",
      "With 44 features eliminated we have an adjusted R^2 of 0.411\n",
      "*** Trying 55 combinations of features.\n",
      "TOC: Elapsed: 0:00:19.56\n",
      "With 45 features eliminated we have an adjusted R^2 of 0.405\n",
      "*** Trying 54 combinations of features.\n",
      "TOC: Elapsed: 0:00:19.14\n",
      "With 46 features eliminated we have an adjusted R^2 of 0.426\n",
      "*** Trying 53 combinations of features.\n",
      "TOC: Elapsed: 0:00:18.34\n",
      "With 47 features eliminated we have an adjusted R^2 of 0.421\n",
      "*** Trying 52 combinations of features.\n",
      "TOC: Elapsed: 0:00:20.90\n",
      "With 48 features eliminated we have an adjusted R^2 of 0.435\n",
      "*** Trying 51 combinations of features.\n",
      "TOC: Elapsed: 0:00:17.90\n",
      "With 49 features eliminated we have an adjusted R^2 of 0.424\n",
      "*** Trying 50 combinations of features.\n",
      "TOC: Elapsed: 0:00:16.69\n",
      "With 50 features eliminated we have an adjusted R^2 of 0.419\n",
      "*** Trying 49 combinations of features.\n",
      "TOC: Elapsed: 0:00:15.93\n",
      "With 51 features eliminated we have an adjusted R^2 of 0.438\n",
      "*** Trying 48 combinations of features.\n",
      "TOC: Elapsed: 0:00:15.40\n",
      "With 52 features eliminated we have an adjusted R^2 of 0.438\n",
      "*** Trying 47 combinations of features.\n",
      "TOC: Elapsed: 0:00:14.72\n",
      "With 53 features eliminated we have an adjusted R^2 of 0.451\n",
      "*** Trying 46 combinations of features.\n",
      "TOC: Elapsed: 0:00:14.34\n",
      "With 54 features eliminated we have an adjusted R^2 of 0.447\n",
      "*** Trying 45 combinations of features.\n",
      "TOC: Elapsed: 0:00:13.54\n",
      "With 55 features eliminated we have an adjusted R^2 of 0.451\n",
      "*** Trying 44 combinations of features.\n",
      "TOC: Elapsed: 0:00:13.39\n",
      "With 56 features eliminated we have an adjusted R^2 of 0.460\n",
      "*** Trying 43 combinations of features.\n",
      "TOC: Elapsed: 0:00:12.47\n",
      "With 57 features eliminated we have an adjusted R^2 of 0.478\n",
      "*** Trying 42 combinations of features.\n",
      "TOC: Elapsed: 0:00:12.18\n",
      "With 58 features eliminated we have an adjusted R^2 of 0.476\n",
      "*** Trying 41 combinations of features.\n",
      "TOC: Elapsed: 0:00:11.59\n",
      "With 59 features eliminated we have an adjusted R^2 of 0.468\n",
      "*** Trying 40 combinations of features.\n",
      "TOC: Elapsed: 0:00:11.26\n",
      "With 60 features eliminated we have an adjusted R^2 of 0.477\n",
      "*** Trying 39 combinations of features.\n",
      "TOC: Elapsed: 0:00:10.55\n",
      "With 61 features eliminated we have an adjusted R^2 of 0.475\n",
      "*** Trying 38 combinations of features.\n",
      "TOC: Elapsed: 0:00:10.08\n",
      "With 62 features eliminated we have an adjusted R^2 of 0.499\n",
      "*** Trying 37 combinations of features.\n",
      "TOC: Elapsed: 0:00:9.68\n",
      "With 63 features eliminated we have an adjusted R^2 of 0.507\n",
      "*** Trying 36 combinations of features.\n",
      "TOC: Elapsed: 0:00:9.36\n",
      "With 64 features eliminated we have an adjusted R^2 of 0.507\n",
      "*** Trying 35 combinations of features.\n",
      "TOC: Elapsed: 0:00:8.75\n",
      "With 65 features eliminated we have an adjusted R^2 of 0.513\n",
      "*** Trying 34 combinations of features.\n"
     ]
    },
    {
     "name": "stdout",
     "output_type": "stream",
     "text": [
      "TOC: Elapsed: 0:00:8.34\n",
      "With 66 features eliminated we have an adjusted R^2 of 0.529\n",
      "*** Trying 33 combinations of features.\n",
      "TOC: Elapsed: 0:00:7.94\n",
      "With 67 features eliminated we have an adjusted R^2 of 0.540\n",
      "*** Trying 32 combinations of features.\n",
      "TOC: Elapsed: 0:00:7.69\n",
      "With 68 features eliminated we have an adjusted R^2 of 0.532\n",
      "*** Trying 31 combinations of features.\n",
      "TOC: Elapsed: 0:00:7.34\n",
      "With 69 features eliminated we have an adjusted R^2 of 0.556\n",
      "*** Trying 30 combinations of features.\n",
      "TOC: Elapsed: 0:00:6.97\n",
      "With 70 features eliminated we have an adjusted R^2 of 0.550\n",
      "*** Trying 29 combinations of features.\n",
      "TOC: Elapsed: 0:00:6.55\n",
      "With 71 features eliminated we have an adjusted R^2 of 0.550\n",
      "*** Trying 28 combinations of features.\n",
      "TOC: Elapsed: 0:00:6.27\n",
      "With 72 features eliminated we have an adjusted R^2 of 0.563\n",
      "*** Trying 27 combinations of features.\n",
      "TOC: Elapsed: 0:00:5.76\n",
      "With 73 features eliminated we have an adjusted R^2 of 0.563\n",
      "*** Trying 26 combinations of features.\n",
      "TOC: Elapsed: 0:00:5.44\n",
      "With 74 features eliminated we have an adjusted R^2 of 0.581\n",
      "*** Trying 25 combinations of features.\n",
      "TOC: Elapsed: 0:00:5.04\n",
      "With 75 features eliminated we have an adjusted R^2 of 0.590\n",
      "*** Trying 24 combinations of features.\n",
      "TOC: Elapsed: 0:00:4.81\n",
      "With 76 features eliminated we have an adjusted R^2 of 0.584\n",
      "*** Trying 23 combinations of features.\n",
      "TOC: Elapsed: 0:00:4.36\n",
      "With 77 features eliminated we have an adjusted R^2 of 0.593\n",
      "*** Trying 22 combinations of features.\n",
      "TOC: Elapsed: 0:00:4.07\n",
      "With 78 features eliminated we have an adjusted R^2 of 0.642\n",
      "*** Trying 21 combinations of features.\n",
      "TOC: Elapsed: 0:00:3.80\n",
      "With 79 features eliminated we have an adjusted R^2 of 0.619\n",
      "*** Trying 20 combinations of features.\n",
      "TOC: Elapsed: 0:00:3.60\n",
      "With 80 features eliminated we have an adjusted R^2 of 0.636\n",
      "*** Trying 19 combinations of features.\n",
      "TOC: Elapsed: 0:00:3.22\n",
      "With 81 features eliminated we have an adjusted R^2 of 0.647\n",
      "*** Trying 18 combinations of features.\n",
      "TOC: Elapsed: 0:00:2.97\n",
      "With 82 features eliminated we have an adjusted R^2 of 0.686\n",
      "*** Trying 17 combinations of features.\n",
      "TOC: Elapsed: 0:00:2.71\n",
      "With 83 features eliminated we have an adjusted R^2 of 0.685\n",
      "*** Trying 16 combinations of features.\n",
      "TOC: Elapsed: 0:00:2.54\n",
      "With 84 features eliminated we have an adjusted R^2 of 0.715\n",
      "*** Trying 15 combinations of features.\n",
      "TOC: Elapsed: 0:00:2.20\n",
      "With 85 features eliminated we have an adjusted R^2 of 0.715\n",
      "*** Trying 14 combinations of features.\n",
      "TOC: Elapsed: 0:00:1.95\n",
      "With 86 features eliminated we have an adjusted R^2 of 0.737\n",
      "*** Trying 13 combinations of features.\n",
      "TOC: Elapsed: 0:00:1.68\n",
      "With 87 features eliminated we have an adjusted R^2 of 0.764\n",
      "*** Trying 12 combinations of features.\n",
      "TOC: Elapsed: 0:00:1.46\n",
      "With 88 features eliminated we have an adjusted R^2 of 0.789\n",
      "*** Trying 11 combinations of features.\n",
      "TOC: Elapsed: 0:00:1.15\n",
      "With 89 features eliminated we have an adjusted R^2 of 0.798\n",
      "*** Trying 10 combinations of features.\n",
      "TOC: Elapsed: 0:00:0.88\n",
      "With 90 features eliminated we have an adjusted R^2 of 0.824\n",
      "*** Trying 9 combinations of features.\n",
      "TOC: Elapsed: 0:00:0.64\n",
      "With 91 features eliminated we have an adjusted R^2 of 0.840\n",
      "*** Trying 8 combinations of features.\n",
      "TOC: Elapsed: 0:00:0.42\n",
      "With 92 features eliminated we have an adjusted R^2 of 0.873\n",
      "*** Trying 7 combinations of features.\n",
      "TOC: Elapsed: 0:00:0.24\n",
      "With 93 features eliminated we have an adjusted R^2 of 0.896\n",
      "*** Trying 6 combinations of features.\n",
      "TOC: Elapsed: 0:00:0.13\n",
      "With 94 features eliminated we have an adjusted R^2 of 0.921\n",
      "*** Trying 5 combinations of features.\n",
      "TOC: Elapsed: 0:00:0.08\n",
      "With 95 features eliminated we have an adjusted R^2 of 0.952\n",
      "*** Trying 4 combinations of features.\n",
      "TOC: Elapsed: 0:00:0.05\n",
      "With 96 features eliminated we have an adjusted R^2 of 0.887\n",
      "*** Trying 3 combinations of features.\n",
      "TOC: Elapsed: 0:00:0.02\n",
      "With 97 features eliminated we have an adjusted R^2 of 0.786\n",
      "*** Trying 2 combinations of features.\n",
      "TOC: Elapsed: 0:00:0.01\n",
      "With 98 features eliminated we have an adjusted R^2 of 0.483\n",
      "*** Trying 1 combinations of features.\n",
      "TOC: Elapsed: 0:00:0.01\n",
      "With 99 features eliminated we have an adjusted R^2 of 0.254\n"
     ]
    }
   ],
   "source": [
    "n_samples = X_fri.shape[0]\n",
    "n_features = X_fri.shape[1]\n",
    "r2_scores = np.zeros(n_features)\n",
    "adj_r2_scores = np.zeros(n_features)\n",
    "feats = np.array(list(range(n_features)))\n",
    "\n",
    "# Hint: consider debugging with 3 steps instead of all 100.\n",
    "# N.B. this is a brute force approach, and will take a long time.  This is a nice demonstration\n",
    "# of the practical drawbacks to KNN.  \n",
    "for p in range(1, n_features):\n",
    "    qe.util.tic()\n",
    "    reg, r2, feats = Eliminate_One(KNeighborsRegressor(n_neighbors=10), X_fri, y_fri, feats)\n",
    "    qe.util.toc()\n",
    "    adj_r2 = 1 - ((1 - r2)*(n_samples - 1)/(n_samples - (n_features - p) - 1))\n",
    "    r2_scores[p-1] = r2\n",
    "    adj_r2_scores[p-1] = adj_r2\n",
    "    print(\"With {0} features eliminated we have an adjusted R^2 of {1:.3f}\".format(p, adj_r2))"
   ]
  },
  {
   "cell_type": "code",
   "execution_count": 29,
   "metadata": {},
   "outputs": [
    {
     "data": {
      "image/png": "[encoded data removed]",
      "text/plain": [
       "<Figure size 432x288 with 1 Axes>"
      ]
     },
     "metadata": {},
     "output_type": "display_data"
    }
   ],
   "source": [
    "plt.plot(np.arange(1,n_features +1), r2_scores)\n",
    "plt.title('Recursive Feature Elimination Explained Variance')\n",
    "plt.xlabel('Number of Removed Features')\n",
    "plt.ylabel('R^2');"
   ]
  },
  {
   "cell_type": "code",
   "execution_count": 30,
   "metadata": {},
   "outputs": [
    {
     "data": {
      "image/png": "[encoded data removed]",
      "text/plain": [
       "<Figure size 432x288 with 1 Axes>"
      ]
     },
     "metadata": {},
     "output_type": "display_data"
    }
   ],
   "source": [
    "plt.plot(np.arange(1,n_features +1), adj_r2_scores)\n",
    "plt.title('Recursive Feature Elimination Adjusted Explained Variance')\n",
    "plt.xlabel('Number of features')\n",
    "plt.ylabel('Adjusted R^2');"
   ]
  },
  {
   "cell_type": "code",
   "execution_count": null,
   "metadata": {
    "collapsed": true
   },
   "outputs": [],
   "source": []
  }
 ],
 "metadata": {
  "kernelspec": {
   "display_name": "Python 3",
   "language": "python",
   "name": "python3"
  },
  "language_info": {
   "codemirror_mode": {
    "name": "ipython",
    "version": 3
   },
   "file_extension": ".py",
   "mimetype": "text/x-python",
   "name": "python",
   "nbconvert_exporter": "python",
   "pygments_lexer": "ipython3",
   "version": "3.6.8"
  }
 },
 "nbformat": 4,
 "nbformat_minor": 2
}
