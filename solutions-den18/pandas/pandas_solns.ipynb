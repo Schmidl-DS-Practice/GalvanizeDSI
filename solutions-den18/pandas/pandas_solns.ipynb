{
 "cells": [
  {
   "cell_type": "markdown",
   "metadata": {},
   "source": [
    "# Exploring real Health Care data using Pandas"
   ]
  },
  {
   "cell_type": "code",
   "execution_count": 3,
   "metadata": {},
   "outputs": [],
   "source": [
    "import pandas as pd\n",
    "import matplotlib.pyplot as plt\n",
    "%matplotlib inline\n",
    "\n",
    "df = pd.read_csv('../../pandas/data/hospital-costs.csv')"
   ]
  },
  {
   "cell_type": "markdown",
   "metadata": {},
   "source": [
    "### 1\\. Create a new column \"Total Charges\" using \"Discharges\" and \"Mean Charge\".\n",
    "\n",
    "Answer: The product of series is done element-wise: (http://pandas.pydata.org/pandas-docs/stable/generated/pandas.Series.multiply.html)"
   ]
  },
  {
   "cell_type": "code",
   "execution_count": 4,
   "metadata": {},
   "outputs": [],
   "source": [
    "df['Total Charges'] = df['Discharges'] * df['Mean Charge']"
   ]
  },
  {
   "cell_type": "markdown",
   "metadata": {},
   "source": [
    "### 2\\. Do the same for the \"Total Costs\" using \"Mean Cost\"."
   ]
  },
  {
   "cell_type": "code",
   "execution_count": 5,
   "metadata": {},
   "outputs": [],
   "source": [
    "df['Total Costs'] = df['Discharges'] * df['Mean Cost']"
   ]
  },
  {
   "cell_type": "markdown",
   "metadata": {},
   "source": [
    "### 3\\. Calculate the charges to costs \"markup\" rate.\n",
    "\n",
    "Answer: The division is also done element-wise: (http://pandas.pydata.org/pandas-docs/stable/generated/pandas.Series.divide.html)"
   ]
  },
  {
   "cell_type": "code",
   "execution_count": 6,
   "metadata": {},
   "outputs": [],
   "source": [
    "df['Markup'] = df['Mean Charge'] / df['Mean Cost'] - 1"
   ]
  },
  {
   "cell_type": "markdown",
   "metadata": {},
   "source": [
    "### 4\\. Which procedure has the highest \"markup\" rate, and which one has the lowest \"markup\" rate. \n",
    "### (It's always good to do a sanity check, do these results make sense to you?)\n",
    "\n",
    "Answer: First, let's sort the dataframe by descending values of \"markup\".  (http://pandas.pydata.org/pandas-docs/stable/generated/pandas.DataFrame.sort_values.html)\n",
    "\n",
    "Then to display the procedures, we will limit ourselves to just a few columns: `Facility Name`, `APR DRG Description`, `Total Charges`, `Total Costs`, and `Markup`."
   ]
  },
  {
   "cell_type": "code",
   "execution_count": 7,
   "metadata": {},
   "outputs": [],
   "source": [
    "markups = df.sort_values(by='Markup', ascending=False)\n",
    "\n",
    "markups = markups[['Facility Name', 'APR DRG Description',\n",
    "    'Total Charges', 'Total Costs', 'Markup']]"
   ]
  },
  {
   "cell_type": "markdown",
   "metadata": {},
   "source": [
    "The procedure with the highest (resp. lowest) markup is in the first (resp. last) row of the new dataframe:"
   ]
  },
  {
   "cell_type": "code",
   "execution_count": 8,
   "metadata": {},
   "outputs": [
    {
     "name": "stdout",
     "output_type": "stream",
     "text": [
      "procedure with the highest markup:\n"
     ]
    },
    {
     "data": {
      "text/html": [
       "<div>\n",
       "<style scoped>\n",
       "    .dataframe tbody tr th:only-of-type {\n",
       "        vertical-align: middle;\n",
       "    }\n",
       "\n",
       "    .dataframe tbody tr th {\n",
       "        vertical-align: top;\n",
       "    }\n",
       "\n",
       "    .dataframe thead th {\n",
       "        text-align: right;\n",
       "    }\n",
       "</style>\n",
       "<table border=\"1\" class=\"dataframe\">\n",
       "  <thead>\n",
       "    <tr style=\"text-align: right;\">\n",
       "      <th></th>\n",
       "      <th>Facility Name</th>\n",
       "      <th>APR DRG Description</th>\n",
       "      <th>Total Charges</th>\n",
       "      <th>Total Costs</th>\n",
       "      <th>Markup</th>\n",
       "    </tr>\n",
       "  </thead>\n",
       "  <tbody>\n",
       "    <tr>\n",
       "      <td>111925</td>\n",
       "      <td>SUNY Downstate Medical Center at LICH</td>\n",
       "      <td>Neonate Bwt 1500-1999G W Or W/O Other Signific...</td>\n",
       "      <td>43088.0</td>\n",
       "      <td>2068.0</td>\n",
       "      <td>19.83559</td>\n",
       "    </tr>\n",
       "  </tbody>\n",
       "</table>\n",
       "</div>"
      ],
      "text/plain": [
       "                                Facility Name  \\\n",
       "111925  SUNY Downstate Medical Center at LICH   \n",
       "\n",
       "                                      APR DRG Description  Total Charges  \\\n",
       "111925  Neonate Bwt 1500-1999G W Or W/O Other Signific...        43088.0   \n",
       "\n",
       "        Total Costs    Markup  \n",
       "111925       2068.0  19.83559  "
      ]
     },
     "execution_count": 8,
     "metadata": {},
     "output_type": "execute_result"
    }
   ],
   "source": [
    "print('procedure with the highest markup:')\n",
    "\n",
    "markups.head(1)"
   ]
  },
  {
   "cell_type": "code",
   "execution_count": 9,
   "metadata": {},
   "outputs": [
    {
     "name": "stdout",
     "output_type": "stream",
     "text": [
      "procedure with the lowest markup:\n"
     ]
    },
    {
     "data": {
      "text/html": [
       "<div>\n",
       "<style scoped>\n",
       "    .dataframe tbody tr th:only-of-type {\n",
       "        vertical-align: middle;\n",
       "    }\n",
       "\n",
       "    .dataframe tbody tr th {\n",
       "        vertical-align: top;\n",
       "    }\n",
       "\n",
       "    .dataframe thead th {\n",
       "        text-align: right;\n",
       "    }\n",
       "</style>\n",
       "<table border=\"1\" class=\"dataframe\">\n",
       "  <thead>\n",
       "    <tr style=\"text-align: right;\">\n",
       "      <th></th>\n",
       "      <th>Facility Name</th>\n",
       "      <th>APR DRG Description</th>\n",
       "      <th>Total Charges</th>\n",
       "      <th>Total Costs</th>\n",
       "      <th>Markup</th>\n",
       "    </tr>\n",
       "  </thead>\n",
       "  <tbody>\n",
       "    <tr>\n",
       "      <td>370760</td>\n",
       "      <td>TLC Health Network Tri-County Memorial Hospital</td>\n",
       "      <td>Alcohol &amp; Drug Dependence W Rehab Or Rehab/Det...</td>\n",
       "      <td>1540540.0</td>\n",
       "      <td>97482510.0</td>\n",
       "      <td>-0.984197</td>\n",
       "    </tr>\n",
       "  </tbody>\n",
       "</table>\n",
       "</div>"
      ],
      "text/plain": [
       "                                          Facility Name  \\\n",
       "370760  TLC Health Network Tri-County Memorial Hospital   \n",
       "\n",
       "                                      APR DRG Description  Total Charges  \\\n",
       "370760  Alcohol & Drug Dependence W Rehab Or Rehab/Det...      1540540.0   \n",
       "\n",
       "        Total Costs    Markup  \n",
       "370760   97482510.0 -0.984197  "
      ]
     },
     "execution_count": 9,
     "metadata": {},
     "output_type": "execute_result"
    }
   ],
   "source": [
    "print('procedure with the lowest markup:')\n",
    "\n",
    "markups.tail(1)"
   ]
  },
  {
   "cell_type": "markdown",
   "metadata": {},
   "source": [
    "### Bonus: What if we want to look at procedures with the highest and lowest averaged markup across facilities?\n",
    "\n",
    "We would change the line\n",
    "\n",
    "```python\n",
    "markups = df.sort_values(by='Markup', ascending=False)\n",
    "```\n",
    "\n",
    "to\n",
    "\n",
    "```python\n",
    "markups = (df.groupby('Facility Name').mean()\n",
    "    .sort_values(by='Markup', ascending=False))\n",
    "```\n",
    "\n",
    "The rest of the code is unchanged."
   ]
  },
  {
   "cell_type": "markdown",
   "metadata": {},
   "source": [
    "## Out of curiosity..."
   ]
  },
  {
   "cell_type": "markdown",
   "metadata": {},
   "source": [
    "### 1\\. What are the top 10 reasons people are going to the hospital for, and how many people did they see?"
   ]
  },
  {
   "cell_type": "code",
   "execution_count": 10,
   "metadata": {},
   "outputs": [
    {
     "data": {
      "text/html": [
       "<div>\n",
       "<style scoped>\n",
       "    .dataframe tbody tr th:only-of-type {\n",
       "        vertical-align: middle;\n",
       "    }\n",
       "\n",
       "    .dataframe tbody tr th {\n",
       "        vertical-align: top;\n",
       "    }\n",
       "\n",
       "    .dataframe thead th {\n",
       "        text-align: right;\n",
       "    }\n",
       "</style>\n",
       "<table border=\"1\" class=\"dataframe\">\n",
       "  <thead>\n",
       "    <tr style=\"text-align: right;\">\n",
       "      <th></th>\n",
       "      <th>Discharges</th>\n",
       "    </tr>\n",
       "    <tr>\n",
       "      <th>APR DRG Description</th>\n",
       "      <th></th>\n",
       "    </tr>\n",
       "  </thead>\n",
       "  <tbody>\n",
       "    <tr>\n",
       "      <td>Neonate Birthwt &gt;2499G, Normal Newborn Or Neonate W Other Problem</td>\n",
       "      <td>632412</td>\n",
       "    </tr>\n",
       "    <tr>\n",
       "      <td>Vaginal Delivery</td>\n",
       "      <td>458034</td>\n",
       "    </tr>\n",
       "    <tr>\n",
       "      <td>Cesarean Delivery</td>\n",
       "      <td>245265</td>\n",
       "    </tr>\n",
       "    <tr>\n",
       "      <td>Heart Failure</td>\n",
       "      <td>173826</td>\n",
       "    </tr>\n",
       "    <tr>\n",
       "      <td>Other Pneumonia</td>\n",
       "      <td>162344</td>\n",
       "    </tr>\n",
       "    <tr>\n",
       "      <td>Septicemia &amp; Disseminated Infections</td>\n",
       "      <td>161739</td>\n",
       "    </tr>\n",
       "    <tr>\n",
       "      <td>Chronic Obstructive Pulmonary Disease</td>\n",
       "      <td>146461</td>\n",
       "    </tr>\n",
       "    <tr>\n",
       "      <td>Cellulitis &amp; Other Bacterial Skin Infections</td>\n",
       "      <td>124617</td>\n",
       "    </tr>\n",
       "    <tr>\n",
       "      <td>Cardiac Arrhythmia &amp; Conduction Disorders</td>\n",
       "      <td>121042</td>\n",
       "    </tr>\n",
       "    <tr>\n",
       "      <td>Chest Pain</td>\n",
       "      <td>117630</td>\n",
       "    </tr>\n",
       "  </tbody>\n",
       "</table>\n",
       "</div>"
      ],
      "text/plain": [
       "                                                    Discharges\n",
       "APR DRG Description                                           \n",
       "Neonate Birthwt >2499G, Normal Newborn Or Neona...      632412\n",
       "Vaginal Delivery                                        458034\n",
       "Cesarean Delivery                                       245265\n",
       "Heart Failure                                           173826\n",
       "Other Pneumonia                                         162344\n",
       "Septicemia & Disseminated Infections                    161739\n",
       "Chronic Obstructive Pulmonary Disease                   146461\n",
       "Cellulitis & Other Bacterial Skin Infections            124617\n",
       "Cardiac Arrhythmia & Conduction Disorders               121042\n",
       "Chest Pain                                              117630"
      ]
     },
     "execution_count": 10,
     "metadata": {},
     "output_type": "execute_result"
    }
   ],
   "source": [
    "(df[['APR DRG Description', 'Discharges']]\n",
    "    .groupby('APR DRG Description')\n",
    "    .sum()\n",
    "    .sort_values(by='Discharges', ascending=False)\n",
    "    .head(10))"
   ]
  },
  {
   "cell_type": "markdown",
   "metadata": {
    "collapsed": true
   },
   "source": [
    "### Now, let's follow the money..."
   ]
  },
  {
   "cell_type": "markdown",
   "metadata": {},
   "source": [
    "### 1\\. Create a new dataframe named \"net\" that is only the Facility Name, Total Charge, Total Cost from our original dataframe"
   ]
  },
  {
   "cell_type": "code",
   "execution_count": 11,
   "metadata": {},
   "outputs": [],
   "source": [
    "net = df[['Facility Name', 'Total Charges', 'Total Costs']]"
   ]
  },
  {
   "cell_type": "markdown",
   "metadata": {},
   "source": [
    "### 2\\. Find the total amount each hospital spent, and how much they charged. (Group your data by Facility names, and sum all the total costs and total charges) "
   ]
  },
  {
   "cell_type": "code",
   "execution_count": 12,
   "metadata": {},
   "outputs": [],
   "source": [
    "net = net.groupby('Facility Name').sum()"
   ]
  },
  {
   "cell_type": "markdown",
   "metadata": {},
   "source": [
    "### 3\\. Now find the net income for every hospital. Tell me the most profitable and the least profitable ones and how much are they making?  "
   ]
  },
  {
   "cell_type": "code",
   "execution_count": 13,
   "metadata": {},
   "outputs": [],
   "source": [
    "net['Net Income'] = net['Total Charges'] - net[\"Total Costs\"]\n",
    "\n",
    "net = net.sort_values(by='Net Income', ascending=False)"
   ]
  },
  {
   "cell_type": "code",
   "execution_count": 14,
   "metadata": {},
   "outputs": [
    {
     "name": "stdout",
     "output_type": "stream",
     "text": [
      "most profitable:\n"
     ]
    },
    {
     "data": {
      "text/html": [
       "<div>\n",
       "<style scoped>\n",
       "    .dataframe tbody tr th:only-of-type {\n",
       "        vertical-align: middle;\n",
       "    }\n",
       "\n",
       "    .dataframe tbody tr th {\n",
       "        vertical-align: top;\n",
       "    }\n",
       "\n",
       "    .dataframe thead th {\n",
       "        text-align: right;\n",
       "    }\n",
       "</style>\n",
       "<table border=\"1\" class=\"dataframe\">\n",
       "  <thead>\n",
       "    <tr style=\"text-align: right;\">\n",
       "      <th></th>\n",
       "      <th>Total Charges</th>\n",
       "      <th>Total Costs</th>\n",
       "      <th>Net Income</th>\n",
       "    </tr>\n",
       "    <tr>\n",
       "      <th>Facility Name</th>\n",
       "      <th></th>\n",
       "      <th></th>\n",
       "      <th></th>\n",
       "    </tr>\n",
       "  </thead>\n",
       "  <tbody>\n",
       "    <tr>\n",
       "      <td>North Shore University Hospital</td>\n",
       "      <td>7.984556e+09</td>\n",
       "      <td>1.933824e+09</td>\n",
       "      <td>6.050732e+09</td>\n",
       "    </tr>\n",
       "  </tbody>\n",
       "</table>\n",
       "</div>"
      ],
      "text/plain": [
       "                                 Total Charges   Total Costs    Net Income\n",
       "Facility Name                                                             \n",
       "North Shore University Hospital   7.984556e+09  1.933824e+09  6.050732e+09"
      ]
     },
     "execution_count": 14,
     "metadata": {},
     "output_type": "execute_result"
    }
   ],
   "source": [
    "print('most profitable:')\n",
    "\n",
    "net.head(1)"
   ]
  },
  {
   "cell_type": "code",
   "execution_count": 15,
   "metadata": {},
   "outputs": [
    {
     "name": "stdout",
     "output_type": "stream",
     "text": [
      "least profitable:\n"
     ]
    },
    {
     "data": {
      "text/html": [
       "<div>\n",
       "<style scoped>\n",
       "    .dataframe tbody tr th:only-of-type {\n",
       "        vertical-align: middle;\n",
       "    }\n",
       "\n",
       "    .dataframe tbody tr th {\n",
       "        vertical-align: top;\n",
       "    }\n",
       "\n",
       "    .dataframe thead th {\n",
       "        text-align: right;\n",
       "    }\n",
       "</style>\n",
       "<table border=\"1\" class=\"dataframe\">\n",
       "  <thead>\n",
       "    <tr style=\"text-align: right;\">\n",
       "      <th></th>\n",
       "      <th>Total Charges</th>\n",
       "      <th>Total Costs</th>\n",
       "      <th>Net Income</th>\n",
       "    </tr>\n",
       "    <tr>\n",
       "      <th>Facility Name</th>\n",
       "      <th></th>\n",
       "      <th></th>\n",
       "      <th></th>\n",
       "    </tr>\n",
       "  </thead>\n",
       "  <tbody>\n",
       "    <tr>\n",
       "      <td>TLC Health Network Tri-County Memorial Hospital</td>\n",
       "      <td>4212448.0</td>\n",
       "      <td>199028516.0</td>\n",
       "      <td>-194816068.0</td>\n",
       "    </tr>\n",
       "  </tbody>\n",
       "</table>\n",
       "</div>"
      ],
      "text/plain": [
       "                                                 Total Charges  Total Costs  \\\n",
       "Facility Name                                                                 \n",
       "TLC Health Network Tri-County Memorial Hospital      4212448.0  199028516.0   \n",
       "\n",
       "                                                  Net Income  \n",
       "Facility Name                                                 \n",
       "TLC Health Network Tri-County Memorial Hospital -194816068.0  "
      ]
     },
     "execution_count": 15,
     "metadata": {},
     "output_type": "execute_result"
    }
   ],
   "source": [
    "print('least profitable:')\n",
    "\n",
    "net.tail(1)"
   ]
  },
  {
   "cell_type": "markdown",
   "metadata": {},
   "source": [
    "## Now, let's focus in on *Viral Meningitis*"
   ]
  },
  {
   "cell_type": "markdown",
   "metadata": {},
   "source": [
    "### 1\\. Create a new dataframe that only contains the data corresponding to *Viral Meningitis*"
   ]
  },
  {
   "cell_type": "code",
   "execution_count": 16,
   "metadata": {},
   "outputs": [],
   "source": [
    "newdf = df[df[\"APR DRG Description\"] == \"Viral Meningitis\"]"
   ]
  },
  {
   "cell_type": "markdown",
   "metadata": {},
   "source": [
    "### 2\\. Now, with our new dataframe, only keep the data columns we care about which are:  \n",
    "\n",
    "    `[\"Facility Name\", \"APR DRG Description\", \"APR Severity of Illness Description\", \"Discharges\", \"Mean Charge\", \"Median Charge\", \"Mean Cost\"]`"
   ]
  },
  {
   "cell_type": "code",
   "execution_count": 17,
   "metadata": {},
   "outputs": [],
   "source": [
    "newdf = newdf[['Facility Name',\n",
    "    'APR DRG Description', 'APR Severity of Illness Description',\n",
    "    'Discharges',\n",
    "    'Mean Charge', 'Median Charge', 'Mean Cost']]"
   ]
  },
  {
   "cell_type": "code",
   "execution_count": 18,
   "metadata": {},
   "outputs": [
    {
     "data": {
      "text/html": [
       "<div>\n",
       "<style scoped>\n",
       "    .dataframe tbody tr th:only-of-type {\n",
       "        vertical-align: middle;\n",
       "    }\n",
       "\n",
       "    .dataframe tbody tr th {\n",
       "        vertical-align: top;\n",
       "    }\n",
       "\n",
       "    .dataframe thead th {\n",
       "        text-align: right;\n",
       "    }\n",
       "</style>\n",
       "<table border=\"1\" class=\"dataframe\">\n",
       "  <thead>\n",
       "    <tr style=\"text-align: right;\">\n",
       "      <th></th>\n",
       "      <th>Facility Name</th>\n",
       "      <th>APR DRG Description</th>\n",
       "      <th>APR Severity of Illness Description</th>\n",
       "      <th>Discharges</th>\n",
       "      <th>Mean Charge</th>\n",
       "      <th>Median Charge</th>\n",
       "      <th>Mean Cost</th>\n",
       "    </tr>\n",
       "  </thead>\n",
       "  <tbody>\n",
       "    <tr>\n",
       "      <td>24</td>\n",
       "      <td>Adirondack Medical Center-Saranac Lake Site</td>\n",
       "      <td>Viral Meningitis</td>\n",
       "      <td>Minor</td>\n",
       "      <td>1</td>\n",
       "      <td>17116.0</td>\n",
       "      <td>17116.0</td>\n",
       "      <td>7006.0</td>\n",
       "    </tr>\n",
       "    <tr>\n",
       "      <td>557</td>\n",
       "      <td>Albany Medical Center Hospital</td>\n",
       "      <td>Viral Meningitis</td>\n",
       "      <td>Minor</td>\n",
       "      <td>19</td>\n",
       "      <td>13212.0</td>\n",
       "      <td>11914.0</td>\n",
       "      <td>4569.0</td>\n",
       "    </tr>\n",
       "    <tr>\n",
       "      <td>558</td>\n",
       "      <td>Albany Medical Center Hospital</td>\n",
       "      <td>Viral Meningitis</td>\n",
       "      <td>Moderate</td>\n",
       "      <td>11</td>\n",
       "      <td>21197.0</td>\n",
       "      <td>14197.0</td>\n",
       "      <td>7131.0</td>\n",
       "    </tr>\n",
       "    <tr>\n",
       "      <td>559</td>\n",
       "      <td>Albany Medical Center Hospital</td>\n",
       "      <td>Viral Meningitis</td>\n",
       "      <td>Major</td>\n",
       "      <td>6</td>\n",
       "      <td>28074.0</td>\n",
       "      <td>22846.0</td>\n",
       "      <td>7495.0</td>\n",
       "    </tr>\n",
       "    <tr>\n",
       "      <td>560</td>\n",
       "      <td>Albany Medical Center Hospital</td>\n",
       "      <td>Viral Meningitis</td>\n",
       "      <td>Extreme</td>\n",
       "      <td>1</td>\n",
       "      <td>130600.0</td>\n",
       "      <td>130600.0</td>\n",
       "      <td>39086.0</td>\n",
       "    </tr>\n",
       "    <tr>\n",
       "      <td>...</td>\n",
       "      <td>...</td>\n",
       "      <td>...</td>\n",
       "      <td>...</td>\n",
       "      <td>...</td>\n",
       "      <td>...</td>\n",
       "      <td>...</td>\n",
       "      <td>...</td>\n",
       "    </tr>\n",
       "    <tr>\n",
       "      <td>381587</td>\n",
       "      <td>Woodhull Medical &amp; Mental Health Center</td>\n",
       "      <td>Viral Meningitis</td>\n",
       "      <td>Major</td>\n",
       "      <td>3</td>\n",
       "      <td>66690.0</td>\n",
       "      <td>28959.0</td>\n",
       "      <td>57219.0</td>\n",
       "    </tr>\n",
       "    <tr>\n",
       "      <td>382350</td>\n",
       "      <td>Wyckoff Heights Medical Center</td>\n",
       "      <td>Viral Meningitis</td>\n",
       "      <td>Minor</td>\n",
       "      <td>7</td>\n",
       "      <td>12588.0</td>\n",
       "      <td>10618.0</td>\n",
       "      <td>5470.0</td>\n",
       "    </tr>\n",
       "    <tr>\n",
       "      <td>382351</td>\n",
       "      <td>Wyckoff Heights Medical Center</td>\n",
       "      <td>Viral Meningitis</td>\n",
       "      <td>Moderate</td>\n",
       "      <td>2</td>\n",
       "      <td>7258.0</td>\n",
       "      <td>7258.0</td>\n",
       "      <td>3064.0</td>\n",
       "    </tr>\n",
       "    <tr>\n",
       "      <td>382352</td>\n",
       "      <td>Wyckoff Heights Medical Center</td>\n",
       "      <td>Viral Meningitis</td>\n",
       "      <td>Major</td>\n",
       "      <td>1</td>\n",
       "      <td>17336.0</td>\n",
       "      <td>17336.0</td>\n",
       "      <td>5653.0</td>\n",
       "    </tr>\n",
       "    <tr>\n",
       "      <td>383108</td>\n",
       "      <td>Wyoming County Community Hospital</td>\n",
       "      <td>Viral Meningitis</td>\n",
       "      <td>Major</td>\n",
       "      <td>1</td>\n",
       "      <td>4943.0</td>\n",
       "      <td>4943.0</td>\n",
       "      <td>3608.0</td>\n",
       "    </tr>\n",
       "  </tbody>\n",
       "</table>\n",
       "<p>1074 rows × 7 columns</p>\n",
       "</div>"
      ],
      "text/plain": [
       "                                      Facility Name APR DRG Description  \\\n",
       "24      Adirondack Medical Center-Saranac Lake Site    Viral Meningitis   \n",
       "557                  Albany Medical Center Hospital    Viral Meningitis   \n",
       "558                  Albany Medical Center Hospital    Viral Meningitis   \n",
       "559                  Albany Medical Center Hospital    Viral Meningitis   \n",
       "560                  Albany Medical Center Hospital    Viral Meningitis   \n",
       "...                                             ...                 ...   \n",
       "381587      Woodhull Medical & Mental Health Center    Viral Meningitis   \n",
       "382350               Wyckoff Heights Medical Center    Viral Meningitis   \n",
       "382351               Wyckoff Heights Medical Center    Viral Meningitis   \n",
       "382352               Wyckoff Heights Medical Center    Viral Meningitis   \n",
       "383108            Wyoming County Community Hospital    Viral Meningitis   \n",
       "\n",
       "       APR Severity of Illness Description  Discharges  Mean Charge  \\\n",
       "24                                   Minor           1      17116.0   \n",
       "557                                  Minor          19      13212.0   \n",
       "558                               Moderate          11      21197.0   \n",
       "559                                  Major           6      28074.0   \n",
       "560                                Extreme           1     130600.0   \n",
       "...                                    ...         ...          ...   \n",
       "381587                               Major           3      66690.0   \n",
       "382350                               Minor           7      12588.0   \n",
       "382351                            Moderate           2       7258.0   \n",
       "382352                               Major           1      17336.0   \n",
       "383108                               Major           1       4943.0   \n",
       "\n",
       "        Median Charge  Mean Cost  \n",
       "24            17116.0     7006.0  \n",
       "557           11914.0     4569.0  \n",
       "558           14197.0     7131.0  \n",
       "559           22846.0     7495.0  \n",
       "560          130600.0    39086.0  \n",
       "...               ...        ...  \n",
       "381587        28959.0    57219.0  \n",
       "382350        10618.0     5470.0  \n",
       "382351         7258.0     3064.0  \n",
       "382352        17336.0     5653.0  \n",
       "383108         4943.0     3608.0  \n",
       "\n",
       "[1074 rows x 7 columns]"
      ]
     },
     "execution_count": 18,
     "metadata": {},
     "output_type": "execute_result"
    }
   ],
   "source": [
    "newdf"
   ]
  },
  {
   "cell_type": "markdown",
   "metadata": {},
   "source": [
    "### 3\\. Find which hospital is the least expensive (based on \"Mean Charge\") for treating Moderate cases of VM."
   ]
  },
  {
   "cell_type": "code",
   "execution_count": 19,
   "metadata": {},
   "outputs": [
    {
     "data": {
      "text/html": [
       "<div>\n",
       "<style scoped>\n",
       "    .dataframe tbody tr th:only-of-type {\n",
       "        vertical-align: middle;\n",
       "    }\n",
       "\n",
       "    .dataframe tbody tr th {\n",
       "        vertical-align: top;\n",
       "    }\n",
       "\n",
       "    .dataframe thead th {\n",
       "        text-align: right;\n",
       "    }\n",
       "</style>\n",
       "<table border=\"1\" class=\"dataframe\">\n",
       "  <thead>\n",
       "    <tr style=\"text-align: right;\">\n",
       "      <th></th>\n",
       "      <th>Facility Name</th>\n",
       "      <th>Mean Charge</th>\n",
       "    </tr>\n",
       "  </thead>\n",
       "  <tbody>\n",
       "    <tr>\n",
       "      <td>258259</td>\n",
       "      <td>Aurelia Osborn Fox Memorial Hospital</td>\n",
       "      <td>1179.0</td>\n",
       "    </tr>\n",
       "  </tbody>\n",
       "</table>\n",
       "</div>"
      ],
      "text/plain": [
       "                               Facility Name  Mean Charge\n",
       "258259  Aurelia Osborn Fox Memorial Hospital       1179.0"
      ]
     },
     "execution_count": 19,
     "metadata": {},
     "output_type": "execute_result"
    }
   ],
   "source": [
    "moderate = newdf[newdf['APR Severity of Illness Description'] == 'Moderate']\n",
    "\n",
    "(moderate[['Facility Name', 'Mean Charge']]\n",
    "    .sort_values(by='Mean Charge', ascending=True).head(1))"
   ]
  },
  {
   "cell_type": "markdown",
   "metadata": {},
   "source": [
    "### 4\\. Find which hospital is the least expensive for treating Moderate cases of VM **that have more than 3 Discharges**."
   ]
  },
  {
   "cell_type": "code",
   "execution_count": 20,
   "metadata": {},
   "outputs": [
    {
     "data": {
      "text/html": [
       "<div>\n",
       "<style scoped>\n",
       "    .dataframe tbody tr th:only-of-type {\n",
       "        vertical-align: middle;\n",
       "    }\n",
       "\n",
       "    .dataframe tbody tr th {\n",
       "        vertical-align: top;\n",
       "    }\n",
       "\n",
       "    .dataframe thead th {\n",
       "        text-align: right;\n",
       "    }\n",
       "</style>\n",
       "<table border=\"1\" class=\"dataframe\">\n",
       "  <thead>\n",
       "    <tr style=\"text-align: right;\">\n",
       "      <th></th>\n",
       "      <th>Facility Name</th>\n",
       "      <th>Discharges</th>\n",
       "      <th>Mean Charge</th>\n",
       "    </tr>\n",
       "  </thead>\n",
       "  <tbody>\n",
       "    <tr>\n",
       "      <td>14426</td>\n",
       "      <td>Cayuga Medical Center at Ithaca</td>\n",
       "      <td>6</td>\n",
       "      <td>5738.0</td>\n",
       "    </tr>\n",
       "  </tbody>\n",
       "</table>\n",
       "</div>"
      ],
      "text/plain": [
       "                         Facility Name  Discharges  Mean Charge\n",
       "14426  Cayuga Medical Center at Ithaca           6       5738.0"
      ]
     },
     "execution_count": 20,
     "metadata": {},
     "output_type": "execute_result"
    }
   ],
   "source": [
    "threeOrMore = moderate[moderate['Discharges'] >= 3]\n",
    "\n",
    "(threeOrMore[['Facility Name', 'Discharges', 'Mean Charge']]\n",
    "    .sort_values(by='Mean Charge', ascending=True)).head(1)"
   ]
  },
  {
   "cell_type": "markdown",
   "metadata": {},
   "source": [
    "### 5\\. Find which hospital discharges the most cases of Viral Meningitis for all levels of severity."
   ]
  },
  {
   "cell_type": "code",
   "execution_count": 21,
   "metadata": {},
   "outputs": [
    {
     "data": {
      "text/html": [
       "<div>\n",
       "<style scoped>\n",
       "    .dataframe tbody tr th:only-of-type {\n",
       "        vertical-align: middle;\n",
       "    }\n",
       "\n",
       "    .dataframe tbody tr th {\n",
       "        vertical-align: top;\n",
       "    }\n",
       "\n",
       "    .dataframe thead th {\n",
       "        text-align: right;\n",
       "    }\n",
       "</style>\n",
       "<table border=\"1\" class=\"dataframe\">\n",
       "  <thead>\n",
       "    <tr style=\"text-align: right;\">\n",
       "      <th></th>\n",
       "      <th>Discharges</th>\n",
       "    </tr>\n",
       "    <tr>\n",
       "      <th>Facility Name</th>\n",
       "      <th></th>\n",
       "    </tr>\n",
       "  </thead>\n",
       "  <tbody>\n",
       "    <tr>\n",
       "      <td>North Shore University Hospital</td>\n",
       "      <td>158</td>\n",
       "    </tr>\n",
       "  </tbody>\n",
       "</table>\n",
       "</div>"
      ],
      "text/plain": [
       "                                 Discharges\n",
       "Facility Name                              \n",
       "North Shore University Hospital         158"
      ]
     },
     "execution_count": 21,
     "metadata": {},
     "output_type": "execute_result"
    }
   ],
   "source": [
    "# Step 1. Group all (Viral Meningitis) discharges for each hospital\n",
    "group = newdf[['Facility Name', 'Discharges']].groupby('Facility Name').sum()\n",
    "\n",
    "# Step 2. Which hospiptals discharge the most?\n",
    "group.sort_values(by='Discharges', ascending=False).head(1)"
   ]
  },
  {
   "cell_type": "markdown",
   "metadata": {},
   "source": [
    "### 6\\. Find if there is a correlation between the severity of illness and the charge."
   ]
  },
  {
   "cell_type": "markdown",
   "metadata": {},
   "source": [
    "A boxplot of the mean charge for each severity of illness shows that mean charges tend to increase as severity increases (from minor, to moderate, to major, and then to extreme):"
   ]
  },
  {
   "cell_type": "code",
   "execution_count": 22,
   "metadata": {},
   "outputs": [
    {
     "data": {
      "text/plain": [
       "<matplotlib.axes._subplots.AxesSubplot at 0x1216141d0>"
      ]
     },
     "execution_count": 22,
     "metadata": {},
     "output_type": "execute_result"
    },
    {
     "data": {
      "image/png": "[encoded data removed]",
      "text/plain": [
       "<Figure size 432x288 with 1 Axes>"
      ]
     },
     "metadata": {
      "needs_background": "light"
     },
     "output_type": "display_data"
    }
   ],
   "source": [
    "newdf.boxplot('Mean Charge', by='APR Severity of Illness Description')"
   ]
  },
  {
   "cell_type": "markdown",
   "metadata": {},
   "source": [
    "The correlation is therefore positive.\n",
    "\n",
    "By default, the grouped columns (extreme, major, minor, and moderate) are sorted alphabetically.  A better graph, would order the column by increased level of severity:"
   ]
  },
  {
   "cell_type": "code",
   "execution_count": 23,
   "metadata": {},
   "outputs": [
    {
     "data": {
      "text/plain": [
       "<matplotlib.axes._subplots.AxesSubplot at 0x1225777d0>"
      ]
     },
     "execution_count": 23,
     "metadata": {},
     "output_type": "execute_result"
    },
    {
     "data": {
      "image/png": "[encoded data removed]",
      "text/plain": [
       "<Figure size 432x288 with 1 Axes>"
      ]
     },
     "metadata": {
      "needs_background": "light"
     },
     "output_type": "display_data"
    }
   ],
   "source": [
    "severities = ['Minor', 'Moderate','Major','Extreme']\n",
    "\n",
    "pd.DataFrame({severity: newdf[newdf['APR Severity of Illness Description'] == severity]['Mean Charge'] for severity in severities},\n",
    "             columns = severities).boxplot(return_type='axes')"
   ]
  },
  {
   "cell_type": "markdown",
   "metadata": {},
   "source": [
    "To calculate an actual value for the correlation, one would need to code these levels as numerics, e.g., as equally spaced integers of increasing values.  Note that there is no justification for that particular encoding, making the correlation more dependent on this encoding than any reality of the population. You should then question the statistical meaningfulness of the value you would compute."
   ]
  },
  {
   "cell_type": "code",
   "execution_count": 27,
   "metadata": {},
   "outputs": [
    {
     "data": {
      "text/html": [
       "<div>\n",
       "<style scoped>\n",
       "    .dataframe tbody tr th:only-of-type {\n",
       "        vertical-align: middle;\n",
       "    }\n",
       "\n",
       "    .dataframe tbody tr th {\n",
       "        vertical-align: top;\n",
       "    }\n",
       "\n",
       "    .dataframe thead th {\n",
       "        text-align: right;\n",
       "    }\n",
       "</style>\n",
       "<table border=\"1\" class=\"dataframe\">\n",
       "  <thead>\n",
       "    <tr style=\"text-align: right;\">\n",
       "      <th></th>\n",
       "      <th>APR Severity of Illness</th>\n",
       "      <th>Mean Charge</th>\n",
       "    </tr>\n",
       "  </thead>\n",
       "  <tbody>\n",
       "    <tr>\n",
       "      <td>APR Severity of Illness</td>\n",
       "      <td>1.000000</td>\n",
       "      <td>0.921642</td>\n",
       "    </tr>\n",
       "    <tr>\n",
       "      <td>Mean Charge</td>\n",
       "      <td>0.921642</td>\n",
       "      <td>1.000000</td>\n",
       "    </tr>\n",
       "  </tbody>\n",
       "</table>\n",
       "</div>"
      ],
      "text/plain": [
       "                         APR Severity of Illness  Mean Charge\n",
       "APR Severity of Illness                 1.000000     0.921642\n",
       "Mean Charge                             0.921642     1.000000"
      ]
     },
     "execution_count": 27,
     "metadata": {},
     "output_type": "execute_result"
    }
   ],
   "source": [
    "# Let's first calculate the mean charge per level of severity\n",
    "group = (newdf[['APR Severity of Illness Description', 'Mean Charge']]\n",
    "    .groupby('APR Severity of Illness Description').mean()\n",
    "    .reset_index())\n",
    "\n",
    "# Let's then rank order the severity level from minor to extreme\n",
    "group['APR Severity of Illness'] = (group['APR Severity of Illness Description']\n",
    "    .map({'Minor': 0, 'Moderate': 1, 'Major': 2, 'Extreme': 3}))\n",
    "\n",
    "group[['APR Severity of Illness', 'Mean Charge']].corr(method=)"
   ]
  },
  {
   "cell_type": "markdown",
   "metadata": {},
   "source": [
    "## Data can be tricky"
   ]
  },
  {
   "cell_type": "markdown",
   "metadata": {},
   "source": [
    "### 1\\. Which illness has the most discharges?"
   ]
  },
  {
   "cell_type": "code",
   "execution_count": 25,
   "metadata": {},
   "outputs": [
    {
     "data": {
      "text/html": [
       "<div>\n",
       "<style scoped>\n",
       "    .dataframe tbody tr th:only-of-type {\n",
       "        vertical-align: middle;\n",
       "    }\n",
       "\n",
       "    .dataframe tbody tr th {\n",
       "        vertical-align: top;\n",
       "    }\n",
       "\n",
       "    .dataframe thead th {\n",
       "        text-align: right;\n",
       "    }\n",
       "</style>\n",
       "<table border=\"1\" class=\"dataframe\">\n",
       "  <thead>\n",
       "    <tr style=\"text-align: right;\">\n",
       "      <th></th>\n",
       "      <th></th>\n",
       "      <th>Discharges</th>\n",
       "    </tr>\n",
       "    <tr>\n",
       "      <th>APR DRG Description</th>\n",
       "      <th>APR Severity of Illness Description</th>\n",
       "      <th></th>\n",
       "    </tr>\n",
       "  </thead>\n",
       "  <tbody>\n",
       "    <tr>\n",
       "      <td>Neonate Birthwt &gt;2499G, Normal Newborn Or Neonate W Other Problem</td>\n",
       "      <td>Minor</td>\n",
       "      <td>528921</td>\n",
       "    </tr>\n",
       "  </tbody>\n",
       "</table>\n",
       "</div>"
      ],
      "text/plain": [
       "                                                                                        Discharges\n",
       "APR DRG Description                                APR Severity of Illness Description            \n",
       "Neonate Birthwt >2499G, Normal Newborn Or Neona... Minor                                    528921"
      ]
     },
     "execution_count": 25,
     "metadata": {},
     "output_type": "execute_result"
    }
   ],
   "source": [
    "# Step 1. Group illnesses by description and severity\n",
    "group = (df[['APR DRG Description', 'APR Severity of Illness Description', 'Discharges']]\n",
    "    .groupby(['APR DRG Description', 'APR Severity of Illness Description'])\n",
    "    .sum())\n",
    "\n",
    "# Step 2. Which illness has the most discharges?\n",
    "group.sort_values(by='Discharges', ascending=False).head(1)"
   ]
  }
 ],
 "metadata": {
  "anaconda-cloud": {},
  "kernelspec": {
   "display_name": "Python 3",
   "language": "python",
   "name": "python3"
  },
  "language_info": {
   "codemirror_mode": {
    "name": "ipython",
    "version": 3
   },
   "file_extension": ".py",
   "mimetype": "text/x-python",
   "name": "python",
   "nbconvert_exporter": "python",
   "pygments_lexer": "ipython3",
   "version": "3.7.4"
  },
  "toc": {
   "base_numbering": 1,
   "nav_menu": {},
   "number_sections": true,
   "sideBar": true,
   "skip_h1_title": false,
   "title_cell": "Table of Contents",
   "title_sidebar": "Contents",
   "toc_cell": false,
   "toc_position": {},
   "toc_section_display": true,
   "toc_window_display": false
  }
 },
 "nbformat": 4,
 "nbformat_minor": 1
}
