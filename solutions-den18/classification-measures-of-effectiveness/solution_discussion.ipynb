{
 "cells": [
  {
   "cell_type": "markdown",
   "metadata": {},
   "source": [
    "**Much of the code for solutions is in the `profit_curve_solution.py` script. We import it below as `ss` for solution script along with other necessary libraries for discussion of the sprint solutions in this notebook. Anywhere that the code from the solutions script does something worth discussing, that code will be put in a code block in this notebook, the block will not be runnable, the code will still be running from the import below. This way we can separate the implementation of code from the discussion of it.**"
   ]
  },
  {
   "cell_type": "code",
   "execution_count": 1,
   "metadata": {},
   "outputs": [],
   "source": [
    "from sklearn.linear_model import LogisticRegression as LR\n",
    "import matplotlib.pyplot as plt\n",
    "import numpy as np\n",
    "import pandas as pd\n",
    "import solution_code as ss\n",
    "%matplotlib inline"
   ]
  },
  {
   "cell_type": "code",
   "execution_count": 2,
   "metadata": {},
   "outputs": [],
   "source": [
    "path_input_data = './data/churn.csv'"
   ]
  },
  {
   "cell_type": "markdown",
   "metadata": {},
   "source": [
    "## Part 0: Cost-Benefit Matrices\n",
    "\n",
    "\n",
    "*1. **All users churn.** This budget is highly pessimistic, so there should be a positive value if users don't churn and zero if they do (minus the cost of promotions).*\n",
    "\n",
    "|                        | Actual Positive | Actual Negative |\n",
    "| ---------------------- |:---------------:|:---------------:|\n",
    "| **Predicted Positive** |        6        |         6       |\n",
    "| **Predicted Negative** |        0        |         9       |\n",
    "\n",
    "*2. **Everyone gets a promotion.** Suppose the budget assumes that we will give a promotion to everyone. We will now make money if we don't give a promotion to someone who wasn't going to leave, but lose if we don't give a promotion to someone who does.*\n",
    "\n",
    "|                        | Actual Positive | Actual Negative |\n",
    "| ---------------------- |:---------------:|:---------------:|\n",
    "| **Predicted Positive** |        0        |         0       |\n",
    "| **Predicted Negative** |       -6        |         3       |\n",
    "\n",
    "*3. **No one gets a promotion.** Suppose the budget assumes we aren't giving anyone promotions. Now the net profit is a measure of how much we will make by sending promotions to users we think might churn.*\n",
    "\n",
    "|                        | Actual Positive | Actual Negative |\n",
    "| ---------------------- |:---------------:|:---------------:|\n",
    "| **Predicted Positive** |        6        |        -3       |\n",
    "| **Predicted Negative** |        0        |         0       |\n",
    "\n",
    "*How will the profit curves for these differ? How are they similar? Will the optimum threshold change?*\n",
    "\n",
    "These have different individual values, but the different of Predicted Positive and Negative is the always 6 for the first column and -3 for the second. The profit curves produced by these will have different zeros but have the same overall shape so have the same optimum threshold."
   ]
  },
  {
   "cell_type": "markdown",
   "metadata": {},
   "source": [
    "## Part 1: Profit Curves\n",
    "### Cost-Benefit and Profit Curve Example\n",
    "Say we ran a model and got the following results:\n",
    "\n",
    "| Observation | True Label | Predicted Probability |\n",
    "| ----------- | ---------- | --------------------- |\n",
    "|       0     |      0     |          0.2          |\n",
    "|       1     |      0     |          0.6          |\n",
    "|       2     |      1     |          0.4          |\n",
    "\n",
    "Here is our cost benefit matrix:\n",
    "\n",
    "|                   | Actual Yes | Actual No |\n",
    "| ----------------- | ---------- | --------- |\n",
    "| **Predicted Yes** |      6     |    -3     |\n",
    "| **Predicted No**  |      0     |     0     |\n",
    "\n",
    "<ul> <h5> 1. Write out the confusion matrix for each of the possible thresholds. There should be 4 confusion matrices. </h5>\n",
    "\n",
    "For each of the tables below, the threshold is stated in the upper left corner. It divides the range [0, 1] into two parts:\n",
    "\n",
    "<center>`predicted probability < threshold`, labeled negatives</center>\n",
    "\n",
    "<center>`predicted probability >= threshold`, labeled positives.</center>\n",
    "\n",
    "|    *Threshold: 1.0*    | Actual Positive | Actual Negative |\n",
    "| ---------------------- |:---------------:|:---------------:|\n",
    "| **Predicted Positive** |        0        |         0       |\n",
    "| **Predicted Negative** |        1        |         2       |\n",
    "\n",
    "|    *Threshold: 0.6*    | Actual Positive | Actual Negative |\n",
    "| ---------------------- |:---------------:|:---------------:|\n",
    "| **Predicted Positive** |        0        |         1       |\n",
    "| **Predicted Negative** |        1        |         1       |\n",
    "\n",
    "|    *Threshold: 0.4*    | Actual Positive | Actual Negative |\n",
    "| ---------------------- |:---------------:|:---------------:|\n",
    "| **Predicted Positive** |        1        |         1       |\n",
    "| **Predicted Negative** |        0        |         1       |\n",
    "\n",
    "|    *Threshold: 0.2*    | Actual Positive | Actual Negative |\n",
    "| ---------------------- |:---------------:|:---------------:|\n",
    "| **Predicted Positive** |        1        |         2       |\n",
    "| **Predicted Negative** |        0        |         0       |\n",
    "\n",
    "\n",
    "<ul> Notice how the sum of the **Actual Positive** and **Actual Negative** columns is always sum the to true label count from the first table: 2 negatives and 1 positive. Those counts just move between the **Preducted Positive** and **Predicted Negative** rows as we move the threshold."
   ]
  },
  {
   "cell_type": "markdown",
   "metadata": {},
   "source": [
    "<ul> <h5> 2. Calculate the profit for each of these confusion matrices. </h5>\n",
    "\n",
    "<ul> Let's do this with some code:"
   ]
  },
  {
   "cell_type": "code",
   "execution_count": 3,
   "metadata": {},
   "outputs": [
    {
     "name": "stdout",
     "output_type": "stream",
     "text": [
      "Profit at threshold of 1.0: 0.0\n",
      "Profit at threshold of 0.6: -1.0\n",
      "Profit at threshold of 0.4: 1.0\n",
      "Profit at threshold of 0.2: 0.0\n"
     ]
    }
   ],
   "source": [
    "cost_benefit = np.array([[6, -3], [0, 0]])\n",
    "thresholds = [1.0, 0.6, 0.4, 0.2]\n",
    "confusion_matrices = [np.array([[0, 0], [1, 2]]),\n",
    "                      np.array([[0, 1], [1, 1]]),\n",
    "                      np.array([[1, 1], [0, 1]]),\n",
    "                      np.array([[1, 2], [0, 0]])]\n",
    "total_observations = 3\n",
    "\n",
    "for threshold, confusion_matrix in zip(thresholds, confusion_matrices):\n",
    "    threshold_expected_profit = np.sum(cost_benefit * confusion_matrix) / total_observations\n",
    "    print('Profit at threshold of {}: {}'.format(threshold, threshold_expected_profit))"
   ]
  },
  {
   "cell_type": "markdown",
   "metadata": {},
   "source": [
    "<ul> <ul> The key to this is that we can use the `*` operator between two numpy arrays of the same size and numpy performs element-wise multiplicaiton, just what we want for profit curve calculation. Then we sum up all the values in the resulting 2x2 matrix and divide by the total number of observations to get the expected profit.\n",
    "\n",
    "Notice how expressive the rest of the code is, we have no hard coded values outside of our variable declarations. This makes it easy to read those variable declarations and understand what ideas they represent, and easy to read the body of the for loop. Part of this is achieved with our clever use of the `izip()` function."
   ]
  },
  {
   "cell_type": "markdown",
   "metadata": {},
   "source": [
    "### Profit Curve Implementation\n",
    "\n",
    "<ul> <h5> 1. Clean up the churn dataset with pandas. You should be predicting the \"Churn?\" column. You can drop the \"State\", \"Area Code\" and \"Phone\" columns. Make sure to convert any yes/no columns to 1/0's. </h5>\n",
    "\n",
    "<ul> This must be done with code, it also makes sense to perform the cleaning actions in a function as it is performing a specific task that we can easily name and we might want to call that code in other places, the function is called `make_clean_churn_df()`. This will be useful later in the assignment."
   ]
  },
  {
   "cell_type": "code",
   "execution_count": 4,
   "metadata": {},
   "outputs": [],
   "source": [
    "dirty_churn_df = pd.read_csv(path_input_data)\n",
    "clean_churn_df = ss.make_clean_churn_df(dirty_churn_df)"
   ]
  },
  {
   "cell_type": "markdown",
   "metadata": {},
   "source": [
    "<ul> <h5> 2. Specify a cost-benefit matrix as a 2x2 `numpy` array. Each cell of the matrix will correspond to the corresponding cost/benefit of the outcome of a correct or incorrect classification. This matrix is domain specific, so choose something that makes sense for the churn problem. It should contain the cost of true positives, false positives, true negatives and false negatives in the following form:\n",
    "\n",
    "```python\n",
    "[[tp, fp]\n",
    " [fn, tn]]\n",
    "```\n",
    "</h5>\n",
    "<ul> Here's where we can use some intuition to place some values on the cost of trying to identify a customer as a potential churner, and the benefit of doing so correctly. Without scrutinizing these numbers too highly let's say that if we predict a customer as someone who is likely to churn in the near future we might want to incentivize them to remain active by sending them a $20 off coupon.\n",
    "<br>\n",
    "\n",
    "Now there are two options that could result from the campaign, they could stay a customer, in which case we continue to gain the profit associated with that, lets say it's \\$99, but they could also just use the coupon and then churn anyways. Remember, either way we're spending \\$20 with this plan. This leaves us with the following cost-benefit matrix:\n",
    "\n",
    "```python\n",
    "[[79, -20],\n",
    " [ 0,   0]]\n",
    "```\n",
    "We could fret over what happens when we don't predict that someone is going to churn and place values on the associated situations. But for now this cost-benefit matrix will do."
   ]
  },
  {
   "cell_type": "code",
   "execution_count": 5,
   "metadata": {},
   "outputs": [],
   "source": [
    "cost_benefit_matrix = np.array([[79, -20], [ 0,   0]])"
   ]
  },
  {
   "cell_type": "markdown",
   "metadata": {},
   "source": [
    "<ul> <h5> 3. Since sklearn's [confusion matrix](http://scikit-learn.org/stable/modules/generated/sklearn.metrics.confusion_matrix.html#sklearn.metrics.confusion_matrix) function creates a flip-flopped confusion matrix, you will appreciate having your own that is ordered in the way you're familiar with.\n",
    "\n",
    "Write a function `standard_confusion_matrix` which takes `y_true` and `y_predict` and returns the confusion matrix as a 2x2 numpy array of the form `[[tp, fp], [fn, tn]]`.\n",
    "\n",
    "You may use sklearn's `confusion_matrix` function here, but having it in the standard form will reduce the amount of banging your head against the wall. </h5>\n",
    "\n",
    "<ul> To transform the sklearn version of a confusion matrix to one that is more intuitive for our use we could write some fancy loops or so some array transposition. However, this seems to be a case where those techniques are a bit heavy-handed considering that the confusion matrix only ever has 4 elements in it...\n",
    "<br>\n",
    "\n",
    "With this in mind we can use list unpacking to achieve our goals. (*Note: assumes confusion_matrix has been imported from sklearn.metrics*)\n",
    "```python\n",
    "def standard_confusion_matrix(y_true, y_pred):\n",
    "    \"\"\"Make confusion matrix with format:\n",
    "                  -----------\n",
    "                  | TP | FP |\n",
    "                  -----------\n",
    "                  | FN | TN |\n",
    "                  -----------\n",
    "    Parameters\n",
    "    ----------\n",
    "    y_true : ndarray - 1D\n",
    "    y_pred : ndarray - 1D\n",
    "\n",
    "    Returns\n",
    "    -------\n",
    "    ndarray - 2D\n",
    "    \"\"\"\n",
    "    [[tn, fp], [fn, tp]] = confusion_matrix(y_true, y_pred)\n",
    "    return np.array([[tp, fp], [fn, tn]])\n",
    "```\n",
    "All we do here is directly state the format of the array that we know confusion_matrix is going to return to us, and name the variables within this 2 dimensional array in the order that we know sklearn assigns them. Once those variables have been bound we can make and return a new array with them in the order that we consider standard."
   ]
  },
  {
   "cell_type": "markdown",
   "metadata": {},
   "source": [
    "<ul> <h5> 4. Write a function `profit_curve` that takes these arguments:</h5>\n",
    "  * `cost_benefit`: the cost-benefit matrix\n",
    "  * `predicted_probs`: predicted probability for each datapoint (between 0 and 1)\n",
    "  * `labels`: true labels for each data point (either 0 or 1)\n",
    "\n",
    "```python\n",
    "def profit_curve(cost_benefit, predicted_probs, labels):\n",
    "    \"\"\"Function to calculate list of profits based on supplied cost-benefit\n",
    "    matrix and prediced probabilities of data points and thier true labels.\n",
    "\n",
    "    Parameters\n",
    "    ----------\n",
    "    cost_benefit    : ndarray - 2D, with profit values corresponding to:\n",
    "                                          -----------\n",
    "                                          | TP | FP |\n",
    "                                          -----------\n",
    "                                          | FN | TN |\n",
    "                                          -----------\n",
    "    predicted_probs : ndarray - 1D, predicted probability for each datapoint\n",
    "                                    in labels, in range [0, 1]\n",
    "    labels          : ndarray - 1D, true label of datapoints, 0 or 1\n",
    "\n",
    "    Returns\n",
    "    -------\n",
    "    profits    : ndarray - 1D\n",
    "    thresholds : ndarray - 1D\n",
    "    \"\"\"\n",
    "    n_obs = float(len(labels))\n",
    "    maybe_one = [] if 1 in predicted_probs else [1]\n",
    "    thresholds = maybe_one + sorted(predicted_probs, reverse=True)\n",
    "    profits = []\n",
    "    for threshold in thresholds:\n",
    "        y_predict = predicted_probs >= threshold\n",
    "        confusion_matrix = standard_confusion_matrix(labels, y_predict)\n",
    "        threshold_profit = np.sum(confusion_matrix * cost_benefit) / n_obs\n",
    "        profits.append(threshold_profit)\n",
    "    return np.array(profits), np.array(thresholds)\n",
    "\n",
    "```\n",
    "<ul> One fancy thing here. We don't know if `1` is going to be a value the predicted probabilities, it's unlikely, but possible. To account for this we use a ternary statement to make a list that we will always put at the beginning of our thresholds. We do this via list concatenation which we know will always work since `sorted()` always returns a list. It will be empty if a `1` is already in the predicted probabilities, or a singleton list with the value `1` in it otherwise.\n",
    "\n",
    "One other thing to notice. We sort the predicted probilites in reverse order up front and store the resulting list, plus the `maybe_one`, as `thresholds`. There's nothing inherently clever about this, but it does make the code in the rest of the function more readable. Notice how the for loop and it's body gets close to reading like english."
   ]
  },
  {
   "cell_type": "markdown",
   "metadata": {},
   "source": [
    "<ul> <h5> 5. Test your `profit_curve` function on the same toy example from above.</h5>\n",
    "\n",
    "<ul> See below, we get the exact same results as above!\n",
    "\n",
    "Note how the results of `profit_curve()` are stored to a single variable even though we know that it returns two values. We can see that this result is a tuple of the things we expect when we print it. In addition, we can see that the `*` at the beginning of `profit_curve_results`, when its passed to `izip()` is performing tuple unpacking. Try taking that `*` away and see what error Python throws. Why does this error make sense? It's also worth noting that this method of variable storage isn't always advisable since it obscures what `profit_curve()` is passing back into a single varaible. Here we're using it so we can look at the type of both the values that are passed back with a single print statement and to demonstrate some tuple unpacking.\n",
    "\n",
    "Feel free to play with excluding the `maybe_one`, along with varying whether or not a `1` is in the predicted probabilities. Do you think it's worth having `maybe_one` in the function?"
   ]
  },
  {
   "cell_type": "code",
   "execution_count": 6,
   "metadata": {},
   "outputs": [
    {
     "name": "stdout",
     "output_type": "stream",
     "text": [
      "(array([ 0., -1.,  1.,  0.]), array([ 1. ,  0.6,  0.4,  0.2]))\n",
      "Profit at threshold of 1.0: 0.0\n",
      "Profit at threshold of 0.6: -1.0\n",
      "Profit at threshold of 0.4: 1.0\n",
      "Profit at threshold of 0.2: 0.0\n"
     ]
    }
   ],
   "source": [
    "test_cost_benefit = np.array([[6, -3], [0, 0]])\n",
    "test_probs = np.array([0.2, 0.6, 0.4])\n",
    "test_labels = np.array([0, 0, 1])\n",
    "\n",
    "profit_curve_results = ss.profit_curve(test_cost_benefit, test_probs, test_labels)\n",
    "print(profit_curve_results)\n",
    "for profit, threshold in zip(*profit_curve_results):\n",
    "    print('Profit at threshold of {}: {}'.format(threshold, profit))"
   ]
  },
  {
   "cell_type": "markdown",
   "metadata": {},
   "source": [
    "<ul> <h5> 6. Write `plot_profit_curve()` function. </h5>\n",
    "\n",
    "<h5> 7. Use `plot_profit_curve()` to compare models. </h5>\n",
    "\n",
    "<h5> 8. Find maximum profit. </h5>\n",
    "     \n",
    "<ul> The code that answers the remaining questions in this part, 6-8, is on lines 114-221 in the solution script. It has been refactored to address the question raised in the extra credit: are there any unnecessary computations taking place in your code? If we were to calculate the profits and thresholds for each model when we go to plot the profit curves **AND** when we go to determine the best model-threshold combination, then we do all the profit calculations **twice**. Not ideal.\n",
    "\n",
    "To get around the need to do this twice, we replaced the `plot_profit_curve()` with a new function, `get_model_profits()`. This function will take a model objecs, a cost-benefit matrix and training and testing data and train the model on the training data then run `profit_curve()` on the test data.\n",
    "\n",
    "Take a look at `profit_curve_main()` and you can see how `get_model_profits()` is useful. We loop over whatever models we're interested in testing, and pass each to `get_model_profits()` getting back the profits and thresholds associated with each. We then immediately put those and the model into a tuple and append that to a master `model_profits` list.\n",
    "\n",
    "One interesting question we could ask is if a list of tuples is the best way we can store this information? The other potential possibility is a dictionary. Wouldn't that make sense, you have a model, key, and it's associated profits and thresholds, value. However, if you stop to think about the implications of a dictionary like this you'll realize that it makes no sense to have a model as a key to a dictionary since you would need the actual model to index into the dictionary (why sklearn models are hashable is another question...and they are, if you're wondering).\n",
    "\n",
    "With the `model_profits` list, calculated upfront and once, we can plot all of the associated profit curves and find the best model-threshold combination by making functions for each of these tasks that take in the model_profits list; in the solutions script they're called `plot_model_profits()` and `find_best_threshold()` respectively.\n",
    "\n",
    "Now we can see the benefits of having our code be modularized and posessing a natural starting in the `profit_curve_main()`. Let's test that function out here using the cost-benefit matrix we defined in an earlier cell."
   ]
  },
  {
   "cell_type": "code",
   "execution_count": 7,
   "metadata": {},
   "outputs": [
    {
     "data": {
      "image/png": "[encoded data removed]",
      "text/plain": [
       "<matplotlib.figure.Figure at 0x7fb86f647048>"
      ]
     },
     "metadata": {},
     "output_type": "display_data"
    },
    {
     "name": "stdout",
     "output_type": "stream",
     "text": [
      "Best model:\t\tGradientBoostingClassifier\n",
      "Best threshold:\t\t0.22\n",
      "Resulting profit:\t9.298561151079136\n",
      "Proportion positives:\t0.54\n"
     ]
    }
   ],
   "source": [
    "np.random.seed(42)\n",
    "plt.figure(figsize=(16, 8))\n",
    "ss.profit_curve_main(path_input_data, cost_benefit_matrix)"
   ]
  },
  {
   "cell_type": "markdown",
   "metadata": {},
   "source": [
    "## Part 2: Sampling Methods\n",
    "<h5> Frequently we will to classify on datasets that do not have each class proportionally represented. You're aware of three main ways to counteract some of the negative effects class imbalance can cause on your models. Now you need to implement them below.</h5>\n",
    "\n",
    "<h5> Throughout the rest of this part you will need to fill out a sampling method function according to its doc string. Some notes on coding approach are there for guidance. In addition, take a look at the [`numpy.random`](https://docs.scipy.org/doc/numpy/reference/routines.random.html) module, it will be very useful of the randomization tasks you'll need to perform in these functions.</h5>\n",
    "\n",
    "One thing that the solutions do which aren't directed in the sprint is to make a function to split up the positive and negative observations in X & y and return the count of each. In the solution script this function is called **`div_count_pos_neg()`** and it is called in each of the sampling functions.\n",
    "\n",
    "As mentioned in the sprint, all of the following functions make heavy use of the `numpy.random` module, in particular the [`choice()`](https://docs.scipy.org/doc/numpy/reference/generated/numpy.random.choice.html#numpy.random.choice) and [`randint()`](https://docs.scipy.org/doc/numpy/reference/generated/numpy.random.randint.html#numpy.random.randint) functions."
   ]
  },
  {
   "cell_type": "markdown",
   "metadata": {},
   "source": [
    "### Undersampling\n",
    "\n",
    "```python\n",
    "def undersample(X, y, tp):\n",
    "    \"\"\"Randomly discards negative observations from X & y to achieve the\n",
    "    target proportion of positive to negative observations.\n",
    "\n",
    "    Parameters\n",
    "    ----------\n",
    "    X  : ndarray - 2D\n",
    "    y  : ndarray - 1D\n",
    "    tp : float - range [0, 1], target proportion of positive class observations\n",
    "\n",
    "    Returns\n",
    "    -------\n",
    "    X_undersampled : ndarray - 2D\n",
    "    y_undersampled : ndarray - 1D\n",
    "    \"\"\"\n",
    "    if tp < np.mean(y):\n",
    "        return X, y\n",
    "    neg_count, pos_count, X_pos, X_neg, y_pos, y_neg = div_count_pos_neg(X, y)\n",
    "    negative_sample_rate = (pos_count * (1 - tp)) / (neg_count * tp)\n",
    "    negative_keepers = np.random.choice(a=[False, True], size=neg_count,\n",
    "                                        p=[1 - negative_sample_rate,\n",
    "                                           negative_sample_rate])\n",
    "    X_negative_undersampled = X_neg[negative_keepers]\n",
    "    y_negative_undersampled = y_neg[negative_keepers]\n",
    "    X_undersampled = np.vstack((X_negative_undersampled, X_pos))\n",
    "    y_undersampled = np.concatenate((y_negative_undersampled, y_pos))\n",
    "\n",
    "    return X_undersampled, y_undersampled\n",
    "```\n",
    "<ul> Here we want to randomly choose some of the negative observations to keep and discard the rest. We already have the negative examples from `div_count_pos_neg()`, so all we need is a way to select a subset of the negative observations for retention. As stated above, the `choice()` function allows us to specify a rate at which elemets are chosen.\n",
    "\n",
    "So we can make a boolean index for the negative observations by choosing from `[False, True]` at a rate appropriate to achieve the target proportion, `tp`, number of negative observations times. This is boolean index is bound to `negative_keepers` and then used to index into the negative arrays produced by `div_count_pos_neg()`.\n",
    "\n",
    "As for the `negative_sample_rate` we can get that by solving the following equation for `negative_sample_rate`.\n",
    "\n",
    "$$ tp = \\frac{pos\\_count}{(neg\\_count \\times negative\\_sample\\_rate) + pos\\_count)} $$\n",
    "\n",
    "Note: the resulting equation won't work if our target proportion is less than the ratio of positives to negative observations. This is why we have the `if` statement as the first line in the function that we do. In addition, since numpy is sampling from `[False, True]` with the specified proportion, we aren't *guaranteed* to get the exact target proportion we're looking for. But, in general, especially with large datasets, it will be close enough."
   ]
  },
  {
   "cell_type": "markdown",
   "metadata": {},
   "source": [
    "### Oversampling\n",
    "\n",
    "```python\n",
    "def oversample(X, y, tp):\n",
    "    \"\"\"Randomly choose positive observations from X & y, with replacement\n",
    "    to achieve the target proportion of positive to negative observations.\n",
    "\n",
    "    Parameters\n",
    "    ----------\n",
    "    X  : ndarray - 2D\n",
    "    y  : ndarray - 1D\n",
    "    tp : float - range [0, 1], target proportion of positive class observations\n",
    "\n",
    "    Returns\n",
    "    -------\n",
    "    X_undersampled : ndarray - 2D\n",
    "    y_undersampled : ndarray - 1D\n",
    "    \"\"\"\n",
    "    if tp < np.mean(y):\n",
    "        return X, y\n",
    "    neg_count, pos_count, X_pos, X_neg, y_pos, y_neg = div_count_pos_neg(X, y)\n",
    "    positive_range = np.arange(pos_count)\n",
    "    positive_size = (tp * neg_count) / (1 - tp)\n",
    "    positive_idxs = np.random.choice(a=positive_range,\n",
    "                                     size=int(positive_size),\n",
    "                                     replace=True)\n",
    "    X_positive_oversampled = X_pos[positive_idxs]\n",
    "    y_positive_oversampled = y_pos[positive_idxs]\n",
    "    X_oversampled = np.vstack((X_positive_oversampled, X_neg))\n",
    "    y_oversampled = np.concatenate((y_positive_oversampled, y_neg))\n",
    "\n",
    "    return X_oversampled, y_oversampled\n",
    "```\n",
    "<ul> Here, again we make use of `div_count_pos_neg()` and of the `choice()` function. This time, though, we are oversampling which means we need to choose from the existing positive observations with replacement. Luckily the `choice()` function has a `replace` parameter, so we set it to `True`.\n",
    "\n",
    "What, then, are we choosing from? You can see that it is just the range from `0` to `pos_count - 1`, this makes sense because what these values will actually correspond to are indices. So when we choose with replacement we get `positive_idxs` which is a 1 dimensional numpy array whoes elements correspond with indices in the `*_pos` arrays. We then index into those positive arrays with the likely repeated indices to get our oversampled population.\n",
    "\n",
    "We can find the equation for `positive_size` similarly as we found it for `negative_sample_rate` above, this time by solving the following equation for `positive_size`.\n",
    "\n",
    "$$ tp = \\frac{positive\\_size}{positve\\_size + neg\\_count} $$"
   ]
  },
  {
   "cell_type": "markdown",
   "metadata": {},
   "source": [
    "### SMOTE - Synthetic Minority Oversampling TEchnique\n",
    "\n",
    "<h5> SMOTE is a method to randomly generate new minority class observations according to following procedure:  \n",
    "\n",
    "1. For each observation in the minority class, find the k nearest neighbors.\n",
    "2. Randomly select both an observation and one of its k nearest neighbors.\n",
    "3. Generate a new synthetic observation from these two points via:  \n",
    "        1) Find the vector between the observation and its neighbor.\n",
    "        2) Add randomness to this vector by walking a random percentage along each of its dimensions.\n",
    "        3) Add this new vector to the original observation to make the synthetic observation.\n",
    "        4) Label this synthetic observation as a member of the minority class (i.e. `y = 1`)"
   ]
  },
  {
   "cell_type": "markdown",
   "metadata": {},
   "source": [
    "```python\n",
    "def smote(X, y, tp, k=None):\n",
    "    \"\"\"Generates new observations from the positive (minority) class.\n",
    "    For details, see: https://www.jair.org/media/953/live-953-2037-jair.pdf\n",
    "\n",
    "\n",
    "    Parameters\n",
    "    ----------\n",
    "    X  : ndarray - 2D\n",
    "    y  : ndarray - 1D\n",
    "    tp : float - [0, 1], target proportion of positive class observations\n",
    "\n",
    "    Returns\n",
    "    -------\n",
    "    X_smoted : ndarray - 2D\n",
    "    y_smoted : ndarray - 1D\n",
    "    \"\"\"\n",
    "    if tp < np.mean(y):\n",
    "        return X, y\n",
    "    if k is None:\n",
    "        k = int(len(X) ** 0.5)\n",
    "\n",
    "    neg_count, pos_count, X_pos, X_neg, y_pos, y_neg = div_count_pos_neg(X, y)\n",
    "    knn = KNeighborsClassifier(n_neighbors=k)\n",
    "    knn.fit(X_pos, y_pos)\n",
    "    neighbors = knn.kneighbors(return_distance=False)\n",
    "\n",
    "    positive_size = (tp * neg_count) / (1 - tp)\n",
    "    smote_num = int(positive_size - pos_count)\n",
    "\n",
    "    rand_idxs = np.random.randint(0, pos_count, size=smote_num)\n",
    "    rand_nghb_idxs = np.random.randint(0, k, size=smote_num)\n",
    "    rand_pcts = np.random.random((smote_num, X.shape[1]))\n",
    "    smotes = []\n",
    "    for r_idx, r_nghb_idx, r_pct in izip(rand_idxs, rand_nghb_idxs, rand_pcts):\n",
    "        rand_pos, rand_pos_neighbors = X_pos[r_idx], neighbors[r_idx]\n",
    "        rand_pos_neighbor = X_pos[rand_pos_neighbors[r_nghb_idx]]\n",
    "        rand_dir = rand_pos_neighbor - rand_pos\n",
    "        rand_change = rand_dir * r_pct\n",
    "        smoted_point = rand_pos + rand_change\n",
    "        smotes.append(smoted_point)\n",
    "\n",
    "    X_smoted = np.vstack((X, np.array(smotes)))\n",
    "    y_smoted = np.concatenate((y, np.ones((smote_num,))))\n",
    "    return X_smoted, y_smoted\n",
    "```\n",
    "\n",
    "There are two parts to this solution that deserve to be talked about. Getting the nearest neighbor list and making new synthetic observations.\n",
    "\n",
    "1. **Getting the nearest neighbor list**:\n",
    "\n",
    "  Here we used sklearn's kNN classifier to do a lot of heavy lifting for us. All we really want is, for each observation a list of the observations that are closest to it via euclidean distance. We could compute this ourselves with numpy's `pdist()` function; however the closest observation to each observation we'd get from that method will always the same observation, and removing them would be a pain. Since it costs nothing to \"fit\" a kNN model we can take advantage of it's `.kneighbors()` method which automatically removes the observation we noted would be a problem. Take a look at the sklearn docs for more info on this.\n",
    "  <br><br>\n",
    "     \n",
    "2. **Making a synthentic observation**:\n",
    "\n",
    "  We need three things to make a synthetic observation:\n",
    "  \n",
    "          1) A random observation from the minority class.\n",
    "          2) A random minority neighbor of the first random observation.\n",
    "          3) A random percentage of the distance to walk in each of the dimensions along the vector between\n",
    "             the first observation and the second.\n",
    "  \n",
    "  To make our looping more efficient and our code more expressive we create np.arrays for each of these things upfront of the necessary size to achieve the desired minority-majority proportion (see `oversampling()` for a discussion of getting this num, here `positive_size` is the same as it was in `oversampling()` and `smote_num` is the number beyond the number of existing positive observations necessary to get to `positive_size`.\n",
    "  \n",
    "  Let's what each of these arrays does:\n",
    "  \n",
    "          1) rand_idxs, 1D array of random integers, 0 - pos_count, used to index into positives to get first\n",
    "             random point.\n",
    "          2) rand_nghb_idxs, 1D array of random integers, 0 - k (number of neighbors), used to index into the\n",
    "             neighbors list retrieved from the kNN model.\n",
    "          3) rand_pcts, 2D array of floats, 0 - 1. These will be used to multiply, element-wise, by the vector\n",
    "             between the first two random points to get a vector to add on to the first random point.\n",
    "             \n",
    "  Once we have these three arrays we can zip them together and loop over their associated triples. For each iteration in the loop we:\n",
    "      \n",
    "          1) Index into the appropriate arrays to get the random points, rand_pos and rand_pos_neighbor.\n",
    "          2) Find the vector pointing from rand_pos to rand_pos_neighbor, rand_dir.\n",
    "          3) Multiply, element-wise, this random_dir by the random percentages, r_pct, to get a vector to\n",
    "             add to rand_pos, rand_change.\n",
    "          4) Add rand_change to rand_pos, again element-wise, and append the result to the smotes list.\n",
    "          \n",
    "The solutions also wrote a `sampling_main()` function to test out the sampling code. Let's run it a couple of times below so we can answer the next sections questions."
   ]
  },
  {
   "cell_type": "code",
   "execution_count": 8,
   "metadata": {},
   "outputs": [
    {
     "name": "stdout",
     "output_type": "stream",
     "text": [
      "Profit from original ratio:\n",
      "\t0.15 ->\t1.81894\n",
      "Profit when undersampling to ratio of:\n",
      "\t0.35 ->\t4.26259\n",
      "\t0.40 ->\t4.11391\n",
      "\t0.45 ->\t4.33933\n",
      "\t0.50 ->\t4.06835\n",
      "\t0.55 ->\t3.36930\n",
      "\t0.60 ->\t2.90408\n",
      "\t0.65 ->\t2.32854\n",
      "Profit when oversampling to ratio of:\n",
      "\t0.35 ->\t4.16787\n",
      "\t0.40 ->\t4.11151\n",
      "\t0.45 ->\t4.45923\n",
      "\t0.50 ->\t4.09592\n",
      "\t0.55 ->\t3.56475\n",
      "\t0.60 ->\t3.83933\n",
      "\t0.65 ->\t2.82974\n",
      "Profit when smoting to ratio of:\n",
      "\t0.35 ->\t4.26139\n",
      "\t0.40 ->\t4.34652\n",
      "\t0.45 ->\t4.15108\n",
      "\t0.50 ->\t4.11871\n",
      "\t0.55 ->\t3.61271\n",
      "\t0.60 ->\t3.43885\n",
      "\t0.65 ->\t3.26499\n"
     ]
    }
   ],
   "source": [
    "ss.sampling_main(LR(), path_input_data, cost_benefit_matrix)"
   ]
  },
  {
   "cell_type": "code",
   "execution_count": 9,
   "metadata": {},
   "outputs": [
    {
     "name": "stdout",
     "output_type": "stream",
     "text": [
      "Profit from original ratio:\n",
      "\t0.15 ->\t2.31535\n",
      "Profit when undersampling to ratio of:\n",
      "\t0.35 ->\t5.13549\n",
      "\t0.40 ->\t5.10192\n",
      "\t0.45 ->\t4.70863\n",
      "\t0.50 ->\t4.93765\n",
      "\t0.55 ->\t4.48441\n",
      "\t0.60 ->\t3.49281\n",
      "\t0.65 ->\t3.06235\n",
      "Profit when oversampling to ratio of:\n",
      "\t0.35 ->\t4.96643\n",
      "\t0.40 ->\t5.38729\n",
      "\t0.45 ->\t4.92686\n",
      "\t0.50 ->\t5.13429\n",
      "\t0.55 ->\t4.55396\n",
      "\t0.60 ->\t4.09472\n",
      "\t0.65 ->\t3.08513\n",
      "Profit when smoting to ratio of:\n",
      "\t0.35 ->\t5.03717\n",
      "\t0.40 ->\t5.07554\n",
      "\t0.45 ->\t4.80815\n",
      "\t0.50 ->\t5.01439\n",
      "\t0.55 ->\t4.46043\n",
      "\t0.60 ->\t3.80935\n",
      "\t0.65 ->\t3.44604\n"
     ]
    }
   ],
   "source": [
    "ss.sampling_main(LR(), path_input_data, cost_benefit_matrix)"
   ]
  },
  {
   "cell_type": "code",
   "execution_count": 10,
   "metadata": {},
   "outputs": [
    {
     "name": "stdout",
     "output_type": "stream",
     "text": [
      "Profit from original ratio:\n",
      "\t0.15 ->\t1.74221\n",
      "Profit when undersampling to ratio of:\n",
      "\t0.35 ->\t3.32974\n",
      "\t0.40 ->\t3.84412\n",
      "\t0.45 ->\t3.33933\n",
      "\t0.50 ->\t3.37770\n",
      "\t0.55 ->\t2.89568\n",
      "\t0.60 ->\t2.36571\n",
      "\t0.65 ->\t1.54317\n",
      "Profit when oversampling to ratio of:\n",
      "\t0.35 ->\t3.80456\n",
      "\t0.40 ->\t3.82014\n",
      "\t0.45 ->\t3.67026\n",
      "\t0.50 ->\t3.78177\n",
      "\t0.55 ->\t3.27698\n",
      "\t0.60 ->\t2.79137\n",
      "\t0.65 ->\t2.13909\n",
      "Profit when smoting to ratio of:\n",
      "\t0.35 ->\t3.54077\n",
      "\t0.40 ->\t3.60552\n",
      "\t0.45 ->\t3.43405\n",
      "\t0.50 ->\t3.21463\n",
      "\t0.55 ->\t3.30096\n",
      "\t0.60 ->\t2.77098\n",
      "\t0.65 ->\t2.68945\n"
     ]
    }
   ],
   "source": [
    "ss.sampling_main(LR(), path_input_data, cost_benefit_matrix)"
   ]
  },
  {
   "cell_type": "markdown",
   "metadata": {},
   "source": [
    "We can see that there is some variance, but generally the best sampling ratio appears to be between 0.4 and 0.5. The variance originates from the issues arising from performing a simple train-test-split for validation. The best way we could address the variance problem is by using k-fold cross validation to compute an average, expected profit across all folds using each sampling methods at a finer range of sampling ratios."
   ]
  },
  {
   "cell_type": "code",
   "execution_count": null,
   "metadata": {},
   "outputs": [],
   "source": []
  }
 ],
 "metadata": {
  "kernelspec": {
   "display_name": "Python 3",
   "language": "python",
   "name": "python3"
  },
  "language_info": {
   "codemirror_mode": {
    "name": "ipython",
    "version": 3
   },
   "file_extension": ".py",
   "mimetype": "text/x-python",
   "name": "python",
   "nbconvert_exporter": "python",
   "pygments_lexer": "ipython3",
   "version": "3.7.1"
  }
 },
 "nbformat": 4,
 "nbformat_minor": 1
}
