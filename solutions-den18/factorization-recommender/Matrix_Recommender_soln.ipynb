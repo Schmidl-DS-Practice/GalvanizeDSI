{
 "cells": [
  {
   "cell_type": "code",
   "execution_count": 6,
   "metadata": {},
   "outputs": [],
   "source": [
    "# import necessary libraries\n",
    "import pandas as pd \n",
    "import numpy as np\n",
    "import matplotlib.pyplot as plt \n",
    "\n",
    "\n",
    "\n",
    "import pyspark\n",
    "from pyspark.sql.types import *\n",
    "from pyspark.ml.tuning import TrainValidationSplit\n",
    "from pyspark.ml.recommendation import ALS\n",
    "from pyspark.ml.evaluation import RegressionEvaluator\n",
    "\n",
    "\n",
    "# Build our Spark Session and Context\n",
    "spark = pyspark.sql.SparkSession.builder.getOrCreate()\n",
    "sc = spark.sparkContext\n",
    "spark, sc\n",
    "\n",
    "\n",
    "from pyspark.sql.functions import lit\n",
    "from pyspark.sql.types import StructType, StructField, IntegerType\n",
    "from pyspark.sql.functions import countDistinct, col\n"
   ]
  },
  {
   "cell_type": "code",
   "execution_count": 7,
   "metadata": {},
   "outputs": [],
   "source": [
    "import matplotlib.pyplot as plt\n",
    "%matplotlib inline"
   ]
  },
  {
   "cell_type": "code",
   "execution_count": 8,
   "metadata": {},
   "outputs": [],
   "source": [
    "schema = StructType([\n",
    "    StructField(\"user\", IntegerType(), True),\n",
    "    StructField(\"movie\", IntegerType(), True),\n",
    "    StructField(\"rating\", IntegerType(), True),\n",
    "    StructField(\"timestamp\", IntegerType(), True)])\n",
    "\n",
    "\n",
    "\n",
    "df_ratings = spark.read.csv('data/u.data',sep='\\t', header=False, schema=schema)"
   ]
  },
  {
   "cell_type": "code",
   "execution_count": 9,
   "metadata": {},
   "outputs": [
    {
     "name": "stdout",
     "output_type": "stream",
     "text": [
      "+----+-----+------+---------+\n",
      "|user|movie|rating|timestamp|\n",
      "+----+-----+------+---------+\n",
      "| 196|  242|     3|881250949|\n",
      "| 186|  302|     3|891717742|\n",
      "|  22|  377|     1|878887116|\n",
      "| 244|   51|     2|880606923|\n",
      "| 166|  346|     1|886397596|\n",
      "| 298|  474|     4|884182806|\n",
      "| 115|  265|     2|881171488|\n",
      "| 253|  465|     5|891628467|\n",
      "| 305|  451|     3|886324817|\n",
      "|   6|   86|     3|883603013|\n",
      "|  62|  257|     2|879372434|\n",
      "| 286| 1014|     5|879781125|\n",
      "| 200|  222|     5|876042340|\n",
      "| 210|   40|     3|891035994|\n",
      "| 224|   29|     3|888104457|\n",
      "| 303|  785|     3|879485318|\n",
      "| 122|  387|     5|879270459|\n",
      "| 194|  274|     2|879539794|\n",
      "| 291| 1042|     4|874834944|\n",
      "| 234| 1184|     2|892079237|\n",
      "+----+-----+------+---------+\n",
      "only showing top 20 rows\n",
      "\n"
     ]
    }
   ],
   "source": [
    "df_ratings.show()"
   ]
  },
  {
   "cell_type": "markdown",
   "metadata": {},
   "source": [
    "### Get some statistics about the data"
   ]
  },
  {
   "cell_type": "code",
   "execution_count": 10,
   "metadata": {},
   "outputs": [
    {
     "name": "stdout",
     "output_type": "stream",
     "text": [
      "Number of unique users: 943\n",
      "Number of unique movies: 1682\n",
      "Number of rating: 100000\n"
     ]
    }
   ],
   "source": [
    "print('Number of unique users: {}'.format(df_ratings.select('user').distinct().count()))\n",
    "print('Number of unique movies: {}'.format(df_ratings.select('movie').distinct().count()))\n",
    "print('Number of rating: {}'.format(df_ratings.count()))"
   ]
  },
  {
   "cell_type": "code",
   "execution_count": 11,
   "metadata": {},
   "outputs": [
    {
     "data": {
      "text/plain": [
       "0.06304669364224531"
      ]
     },
     "execution_count": 11,
     "metadata": {},
     "output_type": "execute_result"
    }
   ],
   "source": [
    "# The density of the matrix is \n",
    "100000/(943*1682)"
   ]
  },
  {
   "cell_type": "markdown",
   "metadata": {},
   "source": [
    "### Split the data\n",
    "We can split the data like this as it is not in a utility matrix so this is a good way to sample the data.  There is an option of splitting by time as well."
   ]
  },
  {
   "cell_type": "code",
   "execution_count": 12,
   "metadata": {},
   "outputs": [],
   "source": [
    "train, test = df_ratings.randomSplit([0.8, 0.2], seed=427471138)"
   ]
  },
  {
   "cell_type": "code",
   "execution_count": 13,
   "metadata": {},
   "outputs": [
    {
     "data": {
      "text/plain": [
       "(79998, 20002)"
      ]
     },
     "execution_count": 13,
     "metadata": {},
     "output_type": "execute_result"
    }
   ],
   "source": [
    "train.count(), test.count()"
   ]
  },
  {
   "cell_type": "markdown",
   "metadata": {},
   "source": [
    "### Looking at the breakdown of the split"
   ]
  },
  {
   "cell_type": "code",
   "execution_count": 14,
   "metadata": {},
   "outputs": [
    {
     "name": "stdout",
     "output_type": "stream",
     "text": [
      "Max Ratings: 593\n",
      "Min Ratings: 10\n"
     ]
    },
    {
     "data": {
      "text/plain": [
       "<matplotlib.axes._subplots.AxesSubplot at 0x7ff61492ea58>"
      ]
     },
     "execution_count": 14,
     "metadata": {},
     "output_type": "execute_result"
    },
    {
     "data": {
      "image/png": "[encoded data removed]",
      "text/plain": [
       "<Figure size 432x288 with 1 Axes>"
      ]
     },
     "metadata": {
      "needs_background": "light"
     },
     "output_type": "display_data"
    }
   ],
   "source": [
    "user_count = train.groupBy('user').count().toPandas()\n",
    "\n",
    "print('Max Ratings: {}'.format(user_count['count'].max()))\n",
    "print('Min Ratings: {}'.format(user_count['count'].min()))\n",
    "user_count['count'].hist(bins = 100)"
   ]
  },
  {
   "cell_type": "code",
   "execution_count": 15,
   "metadata": {},
   "outputs": [
    {
     "name": "stdout",
     "output_type": "stream",
     "text": [
      "Max Ratings: 453\n",
      "Min Ratings: 1\n"
     ]
    },
    {
     "data": {
      "text/plain": [
       "<matplotlib.axes._subplots.AxesSubplot at 0x7ff614658b00>"
      ]
     },
     "execution_count": 15,
     "metadata": {},
     "output_type": "execute_result"
    },
    {
     "data": {
      "image/png": "[encoded data removed]",
      "text/plain": [
       "<Figure size 432x288 with 1 Axes>"
      ]
     },
     "metadata": {
      "needs_background": "light"
     },
     "output_type": "display_data"
    }
   ],
   "source": [
    "movie_count = train.groupBy('movie').count().toPandas()\n",
    "\n",
    "print('Max Ratings: {}'.format(movie_count['count'].max()))\n",
    "print('Min Ratings: {}'.format(movie_count['count'].min()))\n",
    "movie_count['count'].hist(bins = 100)"
   ]
  },
  {
   "cell_type": "code",
   "execution_count": 16,
   "metadata": {},
   "outputs": [
    {
     "name": "stdout",
     "output_type": "stream",
     "text": [
      "Max Ratings: 144\n",
      "Min Ratings: 1\n"
     ]
    },
    {
     "data": {
      "text/plain": [
       "<matplotlib.axes._subplots.AxesSubplot at 0x7ff6144cf668>"
      ]
     },
     "execution_count": 16,
     "metadata": {},
     "output_type": "execute_result"
    },
    {
     "data": {
      "image/png": "[encoded data removed]",
      "text/plain": [
       "<Figure size 432x288 with 1 Axes>"
      ]
     },
     "metadata": {
      "needs_background": "light"
     },
     "output_type": "display_data"
    }
   ],
   "source": [
    "user_count = test.groupBy('user').count().toPandas()\n",
    "\n",
    "print('Max Ratings: {}'.format(user_count['count'].max()))\n",
    "print('Min Ratings: {}'.format(user_count['count'].min()))\n",
    "user_count['count'].hist(bins = 100)"
   ]
  },
  {
   "cell_type": "code",
   "execution_count": 17,
   "metadata": {},
   "outputs": [
    {
     "name": "stdout",
     "output_type": "stream",
     "text": [
      "Max Ratings: 130\n",
      "Min Ratings: 1\n"
     ]
    },
    {
     "data": {
      "text/plain": [
       "<matplotlib.axes._subplots.AxesSubplot at 0x7ff61432c400>"
      ]
     },
     "execution_count": 17,
     "metadata": {},
     "output_type": "execute_result"
    },
    {
     "data": {
      "image/png": "[encoded data removed]",
      "text/plain": [
       "<Figure size 432x288 with 1 Axes>"
      ]
     },
     "metadata": {
      "needs_background": "light"
     },
     "output_type": "display_data"
    }
   ],
   "source": [
    "movie_count = test.groupBy('movie').count().toPandas()\n",
    "\n",
    "print('Max Ratings: {}'.format(movie_count['count'].max()))\n",
    "print('Min Ratings: {}'.format(movie_count['count'].min()))\n",
    "movie_count['count'].hist(bins = 100)"
   ]
  },
  {
   "cell_type": "markdown",
   "metadata": {},
   "source": [
    "### Training the explicit model model"
   ]
  },
  {
   "cell_type": "code",
   "execution_count": 18,
   "metadata": {},
   "outputs": [],
   "source": [
    "als_model = ALS(userCol='user',\n",
    "                itemCol='movie',\n",
    "                ratingCol='rating',\n",
    "                nonnegative=True,\n",
    "                regParam=0.1,\n",
    "                rank=10\n",
    "               )\n",
    "\n",
    "recommender = als_model.fit(train)"
   ]
  },
  {
   "cell_type": "code",
   "execution_count": null,
   "metadata": {},
   "outputs": [],
   "source": []
  },
  {
   "cell_type": "markdown",
   "metadata": {},
   "source": [
    "### Create a record of user 1 and movie 100 to get predictions from "
   ]
  },
  {
   "cell_type": "code",
   "execution_count": 19,
   "metadata": {},
   "outputs": [],
   "source": [
    "data = [(1, 100)]\n",
    "columns = ('user', 'movie')\n",
    "one_row_spark_df = spark.createDataFrame(data, columns)"
   ]
  },
  {
   "cell_type": "code",
   "execution_count": 20,
   "metadata": {},
   "outputs": [
    {
     "name": "stdout",
     "output_type": "stream",
     "text": [
      "+----+-----+\n",
      "|user|movie|\n",
      "+----+-----+\n",
      "|   1|  100|\n",
      "+----+-----+\n",
      "\n"
     ]
    }
   ],
   "source": [
    "# Check that it worked\n",
    "one_row_spark_df.show()"
   ]
  },
  {
   "cell_type": "code",
   "execution_count": 21,
   "metadata": {},
   "outputs": [],
   "source": [
    "user_factor_df = recommender.userFactors.filter('id = 1')\n",
    "item_factor_df = recommender.itemFactors.filter('id = 100')"
   ]
  },
  {
   "cell_type": "code",
   "execution_count": 22,
   "metadata": {},
   "outputs": [],
   "source": [
    "user_factors = user_factor_df.collect()[0]['features']\n",
    "item_factors = item_factor_df.collect()[0]['features']"
   ]
  },
  {
   "cell_type": "code",
   "execution_count": 23,
   "metadata": {},
   "outputs": [
    {
     "data": {
      "text/plain": [
       "4.3858877122416144"
      ]
     },
     "execution_count": 23,
     "metadata": {},
     "output_type": "execute_result"
    }
   ],
   "source": [
    "np.dot(user_factors, item_factors)"
   ]
  },
  {
   "cell_type": "code",
   "execution_count": 24,
   "metadata": {},
   "outputs": [
    {
     "name": "stdout",
     "output_type": "stream",
     "text": [
      "+----+-----+----------+\n",
      "|user|movie|prediction|\n",
      "+----+-----+----------+\n",
      "|   1|  100| 4.3858876|\n",
      "+----+-----+----------+\n",
      "\n"
     ]
    }
   ],
   "source": [
    "# Get the recommender's prediction\n",
    "recommender.transform(one_row_spark_df).show()"
   ]
  },
  {
   "cell_type": "markdown",
   "metadata": {},
   "source": [
    "You can see we get the same prediction from the dot product of the vectors"
   ]
  },
  {
   "cell_type": "code",
   "execution_count": null,
   "metadata": {},
   "outputs": [],
   "source": []
  },
  {
   "cell_type": "code",
   "execution_count": 25,
   "metadata": {},
   "outputs": [
    {
     "name": "stdout",
     "output_type": "stream",
     "text": [
      "+----+--------------------+\n",
      "|user|     recommendations|\n",
      "+----+--------------------+\n",
      "|   1|[[408, 5.0479074]...|\n",
      "+----+--------------------+\n",
      "\n"
     ]
    }
   ],
   "source": [
    "# Get the top movies for a user 1\n",
    "\n",
    "recommender.recommendForUserSubset(one_row_spark_df, 10).show()"
   ]
  },
  {
   "cell_type": "code",
   "execution_count": null,
   "metadata": {},
   "outputs": [],
   "source": []
  },
  {
   "cell_type": "code",
   "execution_count": 26,
   "metadata": {},
   "outputs": [],
   "source": [
    "predictions = recommender.transform(test)"
   ]
  },
  {
   "cell_type": "code",
   "execution_count": 27,
   "metadata": {},
   "outputs": [
    {
     "name": "stdout",
     "output_type": "stream",
     "text": [
      "+-------+-----------------+------------------+------------------+-------------------+----------+\n",
      "|summary|             user|             movie|            rating|          timestamp|prediction|\n",
      "+-------+-----------------+------------------+------------------+-------------------+----------+\n",
      "|  count|            20002|             20002|             20002|              20002|     20002|\n",
      "|   mean|463.5897410258974| 420.1968303169683|3.5422957704229576|8.835040387062794E8|       NaN|\n",
      "| stddev|266.5949396137361|329.31280867535975|1.1275958120245677|  5338320.602518857|       NaN|\n",
      "|    min|                1|                 1|                 1|          874724710|0.36500934|\n",
      "|    max|              943|              1681|                 5|          893286637|       NaN|\n",
      "+-------+-----------------+------------------+------------------+-------------------+----------+\n",
      "\n"
     ]
    }
   ],
   "source": [
    "predictions.describe().show()"
   ]
  },
  {
   "cell_type": "markdown",
   "metadata": {},
   "source": [
    "Given the the stats it looks like our data does contin missing values."
   ]
  },
  {
   "cell_type": "markdown",
   "metadata": {},
   "source": [
    "## Part 2 Implicit\n",
    "\n",
    "We will add an implicit rating to the dataframe and then use that for predictions"
   ]
  },
  {
   "cell_type": "code",
   "execution_count": 28,
   "metadata": {},
   "outputs": [
    {
     "name": "stdout",
     "output_type": "stream",
     "text": [
      "+----+-----+------+---------+----------+\n",
      "|user|movie|rating|timestamp|imp_rating|\n",
      "+----+-----+------+---------+----------+\n",
      "|   1|    2|     3|876893171|         1|\n",
      "|   1|    3|     4|878542960|         1|\n",
      "|   1|    4|     3|876893119|         1|\n",
      "|   1|    7|     4|875071561|         1|\n",
      "|   1|    9|     5|878543541|         1|\n",
      "+----+-----+------+---------+----------+\n",
      "only showing top 5 rows\n",
      "\n"
     ]
    }
   ],
   "source": [
    "# add the implicit rating column\n",
    "\n",
    "train = train.withColumn(\"imp_rating\", lit(1))\n",
    "train.show(5)"
   ]
  },
  {
   "cell_type": "code",
   "execution_count": 29,
   "metadata": {},
   "outputs": [],
   "source": [
    "als_model_imp = ALS(userCol='user',\n",
    "                itemCol='movie',\n",
    "                ratingCol='imp_rating',\n",
    "                implicitPrefs=True,\n",
    "                nonnegative=True,\n",
    "                regParam=0.1,\n",
    "                rank=10\n",
    "               )\n",
    "\n",
    "recommender_imp = als_model_imp.fit(train)"
   ]
  },
  {
   "cell_type": "code",
   "execution_count": 30,
   "metadata": {},
   "outputs": [
    {
     "data": {
      "text/plain": [
       "[Row(user=1, recommendations=[Row(movie=174, rating=0.9075787663459778), Row(movie=50, rating=0.8714457154273987), Row(movie=168, rating=0.8463552594184875), Row(movie=204, rating=0.8344299793243408), Row(movie=172, rating=0.831427276134491), Row(movie=173, rating=0.8206742405891418), Row(movie=56, rating=0.8173366189002991), Row(movie=181, rating=0.8032495975494385), Row(movie=195, rating=0.7934309244155884), Row(movie=96, rating=0.792775571346283)])]"
      ]
     },
     "execution_count": 30,
     "metadata": {},
     "output_type": "execute_result"
    }
   ],
   "source": [
    "# Looking at the recommendations for user 1 to compare to what the explicit gave back \n",
    "recommender_imp.recommendForUserSubset(one_row_spark_df, 10).collect()"
   ]
  },
  {
   "cell_type": "markdown",
   "metadata": {},
   "source": [
    "### Implicit recommendation with interactions"
   ]
  },
  {
   "cell_type": "code",
   "execution_count": 31,
   "metadata": {},
   "outputs": [],
   "source": [
    "als_model_imp = ALS(userCol='user',\n",
    "                itemCol='movie',\n",
    "                ratingCol='rating',\n",
    "                implicitPrefs=True,\n",
    "                nonnegative=True,\n",
    "                regParam=0.1,\n",
    "                rank=10\n",
    "               )\n",
    "\n",
    "recommender_imp = als_model_imp.fit(train)"
   ]
  },
  {
   "cell_type": "code",
   "execution_count": 32,
   "metadata": {},
   "outputs": [
    {
     "data": {
      "text/plain": [
       "[Row(user=1, recommendations=[Row(movie=50, rating=1.0412098169326782), Row(movie=100, rating=1.0191421508789062), Row(movie=168, rating=0.9893996119499207), Row(movie=181, rating=0.9846006631851196), Row(movie=42, rating=0.9638375639915466), Row(movie=154, rating=0.9570358395576477), Row(movie=173, rating=0.9538309574127197), Row(movie=7, rating=0.9482871294021606), Row(movie=433, rating=0.9417609572410583), Row(movie=174, rating=0.9413334131240845)])]"
      ]
     },
     "execution_count": 32,
     "metadata": {},
     "output_type": "execute_result"
    }
   ],
   "source": [
    "recommender_imp.recommendForUserSubset(one_row_spark_df, 10).collect()"
   ]
  },
  {
   "cell_type": "markdown",
   "metadata": {},
   "source": [
    "## Part 3 Looking at explicit evaluation"
   ]
  },
  {
   "cell_type": "code",
   "execution_count": 33,
   "metadata": {},
   "outputs": [],
   "source": [
    "\n",
    "# Dump the predictions to Pandas DataFrames to make our final calculations easier\n",
    "predictions_df = predictions.toPandas()\n",
    "train_df = train.toPandas()"
   ]
  },
  {
   "cell_type": "code",
   "execution_count": 34,
   "metadata": {},
   "outputs": [],
   "source": [
    "# Fill any missing values with the mean rating\n",
    "# There are multiple things you could fill with, this is just one example\n",
    "predictions_df = predictions.toPandas().fillna(train_df['rating'].mean())"
   ]
  },
  {
   "cell_type": "code",
   "execution_count": 35,
   "metadata": {},
   "outputs": [],
   "source": [
    "predictions_df['squared_error'] = (predictions_df['rating'] - predictions_df['prediction'])**2"
   ]
  },
  {
   "cell_type": "code",
   "execution_count": 36,
   "metadata": {},
   "outputs": [
    {
     "data": {
      "text/html": [
       "<div>\n",
       "<style scoped>\n",
       "    .dataframe tbody tr th:only-of-type {\n",
       "        vertical-align: middle;\n",
       "    }\n",
       "\n",
       "    .dataframe tbody tr th {\n",
       "        vertical-align: top;\n",
       "    }\n",
       "\n",
       "    .dataframe thead th {\n",
       "        text-align: right;\n",
       "    }\n",
       "</style>\n",
       "<table border=\"1\" class=\"dataframe\">\n",
       "  <thead>\n",
       "    <tr style=\"text-align: right;\">\n",
       "      <th></th>\n",
       "      <th>user</th>\n",
       "      <th>movie</th>\n",
       "      <th>rating</th>\n",
       "      <th>timestamp</th>\n",
       "      <th>prediction</th>\n",
       "      <th>squared_error</th>\n",
       "    </tr>\n",
       "  </thead>\n",
       "  <tbody>\n",
       "    <tr>\n",
       "      <td>0</td>\n",
       "      <td>580</td>\n",
       "      <td>148</td>\n",
       "      <td>4</td>\n",
       "      <td>884125773</td>\n",
       "      <td>3.314450</td>\n",
       "      <td>0.469978</td>\n",
       "    </tr>\n",
       "    <tr>\n",
       "      <td>1</td>\n",
       "      <td>406</td>\n",
       "      <td>148</td>\n",
       "      <td>3</td>\n",
       "      <td>879540276</td>\n",
       "      <td>2.729056</td>\n",
       "      <td>0.073411</td>\n",
       "    </tr>\n",
       "    <tr>\n",
       "      <td>2</td>\n",
       "      <td>26</td>\n",
       "      <td>148</td>\n",
       "      <td>3</td>\n",
       "      <td>891377540</td>\n",
       "      <td>2.532030</td>\n",
       "      <td>0.218996</td>\n",
       "    </tr>\n",
       "    <tr>\n",
       "      <td>3</td>\n",
       "      <td>27</td>\n",
       "      <td>148</td>\n",
       "      <td>3</td>\n",
       "      <td>891543129</td>\n",
       "      <td>2.766154</td>\n",
       "      <td>0.054684</td>\n",
       "    </tr>\n",
       "    <tr>\n",
       "      <td>4</td>\n",
       "      <td>222</td>\n",
       "      <td>148</td>\n",
       "      <td>2</td>\n",
       "      <td>881061164</td>\n",
       "      <td>3.065005</td>\n",
       "      <td>1.134235</td>\n",
       "    </tr>\n",
       "  </tbody>\n",
       "</table>\n",
       "</div>"
      ],
      "text/plain": [
       "   user  movie  rating  timestamp  prediction  squared_error\n",
       "0   580    148       4  884125773    3.314450       0.469978\n",
       "1   406    148       3  879540276    2.729056       0.073411\n",
       "2    26    148       3  891377540    2.532030       0.218996\n",
       "3    27    148       3  891543129    2.766154       0.054684\n",
       "4   222    148       2  881061164    3.065005       1.134235"
      ]
     },
     "execution_count": 36,
     "metadata": {},
     "output_type": "execute_result"
    }
   ],
   "source": [
    "predictions_df.head()"
   ]
  },
  {
   "cell_type": "code",
   "execution_count": 37,
   "metadata": {},
   "outputs": [
    {
     "data": {
      "text/html": [
       "<div>\n",
       "<style scoped>\n",
       "    .dataframe tbody tr th:only-of-type {\n",
       "        vertical-align: middle;\n",
       "    }\n",
       "\n",
       "    .dataframe tbody tr th {\n",
       "        vertical-align: top;\n",
       "    }\n",
       "\n",
       "    .dataframe thead th {\n",
       "        text-align: right;\n",
       "    }\n",
       "</style>\n",
       "<table border=\"1\" class=\"dataframe\">\n",
       "  <thead>\n",
       "    <tr style=\"text-align: right;\">\n",
       "      <th></th>\n",
       "      <th>user</th>\n",
       "      <th>movie</th>\n",
       "      <th>rating</th>\n",
       "      <th>timestamp</th>\n",
       "      <th>prediction</th>\n",
       "      <th>squared_error</th>\n",
       "    </tr>\n",
       "  </thead>\n",
       "  <tbody>\n",
       "    <tr>\n",
       "      <td>count</td>\n",
       "      <td>20002.000000</td>\n",
       "      <td>20002.000000</td>\n",
       "      <td>20002.000000</td>\n",
       "      <td>2.000200e+04</td>\n",
       "      <td>20002.000000</td>\n",
       "      <td>2.000200e+04</td>\n",
       "    </tr>\n",
       "    <tr>\n",
       "      <td>mean</td>\n",
       "      <td>463.589741</td>\n",
       "      <td>420.196830</td>\n",
       "      <td>3.542296</td>\n",
       "      <td>8.835040e+08</td>\n",
       "      <td>3.398813</td>\n",
       "      <td>8.377901e-01</td>\n",
       "    </tr>\n",
       "    <tr>\n",
       "      <td>std</td>\n",
       "      <td>266.594940</td>\n",
       "      <td>329.312809</td>\n",
       "      <td>1.127596</td>\n",
       "      <td>5.338321e+06</td>\n",
       "      <td>0.684438</td>\n",
       "      <td>1.216645e+00</td>\n",
       "    </tr>\n",
       "    <tr>\n",
       "      <td>min</td>\n",
       "      <td>1.000000</td>\n",
       "      <td>1.000000</td>\n",
       "      <td>1.000000</td>\n",
       "      <td>8.747247e+08</td>\n",
       "      <td>0.365009</td>\n",
       "      <td>2.273737e-09</td>\n",
       "    </tr>\n",
       "    <tr>\n",
       "      <td>25%</td>\n",
       "      <td>254.000000</td>\n",
       "      <td>173.000000</td>\n",
       "      <td>3.000000</td>\n",
       "      <td>8.794519e+08</td>\n",
       "      <td>2.985260</td>\n",
       "      <td>8.447573e-02</td>\n",
       "    </tr>\n",
       "    <tr>\n",
       "      <td>50%</td>\n",
       "      <td>450.000000</td>\n",
       "      <td>318.000000</td>\n",
       "      <td>4.000000</td>\n",
       "      <td>8.828177e+08</td>\n",
       "      <td>3.462207</td>\n",
       "      <td>3.790039e-01</td>\n",
       "    </tr>\n",
       "    <tr>\n",
       "      <td>75%</td>\n",
       "      <td>682.000000</td>\n",
       "      <td>619.000000</td>\n",
       "      <td>4.000000</td>\n",
       "      <td>8.882061e+08</td>\n",
       "      <td>3.878964</td>\n",
       "      <td>1.089588e+00</td>\n",
       "    </tr>\n",
       "    <tr>\n",
       "      <td>max</td>\n",
       "      <td>943.000000</td>\n",
       "      <td>1681.000000</td>\n",
       "      <td>5.000000</td>\n",
       "      <td>8.932866e+08</td>\n",
       "      <td>5.522457</td>\n",
       "      <td>1.362189e+01</td>\n",
       "    </tr>\n",
       "  </tbody>\n",
       "</table>\n",
       "</div>"
      ],
      "text/plain": [
       "               user         movie        rating     timestamp    prediction  \\\n",
       "count  20002.000000  20002.000000  20002.000000  2.000200e+04  20002.000000   \n",
       "mean     463.589741    420.196830      3.542296  8.835040e+08      3.398813   \n",
       "std      266.594940    329.312809      1.127596  5.338321e+06      0.684438   \n",
       "min        1.000000      1.000000      1.000000  8.747247e+08      0.365009   \n",
       "25%      254.000000    173.000000      3.000000  8.794519e+08      2.985260   \n",
       "50%      450.000000    318.000000      4.000000  8.828177e+08      3.462207   \n",
       "75%      682.000000    619.000000      4.000000  8.882061e+08      3.878964   \n",
       "max      943.000000   1681.000000      5.000000  8.932866e+08      5.522457   \n",
       "\n",
       "       squared_error  \n",
       "count   2.000200e+04  \n",
       "mean    8.377901e-01  \n",
       "std     1.216645e+00  \n",
       "min     2.273737e-09  \n",
       "25%     8.447573e-02  \n",
       "50%     3.790039e-01  \n",
       "75%     1.089588e+00  \n",
       "max     1.362189e+01  "
      ]
     },
     "execution_count": 37,
     "metadata": {},
     "output_type": "execute_result"
    }
   ],
   "source": [
    "predictions_df.describe()"
   ]
  },
  {
   "cell_type": "code",
   "execution_count": 38,
   "metadata": {},
   "outputs": [
    {
     "data": {
      "text/plain": [
       "0.915308716923556"
      ]
     },
     "execution_count": 38,
     "metadata": {},
     "output_type": "execute_result"
    }
   ],
   "source": [
    "# Calculate RMSE\n",
    "np.sqrt(sum(predictions_df['squared_error']) / len(predictions_df))"
   ]
  },
  {
   "cell_type": "code",
   "execution_count": 39,
   "metadata": {},
   "outputs": [
    {
     "data": {
      "text/html": [
       "<div>\n",
       "<style scoped>\n",
       "    .dataframe tbody tr th:only-of-type {\n",
       "        vertical-align: middle;\n",
       "    }\n",
       "\n",
       "    .dataframe tbody tr th {\n",
       "        vertical-align: top;\n",
       "    }\n",
       "\n",
       "    .dataframe thead th {\n",
       "        text-align: right;\n",
       "    }\n",
       "</style>\n",
       "<table border=\"1\" class=\"dataframe\">\n",
       "  <thead>\n",
       "    <tr style=\"text-align: right;\">\n",
       "      <th></th>\n",
       "      <th>user</th>\n",
       "      <th>movie</th>\n",
       "      <th>rating</th>\n",
       "      <th>timestamp</th>\n",
       "      <th>prediction</th>\n",
       "      <th>squared_error</th>\n",
       "    </tr>\n",
       "  </thead>\n",
       "  <tbody>\n",
       "    <tr>\n",
       "      <td>0</td>\n",
       "      <td>580</td>\n",
       "      <td>148</td>\n",
       "      <td>4</td>\n",
       "      <td>884125773</td>\n",
       "      <td>3.314450</td>\n",
       "      <td>0.469978</td>\n",
       "    </tr>\n",
       "    <tr>\n",
       "      <td>1</td>\n",
       "      <td>406</td>\n",
       "      <td>148</td>\n",
       "      <td>3</td>\n",
       "      <td>879540276</td>\n",
       "      <td>2.729056</td>\n",
       "      <td>0.073411</td>\n",
       "    </tr>\n",
       "    <tr>\n",
       "      <td>2</td>\n",
       "      <td>26</td>\n",
       "      <td>148</td>\n",
       "      <td>3</td>\n",
       "      <td>891377540</td>\n",
       "      <td>2.532030</td>\n",
       "      <td>0.218996</td>\n",
       "    </tr>\n",
       "    <tr>\n",
       "      <td>3</td>\n",
       "      <td>27</td>\n",
       "      <td>148</td>\n",
       "      <td>3</td>\n",
       "      <td>891543129</td>\n",
       "      <td>2.766154</td>\n",
       "      <td>0.054684</td>\n",
       "    </tr>\n",
       "    <tr>\n",
       "      <td>4</td>\n",
       "      <td>222</td>\n",
       "      <td>148</td>\n",
       "      <td>2</td>\n",
       "      <td>881061164</td>\n",
       "      <td>3.065005</td>\n",
       "      <td>1.134235</td>\n",
       "    </tr>\n",
       "  </tbody>\n",
       "</table>\n",
       "</div>"
      ],
      "text/plain": [
       "   user  movie  rating  timestamp  prediction  squared_error\n",
       "0   580    148       4  884125773    3.314450       0.469978\n",
       "1   406    148       3  879540276    2.729056       0.073411\n",
       "2    26    148       3  891377540    2.532030       0.218996\n",
       "3    27    148       3  891543129    2.766154       0.054684\n",
       "4   222    148       2  881061164    3.065005       1.134235"
      ]
     },
     "execution_count": 39,
     "metadata": {},
     "output_type": "execute_result"
    }
   ],
   "source": [
    "predictions_df.head()"
   ]
  },
  {
   "cell_type": "code",
   "execution_count": 40,
   "metadata": {},
   "outputs": [
    {
     "data": {
      "image/png": "[encoded data removed]",
      "text/plain": [
       "<Figure size 432x288 with 1 Axes>"
      ]
     },
     "metadata": {
      "needs_background": "light"
     },
     "output_type": "display_data"
    }
   ],
   "source": [
    "\n",
    "# Create array of predictions for violinplot\n",
    "data = [predictions_df['prediction'][predictions_df['rating'] == rating].values for rating in range(1, 6)]\n",
    "plt.violinplot(data, range(1,6), showmeans=True)\n",
    "plt.xlabel('True Ratings')\n",
    "plt.ylabel('Predicted Ratings')\n",
    "plt.title('True vs. ALS Recommender Predicted Ratings')\n",
    "plt.show()"
   ]
  },
  {
   "cell_type": "code",
   "execution_count": null,
   "metadata": {},
   "outputs": [],
   "source": []
  },
  {
   "cell_type": "code",
   "execution_count": null,
   "metadata": {},
   "outputs": [],
   "source": []
  },
  {
   "cell_type": "code",
   "execution_count": null,
   "metadata": {},
   "outputs": [],
   "source": []
  },
  {
   "cell_type": "code",
   "execution_count": null,
   "metadata": {},
   "outputs": [],
   "source": []
  },
  {
   "cell_type": "markdown",
   "metadata": {},
   "source": [
    "### EXTRA CREDIT "
   ]
  },
  {
   "cell_type": "code",
   "execution_count": 41,
   "metadata": {},
   "outputs": [],
   "source": [
    "def rank_score(df):\n",
    "    df2 = df.copy()\n",
    "    df2['rank'] = df2.groupby(\"user\")[\"prediction\"].rank(\"dense\", ascending=False, na_option='top') -1\n",
    "    df2 = df2.join(df2.groupby(\"user\")[\"rank\"].max(), on='user', rsuffix='_max')\n",
    "    df2['pct_rank'] = df2['rank']/df2['rank_max']\n",
    "    \n",
    "    return np.sum(df2['interactions']*df2['pct_rank'])/np.sum(df2['interactions'])\n",
    "    "
   ]
  },
  {
   "cell_type": "markdown",
   "metadata": {},
   "source": [
    "## Predictions from the implicit with impressions "
   ]
  },
  {
   "cell_type": "code",
   "execution_count": 42,
   "metadata": {},
   "outputs": [],
   "source": [
    "implicit_predictions = recommender_imp.transform(test)"
   ]
  },
  {
   "cell_type": "code",
   "execution_count": 43,
   "metadata": {},
   "outputs": [],
   "source": [
    "implicit_predictions_df = implicit_predictions.toPandas()"
   ]
  },
  {
   "cell_type": "code",
   "execution_count": 44,
   "metadata": {},
   "outputs": [
    {
     "name": "stdout",
     "output_type": "stream",
     "text": [
      "<class 'pandas.core.frame.DataFrame'>\n",
      "RangeIndex: 20002 entries, 0 to 20001\n",
      "Data columns (total 5 columns):\n",
      "user          20002 non-null int32\n",
      "movie         20002 non-null int32\n",
      "rating        20002 non-null int32\n",
      "timestamp     20002 non-null int32\n",
      "prediction    19973 non-null float32\n",
      "dtypes: float32(1), int32(4)\n",
      "memory usage: 390.8 KB\n"
     ]
    }
   ],
   "source": [
    "implicit_predictions_df.info()"
   ]
  },
  {
   "cell_type": "markdown",
   "metadata": {},
   "source": [
    "We will have to fill the missing valuse.  We will just 0"
   ]
  },
  {
   "cell_type": "code",
   "execution_count": 45,
   "metadata": {},
   "outputs": [],
   "source": [
    "implicit_predictions_df = implicit_predictions_df.fillna(0)"
   ]
  },
  {
   "cell_type": "code",
   "execution_count": 49,
   "metadata": {},
   "outputs": [],
   "source": [
    "# Rename the columns as we wanted Interactions not rating\n",
    "implicit_predictions_df.columns = ['user','movie','interactions','timestamp','prediction']"
   ]
  },
  {
   "cell_type": "code",
   "execution_count": 50,
   "metadata": {},
   "outputs": [
    {
     "data": {
      "text/html": [
       "<div>\n",
       "<style scoped>\n",
       "    .dataframe tbody tr th:only-of-type {\n",
       "        vertical-align: middle;\n",
       "    }\n",
       "\n",
       "    .dataframe tbody tr th {\n",
       "        vertical-align: top;\n",
       "    }\n",
       "\n",
       "    .dataframe thead th {\n",
       "        text-align: right;\n",
       "    }\n",
       "</style>\n",
       "<table border=\"1\" class=\"dataframe\">\n",
       "  <thead>\n",
       "    <tr style=\"text-align: right;\">\n",
       "      <th></th>\n",
       "      <th>user</th>\n",
       "      <th>movie</th>\n",
       "      <th>interactions</th>\n",
       "      <th>timestamp</th>\n",
       "      <th>prediction</th>\n",
       "    </tr>\n",
       "  </thead>\n",
       "  <tbody>\n",
       "    <tr>\n",
       "      <td>0</td>\n",
       "      <td>580</td>\n",
       "      <td>148</td>\n",
       "      <td>4</td>\n",
       "      <td>884125773</td>\n",
       "      <td>0.422569</td>\n",
       "    </tr>\n",
       "    <tr>\n",
       "      <td>1</td>\n",
       "      <td>406</td>\n",
       "      <td>148</td>\n",
       "      <td>3</td>\n",
       "      <td>879540276</td>\n",
       "      <td>0.450218</td>\n",
       "    </tr>\n",
       "    <tr>\n",
       "      <td>2</td>\n",
       "      <td>26</td>\n",
       "      <td>148</td>\n",
       "      <td>3</td>\n",
       "      <td>891377540</td>\n",
       "      <td>0.545537</td>\n",
       "    </tr>\n",
       "    <tr>\n",
       "      <td>3</td>\n",
       "      <td>27</td>\n",
       "      <td>148</td>\n",
       "      <td>3</td>\n",
       "      <td>891543129</td>\n",
       "      <td>0.233229</td>\n",
       "    </tr>\n",
       "    <tr>\n",
       "      <td>4</td>\n",
       "      <td>222</td>\n",
       "      <td>148</td>\n",
       "      <td>2</td>\n",
       "      <td>881061164</td>\n",
       "      <td>0.688946</td>\n",
       "    </tr>\n",
       "  </tbody>\n",
       "</table>\n",
       "</div>"
      ],
      "text/plain": [
       "   user  movie  interactions  timestamp  prediction\n",
       "0   580    148             4  884125773    0.422569\n",
       "1   406    148             3  879540276    0.450218\n",
       "2    26    148             3  891377540    0.545537\n",
       "3    27    148             3  891543129    0.233229\n",
       "4   222    148             2  881061164    0.688946"
      ]
     },
     "execution_count": 50,
     "metadata": {},
     "output_type": "execute_result"
    }
   ],
   "source": [
    "implicit_predictions_df.head()"
   ]
  },
  {
   "cell_type": "code",
   "execution_count": 51,
   "metadata": {},
   "outputs": [
    {
     "data": {
      "text/plain": [
       "0.4763111957574119"
      ]
     },
     "execution_count": 51,
     "metadata": {},
     "output_type": "execute_result"
    }
   ],
   "source": [
    "rank_score(implicit_predictions_df)"
   ]
  },
  {
   "cell_type": "code",
   "execution_count": null,
   "metadata": {},
   "outputs": [],
   "source": []
  }
 ],
 "metadata": {
  "kernelspec": {
   "display_name": "Python 3",
   "language": "python",
   "name": "python3"
  },
  "language_info": {
   "codemirror_mode": {
    "name": "ipython",
    "version": 3
   },
   "file_extension": ".py",
   "mimetype": "text/x-python",
   "name": "python",
   "nbconvert_exporter": "python",
   "pygments_lexer": "ipython3",
   "version": "3.7.3"
  }
 },
 "nbformat": 4,
 "nbformat_minor": 4
}
