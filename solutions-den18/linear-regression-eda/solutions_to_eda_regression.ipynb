{
 "cells": [
  {
   "cell_type": "markdown",
   "metadata": {},
   "source": [
    "# Part 1\n",
    "## 1\n",
    "*Read in data, noting that the start and end dates should be parsed as datetime objects.  Assign new columns to your dataframe for the `start_date` month, year, day of the week, and hour.*"
   ]
  },
  {
   "cell_type": "code",
   "execution_count": 1,
   "metadata": {},
   "outputs": [],
   "source": [
    "%matplotlib inline\n",
    "import matplotlib.pyplot as plt\n",
    "plt.style.use('fivethirtyeight')\n",
    "\n",
    "import numpy as np\n",
    "import pandas as pd"
   ]
  },
  {
   "cell_type": "code",
   "execution_count": 2,
   "metadata": {},
   "outputs": [],
   "source": [
    "df = pd.read_csv(\"../data/201402_trip_data.csv\", parse_dates=['start_date', 'end_date'])"
   ]
  },
  {
   "cell_type": "code",
   "execution_count": 3,
   "metadata": {},
   "outputs": [
    {
     "data": {
      "text/html": [
       "<div>\n",
       "<style scoped>\n",
       "    .dataframe tbody tr th:only-of-type {\n",
       "        vertical-align: middle;\n",
       "    }\n",
       "\n",
       "    .dataframe tbody tr th {\n",
       "        vertical-align: top;\n",
       "    }\n",
       "\n",
       "    .dataframe thead th {\n",
       "        text-align: right;\n",
       "    }\n",
       "</style>\n",
       "<table border=\"1\" class=\"dataframe\">\n",
       "  <thead>\n",
       "    <tr style=\"text-align: right;\">\n",
       "      <th></th>\n",
       "      <th>trip_id</th>\n",
       "      <th>duration</th>\n",
       "      <th>start_date</th>\n",
       "      <th>start_station</th>\n",
       "      <th>start_terminal</th>\n",
       "      <th>end_date</th>\n",
       "      <th>end_station</th>\n",
       "      <th>end_terminal</th>\n",
       "      <th>bike_#</th>\n",
       "      <th>subscription_type</th>\n",
       "      <th>zip_code</th>\n",
       "    </tr>\n",
       "  </thead>\n",
       "  <tbody>\n",
       "    <tr>\n",
       "      <th>0</th>\n",
       "      <td>4576</td>\n",
       "      <td>63</td>\n",
       "      <td>2013-08-29 14:13:00</td>\n",
       "      <td>South Van Ness at Market</td>\n",
       "      <td>66</td>\n",
       "      <td>2013-08-29 14:14:00</td>\n",
       "      <td>South Van Ness at Market</td>\n",
       "      <td>66</td>\n",
       "      <td>520</td>\n",
       "      <td>Subscriber</td>\n",
       "      <td>94127</td>\n",
       "    </tr>\n",
       "    <tr>\n",
       "      <th>1</th>\n",
       "      <td>4607</td>\n",
       "      <td>70</td>\n",
       "      <td>2013-08-29 14:42:00</td>\n",
       "      <td>San Jose City Hall</td>\n",
       "      <td>10</td>\n",
       "      <td>2013-08-29 14:43:00</td>\n",
       "      <td>San Jose City Hall</td>\n",
       "      <td>10</td>\n",
       "      <td>661</td>\n",
       "      <td>Subscriber</td>\n",
       "      <td>95138</td>\n",
       "    </tr>\n",
       "    <tr>\n",
       "      <th>2</th>\n",
       "      <td>4130</td>\n",
       "      <td>71</td>\n",
       "      <td>2013-08-29 10:16:00</td>\n",
       "      <td>Mountain View City Hall</td>\n",
       "      <td>27</td>\n",
       "      <td>2013-08-29 10:17:00</td>\n",
       "      <td>Mountain View City Hall</td>\n",
       "      <td>27</td>\n",
       "      <td>48</td>\n",
       "      <td>Subscriber</td>\n",
       "      <td>97214</td>\n",
       "    </tr>\n",
       "    <tr>\n",
       "      <th>3</th>\n",
       "      <td>4251</td>\n",
       "      <td>77</td>\n",
       "      <td>2013-08-29 11:29:00</td>\n",
       "      <td>San Jose City Hall</td>\n",
       "      <td>10</td>\n",
       "      <td>2013-08-29 11:30:00</td>\n",
       "      <td>San Jose City Hall</td>\n",
       "      <td>10</td>\n",
       "      <td>26</td>\n",
       "      <td>Subscriber</td>\n",
       "      <td>95060</td>\n",
       "    </tr>\n",
       "    <tr>\n",
       "      <th>4</th>\n",
       "      <td>4299</td>\n",
       "      <td>83</td>\n",
       "      <td>2013-08-29 12:02:00</td>\n",
       "      <td>South Van Ness at Market</td>\n",
       "      <td>66</td>\n",
       "      <td>2013-08-29 12:04:00</td>\n",
       "      <td>Market at 10th</td>\n",
       "      <td>67</td>\n",
       "      <td>319</td>\n",
       "      <td>Subscriber</td>\n",
       "      <td>94103</td>\n",
       "    </tr>\n",
       "  </tbody>\n",
       "</table>\n",
       "</div>"
      ],
      "text/plain": [
       "   trip_id  duration          start_date             start_station  \\\n",
       "0     4576        63 2013-08-29 14:13:00  South Van Ness at Market   \n",
       "1     4607        70 2013-08-29 14:42:00        San Jose City Hall   \n",
       "2     4130        71 2013-08-29 10:16:00   Mountain View City Hall   \n",
       "3     4251        77 2013-08-29 11:29:00        San Jose City Hall   \n",
       "4     4299        83 2013-08-29 12:02:00  South Van Ness at Market   \n",
       "\n",
       "   start_terminal            end_date               end_station  end_terminal  \\\n",
       "0              66 2013-08-29 14:14:00  South Van Ness at Market            66   \n",
       "1              10 2013-08-29 14:43:00        San Jose City Hall            10   \n",
       "2              27 2013-08-29 10:17:00   Mountain View City Hall            27   \n",
       "3              10 2013-08-29 11:30:00        San Jose City Hall            10   \n",
       "4              66 2013-08-29 12:04:00            Market at 10th            67   \n",
       "\n",
       "   bike_# subscription_type zip_code  \n",
       "0     520        Subscriber    94127  \n",
       "1     661        Subscriber    95138  \n",
       "2      48        Subscriber    97214  \n",
       "3      26        Subscriber    95060  \n",
       "4     319        Subscriber    94103  "
      ]
     },
     "execution_count": 3,
     "metadata": {},
     "output_type": "execute_result"
    }
   ],
   "source": [
    "df.head()"
   ]
  },
  {
   "cell_type": "code",
   "execution_count": 4,
   "metadata": {},
   "outputs": [
    {
     "name": "stdout",
     "output_type": "stream",
     "text": [
      "<class 'pandas.core.frame.DataFrame'>\n",
      "RangeIndex: 144015 entries, 0 to 144014\n",
      "Data columns (total 11 columns):\n",
      "trip_id              144015 non-null int64\n",
      "duration             144015 non-null int64\n",
      "start_date           144015 non-null datetime64[ns]\n",
      "start_station        144015 non-null object\n",
      "start_terminal       144015 non-null int64\n",
      "end_date             144015 non-null datetime64[ns]\n",
      "end_station          144015 non-null object\n",
      "end_terminal         144015 non-null int64\n",
      "bike_#               144015 non-null int64\n",
      "subscription_type    144015 non-null object\n",
      "zip_code             137885 non-null object\n",
      "dtypes: datetime64[ns](2), int64(5), object(4)\n",
      "memory usage: 12.1+ MB\n"
     ]
    }
   ],
   "source": [
    "df.info()"
   ]
  },
  {
   "cell_type": "code",
   "execution_count": 5,
   "metadata": {},
   "outputs": [
    {
     "data": {
      "text/html": [
       "<div>\n",
       "<style scoped>\n",
       "    .dataframe tbody tr th:only-of-type {\n",
       "        vertical-align: middle;\n",
       "    }\n",
       "\n",
       "    .dataframe tbody tr th {\n",
       "        vertical-align: top;\n",
       "    }\n",
       "\n",
       "    .dataframe thead th {\n",
       "        text-align: right;\n",
       "    }\n",
       "</style>\n",
       "<table border=\"1\" class=\"dataframe\">\n",
       "  <thead>\n",
       "    <tr style=\"text-align: right;\">\n",
       "      <th></th>\n",
       "      <th>trip_id</th>\n",
       "      <th>duration</th>\n",
       "      <th>start_date</th>\n",
       "      <th>start_station</th>\n",
       "      <th>start_terminal</th>\n",
       "      <th>end_date</th>\n",
       "      <th>end_station</th>\n",
       "      <th>end_terminal</th>\n",
       "      <th>bike_#</th>\n",
       "      <th>subscription_type</th>\n",
       "      <th>zip_code</th>\n",
       "      <th>month</th>\n",
       "      <th>year</th>\n",
       "      <th>day_of_week</th>\n",
       "      <th>hour</th>\n",
       "    </tr>\n",
       "  </thead>\n",
       "  <tbody>\n",
       "    <tr>\n",
       "      <th>0</th>\n",
       "      <td>4576</td>\n",
       "      <td>63</td>\n",
       "      <td>2013-08-29 14:13:00</td>\n",
       "      <td>South Van Ness at Market</td>\n",
       "      <td>66</td>\n",
       "      <td>2013-08-29 14:14:00</td>\n",
       "      <td>South Van Ness at Market</td>\n",
       "      <td>66</td>\n",
       "      <td>520</td>\n",
       "      <td>Subscriber</td>\n",
       "      <td>94127</td>\n",
       "      <td>8</td>\n",
       "      <td>2013</td>\n",
       "      <td>3</td>\n",
       "      <td>14</td>\n",
       "    </tr>\n",
       "    <tr>\n",
       "      <th>1</th>\n",
       "      <td>4607</td>\n",
       "      <td>70</td>\n",
       "      <td>2013-08-29 14:42:00</td>\n",
       "      <td>San Jose City Hall</td>\n",
       "      <td>10</td>\n",
       "      <td>2013-08-29 14:43:00</td>\n",
       "      <td>San Jose City Hall</td>\n",
       "      <td>10</td>\n",
       "      <td>661</td>\n",
       "      <td>Subscriber</td>\n",
       "      <td>95138</td>\n",
       "      <td>8</td>\n",
       "      <td>2013</td>\n",
       "      <td>3</td>\n",
       "      <td>14</td>\n",
       "    </tr>\n",
       "    <tr>\n",
       "      <th>2</th>\n",
       "      <td>4130</td>\n",
       "      <td>71</td>\n",
       "      <td>2013-08-29 10:16:00</td>\n",
       "      <td>Mountain View City Hall</td>\n",
       "      <td>27</td>\n",
       "      <td>2013-08-29 10:17:00</td>\n",
       "      <td>Mountain View City Hall</td>\n",
       "      <td>27</td>\n",
       "      <td>48</td>\n",
       "      <td>Subscriber</td>\n",
       "      <td>97214</td>\n",
       "      <td>8</td>\n",
       "      <td>2013</td>\n",
       "      <td>3</td>\n",
       "      <td>10</td>\n",
       "    </tr>\n",
       "    <tr>\n",
       "      <th>3</th>\n",
       "      <td>4251</td>\n",
       "      <td>77</td>\n",
       "      <td>2013-08-29 11:29:00</td>\n",
       "      <td>San Jose City Hall</td>\n",
       "      <td>10</td>\n",
       "      <td>2013-08-29 11:30:00</td>\n",
       "      <td>San Jose City Hall</td>\n",
       "      <td>10</td>\n",
       "      <td>26</td>\n",
       "      <td>Subscriber</td>\n",
       "      <td>95060</td>\n",
       "      <td>8</td>\n",
       "      <td>2013</td>\n",
       "      <td>3</td>\n",
       "      <td>11</td>\n",
       "    </tr>\n",
       "    <tr>\n",
       "      <th>4</th>\n",
       "      <td>4299</td>\n",
       "      <td>83</td>\n",
       "      <td>2013-08-29 12:02:00</td>\n",
       "      <td>South Van Ness at Market</td>\n",
       "      <td>66</td>\n",
       "      <td>2013-08-29 12:04:00</td>\n",
       "      <td>Market at 10th</td>\n",
       "      <td>67</td>\n",
       "      <td>319</td>\n",
       "      <td>Subscriber</td>\n",
       "      <td>94103</td>\n",
       "      <td>8</td>\n",
       "      <td>2013</td>\n",
       "      <td>3</td>\n",
       "      <td>12</td>\n",
       "    </tr>\n",
       "  </tbody>\n",
       "</table>\n",
       "</div>"
      ],
      "text/plain": [
       "   trip_id  duration          start_date             start_station  \\\n",
       "0     4576        63 2013-08-29 14:13:00  South Van Ness at Market   \n",
       "1     4607        70 2013-08-29 14:42:00        San Jose City Hall   \n",
       "2     4130        71 2013-08-29 10:16:00   Mountain View City Hall   \n",
       "3     4251        77 2013-08-29 11:29:00        San Jose City Hall   \n",
       "4     4299        83 2013-08-29 12:02:00  South Van Ness at Market   \n",
       "\n",
       "   start_terminal            end_date               end_station  end_terminal  \\\n",
       "0              66 2013-08-29 14:14:00  South Van Ness at Market            66   \n",
       "1              10 2013-08-29 14:43:00        San Jose City Hall            10   \n",
       "2              27 2013-08-29 10:17:00   Mountain View City Hall            27   \n",
       "3              10 2013-08-29 11:30:00        San Jose City Hall            10   \n",
       "4              66 2013-08-29 12:04:00            Market at 10th            67   \n",
       "\n",
       "   bike_# subscription_type zip_code  month  year  day_of_week  hour  \n",
       "0     520        Subscriber    94127      8  2013            3    14  \n",
       "1     661        Subscriber    95138      8  2013            3    14  \n",
       "2      48        Subscriber    97214      8  2013            3    10  \n",
       "3      26        Subscriber    95060      8  2013            3    11  \n",
       "4     319        Subscriber    94103      8  2013            3    12  "
      ]
     },
     "execution_count": 5,
     "metadata": {},
     "output_type": "execute_result"
    }
   ],
   "source": [
    "df['month'] = df['start_date'].dt.month\n",
    "df['year'] = df['start_date'].dt.year\n",
    "df['day_of_week'] = df['start_date'].dt.dayofweek\n",
    "df['hour'] = df['start_date'].dt.hour\n",
    "df.head()"
   ]
  },
  {
   "cell_type": "markdown",
   "metadata": {},
   "source": [
    "## 2\n",
    "*Group by month, and count the number of trips.*"
   ]
  },
  {
   "cell_type": "code",
   "execution_count": 6,
   "metadata": {},
   "outputs": [
    {
     "data": {
      "text/html": [
       "<div>\n",
       "<style scoped>\n",
       "    .dataframe tbody tr th:only-of-type {\n",
       "        vertical-align: middle;\n",
       "    }\n",
       "\n",
       "    .dataframe tbody tr th {\n",
       "        vertical-align: top;\n",
       "    }\n",
       "\n",
       "    .dataframe thead th {\n",
       "        text-align: right;\n",
       "    }\n",
       "</style>\n",
       "<table border=\"1\" class=\"dataframe\">\n",
       "  <thead>\n",
       "    <tr style=\"text-align: right;\">\n",
       "      <th></th>\n",
       "      <th>trip_id</th>\n",
       "    </tr>\n",
       "    <tr>\n",
       "      <th>month</th>\n",
       "      <th></th>\n",
       "    </tr>\n",
       "  </thead>\n",
       "  <tbody>\n",
       "    <tr>\n",
       "      <th>1</th>\n",
       "      <td>24428</td>\n",
       "    </tr>\n",
       "    <tr>\n",
       "      <th>2</th>\n",
       "      <td>19024</td>\n",
       "    </tr>\n",
       "    <tr>\n",
       "      <th>8</th>\n",
       "      <td>2102</td>\n",
       "    </tr>\n",
       "    <tr>\n",
       "      <th>9</th>\n",
       "      <td>25243</td>\n",
       "    </tr>\n",
       "    <tr>\n",
       "      <th>10</th>\n",
       "      <td>29105</td>\n",
       "    </tr>\n",
       "    <tr>\n",
       "      <th>11</th>\n",
       "      <td>24219</td>\n",
       "    </tr>\n",
       "    <tr>\n",
       "      <th>12</th>\n",
       "      <td>19894</td>\n",
       "    </tr>\n",
       "  </tbody>\n",
       "</table>\n",
       "</div>"
      ],
      "text/plain": [
       "       trip_id\n",
       "month         \n",
       "1        24428\n",
       "2        19024\n",
       "8         2102\n",
       "9        25243\n",
       "10       29105\n",
       "11       24219\n",
       "12       19894"
      ]
     },
     "execution_count": 6,
     "metadata": {},
     "output_type": "execute_result"
    }
   ],
   "source": [
    "df.groupby('month').count()[['trip_id']]"
   ]
  },
  {
   "cell_type": "markdown",
   "metadata": {},
   "source": [
    "### Key Finding\n",
    "We note that no data exists from March through July.  Also, the counts for August are much lower than other months.  This is evidence that August might also be a partial month:"
   ]
  },
  {
   "cell_type": "code",
   "execution_count": 7,
   "metadata": {},
   "outputs": [
    {
     "data": {
      "text/html": [
       "<div>\n",
       "<style scoped>\n",
       "    .dataframe tbody tr th:only-of-type {\n",
       "        vertical-align: middle;\n",
       "    }\n",
       "\n",
       "    .dataframe tbody tr th {\n",
       "        vertical-align: top;\n",
       "    }\n",
       "\n",
       "    .dataframe thead th {\n",
       "        text-align: right;\n",
       "    }\n",
       "</style>\n",
       "<table border=\"1\" class=\"dataframe\">\n",
       "  <thead>\n",
       "    <tr style=\"text-align: right;\">\n",
       "      <th></th>\n",
       "      <th>trip_id</th>\n",
       "    </tr>\n",
       "    <tr>\n",
       "      <th>date</th>\n",
       "      <th></th>\n",
       "    </tr>\n",
       "  </thead>\n",
       "  <tbody>\n",
       "    <tr>\n",
       "      <th>2013-08-29</th>\n",
       "      <td>748</td>\n",
       "    </tr>\n",
       "    <tr>\n",
       "      <th>2013-08-30</th>\n",
       "      <td>714</td>\n",
       "    </tr>\n",
       "    <tr>\n",
       "      <th>2013-08-31</th>\n",
       "      <td>640</td>\n",
       "    </tr>\n",
       "  </tbody>\n",
       "</table>\n",
       "</div>"
      ],
      "text/plain": [
       "            trip_id\n",
       "date               \n",
       "2013-08-29      748\n",
       "2013-08-30      714\n",
       "2013-08-31      640"
      ]
     },
     "execution_count": 7,
     "metadata": {},
     "output_type": "execute_result"
    }
   ],
   "source": [
    "df['date'] = df['start_date'].dt.date\n",
    "df[df['month']==8].groupby('date').count()[['trip_id']]"
   ]
  },
  {
   "cell_type": "markdown",
   "metadata": {},
   "source": [
    "so we only have parial data for that month.  If we are looking at month by month statisitics, we'll need to exclude this, as it could be misleading."
   ]
  },
  {
   "cell_type": "code",
   "execution_count": 8,
   "metadata": {},
   "outputs": [
    {
     "data": {
      "text/plain": [
       "{1: 24428, 2: 19024, 8: 2102, 9: 25243, 10: 29105, 11: 24219, 12: 19894}"
      ]
     },
     "execution_count": 8,
     "metadata": {},
     "output_type": "execute_result"
    }
   ],
   "source": [
    "count_dict = df.groupby('month').count()['trip_id'].to_dict()\n",
    "count_dict"
   ]
  },
  {
   "cell_type": "code",
   "execution_count": 9,
   "metadata": {},
   "outputs": [
    {
     "name": "stdout",
     "output_type": "stream",
     "text": [
      "{8: 'Aug', 9: 'Sep', 10: 'Oct', 11: 'Nov', 12: 'Dec', 1: 'Jan', 2: 'Feb'}\n",
      "[8, 9, 10, 11, 12, 1, 2]\n"
     ]
    }
   ],
   "source": [
    "date_dict = {8:'Aug', 9:'Sep', 10:'Oct', 11:'Nov', 12:'Dec', 1:'Jan', 2:'Feb'}\n",
    "ordered_months = [x for x in range(8,13)] + [x for x in range(1,3)]\n",
    "print(date_dict)\n",
    "print(ordered_months)"
   ]
  },
  {
   "cell_type": "code",
   "execution_count": 10,
   "metadata": {},
   "outputs": [
    {
     "data": {
      "image/png": "[encoded data removed]",
      "text/plain": [
       "<Figure size 864x432 with 2 Axes>"
      ]
     },
     "metadata": {
      "needs_background": "light"
     },
     "output_type": "display_data"
    }
   ],
   "source": [
    "fig, ax = plt.subplots(1, 2, figsize=(12, 6))\n",
    "ax[0].plot([date_dict[x] for x in ordered_months], \n",
    "        [count_dict[x] for x in ordered_months], \n",
    "        marker='.', markersize=12, linestyle=\"None\")\n",
    "ax[0].set_title(\"Trip Count For All Active Months\")\n",
    "ax[0].set_xlabel(\"Month\")\n",
    "ax[0].set_ylabel(\"Trip Counts\")\n",
    "\n",
    "ax[1].plot([date_dict[x] for x in ordered_months[1:]], \n",
    "        [count_dict[x] for x in ordered_months[1:]], \n",
    "        marker='.', markersize=12, linestyle=\"None\")\n",
    "ax[1].set_title(\"Trip Count For Full Months\")\n",
    "ax[1].set_xlabel(\"Month\")\n",
    "ax[1].set_ylabel(\"Trip Counts\")\n",
    "plt.tight_layout()"
   ]
  },
  {
   "cell_type": "markdown",
   "metadata": {},
   "source": [
    "## 3\n",
    "*Plot the daily trip count from September to December*"
   ]
  },
  {
   "cell_type": "code",
   "execution_count": 11,
   "metadata": {},
   "outputs": [
    {
     "data": {
      "text/html": [
       "<div>\n",
       "<style scoped>\n",
       "    .dataframe tbody tr th:only-of-type {\n",
       "        vertical-align: middle;\n",
       "    }\n",
       "\n",
       "    .dataframe tbody tr th {\n",
       "        vertical-align: top;\n",
       "    }\n",
       "\n",
       "    .dataframe thead th {\n",
       "        text-align: right;\n",
       "    }\n",
       "</style>\n",
       "<table border=\"1\" class=\"dataframe\">\n",
       "  <thead>\n",
       "    <tr style=\"text-align: right;\">\n",
       "      <th></th>\n",
       "      <th>trip_id</th>\n",
       "      <th>duration</th>\n",
       "      <th>start_date</th>\n",
       "      <th>start_station</th>\n",
       "      <th>start_terminal</th>\n",
       "      <th>end_date</th>\n",
       "      <th>end_station</th>\n",
       "      <th>end_terminal</th>\n",
       "      <th>bike_#</th>\n",
       "      <th>subscription_type</th>\n",
       "      <th>zip_code</th>\n",
       "      <th>month</th>\n",
       "      <th>year</th>\n",
       "      <th>day_of_week</th>\n",
       "      <th>hour</th>\n",
       "      <th>date</th>\n",
       "    </tr>\n",
       "  </thead>\n",
       "  <tbody>\n",
       "    <tr>\n",
       "      <th>2102</th>\n",
       "      <td>7442</td>\n",
       "      <td>1508</td>\n",
       "      <td>2013-09-01 00:11:00</td>\n",
       "      <td>Mechanics Plaza (Market at Battery)</td>\n",
       "      <td>75</td>\n",
       "      <td>2013-09-01 00:36:00</td>\n",
       "      <td>Beale at Market</td>\n",
       "      <td>56</td>\n",
       "      <td>506</td>\n",
       "      <td>Customer</td>\n",
       "      <td>55405</td>\n",
       "      <td>9</td>\n",
       "      <td>2013</td>\n",
       "      <td>6</td>\n",
       "      <td>0</td>\n",
       "      <td>2013-09-01</td>\n",
       "    </tr>\n",
       "    <tr>\n",
       "      <th>2103</th>\n",
       "      <td>7443</td>\n",
       "      <td>1513</td>\n",
       "      <td>2013-09-01 00:12:00</td>\n",
       "      <td>Mechanics Plaza (Market at Battery)</td>\n",
       "      <td>75</td>\n",
       "      <td>2013-09-01 00:37:00</td>\n",
       "      <td>Beale at Market</td>\n",
       "      <td>56</td>\n",
       "      <td>334</td>\n",
       "      <td>Customer</td>\n",
       "      <td>55405</td>\n",
       "      <td>9</td>\n",
       "      <td>2013</td>\n",
       "      <td>6</td>\n",
       "      <td>0</td>\n",
       "      <td>2013-09-01</td>\n",
       "    </tr>\n",
       "    <tr>\n",
       "      <th>2104</th>\n",
       "      <td>7444</td>\n",
       "      <td>1345</td>\n",
       "      <td>2013-09-01 00:19:00</td>\n",
       "      <td>South Van Ness at Market</td>\n",
       "      <td>66</td>\n",
       "      <td>2013-09-01 00:41:00</td>\n",
       "      <td>Harry Bridges Plaza (Ferry Building)</td>\n",
       "      <td>50</td>\n",
       "      <td>464</td>\n",
       "      <td>Customer</td>\n",
       "      <td>NaN</td>\n",
       "      <td>9</td>\n",
       "      <td>2013</td>\n",
       "      <td>6</td>\n",
       "      <td>0</td>\n",
       "      <td>2013-09-01</td>\n",
       "    </tr>\n",
       "    <tr>\n",
       "      <th>2105</th>\n",
       "      <td>7445</td>\n",
       "      <td>931</td>\n",
       "      <td>2013-09-01 00:21:00</td>\n",
       "      <td>Mechanics Plaza (Market at Battery)</td>\n",
       "      <td>75</td>\n",
       "      <td>2013-09-01 00:36:00</td>\n",
       "      <td>Mechanics Plaza (Market at Battery)</td>\n",
       "      <td>75</td>\n",
       "      <td>422</td>\n",
       "      <td>Customer</td>\n",
       "      <td>NaN</td>\n",
       "      <td>9</td>\n",
       "      <td>2013</td>\n",
       "      <td>6</td>\n",
       "      <td>0</td>\n",
       "      <td>2013-09-01</td>\n",
       "    </tr>\n",
       "    <tr>\n",
       "      <th>2106</th>\n",
       "      <td>7446</td>\n",
       "      <td>159</td>\n",
       "      <td>2013-09-01 00:23:00</td>\n",
       "      <td>Broadway at Main</td>\n",
       "      <td>25</td>\n",
       "      <td>2013-09-01 00:25:00</td>\n",
       "      <td>Franklin at Maple</td>\n",
       "      <td>21</td>\n",
       "      <td>239</td>\n",
       "      <td>Subscriber</td>\n",
       "      <td>94063</td>\n",
       "      <td>9</td>\n",
       "      <td>2013</td>\n",
       "      <td>6</td>\n",
       "      <td>0</td>\n",
       "      <td>2013-09-01</td>\n",
       "    </tr>\n",
       "  </tbody>\n",
       "</table>\n",
       "</div>"
      ],
      "text/plain": [
       "      trip_id  duration          start_date  \\\n",
       "2102     7442      1508 2013-09-01 00:11:00   \n",
       "2103     7443      1513 2013-09-01 00:12:00   \n",
       "2104     7444      1345 2013-09-01 00:19:00   \n",
       "2105     7445       931 2013-09-01 00:21:00   \n",
       "2106     7446       159 2013-09-01 00:23:00   \n",
       "\n",
       "                            start_station  start_terminal            end_date  \\\n",
       "2102  Mechanics Plaza (Market at Battery)              75 2013-09-01 00:36:00   \n",
       "2103  Mechanics Plaza (Market at Battery)              75 2013-09-01 00:37:00   \n",
       "2104             South Van Ness at Market              66 2013-09-01 00:41:00   \n",
       "2105  Mechanics Plaza (Market at Battery)              75 2013-09-01 00:36:00   \n",
       "2106                     Broadway at Main              25 2013-09-01 00:25:00   \n",
       "\n",
       "                               end_station  end_terminal  bike_#  \\\n",
       "2102                       Beale at Market            56     506   \n",
       "2103                       Beale at Market            56     334   \n",
       "2104  Harry Bridges Plaza (Ferry Building)            50     464   \n",
       "2105   Mechanics Plaza (Market at Battery)            75     422   \n",
       "2106                     Franklin at Maple            21     239   \n",
       "\n",
       "     subscription_type zip_code  month  year  day_of_week  hour        date  \n",
       "2102          Customer    55405      9  2013            6     0  2013-09-01  \n",
       "2103          Customer    55405      9  2013            6     0  2013-09-01  \n",
       "2104          Customer      NaN      9  2013            6     0  2013-09-01  \n",
       "2105          Customer      NaN      9  2013            6     0  2013-09-01  \n",
       "2106        Subscriber    94063      9  2013            6     0  2013-09-01  "
      ]
     },
     "execution_count": 11,
     "metadata": {},
     "output_type": "execute_result"
    }
   ],
   "source": [
    "df_short = df[df.month>8]\n",
    "df_short.head()"
   ]
  },
  {
   "cell_type": "code",
   "execution_count": 12,
   "metadata": {},
   "outputs": [
    {
     "name": "stdout",
     "output_type": "stream",
     "text": [
      "<class 'pandas.core.frame.DataFrame'>\n",
      "Int64Index: 98461 entries, 2102 to 100562\n",
      "Data columns (total 16 columns):\n",
      "trip_id              98461 non-null int64\n",
      "duration             98461 non-null int64\n",
      "start_date           98461 non-null datetime64[ns]\n",
      "start_station        98461 non-null object\n",
      "start_terminal       98461 non-null int64\n",
      "end_date             98461 non-null datetime64[ns]\n",
      "end_station          98461 non-null object\n",
      "end_terminal         98461 non-null int64\n",
      "bike_#               98461 non-null int64\n",
      "subscription_type    98461 non-null object\n",
      "zip_code             93693 non-null object\n",
      "month                98461 non-null int64\n",
      "year                 98461 non-null int64\n",
      "day_of_week          98461 non-null int64\n",
      "hour                 98461 non-null int64\n",
      "date                 98461 non-null object\n",
      "dtypes: datetime64[ns](2), int64(9), object(5)\n",
      "memory usage: 12.8+ MB\n"
     ]
    }
   ],
   "source": [
    "df_short.info()"
   ]
  },
  {
   "cell_type": "code",
   "execution_count": 13,
   "metadata": {},
   "outputs": [
    {
     "data": {
      "text/plain": [
       "date\n",
       "2013-09-01     706\n",
       "2013-09-02     661\n",
       "2013-09-03     597\n",
       "2013-09-04     606\n",
       "2013-09-05     677\n",
       "2013-09-06     814\n",
       "2013-09-07     796\n",
       "2013-09-08     704\n",
       "2013-09-09     769\n",
       "2013-09-10     892\n",
       "2013-09-11     880\n",
       "2013-09-12     942\n",
       "2013-09-13     981\n",
       "2013-09-14     702\n",
       "2013-09-15     624\n",
       "2013-09-16     914\n",
       "2013-09-17    1073\n",
       "2013-09-18    1110\n",
       "2013-09-19    1044\n",
       "2013-09-20    1102\n",
       "2013-09-21     388\n",
       "2013-09-22     584\n",
       "2013-09-23    1050\n",
       "2013-09-24    1075\n",
       "2013-09-25    1264\n",
       "2013-09-26    1082\n",
       "2013-09-27    1101\n",
       "2013-09-28     612\n",
       "2013-09-29     517\n",
       "2013-09-30     976\n",
       "              ... \n",
       "2013-12-02     878\n",
       "2013-12-03     917\n",
       "2013-12-04     992\n",
       "2013-12-05     936\n",
       "2013-12-06     727\n",
       "2013-12-07     277\n",
       "2013-12-08     274\n",
       "2013-12-09     807\n",
       "2013-12-10     878\n",
       "2013-12-11     903\n",
       "2013-12-12     966\n",
       "2013-12-13     962\n",
       "2013-12-14     392\n",
       "2013-12-15     319\n",
       "2013-12-16     946\n",
       "2013-12-17     975\n",
       "2013-12-18     928\n",
       "2013-12-19     935\n",
       "2013-12-20     867\n",
       "2013-12-21     354\n",
       "2013-12-22     307\n",
       "2013-12-23     651\n",
       "2013-12-24     336\n",
       "2013-12-25     360\n",
       "2013-12-26     422\n",
       "2013-12-27     425\n",
       "2013-12-28     403\n",
       "2013-12-29     318\n",
       "2013-12-30     605\n",
       "2013-12-31     505\n",
       "Name: trip_id, Length: 122, dtype: int64"
      ]
     },
     "execution_count": 13,
     "metadata": {},
     "output_type": "execute_result"
    }
   ],
   "source": [
    "grouped = df_short.groupby(['date'])['trip_id'].count()\n",
    "grouped"
   ]
  },
  {
   "cell_type": "code",
   "execution_count": 14,
   "metadata": {},
   "outputs": [
    {
     "data": {
      "text/plain": [
       "pandas.core.series.Series"
      ]
     },
     "execution_count": 14,
     "metadata": {},
     "output_type": "execute_result"
    }
   ],
   "source": [
    "type(grouped)"
   ]
  },
  {
   "cell_type": "code",
   "execution_count": 15,
   "metadata": {},
   "outputs": [
    {
     "data": {
      "image/png": "[encoded data removed]",
      "text/plain": [
       "<Figure size 1080x360 with 1 Axes>"
      ]
     },
     "metadata": {
      "needs_background": "light"
     },
     "output_type": "display_data"
    }
   ],
   "source": [
    "mu = np.mean(grouped)\n",
    "std = np.std(grouped)\n",
    "ax = grouped.plot(figsize=(15,5), rot=90, label=\"Trips\")\n",
    "ax.set_ylabel(\"Count\")\n",
    "ax.set_title(\"Daily Trip Counts\")\n",
    "ax.hlines(mu, xmin=df_short['date'].min(), xmax=df_short['date'].max(), label=\"mean\")\n",
    "ax.hlines(mu + 1.5*std, xmin=df_short['date'].min(), xmax=df_short['date'].max(), linestyle=\"--\", label=\"1 S.D.\")\n",
    "ax.hlines(mu - 1.5*std, xmin=df_short['date'].min(), xmax=df_short['date'].max(), linestyle=\"--\", label=\"1 S.D.\")\n",
    "ax.legend();"
   ]
  },
  {
   "cell_type": "markdown",
   "metadata": {},
   "source": [
    "## 4\n",
    "*Plot the distribution of the daily trip counts for all months as a histogram. Fit a KDE to the histogram.*"
   ]
  },
  {
   "cell_type": "code",
   "execution_count": 16,
   "metadata": {},
   "outputs": [],
   "source": [
    "from scipy.stats.kde import gaussian_kde"
   ]
  },
  {
   "cell_type": "code",
   "execution_count": 17,
   "metadata": {},
   "outputs": [
    {
     "data": {
      "text/plain": [
       "array([ 748,  714,  640,  706,  661,  597,  606,  677,  814,  796,  704,\n",
       "        769,  892,  880,  942,  981,  702,  624,  914, 1073, 1110, 1044,\n",
       "       1102,  388,  584, 1050, 1075, 1264, 1082, 1101,  612,  517,  976,\n",
       "       1072, 1061, 1158, 1088,  716,  606,  964, 1018, 1069, 1086, 1014,\n",
       "        665,  572, 1050, 1173, 1165, 1227, 1103,  635,  452, 1015, 1026,\n",
       "       1029, 1053, 1048,  501,  292,  967, 1008, 1122, 1150, 1120,  544,\n",
       "        372, 1128, 1158, 1085, 1197, 1172,  634,  482,  986, 1154, 1002,\n",
       "       1115, 1131,  474,  406, 1008,  750,  625, 1102,  995,  525,  348,\n",
       "       1019, 1004,  720,  272,  384,  307,  329,  878,  917,  992,  936,\n",
       "        727,  277,  274,  807,  878,  903,  966,  962,  392,  319,  946,\n",
       "        975,  928,  935,  867,  354,  307,  651,  336,  360,  422,  425,\n",
       "        403,  318,  605,  505,  359,  767,  779,  356,  296,  915,  967,\n",
       "        967,  980,  983,  247,  351, 1015, 1027, 1100, 1097, 1014,  443,\n",
       "        397,  615, 1011, 1071, 1094, 1021,  444,  390,  959, 1026,  952,\n",
       "        946,  839,  383,  128,  962,  994,  862,  486,  466,   94,   81,\n",
       "        803,  939, 1015,  937,  958,  415,  415,  464, 1013, 1012,  974,\n",
       "        937,  466,  317, 1011, 1090,  392,  872,  538])"
      ]
     },
     "execution_count": 17,
     "metadata": {},
     "output_type": "execute_result"
    }
   ],
   "source": [
    "daily_counts = np.array(df.groupby('date')['trip_id'].count())\n",
    "daily_counts"
   ]
  },
  {
   "cell_type": "code",
   "execution_count": 18,
   "metadata": {},
   "outputs": [
    {
     "data": {
      "image/png": "[encoded data removed]",
      "text/plain": [
       "<Figure size 432x288 with 1 Axes>"
      ]
     },
     "metadata": {
      "needs_background": "light"
     },
     "output_type": "display_data"
    }
   ],
   "source": [
    "kde = gaussian_kde(daily_counts)\n",
    "_x = np.linspace(np.min(daily_counts), np.max(daily_counts))\n",
    "fig, ax = plt.subplots()\n",
    "ax.hist(daily_counts, density=True, bins=25, label=\"Data\")\n",
    "ax.plot(_x, kde(_x), c='k', label='Gaussian Kernel')\n",
    "ax.set_xlabel(\"Number of Rides\")\n",
    "ax.set_ylabel(\"Probability Density\")\n",
    "_ = ax.legend(loc='upper left')"
   ]
  },
  {
   "cell_type": "code",
   "execution_count": 19,
   "metadata": {},
   "outputs": [
    {
     "name": "stdout",
     "output_type": "stream",
     "text": [
      "95% confidence interval: 191 to 1261\n"
     ]
    }
   ],
   "source": [
    "def kde_confidence_intervals(kde, r_low, r_high):\n",
    "    p5, p95 = (r_low, 100), (r_high, 100)\n",
    "    for i in range(r_low, r_high):\n",
    "        cdf = kde.integrate_box_1d(0,i)\n",
    "        d5, d95 = np.abs(.025-cdf), np.abs(.975-cdf)\n",
    "        if d5<p5[1]:\n",
    "            p5 = (i, d5)\n",
    "        if d95<p95[1]:\n",
    "            p95 = (i, d95)\n",
    "    return p5[0], p95[0]\n",
    "        \n",
    "ce = kde_confidence_intervals(kde, 0, 1400)\n",
    "print(\"95% confidence interval: {} to {}\".format(ce[0], ce[1]))"
   ]
  },
  {
   "cell_type": "markdown",
   "metadata": {},
   "source": [
    "The presence of multiple peaks leads us to the conclusion that this is a multi-modal distribution.  We will segregate week end and week day ride counts"
   ]
  },
  {
   "cell_type": "code",
   "execution_count": 20,
   "metadata": {},
   "outputs": [
    {
     "data": {
      "image/png": "[encoded data removed]",
      "text/plain": [
       "<Figure size 576x576 with 1 Axes>"
      ]
     },
     "metadata": {
      "needs_background": "light"
     },
     "output_type": "display_data"
    }
   ],
   "source": [
    "weekday_counts = np.array(df[df.day_of_week<5].groupby('date')['trip_id'].count())\n",
    "weekend_counts = np.array(df[df.day_of_week>=5].groupby('date')['trip_id'].count())\n",
    "kde = gaussian_kde(weekday_counts)\n",
    "kde_we = gaussian_kde(weekend_counts)\n",
    "\n",
    "_x = np.linspace(np.min(daily_counts), np.max(daily_counts))\n",
    "\n",
    "\n",
    "fig, ax = plt.subplots(figsize=(8,8))\n",
    "ax.hist(weekday_counts, density=True, bins=25, edgecolor='darkred', label=\"Weekday Data\")\n",
    "ax.plot(_x, kde(_x), c='k', label='Gaussian Kernel, Weekday')\n",
    "ax.hist(weekend_counts, density=True, bins=25, color='darkgreen', alpha=.4, edgecolor='g', linewidth=2, label=\"Weekend Data\")\n",
    "ax.plot(_x, kde_we(_x), c='purple', label='Gaussian Kernel, Weekend')\n",
    "ax.set_xlabel(\"Number of Rides\")\n",
    "ax.set_ylabel(\"Probability Density\")\n",
    "_ = ax.legend(loc='best')"
   ]
  },
  {
   "cell_type": "code",
   "execution_count": 21,
   "metadata": {},
   "outputs": [
    {
     "name": "stdout",
     "output_type": "stream",
     "text": [
      "95% confidence interval for weekdays: 343 to 1246\n",
      "95% confidence interval for weekdays: 102 to 799\n"
     ]
    }
   ],
   "source": [
    "ce = kde_confidence_intervals(kde, 0, 1400)\n",
    "print(\"95% confidence interval for weekdays: {} to {}\".format(ce[0], ce[1]))\n",
    "\n",
    "ce_we = kde_confidence_intervals(kde_we, 0, 1400)\n",
    "print(\"95% confidence interval for weekdays: {} to {}\".format(ce_we[0], ce_we[1]))"
   ]
  },
  {
   "cell_type": "markdown",
   "metadata": {},
   "source": [
    "It's interesting to note, the weekday upper bound *decreases* due to the more precise KDE fit!\n",
    "\n",
    "## 5\n",
    "*Make a boxplot of the hours in the day (x) against the number of users (y) in that given hour.*"
   ]
  },
  {
   "cell_type": "code",
   "execution_count": 22,
   "metadata": {},
   "outputs": [
    {
     "data": {
      "image/png": "[encoded data removed]",
      "text/plain": [
       "<Figure size 936x360 with 1 Axes>"
      ]
     },
     "metadata": {
      "needs_background": "light"
     },
     "output_type": "display_data"
    }
   ],
   "source": [
    "fig, ax = plt.subplots(figsize=(13,5))\n",
    "df.groupby(['date', 'hour']).count()[['trip_id']].boxplot(by='hour', \n",
    "                                      figsize=(12,5), ax=ax)\n",
    "ax.set_xlabel(\"Hour\")\n",
    "ax.set_ylabel(\"Number of Rides\")\n",
    "ax.set_title(\"Ride Counts per Hour\")\n",
    "_ = fig.suptitle(None)"
   ]
  },
  {
   "cell_type": "markdown",
   "metadata": {},
   "source": [
    "## 6\n",
    "*Someone from the analytics team made a line plot (right) that he claims is showing the same information as your boxplot (left). What information can you gain from the boxplot that is missing in the line plot?*\n",
    "\n",
    "The scatter plot shown in no way communicates the uncertainty associated with hourly ride expectations.  In particular, hours 8 and 17 (the peak ours) are associated with a wide range of uncertainty.\n",
    "\n",
    "## 7"
   ]
  },
  {
   "cell_type": "code",
   "execution_count": 23,
   "metadata": {},
   "outputs": [
    {
     "data": {
      "image/png": "[encoded data removed]",
      "text/plain": [
       "<Figure size 936x720 with 2 Axes>"
      ]
     },
     "metadata": {
      "needs_background": "light"
     },
     "output_type": "display_data"
    }
   ],
   "source": [
    "fig, ax = plt.subplots(2,1, figsize=(13,10))\n",
    "df[df.day_of_week<5].groupby(['date', 'hour']).count()[['trip_id']].boxplot(by='hour', figsize=(12,5), ax=ax[0])\n",
    "ax[0].set_xlabel(\"Hour\")\n",
    "ax[0].set_ylabel(\"Number of Rides\")\n",
    "ax[0].set_title(\"Ride Counts per Hour, Weekdays\")\n",
    "\n",
    "df[df.day_of_week>=5].groupby(['date', 'hour']).count()[['trip_id']].boxplot(by='hour', figsize=(12,5), ax=ax[1])\n",
    "ax[1].set_xlabel(\"Hour\")\n",
    "ax[1].set_ylabel(\"Number of Rides\")\n",
    "ax[1].set_title(\"Ride Counts per Hour, Weekends\")\n",
    "_ = fig.suptitle(None)\n",
    "plt.tight_layout()"
   ]
  },
  {
   "cell_type": "markdown",
   "metadata": {},
   "source": [
    "We can see that the primary driver in the spread for high variance instances in the original plot are due to day of week fluctuations. The weekday plot shows the same general trend, but there is much less spread associated with peak hours.\n",
    "\n",
    "## 8 \n",
    "*There are two types of bike users (specified by column Subscription Type: Subscriber and Customer. Given this information and the weekend and weekday categorization, plot and inspect the user activity trends.*"
   ]
  },
  {
   "cell_type": "code",
   "execution_count": 24,
   "metadata": {},
   "outputs": [
    {
     "data": {
      "image/png": "[encoded data removed]",
      "text/plain": [
       "<Figure size 936x936 with 4 Axes>"
      ]
     },
     "metadata": {
      "needs_background": "light"
     },
     "output_type": "display_data"
    }
   ],
   "source": [
    "import matplotlib \n",
    "matplotlib.rc('xtick', labelsize=10) \n",
    "matplotlib.rc('ytick', labelsize=10)\n",
    "\n",
    "from itertools import product\n",
    "fig, ax = plt.subplots(2,2, figsize=(13,13), sharey=True)\n",
    "ax = ax.reshape(-1,)\n",
    "for i, types in enumerate(product(['Weekend', 'Weekday'], ['Subscriber', 'Customer'])):\n",
    "    if types[0]=='Weekday':\n",
    "        df[(df.day_of_week<5) & (df['subscription_type']==types[1])].groupby(['date', 'hour']).count()[['trip_id']].boxplot(by='hour', figsize=(12,5), ax=ax[i])\n",
    "    else:\n",
    "        df[(df.day_of_week>=5) & (df['subscription_type']==types[1])].groupby(['date', 'hour']).count()[['trip_id']].boxplot(by='hour', figsize=(12,5), ax=ax[i])\n",
    "        \n",
    "    ax[i].set_xlabel(\"Hour\")\n",
    "    ax[i].set_ylabel(\"Number of Rides\")\n",
    "    ax[i].set_title(\"Hourly Ride Counts of {}s, {}\".format(types[1], types[0]), fontsize=14)\n",
    "_ = fig.suptitle(\"Segregated Hourly Ride Counts\", fontsize=14)"
   ]
  },
  {
   "cell_type": "markdown",
   "metadata": {},
   "source": [
    "*Suppose the product team wants to run a promotional campaign, what are your suggestions in terms of who the promotion should apply to and when it should apply for the campaign to be effective?*\n",
    "\n",
    "**Note**, without having a great sense of what the charge scheme for customers/subscribers are, it's a bit challenging to say.  If you make assumptions, you should justify them explicitly.\n",
    "\n",
    "It seems that our service is not nearly as popular on the weekends as it is during the weekdays, particularly amongst subscribers.  We could make better use of our existing assets by attracking more non-recurring customers on the weekends.  On the same note, we have a spike in demand during rush hour.  We could consider discounts to subscribers who restrict their bike use during these times to combat scarcity.\n"
   ]
  },
  {
   "cell_type": "code",
   "execution_count": 25,
   "metadata": {},
   "outputs": [
    {
     "name": "stdout",
     "output_type": "stream",
     "text": [
      "P-value of distributional indpendence for weekend rides between customers and subscribers: 5.83e-95\n"
     ]
    }
   ],
   "source": [
    "from scipy.stats import chi2_contingency\n",
    "\n",
    "customer = df[(df.day_of_week>=5) & (df['subscription_type']=='Customer')].groupby(['hour']).count()['trip_id'].values\n",
    "subscriber = df[(df.day_of_week>=5) & (df['subscription_type']=='Subscriber')].groupby(['hour']).count()['trip_id'].values\n",
    "chi2, p, dof, exp = chi2_contingency(np.concatenate((customer.reshape(1,-1), subscriber.reshape(1,-1))))\n",
    "\n",
    "print(\"P-value of distributional indpendence for weekend rides between customers and subscribers: {0:0.2e}\".format(p))"
   ]
  },
  {
   "cell_type": "markdown",
   "metadata": {},
   "source": [
    "\n",
    "## 10\n",
    "*Extra Credit: You are also interested in identifying stations with low usage. Load the csv file data/201402_station_data.csv into a dataframe. The docksize column specifies how many bikes the station can hold. The lat and long columns specify the latitude and longitude of the station.*\n",
    "\n",
    "1.) Merge the station data with the trip data\n",
    "\n",
    "2.) Compute usage by counting the total trips starting at a particular station divided by the dockcount\n",
    "\n",
    "3.) Normalize usage to range from 0to 1\n",
    "\n",
    "4.) Plot the latitude and longitude of the stations as scatter points. Encode usage information in the size of the points in the scatterplot."
   ]
  },
  {
   "cell_type": "code",
   "execution_count": 26,
   "metadata": {},
   "outputs": [
    {
     "data": {
      "text/html": [
       "<div>\n",
       "<style scoped>\n",
       "    .dataframe tbody tr th:only-of-type {\n",
       "        vertical-align: middle;\n",
       "    }\n",
       "\n",
       "    .dataframe tbody tr th {\n",
       "        vertical-align: top;\n",
       "    }\n",
       "\n",
       "    .dataframe thead th {\n",
       "        text-align: right;\n",
       "    }\n",
       "</style>\n",
       "<table border=\"1\" class=\"dataframe\">\n",
       "  <thead>\n",
       "    <tr style=\"text-align: right;\">\n",
       "      <th></th>\n",
       "      <th>station_id</th>\n",
       "      <th>name</th>\n",
       "      <th>lat</th>\n",
       "      <th>long</th>\n",
       "      <th>dockcount</th>\n",
       "      <th>landmark</th>\n",
       "      <th>installation</th>\n",
       "    </tr>\n",
       "  </thead>\n",
       "  <tbody>\n",
       "    <tr>\n",
       "      <th>0</th>\n",
       "      <td>2</td>\n",
       "      <td>San Jose Diridon Caltrain Station</td>\n",
       "      <td>37.329732</td>\n",
       "      <td>-121.901782</td>\n",
       "      <td>27</td>\n",
       "      <td>San Jose</td>\n",
       "      <td>8/6/2013</td>\n",
       "    </tr>\n",
       "    <tr>\n",
       "      <th>1</th>\n",
       "      <td>3</td>\n",
       "      <td>San Jose Civic Center</td>\n",
       "      <td>37.330698</td>\n",
       "      <td>-121.888979</td>\n",
       "      <td>15</td>\n",
       "      <td>San Jose</td>\n",
       "      <td>8/5/2013</td>\n",
       "    </tr>\n",
       "    <tr>\n",
       "      <th>2</th>\n",
       "      <td>4</td>\n",
       "      <td>Santa Clara at Almaden</td>\n",
       "      <td>37.333988</td>\n",
       "      <td>-121.894902</td>\n",
       "      <td>11</td>\n",
       "      <td>San Jose</td>\n",
       "      <td>8/6/2013</td>\n",
       "    </tr>\n",
       "    <tr>\n",
       "      <th>3</th>\n",
       "      <td>5</td>\n",
       "      <td>Adobe on Almaden</td>\n",
       "      <td>37.331415</td>\n",
       "      <td>-121.893200</td>\n",
       "      <td>19</td>\n",
       "      <td>San Jose</td>\n",
       "      <td>8/5/2013</td>\n",
       "    </tr>\n",
       "    <tr>\n",
       "      <th>4</th>\n",
       "      <td>6</td>\n",
       "      <td>San Pedro Square</td>\n",
       "      <td>37.336721</td>\n",
       "      <td>-121.894074</td>\n",
       "      <td>15</td>\n",
       "      <td>San Jose</td>\n",
       "      <td>8/7/2013</td>\n",
       "    </tr>\n",
       "  </tbody>\n",
       "</table>\n",
       "</div>"
      ],
      "text/plain": [
       "   station_id                               name        lat        long  \\\n",
       "0           2  San Jose Diridon Caltrain Station  37.329732 -121.901782   \n",
       "1           3              San Jose Civic Center  37.330698 -121.888979   \n",
       "2           4             Santa Clara at Almaden  37.333988 -121.894902   \n",
       "3           5                   Adobe on Almaden  37.331415 -121.893200   \n",
       "4           6                   San Pedro Square  37.336721 -121.894074   \n",
       "\n",
       "   dockcount  landmark installation  \n",
       "0         27  San Jose     8/6/2013  \n",
       "1         15  San Jose     8/5/2013  \n",
       "2         11  San Jose     8/6/2013  \n",
       "3         19  San Jose     8/5/2013  \n",
       "4         15  San Jose     8/7/2013  "
      ]
     },
     "execution_count": 26,
     "metadata": {},
     "output_type": "execute_result"
    }
   ],
   "source": [
    "df_station = pd.read_csv(\"../data/201402_station_data.csv\")\n",
    "df_station.head()"
   ]
  },
  {
   "cell_type": "markdown",
   "metadata": {},
   "source": [
    "## 1.)"
   ]
  },
  {
   "cell_type": "code",
   "execution_count": 27,
   "metadata": {},
   "outputs": [
    {
     "data": {
      "text/html": [
       "<div>\n",
       "<style scoped>\n",
       "    .dataframe tbody tr th:only-of-type {\n",
       "        vertical-align: middle;\n",
       "    }\n",
       "\n",
       "    .dataframe tbody tr th {\n",
       "        vertical-align: top;\n",
       "    }\n",
       "\n",
       "    .dataframe thead th {\n",
       "        text-align: right;\n",
       "    }\n",
       "</style>\n",
       "<table border=\"1\" class=\"dataframe\">\n",
       "  <thead>\n",
       "    <tr style=\"text-align: right;\">\n",
       "      <th></th>\n",
       "      <th>trip_id</th>\n",
       "      <th>duration</th>\n",
       "      <th>start_date</th>\n",
       "      <th>start_station</th>\n",
       "      <th>start_terminal</th>\n",
       "      <th>end_date</th>\n",
       "      <th>end_station</th>\n",
       "      <th>end_terminal</th>\n",
       "      <th>bike_#</th>\n",
       "      <th>subscription_type</th>\n",
       "      <th>...</th>\n",
       "      <th>dockcount_start</th>\n",
       "      <th>landmark_start</th>\n",
       "      <th>installation_start</th>\n",
       "      <th>station_id_stop</th>\n",
       "      <th>name_stop</th>\n",
       "      <th>lat_stop</th>\n",
       "      <th>long_stop</th>\n",
       "      <th>dockcount_stop</th>\n",
       "      <th>landmark_stop</th>\n",
       "      <th>installation_stop</th>\n",
       "    </tr>\n",
       "  </thead>\n",
       "  <tbody>\n",
       "    <tr>\n",
       "      <th>0</th>\n",
       "      <td>4576</td>\n",
       "      <td>63</td>\n",
       "      <td>2013-08-29 14:13:00</td>\n",
       "      <td>South Van Ness at Market</td>\n",
       "      <td>66</td>\n",
       "      <td>2013-08-29 14:14:00</td>\n",
       "      <td>South Van Ness at Market</td>\n",
       "      <td>66</td>\n",
       "      <td>520</td>\n",
       "      <td>Subscriber</td>\n",
       "      <td>...</td>\n",
       "      <td>19</td>\n",
       "      <td>San Francisco</td>\n",
       "      <td>8/23/2013</td>\n",
       "      <td>66</td>\n",
       "      <td>South Van Ness at Market</td>\n",
       "      <td>37.774814</td>\n",
       "      <td>-122.418954</td>\n",
       "      <td>19</td>\n",
       "      <td>San Francisco</td>\n",
       "      <td>8/23/2013</td>\n",
       "    </tr>\n",
       "    <tr>\n",
       "      <th>1</th>\n",
       "      <td>4760</td>\n",
       "      <td>113</td>\n",
       "      <td>2013-08-29 17:01:00</td>\n",
       "      <td>South Van Ness at Market</td>\n",
       "      <td>66</td>\n",
       "      <td>2013-08-29 17:03:00</td>\n",
       "      <td>South Van Ness at Market</td>\n",
       "      <td>66</td>\n",
       "      <td>553</td>\n",
       "      <td>Subscriber</td>\n",
       "      <td>...</td>\n",
       "      <td>19</td>\n",
       "      <td>San Francisco</td>\n",
       "      <td>8/23/2013</td>\n",
       "      <td>66</td>\n",
       "      <td>South Van Ness at Market</td>\n",
       "      <td>37.774814</td>\n",
       "      <td>-122.418954</td>\n",
       "      <td>19</td>\n",
       "      <td>San Francisco</td>\n",
       "      <td>8/23/2013</td>\n",
       "    </tr>\n",
       "    <tr>\n",
       "      <th>2</th>\n",
       "      <td>5070</td>\n",
       "      <td>168</td>\n",
       "      <td>2013-08-29 21:43:00</td>\n",
       "      <td>South Van Ness at Market</td>\n",
       "      <td>66</td>\n",
       "      <td>2013-08-29 21:46:00</td>\n",
       "      <td>South Van Ness at Market</td>\n",
       "      <td>66</td>\n",
       "      <td>598</td>\n",
       "      <td>Subscriber</td>\n",
       "      <td>...</td>\n",
       "      <td>19</td>\n",
       "      <td>San Francisco</td>\n",
       "      <td>8/23/2013</td>\n",
       "      <td>66</td>\n",
       "      <td>South Van Ness at Market</td>\n",
       "      <td>37.774814</td>\n",
       "      <td>-122.418954</td>\n",
       "      <td>19</td>\n",
       "      <td>San Francisco</td>\n",
       "      <td>8/23/2013</td>\n",
       "    </tr>\n",
       "    <tr>\n",
       "      <th>3</th>\n",
       "      <td>4584</td>\n",
       "      <td>262</td>\n",
       "      <td>2013-08-29 14:17:00</td>\n",
       "      <td>South Van Ness at Market</td>\n",
       "      <td>66</td>\n",
       "      <td>2013-08-29 14:21:00</td>\n",
       "      <td>South Van Ness at Market</td>\n",
       "      <td>66</td>\n",
       "      <td>587</td>\n",
       "      <td>Subscriber</td>\n",
       "      <td>...</td>\n",
       "      <td>19</td>\n",
       "      <td>San Francisco</td>\n",
       "      <td>8/23/2013</td>\n",
       "      <td>66</td>\n",
       "      <td>South Van Ness at Market</td>\n",
       "      <td>37.774814</td>\n",
       "      <td>-122.418954</td>\n",
       "      <td>19</td>\n",
       "      <td>San Francisco</td>\n",
       "      <td>8/23/2013</td>\n",
       "    </tr>\n",
       "    <tr>\n",
       "      <th>4</th>\n",
       "      <td>4079</td>\n",
       "      <td>995</td>\n",
       "      <td>2013-08-29 09:35:00</td>\n",
       "      <td>South Van Ness at Market</td>\n",
       "      <td>66</td>\n",
       "      <td>2013-08-29 09:52:00</td>\n",
       "      <td>South Van Ness at Market</td>\n",
       "      <td>66</td>\n",
       "      <td>327</td>\n",
       "      <td>Subscriber</td>\n",
       "      <td>...</td>\n",
       "      <td>19</td>\n",
       "      <td>San Francisco</td>\n",
       "      <td>8/23/2013</td>\n",
       "      <td>66</td>\n",
       "      <td>South Van Ness at Market</td>\n",
       "      <td>37.774814</td>\n",
       "      <td>-122.418954</td>\n",
       "      <td>19</td>\n",
       "      <td>San Francisco</td>\n",
       "      <td>8/23/2013</td>\n",
       "    </tr>\n",
       "  </tbody>\n",
       "</table>\n",
       "<p>5 rows × 30 columns</p>\n",
       "</div>"
      ],
      "text/plain": [
       "   trip_id  duration          start_date             start_station  \\\n",
       "0     4576        63 2013-08-29 14:13:00  South Van Ness at Market   \n",
       "1     4760       113 2013-08-29 17:01:00  South Van Ness at Market   \n",
       "2     5070       168 2013-08-29 21:43:00  South Van Ness at Market   \n",
       "3     4584       262 2013-08-29 14:17:00  South Van Ness at Market   \n",
       "4     4079       995 2013-08-29 09:35:00  South Van Ness at Market   \n",
       "\n",
       "   start_terminal            end_date               end_station  end_terminal  \\\n",
       "0              66 2013-08-29 14:14:00  South Van Ness at Market            66   \n",
       "1              66 2013-08-29 17:03:00  South Van Ness at Market            66   \n",
       "2              66 2013-08-29 21:46:00  South Van Ness at Market            66   \n",
       "3              66 2013-08-29 14:21:00  South Van Ness at Market            66   \n",
       "4              66 2013-08-29 09:52:00  South Van Ness at Market            66   \n",
       "\n",
       "   bike_# subscription_type  ... dockcount_start  landmark_start  \\\n",
       "0     520        Subscriber  ...              19   San Francisco   \n",
       "1     553        Subscriber  ...              19   San Francisco   \n",
       "2     598        Subscriber  ...              19   San Francisco   \n",
       "3     587        Subscriber  ...              19   San Francisco   \n",
       "4     327        Subscriber  ...              19   San Francisco   \n",
       "\n",
       "   installation_start  station_id_stop                 name_stop   lat_stop  \\\n",
       "0           8/23/2013               66  South Van Ness at Market  37.774814   \n",
       "1           8/23/2013               66  South Van Ness at Market  37.774814   \n",
       "2           8/23/2013               66  South Van Ness at Market  37.774814   \n",
       "3           8/23/2013               66  South Van Ness at Market  37.774814   \n",
       "4           8/23/2013               66  South Van Ness at Market  37.774814   \n",
       "\n",
       "    long_stop dockcount_stop  landmark_stop  installation_stop  \n",
       "0 -122.418954             19  San Francisco          8/23/2013  \n",
       "1 -122.418954             19  San Francisco          8/23/2013  \n",
       "2 -122.418954             19  San Francisco          8/23/2013  \n",
       "3 -122.418954             19  San Francisco          8/23/2013  \n",
       "4 -122.418954             19  San Francisco          8/23/2013  \n",
       "\n",
       "[5 rows x 30 columns]"
      ]
     },
     "execution_count": 27,
     "metadata": {},
     "output_type": "execute_result"
    }
   ],
   "source": [
    "df_both = df.merge(df_station, left_on='start_terminal', right_on='station_id')\n",
    "df_both = df_both.merge(df_station, left_on='end_terminal', right_on='station_id', suffixes=(\"_start\", \"_stop\"))\n",
    "df_both.head()"
   ]
  },
  {
   "cell_type": "markdown",
   "metadata": {},
   "source": [
    "## 2.) & 3.)"
   ]
  },
  {
   "cell_type": "code",
   "execution_count": 28,
   "metadata": {},
   "outputs": [
    {
     "data": {
      "text/html": [
       "<div>\n",
       "<style scoped>\n",
       "    .dataframe tbody tr th:only-of-type {\n",
       "        vertical-align: middle;\n",
       "    }\n",
       "\n",
       "    .dataframe tbody tr th {\n",
       "        vertical-align: top;\n",
       "    }\n",
       "\n",
       "    .dataframe thead th {\n",
       "        text-align: right;\n",
       "    }\n",
       "</style>\n",
       "<table border=\"1\" class=\"dataframe\">\n",
       "  <thead>\n",
       "    <tr style=\"text-align: right;\">\n",
       "      <th></th>\n",
       "      <th>trip_id</th>\n",
       "      <th>duration</th>\n",
       "      <th>start_date</th>\n",
       "      <th>start_station</th>\n",
       "      <th>end_date</th>\n",
       "      <th>end_station</th>\n",
       "      <th>end_terminal</th>\n",
       "      <th>bike_#</th>\n",
       "      <th>subscription_type</th>\n",
       "      <th>zip_code</th>\n",
       "      <th>...</th>\n",
       "      <th>date</th>\n",
       "      <th>station_id</th>\n",
       "      <th>name</th>\n",
       "      <th>lat</th>\n",
       "      <th>long</th>\n",
       "      <th>dockcount</th>\n",
       "      <th>landmark</th>\n",
       "      <th>installation</th>\n",
       "      <th>usage</th>\n",
       "      <th>normed_usage</th>\n",
       "    </tr>\n",
       "  </thead>\n",
       "  <tbody>\n",
       "    <tr>\n",
       "      <th>0</th>\n",
       "      <td>1972</td>\n",
       "      <td>1972</td>\n",
       "      <td>1972</td>\n",
       "      <td>1972</td>\n",
       "      <td>1972</td>\n",
       "      <td>1972</td>\n",
       "      <td>1972</td>\n",
       "      <td>1972</td>\n",
       "      <td>1972</td>\n",
       "      <td>1940</td>\n",
       "      <td>...</td>\n",
       "      <td>1972</td>\n",
       "      <td>2</td>\n",
       "      <td>San Jose Diridon Caltrain Station</td>\n",
       "      <td>37.329732</td>\n",
       "      <td>-121.901782</td>\n",
       "      <td>27</td>\n",
       "      <td>San Jose</td>\n",
       "      <td>8/6/2013</td>\n",
       "      <td>73.037037</td>\n",
       "      <td>0.140724</td>\n",
       "    </tr>\n",
       "    <tr>\n",
       "      <th>1</th>\n",
       "      <td>346</td>\n",
       "      <td>346</td>\n",
       "      <td>346</td>\n",
       "      <td>346</td>\n",
       "      <td>346</td>\n",
       "      <td>346</td>\n",
       "      <td>346</td>\n",
       "      <td>346</td>\n",
       "      <td>346</td>\n",
       "      <td>302</td>\n",
       "      <td>...</td>\n",
       "      <td>346</td>\n",
       "      <td>3</td>\n",
       "      <td>San Jose Civic Center</td>\n",
       "      <td>37.330698</td>\n",
       "      <td>-121.888979</td>\n",
       "      <td>15</td>\n",
       "      <td>San Jose</td>\n",
       "      <td>8/5/2013</td>\n",
       "      <td>23.066667</td>\n",
       "      <td>0.044179</td>\n",
       "    </tr>\n",
       "    <tr>\n",
       "      <th>2</th>\n",
       "      <td>855</td>\n",
       "      <td>855</td>\n",
       "      <td>855</td>\n",
       "      <td>855</td>\n",
       "      <td>855</td>\n",
       "      <td>855</td>\n",
       "      <td>855</td>\n",
       "      <td>855</td>\n",
       "      <td>855</td>\n",
       "      <td>833</td>\n",
       "      <td>...</td>\n",
       "      <td>855</td>\n",
       "      <td>4</td>\n",
       "      <td>Santa Clara at Almaden</td>\n",
       "      <td>37.333988</td>\n",
       "      <td>-121.894902</td>\n",
       "      <td>11</td>\n",
       "      <td>San Jose</td>\n",
       "      <td>8/6/2013</td>\n",
       "      <td>77.727273</td>\n",
       "      <td>0.149785</td>\n",
       "    </tr>\n",
       "    <tr>\n",
       "      <th>3</th>\n",
       "      <td>335</td>\n",
       "      <td>335</td>\n",
       "      <td>335</td>\n",
       "      <td>335</td>\n",
       "      <td>335</td>\n",
       "      <td>335</td>\n",
       "      <td>335</td>\n",
       "      <td>335</td>\n",
       "      <td>335</td>\n",
       "      <td>327</td>\n",
       "      <td>...</td>\n",
       "      <td>335</td>\n",
       "      <td>5</td>\n",
       "      <td>Adobe on Almaden</td>\n",
       "      <td>37.331415</td>\n",
       "      <td>-121.893200</td>\n",
       "      <td>19</td>\n",
       "      <td>San Jose</td>\n",
       "      <td>8/5/2013</td>\n",
       "      <td>17.631579</td>\n",
       "      <td>0.033678</td>\n",
       "    </tr>\n",
       "    <tr>\n",
       "      <th>4</th>\n",
       "      <td>715</td>\n",
       "      <td>715</td>\n",
       "      <td>715</td>\n",
       "      <td>715</td>\n",
       "      <td>715</td>\n",
       "      <td>715</td>\n",
       "      <td>715</td>\n",
       "      <td>715</td>\n",
       "      <td>715</td>\n",
       "      <td>694</td>\n",
       "      <td>...</td>\n",
       "      <td>715</td>\n",
       "      <td>6</td>\n",
       "      <td>San Pedro Square</td>\n",
       "      <td>37.336721</td>\n",
       "      <td>-121.894074</td>\n",
       "      <td>15</td>\n",
       "      <td>San Jose</td>\n",
       "      <td>8/7/2013</td>\n",
       "      <td>47.666667</td>\n",
       "      <td>0.091707</td>\n",
       "    </tr>\n",
       "  </tbody>\n",
       "</table>\n",
       "<p>5 rows × 24 columns</p>\n",
       "</div>"
      ],
      "text/plain": [
       "   trip_id  duration  start_date  start_station  end_date  end_station  \\\n",
       "0     1972      1972        1972           1972      1972         1972   \n",
       "1      346       346         346            346       346          346   \n",
       "2      855       855         855            855       855          855   \n",
       "3      335       335         335            335       335          335   \n",
       "4      715       715         715            715       715          715   \n",
       "\n",
       "   end_terminal  bike_#  subscription_type  zip_code  ...  date  station_id  \\\n",
       "0          1972    1972               1972      1940  ...  1972           2   \n",
       "1           346     346                346       302  ...   346           3   \n",
       "2           855     855                855       833  ...   855           4   \n",
       "3           335     335                335       327  ...   335           5   \n",
       "4           715     715                715       694  ...   715           6   \n",
       "\n",
       "                                name        lat        long  dockcount  \\\n",
       "0  San Jose Diridon Caltrain Station  37.329732 -121.901782         27   \n",
       "1              San Jose Civic Center  37.330698 -121.888979         15   \n",
       "2             Santa Clara at Almaden  37.333988 -121.894902         11   \n",
       "3                   Adobe on Almaden  37.331415 -121.893200         19   \n",
       "4                   San Pedro Square  37.336721 -121.894074         15   \n",
       "\n",
       "   landmark  installation      usage  normed_usage  \n",
       "0  San Jose      8/6/2013  73.037037      0.140724  \n",
       "1  San Jose      8/5/2013  23.066667      0.044179  \n",
       "2  San Jose      8/6/2013  77.727273      0.149785  \n",
       "3  San Jose      8/5/2013  17.631579      0.033678  \n",
       "4  San Jose      8/7/2013  47.666667      0.091707  \n",
       "\n",
       "[5 rows x 24 columns]"
      ]
     },
     "execution_count": 28,
     "metadata": {},
     "output_type": "execute_result"
    }
   ],
   "source": [
    "df_group_merged = df.groupby('start_terminal').count().merge(df_station, left_on='start_terminal', right_on='station_id')\n",
    "df_group_merged['usage'] = df_group_merged['trip_id']/df_group_merged['dockcount']\n",
    "u_min, u_max = np.min(df_group_merged['usage']), np.max(df_group_merged['usage'])\n",
    "df_group_merged['normed_usage'] = (df_group_merged['usage'] - u_min)/(u_max-u_min)\n",
    "df_group_merged.head()"
   ]
  },
  {
   "cell_type": "markdown",
   "metadata": {},
   "source": [
    "## 4.)"
   ]
  },
  {
   "cell_type": "code",
   "execution_count": 29,
   "metadata": {},
   "outputs": [
    {
     "data": {
      "image/png": "[encoded data removed]",
      "text/plain": [
       "<Figure size 432x288 with 1 Axes>"
      ]
     },
     "metadata": {
      "needs_background": "light"
     },
     "output_type": "display_data"
    }
   ],
   "source": [
    "fig, ax = plt.subplots()\n",
    "ax.scatter(df_group_merged['lat'], df_group_merged['long'], \n",
    "           s=50*df_group_merged['normed_usage'], alpha=0.3)\n",
    "ax.set_xlabel('Latitude')\n",
    "ax.set_ylabel('Longitude');"
   ]
  },
  {
   "cell_type": "markdown",
   "metadata": {},
   "source": [
    "# Part 2\n",
    "## 1.)\n",
    "*We will be using the prestige dataset. Load the data with the following code. Remember to add a column of 1's to the x matrix for the model to fit an intercept.*"
   ]
  },
  {
   "cell_type": "code",
   "execution_count": 30,
   "metadata": {},
   "outputs": [
    {
     "data": {
      "text/html": [
       "<div>\n",
       "<style scoped>\n",
       "    .dataframe tbody tr th:only-of-type {\n",
       "        vertical-align: middle;\n",
       "    }\n",
       "\n",
       "    .dataframe tbody tr th {\n",
       "        vertical-align: top;\n",
       "    }\n",
       "\n",
       "    .dataframe thead th {\n",
       "        text-align: right;\n",
       "    }\n",
       "</style>\n",
       "<table border=\"1\" class=\"dataframe\">\n",
       "  <thead>\n",
       "    <tr style=\"text-align: right;\">\n",
       "      <th></th>\n",
       "      <th>Unnamed: 0</th>\n",
       "      <th>type</th>\n",
       "      <th>income</th>\n",
       "      <th>education</th>\n",
       "      <th>prestige</th>\n",
       "    </tr>\n",
       "  </thead>\n",
       "  <tbody>\n",
       "    <tr>\n",
       "      <th>0</th>\n",
       "      <td>accountant</td>\n",
       "      <td>prof</td>\n",
       "      <td>62</td>\n",
       "      <td>86</td>\n",
       "      <td>82</td>\n",
       "    </tr>\n",
       "    <tr>\n",
       "      <th>1</th>\n",
       "      <td>pilot</td>\n",
       "      <td>prof</td>\n",
       "      <td>72</td>\n",
       "      <td>76</td>\n",
       "      <td>83</td>\n",
       "    </tr>\n",
       "    <tr>\n",
       "      <th>2</th>\n",
       "      <td>architect</td>\n",
       "      <td>prof</td>\n",
       "      <td>75</td>\n",
       "      <td>92</td>\n",
       "      <td>90</td>\n",
       "    </tr>\n",
       "    <tr>\n",
       "      <th>3</th>\n",
       "      <td>author</td>\n",
       "      <td>prof</td>\n",
       "      <td>55</td>\n",
       "      <td>90</td>\n",
       "      <td>76</td>\n",
       "    </tr>\n",
       "    <tr>\n",
       "      <th>4</th>\n",
       "      <td>chemist</td>\n",
       "      <td>prof</td>\n",
       "      <td>64</td>\n",
       "      <td>86</td>\n",
       "      <td>90</td>\n",
       "    </tr>\n",
       "  </tbody>\n",
       "</table>\n",
       "</div>"
      ],
      "text/plain": [
       "   Unnamed: 0  type  income  education  prestige\n",
       "0  accountant  prof      62         86        82\n",
       "1       pilot  prof      72         76        83\n",
       "2   architect  prof      75         92        90\n",
       "3      author  prof      55         90        76\n",
       "4     chemist  prof      64         86        90"
      ]
     },
     "execution_count": 30,
     "metadata": {},
     "output_type": "execute_result"
    }
   ],
   "source": [
    "import statsmodels.api as sm\n",
    "plt.style.use('ggplot')\n",
    "\n",
    "url = 'https://raw.githubusercontent.com/vincentarelbundock/Rdatasets/master/csv/carData/Duncan.csv'\n",
    "prestige = pd.read_csv(url)\n",
    "prestige.head()"
   ]
  },
  {
   "cell_type": "code",
   "execution_count": 31,
   "metadata": {},
   "outputs": [],
   "source": [
    "y = prestige['prestige'].values\n",
    "x = sm.add_constant(prestige[['income', 'education']].values)"
   ]
  },
  {
   "cell_type": "code",
   "execution_count": 32,
   "metadata": {},
   "outputs": [
    {
     "data": {
      "text/plain": [
       "array([[  1.,  62.,  86.],\n",
       "       [  1.,  72.,  76.],\n",
       "       [  1.,  75.,  92.],\n",
       "       [  1.,  55.,  90.],\n",
       "       [  1.,  64.,  86.],\n",
       "       [  1.,  21.,  84.],\n",
       "       [  1.,  64.,  93.],\n",
       "       [  1.,  80., 100.],\n",
       "       [  1.,  67.,  87.],\n",
       "       [  1.,  72.,  86.],\n",
       "       [  1.,  42.,  74.],\n",
       "       [  1.,  76.,  98.],\n",
       "       [  1.,  76.,  97.],\n",
       "       [  1.,  41.,  84.],\n",
       "       [  1.,  48.,  91.],\n",
       "       [  1.,  76.,  34.],\n",
       "       [  1.,  53.,  45.],\n",
       "       [  1.,  60.,  56.],\n",
       "       [  1.,  42.,  44.],\n",
       "       [  1.,  78.,  82.],\n",
       "       [  1.,  29.,  72.],\n",
       "       [  1.,  48.,  55.],\n",
       "       [  1.,  55.,  71.],\n",
       "       [  1.,  29.,  50.],\n",
       "       [  1.,  21.,  23.],\n",
       "       [  1.,  47.,  39.],\n",
       "       [  1.,  81.,  28.],\n",
       "       [  1.,  36.,  32.],\n",
       "       [  1.,  22.,  22.],\n",
       "       [  1.,  44.,  25.],\n",
       "       [  1.,  15.,  29.],\n",
       "       [  1.,   7.,   7.],\n",
       "       [  1.,  42.,  26.],\n",
       "       [  1.,   9.,  19.],\n",
       "       [  1.,  21.,  15.],\n",
       "       [  1.,  21.,  20.],\n",
       "       [  1.,  16.,  26.],\n",
       "       [  1.,  16.,  28.],\n",
       "       [  1.,   9.,  17.],\n",
       "       [  1.,  14.,  22.],\n",
       "       [  1.,  12.,  30.],\n",
       "       [  1.,  17.,  25.],\n",
       "       [  1.,   7.,  20.],\n",
       "       [  1.,  34.,  47.],\n",
       "       [  1.,   8.,  32.]])"
      ]
     },
     "execution_count": 32,
     "metadata": {},
     "output_type": "execute_result"
    }
   ],
   "source": [
    "x"
   ]
  },
  {
   "cell_type": "code",
   "execution_count": 33,
   "metadata": {},
   "outputs": [
    {
     "data": {
      "text/plain": [
       "array([82, 83, 90, 76, 90, 87, 93, 90, 52, 88, 57, 89, 97, 59, 73, 38, 76,\n",
       "       81, 45, 92, 39, 34, 41, 16, 33, 53, 67, 57, 26, 29, 10, 15, 19, 10,\n",
       "       13, 24, 20,  7,  3, 16,  6, 11,  8, 41, 10])"
      ]
     },
     "execution_count": 33,
     "metadata": {},
     "output_type": "execute_result"
    }
   ],
   "source": [
    "y"
   ]
  },
  {
   "cell_type": "code",
   "execution_count": 34,
   "metadata": {},
   "outputs": [
    {
     "data": {
      "text/plain": [
       "pandas.core.frame.DataFrame"
      ]
     },
     "execution_count": 34,
     "metadata": {},
     "output_type": "execute_result"
    }
   ],
   "source": [
    "type(prestige)"
   ]
  },
  {
   "cell_type": "markdown",
   "metadata": {},
   "source": [
    "## 2.)\n",
    "*Make a scatter matrix and a boxplot*"
   ]
  },
  {
   "cell_type": "code",
   "execution_count": 35,
   "metadata": {},
   "outputs": [
    {
     "data": {
      "image/png": "[encoded data removed]",
      "text/plain": [
       "<Figure size 720x720 with 9 Axes>"
      ]
     },
     "metadata": {},
     "output_type": "display_data"
    }
   ],
   "source": [
    "from pandas.plotting import scatter_matrix\n",
    "\n",
    "_ = scatter_matrix(prestige, figsize=(10,10), alpha=0.5, s=100)"
   ]
  },
  {
   "cell_type": "code",
   "execution_count": 36,
   "metadata": {},
   "outputs": [
    {
     "data": {
      "image/png": "[encoded data removed]",
      "text/plain": [
       "<Figure size 576x576 with 1 Axes>"
      ]
     },
     "metadata": {},
     "output_type": "display_data"
    }
   ],
   "source": [
    "fig, ax = plt.subplots(figsize=(8,8))\n",
    "prestige.boxplot(ax=ax, notch=True)\n",
    "ax.set_title(\"Variable Distribution by Type\");"
   ]
  },
  {
   "cell_type": "markdown",
   "metadata": {},
   "source": [
    "## 3\n",
    "*Using numpy, write a function that solves the normal equation.*"
   ]
  },
  {
   "cell_type": "code",
   "execution_count": 37,
   "metadata": {},
   "outputs": [
    {
     "data": {
      "text/plain": [
       "0.8281734172543814"
      ]
     },
     "execution_count": 37,
     "metadata": {},
     "output_type": "execute_result"
    }
   ],
   "source": [
    "def solve_normal(X, y):\n",
    "    return np.linalg.inv(X.T.dot(X)).dot(X.T).dot(y)\n",
    "\n",
    "def R_squared(X, y, beta):\n",
    "    y_hat = np.mean(y)\n",
    "    ss_tot = np.sum(np.power(y-y_hat, 2))\n",
    "    ss_res = np.sum(np.power(x.dot(beta)-y, 2))\n",
    "    return 1- ss_res/ss_tot\n",
    "\n",
    "beta = solve_normal(x, y)\n",
    "R_squared(x, y, beta)"
   ]
  },
  {
   "cell_type": "markdown",
   "metadata": {},
   "source": [
    "## 4\n",
    "*Verify your results using statsmodels. Use the code below as a reference.*"
   ]
  },
  {
   "cell_type": "code",
   "execution_count": 38,
   "metadata": {},
   "outputs": [
    {
     "data": {
      "text/html": [
       "<table class=\"simpletable\">\n",
       "<caption>OLS Regression Results</caption>\n",
       "<tr>\n",
       "  <th>Dep. Variable:</th>            <td>y</td>        <th>  R-squared:         </th> <td>   0.828</td>\n",
       "</tr>\n",
       "<tr>\n",
       "  <th>Model:</th>                   <td>OLS</td>       <th>  Adj. R-squared:    </th> <td>   0.820</td>\n",
       "</tr>\n",
       "<tr>\n",
       "  <th>Method:</th>             <td>Least Squares</td>  <th>  F-statistic:       </th> <td>   101.2</td>\n",
       "</tr>\n",
       "<tr>\n",
       "  <th>Date:</th>             <td>Mon, 16 Sep 2019</td> <th>  Prob (F-statistic):</th> <td>8.65e-17</td>\n",
       "</tr>\n",
       "<tr>\n",
       "  <th>Time:</th>                 <td>21:55:49</td>     <th>  Log-Likelihood:    </th> <td> -178.98</td>\n",
       "</tr>\n",
       "<tr>\n",
       "  <th>No. Observations:</th>      <td>    45</td>      <th>  AIC:               </th> <td>   364.0</td>\n",
       "</tr>\n",
       "<tr>\n",
       "  <th>Df Residuals:</th>          <td>    42</td>      <th>  BIC:               </th> <td>   369.4</td>\n",
       "</tr>\n",
       "<tr>\n",
       "  <th>Df Model:</th>              <td>     2</td>      <th>                     </th>     <td> </td>   \n",
       "</tr>\n",
       "<tr>\n",
       "  <th>Covariance Type:</th>      <td>nonrobust</td>    <th>                     </th>     <td> </td>   \n",
       "</tr>\n",
       "</table>\n",
       "<table class=\"simpletable\">\n",
       "<tr>\n",
       "    <td></td>       <th>coef</th>     <th>std err</th>      <th>t</th>      <th>P>|t|</th>  <th>[0.025</th>    <th>0.975]</th>  \n",
       "</tr>\n",
       "<tr>\n",
       "  <th>const</th> <td>   -6.0647</td> <td>    4.272</td> <td>   -1.420</td> <td> 0.163</td> <td>  -14.686</td> <td>    2.556</td>\n",
       "</tr>\n",
       "<tr>\n",
       "  <th>x1</th>    <td>    0.5987</td> <td>    0.120</td> <td>    5.003</td> <td> 0.000</td> <td>    0.357</td> <td>    0.840</td>\n",
       "</tr>\n",
       "<tr>\n",
       "  <th>x2</th>    <td>    0.5458</td> <td>    0.098</td> <td>    5.555</td> <td> 0.000</td> <td>    0.348</td> <td>    0.744</td>\n",
       "</tr>\n",
       "</table>\n",
       "<table class=\"simpletable\">\n",
       "<tr>\n",
       "  <th>Omnibus:</th>       <td> 1.279</td> <th>  Durbin-Watson:     </th> <td>   1.458</td>\n",
       "</tr>\n",
       "<tr>\n",
       "  <th>Prob(Omnibus):</th> <td> 0.528</td> <th>  Jarque-Bera (JB):  </th> <td>   0.520</td>\n",
       "</tr>\n",
       "<tr>\n",
       "  <th>Skew:</th>          <td> 0.155</td> <th>  Prob(JB):          </th> <td>   0.771</td>\n",
       "</tr>\n",
       "<tr>\n",
       "  <th>Kurtosis:</th>      <td> 3.426</td> <th>  Cond. No.          </th> <td>    163.</td>\n",
       "</tr>\n",
       "</table><br/><br/>Warnings:<br/>[1] Standard Errors assume that the covariance matrix of the errors is correctly specified."
      ],
      "text/plain": [
       "<class 'statsmodels.iolib.summary.Summary'>\n",
       "\"\"\"\n",
       "                            OLS Regression Results                            \n",
       "==============================================================================\n",
       "Dep. Variable:                      y   R-squared:                       0.828\n",
       "Model:                            OLS   Adj. R-squared:                  0.820\n",
       "Method:                 Least Squares   F-statistic:                     101.2\n",
       "Date:                Mon, 16 Sep 2019   Prob (F-statistic):           8.65e-17\n",
       "Time:                        21:55:49   Log-Likelihood:                -178.98\n",
       "No. Observations:                  45   AIC:                             364.0\n",
       "Df Residuals:                      42   BIC:                             369.4\n",
       "Df Model:                           2                                         \n",
       "Covariance Type:            nonrobust                                         \n",
       "==============================================================================\n",
       "                 coef    std err          t      P>|t|      [0.025      0.975]\n",
       "------------------------------------------------------------------------------\n",
       "const         -6.0647      4.272     -1.420      0.163     -14.686       2.556\n",
       "x1             0.5987      0.120      5.003      0.000       0.357       0.840\n",
       "x2             0.5458      0.098      5.555      0.000       0.348       0.744\n",
       "==============================================================================\n",
       "Omnibus:                        1.279   Durbin-Watson:                   1.458\n",
       "Prob(Omnibus):                  0.528   Jarque-Bera (JB):                0.520\n",
       "Skew:                           0.155   Prob(JB):                        0.771\n",
       "Kurtosis:                       3.426   Cond. No.                         163.\n",
       "==============================================================================\n",
       "\n",
       "Warnings:\n",
       "[1] Standard Errors assume that the covariance matrix of the errors is correctly specified.\n",
       "\"\"\""
      ]
     },
     "execution_count": 38,
     "metadata": {},
     "output_type": "execute_result"
    }
   ],
   "source": [
    "model = sm.OLS(y, x).fit()\n",
    "model.summary()"
   ]
  },
  {
   "cell_type": "markdown",
   "metadata": {},
   "source": [
    "## 5\n",
    "*Interpret your result summary, focusing on the beta coefficients and the R2.*\n",
    "\n",
    "The dataset is fairly simple, and with no treatement we can account for a large portion of the variance of the dataset.  Visually, we might anticipate some of the issues we're trying to see (namely that education and income also have a linear relationship).  The beta coefficients of .598 and .545 mean that the two have equal footing given they are on relatively the same scale."
   ]
  },
  {
   "cell_type": "code",
   "execution_count": null,
   "metadata": {},
   "outputs": [],
   "source": []
  }
 ],
 "metadata": {
  "kernelspec": {
   "display_name": "Python 3",
   "language": "python",
   "name": "python3"
  },
  "language_info": {
   "codemirror_mode": {
    "name": "ipython",
    "version": 3
   },
   "file_extension": ".py",
   "mimetype": "text/x-python",
   "name": "python",
   "nbconvert_exporter": "python",
   "pygments_lexer": "ipython3",
   "version": "3.7.3"
  }
 },
 "nbformat": 4,
 "nbformat_minor": 2
}
