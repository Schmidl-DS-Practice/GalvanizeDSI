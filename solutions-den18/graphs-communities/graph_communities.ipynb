{
 "cells": [
  {
   "cell_type": "code",
   "execution_count": 1,
   "metadata": {},
   "outputs": [],
   "source": [
    "import networkx as nx\n",
    "import pandas as pd\n",
    "from collections import Counter\n",
    "\n",
    "%matplotlib inline"
   ]
  },
  {
   "cell_type": "markdown",
   "metadata": {},
   "source": [
    "### Intro to networkx"
   ]
  },
  {
   "cell_type": "markdown",
   "metadata": {},
   "source": [
    "We begin by reading the full IMDb graph into a networkx graph object.\n",
    "\n",
    "There are several methods you can call on a `networkx` graph object. Below shows the methods you can use to get the number of _nodes_ and _edges_."
   ]
  },
  {
   "cell_type": "code",
   "execution_count": 2,
   "metadata": {},
   "outputs": [
    {
     "name": "stdout",
     "output_type": "stream",
     "text": [
      "# nodes: 97944\n",
      "# edges: 154795\n"
     ]
    }
   ],
   "source": [
    "G = nx.read_edgelist('data/imdb_edges.tsv', delimiter='\\t')\n",
    "\n",
    "print('# nodes:', G.number_of_nodes())\n",
    "print('# edges:', G.number_of_edges())"
   ]
  },
  {
   "cell_type": "markdown",
   "metadata": {},
   "source": [
    "The `networkx` module also has some nice functions we will use. First up: A shortest path algorithm! We'll see we get the same answers as our code from morning."
   ]
  },
  {
   "cell_type": "code",
   "execution_count": 3,
   "metadata": {},
   "outputs": [
    {
     "name": "stdout",
     "output_type": "stream",
     "text": [
      "['Kevin Bacon', 'Beyond All Boundaries', 'Tom Hanks', 'Larry Crowne', 'Julia Roberts']\n"
     ]
    }
   ],
   "source": [
    "print(nx.shortest_path(G, 'Kevin Bacon', 'Julia Roberts'))"
   ]
  },
  {
   "cell_type": "code",
   "execution_count": 4,
   "metadata": {},
   "outputs": [
    {
     "name": "stdout",
     "output_type": "stream",
     "text": [
      "7\n",
      "['Kevin Bacon', '8', 'George Clooney', \"Ocean's Twelve\", 'Julia Roberts']\n"
     ]
    }
   ],
   "source": [
    "# We can also find ALL shortest paths. Just like this morning, we find that there are 7 shorests\n",
    "# paths from 'Kevin Bacon' to 'Julia Roberts'.\n",
    "\n",
    "all_paths = list(nx.all_shortest_paths(G, 'Kevin Bacon', 'Julia Roberts'))\n",
    "print(len(all_paths))\n",
    "print(all_paths[-1])"
   ]
  },
  {
   "cell_type": "markdown",
   "metadata": {},
   "source": [
    "### Measures of Centrality and Connected Components\n",
    "\n",
    "Again, the `networkx` module does some cool stuff. In this next section, we'll use `networkx` to give use info about our IMDb graph."
   ]
  },
  {
   "cell_type": "code",
   "execution_count": 5,
   "metadata": {},
   "outputs": [],
   "source": [
    "G = nx.read_edgelist('data/actor_edges.tsv', delimiter='\\t')"
   ]
  },
  {
   "cell_type": "code",
   "execution_count": 6,
   "metadata": {},
   "outputs": [
    {
     "data": {
      "text/plain": [
       "count    80248.000000\n",
       "mean        33.207881\n",
       "std         44.682515\n",
       "min          1.000000\n",
       "25%          9.000000\n",
       "50%         17.000000\n",
       "75%         42.000000\n",
       "max       1067.000000\n",
       "dtype: float64"
      ]
     },
     "execution_count": 6,
     "metadata": {},
     "output_type": "execute_result"
    }
   ],
   "source": [
    "degree_dict = dict(G.degree())\n",
    "degree_series = pd.Series(degree_dict)\n",
    "degree_series.describe()"
   ]
  },
  {
   "cell_type": "code",
   "execution_count": 7,
   "metadata": {},
   "outputs": [
    {
     "data": {
      "image/png": "[encoded data removed]",
      "text/plain": [
       "<matplotlib.figure.Figure at 0x7fdffc1ea2b0>"
      ]
     },
     "metadata": {},
     "output_type": "display_data"
    }
   ],
   "source": [
    "degree_series[degree_series < 400].hist(bins=50);"
   ]
  },
  {
   "cell_type": "code",
   "execution_count": 8,
   "metadata": {},
   "outputs": [
    {
     "data": {
      "text/plain": [
       "[('Danny Trejo', 0.013296447219210687),\n",
       " ('Richard Riehle', 0.01033060425934926),\n",
       " ('Keith David', 0.010131219858686306),\n",
       " ('Tom Arnold', 0.009956758508106222),\n",
       " ('Eric Roberts', 0.009682604957194661)]"
      ]
     },
     "execution_count": 8,
     "metadata": {},
     "output_type": "execute_result"
    }
   ],
   "source": [
    "Counter(nx.degree_centrality(G)).most_common(5)"
   ]
  },
  {
   "cell_type": "code",
   "execution_count": 9,
   "metadata": {},
   "outputs": [
    {
     "data": {
      "text/plain": [
       "1390"
      ]
     },
     "execution_count": 9,
     "metadata": {},
     "output_type": "execute_result"
    }
   ],
   "source": [
    "nx.number_connected_components(G)"
   ]
  },
  {
   "cell_type": "code",
   "execution_count": 10,
   "metadata": {},
   "outputs": [
    {
     "data": {
      "text/plain": [
       "count     1390.000000\n",
       "mean        57.732374\n",
       "std       1967.915596\n",
       "min          2.000000\n",
       "25%          2.000000\n",
       "50%          4.000000\n",
       "75%          6.000000\n",
       "max      73374.000000\n",
       "dtype: float64"
      ]
     },
     "execution_count": 10,
     "metadata": {},
     "output_type": "execute_result"
    }
   ],
   "source": [
    "connected_components = list(nx.connected_components(G))\n",
    "connected_components_sizes = pd.Series([len(cc) for cc in connected_components])\n",
    "connected_components_sizes.describe()"
   ]
  },
  {
   "cell_type": "code",
   "execution_count": 11,
   "metadata": {},
   "outputs": [
    {
     "data": {
      "image/png": "[encoded data removed]",
      "text/plain": [
       "<matplotlib.figure.Figure at 0x7fdf9ecf7470>"
      ]
     },
     "metadata": {},
     "output_type": "display_data"
    }
   ],
   "source": [
    "connected_components_sizes[connected_components_sizes < 1000].hist(bins=50);"
   ]
  },
  {
   "cell_type": "markdown",
   "metadata": {},
   "source": [
    "The current graph we're using is too big to quickly compute betweenness centrality and eigenvector centrality. So, for the sake of time, we'll use a smaller graph to compute those other centrality measures."
   ]
  },
  {
   "cell_type": "code",
   "execution_count": 12,
   "metadata": {},
   "outputs": [],
   "source": [
    "G = nx.read_edgelist('data/small_actor_edges.tsv', delimiter='\\t')"
   ]
  },
  {
   "cell_type": "code",
   "execution_count": 13,
   "metadata": {},
   "outputs": [
    {
     "data": {
      "text/plain": [
       "1"
      ]
     },
     "execution_count": 13,
     "metadata": {},
     "output_type": "execute_result"
    }
   ],
   "source": [
    "nx.number_connected_components(G)"
   ]
  },
  {
   "cell_type": "code",
   "execution_count": 14,
   "metadata": {},
   "outputs": [
    {
     "data": {
      "text/plain": [
       "[('David Koechner', 0.2556179775280899),\n",
       " ('Justin Long', 0.25),\n",
       " ('Danny Trejo', 0.2247191011235955),\n",
       " ('Paul Rudd', 0.21629213483146068),\n",
       " ('Jason Bateman', 0.20786516853932585)]"
      ]
     },
     "execution_count": 14,
     "metadata": {},
     "output_type": "execute_result"
    }
   ],
   "source": [
    "Counter(nx.degree_centrality(G)).most_common(5)"
   ]
  },
  {
   "cell_type": "code",
   "execution_count": 15,
   "metadata": {},
   "outputs": [
    {
     "data": {
      "text/plain": [
       "[('Danny Trejo', 0.017405842219758747),\n",
       " ('Justin Long', 0.012435514894496447),\n",
       " ('David Koechner', 0.01179413234010343),\n",
       " ('John Goodman', 0.011654586260132873),\n",
       " ('Samuel L. Jackson', 0.010876961690659511)]"
      ]
     },
     "execution_count": 15,
     "metadata": {},
     "output_type": "execute_result"
    }
   ],
   "source": [
    "Counter(nx.betweenness_centrality(G)).most_common(5)"
   ]
  },
  {
   "cell_type": "code",
   "execution_count": 16,
   "metadata": {},
   "outputs": [
    {
     "data": {
      "text/plain": [
       "[('David Koechner', 0.14046338046148432),\n",
       " ('Justin Long', 0.13115316013755712),\n",
       " ('Paul Rudd', 0.1284060091198866),\n",
       " ('Will Ferrell', 0.12554471950955168),\n",
       " ('Seth Rogen', 0.11651627384579412)]"
      ]
     },
     "execution_count": 16,
     "metadata": {},
     "output_type": "execute_result"
    }
   ],
   "source": [
    "Counter(nx.eigenvector_centrality(G)).most_common(5)"
   ]
  },
  {
   "cell_type": "markdown",
   "metadata": {},
   "source": [
    "### Discovering Communities\n",
    "\n",
    "In this assignment, you implemented parts of the Girvan-Newman algorithm. In particular, you implemented two functions: `girvan_newman_step()` and `get_modularity()`.\n",
    "\n",
    "Both of those functions are just helpers, so we don't need to actually import them here. Instead we'll import the two user-facing functions: `find_communities_n()` and `find_communities_modularity()`."
   ]
  },
  {
   "cell_type": "code",
   "execution_count": 17,
   "metadata": {},
   "outputs": [],
   "source": [
    "from src.communities import find_communities_n, find_communities_modularity\n",
    "\n",
    "karateG = nx.karate_club_graph()"
   ]
  },
  {
   "cell_type": "markdown",
   "metadata": {},
   "source": [
    "The `find_communities_n()` function will run find n new communities. Below we'll ask it to find us _one_ new community."
   ]
  },
  {
   "cell_type": "code",
   "execution_count": 18,
   "metadata": {},
   "outputs": [
    {
     "name": "stdout",
     "output_type": "stream",
     "text": [
      "2\n",
      "[{0, 1, 3, 4, 5, 6, 7, 10, 11, 12, 13, 16, 17, 19, 21}, {32, 33, 2, 8, 9, 14, 15, 18, 20, 22, 23, 24, 25, 26, 27, 28, 29, 30, 31}]\n"
     ]
    }
   ],
   "source": [
    "communities = find_communities_n(karateG, 1)\n",
    "print(len(communities))\n",
    "print(communities)"
   ]
  },
  {
   "cell_type": "markdown",
   "metadata": {},
   "source": [
    "... but the obviously question is \"HOW MANY COMMUNITIES SHOULD THERE BE?\". Well, we can use modularity to \"score\" each set of communities to find the set of communities which is \"best\". Keep in mind, this is just a heuristic."
   ]
  },
  {
   "cell_type": "code",
   "execution_count": 19,
   "metadata": {},
   "outputs": [
    {
     "name": "stdout",
     "output_type": "stream",
     "text": [
      "5\n",
      "[{0, 1, 3, 7, 11, 12, 13, 17, 19, 21}, {2, 24, 25, 27, 28, 31}, {4, 5, 6, 10, 16}, {32, 33, 8, 14, 15, 18, 20, 22, 23, 26, 29, 30}, {9}]\n"
     ]
    }
   ],
   "source": [
    "best_communities_set = find_communities_modularity(karateG)\n",
    "print(len(best_communities_set))\n",
    "print(best_communities_set)"
   ]
  },
  {
   "cell_type": "markdown",
   "metadata": {},
   "source": [
    "For a little more insight into what's going on, let's plot the modularity at each step (`find_communities_modularities` is just `find_communities_modularity` rewritten to return the list of all partitions & modularities instead of just the best one)"
   ]
  },
  {
   "cell_type": "code",
   "execution_count": 20,
   "metadata": {},
   "outputs": [],
   "source": [
    "from src.communities import find_communities_modularities\n",
    "\n",
    "import numpy as np\n",
    "import matplotlib.pyplot as plt\n",
    "%matplotlib inline"
   ]
  },
  {
   "cell_type": "code",
   "execution_count": 21,
   "metadata": {},
   "outputs": [],
   "source": [
    "comms, mods = find_communities_modularities(karateG)"
   ]
  },
  {
   "cell_type": "code",
   "execution_count": 22,
   "metadata": {},
   "outputs": [
    {
     "data": {
      "text/plain": [
       "5"
      ]
     },
     "execution_count": 22,
     "metadata": {},
     "output_type": "execute_result"
    }
   ],
   "source": [
    "len(comms[np.argmax(mods)])"
   ]
  },
  {
   "cell_type": "code",
   "execution_count": 23,
   "metadata": {},
   "outputs": [
    {
     "data": {
      "image/png": "[encoded data removed]",
      "text/plain": [
       "<matplotlib.figure.Figure at 0x7fdf9e8cf588>"
      ]
     },
     "metadata": {},
     "output_type": "display_data"
    }
   ],
   "source": [
    "plt.plot(list(range(1,len(mods)+1)), mods, ':o')\n",
    "plt.xlabel('number of communities')\n",
    "plt.ylabel('modularity');"
   ]
  }
 ],
 "metadata": {
  "kernelspec": {
   "display_name": "Python 3",
   "language": "python",
   "name": "python3"
  },
  "language_info": {
   "codemirror_mode": {
    "name": "ipython",
    "version": 3
   },
   "file_extension": ".py",
   "mimetype": "text/x-python",
   "name": "python",
   "nbconvert_exporter": "python",
   "pygments_lexer": "ipython3",
   "version": "3.7.1"
  }
 },
 "nbformat": 4,
 "nbformat_minor": 1
}
