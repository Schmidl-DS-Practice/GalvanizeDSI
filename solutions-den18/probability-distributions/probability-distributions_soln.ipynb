{
 "cells": [
  {
   "cell_type": "markdown",
   "metadata": {},
   "source": [
    "# Galvanize Probability Sprint Solutions"
   ]
  },
  {
   "cell_type": "code",
   "execution_count": 113,
   "metadata": {},
   "outputs": [],
   "source": [
    "import scipy.stats as stats\n",
    "import matplotlib.pyplot as plt\n",
    "import numpy as np\n",
    "%matplotlib inline"
   ]
  },
  {
   "cell_type": "markdown",
   "metadata": {},
   "source": [
    "## Part 1: Identifying Distributions"
   ]
  },
  {
   "cell_type": "markdown",
   "metadata": {},
   "source": [
    "#### 1. A typist makes on average 2 mistakes per page.  What is the probability of a particular page having no errors on it?\n"
   ]
  },
  {
   "cell_type": "code",
   "execution_count": 99,
   "metadata": {},
   "outputs": [
    {
     "name": "stdout",
     "output_type": "stream",
     "text": [
      "P(X = 0) =  0.1353352832366127\n"
     ]
    }
   ],
   "source": [
    "# The mistakes are Poisson distributed with a parameter of 2.\n",
    "# X ~ Poisson(2)\n",
    "# P(X = 0)\n",
    "# = (2 ^ 0 / 0!) * e ^ -2\n",
    "# ~= 0.135\n",
    "\n",
    "dist = stats.poisson(mu=2)\n",
    "print(\"P(X = 0) = \", dist.pmf(0))"
   ]
  },
  {
   "cell_type": "markdown",
   "metadata": {},
   "source": [
    "#### 2. Components are packed in boxes of 20. The probability of a component being defective is 0.1. What is the probability of a box containing exactly 2 defective components?"
   ]
  },
  {
   "cell_type": "code",
   "execution_count": 100,
   "metadata": {},
   "outputs": [
    {
     "name": "stdout",
     "output_type": "stream",
     "text": [
      "P(X = 2) =  0.28517980706429813\n"
     ]
    }
   ],
   "source": [
    "# The defects are binomially distributed with n=20 and p=.1\n",
    "#X ~ Binomial(n=20, p=0.1)\n",
    "\n",
    "   #P(X = 2)\n",
    "   # 20 C 2 is 20 choose 2\n",
    "   #= (20 C 2) * (0.1 ^ 2) * (1 - 0.1) ^ 18\n",
    "   #= (20! / 2! * 18!) * (0.1 ^ 2) * (1 - 0.1) ^ 18\n",
    "   #~= 0.285\n",
    "\n",
    "dist = stats.binom(20, 0.1)\n",
    "print (\"P(X = 2) = \", dist.pmf(2))\n"
   ]
  },
  {
   "cell_type": "markdown",
   "metadata": {},
   "source": [
    "#### 3. Components are packed in boxes of 20. The probability of any individual component being defective is 0.1. What is the probability of a box containing AT MOST 2 defective components?"
   ]
  },
  {
   "cell_type": "code",
   "execution_count": 13,
   "metadata": {},
   "outputs": [
    {
     "name": "stdout",
     "output_type": "stream",
     "text": [
      "P(X < 2) =  0.6769268051894661\n"
     ]
    }
   ],
   "source": [
    "# This is the same as above but now we have to calculate the probability of having 0, 1, or 2 defects.\n",
    "# The scipy solution is starting to look easier!\n",
    "\n",
    "#X ~ Binomial(n=20, p=0.1)\n",
    "# P(X <= 2)\n",
    "# = P(X == 0) + P(X == 1) + P(X == 2)\n",
    "# =   (20 C 0) * (0.1 ^ 0) * (1 - 0.1) ^ 20\n",
    "#  + (20 C 1) * (0.1 ^ 1) * (1 - 0.1) ^ 19\n",
    "#  + (20 C 2) * (0.1 ^ 2) * (1 - 0.1) ^ 18\n",
    "# ~= 0.677\n",
    "\n",
    "dist = stats.binom(20, 0.1)\n",
    "print (\"P(X < 2) = \", dist.cdf(2))\n"
   ]
  },
  {
   "cell_type": "markdown",
   "metadata": {},
   "source": [
    "#### 4. Patrons arrive at a local bar at a rate of 30 per hour. What is the probability that the bouncer can take a three minute bathroom break without missing the next patron?"
   ]
  },
  {
   "cell_type": "code",
   "execution_count": 20,
   "metadata": {},
   "outputs": [
    {
     "name": "stdout",
     "output_type": "stream",
     "text": [
      "P(X = 0) =  0.22313016014842982\n"
     ]
    }
   ],
   "source": [
    "#Possion 30 hour equals .5/minute.  Since we want to look at a 3 minute time period, \n",
    "# we use 1.5 per 3 minutes.  That gives us a lambda of 1.5.\n",
    "\n",
    "# X ~ Poisson(1.5)\n",
    "# P(X = 0)\n",
    "# = (1.5 ^ 0 / 0!) * e ^ -1.5\n",
    "# ~= 0.223\n",
    "\n",
    "dist = stats.poisson(mu=1.5)\n",
    "print(\"P(X = 0) = \", dist.pmf(0))\n"
   ]
  },
  {
   "cell_type": "code",
   "execution_count": 22,
   "metadata": {},
   "outputs": [
    {
     "name": "stdout",
     "output_type": "stream",
     "text": [
      "P(X = 0) =  0.2231301601484298\n"
     ]
    }
   ],
   "source": [
    "# OR We could use an exponential distribution and get the same answer!  Why is that? \n",
    "#X = waiting time\n",
    "#X ~ Exponential(0.5)  # 30 per hour = 0.5 per minute\n",
    "\n",
    "#P(X > 3)\n",
    "#= 1 - P(X <= 3)\n",
    "#= 1 - (1 - exp(-0.5 * 3))\n",
    "#~= 0.2231\n",
    "\n",
    "dist = stats.expon(scale=1/.5)\n",
    "print(\"P(X = 0) = \", 1-dist.cdf(3))\n",
    "\n"
   ]
  },
  {
   "cell_type": "markdown",
   "metadata": {},
   "source": [
    "####  5.You need to find a tall person, at least 6 feet tall, to help you reach a cookie jar. 8% of the population is 6 feet or taller, and people pass by on average twice per minute. If you wait on the sidewalk, what is the probability that you will have to wait longer than ten minutes to get some cookies?"
   ]
  },
  {
   "cell_type": "code",
   "execution_count": 24,
   "metadata": {},
   "outputs": [
    {
     "name": "stdout",
     "output_type": "stream",
     "text": [
      "P(X > 10) =  0.20189651799465536\n"
     ]
    }
   ],
   "source": [
    "# The waiting time is exponentially distributed.\n",
    "# The rate that the event \"someone of sufficient height passes by\"\n",
    "# happens is:\n",
    "#  rate = 2 persons / 1 min * 8 tall persons / 100 persons\n",
    "#       = 0.16 tall persons / min\n",
    "\n",
    "#X ~ Exponential(rate = 0.16)\n",
    "\n",
    "# P(X > 10 min)\n",
    "# = 1 - P(X <= 10 min)\n",
    "# = 1 - (1 - exp(- 0.16 * 10))\n",
    "# = exp(- 0.16 * 10)\n",
    "# ~= 0.201\n",
    "\n",
    "dist = stats.expon(scale=1/.16)\n",
    "print(\"P(X > 10) = \", 1-dist.cdf(10))"
   ]
  },
  {
   "cell_type": "markdown",
   "metadata": {},
   "source": [
    "#### 6. A harried passenger will be several minutes late for a scheduled 10 A.M. flight to NYC. Nevertheless, he might still make the flight, since boarding is always allowed until 10:10 A.M., and boarding is sometimes permitted up to 10:30 AM.\n",
    "\n",
    "#### Assuming the end time of the boarding interval is uniformly distributed over the above limits, find the probability that the passenger will make his flight, assuming he arrives at the boarding gate at 10:25."
   ]
  },
  {
   "cell_type": "code",
   "execution_count": 26,
   "metadata": {},
   "outputs": [
    {
     "name": "stdout",
     "output_type": "stream",
     "text": [
      "P(X > 10) =  0.25\n"
     ]
    }
   ],
   "source": [
    "#X ~ Uniform(10, 30) # Really uniform over 10:10 to 10:30\n",
    "\n",
    "#P(X > 25)\n",
    "#= (30 - 25) / (30 - 10) = 0.25\n",
    "\n",
    "dist = stats.uniform(loc=10, scale=20)\n",
    "print(\"P(X > 10) = \", 1-dist.cdf(25))"
   ]
  },
  {
   "cell_type": "markdown",
   "metadata": {},
   "source": [
    "#### 7. Your cat starts to beg for dinner at 3:30 every day, and you suspect that it meows at a fixed rate. You've observed that about one fifth of the time, your cat will not meow until 3:40, giving you ten unexpected minutes of quiet. What is the probability your cat leaves you alone until 4:00?"
   ]
  },
  {
   "cell_type": "code",
   "execution_count": 29,
   "metadata": {},
   "outputs": [
    {
     "name": "stdout",
     "output_type": "stream",
     "text": [
      "P(X = 0) 0.00822974704902003\n"
     ]
    }
   ],
   "source": [
    "# Looks like this one is Poisson distributed, but we are not \n",
    "# directly given the rate, so we'll have to figure it out.\n",
    "# X = # of meows in a ten mins\n",
    "# X ~ Poisson(lambda=???)\n",
    "\n",
    "# But here's what we do know:\n",
    "# P(X == 0) = 0.2\n",
    "# On the other hand, since X is Poisson distributed:\n",
    "# P(X == 0) = exp(- lambda)\n",
    "# So, solving the resulting equation\n",
    "# lambda = - log(0.2) = 1.6\n",
    "\n",
    "# So the rate our cat is meowing is (approximately) 1.6 meows / 10 min\n",
    "# Now we can actually solve the problem.  We want:\n",
    "# P(Cat does not meow between 3:30 and 4:00)\n",
    "# Which is a 30 min interval.  So let's get the rate the cat meows\n",
    "# in every 30 mins\n",
    "# lambda = 1.6 meows / 10 min = 4.8 meows / 30 min\n",
    "# Now we can calculate the needed probability\n",
    "# P(Your cat leaves you alone until 4:00)\n",
    "# = P(Your cat meows 0 times in 30 mins)\n",
    "# = exp(- 4.8)\n",
    "# ~= 0.008\n",
    "\n",
    "dist = stats.poisson(mu = 4.8)\n",
    "print (\"P(X = 0)\", dist.pmf(0))"
   ]
  },
  {
   "cell_type": "markdown",
   "metadata": {},
   "source": [
    "#### 8. Somehow you ended up with two types of forks. There are the good forks, which are big and fit a healthy bite, but there are also these small, thin ones that you don't really understand what they are for, you should probably just get rid of them. You need two forks for you and your partner, and grab a fistful of 5. If there are 14 forks in the drawer, of which half are the good kind, what is the probability you have at least your two required good forks?\n"
   ]
  },
  {
   "cell_type": "code",
   "execution_count": 30,
   "metadata": {},
   "outputs": [
    {
     "name": "stdout",
     "output_type": "stream",
     "text": [
      "P(X >= 2) =  0.867132867132867\n"
     ]
    }
   ],
   "source": [
    "# The number of good forks in hand is Hypergeometrically distributed.\n",
    "# X = # of good forks in a hand of 5.\n",
    "# X ~ Hypergeometric(N=14, k=7, n=5)\n",
    "\n",
    "# P(X >= 2)\n",
    "# = 1 - P(X <= 1)\n",
    "\n",
    "dist = stats.hypergeom(M=14, N=5, n=7)\n",
    "print (\"P(X >= 2) = \", 1-dist.cdf(1))"
   ]
  },
  {
   "cell_type": "markdown",
   "metadata": {},
   "source": [
    "\n",
    "\n",
    "\n",
    "## PART 2: Distribution Simulation"
   ]
  },
  {
   "cell_type": "markdown",
   "metadata": {},
   "source": [
    "#### 1. Profit = Number of views * Conversion * (Wholesale_Proportion * 50 + (1 - Wholesale_Proportion)*60)\n",
    "\n",
    "#### Number of views is a uniform distribution over the range of 5000 and 6000.\n",
    "#### Conversion is binomially distributed where the probability of success is 0.12 for each view.\n",
    "#### Profit per sale can take on two values: 50 for wholesale and 60 for non-wholesale. There is a 0.2 probability of a sale being wholesale and 0.8 probability of being non-wholesale. You should be able to model both the number of wholesale sales and the number of non-wholesales sales as binomial distributions (but one of the parameters of this distribution is not fixed, it depends on an earlier random quantity).\n",
    "\n"
   ]
  },
  {
   "cell_type": "code",
   "execution_count": 36,
   "metadata": {},
   "outputs": [],
   "source": [
    "# Here's the function.  Note how first we sample a uniform distribution to get the number of views.\n",
    "# Then, we use that value we just got for number of views as the parameter for the conversions distribution!\n",
    "# We then use that value as the parameter for the profit function.\n",
    "# Note that we are not encorporating num_views or conversions into the profit calculation. \n",
    "# We already used them for the distribuions!\n",
    "\n",
    "def profit_rvs():\n",
    "    num_views = int(stats.uniform(loc=5000, scale=1000).rvs())\n",
    "    conversions = stats.binom(p=0.12, n=num_views).rvs()\n",
    "    wholesales = stats.binom(p=0.2, n=conversions).rvs()\n",
    "    non_wholesales = conversions - wholesales\n",
    "    profit = (wholesales * 50 + non_wholesales * 60)\n",
    "    return profit"
   ]
  },
  {
   "cell_type": "markdown",
   "metadata": {},
   "source": [
    "#### 2. Draw 10,000 samples from the distribution of profit, and plot a histogram. Does it look like any of the common distributions is a good fit for profit?\n"
   ]
  },
  {
   "cell_type": "code",
   "execution_count": 102,
   "metadata": {},
   "outputs": [],
   "source": [
    "samples = [profit_rvs() for _ in range(10000)]"
   ]
  },
  {
   "cell_type": "code",
   "execution_count": 116,
   "metadata": {
    "scrolled": true
   },
   "outputs": [
    {
     "name": "stdout",
     "output_type": "stream",
     "text": [
      "\n"
     ]
    },
    {
     "data": {
      "image/png": "[encoded data removed]",
      "text/plain": [
       "<Figure size 432x288 with 1 Axes>"
      ]
     },
     "metadata": {
      "needs_background": "light"
     },
     "output_type": "display_data"
    }
   ],
   "source": [
    "# Looking pretty normal to me!\n",
    "# Why might that be?  You may not have gotten to it yet, but it's the central limit theorem!\n",
    "fig, ax = plt.subplots()\n",
    "ax.hist(samples, bins=30)\n",
    "ax.set_xlabel('Profit ($)', fontsize=14, fontweight='bold')\n",
    "ax.set_ylabel('Freq.', fontsize=14, fontweight='bold')\n",
    "ax.set_title(\"Histogram of randomly generated profits\")\n",
    "print()"
   ]
  },
  {
   "cell_type": "markdown",
   "metadata": {},
   "source": [
    "####  3. Compute the range of values of profit where the middle 95% of the probability mass lies."
   ]
  },
  {
   "cell_type": "code",
   "execution_count": 117,
   "metadata": {},
   "outputs": [
    {
     "name": "stdout",
     "output_type": "stream",
     "text": [
      "2.5% percentile:  33810.0\n",
      "97.5% percentile:  42950.0\n"
     ]
    }
   ],
   "source": [
    "print ('2.5% percentile: ', np.percentile(samples, 2.5))\n",
    "print ('97.5% percentile: ', np.percentile(samples, 97.5))"
   ]
  }
 ],
 "metadata": {
  "kernelspec": {
   "display_name": "Python 3",
   "language": "python",
   "name": "python3"
  },
  "language_info": {
   "codemirror_mode": {
    "name": "ipython",
    "version": 3
   },
   "file_extension": ".py",
   "mimetype": "text/x-python",
   "name": "python",
   "nbconvert_exporter": "python",
   "pygments_lexer": "ipython3",
   "version": "3.7.6"
  }
 },
 "nbformat": 4,
 "nbformat_minor": 2
}
