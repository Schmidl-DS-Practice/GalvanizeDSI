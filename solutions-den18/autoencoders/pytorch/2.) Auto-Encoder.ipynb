{
 "cells": [
  {
   "cell_type": "code",
   "execution_count": 6,
   "metadata": {},
   "outputs": [],
   "source": [
    "# import libraries\n",
    "import matplotlib.pyplot as plt\n",
    "%matplotlib inline\n",
    "plt.style.use('ggplot')\n",
    "import torch\n",
    "from torch import nn\n",
    "import numpy as np\n",
    "from torchvision import datasets\n",
    "import torchvision.transforms as transforms\n",
    "import copy\n",
    "import sys\n",
    "sys.path.append(\"./src\")\n",
    "from autoencoder import Embedding\n",
    "\n",
    "# number of subprocesses to use for data loading\n",
    "num_workers = 0\n",
    "# how many samples per batch to load\n",
    "batch_size = 20\n",
    "\n",
    "# convert data to torch.FloatTensor\n",
    "transform = transforms.ToTensor()\n",
    "\n",
    "# choose the training and test datasets\n",
    "train_data = datasets.MNIST(root='data', train=True,\n",
    "                                   download=True, transform=transform)\n",
    "test_data = datasets.MNIST(root='data', train=False,\n",
    "                                  download=True, transform=transform)\n",
    "\n",
    "# prepare data loaders\n",
    "train_loader = torch.utils.data.DataLoader(train_data, batch_size=batch_size,\n",
    "    num_workers=num_workers)\n",
    "test_loader = torch.utils.data.DataLoader(test_data, batch_size=batch_size, \n",
    "    num_workers=num_workers)"
   ]
  },
  {
   "cell_type": "code",
   "execution_count": 7,
   "metadata": {},
   "outputs": [
    {
     "name": "stdout",
     "output_type": "stream",
     "text": [
      "Embedding(\n",
      "  (fc1): Linear(in_features=784, out_features=300, bias=True)\n",
      "  (fc2): Linear(in_features=300, out_features=300, bias=True)\n",
      "  (fc3): Linear(in_features=300, out_features=784, bias=True)\n",
      "  (dropout): Dropout(p=0.2, inplace=False)\n",
      ")\n"
     ]
    }
   ],
   "source": [
    "# initialize the NN\n",
    "model = Embedding()\n",
    "print(model)"
   ]
  },
  {
   "cell_type": "code",
   "execution_count": 8,
   "metadata": {},
   "outputs": [],
   "source": [
    "## Specify loss and optimization functions\n",
    "# specify loss function\n",
    "criterion = nn.L1Loss()\n",
    "\n",
    "# specify optimizer\n",
    "optimizer = torch.optim.SGD(model.parameters(), lr=0.05, momentum=0.01)"
   ]
  },
  {
   "cell_type": "code",
   "execution_count": 9,
   "metadata": {},
   "outputs": [
    {
     "name": "stdout",
     "output_type": "stream",
     "text": [
      "Epoch: 1 \tTraining Loss: 0.129211\n",
      "Epoch: 2 \tTraining Loss: 0.121196\n",
      "Epoch: 3 \tTraining Loss: 0.113073\n",
      "Epoch: 4 \tTraining Loss: 0.102817\n",
      "Epoch: 5 \tTraining Loss: 0.095747\n",
      "Epoch: 6 \tTraining Loss: 0.090332\n",
      "Epoch: 7 \tTraining Loss: 0.085969\n",
      "Epoch: 8 \tTraining Loss: 0.082052\n",
      "Epoch: 9 \tTraining Loss: 0.078848\n",
      "Epoch: 10 \tTraining Loss: 0.076415\n",
      "Epoch: 11 \tTraining Loss: 0.074354\n",
      "Epoch: 12 \tTraining Loss: 0.072701\n",
      "Epoch: 13 \tTraining Loss: 0.071310\n",
      "Epoch: 14 \tTraining Loss: 0.070067\n",
      "Epoch: 15 \tTraining Loss: 0.068947\n",
      "Epoch: 16 \tTraining Loss: 0.067888\n",
      "Epoch: 17 \tTraining Loss: 0.066763\n",
      "Epoch: 18 \tTraining Loss: 0.065891\n",
      "Epoch: 19 \tTraining Loss: 0.065125\n",
      "Epoch: 20 \tTraining Loss: 0.064361\n",
      "Epoch: 21 \tTraining Loss: 0.063636\n",
      "Epoch: 22 \tTraining Loss: 0.062948\n",
      "Epoch: 23 \tTraining Loss: 0.062350\n",
      "Epoch: 24 \tTraining Loss: 0.061822\n",
      "Epoch: 25 \tTraining Loss: 0.061340\n",
      "Epoch: 26 \tTraining Loss: 0.060891\n",
      "Epoch: 27 \tTraining Loss: 0.060469\n",
      "Epoch: 28 \tTraining Loss: 0.059987\n",
      "Epoch: 29 \tTraining Loss: 0.059555\n",
      "Epoch: 30 \tTraining Loss: 0.059138\n"
     ]
    }
   ],
   "source": [
    "# number of epochs to train the model\n",
    "n_epochs = 30  # suggest training between 20-50 epochs\n",
    "\n",
    "model.train() # prep model for training\n",
    "\n",
    "for epoch in range(n_epochs):\n",
    "    # monitor training loss\n",
    "    train_loss = 0.0\n",
    "    \n",
    "    ###################\n",
    "    # train the model #\n",
    "    ###################    \n",
    "    for data, target in train_loader:\n",
    "        # clear the gradients of all optimized variables\n",
    "        optimizer.zero_grad()\n",
    "        # forward pass: compute predicted outputs by passing inputs to the model\n",
    "        output = model(data)\n",
    "        target_unfolded = data.view(-1, 28 * 28)\n",
    "        # calculate the loss\n",
    "        loss = criterion(output, target_unfolded)\n",
    "        # backward pass: compute gradient of the loss with respect to model parameters\n",
    "        loss.backward()\n",
    "        # perform a single optimization step (parameter update)\n",
    "        optimizer.step()\n",
    "        # update running training loss\n",
    "        train_loss += loss.item()*data.size(0)\n",
    "        \n",
    "    # print training statistics \n",
    "    # calculate average loss over an epoch\n",
    "    train_loss = train_loss/len(train_loader.dataset)\n",
    "\n",
    "    print('Epoch: {} \\tTraining Loss: {:.6f}'.format(\n",
    "        epoch+1, \n",
    "        train_loss\n",
    "        ))"
   ]
  },
  {
   "cell_type": "code",
   "execution_count": 10,
   "metadata": {},
   "outputs": [
    {
     "name": "stdout",
     "output_type": "stream",
     "text": [
      "Test Loss: 0.059086\n",
      "\n"
     ]
    }
   ],
   "source": [
    "# initialize lists to monitor test loss and accuracy\n",
    "test_loss = 0.0\n",
    "class_correct = list(0. for i in range(10))\n",
    "class_total = list(0. for i in range(10))\n",
    "\n",
    "model.eval() # prep model for *evaluation*\n",
    "\n",
    "for data, target in test_loader:\n",
    "    # forward pass: compute predicted outputs by passing inputs to the model\n",
    "    output = model(data)\n",
    "    target_unfolded = data.view(-1, 28 * 28)\n",
    "    # calculate the loss\n",
    "    loss = criterion(output, target_unfolded)\n",
    "    # update test loss \n",
    "    test_loss += loss.item()*data.size(0)\n",
    "\n",
    "# calculate and print avg test loss\n",
    "test_loss = test_loss/len(test_loader.dataset)\n",
    "print('Test Loss: {:.6f}\\n'.format(test_loss))"
   ]
  },
  {
   "cell_type": "code",
   "execution_count": 11,
   "metadata": {},
   "outputs": [
    {
     "data": {
      "image/png": "[encoded data removed]",
      "text/plain": [
       "<Figure size 1440x720 with 10 Axes>"
      ]
     },
     "metadata": {},
     "output_type": "display_data"
    }
   ],
   "source": [
    "# plot output vs the target images\n",
    "fig, ax = plt.subplots(5, 2, figsize=(20, 10))\n",
    "for idx in np.arange(5):\n",
    "    ax[idx, 0].imshow(np.squeeze(data.view(20, 28, 28).detach().numpy()[idx]), cmap='gray')\n",
    "    ax[idx, 1].imshow(np.squeeze(output.view(20, 28, 28).detach().numpy()[idx]), cmap='gray')"
   ]
  },
  {
   "cell_type": "code",
   "execution_count": null,
   "metadata": {},
   "outputs": [],
   "source": []
  }
 ],
 "metadata": {
  "kernelspec": {
   "display_name": "Python 3",
   "language": "python",
   "name": "python3"
  },
  "language_info": {
   "codemirror_mode": {
    "name": "ipython",
    "version": 3
   },
   "file_extension": ".py",
   "mimetype": "text/x-python",
   "name": "python",
   "nbconvert_exporter": "python",
   "pygments_lexer": "ipython3",
   "version": "3.7.3"
  }
 },
 "nbformat": 4,
 "nbformat_minor": 2
}
