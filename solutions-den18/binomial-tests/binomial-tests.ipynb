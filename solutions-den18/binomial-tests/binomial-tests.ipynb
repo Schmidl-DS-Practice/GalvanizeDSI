{
 "cells": [
  {
   "cell_type": "code",
   "execution_count": 2,
   "metadata": {},
   "outputs": [],
   "source": [
    "import numpy as np\n",
    "import pandas as pd\n",
    "\n",
    "%matplotlib inline\n",
    "import matplotlib.pyplot as plt"
   ]
  },
  {
   "cell_type": "markdown",
   "metadata": {},
   "source": [
    "## Binomially Distributed Data\n",
    "\n",
    "\n",
    "Recall that the binomial distribution describes data generated when we observe a binary outcome (one of two things can happen) a fixed number of times, and the probability that one or another thing happens for each individual outcome does not change.\n",
    "\n",
    "In each of the following situations, the resulting data *may be* binomially distributed.\n",
    "\n",
    "  - If it is binomially distributed, give the parameters of the binomial distribution.\n",
    "  - If it is not binomially distributed, describe why not.  If you can, give the correct distribution (if not, don't worry too much about it)."
   ]
  },
  {
   "cell_type": "markdown",
   "metadata": {},
   "source": [
    "#### 1. A large bucket contains 1256 six sided dice.  You dump all of them onto the ground (without losing any) and count how many 4's you see.\n",
    "\n",
    "The face showing on each die is independent from all the others, and there is a $\\frac{1}{6}$ of the $4$ showing on each individual die.  So:\n",
    "\n",
    "$$ P(\\text{# 4's showing} = k) =\\binom{1256}{k} \\left( \\frac{1}{6} \\right)^k \\left(\\frac{5}{6} \\right)^{1256 - k} $$\n",
    "\n",
    "Which is a binomial probability."
   ]
  },
  {
   "cell_type": "markdown",
   "metadata": {},
   "source": [
    "#### 2. A large bucket contains 1256 dice with varying numbers of sides (some have 4 sides, some have six, some have 8, some have 10, some have 12, and some have 20).  You dump them all onto the ground (without losing any) and count how many 4's you see.\n",
    "\n",
    "Even though all the die here are independently facing, the probabilities of showing a four on the various die are not all the same (for some it is $\\frac{1}{6}$, for some it is $\\frac{1}{8}$, etc...).\n",
    "\n",
    "It would be possible to compute this probability *if* we knew how many die of each type there were, but without this information all we can say is that it is *not* binomial."
   ]
  },
  {
   "cell_type": "markdown",
   "metadata": {},
   "source": [
    "#### 3.  A Magic the Gathering deck (like a deck of cards) is made up of two types of cards: lands, and playables.  You have a fourty card deck that contains the typical 17 lands.  You shuffle your deck, then draw the top cards and see if it is a land.  Then you repeat this process 100 times, and count how often there is a land on top.\n",
    "\n",
    "Each time you re-shuffle the deck, the probability that there is a land on top is independent from all other re-shuffles.  Each time there is a $\\frac{17}{40}$ chance that the top card is a land.  So:\n",
    "\n",
    "$$ P(\\text{# of times land is on top} = k) = \\binom{100}{k} \\left( \\frac{17}{40} \\right)^k \\left(\\frac{23}{40} \\right)^{40 - k} $$"
   ]
  },
  {
   "cell_type": "markdown",
   "metadata": {},
   "source": [
    "#### 4. A Magic the Gathering deck is made up of two types of cards: lands, and playables.  You have a fourty card deck that contains the typical 17 lands.  You shuffle your deck, draw a hand of 7 cards, and count the number of lands.\n",
    "\n",
    "You may be tempted to believe that this is binomially distributed according to the following reasoning: we have 7 cards, and each of them has a $\\frac{17}{40}$ chance of being a land, so:\n",
    "\n",
    "$$ P(\\text{# of lands in opening hand} = k) = \\binom{7}{k} \\left( \\frac{17}{40} \\right)^k \\left(\\frac{23}{40} \\right)^{40 - k} $$\n",
    "\n",
    "But this is **wrong**!\n",
    "\n",
    "The flaw in this reasoning is that, while the probability that the *first* card you draw is a land is indeed $\\frac{17}{40}$, that is not true for the subsequent cards.  In fact, there is no single probability that can be assigned to second card being a land, because:\n",
    "\n",
    "  - If the *first* card you draw is a land, then the probability the second card is a land is $\\frac{16}{39}$.\n",
    "  - If the *first* card you draw is *not* a land, then the probability the second card you draw is a land is $\\frac{17}{49}$.\n",
    "  \n",
    "The distribution of the number of lands in your opening hand does have a name (but not a very good or memorable one), it's called the [Hypergeometric Distribution](https://en.wikipedia.org/wiki/Hypergeometric_distribution).  This distribution is well known to everyone playing card games at a high level.  Using the PDF of the hypergeometric distribution, the desired probability is:\n",
    "\n",
    "$$ P(\\text{# of lands in opening hand} = k) = \\frac{ \\binom{17}{k} \\binom{40 - 17}{7 - k} }{ \\binom{40}{7} } $$"
   ]
  },
  {
   "cell_type": "markdown",
   "metadata": {},
   "source": [
    "#### 5. A large bucket contains 1256 six sided dice.  You dump all of them onto the ground, but this time you lose a random number of dice; there is a 10% chance you will lose any individual die.  You, again, count the number of 4's. \n",
    "\n",
    "As mentioned, this one actually is binomially distributed, although it may not seem like it at first.\n",
    "\n",
    "The easiest way to see this, conceptially, is to consider the \"minsingness\" of a die as a new kind of face.  So where before each die had six faces, now each of them has seven:\n",
    "\n",
    "$$ 1, 2, 3, 4, 5, 6, \\text{missing} $$\n",
    "\n",
    "Where, for any individual die, $P(\\text{missing}) = 0.1$.\n",
    "\n",
    "Given this information, we can calculate the probability that any individual die shows a four:\n",
    "\n",
    "$$\n",
    "\\begin{align}\n",
    "P(\\text{die shows four}) \n",
    "&= P(\\text{die is not missing and die shows a four}) \\\\ \n",
    "&= P(\\text{die shows a four} \\mid \\text{die is not missing}) \\times P(\\text{die is not missing}) \\\\ \n",
    "&= \\frac{1}{6} \\times \\frac{9}{10} \\\\ \n",
    "&= \\frac{9}{60}\n",
    "\\end{align}\n",
    "$$\n",
    "\n",
    "Note that this probability is the **same** for each die, and what happens to each die is independent of what happens to all the other dice.  Consequently, the number of fours is binomially distributed, and it's PMF is:\n",
    "\n",
    "$$P(\\text{# of dice showing a four}) = \\binom{1256}{k} \\left( \\frac{9}{60} \\right)^k \\left(\\frac{51}{60} \\right)^{1256 - k} $$"
   ]
  },
  {
   "cell_type": "markdown",
   "metadata": {},
   "source": [
    "#### 6.  A Magic the Gathering deck is made up of two types of cards: lands, and playables.  Although 17 lands is typical in a 40 card deck, it is sometimes correct to play 16 or 18 lands.  Say when you construct a deck, 80% of them contain 17 lands, 10% contain 16, and 10% contain 18.  You build a magic the gathering deck, shuffle it, and then look at the top card and see if it is a land.  You then repeat this process 100 times (including rebuilding the deck), and count how many times there was a land on top."
   ]
  },
  {
   "cell_type": "markdown",
   "metadata": {},
   "source": [
    "This is also binomially distributed, though not obviously so.\n",
    "\n",
    "A good way to think about this is to imagine that each time you run the experiment you make three decks, one with 16 lands, one with 17, and one with 18.  Then you randomly choose a deck (with the perscribed probabilities), shuffle it, then draw to top card and check if it is a land.  It should feel intuitive that this situation is equivelant, but it may take a bit of thought to convince yourself of this.\n",
    "\n",
    "Given this situation, we can break down the probability that there is a land on the top of the chosen deck:\n",
    "\n",
    "\\begin{align}\n",
    "P(\\text{top card is a land}) \n",
    "&= P(\\text{top card is a land and 16 total lands}) \\\\\n",
    "&\\quad+ P(\\text{top card is a land and 17 total lands}) \\\\\n",
    "&\\quad+ P(\\text{top card is a land and 18 total lands}) \\\\\n",
    "&= P(\\text{top card is a land} \\mid \\text{16 total lands}) P(\\text{16 total lands}) \\\\\n",
    "&\\quad+ P(\\text{top card is a land} \\mid \\text{17 total lands}) P(\\text{17 total lands}) \\\\\n",
    "&\\quad+ P(\\text{top card is a land} \\mid \\text{18 total lands}) P(\\text{18 total lands}) \\\\\n",
    "&= \\frac{16}{40} \\frac{1}{10} + \\frac{17}{40} \\frac{8}{10} + \\frac{18}{40} \\frac{1}{10} \\\\\n",
    "&=  0.425\n",
    "\\end{align}\n",
    "\n",
    "As in the previous problem, we see now that we get the same probability every time we run the experiment, and all the experiments are independent, so the number of times we see a land on top is binomially distributed:\n",
    "\n",
    "$$ P(\\text{# of times land is on top} = k) = \\binom{100}{k} 0.425^k \\ 0.575^{100 - k} $$"
   ]
  },
  {
   "cell_type": "markdown",
   "metadata": {},
   "source": [
    "## Binomial Hypothesis Tests"
   ]
  },
  {
   "cell_type": "markdown",
   "metadata": {},
   "source": [
    "We'll need access to the binomial CDF to do the p-value calculations in this part, the best way to get access to these is from scipy."
   ]
  },
  {
   "cell_type": "code",
   "execution_count": 3,
   "metadata": {},
   "outputs": [],
   "source": [
    "from scipy import stats"
   ]
  },
  {
   "cell_type": "markdown",
   "metadata": {},
   "source": [
    "#### 1. Muriel insists she can tell if you poured milk into tea before or after the hot water.  To prove her point, she goes to Goodwill and purchases ALL of their mugs, 137 in total.  It takes all day, but you manage to randomly make cups of tea milk or water first in all the mugs, and test her on all of them.  She gets 72 correct.  Do you believe her now?\n",
    "\n",
    "Let's let $p = P(\\text{Muriel gets a single cup correct})$.\n",
    "\n",
    "Null Hypothesis: $p = 0.5$\n",
    "Alternate Hypothesis: $p > 0.5$\n",
    "\n",
    "Muriel attempts the experiment 137 times, and, under the null hypothesis, the probability that she gets any single, individual cup correct is 0.5.  Therefore the probability that muriel gets some number of cups correct is a Binomial probability:\n",
    "\n",
    "$$ P(\\text{Muriel gets $k$ cups correct} \\mid \\text{Null Hypothesis}) = \\binom{137}{k} 0.5^k \\ 0.5^{137 - k} = \\binom{137}{k} 0.5^{137} $$\n",
    "\n",
    "In the experiment, Muriel gets 72 cups correct, so the $p$-value for Fishers null hypothesis is:\n",
    "\n",
    "$$ P(\\text{Binom}(n=137, p=0.5) \\geq 72) $$\n",
    "\n",
    "Which we can calculate with scipy:"
   ]
  },
  {
   "cell_type": "code",
   "execution_count": 39,
   "metadata": {},
   "outputs": [
    {
     "name": "stdout",
     "output_type": "stream",
     "text": [
      "p-value: 0.30\n"
     ]
    }
   ],
   "source": [
    "n = 137\n",
    "p = .5\n",
    "binom_dist = stats.binom(n=n, p=p)\n",
    "p_value = 1 - binom_dist.cdf(72 - 1)\n",
    "print(f\"p-value: {p_value:.2f}\")"
   ]
  },
  {
   "cell_type": "markdown",
   "metadata": {},
   "source": [
    "This is a rather large $p$-value, and would be insufficient evidence against the null for any resonable person."
   ]
  },
  {
   "cell_type": "code",
   "execution_count": 40,
   "metadata": {},
   "outputs": [
    {
     "data": {
      "text/plain": [
       "Text(0.5, 1.0, 'p-value: 0.30')"
      ]
     },
     "execution_count": 40,
     "metadata": {},
     "output_type": "execute_result"
    },
    {
     "data": {
      "image/png": "[encoded data removed]",
      "text/plain": [
       "<Figure size 720x288 with 1 Axes>"
      ]
     },
     "metadata": {
      "needs_background": "light"
     },
     "output_type": "display_data"
    }
   ],
   "source": [
    "\n",
    "cut_off = 72\n",
    "\n",
    "fig, ax = plt.subplots(1, figsize=(10, 4))\n",
    "bars = ax.bar(range(cut_off), [binom_dist.pmf(i) for i in range(cut_off)], color=\"grey\")\n",
    "bars = ax.bar(range(cut_off,n), [binom_dist.pmf(i) for i in range(cut_off,n)], color=\"red\")\n",
    "ax.set_xlabel(\"Number of correct answers\")\n",
    "ax.set_ylabel(\"Probability\")\n",
    "ax.set_title(f\"p-value: {p_value:.2f}\")\n"
   ]
  },
  {
   "cell_type": "markdown",
   "metadata": {},
   "source": [
    "#### 2. You are working on your heelflips (a skateboarding trick).  Your goal is to land them more than 50% of the time (as in, the true rate you land them is over one half. Of course, in any given sample, you may learn more or less than that ideal).   You attempt 122 heelflips in a day, and land 72 of them.  Do you believe you are as good as you want to be?\n",
    "\n",
    "Let $p = P(\\text{You land a kickflip})$.\n",
    "\n",
    "Null Hypothesis: $p = 0.5$.\n",
    "Alternate Hypothesis: $p > 0.5$.\n",
    "\n",
    "$$ P(\\text{Land k kickflips} \\mid \\text{Null Hypothesis}) = \\binom{122}{72} 0.5^{122}$$\n",
    "\n",
    "$$ \\text{p-value} = P(\\text{Binom}(n=122, p=0.5) \\geq 72) $$"
   ]
  },
  {
   "cell_type": "code",
   "execution_count": 41,
   "metadata": {},
   "outputs": [
    {
     "name": "stdout",
     "output_type": "stream",
     "text": [
      "p-value: 0.03\n"
     ]
    }
   ],
   "source": [
    "n = 122\n",
    "p = .5\n",
    "observed = 72\n",
    "binom_dist = stats.binom(n=n, p=p)\n",
    "\n",
    "p_value = 1 - binom_dist.cdf(observed - 1)\n",
    "print(f\"p-value: {p_value:.2f}\")"
   ]
  },
  {
   "cell_type": "markdown",
   "metadata": {},
   "source": [
    "This time, since we have accomplished the same number of successes in less attmempts compared to the last problem, our p-value is much smaller.  This is probably small enough for me to adopt the belief that I land kcikflips more than hald the time."
   ]
  },
  {
   "cell_type": "code",
   "execution_count": 47,
   "metadata": {},
   "outputs": [
    {
     "data": {
      "text/plain": [
       "Text(0.5, 1.0, 'p-value: 0.26')"
      ]
     },
     "execution_count": 47,
     "metadata": {},
     "output_type": "execute_result"
    },
    {
     "data": {
      "image/png": "[encoded data removed]",
      "text/plain": [
       "<Figure size 720x288 with 1 Axes>"
      ]
     },
     "metadata": {
      "needs_background": "light"
     },
     "output_type": "display_data"
    }
   ],
   "source": [
    "\n",
    "fig, ax = plt.subplots(1, figsize=(10, 4))\n",
    "bars = ax.bar(range(observed), [binom_dist.pmf(i) for i in range(observed)], color=\"grey\")\n",
    "bars = ax.bar(range(observed,n), [binom_dist.pmf(i) for i in range(observed,n)], color=\"red\")\n",
    "ax.set_xlabel(\"Number of correct answers\")\n",
    "ax.set_ylabel(\"Probability\")\n",
    "ax.set_title(f\"p-value: {p_value:.2f}\")\n"
   ]
  },
  {
   "cell_type": "markdown",
   "metadata": {},
   "source": [
    "#### 3. Buses are seemingly always late, like 90% of them.  Thoroughly dismayed with the state of public transportation, you spend all day collecting data and being just generally upset.  Out of 53 total bus arrivals in a given day at your local bus stop, 49 of them were late.  Is the situation really that bad, 90% of them?\n",
    "\n",
    "Let $p = P(\\text{A bus is late})$.\n",
    "\n",
    "Null Hypothesis: $p = 0.9$, Alternate Hypothesis: $p \\geq 0.9$\n",
    "\n",
    "$$ P(\\text{k busses are late} \\mid \\text{Null Hypothesis}) = \\binom{53}{49} 0.9^{k} \\ 0.1^{53 - k} $$\n",
    "\n",
    "$$ \\text{p-value} = P(\\text{Binom}(n=53, p=0.9) \\geq 49) $$"
   ]
  },
  {
   "cell_type": "code",
   "execution_count": 43,
   "metadata": {},
   "outputs": [
    {
     "name": "stdout",
     "output_type": "stream",
     "text": [
      "p-value: 0.38\n"
     ]
    }
   ],
   "source": [
    "n = 53\n",
    "p = .9\n",
    "observed = 49\n",
    "binom_dist = stats.binom(n=n, p=p)\n",
    "\n",
    "p_value = 1 - binom_dist.cdf(observed - 1)\n",
    "print(f\"p-value: {p_value:.2f}\")"
   ]
  },
  {
   "cell_type": "code",
   "execution_count": 44,
   "metadata": {},
   "outputs": [
    {
     "data": {
      "text/plain": [
       "Text(0.5, 1.0, 'p-value: 0.38')"
      ]
     },
     "execution_count": 44,
     "metadata": {},
     "output_type": "execute_result"
    },
    {
     "data": {
      "image/png": "[encoded data removed]",
      "text/plain": [
       "<Figure size 720x288 with 1 Axes>"
      ]
     },
     "metadata": {
      "needs_background": "light"
     },
     "output_type": "display_data"
    }
   ],
   "source": [
    "\n",
    "fig, ax = plt.subplots(1, figsize=(10, 4))\n",
    "bars = ax.bar(range(observed), [binom_dist.pmf(i) for i in range(observed)], color=\"grey\")\n",
    "bars = ax.bar(range(observed,n), [binom_dist.pmf(i) for i in range(observed,n)], color=\"red\")\n",
    "ax.set_xlabel(\"Number of correct answers\")\n",
    "ax.set_ylabel(\"Probability\")\n",
    "ax.set_title(f\"p-value: {p_value:.2f}\")\n"
   ]
  },
  {
   "cell_type": "markdown",
   "metadata": {},
   "source": [
    "#### 4. You'd like to think that you are improving at programming, but most of your programs don't run at first.  Your instructors insist that this is normal, but it's discouraging, so you would like to have some measure of improvement.  At the beginning, none of your programs ran the first time, but this week you wrote 6 programs, and one of them ran the first time!  Can you confidently clam that more than 5% of your programs run the first time, you'd feel pretty good about that.\n",
    "\n",
    "Let $p = P(\\text{Program works the first time})$.\n",
    "\n",
    "Null Hypothesis: $p = 0.05$, Alternate Hypothesis: $p \\geq 0.05$\n",
    "\n",
    "$$ P(\\text{k programs work the first time} \\mid \\text{Null Hypothesis}) = \\binom{6}{k} 0.05^{k} \\ 0.95^{6-k} $$\n",
    "\n",
    "$$ \\text{p-value} = P(\\text{Binom}(n=6, p=0.05) \\geq 1) $$"
   ]
  },
  {
   "cell_type": "code",
   "execution_count": 45,
   "metadata": {
    "scrolled": true
   },
   "outputs": [
    {
     "name": "stdout",
     "output_type": "stream",
     "text": [
      "p-value: 0.26\n"
     ]
    }
   ],
   "source": [
    "n = 6\n",
    "p = .05\n",
    "observed = 1\n",
    "binom_dist = stats.binom(n=n, p=p)\n",
    "\n",
    "p_value = 1 - binom_dist.cdf(observed - 1)\n",
    "print(f\"p-value: {p_value:.2f}\")"
   ]
  },
  {
   "cell_type": "code",
   "execution_count": 46,
   "metadata": {},
   "outputs": [
    {
     "data": {
      "text/plain": [
       "Text(0.5, 1.0, 'p-value: 0.26')"
      ]
     },
     "execution_count": 46,
     "metadata": {},
     "output_type": "execute_result"
    },
    {
     "data": {
      "image/png": "[encoded data removed]",
      "text/plain": [
       "<Figure size 720x288 with 1 Axes>"
      ]
     },
     "metadata": {
      "needs_background": "light"
     },
     "output_type": "display_data"
    }
   ],
   "source": [
    "\n",
    "fig, ax = plt.subplots(1, figsize=(10, 4))\n",
    "bars = ax.bar(range(observed), [binom_dist.pmf(i) for i in range(observed)], color=\"grey\")\n",
    "bars = ax.bar(range(observed,n), [binom_dist.pmf(i) for i in range(observed,n)], color=\"red\")\n",
    "ax.set_xlabel(\"Number of correct answers\")\n",
    "ax.set_ylabel(\"Probability\")\n",
    "ax.set_title(f\"p-value: {p_value:.2f}\")\n"
   ]
  },
  {
   "cell_type": "markdown",
   "metadata": {},
   "source": [
    "## Varying the Sample Size\n",
    "\n",
    "#### 1. Let's suppose that Muriel finds more (or less) mugs at the Goodwill.  Write a function to encapsulate your work in problem 1 above.  It should take as parameters the number of mugs, and the number she got correct, and return a p-value under the null hypothesis that she is guessing randomly.\n",
    "\n",
    "    ```python\n",
    "    def binomial_test(n_mugs, n_correct, p_null=0.5):\n",
    "    ```"
   ]
  },
  {
   "cell_type": "code",
   "execution_count": 7,
   "metadata": {},
   "outputs": [],
   "source": [
    "def binomial_test(n_mugs, n_correct, p_null=0.5):\n",
    "    p_value = 1 - stats.binom(n=n_mugs, p=p_null).cdf(n_correct - 1)\n",
    "    return p_value"
   ]
  },
  {
   "cell_type": "markdown",
   "metadata": {},
   "source": [
    "#### 2. Use your function to replicate your conclusion from above."
   ]
  },
  {
   "cell_type": "code",
   "execution_count": 8,
   "metadata": {},
   "outputs": [
    {
     "name": "stdout",
     "output_type": "stream",
     "text": [
      "p-value: 0.30\n"
     ]
    }
   ],
   "source": [
    "p_value = binomial_test(137, 72)\n",
    "print(f\"p-value: {p_value:.2f}\")"
   ]
  },
  {
   "cell_type": "markdown",
   "metadata": {},
   "source": [
    "#### 3. Suppose the *truth* is that Muriel gets 52% of the mugs correct.  Vary the number of mugs total between 1 and 250, and in each case assume that the number Muriel gets correct is `0.52 * n_mugs` (which isn't an integer, but do something sensible to make it one).  Plot the p-value of a binomial test on this data as the number of mugs used varies."
   ]
  },
  {
   "cell_type": "code",
   "execution_count": 9,
   "metadata": {},
   "outputs": [
    {
     "data": {
      "text/plain": [
       "Text(0, 0.5, 'p-value')"
      ]
     },
     "execution_count": 9,
     "metadata": {},
     "output_type": "execute_result"
    },
    {
     "data": {
      "image/png": "[encoded data removed]",
      "text/plain": [
       "<Figure size 864x288 with 1 Axes>"
      ]
     },
     "metadata": {
      "needs_background": "light"
     },
     "output_type": "display_data"
    }
   ],
   "source": [
    "import matplotlib.pyplot as plt\n",
    "import numpy as np\n",
    "from math import floor\n",
    "\n",
    "fig, ax = plt.subplots(figsize=(12, 4))\n",
    "\n",
    "# Just do the odd points, so we don't have to deal with the middle number issue \n",
    "# with the binomial cdf.\n",
    "ns = np.arange(1, 250, 2)\n",
    "p_values = [binomial_test(n, floor(0.52*n)) for n in ns]\n",
    "ax.plot(ns, p_values)\n",
    "\n",
    "# Graph formatting\n",
    "ax.set_ylim(0, 1)\n",
    "ax.set_xlim(0, 250)\n",
    "ax.set_xlabel('Number of mugs', fontsize=14)\n",
    "ax.set_ylabel('p-value', fontsize=14)"
   ]
  },
  {
   "cell_type": "markdown",
   "metadata": {},
   "source": [
    "#### 4. How many mugs would we need to achieve a p-value of `< 0.2`, of `< 0.1`, of `< 0.05`?"
   ]
  },
  {
   "cell_type": "code",
   "execution_count": 10,
   "metadata": {},
   "outputs": [],
   "source": [
    "def n_mugs_for_p_value(p_value):\n",
    "    infinite_prevention = 2500\n",
    "    n = 1\n",
    "    while infinite_prevention:\n",
    "        infinite_prevention -= 1\n",
    "        if binomial_test(n, int(n*.52)) < p_value:\n",
    "            return n\n",
    "        n += 1\n",
    "    return None"
   ]
  },
  {
   "cell_type": "code",
   "execution_count": 11,
   "metadata": {},
   "outputs": [
    {
     "data": {
      "text/plain": [
       "500"
      ]
     },
     "execution_count": 11,
     "metadata": {},
     "output_type": "execute_result"
    }
   ],
   "source": [
    "n_mugs_for_p_value(0.2)"
   ]
  },
  {
   "cell_type": "code",
   "execution_count": 12,
   "metadata": {},
   "outputs": [
    {
     "data": {
      "text/plain": [
       "1100"
      ]
     },
     "execution_count": 12,
     "metadata": {},
     "output_type": "execute_result"
    }
   ],
   "source": [
    "n_mugs_for_p_value(0.1)"
   ]
  },
  {
   "cell_type": "code",
   "execution_count": 13,
   "metadata": {},
   "outputs": [
    {
     "data": {
      "text/plain": [
       "1750"
      ]
     },
     "execution_count": 13,
     "metadata": {},
     "output_type": "execute_result"
    }
   ],
   "source": [
    "n_mugs_for_p_value(0.05)"
   ]
  }
 ],
 "metadata": {
  "kernelspec": {
   "display_name": "Python 3",
   "language": "python",
   "name": "python3"
  },
  "language_info": {
   "codemirror_mode": {
    "name": "ipython",
    "version": 3
   },
   "file_extension": ".py",
   "mimetype": "text/x-python",
   "name": "python",
   "nbconvert_exporter": "python",
   "pygments_lexer": "ipython3",
   "version": "3.7.6"
  }
 },
 "nbformat": 4,
 "nbformat_minor": 4
}
