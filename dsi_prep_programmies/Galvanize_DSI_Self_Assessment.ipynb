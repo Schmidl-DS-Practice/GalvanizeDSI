{
 "cells": [
  {
   "cell_type": "markdown",
   "metadata": {
    "button": false,
    "new_sheet": false,
    "run_control": {
     "read_only": false
    }
   },
   "source": [
    "# Galvanize DSI Self Assessment v3.0"
   ]
  },
  {
   "cell_type": "markdown",
   "metadata": {
    "button": false,
    "new_sheet": false,
    "run_control": {
     "read_only": false
    }
   },
   "source": [
    "* This document is a non-exhaustive study guide for applicants to the Galvanize Data Science Immersive (DSI). It is meant to help prepare you for the Technical Interview. \n",
    "* You may have been asked to complete the problems below in order to continue your application to the DSI. If this is the case, you will attach the completed notebook in an email to your Enrollment Officer. Once your work is graded, you will receive a link to book your next Technical Interview.\n",
    "* Completion of this document is not mandatory if you have not been asked to do so. However, you are expected to be able to perform all problem topics within this document in the Technical Interview to the Galvanize DSI. \n",
    "* This document is not exhaustive in terms of the skills you should be developing prior to starting the DSI. Though not covered in this document or in the Technical Interview, you will want to develop your understanding of:\n",
    "    * SQL\n",
    "    * Hypothesis Testing for One and Two samples\n",
    "    * Basic Linear Algebra\n",
    "* Questions may be directed to: admissions@galvanize.com"
   ]
  },
  {
   "cell_type": "markdown",
   "metadata": {
    "button": false,
    "new_sheet": false,
    "run_control": {
     "read_only": false
    }
   },
   "source": [
    "<hr>\n",
    "\n",
    "<hr>\n",
    "\n",
    "## Contents\n",
    "* Section A: Python\n",
    "    * SA:Q1: Functions and For Loops\n",
    "    * SA:Q2: More Functions\n",
    "    * SA:Q3: Dictionaries and Strings\n",
    "* Section B: Probability and Statistics\n",
    "    * SB:Q1: Descriptive Statistics\n",
    "    * SB:Q2: Probability and Bayes Theorem\n",
    "    * SB:Q3: Probability Distributions\n"
   ]
  },
  {
   "cell_type": "markdown",
   "metadata": {
    "button": false,
    "new_sheet": false,
    "run_control": {
     "read_only": false
    }
   },
   "source": [
    "<hr>\n",
    "\n",
    "<hr>\n",
    "\n",
    "<hr>\n",
    "\n",
    "\n",
    "\n",
    "# Section A: Python\n",
    "* complete each problem below according to the instructions"
   ]
  },
  {
   "cell_type": "markdown",
   "metadata": {
    "button": false,
    "new_sheet": false,
    "run_control": {
     "read_only": false
    }
   },
   "source": [
    "<hr>\n",
    "\n",
    "<hr>\n",
    "\n",
    "### SA:Q1 Functions and For Loops\n",
    "* In general, you want to write code that atomizes and encapsulates procedures within functions. In the problems below, you will write a procedure without a function, and then encapsulate that same procedure within a function. "
   ]
  },
  {
   "cell_type": "markdown",
   "metadata": {
    "button": false,
    "new_sheet": false,
    "run_control": {
     "read_only": false
    }
   },
   "source": [
    "<hr>\n",
    "\n",
    "#### a. Write a for loop that sums the numbers in `list_num`\n",
    "* Print the output once the for loop is completed\n",
    "    * expected result: `219`"
   ]
  },
  {
   "cell_type": "code",
   "execution_count": null,
   "metadata": {
    "button": false,
    "collapsed": true,
    "new_sheet": false,
    "run_control": {
     "read_only": false
    }
   },
   "outputs": [],
   "source": [
    "list_num = [5,3,9,7,23,108,64]\n",
    "######## Enter your code below ##########\n",
    "sum_n = 0\n",
    "for n in list_num:\n",
    "    sum_n += n\n",
    "print(sum_n)"
   ]
  },
  {
   "cell_type": "markdown",
   "metadata": {
    "button": false,
    "new_sheet": false,
    "run_control": {
     "read_only": false
    }
   },
   "source": [
    "<hr>\n",
    "\n",
    "#### b. Write a function `sum_nums()` that returns the sum of the numbers in list_num\n",
    "* Print the value returned by the function\n",
    "* expected result: `219`"
   ]
  },
  {
   "cell_type": "code",
   "execution_count": null,
   "metadata": {
    "button": false,
    "new_sheet": false,
    "run_control": {
     "read_only": false
    }
   },
   "outputs": [],
   "source": [
    "def sum_nums(list_num):\n",
    "    return sum(list_num)\n",
    "\n",
    "##### Enter your code above, testing code below #####\n",
    "list_num = [5,3,9,7,23,108,64]\n",
    "print(sum_nums(list_num))"
   ]
  },
  {
   "cell_type": "markdown",
   "metadata": {
    "button": false,
    "new_sheet": false,
    "run_control": {
     "read_only": false
    }
   },
   "source": [
    "<hr>\n",
    "\n",
    "\n",
    "#### c. Write a for loop that concatenates all strings in `list_strings` into a single string\n",
    "* There are multiple ways to do this, please use a for loop in this implementation\n",
    "* Print the output once the for loop is completed\n",
    "    * expected result: `hot coffee milk cinnamon nutmeg ginger`\n",
    "        * note that the strings are separated by spaces"
   ]
  },
  {
   "cell_type": "code",
   "execution_count": null,
   "metadata": {
    "button": false,
    "collapsed": true,
    "new_sheet": false,
    "run_control": {
     "read_only": false
    }
   },
   "outputs": [],
   "source": [
    "list_strings = ['hot coffee', 'milk', 'cinnamon', 'nutmeg', 'ginger']\n",
    "######## Enter your code below ##########\n",
    "string = ' '\n",
    "for word in list_strings:\n",
    "    string += word + ' '\n",
    "print(string)"
   ]
  },
  {
   "cell_type": "markdown",
   "metadata": {
    "button": false,
    "new_sheet": false,
    "run_control": {
     "read_only": false
    }
   },
   "source": [
    "<hr>\n",
    "\n",
    "#### d. Write a function `concat_strings` that concatenates all strings passed in as an argument into a single string\n",
    "* Please use a for loop in your function\n",
    "* Print the output returned by the function\n",
    "    * expected result: `hot coffee milk cinnamon nutmeg ginger`\n",
    "        * note that the strings are separated by spaces"
   ]
  },
  {
   "cell_type": "code",
   "execution_count": null,
   "metadata": {
    "button": false,
    "new_sheet": false,
    "run_control": {
     "read_only": false
    }
   },
   "outputs": [],
   "source": [
    "\n",
    "def concat_strings(list_strings):\n",
    "    string = ' '\n",
    "    for word in list_strings:\n",
    "        string += word + ' '\n",
    "    return string\n",
    "\n",
    "##### Enter your code above, test your code below #####\n",
    "list_strings = ['hot coffee', 'milk', 'cinnamon', 'nutmeg', 'ginger']\n",
    "print(concat_strings(list_strings))"
   ]
  },
  {
   "cell_type": "markdown",
   "metadata": {
    "button": false,
    "new_sheet": false,
    "run_control": {
     "read_only": false
    }
   },
   "source": [
    "<hr>\n",
    "\n",
    "<hr>\n",
    "\n",
    "### SA:Q2 More Functions\n",
    "* Seriously, we want you to use functions, a lot.\n",
    "* Why?\n",
    "    * Well-named functions make your code easier to read and organize.\n",
    "    * Functions are reusable.\n",
    "    * Functions encapsulate an atomic operation.\n",
    "    * Functions are easier to run tests on."
   ]
  },
  {
   "cell_type": "markdown",
   "metadata": {
    "button": false,
    "new_sheet": false,
    "run_control": {
     "read_only": false
    }
   },
   "source": [
    "<hr>\n",
    "\n",
    "#### a. Write a function `plus_ten()` that takes a list of numbers and returns a list with 10 added to each number\n",
    "* Print the value returned by the function\n",
    "* expected result: `[22, 12, 15, 17, 19, 24, 25]`"
   ]
  },
  {
   "cell_type": "code",
   "execution_count": null,
   "metadata": {
    "button": false,
    "new_sheet": false,
    "run_control": {
     "read_only": false
    }
   },
   "outputs": [],
   "source": [
    "def plus_ten(list_nums):\n",
    "    ten_list = []\n",
    "    for num in list_nums:\n",
    "        ten_list.append(num+10)\n",
    "    return ten_list\n",
    "    \n",
    "\n",
    "##### Enter your code above, testing code below #####\n",
    "list_nums = [12, 2, 5, 7, 9, 14, 15]\n",
    "print(plus_ten(list_nums))"
   ]
  },
  {
   "cell_type": "markdown",
   "metadata": {
    "button": false,
    "new_sheet": false,
    "run_control": {
     "read_only": false
    }
   },
   "source": [
    "<hr>\n",
    "\n",
    "\n",
    "#### b. Write a function `list_of_word_lens()` that takes in a list of strings and returns a list of the each word length\n",
    "* Print the value returned by the function\n",
    "* expected result: `[10, 4, 8, 6, 6]`"
   ]
  },
  {
   "cell_type": "code",
   "execution_count": null,
   "metadata": {
    "button": false,
    "new_sheet": false,
    "run_control": {
     "read_only": false
    }
   },
   "outputs": [],
   "source": [
    "def list_of_word_lens(list_nums):\n",
    "    word_len = []\n",
    "    for word in list_nums:\n",
    "        word_len.append(len(word))\n",
    "    return word_len\n",
    "    \n",
    "##### Enter your code above, testing code below #####\n",
    "list_nums = ['hot coffee', 'milk', 'cinnamon', 'nutmeg', 'ginger']\n",
    "print(list_of_word_lens(list_nums))"
   ]
  },
  {
   "cell_type": "markdown",
   "metadata": {
    "button": false,
    "new_sheet": false,
    "run_control": {
     "read_only": false
    }
   },
   "source": [
    "<hr>\n",
    "\n",
    "<hr>\n",
    "\n",
    "### SA:Q3 Dictionaries and Strings\n",
    "* This challenge involves writing functions that use dictionaries\n",
    "* To learn more about dictionaries, [Read the Python 3 docs on dictionaries](https://docs.python.org/3/tutorial/datastructures.html#dictionaries)"
   ]
  },
  {
   "cell_type": "markdown",
   "metadata": {
    "button": false,
    "new_sheet": false,
    "run_control": {
     "read_only": false
    }
   },
   "source": [
    "<hr>\n",
    "\n",
    "#### a. Write a function `lower_first_rest_upper()` that takes a string as input and returns a string where the first letter of each word is lowercase, and the rest of the word is uppercase\n",
    "* You will likely to use `string` methods:\n",
    "    * `string.lower()`\n",
    "    * `string.upper()`\n",
    "* Print the result of your function call\n",
    "* expected result: `fAVARTIA pERITA iS a sPECIES oF sEA sNAIL`"
   ]
  },
  {
   "cell_type": "code",
   "execution_count": null,
   "metadata": {
    "button": false,
    "new_sheet": false,
    "run_control": {
     "read_only": false
    }
   },
   "outputs": [],
   "source": [
    "string_to_mod = 'Favartia perita is a species of sea snail'\n",
    "\n",
    "#########  Complete the Code Below ###########\n",
    "def lower_first_rest_upper(string_to_mod):\n",
    "    s_ = string_to_mod.upper().split()\n",
    "    st = ''\n",
    "    for word in s_:\n",
    "        wor = word[0].lower()\n",
    "        st += wor + word[1:] + ' '\n",
    "    return st\n",
    "\n",
    "#this was also done with .title() and .swapcase()  \n",
    "\n",
    "######## Test your Code Below ###########\n",
    "print(lower_first_rest_upper(string_to_mod))"
   ]
  },
  {
   "cell_type": "markdown",
   "metadata": {
    "button": false,
    "new_sheet": false,
    "run_control": {
     "read_only": false
    }
   },
   "source": [
    "<hr>\n",
    "\n",
    "#### b. Write a function `letter_counter()` that takes a string as input and returns a dictionary associating letters with the count of that letter's occurrence\n",
    "* Note that we are using a DOCSTRING to describe the function's behavior\n",
    "* Print the dictionary returned by the function\n",
    "* expected result: `{'a': 36, 'e': 50, 'i': 30, 'o': 31, 'u': 9, 'n': 28}`"
   ]
  },
  {
   "cell_type": "code",
   "execution_count": null,
   "metadata": {
    "button": false,
    "new_sheet": false,
    "run_control": {
     "read_only": false
    }
   },
   "outputs": [],
   "source": [
    "paragraph_to_read = '''\n",
    "Kepler-20f (also known by its Kepler Object of Interest \n",
    "designation KOI-70.05) is an exoplanet orbiting the \n",
    "Sun-like star Kepler-20, the second outermost of five \n",
    "such planets discovered by NASA's Kepler spacecraft. \n",
    "It is located approximately 929 light-years \n",
    "(285 parsecs, or about 8.988*1015 km) from Earth in \n",
    "the constellation Lyra. The exoplanet was found by \n",
    "using the transit method, in which the dimming effect \n",
    "that a planet causes as it crosses in front of its star \n",
    "is measured. The planet is notable as it has the \n",
    "closest radius to Earth known so far.\n",
    "'''\n",
    "\n",
    "#########  Complete the Function Code Below ###########\n",
    "def letter_counter(paragraph, letters_to_count):\n",
    "    '''\n",
    "    Returns the number of times a list of specified\n",
    "    letters appear in a string. The count should be\n",
    "    case-insensitive\n",
    "    \n",
    "    PARAMETERS\n",
    "    ----------\n",
    "    paragraph: str\n",
    "        A potentially multi-line string\n",
    "    letters_to_count: list of strings\n",
    "        A list of letters\n",
    "        \n",
    "    RETURNS\n",
    "    -------\n",
    "    letter_dict: dict\n",
    "        - key: letter\n",
    "        - value: the count of that letter in the \n",
    "                 paragraph\n",
    "                 \n",
    "    EXAMPLE\n",
    "    -------\n",
    "    ```\n",
    "    This is the string of interest. Count the vowels!\n",
    "    ```\n",
    "    >>> letter_counter(example_string, [a,e,i,o,u])\n",
    "    {'a':0, 'e':5, 'i':4, 'o':3, 'u':1}\n",
    "    '''\n",
    "    \n",
    "    letter_dict = {'a': 0, 'e': 0, 'i': 0, 'o': 0, 'u': 0,'n': 0}\n",
    "    for let in paragraph_to_read.lower():\n",
    "        if let in letter_dict.keys():\n",
    "            letter_dict[let] += 1\n",
    "    return letter_dict\n",
    "                \n",
    "\n",
    "\n",
    "######## Test your Code Below ###########\n",
    "print(letter_counter(paragraph_to_read, ['a','e','i','o','u', 'n']))"
   ]
  },
  {
   "cell_type": "markdown",
   "metadata": {
    "button": false,
    "new_sheet": false,
    "run_control": {
     "read_only": false
    }
   },
   "source": [
    "<hr>\n",
    "\n",
    "#### c. (OPTIONAL EXTRA CREDIT) Write a function `word_permutations_dict()` that takes a string as input and returns a dictionary where the keys are every word in the input string, and the values are lists containing strings of every permutation of letters of that word\n",
    "* **DO NOT use an import of a permutations method here, implement an algorithm!**\n",
    "    * You will likely want to use [Heap's Algorithm](https://en.wikipedia.org/wiki/Heap%27s_algorithm) to generate your permutations, although there are multiple other algorithms to accomplish this task.\n",
    "* You may want to use a helper function\n",
    "* When you test your function, it will be more helpful to print the lengths of the lists for each key in the dictionary instead of printing the lists themselves.\n",
    "    * expected result:\n",
    "           moths : 120 permutations\n",
    "           are : 6 permutations\n",
    "           insect : 720 permutations\n",
    "           teddy : 60 permutations\n",
    "           bears : 120 permutations\n",
    "    * Hint:\n",
    "        * What happens if you have repeated letters in a word?"
   ]
  },
  {
   "cell_type": "code",
   "execution_count": null,
   "metadata": {
    "button": false,
    "new_sheet": false,
    "run_control": {
     "read_only": false
    },
    "scrolled": false
   },
   "outputs": [],
   "source": [
    "test_string = 'moths are insect teddy bears'\n",
    "\n",
    "#########  Complete your Function Code Below ###########\n",
    "\n",
    "def word_permutations_dict(input_string):\n",
    "    '''\n",
    "    Returns a dictionary containing lists of permutations of every word of an input string.      Assume the length of the permutation is all letters in that given word. Assume no            punctuation in the string and that words are separated by spaces. Assume all letters         are lower case.\n",
    "    \n",
    "    PARAMETERS\n",
    "    ----------\n",
    "    input_string: str\n",
    "            \n",
    "    RETURNS\n",
    "    -------\n",
    "    letter_dict: dict\n",
    "        - key: word\n",
    "        - value: list of permutations of that word\n",
    "                 \n",
    "    EXAMPLE\n",
    "    -------\n",
    "    ```\n",
    "    some_string = 'art bib'\n",
    "    ```\n",
    "    >>> word_permutations_dict(some_string)\n",
    "    {'art': ['rta', 'tra', 'tar', 'rat', 'art', 'atr'],\n",
    "     'bib': ['bbi', 'bib', 'ibb']}\n",
    "    '''\n",
    "   \n",
    "######## Test your Code Below ###########\n",
    "perms_dict = word_permutations_dict(test_string)\n",
    "for k,v in perms_dict.items():\n",
    "    print('{} : {} permutations'.format(k, len(v)))"
   ]
  },
  {
   "cell_type": "markdown",
   "metadata": {
    "button": false,
    "new_sheet": false,
    "run_control": {
     "read_only": false
    }
   },
   "source": [
    "<hr>\n",
    "\n",
    "<hr>\n",
    "\n",
    "<hr>\n",
    "\n",
    "\n",
    "\n",
    "# Section B: Probability and Statistics\n",
    "* complete each problem below according to the instructions"
   ]
  },
  {
   "cell_type": "markdown",
   "metadata": {
    "button": false,
    "new_sheet": false,
    "run_control": {
     "read_only": false
    }
   },
   "source": [
    "<hr>\n",
    "\n",
    "<hr>\n",
    "\n",
    "### SB:Q1 Descriptive Statistics\n",
    "* In this section, you will implement functions to describe data that is input.\n",
    "* [Khan Academy Course on Summarizing Quantitative Data](https://www.khanacademy.org/math/statistics-probability/summarizing-quantitative-data)\n",
    "* **DO NOT USE SPECIFIC IMPORTED FUNCTIONS**\n",
    "    * You are welcome to use vectorized math with the [numpy.array object](https://docs.scipy.org/doc/numpy/reference/generated/numpy.array.html), which is completely fine and encouraged. However, you should implement any measurement functions yourself and not import any specific, precoded metric functions."
   ]
  },
  {
   "cell_type": "markdown",
   "metadata": {
    "button": false,
    "new_sheet": false,
    "run_control": {
     "read_only": false
    }
   },
   "source": [
    "<hr>\n",
    "\n",
    "#### a. Write a function `central_tendencies` that returns the mean, median and mode of a list of numbers\n",
    "* Print the output from the function:\n",
    "    * expected result: `(5.933333333333334, 6.0, 1.0)`"
   ]
  },
  {
   "cell_type": "code",
   "execution_count": null,
   "metadata": {
    "button": false,
    "new_sheet": false,
    "run_control": {
     "read_only": false
    }
   },
   "outputs": [],
   "source": [
    "def central_tendencies(num_list):\n",
    "    '''\n",
    "    Returns the mean, median and mode\n",
    "    of a list of numbers\n",
    "    \n",
    "    PARAMETERS\n",
    "    ----------\n",
    "    num_list: list of ints\n",
    "        \n",
    "    RETURNS\n",
    "    -------\n",
    "    central_vals: tuple of len=3\n",
    "        mean: float\n",
    "            the arithmetic mean of the num_list\n",
    "\n",
    "        median: float\n",
    "            the median value in the num_list\n",
    "\n",
    "        mode: float\n",
    "            the most common value in the num_list\n",
    "            assume only one mode in the distribution\n",
    "        \n",
    "    EXAMPLE\n",
    "    -------\n",
    "    ```\n",
    "    nums = [2, 2, 3, 4, 5]\n",
    "    ```\n",
    "    >>> central_tendencies(nums)\n",
    "    (3.2, 3.0, 2.0)\n",
    "    '''\n",
    "    mean = sum(num_list) / len(num_list)\n",
    "    if len(num_list) % 2 == 1:\n",
    "        ind = len(num_list) // 2\n",
    "        median = num_list[ind]\n",
    "    elif len(num_list) % 2 == 0:\n",
    "        ind1 = len(num_list) / 2\n",
    "        ind2 = (len(num_list) / 2) - 1\n",
    "        median = num_list[ind1] / num_list[ind2]\n",
    "\n",
    "    for n in num_list:\n",
    "       mode = max([num_list.count(n)]) \n",
    "\n",
    "    return mean, median, mode\n",
    "    \n",
    "    \n",
    "\n",
    "\n",
    "######## Test your Code Below ###########\n",
    "nums = [1,1,1,2,3,4,5,6,7,8,9,9,10,11,12]\n",
    "print(central_tendencies(nums))"
   ]
  },
  {
   "cell_type": "markdown",
   "metadata": {
    "button": false,
    "new_sheet": false,
    "run_control": {
     "read_only": false
    }
   },
   "source": [
    "<hr>\n",
    "\n",
    "#### b. Write a function `distr_spread()` that returns the range, variance, and standard deviation of a list of numbers\n",
    "* Hints: \n",
    "    * You can call your previous function \n",
    "    * You may want to import the python `math` module \n",
    "        * read about the `math` module [here](https://docs.python.org/3/library/math.html)\n",
    "* Print the output from the function:\n",
    "    * expected result: `(11, 14.638095238095238, 3.8259763770958175)`"
   ]
  },
  {
   "cell_type": "code",
   "execution_count": null,
   "metadata": {
    "button": false,
    "new_sheet": false,
    "run_control": {
     "read_only": false
    }
   },
   "outputs": [],
   "source": [
    "import math\n",
    "\n",
    "def distr_spread(num_list):\n",
    "    '''\n",
    "    Returns the range, sample variance, and sample standard deviation\n",
    "    \n",
    "    PARAMETERS\n",
    "    ----------\n",
    "    num_list: list of ints\n",
    "        \n",
    "    RETURNS\n",
    "    -------\n",
    "    spread_vals: tuple of len=3\n",
    "        samp_range: float\n",
    "            the span of values in the data\n",
    "\n",
    "        samp_variance: float\n",
    "            the median value in the num_list\n",
    "\n",
    "        samp_std: float\n",
    "            the most common value in the num_list\n",
    "            assume only one mode in the distribution\n",
    "        \n",
    "    EXAMPLE\n",
    "    -------\n",
    "    ```\n",
    "    nums = [2, 2, 3, 4, 5]\n",
    "    ```\n",
    "    >>> distr_spread(nums)\n",
    "    (3, 1.7, 1.3038404810405297)\n",
    "    '''\n",
    "    call =  central_tendencies(num_list)\n",
    "    samp_range = max(num_list) - min(num_list)\n",
    "    samp = 0\n",
    "    for item in num_list:\n",
    "        samp += (item - call[0])**2\n",
    "    samp_variance = samp / (len(num_list) - 1)\n",
    "    \n",
    "    samp_std = samp_variance**0.5\n",
    "        \n",
    "    return samp_range, samp_variance, samp_std\n",
    "\n",
    "\n",
    "######## Test your Code Below ###########\n",
    "nums = [1,1,1,2,3,4,5,6,7,8,9,9,10,11,12]\n",
    "print(distr_spread(nums))\n"
   ]
  },
  {
   "cell_type": "markdown",
   "metadata": {
    "button": false,
    "new_sheet": false,
    "run_control": {
     "read_only": false
    }
   },
   "source": [
    "<hr>\n",
    "\n",
    "#### c. Write a function `get_mse()` that returns the Mean Squared Error between two lists of numbers\n",
    "* Note: We are referring to MSE in the context of the of the sum of squared difference between actual observations and the observations predicted by a model.\n",
    "* Print the output from the function:\n",
    "    * expected result: `2.2666666666666666`"
   ]
  },
  {
   "cell_type": "code",
   "execution_count": null,
   "metadata": {
    "button": false,
    "new_sheet": false,
    "run_control": {
     "read_only": false
    }
   },
   "outputs": [],
   "source": [
    "def get_mse(actual, predictions):\n",
    "    '''\n",
    "    Returns the Mean Squared Error between\n",
    "    two lists\n",
    "    \n",
    "    PARAMETERS\n",
    "    ----------\n",
    "    actual: list of ints\n",
    "    \n",
    "    predictions: list of ints\n",
    "        \n",
    "    RETURNS\n",
    "    -------\n",
    "    mse: float\n",
    "        Representing the average of the sum\n",
    "        of squared errors between two lists\n",
    "        \n",
    "    EXAMPLE\n",
    "    -------\n",
    "    ```\n",
    "    nums1 = [2, 2, 3, 4, 5]\n",
    "    nums2 = [3, 3, 3, 5, 5]\n",
    "    ```\n",
    "    >>> get_mse(nums)\n",
    "    0.6\n",
    "    '''\n",
    "    squ_sum_me = 0\n",
    "    if len(actual) == len(predictions):\n",
    "        for i, j in enumerate(actual):\n",
    "            diff = actual[i] - predictions[i]\n",
    "            squ_sum_me += diff**2\n",
    "            mse =  squ_sum_me / len(actual)\n",
    "        return mse\n",
    "    \n",
    "\n",
    "######## Test your Code Below ###########\n",
    "actual = [1,1,1,2,3,4,5,6,7,8,9,9,10,11,12]\n",
    "predictions = [2,2,2,3,4,5,6,7,8,9,10,10,8,14,15]\n",
    "print(get_mse(actual, predictions))\n"
   ]
  },
  {
   "cell_type": "markdown",
   "metadata": {
    "button": false,
    "new_sheet": false,
    "run_control": {
     "read_only": false
    }
   },
   "source": [
    "<hr>\n",
    "\n",
    "#### d. Write a function `sigmoid_logistic()` that returns $f(x)$ for the sigmoid/logistic function $f(x)=\\frac{1}{1+e^{-x}}$,  as well as 0 or 1 based on the setting of a threshold \n",
    "* The Logistic Function will come up a lot in terms of Logistic Regression.\n",
    "* You can get Euler's number $e$ from the `math` module.\n",
    "* Print the output from the function:\n",
    "    * expected result: `(0.7310585786300049, 1)`"
   ]
  },
  {
   "cell_type": "code",
   "execution_count": null,
   "metadata": {
    "button": false,
    "new_sheet": false,
    "run_control": {
     "read_only": false
    }
   },
   "outputs": [],
   "source": [
    "import math\n",
    "\n",
    "def sigmoid_logistic(x, threshold):\n",
    "    '''\n",
    "    Returns the output of the sigmoid logistic function and 0 or 1 based on a given              threshold.\n",
    "    \n",
    "    PARAMETERS\n",
    "    ----------\n",
    "    x: number\n",
    "        Input to the sigmoid/logistic function\n",
    "    \n",
    "    threshold: float\n",
    "        value between 0 and 1 that dictates\n",
    "        threshold\n",
    "        \n",
    "    RETURNS\n",
    "    -------\n",
    "    tuple:\n",
    "        f_of_x: float\n",
    "            Representing the output of the \n",
    "            sigmoid function\n",
    "            \n",
    "        threshed: int\n",
    "            0 or 1, based on the given\n",
    "            result of f_of_x being above\n",
    "            or below the threshold\n",
    "        \n",
    "    EXAMPLE\n",
    "    -------\n",
    "    ```\n",
    "    x = -9\n",
    "    threshold = 0.4\n",
    "    ```\n",
    "    >>> sigmoid_logistic(x, threshold)\n",
    "    (0.00012339457598623172, 0)\n",
    "    '''\n",
    "    if threshold >= 0.5:\n",
    "        return 1 / (1 + (math.e**-x)), 1\n",
    "    else:\n",
    "        return 1 / (1 + (math.e**-x)), 0\n",
    "            \n",
    "######## Test your Code Below ###########\n",
    "x = 1\n",
    "threshold = 0.73\n",
    "print(sigmoid_logistic(x, threshold))"
   ]
  },
  {
   "cell_type": "markdown",
   "metadata": {
    "button": false,
    "new_sheet": false,
    "run_control": {
     "read_only": false
    }
   },
   "source": [
    "<hr>\n",
    "\n",
    "<hr>\n",
    "\n",
    "### SB:Q2 Probability and Bayes Theorem\n",
    "* In this section, you will fill in markdown cells with responses to probability problems.\n",
    "    * You should also write a brief justification for your numerical response.\n",
    "* You should perform any calculations using Python in the code cells immediately above the markdown cell.\n",
    "* For a review of probability, see \n",
    "    * [Khan Academy](https://www.khanacademy.org/math/precalculus/prob-comb)\n",
    "    * [Interactive Mathematics](https://www.intmath.com/counting-probability/counting-probability-intro.php)"
   ]
  },
  {
   "cell_type": "markdown",
   "metadata": {
    "button": false,
    "new_sheet": false,
    "run_control": {
     "read_only": false
    }
   },
   "source": [
    "<hr>\n",
    "\n",
    "#### a. Permutations\n",
    "* [Related KA Practice Problems](https://www.khanacademy.org/math/precalculus/prob-comb/combinatorics-precalc/e/permutations_1)\n",
    "* [Related IM Practice Problems](https://www.intmath.com/counting-probability/3-permutations.php)"
   ]
  },
  {
   "cell_type": "markdown",
   "metadata": {
    "button": false,
    "new_sheet": false,
    "run_control": {
     "read_only": false
    }
   },
   "source": [
    "1. How many ways can you arrange the numbers 1, 2, 3, 4 and 5?"
   ]
  },
  {
   "cell_type": "code",
   "execution_count": null,
   "metadata": {
    "button": false,
    "collapsed": true,
    "new_sheet": false,
    "run_control": {
     "read_only": false
    }
   },
   "outputs": [],
   "source": [
    "# perform any calculations here\n",
    "def factorial(n):\n",
    "    fact = 1\n",
    "    for i in range(2, n + 1):\n",
    "        fact *= i\n",
    "    return fact\n",
    "print(factorial(5))"
   ]
  },
  {
   "cell_type": "markdown",
   "metadata": {
    "button": false,
    "new_sheet": false,
    "run_control": {
     "read_only": false
    }
   },
   "source": [
    "```\n",
    "120. 5 choices for the 1st spot...4 for the 2nd..3 for the 3rd...2 for the 4th...and the last for the 5th\n",
    "\n",
    "```"
   ]
  },
  {
   "cell_type": "markdown",
   "metadata": {
    "button": false,
    "new_sheet": false,
    "run_control": {
     "read_only": false
    }
   },
   "source": [
    "2. How many ways can you arrange 1, 1, 2, 3, 4?\n"
   ]
  },
  {
   "cell_type": "code",
   "execution_count": null,
   "metadata": {
    "button": false,
    "collapsed": true,
    "new_sheet": false,
    "run_control": {
     "read_only": false
    }
   },
   "outputs": [],
   "source": [
    "# perform any calculations here\n",
    "def permutations(n, k):\n",
    "    return factorial(n) / factorial(n-k)\n",
    "print(permutations(5,5))"
   ]
  },
  {
   "cell_type": "markdown",
   "metadata": {
    "button": false,
    "new_sheet": false,
    "run_control": {
     "read_only": false
    }
   },
   "source": [
    "```\n",
    "120. 5 nums from which to choose.4 unique\n",
    "\n",
    "```"
   ]
  },
  {
   "cell_type": "markdown",
   "metadata": {
    "button": false,
    "new_sheet": false,
    "run_control": {
     "read_only": false
    }
   },
   "source": [
    "3. How many ways can you arrange two 3s and three 5s?"
   ]
  },
  {
   "cell_type": "code",
   "execution_count": null,
   "metadata": {
    "button": false,
    "collapsed": true,
    "new_sheet": false,
    "run_control": {
     "read_only": false
    }
   },
   "outputs": [],
   "source": [
    "# perform any calculations here\n",
    "print(permutations(5, 5))"
   ]
  },
  {
   "cell_type": "markdown",
   "metadata": {
    "button": false,
    "new_sheet": false,
    "run_control": {
     "read_only": false
    }
   },
   "source": [
    "```\n",
    "120. again 5 numbers, therefore 2 are unique\n",
    "```"
   ]
  },
  {
   "cell_type": "markdown",
   "metadata": {
    "button": false,
    "new_sheet": false,
    "run_control": {
     "read_only": false
    }
   },
   "source": [
    "<hr>\n",
    "\n",
    "#### b. Combinations\n",
    "* [Related KA Practice Problems](https://www.khanacademy.org/math/precalculus/prob-comb/combinations/e/combinations_1)\n",
    "* [Related IM Practice Problems](https://www.intmath.com/counting-probability/4-combinations.php)"
   ]
  },
  {
   "cell_type": "markdown",
   "metadata": {
    "button": false,
    "new_sheet": false,
    "run_control": {
     "read_only": false
    }
   },
   "source": [
    "1. How many different poker hands (5 cards) can you have? A deck holds 52 cards"
   ]
  },
  {
   "cell_type": "code",
   "execution_count": null,
   "metadata": {
    "button": false,
    "collapsed": true,
    "new_sheet": false,
    "run_control": {
     "read_only": false
    }
   },
   "outputs": [],
   "source": [
    "# perform any calculations here\n",
    "def combinations(n,k):\n",
    "    return factorial(n) / (factorial(n-k)*factorial(k))\n",
    "print(combinations(52,5))"
   ]
  },
  {
   "cell_type": "markdown",
   "metadata": {
    "button": false,
    "new_sheet": false,
    "run_control": {
     "read_only": false
    }
   },
   "source": [
    "```\n",
    "2598960. there are 52! totaly ways, but we only want 5 cards and also need to get rid of the repeats. there are several ways to get 4 of a kind 3 of a kind full house, royal flush...etc...\n",
    "\n",
    "```"
   ]
  },
  {
   "cell_type": "markdown",
   "metadata": {
    "button": false,
    "new_sheet": false,
    "run_control": {
     "read_only": false
    }
   },
   "source": [
    "2. There are five flavors of ice cream: Chocolate, Vanilla, Pistachio, Strawberry, and Mint. How\n",
    "many three scoop ice-creams can you make if all the scoops must be different flavors?"
   ]
  },
  {
   "cell_type": "code",
   "execution_count": null,
   "metadata": {
    "button": false,
    "collapsed": true,
    "new_sheet": false,
    "run_control": {
     "read_only": false
    }
   },
   "outputs": [],
   "source": [
    "# perform any calculations here\n",
    "def combinations(n,k):\n",
    "    return factorial(n) / (factorial(n-k)*factorial(k))\n",
    "print(combinations(5,3))"
   ]
  },
  {
   "cell_type": "markdown",
   "metadata": {
    "button": false,
    "new_sheet": false,
    "run_control": {
     "read_only": false
    }
   },
   "source": [
    "```\n",
    "10. there are 5 total flavors but we want to choose 3 distinct flavors..in other words matters because we don't want repeats.\n",
    "```"
   ]
  },
  {
   "cell_type": "markdown",
   "metadata": {
    "button": false,
    "new_sheet": false,
    "run_control": {
     "read_only": false
    }
   },
   "source": [
    "<hr>\n",
    "\n",
    "#### c. Probability of an Event\n",
    "* [Related IM Practice Problems 1](https://www.intmath.com/counting-probability/6-probability-event.php)\n",
    "* [Related IM Practice Problems 2](https://www.intmath.com/counting-probability/poker.php)"
   ]
  },
  {
   "cell_type": "markdown",
   "metadata": {
    "button": false,
    "new_sheet": false,
    "run_control": {
     "read_only": false
    }
   },
   "source": [
    "1. In a deck of cards (52 cards), what’s the probability of picking a queen? A heart? Of picking a\n",
    "card that’s not a queen nor a heart?"
   ]
  },
  {
   "cell_type": "code",
   "execution_count": null,
   "metadata": {
    "button": false,
    "collapsed": true,
    "new_sheet": false,
    "run_control": {
     "read_only": false
    }
   },
   "outputs": [],
   "source": [
    "# perform any calculations here\n",
    "print(4/52)\n",
    "print(13/52)\n",
    "print(36/52)"
   ]
  },
  {
   "cell_type": "markdown",
   "metadata": {
    "button": false,
    "new_sheet": false,
    "run_control": {
     "read_only": false
    }
   },
   "source": [
    "```\n",
    "queen: 0.07692307692307693, there are 4 queens in a 52 card deck\n",
    "heart: 0.25, there are 13 hearts in a 52 card deck\n",
    "not a queen nor a heart: 0.6923076923076923, there are 13 hearts, 4 queens but one of those hearts is a queen so 13 + 3 = 1 - 16/52 or 36/52\n",
    "```"
   ]
  },
  {
   "cell_type": "markdown",
   "metadata": {
    "button": false,
    "new_sheet": false,
    "run_control": {
     "read_only": false
    }
   },
   "source": [
    "2. If I do not replace the cards, what is the probability of picking 2 kings? 4 diamonds? How do these\n",
    "probabilities evolve if I replace the cards after each draw?"
   ]
  },
  {
   "cell_type": "code",
   "execution_count": null,
   "metadata": {
    "button": false,
    "collapsed": true,
    "new_sheet": false,
    "run_control": {
     "read_only": false
    }
   },
   "outputs": [],
   "source": [
    "# perform any calculations here\n",
    "print(4/52 * 3/52)\n",
    "print((13/52) * (12/52) * (11/52) * (10/52))"
   ]
  },
  {
   "cell_type": "markdown",
   "metadata": {
    "button": false,
    "new_sheet": false,
    "run_control": {
     "read_only": false
    }
   },
   "source": [
    "```\n",
    "2 kings: 0.004437869822485207; 1st king is 4/52 and 2nd king is 4/52 because you don't replace. multiple them\n",
    "4 diamonds: 0.0023469503868912152; 1st diamond is 13/52, 2nd is 12/52, 3rd is 11/52, 4th is 10/52. multiply them\n",
    "if you replace the cards after each draw then it becomes; 4/52 * 4/52 and 13/52 * 13/52 * 13/52 * 13/52\n",
    "```"
   ]
  },
  {
   "cell_type": "markdown",
   "metadata": {
    "button": false,
    "new_sheet": false,
    "run_control": {
     "read_only": false
    }
   },
   "source": [
    "<hr>\n",
    "\n",
    "#### d. Independent and Dependent Events\n",
    "* [Related IM Practice Problem](https://www.intmath.com/counting-probability/8-independent-dependent-events.php)"
   ]
  },
  {
   "cell_type": "markdown",
   "metadata": {
    "button": false,
    "new_sheet": false,
    "run_control": {
     "read_only": false
    }
   },
   "source": [
    "1. The table below represents the number of kids dressed as pumpkins or ghosts on Halloween\n",
    "night and the amount of candy they received:\n",
    "\n",
    "| Amount of Candy | Less than 10 | 10-20 | 20-30 | Greater than 30 |\n",
    "|-----------------|:------------:|------:|-------|-----------------|\n",
    "| Pumpkins        |       5      |    10 | 60    | 25              |\n",
    "| Ghosts          |      15      |    40 | 80    | 15              |"
   ]
  },
  {
   "cell_type": "markdown",
   "metadata": {
    "button": false,
    "new_sheet": false,
    "run_control": {
     "read_only": false
    }
   },
   "source": [
    "> 1a.  What is the probability that a kid dressed as a pumpkin gets 20 or more pieces of candy?\n",
    "What about if they dress like a ghost?"
   ]
  },
  {
   "cell_type": "code",
   "execution_count": null,
   "metadata": {
    "button": false,
    "collapsed": true,
    "new_sheet": false,
    "run_control": {
     "read_only": false
    }
   },
   "outputs": [],
   "source": [
    "# perform any calculations here\n",
    "#P(A|B) = P(AB) / P(B)\n",
    "#P(B) = a pumpkin = 100 / 250\n",
    "#P(AB) = intersect of pumpkin and >20 pieces = 85 / 280\n",
    "def dep(Pb, Pab):\n",
    "    return Pab / Pb\n",
    "print(dep(100/250, 85/250))\n",
    "print(dep(150/250, 95/250))"
   ]
  },
  {
   "cell_type": "markdown",
   "metadata": {
    "button": false,
    "new_sheet": false,
    "run_control": {
     "read_only": false
    }
   },
   "source": [
    "```\n",
    "0.85\n",
    "0.6333333333333334\n",
    "\n",
    "```"
   ]
  },
  {
   "cell_type": "markdown",
   "metadata": {
    "button": false,
    "new_sheet": false,
    "run_control": {
     "read_only": false
    }
   },
   "source": [
    "> 1b.  What is the probability that a kid obtains less than 10 pieces of candy?"
   ]
  },
  {
   "cell_type": "code",
   "execution_count": null,
   "metadata": {
    "button": false,
    "collapsed": true,
    "new_sheet": false,
    "run_control": {
     "read_only": false
    }
   },
   "outputs": [],
   "source": [
    "# perform any calculations here\n",
    "#P(A) = amount of kids that got < 10 pieces / total amount of kids\n",
    "def indep(a,b):\n",
    "    return a / b\n",
    "print(indep(20, 250))"
   ]
  },
  {
   "cell_type": "markdown",
   "metadata": {
    "button": false,
    "new_sheet": false,
    "run_control": {
     "read_only": false
    }
   },
   "source": [
    "```\n",
    "0.08\n",
    "\n",
    "```"
   ]
  },
  {
   "cell_type": "markdown",
   "metadata": {
    "button": false,
    "new_sheet": false,
    "run_control": {
     "read_only": false
    }
   },
   "source": [
    "> 1c.   What is the probability that two siblings, one dressed as a ghost and one dressed as a\n",
    "pumpkin, each receive 20 to 30 pieces of candy?"
   ]
  },
  {
   "cell_type": "code",
   "execution_count": null,
   "metadata": {
    "button": false,
    "collapsed": true,
    "new_sheet": false,
    "run_control": {
     "read_only": false
    }
   },
   "outputs": [],
   "source": [
    "# perform any calculations here\n",
    "print(dep(100/250, 60/250)*dep(150/250, 80/250))"
   ]
  },
  {
   "cell_type": "markdown",
   "metadata": {
    "button": false,
    "new_sheet": false,
    "run_control": {
     "read_only": false
    }
   },
   "source": [
    "```\n",
    "0.32\n",
    "\n",
    "```"
   ]
  },
  {
   "cell_type": "markdown",
   "metadata": {
    "button": false,
    "new_sheet": false,
    "run_control": {
     "read_only": false
    }
   },
   "source": [
    "2. You toss a fair die twice. What is the probability of getting less than 3 on the first toss and an\n",
    "even number on the second?"
   ]
  },
  {
   "cell_type": "code",
   "execution_count": null,
   "metadata": {
    "button": false,
    "collapsed": true,
    "new_sheet": false,
    "run_control": {
     "read_only": false
    }
   },
   "outputs": [],
   "source": [
    "# perform any calculations here\n",
    "print((2/6) * (3/6))"
   ]
  },
  {
   "cell_type": "markdown",
   "metadata": {
    "button": false,
    "new_sheet": false,
    "run_control": {
     "read_only": false
    }
   },
   "source": [
    "```\n",
    "0.16666666666666666, 2/6 chance of getting less than 3 * 3/6 chance of getting an even\n",
    "\n",
    "```"
   ]
  },
  {
   "cell_type": "markdown",
   "metadata": {
    "button": false,
    "new_sheet": false,
    "run_control": {
     "read_only": false
    }
   },
   "source": [
    "<hr>\n",
    "\n",
    "#### e. Bayes' Theorem\n",
    "* Related Links:\n",
    "    * [Bayes Intuition](https://betterexplained.com/articles/an-intuitive-and-short-explanation-of-bayes-theorem/)\n",
    "    * [Interactive Bayes](http://rpsychologist.com/d3/bayes/)\n",
    "    * [Related IM Practice Problems](https://www.intmath.com/counting-probability/10-bayes-theorem.php)\n",
    "    * [Related KA Practice Problems](https://www.khanacademy.org/math/ap-statistics/probability-ap/stats-conditional-probability/e/calculating-conditional-probability)"
   ]
  },
  {
   "cell_type": "markdown",
   "metadata": {
    "button": false,
    "new_sheet": false,
    "run_control": {
     "read_only": false
    }
   },
   "source": [
    "1. You run the appliance department at your local ACME Superstore. Your toaster\n",
    "inventory is evenly split between those produced by the ACME corporation and General\n",
    "Products. ACME-branded toasters have a history of failing 9% of the time before the end\n",
    "of the warranty where as the General Products’ toasters fail 3% of the time before the\n",
    "end of the warranty."
   ]
  },
  {
   "cell_type": "markdown",
   "metadata": {
    "button": false,
    "new_sheet": false,
    "run_control": {
     "read_only": false
    }
   },
   "source": [
    "> 1a. A customer walks in with a broken toaster that they bought at your store, what is\n",
    "the probability that their toaster was made by ACME?"
   ]
  },
  {
   "cell_type": "code",
   "execution_count": null,
   "metadata": {
    "button": false,
    "collapsed": true,
    "new_sheet": false,
    "run_control": {
     "read_only": false
    },
    "tags": []
   },
   "outputs": [],
   "source": [
    "# perform any calculations here\n",
    "#P(A | B) = (P(B | A) * P(A)) / P(B)\n",
    "#P(A | B) = made by acme given it's broken\n",
    "#P(B | A) = broken given from acme \n",
    "#P(A) = from acme\n",
    "#P(B) = it is broken = P(A)*P(B|A) + P(not A)*P(B|not A) = (from acme * broken given acme) + (not acme * broken given not acme)\n",
    "def bayes(Pa, Pba, Pna, Pbna):\n",
    "    Pb = (Pa * Pba) + (Pna * Pbna)\n",
    "    return (Pba * Pa) / Pb\n",
    "print(bayes(0.50, 0.2, 0.50, 0.6))"
   ]
  },
  {
   "cell_type": "markdown",
   "metadata": {
    "button": false,
    "new_sheet": false,
    "run_control": {
     "read_only": false
    }
   },
   "source": [
    "```\n",
    "0.75\n",
    "\n",
    "```"
   ]
  },
  {
   "cell_type": "markdown",
   "metadata": {
    "button": false,
    "new_sheet": false,
    "run_control": {
     "read_only": false
    }
   },
   "source": [
    "> 1b. You make changes to your inventory such that you now have 2 ACME toasters\n",
    "for every 3 toasters made by General Products. Using the same scenario as\n",
    "question 1, what is the probability that the toaster brought in by the customer was\n",
    "made by ACME?"
   ]
  },
  {
   "cell_type": "code",
   "execution_count": null,
   "metadata": {
    "button": false,
    "collapsed": true,
    "new_sheet": false,
    "run_control": {
     "read_only": false
    }
   },
   "outputs": [],
   "source": [
    "# perform any calculations here\n",
    "print(bayes(0.40, 0.09, 0.60, 0.03))"
   ]
  },
  {
   "cell_type": "markdown",
   "metadata": {
    "button": false,
    "new_sheet": false,
    "run_control": {
     "read_only": false
    }
   },
   "source": [
    "```\n",
    "0.6666666666666667\n",
    "\n",
    "```"
   ]
  },
  {
   "cell_type": "markdown",
   "metadata": {
    "button": false,
    "new_sheet": false,
    "run_control": {
     "read_only": false
    }
   },
   "source": [
    "2. They say life is a box of chocolates. On Valentine’s day you get two boxes of chocolates,\n",
    "both made by the ACME corporation. The first box has 8 chocolates filled with Caramel,\n",
    "4 filled with Toothpaste, and 3 filled with Cream. The second box has 10 chocolates filled\n",
    "with Caramel, 2 filled with Toothpaste, 4 filled with Cream and 4 filled with Shaving\n",
    "Cream."
   ]
  },
  {
   "cell_type": "markdown",
   "metadata": {
    "button": false,
    "new_sheet": false,
    "run_control": {
     "read_only": false
    }
   },
   "source": [
    "> 2a. What is the probability that after you a pick a box at random, that you would get a\n",
    "nasty-filled chocolate (either filled with shaving cream or toothpaste)?"
   ]
  },
  {
   "cell_type": "code",
   "execution_count": null,
   "metadata": {
    "button": false,
    "collapsed": true,
    "new_sheet": false,
    "run_control": {
     "read_only": false
    }
   },
   "outputs": [],
   "source": [
    "# perform any calculations here\n",
    "print((4/15)*0.50 + (6/20)*0.50)"
   ]
  },
  {
   "cell_type": "markdown",
   "metadata": {
    "button": false,
    "new_sheet": false,
    "run_control": {
     "read_only": false
    }
   },
   "source": [
    "```\n",
    "0.2833333333333333-the problem does not state that it comes from a specific box nor does it ask for a specific box, therefore one could (tp + sc) / total\n",
    "```"
   ]
  },
  {
   "cell_type": "markdown",
   "metadata": {
    "button": false,
    "new_sheet": false,
    "run_control": {
     "read_only": false
    }
   },
   "source": [
    ">2b. You take a bite of one of the chocolates and it turns out to be Caramel (you lucky\n",
    "duck), what is probability that the chocolate came from the second box?"
   ]
  },
  {
   "cell_type": "code",
   "execution_count": null,
   "metadata": {
    "button": false,
    "collapsed": true,
    "new_sheet": false,
    "run_control": {
     "read_only": false
    }
   },
   "outputs": [],
   "source": [
    "# perform any calculations here\n",
    "print(bayes(0.50, 0.50, 0.50, 8/15))"
   ]
  },
  {
   "cell_type": "markdown",
   "metadata": {
    "button": false,
    "new_sheet": false,
    "run_control": {
     "read_only": false
    }
   },
   "source": [
    "```\n",
    "0.48387096774193555\n",
    "\n",
    "```"
   ]
  },
  {
   "cell_type": "markdown",
   "metadata": {
    "button": false,
    "new_sheet": false,
    "run_control": {
     "read_only": false
    }
   },
   "source": [
    "3. The Umbrella Corporation is developing a blood test to detect early-onset zombification.\n",
    "In their medical ward, their patients traditionally have a ⅓ chance of actually having the\n",
    "zombie virus. Through their experiments the Umbrella Corporation scientists have\n",
    "determined that their test has a specificity and sensitivity of 95% \n",
    "    * [Wikipedia Definition of Sensitivity and Specificity](https://en.wikipedia.org/wiki/Sensitivity_and_specificity)."
   ]
  },
  {
   "cell_type": "markdown",
   "metadata": {
    "button": false,
    "new_sheet": false,
    "run_control": {
     "read_only": false
    }
   },
   "source": [
    ">3a. If a patient tests positive, what is the chance that they actually have the zombie\n",
    "virus? Calculate the positive predictive value (PPV) of this test."
   ]
  },
  {
   "cell_type": "code",
   "execution_count": null,
   "metadata": {
    "button": false,
    "collapsed": true,
    "new_sheet": false,
    "run_control": {
     "read_only": false
    }
   },
   "outputs": [],
   "source": [
    "# perform any calculations here\n",
    "#Pa, Pba, Pna, Pbna\n",
    "print(bayes(1/3, .95, 2/3, .05))"
   ]
  },
  {
   "cell_type": "markdown",
   "metadata": {
    "button": false,
    "new_sheet": false,
    "run_control": {
     "read_only": false
    }
   },
   "source": [
    "```\n",
    "0.9047619047619048\n",
    "\n",
    "```"
   ]
  },
  {
   "cell_type": "markdown",
   "metadata": {
    "button": false,
    "new_sheet": false,
    "run_control": {
     "read_only": false
    }
   },
   "source": [
    ">3b. The Umbrella Corporation is unhappy with their current test and develops two\n",
    "new tests:\n",
    "\n",
    "|       metric      | Test A | Test B |\n",
    "|-------------|:------:|-------:|\n",
    "| Sensitivity |   97%  |    93% |\n",
    "| Specificity |   93%  |    97% |\n",
    "\n",
    "\n",
    "Which test is superior? Defend your decision. (Hint: you can’t tell just by looking\n",
    "at information above, you will need to do some calculations)"
   ]
  },
  {
   "cell_type": "code",
   "execution_count": null,
   "metadata": {
    "button": false,
    "collapsed": true,
    "new_sheet": false,
    "run_control": {
     "read_only": false
    }
   },
   "outputs": [],
   "source": [
    "# perform any calculations here\n",
    "'''\n",
    "P(A | B) = (P(B | A) * P(A)) / P(B)\n",
    "P(A | B) = actually have virus given test positive\n",
    "P(B | A) = test positive given actually have virus \n",
    "P(A) = has virus\n",
    "P(B) = positive = P(A)*P(B|A) + P(not A)*P(B|not A) = (has virus * test positive given has virus) + (not have virus * test positive given not have virus)\n",
    "def bayes(Pa, Pba, Pna, Pbna)'''\n",
    "print(bayes(1/3, 0.97, 2/3, 0.07))\n",
    "print(bayes(1/3, 0.93, 2/3, 0.03))"
   ]
  },
  {
   "cell_type": "markdown",
   "metadata": {
    "button": false,
    "new_sheet": false,
    "run_control": {
     "read_only": false
    }
   },
   "source": [
    "```\n",
    "Test A: 0.8738738738738738 \n",
    "\n",
    "Test B: 0.9393939393939393; Test B is superior\n",
    "\n",
    "```"
   ]
  },
  {
   "cell_type": "markdown",
   "metadata": {
    "button": false,
    "new_sheet": false,
    "run_control": {
     "read_only": false
    }
   },
   "source": [
    "<hr>\n",
    "\n",
    "<hr>\n",
    "\n",
    "### SB:Q3 Probability Distributions\n",
    "* In this section, you will fill in markdown cells with responses to problems related to Probability Distributions.\n",
    "* You should perform any calculations using Python in the code cells immediately above the markdown cell.\n",
    "* For a survey of probability distributions, see [http://www.jbstatistics.com](http://www.jbstatistics.com)"
   ]
  },
  {
   "cell_type": "markdown",
   "metadata": {
    "button": false,
    "new_sheet": false,
    "run_control": {
     "read_only": false
    }
   },
   "source": [
    "<hr>\n",
    "\n",
    "#### a. Uniform Distribution"
   ]
  },
  {
   "cell_type": "markdown",
   "metadata": {
    "button": false,
    "new_sheet": false,
    "run_control": {
     "read_only": false
    }
   },
   "source": [
    "1. Let the random variable X be the angle of a slice of pizza. The angle X has a uniform distribution\n",
    "on the interval [0, 90]. What is the probability that your slice of pizza will have an angle between\n",
    "30° and 40°?\n"
   ]
  },
  {
   "cell_type": "code",
   "execution_count": null,
   "metadata": {
    "button": false,
    "collapsed": true,
    "new_sheet": false,
    "run_control": {
     "read_only": false
    }
   },
   "outputs": [],
   "source": [
    "# perform any calculations here\n",
    "#height = f(x) = 1/(b-a) = 1/90 = 0.011\n",
    "#find (90 - 40) =  0.02; (90 - 30) = 1/60 = 0.0167\n",
    "def uniform_distr(a,b,x):\n",
    "    height = 1 / (b-a)\n",
    "    return 1 - (height*(b - x))\n",
    "print(uniform_distr(0, 90, 40))\n",
    "print(uniform_distr(0, 90, 30))\n",
    "print(uniform_distr(0, 90, 40) - uniform_distr(0, 90, 30))"
   ]
  },
  {
   "cell_type": "markdown",
   "metadata": {
    "button": false,
    "new_sheet": false,
    "run_control": {
     "read_only": false
    }
   },
   "source": [
    "```\n",
    "0.11111111111111116\n",
    "\n",
    "```"
   ]
  },
  {
   "cell_type": "markdown",
   "metadata": {
    "button": false,
    "new_sheet": false,
    "run_control": {
     "read_only": false
    }
   },
   "source": [
    "2. X is uniform on the interval [a,b], can you derive the expected value E(X)? The variance V(X)?"
   ]
  },
  {
   "cell_type": "code",
   "execution_count": null,
   "metadata": {
    "button": false,
    "collapsed": true,
    "new_sheet": false,
    "run_control": {
     "read_only": false
    }
   },
   "outputs": [],
   "source": [
    "# perform any calculations here\n",
    "def see_below():\n",
    "    return 'see below'\n",
    "print(see_below())"
   ]
  },
  {
   "cell_type": "markdown",
   "metadata": {
    "button": false,
    "new_sheet": false,
    "run_control": {
     "read_only": false
    }
   },
   "source": [
    "```\n",
    "The expected value is the mid-point between a and b. This value is the mean and the median due to the uniform distribution of values between a and b. The equation is (a+b)/2, which is the average.\n",
    "The variance = E(x**2) - E(x)**2 which requires integration on x**2(f(x)). f(x) is the constant 1/(b-a). After integration of x**2 and doing some algebra, the variance is \n",
    "((b-a)**2)/12\n",
    "```"
   ]
  },
  {
   "cell_type": "markdown",
   "metadata": {
    "button": false,
    "new_sheet": false,
    "run_control": {
     "read_only": false
    }
   },
   "source": [
    "<hr>\n",
    "\n",
    "#### b. Geometric Distributions\n",
    "Suppose you have an unfair coin, with a 68% chance of getting tails. What is the probability that the first\n",
    "head will be on the 3rd trial?"
   ]
  },
  {
   "cell_type": "code",
   "execution_count": null,
   "metadata": {
    "button": false,
    "collapsed": true,
    "new_sheet": false,
    "run_control": {
     "read_only": false
    }
   },
   "outputs": [],
   "source": [
    "# perform any calculations here\n",
    "def geometric_pmf_before(p, k):\n",
    " return ((1-p)**k)*p\n",
    "print(geometric_pmf_before(.32, 2))"
   ]
  },
  {
   "cell_type": "markdown",
   "metadata": {
    "button": false,
    "new_sheet": false,
    "run_control": {
     "read_only": false
    }
   },
   "source": [
    "```\n",
    "0.147968\n",
    "```"
   ]
  },
  {
   "cell_type": "markdown",
   "metadata": {
    "button": false,
    "new_sheet": false,
    "run_control": {
     "read_only": false
    }
   },
   "source": [
    "<hr>\n",
    "\n",
    "#### c. Poisson Distribution\n",
    "On average 20 taxis drive past your office every 30 minutes. What is the probability that 30 taxis will drive\n",
    "by in 1 hour?"
   ]
  },
  {
   "cell_type": "code",
   "execution_count": null,
   "metadata": {
    "button": false,
    "collapsed": true,
    "new_sheet": false,
    "run_control": {
     "read_only": false
    }
   },
   "outputs": [],
   "source": [
    "# perform any calculations here\n",
    "from math import e\n",
    "def poisson_pmf(lmbda, k):\n",
    "    return (lmbda**k)*(e**-lmbda)/factorial(k)\n",
    "print(poisson_pmf(40, 30))"
   ]
  },
  {
   "cell_type": "markdown",
   "metadata": {
    "button": false,
    "new_sheet": false,
    "run_control": {
     "read_only": false
    }
   },
   "source": [
    "```\n",
    "0.01846547096073411\n",
    "\n",
    "```"
   ]
  },
  {
   "cell_type": "markdown",
   "metadata": {
    "button": false,
    "new_sheet": false,
    "run_control": {
     "read_only": false
    }
   },
   "source": [
    "<hr>\n",
    "\n",
    "#### d. Binomial Distribution"
   ]
  },
  {
   "cell_type": "markdown",
   "metadata": {
    "button": false,
    "new_sheet": false,
    "run_control": {
     "read_only": false
    }
   },
   "source": [
    "1. Fair coin: Imagine you were to flip a fair coin 10 times. What would be the probability of getting 5\n",
    "heads?"
   ]
  },
  {
   "cell_type": "code",
   "execution_count": null,
   "metadata": {
    "button": false,
    "collapsed": true,
    "new_sheet": false,
    "run_control": {
     "read_only": false
    }
   },
   "outputs": [],
   "source": [
    "# perform any calculations here\n",
    "def binomial_pmf(n, k, p=0.5):\n",
    "    return combinations(n, k) * (p**k) * ((1 - p)**(n - k))\n",
    "print(binomial_pmf(10, 5, 0.5))"
   ]
  },
  {
   "cell_type": "markdown",
   "metadata": {
    "button": false,
    "new_sheet": false,
    "run_control": {
     "read_only": false
    }
   },
   "source": [
    "```\n",
    "0.24609375\n",
    "\n",
    "```"
   ]
  },
  {
   "cell_type": "markdown",
   "metadata": {
    "button": false,
    "new_sheet": false,
    "run_control": {
     "read_only": false
    }
   },
   "source": [
    "2. Unfair coin: You have a coin with which you are 2 times more likely to get heads than tails. You\n",
    "flip the coin 100 times. What is the probability of getting 20 tails? What is the probability of getting\n",
    "at least one heads?"
   ]
  },
  {
   "cell_type": "code",
   "execution_count": null,
   "metadata": {
    "button": false,
    "collapsed": true,
    "new_sheet": false,
    "run_control": {
     "read_only": false
    }
   },
   "outputs": [],
   "source": [
    "# perform any calculations here\n",
    "def binomial_pmf(n, k, p=0.5):\n",
    "    return combinations(n, k) * (p**k) * ((1 - p)**(n - k))\n",
    "print(binomial_pmf(100, 20, 0.33))\n",
    "\n",
    "def cdf_binomial_distr(n, k, p):\n",
    "    cdf_accum = 0\n",
    "    for i in range(k + 1):\n",
    "        cdf_accum += binomial_pmf(n, i, p)\n",
    "    return cdf_accum\n",
    "\n",
    "print(cdf_binomial_distr(100, 99, .33))"
   ]
  },
  {
   "cell_type": "markdown",
   "metadata": {
    "button": false,
    "new_sheet": false,
    "run_control": {
     "read_only": false
    }
   },
   "source": [
    "```\n",
    "0.0015325488585154659\n",
    "0.9999999999999946\n",
    "```"
   ]
  },
  {
   "cell_type": "markdown",
   "metadata": {
    "button": false,
    "new_sheet": false,
    "run_control": {
     "read_only": false
    }
   },
   "source": [
    "<hr>\n",
    "\n",
    "#### e. Normal Distribution"
   ]
  },
  {
   "cell_type": "markdown",
   "metadata": {
    "button": false,
    "new_sheet": false,
    "run_control": {
     "read_only": false
    }
   },
   "source": [
    "1. Suppose X has a standard normal distribution (Mean = 0, Std. Dev. = 1). Compute P (X > 9), P (1\n",
    "< X < 3) and P (X > −3)."
   ]
  },
  {
   "cell_type": "code",
   "execution_count": null,
   "metadata": {
    "button": false,
    "collapsed": true,
    "new_sheet": false,
    "run_control": {
     "read_only": false
    }
   },
   "outputs": [],
   "source": [
    "# perform any calculations here\n",
    "from scipy.stats import norm\n",
    "print(1 - norm.cdf(9, loc=0, scale=1))\n",
    "print(norm.cdf(3, loc=0, scale=1) - norm .cdf(1, loc=0, scale=1))\n",
    "print(1 - norm.cdf(-3, loc=0, scale=1))"
   ]
  },
  {
   "cell_type": "markdown",
   "metadata": {
    "button": false,
    "new_sheet": false,
    "run_control": {
     "read_only": false
    }
   },
   "source": [
    "```\n",
    "P(X > 9) = 0\n",
    "P(1 < X < 3) = 0.15730535589982697\n",
    "P(X > −3) = 0.9986501019683699\n",
    "```"
   ]
  },
  {
   "cell_type": "markdown",
   "metadata": {
    "button": false,
    "new_sheet": false,
    "run_control": {
     "read_only": false
    }
   },
   "source": [
    "2. The weight in pounds of individuals in a population of interest has a normal distribution, with a\n",
    "mean of 150 and a standard deviation of 40. What is the expected range of values that describe\n",
    "the weight of 68% of the population (Hint: use the empirical rule)? Of the people who weigh more\n",
    "than 170 pounds, what percent weigh more than 200 pounds? (Hint: this is conditional probability)"
   ]
  },
  {
   "cell_type": "code",
   "execution_count": null,
   "metadata": {
    "button": false,
    "collapsed": true,
    "new_sheet": false,
    "run_control": {
     "read_only": false
    }
   },
   "outputs": [],
   "source": [
    "# perform any calculations here\n",
    "from scipy.stats import norm\n",
    "def empirical_rule(mean, std):\n",
    "    return mean - 1*std, mean + 1*std\n",
    "print(empirical_rule(150, 40))\n",
    "#mean - 1*std, mean + 1*std...68%\n",
    "#mean - 2*std, mean + 2*std...95%\n",
    "#mean - 3*std, mean + 3*std...99.7%\n",
    "print(11.75/33)"
   ]
  },
  {
   "cell_type": "markdown",
   "metadata": {
    "button": false,
    "new_sheet": false,
    "run_control": {
     "read_only": false
    }
   },
   "source": [
    "```\n",
    "110 - 190: this is 1 std on either side of the mean which is 68%\n",
    "weigh more than 200 given they are 170: 35.6%\n",
    "```"
   ]
  },
  {
   "cell_type": "markdown",
   "metadata": {
    "button": false,
    "new_sheet": false,
    "run_control": {
     "read_only": false
    }
   },
   "source": [
    "<hr>\n",
    "\n",
    "#### f. Exponential Distribution"
   ]
  },
  {
   "cell_type": "markdown",
   "metadata": {
    "button": false,
    "new_sheet": false,
    "run_control": {
     "read_only": false
    }
   },
   "source": [
    "1. Let X, the number of years a computer works, be a random variable that follows an exponential\n",
    "distribution with a lambda of 3 years. You just bought a computer, what is the probability that the\n",
    "computer will work in 8 years?"
   ]
  },
  {
   "cell_type": "code",
   "execution_count": null,
   "metadata": {
    "button": false,
    "collapsed": true,
    "new_sheet": false,
    "run_control": {
     "read_only": false
    }
   },
   "outputs": [],
   "source": [
    "# perform any calculations here\n",
    "def exp_distr_pdf_cdf(lam, x):\n",
    "    return 1 - (1 - (e**-(lam*x)))\n",
    "print(exp_distr_pdf_cdf(1/3, 8))\n",
    "\n",
    "'''PDF = lamba*(e**-lamba*x) for x >= 0. mean = 1/lambda. var = 1/(lambda**2). std = 1/      lambda = mean. CDF = 1 - (e**(-lambda*x)).'''\n"
   ]
  },
  {
   "cell_type": "markdown",
   "metadata": {
    "button": false,
    "new_sheet": false,
    "run_control": {
     "read_only": false
    }
   },
   "source": [
    "```\n",
    "0.06948345122280153\n",
    "\n",
    "```"
   ]
  },
  {
   "cell_type": "markdown",
   "metadata": {
    "button": false,
    "new_sheet": false,
    "run_control": {
     "read_only": false
    }
   },
   "source": [
    "2. Let X be a random variable that now follows an exponential distribution with a half-life of 6 years.\n",
    "Find the parameter of the exponential distribution and the probability P(X > 10)."
   ]
  },
  {
   "cell_type": "code",
   "execution_count": null,
   "metadata": {
    "button": false,
    "collapsed": true,
    "new_sheet": false,
    "run_control": {
     "read_only": false
    }
   },
   "outputs": [],
   "source": [
    "# perform any calculations here\n",
    "print(exp_distr_pdf_cdf(1/12, 10))"
   ]
  },
  {
   "cell_type": "markdown",
   "metadata": {
    "button": false,
    "new_sheet": false,
    "run_control": {
     "read_only": false
    }
   },
   "source": [
    "```\n",
    "the parameter is 1/12\n",
    "0.4345982085070783\n",
    "\n",
    "```"
   ]
  },
  {
   "cell_type": "markdown",
   "metadata": {
    "button": false,
    "new_sheet": false,
    "run_control": {
     "read_only": false
    }
   },
   "source": [
    "3. What is the conditional probability P (X > 20 | X > 10)?"
   ]
  },
  {
   "cell_type": "code",
   "execution_count": null,
   "metadata": {
    "button": false,
    "collapsed": true,
    "new_sheet": false,
    "run_control": {
     "read_only": false
    }
   },
   "outputs": [],
   "source": [
    "# perform any calculations here\n",
    "print(exp_distr_pdf_cdf(1/12, 20) / exp_distr_pdf_cdf(1/12, 10))"
   ]
  },
  {
   "cell_type": "markdown",
   "metadata": {
    "button": false,
    "new_sheet": false,
    "run_control": {
     "read_only": false
    }
   },
   "source": [
    "```\n",
    "0.43459820850707825\n",
    "\n",
    "```"
   ]
  }
 ],
 "metadata": {
  "kernelspec": {
   "name": "python388jvsc74a57bd089fee116685cb2521b56672eb167f1ec4aed6864d0c8eca1590d0ae148ba1a69",
   "display_name": "Python 3.8.10 64-bit ('base': conda)"
  },
  "language_info": {
   "codemirror_mode": {
    "name": "ipython",
    "version": 3
   },
   "file_extension": ".py",
   "mimetype": "text/x-python",
   "name": "python",
   "nbconvert_exporter": "python",
   "pygments_lexer": "ipython3",
   "version": "3.8.10"
  },
  "metadata": {
   "interpreter": {
    "hash": "89fee116685cb2521b56672eb167f1ec4aed6864d0c8eca1590d0ae148ba1a69"
   }
  }
 },
 "nbformat": 4,
 "nbformat_minor": 2
}