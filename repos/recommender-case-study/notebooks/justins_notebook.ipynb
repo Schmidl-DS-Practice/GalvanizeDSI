{
 "cells": [
  {
   "cell_type": "code",
   "execution_count": 69,
   "metadata": {},
   "outputs": [],
   "source": [
    "import pyspark as ps\n",
    "import pandas as pd\n",
    "from scipy import sparse\n",
    "from pyspark.sql import SparkSession\n",
    "from pyspark.sql.functions import lit\n",
    "from pyspark.ml.recommendation import ALS\n",
    "import numpy as np\n",
    "import matplotlib.pyplot as plt\n"
   ]
  },
  {
   "cell_type": "code",
   "execution_count": 5,
   "metadata": {},
   "outputs": [],
   "source": [
    "spark = SparkSession.builder.getOrCreate()"
   ]
  },
  {
   "cell_type": "code",
   "execution_count": 21,
   "metadata": {},
   "outputs": [],
   "source": [
    "ratings_df = pd.read_csv('/home/jovyan/work/Documents/Galvanize/CaseStudies/recommender-case-study/\\\n",
    "data/ml-latest-small/ratings.csv')\n",
    "movies_df = pd.read_csv('/home/jovyan/work/Documents/Galvanize/CaseStudies/recommender-case-study/\\\n",
    "data/ml-latest-small/movies.csv')\n",
    "tags_df = pd.read_csv('/home/jovyan/work/Documents/Galvanize/CaseStudies/recommender-case-study/\\\n",
    "data/ml-latest-small/tags.csv')\n",
    "links_df = pd.read_csv('/home/jovyan/work/Documents/Galvanize/CaseStudies/recommender-case-study/\\\n",
    "data/ml-latest-small/links.csv')\n"
   ]
  },
  {
   "cell_type": "code",
   "execution_count": 27,
   "metadata": {},
   "outputs": [],
   "source": [
    "# Merge ratings with movies\n",
    "ratings_df.drop(columns='timestamp', inplace=True)\n",
    "ratings_movies_merge = ratings_df.merge(movies_df, how='left', on='movieId')"
   ]
  },
  {
   "cell_type": "code",
   "execution_count": 68,
   "metadata": {},
   "outputs": [
    {
     "name": "stdout",
     "output_type": "stream",
     "text": [
      "<class 'pandas.core.frame.DataFrame'>\n",
      "Int64Index: 100836 entries, 0 to 100835\n",
      "Data columns (total 5 columns):\n",
      " #   Column   Non-Null Count   Dtype  \n",
      "---  ------   --------------   -----  \n",
      " 0   userId   100836 non-null  int64  \n",
      " 1   movieId  100836 non-null  int64  \n",
      " 2   rating   100836 non-null  float64\n",
      " 3   title    100836 non-null  object \n",
      " 4   genres   100836 non-null  object \n",
      "dtypes: float64(1), int64(2), object(2)\n",
      "memory usage: 4.6+ MB\n"
     ]
    }
   ],
   "source": [
    "ratings_movies_merge.info()"
   ]
  },
  {
   "cell_type": "code",
   "execution_count": 29,
   "metadata": {},
   "outputs": [
    {
     "name": "stdout",
     "output_type": "stream",
     "text": [
      "   userId  movieId  rating                        title  \\\n",
      "0       1        1     4.0             Toy Story (1995)   \n",
      "1       1        3     4.0      Grumpier Old Men (1995)   \n",
      "2       1        6     4.0                  Heat (1995)   \n",
      "3       1       47     5.0  Seven (a.k.a. Se7en) (1995)   \n",
      "4       1       50     5.0   Usual Suspects, The (1995)   \n",
      "\n",
      "                                        genres  \n",
      "0  Adventure|Animation|Children|Comedy|Fantasy  \n",
      "1                               Comedy|Romance  \n",
      "2                        Action|Crime|Thriller  \n",
      "3                             Mystery|Thriller  \n",
      "4                       Crime|Mystery|Thriller  \n"
     ]
    }
   ],
   "source": [
    "print(ratings_movies_merge.head())"
   ]
  },
  {
   "cell_type": "code",
   "execution_count": 30,
   "metadata": {},
   "outputs": [],
   "source": [
    "spark_df_ratings_movies = spark.createDataFrame(ratings_movies_merge)\n",
    "\n",
    "train, test = spark_df_ratings_movies.randomSplit([0.8,0.2], seed=142)\n",
    "\n",
    "als_model = ALS(itemCol='movieId',\n",
    "                userCol='userId',\n",
    "                ratingCol='rating',\n",
    "                nonnegative=True,\n",
    "                regParam=0.1,\n",
    "                rank=10)\n",
    "\n",
    "recommender = als_model.fit(train)"
   ]
  },
  {
   "cell_type": "code",
   "execution_count": 31,
   "metadata": {},
   "outputs": [],
   "source": [
    "predictions = recommender.transform(test)"
   ]
  },
  {
   "cell_type": "code",
   "execution_count": 62,
   "metadata": {},
   "outputs": [
    {
     "name": "stdout",
     "output_type": "stream",
     "text": [
      "   userId  movieId  rating                        title  genres  prediction\n",
      "0     133      471     4.0  Hudsucker Proxy, The (1994)  Comedy    2.820126\n",
      "1     602      471     4.0  Hudsucker Proxy, The (1994)  Comedy    3.320655\n",
      "2     182      471     4.5  Hudsucker Proxy, The (1994)  Comedy    3.291657\n",
      "3      32      471     3.0  Hudsucker Proxy, The (1994)  Comedy    3.379117\n",
      "4     426      471     5.0  Hudsucker Proxy, The (1994)  Comedy    2.240917\n"
     ]
    }
   ],
   "source": [
    "train_df = train.toPandas()\n",
    "predictions_df = predictions.toPandas()\n",
    "predictions_df.fillna(train_df['rating'].mean(), inplace=True)\n",
    "print(predictions_df.head())"
   ]
  },
  {
   "cell_type": "code",
   "execution_count": 63,
   "metadata": {},
   "outputs": [
    {
     "name": "stdout",
     "output_type": "stream",
     "text": [
      "<class 'pandas.core.frame.DataFrame'>\n",
      "RangeIndex: 20326 entries, 0 to 20325\n",
      "Data columns (total 6 columns):\n",
      " #   Column      Non-Null Count  Dtype  \n",
      "---  ------      --------------  -----  \n",
      " 0   userId      20326 non-null  int64  \n",
      " 1   movieId     20326 non-null  int64  \n",
      " 2   rating      20326 non-null  float64\n",
      " 3   title       20326 non-null  object \n",
      " 4   genres      20326 non-null  object \n",
      " 5   prediction  20326 non-null  float32\n",
      "dtypes: float32(1), float64(1), int64(2), object(2)\n",
      "memory usage: 873.5+ KB\n",
      "None\n"
     ]
    }
   ],
   "source": [
    "print(predictions_df.info())"
   ]
  },
  {
   "cell_type": "code",
   "execution_count": 64,
   "metadata": {},
   "outputs": [
    {
     "name": "stdout",
     "output_type": "stream",
     "text": [
      "   userId  movieId  rating                        title  genres  prediction  \\\n",
      "0     133      471     4.0  Hudsucker Proxy, The (1994)  Comedy    2.820126   \n",
      "1     602      471     4.0  Hudsucker Proxy, The (1994)  Comedy    3.320655   \n",
      "2     182      471     4.5  Hudsucker Proxy, The (1994)  Comedy    3.291657   \n",
      "3      32      471     3.0  Hudsucker Proxy, The (1994)  Comedy    3.379117   \n",
      "4     426      471     5.0  Hudsucker Proxy, The (1994)  Comedy    2.240917   \n",
      "\n",
      "        MSE      RMSE  \n",
      "0  1.392104  1.179874  \n",
      "1  0.461510  0.679345  \n",
      "2  1.460093  1.208343  \n",
      "3  0.143729  0.379117  \n",
      "4  7.612540  2.759083  \n",
      "<class 'pandas.core.frame.DataFrame'>\n",
      "RangeIndex: 20326 entries, 0 to 20325\n",
      "Data columns (total 8 columns):\n",
      " #   Column      Non-Null Count  Dtype  \n",
      "---  ------      --------------  -----  \n",
      " 0   userId      20326 non-null  int64  \n",
      " 1   movieId     20326 non-null  int64  \n",
      " 2   rating      20326 non-null  float64\n",
      " 3   title       20326 non-null  object \n",
      " 4   genres      20326 non-null  object \n",
      " 5   prediction  20326 non-null  float32\n",
      " 6   MSE         20326 non-null  float64\n",
      " 7   RMSE        20326 non-null  float64\n",
      "dtypes: float32(1), float64(3), int64(2), object(2)\n",
      "memory usage: 1.2+ MB\n",
      "None\n"
     ]
    }
   ],
   "source": [
    "predictions_df['MSE'] = (predictions_df['rating']-predictions_df['prediction'])**2\n",
    "predictions_df['RMSE'] = (predictions_df['MSE'])**0.5\n",
    "print(predictions_df.head())\n",
    "print(predictions_df.info())"
   ]
  },
  {
   "cell_type": "code",
   "execution_count": 66,
   "metadata": {},
   "outputs": [
    {
     "name": "stdout",
     "output_type": "stream",
     "text": [
      "20326\n",
      "0.6880513920428468\n"
     ]
    }
   ],
   "source": [
    "RMSE_tot = predictions_df['RMSE'].sum()\n",
    "RMSE_count = predictions_df['RMSE'].shape[0]\n",
    "print(RMSE_count)\n",
    "\n",
    "RMSE = RMSE_tot/RMSE_count\n",
    "print(RMSE)"
   ]
  },
  {
   "cell_type": "code",
   "execution_count": 73,
   "metadata": {},
   "outputs": [
    {
     "data": {
      "image/png": "[encoded data removed]",
      "text/plain": [
       "<Figure size 720x576 with 1 Axes>"
      ]
     },
     "metadata": {
      "needs_background": "light"
     },
     "output_type": "display_data"
    }
   ],
   "source": [
    "data = [predictions_df['prediction'][predictions_df['rating'] == rating].values for rating in range(1, 6)]\n",
    "fig, ax = plt.subplots(figsize=(10,8))\n",
    "ax.violinplot(data, range(1,6), showmeans=True)\n",
    "plt.xlabel('True Ratings')\n",
    "plt.ylabel('Predicted Ratings')\n",
    "plt.title('True vs. ALS Recommender Predicted Ratings')\n",
    "plt.savefig('/home/jovyan/work/Documents/Galvanize/\\\n",
    "CaseStudies/recommender-case-study/images/ALS_violin_plt.png')\n",
    "plt.show()"
   ]
  },
  {
   "cell_type": "code",
   "execution_count": null,
   "metadata": {},
   "outputs": [],
   "source": []
  }
 ],
 "metadata": {
  "kernelspec": {
   "display_name": "Python 3",
   "language": "python",
   "name": "python3"
  },
  "language_info": {
   "codemirror_mode": {
    "name": "ipython",
    "version": 3
   },
   "file_extension": ".py",
   "mimetype": "text/x-python",
   "name": "python",
   "nbconvert_exporter": "python",
   "pygments_lexer": "ipython3",
   "version": "3.8.3"
  }
 },
 "nbformat": 4,
 "nbformat_minor": 4
}
