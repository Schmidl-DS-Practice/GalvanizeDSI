{
 "cells": [
  {
   "cell_type": "code",
   "execution_count": null,
   "metadata": {},
   "outputs": [],
   "source": [
    "import pyspark as ps\n",
    "\n",
    "spark = (ps.sql.SparkSession.builder \n",
    "        .master(\"local[4]\") \n",
    "        .appName(\"Case study\") \n",
    "        .getOrCreate()\n",
    "        )\n",
    "sc = spark.sparkContext\n",
    "tweet_path = '../data/french_tweets.json'\n",
    "rdd_tweet = sc.textFile(tweet_path)\n",
    "#rdd = spark.read.json('../data/french_tweets.json')\n",
    "#print(rdd.first())\n",
    "#print(df.sample(1))\n",
    "print(\"Done\")"
   ]
  },
  {
   "cell_type": "code",
   "execution_count": null,
   "metadata": {},
   "outputs": [],
   "source": [
    "df = spark.read.json(rdd_tweet)\n",
    "\n",
    "#import json\n",
    "#datastore = json.loads(first)\n",
    "#for key in datastore:\n",
    "#    print(key, datastore[key])\n",
    "print(\"Done\")"
   ]
  },
  {
   "cell_type": "code",
   "execution_count": null,
   "metadata": {},
   "outputs": [],
   "source": [
    "first = df.first()\n",
    "type(first)"
   ]
  },
  {
   "cell_type": "code",
   "execution_count": null,
   "metadata": {},
   "outputs": [],
   "source": []
  },
  {
   "cell_type": "code",
   "execution_count": null,
   "metadata": {},
   "outputs": [],
   "source": [
    "df.printSchema()"
   ]
  },
  {
   "cell_type": "code",
   "execution_count": null,
   "metadata": {},
   "outputs": [],
   "source": [
    "first = df.first()"
   ]
  },
  {
   "cell_type": "code",
   "execution_count": null,
   "metadata": {},
   "outputs": [],
   "source": [
    "sam = df.sample(.05)"
   ]
  },
  {
   "cell_type": "code",
   "execution_count": null,
   "metadata": {},
   "outputs": [],
   "source": [
    "sample_count = sam.count()"
   ]
  },
  {
   "cell_type": "code",
   "execution_count": null,
   "metadata": {},
   "outputs": [],
   "source": [
    "df.createOrReplaceTempView(\"tweets\")\n",
    "result = spark.sql('''\n",
    "    SELECT id, text, created_at, retweeted\n",
    "    FROM tweets\n",
    "    ORDER BY retweeted DESC\n",
    "    ''')\n",
    "result.show()\n",
    "result.count()"
   ]
  },
  {
   "cell_type": "code",
   "execution_count": null,
   "metadata": {},
   "outputs": [],
   "source": [
    "min_max_dates = spark.sql('''\n",
    "    SELECT MIN(created_at), MAX(created_at)\n",
    "    FROM tweets\n",
    "    ''')\n",
    "min_max_dates.show()"
   ]
  },
  {
   "cell_type": "code",
   "execution_count": null,
   "metadata": {},
   "outputs": [],
   "source": [
    "macron_mention = result.filter(result[\"text\"].rlike(\"macron\"))\n",
    "macron_mention.show()\n",
    "macron_mention.count()/sample_count"
   ]
  },
  {
   "cell_type": "code",
   "execution_count": null,
   "metadata": {},
   "outputs": [],
   "source": [
    "pen_mention = result.filter(result[\"text\"].rlike(\"lepen\"))\n",
    "#pen_mention.show()\n",
    "pen_mention.count()/sample_count"
   ]
  },
  {
   "cell_type": "code",
   "execution_count": null,
   "metadata": {},
   "outputs": [],
   "source": [
    "macron_mention = result.filter(result[\"text\"].rlike(\"macron\"))\n",
    "result.count(), macron_mention.count(), pen_mention.count()"
   ]
  },
  {
   "cell_type": "code",
   "execution_count": null,
   "metadata": {},
   "outputs": [],
   "source": [
    "TOTAL TWEETS, MACRON MENTION, PEN MENTION"
   ]
  },
  {
   "cell_type": "code",
   "execution_count": null,
   "metadata": {},
   "outputs": [],
   "source": [
    "from pyspark.sql.functions import col\n",
    "result = df.select(col(\"id\"), col(\"text\"), col(\"entities\").hashtags)\n",
    "#result = result.map(lambda x: x[\"entities\"][\"hashtags\"])\n",
    "from collections import defaultdict\n",
    "hashtag_counts = defaultdict(int)\n",
    "\n",
    "t = result.take(1000000)\n",
    "for thing in t:\n",
    "    hashtag_thingy = thing['entities.hashtags']\n",
    "    if not hashtag_thingy:\n",
    "        continue\n",
    "    for row in hashtag_thingy:\n",
    "        hashtag_counts[row.text.lower()] += 1\n",
    "hashtag_counts = dict(hashtag_counts)\n",
    "hashtag_counters = sorted(hashtag_counts.items(),key=lambda pair: pair[1],reverse=True)\n",
    "hashtag_counters[:100]"
   ]
  },
  {
   "cell_type": "code",
   "execution_count": null,
   "metadata": {},
   "outputs": [],
   "source": [
    "t = result.collect()\n",
    "hashtag_counts = {}\n",
    "for thing in t:\n",
    "    hashtag_thingy = thing['entities.hashtags']\n",
    "    if not hashtag_thingy:\n",
    "        continue\n",
    "    for row in hashtag_thingy:\n",
    "        if row.text.lower() not in hashtag_counts:\n",
    "            hashtag_counts[row.text.lower()] = 1\n",
    "        else:\n",
    "            hashtag_counts[row.text.lower()] += 1\n",
    "hashtag_counters = sorted(hashtag_counts.items(),key=lambda pair: pair[1],reverse=True)\n",
    "hashtag_counters[:10]"
   ]
  },
  {
   "cell_type": "code",
   "execution_count": null,
   "metadata": {},
   "outputs": [],
   "source": [
    "import pandas as pd\n",
    "import matplotlib.pyplot as plt\n",
    "p_df = pd.DataFrame(hashtag_counters[:10])\n",
    "p_df[0]\n",
    "plt.figure(figsize=(20,12))\n",
    "plt.style.use('ggplot')\n",
    "plt.bar(\"#\" + p_df[0], p_df[1])\n",
    "plt.xticks(rotation=60, size = 20)\n",
    "plt.yticks(size = 20)\n",
    "plt.title(\"Top 10 most popular hashtags in our n = 200,000 dataset\", size = 30)\n",
    "plt.ylabel(\"# Tweets using hashtag\", size = 20)\n",
    "plt.savefig(\"test.jpg\")"
   ]
  },
  {
   "cell_type": "code",
   "execution_count": null,
   "metadata": {},
   "outputs": [],
   "source": []
  },
  {
   "cell_type": "code",
   "execution_count": null,
   "metadata": {},
   "outputs": [],
   "source": []
  }
 ],
 "metadata": {
  "kernelspec": {
   "display_name": "Python 3",
   "language": "python",
   "name": "python3"
  },
  "language_info": {
   "codemirror_mode": {
    "name": "ipython",
    "version": 3
   },
   "file_extension": ".py",
   "mimetype": "text/x-python",
   "name": "python",
   "nbconvert_exporter": "python",
   "pygments_lexer": "ipython3",
   "version": "3.8.3"
  }
 },
 "nbformat": 4,
 "nbformat_minor": 4
}