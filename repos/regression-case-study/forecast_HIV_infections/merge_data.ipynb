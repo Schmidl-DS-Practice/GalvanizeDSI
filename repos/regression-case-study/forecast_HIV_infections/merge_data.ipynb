{
 "cells": [
  {
   "cell_type": "markdown",
   "metadata": {},
   "source": [
    "### Merge data\n",
    "One dataframe that contains county-level data associated with HIV Incidence is created by merging data from:\n",
    "* amfAR (The Foundation of AIDS Research)\n",
    "* CAMP (Emory Coalition for Applied Modeling for Prevention)\n",
    "* ACS (The American Community Survey)\n",
    "\n",
    "This process is based on Eric Logue's [Forecasting HIV Infections](https://github.com/elogue01/Forecasting-HIV-Infections) capstone project."
   ]
  },
  {
   "cell_type": "code",
   "execution_count": null,
   "metadata": {
    "collapsed": true
   },
   "outputs": [],
   "source": [
    "import pandas as pd"
   ]
  },
  {
   "cell_type": "markdown",
   "metadata": {},
   "source": [
    "### amfAR data"
   ]
  },
  {
   "cell_type": "code",
   "execution_count": null,
   "metadata": {
    "collapsed": true
   },
   "outputs": [],
   "source": [
    "#load Amfar opioid and HIV data, add county code\n",
    "opiod_df = pd.read_table('data/amfAR/countydata.tsv',header=0)\n",
    "opiod_df['county_code'] = opiod_df.STATEFP*1000 + opiod_df.COUNTYFP # build a county code column\n",
    "opiod_df['county_code'] = opiod_df.county_code.astype(int)"
   ]
  },
  {
   "cell_type": "code",
   "execution_count": null,
   "metadata": {},
   "outputs": [],
   "source": [
    "opiod_df.head()"
   ]
  },
  {
   "cell_type": "markdown",
   "metadata": {},
   "source": [
    "The INDICATOR and VALUE columns contain HIV related data."
   ]
  },
  {
   "cell_type": "code",
   "execution_count": null,
   "metadata": {
    "collapsed": true
   },
   "outputs": [],
   "source": [
    "#make changes to the amfar dataframe\n",
    "#convert from long to wide format\n",
    "index_lst = ['county_code', 'COUNTY', 'STATEABBREVIATION', 'YEAR']\n",
    "col_lst = ['INDICATOR']\n",
    "opiod_df_wide = opiod_df.pivot_table(values='VALUE', index=index_lst, columns=col_lst).reset_index()"
   ]
  },
  {
   "cell_type": "code",
   "execution_count": null,
   "metadata": {
    "scrolled": true
   },
   "outputs": [],
   "source": [
    "opiod_df_wide.head()"
   ]
  },
  {
   "cell_type": "code",
   "execution_count": null,
   "metadata": {
    "collapsed": true
   },
   "outputs": [],
   "source": [
    "# Focus on just the HIV related data, from 2008 onward\n",
    "opiod_df_wide = opiod_df_wide[opiod_df_wide['YEAR'] >= 2008] # subset for years that have hiv data\n",
    "cols_to_drop = ['CDC_consult', 'vulnerable_rank']\n",
    "#, 'num_SSPs', 'bup_phys', 'drugdep', 'pctunmetneed', 'nonmedpain']\n",
    "opiod_df_wide.drop(cols_to_drop, axis=1, inplace=True) # drop unnecessary columns"
   ]
  },
  {
   "cell_type": "code",
   "execution_count": null,
   "metadata": {},
   "outputs": [],
   "source": [
    "opiod_df_wide.head()"
   ]
  },
  {
   "cell_type": "markdown",
   "metadata": {},
   "source": [
    "By default pandas doesn't show all the columns (shows ... instead).  Set max columns so that all can be inspected."
   ]
  },
  {
   "cell_type": "code",
   "execution_count": null,
   "metadata": {},
   "outputs": [],
   "source": [
    "pd.get_option(\"display.max_columns\")"
   ]
  },
  {
   "cell_type": "code",
   "execution_count": null,
   "metadata": {
    "collapsed": true
   },
   "outputs": [],
   "source": [
    "pd.set_option(\"display.max_columns\", 100)"
   ]
  },
  {
   "cell_type": "code",
   "execution_count": null,
   "metadata": {},
   "outputs": [],
   "source": [
    "opiod_df_wide.head()"
   ]
  },
  {
   "cell_type": "markdown",
   "metadata": {},
   "source": [
    "Many NaNs in the data.  Fill numerical where appropriate, per Eric."
   ]
  },
  {
   "cell_type": "code",
   "execution_count": null,
   "metadata": {
    "collapsed": true
   },
   "outputs": [],
   "source": [
    "fill_nan_cols = ['HIVdiagnoses', 'HIVincidence', 'HIVprevalence',\n",
    "                 'PLHIV', 'drugdeathrate', 'drugdeaths']\n",
    "opiod_df_wide[fill_nan_cols] = opiod_df_wide[fill_nan_cols].fillna(0) #fill NaNs for suppressed data with zeroes"
   ]
  },
  {
   "cell_type": "code",
   "execution_count": null,
   "metadata": {},
   "outputs": [],
   "source": [
    "opiod_df_wide.head()"
   ]
  },
  {
   "cell_type": "code",
   "execution_count": null,
   "metadata": {
    "collapsed": true
   },
   "outputs": [],
   "source": [
    "# Subset data to 2015\n",
    "opiod_df_15 = opiod_df_wide[opiod_df_wide['YEAR'] == 2015]"
   ]
  },
  {
   "cell_type": "code",
   "execution_count": null,
   "metadata": {
    "scrolled": true
   },
   "outputs": [],
   "source": [
    "opiod_df_15.head()"
   ]
  },
  {
   "cell_type": "code",
   "execution_count": null,
   "metadata": {
    "collapsed": true
   },
   "outputs": [],
   "source": [
    "pd.options.mode.chained_assignment = None  # default='warn', get rid of annoying warning associated with dropping below\n",
    "# drop columns having no 2015 data, will be extraploated from following years later\n",
    "opiod_df_15.drop(['num_SSPs', 'bup_phys', 'drugdep', 'pctunmetneed', 'nonmedpain'], axis=1, inplace=True)"
   ]
  },
  {
   "cell_type": "code",
   "execution_count": null,
   "metadata": {},
   "outputs": [],
   "source": [
    "opiod_df_15.head()"
   ]
  },
  {
   "cell_type": "code",
   "execution_count": null,
   "metadata": {
    "collapsed": true
   },
   "outputs": [],
   "source": [
    "# get esimates for num_SSPs, bug_phys, drug_dep, pctunmetneed, and nonmedpain from following years\n",
    "\n",
    "#subset opioid related data from one year only\n",
    "#number of needle exchange programs (num_SSPs)\n",
    "opiod_df_wide_17 = opiod_df_wide[opiod_df_wide['YEAR'] == 2017]\n",
    "df_num_SSP = opiod_df_wide_17[['num_SSPs', 'county_code']]\n",
    "\n",
    "#number of doctors licensed to rx Buprenorphine (bup_phys)\n",
    "df_bup_phys = opiod_df_wide_17[['bup_phys', 'county_code']]\n",
    "\n",
    "#percent with drug dependency (drug_dep)\n",
    "opiod_df_wide_16 = opiod_df_wide[opiod_df_wide['YEAR'] == 2016]\n",
    "df_drugdep = opiod_df_wide_16[['drugdep', 'county_code']]\n",
    "\n",
    "#percent unmet drug treatment need (pctunmetneed)\n",
    "df_pctunmetneed = opiod_df_wide_16[['pctunmetneed', 'county_code']]\n",
    "\n",
    "#percent taken pain meds for nonmedical use (nonmedpain)\n",
    "df_nonmedpain = opiod_df_wide_16[['nonmedpain', 'county_code']]"
   ]
  },
  {
   "cell_type": "code",
   "execution_count": null,
   "metadata": {
    "collapsed": true
   },
   "outputs": [],
   "source": [
    "# merge these values back into 2015 dataframe\n",
    "#merge opioid related data back to the 2015 dataframe\n",
    "opiod_df_15 = opiod_df_15.merge(df_num_SSP, on='county_code')\n",
    "opiod_df_15 = opiod_df_15.merge(df_bup_phys, on='county_code')\n",
    "opiod_df_15 = opiod_df_15.merge(df_drugdep, on='county_code')\n",
    "opiod_df_15 = opiod_df_15.merge(df_pctunmetneed, on='county_code')\n",
    "opiod_df_15 = opiod_df_15.merge(df_nonmedpain, on='county_code')"
   ]
  },
  {
   "cell_type": "code",
   "execution_count": null,
   "metadata": {},
   "outputs": [],
   "source": [
    "opiod_df_15.head()"
   ]
  },
  {
   "cell_type": "markdown",
   "metadata": {},
   "source": [
    "### CAMP data"
   ]
  },
  {
   "cell_type": "code",
   "execution_count": null,
   "metadata": {
    "collapsed": true
   },
   "outputs": [],
   "source": [
    "#load Men who have sex with men (MSM) estimate data\n",
    "msm_df = pd.read_csv(\"data/CAMP/US_MSM_Estimates_Data_2013.csv\")    #load the data\n",
    "msm_df['county_code'] = msm_df.STATEFP*1000 + msm_df.COUNTYFP  # build a county code column\n",
    "msm_df['county_code'] = msm_df.county_code.astype(int)\n",
    "msm_df['%msm12month'] = 100 * (msm_df.MSM12MTH / msm_df.ADULTMEN) # build a %MSM within last 12 months column\n",
    "msm_df['%msm5yr'] = 100 * (msm_df.MSM5YEAR / msm_df.ADULTMEN)     # build a %MSM within last 5years column"
   ]
  },
  {
   "cell_type": "code",
   "execution_count": null,
   "metadata": {},
   "outputs": [],
   "source": [
    "msm_df.head()"
   ]
  },
  {
   "cell_type": "code",
   "execution_count": null,
   "metadata": {},
   "outputs": [],
   "source": [
    "cols_to_drop = ['REGCODE', 'DIVCODE', 'STATEFP', 'COUNTYFP', 'CSACODE', \n",
    "                'CBSACODE','METDCODE', 'METMICSA', 'CENTOUTL']\n",
    "msm_df.drop(cols_to_drop, axis=1, inplace=True) #drop all unneeded columns\n",
    "msm_df.head()"
   ]
  },
  {
   "cell_type": "markdown",
   "metadata": {},
   "source": [
    "### ACS data"
   ]
  },
  {
   "cell_type": "code",
   "execution_count": null,
   "metadata": {},
   "outputs": [],
   "source": [
    "#unemplyment data\n",
    "df_employment = pd.read_csv(\"data/ACS_14_5YR_employment/ACS_14_5YR_S2301_with_ann.csv\", \n",
    "                            encoding = \"ISO-8859-1\", skiprows=1)\n",
    "df_employment = df_employment[['Id2', 'Unemployment rate; Estimate; Population 16 years and over']]\n",
    "df_employment.columns = ['county_code', 'unemployment_rate']\n",
    "df_employment.head()"
   ]
  },
  {
   "cell_type": "code",
   "execution_count": null,
   "metadata": {},
   "outputs": [],
   "source": [
    "#poverty data\n",
    "df_poverty = pd.read_csv(\"data/ACS_14_5YR_poverty/ACS_14_5YR_S1701_with_ann.csv\", \n",
    "                         encoding = \"ISO-8859-1\", skiprows=1)\n",
    "df_poverty = df_poverty[['Id2', 'Percent below poverty level; Estimate; Population for whom poverty status is determined']]\n",
    "df_poverty.columns = ['county_code', 'poverty_rate']\n",
    "df_poverty.head()"
   ]
  },
  {
   "cell_type": "code",
   "execution_count": null,
   "metadata": {},
   "outputs": [],
   "source": [
    "#income data\n",
    "df_income = pd.read_csv(\"data/ACS_14_5YR_income/ACS_14_5YR_S1901_with_ann.csv\", \n",
    "                        encoding = \"ISO-8859-1\", skiprows=1)\n",
    "df_income = df_income[['Id2', 'Households; Estimate; Total']]\n",
    "df_income.columns = ['county_code', 'household_income']\n",
    "df_income.head()"
   ]
  },
  {
   "cell_type": "markdown",
   "metadata": {},
   "source": [
    "**Note:** Insurance data is also included in `data/ACS_14_5Y_health_insur_coverage` but \n",
    "reading and cleaning the data is left to the user, if desired."
   ]
  },
  {
   "cell_type": "markdown",
   "metadata": {},
   "source": [
    "### Merging all the dataframes together into one dataframe"
   ]
  },
  {
   "cell_type": "code",
   "execution_count": null,
   "metadata": {
    "collapsed": true
   },
   "outputs": [],
   "source": [
    "#merge asfAR hiv/opioid data with CAMP MSM data\n",
    "df_main = opiod_df_15.merge(msm_df, on='county_code')\n",
    "\n",
    "#merge in ACS data\n",
    "df_main = df_main.merge(df_employment, on='county_code')\n",
    "df_main = df_main.merge(df_poverty, on='county_code')\n",
    "df_main = df_main.merge(df_income, on='county_code')"
   ]
  },
  {
   "cell_type": "code",
   "execution_count": null,
   "metadata": {},
   "outputs": [],
   "source": [
    "df_main.info()"
   ]
  },
  {
   "cell_type": "code",
   "execution_count": null,
   "metadata": {},
   "outputs": [],
   "source": [
    "df_main.head()"
   ]
  },
  {
   "cell_type": "code",
   "execution_count": null,
   "metadata": {
    "collapsed": true
   },
   "outputs": [],
   "source": []
  }
 ],
 "metadata": {
  "kernelspec": {
   "display_name": "Python 3",
   "language": "python",
   "name": "python3"
  },
  "language_info": {
   "codemirror_mode": {
    "name": "ipython",
    "version": 3
   },
   "file_extension": ".py",
   "mimetype": "text/x-python",
   "name": "python",
   "nbconvert_exporter": "python",
   "pygments_lexer": "ipython3",
   "version": "3.6.3"
  }
 },
 "nbformat": 4,
 "nbformat_minor": 2
}
