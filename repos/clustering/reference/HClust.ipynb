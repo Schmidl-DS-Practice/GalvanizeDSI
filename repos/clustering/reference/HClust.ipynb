{
 "cells": [
  {
   "cell_type": "markdown",
   "metadata": {},
   "source": [
    "# Hierarchical Clustering"
   ]
  },
  {
   "cell_type": "code",
   "execution_count": null,
   "metadata": {
    "collapsed": false
   },
   "outputs": [],
   "source": [
    "import numpy as np\n",
    "import pandas as pd\n",
    "%pylab inline"
   ]
  },
  {
   "cell_type": "markdown",
   "metadata": {},
   "source": [
    "## Load the Churn Data"
   ]
  },
  {
   "cell_type": "code",
   "execution_count": null,
   "metadata": {
    "collapsed": false
   },
   "outputs": [],
   "source": [
    "def normalize(col):\n",
    "    return (col - np.mean(col)) / np.std(col)\n",
    "\n",
    "def load_data(filename):\n",
    "    df = pd.read_csv(filename)\n",
    "\n",
    "    # Drop the state and phone columns\n",
    "    del df['State']\n",
    "    del df['Area Code']\n",
    "    del df['Phone']\n",
    "\n",
    "    # Binarize remaining variables\n",
    "    df[\"Int'l Plan\"] = (df[\"Int\\'l Plan\"] == 'yes').astype(int)\n",
    "    df[\"VMail Plan\"] = (df[\"VMail Plan\"] == 'yes').astype(int)\n",
    "    df['Churn?'] = (df['Churn?'] == 'True.').astype(int)\n",
    "\n",
    "    # Normalize columns so that cosine similarity is the same as correlation\n",
    "    arr = np.apply_along_axis(normalize, 1, df.values)\n",
    "    return arr, df.columns\n",
    "\n",
    "arr, cols = load_data('../data/churn.csv')"
   ]
  },
  {
   "cell_type": "markdown",
   "metadata": {},
   "source": [
    "## Perform hierarchical clustering on observations (columns)"
   ]
  },
  {
   "cell_type": "code",
   "execution_count": null,
   "metadata": {
    "collapsed": false
   },
   "outputs": [],
   "source": [
    "from scipy.spatial.distance import pdist, squareform\n",
    "from scipy.cluster.hierarchy import linkage, dendrogram\n",
    "\n",
    "# Create distance matrix on columns using cosine distance\n",
    "dist = squareform(pdist(arr.transpose(), 'cosine'))\n",
    "clust = linkage(dist, method='complete')\n",
    "\n",
    "fig, ax = plt.subplots(figsize=(24,8))\n",
    "_ = dendrogram(clust, ax=ax, labels=cols)\n",
    "_ = plt.xticks(fontsize=14)"
   ]
  }
 ],
 "metadata": {
  "kernelspec": {
   "display_name": "Python 2",
   "language": "python",
   "name": "python2"
  },
  "language_info": {
   "codemirror_mode": {
    "name": "ipython",
    "version": 2
   },
   "file_extension": ".py",
   "mimetype": "text/x-python",
   "name": "python",
   "nbconvert_exporter": "python",
   "pygments_lexer": "ipython2",
   "version": "2.7.10"
  }
 },
 "nbformat": 4,
 "nbformat_minor": 0
}
