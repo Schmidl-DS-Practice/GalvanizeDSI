{
 "cells": [
  {
   "cell_type": "markdown",
   "metadata": {},
   "source": [
    "# Gradient Descent\n",
    "\n",
    "## Introduction\n",
    "\n",
    "We will be implementing logistic regression using the gradient descent algorithm.\n",
    "\n",
    "#### References:\n",
    "* [Andrew Ng's Machine Learning Lecture Notes](https://see.stanford.edu/materials/aimlcs229/cs229-notes1.pdf)\n",
    "\n",
    "#### Notes on Implementing Gradient Descent:\n",
    "* Implementing gradient descent can lead to challenging debugging. Make sure you implement your algorithm using very simple pieces (functions or methods) which you then combine into the full algorithm.  This allows you to check the correctness of the individual functions, which makes mistakes easier to track down. You may also try computing values by hand for a really simple example (1 feature, 2 data points) and make sure that your methods are getting the same values.\n",
    "* Numpy is your friend. Use the power of it! There should only be one loop in\n",
    "your code (in `fit`). You should never have to loop over a numpy array. See the\n",
    "numpy [tutorial](https://docs.scipy.org/doc/numpy/user/quickstart.html) and\n",
    "[documentation](http://docs.scipy.org/doc/).\n",
    "\n",
    "## Basic\n",
    "### Part 1: Create Data\n",
    "\n",
    "1. Generate a dataset using sklearn's make_classification function.\n",
    "\n",
    "    ```python\n",
    "    X, y = make_classification(n_samples=100,\n",
    "                                n_features=2,\n",
    "                                n_informative=2,\n",
    "                                n_redundant=0,\n",
    "                                n_classes=2,\n",
    "                                random_state=0)\n",
    "    ```"
   ]
  },
  {
   "cell_type": "code",
   "execution_count": 1,
   "metadata": {},
   "outputs": [],
   "source": [
    "# imports\n",
    "import numpy as np\n",
    "import matplotlib.pyplot as plt\n",
    "import matplotlib as mpl\n",
    "\n",
    "import src.logistic_regression_functions as lrf\n",
    "\n",
    "from sklearn.linear_model import LogisticRegression, LinearRegression\n",
    "\n",
    "from sklearn.datasets import make_classification\n",
    "\n",
    "from sklearn.metrics import accuracy_score, precision_score, recall_score\n",
    "from statsmodels.tools import add_constant\n",
    "from sklearn.model_selection import train_test_split, KFold\n",
    "\n",
    "# set larger font sizes and the style\n",
    "np.set_printoptions(suppress=True)\n",
    "font_size = 24\n",
    "mpl.rcParams.update({'font.size': font_size})\n",
    "mpl.rcParams['xtick.labelsize'] = font_size-5\n",
    "mpl.rcParams['ytick.labelsize'] = font_size-5\n",
    "#plt.style.use('bmh')\n",
    "plt.style.use('dark_background')"
   ]
  },
  {
   "cell_type": "code",
   "execution_count": 2,
   "metadata": {},
   "outputs": [],
   "source": [
    "X, y = make_classification(n_samples=100,\n",
    "                             n_features=2,\n",
    "                             n_informative=2,\n",
    "                             n_redundant=0,\n",
    "                             n_classes=2,\n",
    "                             random_state=0)"
   ]
  },
  {
   "cell_type": "code",
   "execution_count": 3,
   "metadata": {},
   "outputs": [
    {
     "data": {
      "text/plain": [
       "array([[-0.76605469,  0.18332468],\n",
       "       [-0.92038325, -0.0723168 ],\n",
       "       [-0.98658509, -0.28692   ],\n",
       "       [ 1.70910242, -1.10453952],\n",
       "       [ 1.9876467 ,  1.77624479],\n",
       "       [ 3.86274219,  2.63325914],\n",
       "       [-1.12836011, -0.42276158],\n",
       "       [-1.10074198, -2.56042975],\n",
       "       [-1.53716448,  1.10502647],\n",
       "       [-0.32372692,  0.55626974],\n",
       "       [-1.28532883, -1.30819171],\n",
       "       [ 3.35973253, -1.79506345],\n",
       "       [-1.27034986,  1.2678044 ],\n",
       "       [-0.71023363, -1.13058206],\n",
       "       [-1.12933108,  0.68766176],\n",
       "       [ 0.24820673, -0.50979271],\n",
       "       [-2.47263494, -0.48661246],\n",
       "       [-1.11573423,  1.43370121],\n",
       "       [-1.2141474 ,  1.97698901],\n",
       "       [-1.25860859, -0.18289652],\n",
       "       [-0.53583409,  1.10698637],\n",
       "       [ 0.92328145, -1.30813451],\n",
       "       [ 2.02751248, -0.4032571 ],\n",
       "       [ 2.1871814 ,  2.03196825],\n",
       "       [ 0.51281456,  0.43299453],\n",
       "       [-2.8118071 , -0.34553805],\n",
       "       [ 0.31338067,  1.12073484],\n",
       "       [ 0.27299061, -0.32110537],\n",
       "       [-1.18986266,  0.42434508],\n",
       "       [-0.11213297, -0.90719743],\n",
       "       [ 1.23567148,  1.5552506 ],\n",
       "       [-0.70329192, -0.6054158 ],\n",
       "       [ 1.3382818 , -0.98613257],\n",
       "       [-3.19826339, -1.25732069],\n",
       "       [ 0.76438953, -0.67959801],\n",
       "       [ 0.95252962, -0.79347019],\n",
       "       [-0.43793316, -1.24378126],\n",
       "       [ 2.40620516, -0.10017113],\n",
       "       [ 0.68152068,  0.39390608],\n",
       "       [ 0.45139447, -0.00247553],\n",
       "       [-1.45709006,  0.48668119],\n",
       "       [ 1.69989125, -1.66130052],\n",
       "       [-0.98035846, -1.40246886],\n",
       "       [-0.26822526,  0.0458931 ],\n",
       "       [-1.85016853, -3.58754622],\n",
       "       [-0.10789457,  1.34057624],\n",
       "       [ 1.27458364, -2.5215955 ],\n",
       "       [-0.44736931, -0.26805121],\n",
       "       [-0.00811816,  2.11564734],\n",
       "       [-2.22244349, -1.62073375],\n",
       "       [-0.89436588,  0.92995032],\n",
       "       [-0.2415271 ,  0.4559465 ],\n",
       "       [ 0.85041166, -0.2083118 ],\n",
       "       [-1.06938289,  0.41718036],\n",
       "       [-0.99510532,  1.23195055],\n",
       "       [-0.83183986,  0.7216695 ],\n",
       "       [-1.24743076,  0.70921659],\n",
       "       [ 1.22964368, -0.96154156],\n",
       "       [-0.90014214,  1.78037474],\n",
       "       [ 0.5710682 , -1.23267396],\n",
       "       [ 0.21654345, -0.07156026],\n",
       "       [-0.15902752, -2.38076394],\n",
       "       [-0.59732184, -1.20114435],\n",
       "       [ 1.04421447,  2.02899023],\n",
       "       [ 0.95508388, -1.62184212],\n",
       "       [-0.90334395,  1.79445113],\n",
       "       [-1.27395967, -0.04378433],\n",
       "       [ 0.25020227, -0.10486202],\n",
       "       [-0.89552621,  0.35117341],\n",
       "       [-1.17921312,  0.54481881],\n",
       "       [-1.20374176, -0.28978825],\n",
       "       [ 1.22006997, -0.82718247],\n",
       "       [ 2.34137626,  1.47049892],\n",
       "       [-0.61529301, -0.86400813],\n",
       "       [ 1.79574591,  1.87834887],\n",
       "       [-0.78091068,  1.85082392],\n",
       "       [-0.13650855,  0.73389996],\n",
       "       [ 1.73590335, -0.86953695],\n",
       "       [-0.6358122 ,  1.35329628],\n",
       "       [-0.68304936, -0.80022106],\n",
       "       [ 0.85144036,  2.42548085],\n",
       "       [-1.11745336,  1.26661394],\n",
       "       [ 0.67311496,  0.5593132 ],\n",
       "       [-1.14855777,  0.86582546],\n",
       "       [-1.45125944, -0.76288442],\n",
       "       [ 0.8566997 , -0.44358419],\n",
       "       [ 1.91002859, -2.20119016],\n",
       "       [-1.04999632,  1.83240861],\n",
       "       [-0.07818714, -0.35452887],\n",
       "       [ 0.52390262, -1.97242756],\n",
       "       [-1.36672011, -1.05286598],\n",
       "       [ 0.21726178, -0.47182417],\n",
       "       [ 1.35081491, -0.19464386],\n",
       "       [-1.41363563, -0.3599673 ],\n",
       "       [ 1.86752028, -0.20572167],\n",
       "       [-0.98944929,  0.37343616],\n",
       "       [-0.869385  , -0.86069962],\n",
       "       [ 2.53026908,  0.38025157],\n",
       "       [-0.46122013, -3.697436  ],\n",
       "       [-2.05321581,  0.42234144]])"
      ]
     },
     "execution_count": 3,
     "metadata": {},
     "output_type": "execute_result"
    }
   ],
   "source": [
    "X"
   ]
  },
  {
   "cell_type": "markdown",
   "metadata": {},
   "source": [
    "2. We use two features so that we can visualize our data. Make a scatterplot with the first feature on the horizontal axis and the second on the vertical axis. Depict the two categories using different colors or different symbols."
   ]
  },
  {
   "cell_type": "code",
   "execution_count": 4,
   "metadata": {},
   "outputs": [
    {
     "data": {
      "image/png": "[encoded data removed]",
      "text/plain": [
       "<Figure size 1080x1080 with 1 Axes>"
      ]
     },
     "metadata": {},
     "output_type": "display_data"
    }
   ],
   "source": [
    "fig, ax = plt.subplots(nrows=1, ncols=1, figsize=(15,15))\n",
    "\n",
    "colors = ['blue' if y_i==1 else 'green' for y_i in y]\n",
    "\n",
    "ax.scatter(X[:, 0], X[:,1], c=colors);"
   ]
  },
  {
   "cell_type": "markdown",
   "metadata": {},
   "source": [
    "3. Just by eye-balling, make an estimate for a decision boundary of the form `x_2 = m*x_1 + b`. (Note that we haven't fit a logistic regression to this yet, but if we did, the line of constant `p=0.5` has `m = -beta_1 / beta_2` and `b = -beta_0 / beta_2`.)"
   ]
  },
  {
   "cell_type": "code",
   "execution_count": 5,
   "metadata": {},
   "outputs": [],
   "source": [
    "#x_2 = m*x_1 + b\n",
    "#m = 10\n",
    "\n",
    "#b = -1"
   ]
  },
  {
   "cell_type": "markdown",
   "metadata": {},
   "source": [
    "### Part 2: Cost function\n",
    "\n",
    "In order to be able to evaluate if our gradient descent algorithm is working\n",
    "correctly, we will need to be able to calculate the cost.\n",
    "\n",
    "Recall the log likelihood function for logistic regression. Our goal is to *maximize* this value.\n",
    "\n",
    "![Cost Function](images/likelihood.png)\n",
    "<!--\n",
    "\\ell(\\boldsymbol\\beta) = \\sum_{i=1}^{n} y_i \\log ( h(\\mathbf{x_i}) ) + (1-y_i) \\log (1 - h(\\mathbf{x_i}))\n",
    "-->\n",
    "\n",
    "Recall that the hypothesis function *h* is defined as follows:\n",
    "\n",
    "![hypothesis](images/hypothesis.png)\n",
    "<!--\n",
    "h(\\mathbf{x_i}) = \\frac{1}{1+e^{-\\boldsymbol\\beta\\mathbf{x_i}}}\n",
    "-->\n",
    "\n",
    "Since we will be implementing Gradient *Descent*, which *minimizes* a function, we'll look at the cost function below, which is just the negation of the log likelihood function above.\n",
    "\n",
    "![cost function](images/cost.png)\n",
    "<!--\n",
    "J(\\boldsymbol\\beta) = - \\sum_{i=1}^{n} y_i \\log ( h(\\mathbf{x_i}) ) + (1-y_i) \\log (1 - h(\\mathbf{x_i}))\n",
    "-->\n",
    "\n",
    "The gradient of the cost function is as follows:\n",
    "\n",
    "![gradient](images/gradient.png)\n",
    "<!--\n",
    "\\nabla J(\\boldsymbol\\beta) =\n",
    "\\left[\n",
    "\\frac\\partial{\\partial\\beta_1}J(\\boldsymbol\\beta),\n",
    "\\frac\\partial{\\partial\\beta_2}J(\\boldsymbol\\beta),\n",
    "\\ldots,\n",
    "\\frac\\partial{\\partial\\beta_p}J(\\boldsymbol\\beta)\n",
    "\\right]\n",
    "-->\n",
    "\n",
    "Each partial derivative will be computed as follows (for `j >= 1`):\n",
    "\n",
    "![partial](images/partial.png)\n",
    "<!--\n",
    "\\frac\\partial{\\partial\\beta_j}J(\\boldsymbol\\beta) =\n",
    "\\sum_{i=1}^n \\left( h(\\mathbf{x_i}) - y_i \\right ) x_{ij}\n",
    "-->\n",
    "\n",
    "1. To verify that your implementations are correct, compute the following _by hand_. Of course, you can use a calculator/google/wolfram alpha/python.\n",
    "\n",
    "\n",
    "    |                   | feature 1 | feature 2 |   y |\n",
    "    | ----------------- | --------: | --------: | --: |\n",
    "    | **x<sub>1</sub>** |         0 |         1 |   1 |\n",
    "    | **x<sub>2</sub>** |         2 |         2 |   0 |\n",
    "    | **x<sub>3</sub>** |         3 |         0 |   0 |  \n",
    "    \n",
    "\n",
    "\n",
    "    1. Using the data above, compute the **value of the cost function**. Initialize your coefficients: β<sub>1</sub> =1, β<sub>2</sub> =1. For now, assume β<sub>0</sub>=0 (that is, we are not considering an intercept term).\n",
    "    \n",
    "        Hint: you will use\n",
    "        (β<sub>1</sub>x<sub>1,1</sub> + β<sub>2</sub>x<sub>1,2</sub>)\n",
    "        while computing your hypothesis function for the first data point.\n",
    "    \n",
    "    2. Using the data above, compute the **gradient of the cost function**."
   ]
  },
  {
   "cell_type": "code",
   "execution_count": 6,
   "metadata": {},
   "outputs": [
    {
     "name": "stdout",
     "output_type": "stream",
     "text": [
      "h_1:0.7310585786300049, h_2:0.9820137900379085, h_3:0.9525741268224334\n",
      "4.8217499605431176 1.6950861587058217\n"
     ]
    }
   ],
   "source": [
    "def h(b1, b2, x1, x2):\n",
    "    value = 1 / (1 + np.exp(-(b1*x1 + b2*x2)))\n",
    "    #print(f'h({x1}, {x2}) with b1={b1}, b2={b2} is {value}')\n",
    "    return value\n",
    "\n",
    "\n",
    "partial_1 = (h(b1=1, b2=1, x1=0, x2=1) - 1) * 0 + (h(b1=1, b2=1, x1=2, x2=2) - 0) * 2 +(h(b1=1, b2=1, x1=3, x2=0) - 0) * 3\n",
    "\n",
    "partial_2 = (h(b1=1, b2=1, x1=0, x2=1) - 1) * 1 + (h(b1=1, b2=1, x1=2, x2=2) - 0) * 2 +(h(b1=1, b2=1, x1=3, x2=0) - 0) * 0\n",
    "\n",
    "h_1 = h(b1=1, b2=1, x1=0, x2=1)\n",
    "h_2 = h(b1=1, b2=1, x1=2, x2=2)\n",
    "h_3 = h(b1=1, b2=1, x1=3, x2=0)\n",
    "\n",
    "print(f'h_1:{h_1}, h_2:{h_2}, h_3:{h_3}')\n",
    "\n",
    "print(partial_1, partial_2)\n",
    "    "
   ]
  },
  {
   "cell_type": "markdown",
   "metadata": {},
   "source": [
    "2. In `logistic_regression_functions.py`, implement `predict_proba` and `predict` functions. `predict_proba` will calculate the result of `h(x)` for the given coefficients. This returns float values between 0 and 1, which should be interpreted as conditional probabilities. `predict` will round these values so that you get a prediction of either 0 or 1. An optional argument is provided for the threshold, which is defaulted to `0.5`.  **Note:** The names of these functions were chosen to align with `sklearn`'s conventions."
   ]
  },
  {
   "cell_type": "code",
   "execution_count": 7,
   "metadata": {},
   "outputs": [
    {
     "name": "stdout",
     "output_type": "stream",
     "text": [
      "The predicted probability vector is [0.3775406687981454, 0.7310585786300049, 0.9525741268224334]\n",
      "The predicted class vector is [0, 1, 1]\n"
     ]
    }
   ],
   "source": [
    "X_sample = np.array([[0, 1], [2, 2], [3, 0]])\n",
    "y_sample = np.array([1, 0, 0])\n",
    "coeffs = np.array([1, -0.5])\n",
    "\n",
    "\n",
    "p = lrf.predict_proba(X_sample, coeffs)\n",
    "y_hat = lrf.predict(X_sample, coeffs)\n",
    "#cost = lrf.cost(X_sample, y_sample, coeffs)\n",
    "#grad = lrf.gradient(X_sample, y_sample, coeffs)\n",
    "\n",
    "print(\"The predicted probability vector is {}\".format(str(p)))\n",
    "print(\"The predicted class vector is {}\".format(str(y_hat)))\n",
    "# print(\"The cost function at these coefficients is {}\".format(str(cost)))\n",
    "# print(\"The gradient of the cost is {}\".format(str(grad)))"
   ]
  },
  {
   "cell_type": "markdown",
   "metadata": {},
   "source": [
    "3. In `logistic_regression_functions.py`, implement `cost` and `gradient`. You should be able to use the `predict_proba` function you implemented above. Make sure to check that you get the same values as you computed above.\n",
    "\n",
    "    In a terminal, you should be able to run your function like this:\n",
    "\n",
    "    ```python\n",
    "    import logistic_regression_functions as f\n",
    "    import numpy as np\n",
    "    X = np.array([[0, 1], [2, 2], [3, 0]])\n",
    "    y = np.array([1, 0, 0])\n",
    "    coeffs = np.array([1, 1])\n",
    "    f.cost(X, y, coeffs)\n",
    "    ```\n",
    "\n",
    "    Make sure to do `reload(f)` if you make changes to your code."
   ]
  },
  {
   "cell_type": "code",
   "execution_count": null,
   "metadata": {},
   "outputs": [],
   "source": []
  },
  {
   "cell_type": "markdown",
   "metadata": {},
   "source": [
    "### Part 3: Implement Gradient Descent\n",
    "\n",
    "Now we are going to implement gradient descent, an algorithm for solving\n",
    "optimization problems.\n",
    "\n",
    "Below is psuedocode for the gradient descent algorithm. This is a generic\n",
    "algorithm that can solve many convex optimization problems (of which logistic regression is an example).\n",
    "In our case, the β we are solving for is the coefficient vector in logistic regression.\n",
    "\n",
    "In this pseudocode, and in our implementation, we will stop after a given number\n",
    "of iterations. A more common approach is to stop once the incremental\n",
    "improvement in the optimization function is sufficiently small, while still terminating after a fixed number of iterations so as not to create an infinite loop if things go badly during the optimization.\n",
    "\n",
    "    Gradient Descent:\n",
    "        input: J: differential function (optimization function)\n",
    "               α: learning rate\n",
    "               k: number of iterations\n",
    "        output: local maximum of optimization function J\n",
    "\n",
    "        initialize β (often as all 0's)\n",
    "        repeat for k iterations:\n",
    "            β <- β - α * gradient(J)\n",
    "\n",
    "You are going to be completing the code stub in `GradientDescent.py`.\n",
    "\n",
    "1. Start by taking a look at the starter code. Note how the `GradientDescent` object is initialized. It takes a cost function and a gradient function. We will pass it the functions that we wrote above. Here's example code of how we'll be able to run the Gradient Descent code once you've completed all the functions.\n",
    "\n",
    "    ```python\n",
    "    import logistic_regression_functions as f\n",
    "    from GradientDescent import GradientDescent\n",
    "\n",
    "    gd = GradientDescent(f.cost, f.gradient, f.predict)\n",
    "    gd.fit(X, y)\n",
    "    print(\"coeffs:\", gd.coeffs)\n",
    "    predictions = gd.predict(X)\n",
    "    ```"
   ]
  },
  {
   "cell_type": "code",
   "execution_count": null,
   "metadata": {},
   "outputs": [],
   "source": []
  },
  {
   "cell_type": "markdown",
   "metadata": {},
   "source": [
    "2. Implement the `fit` method. Follow the pseudocode from above."
   ]
  },
  {
   "cell_type": "code",
   "execution_count": null,
   "metadata": {},
   "outputs": [],
   "source": []
  },
  {
   "cell_type": "markdown",
   "metadata": {},
   "source": [
    "3. Implement the `predict` method. It should just call the `predict_func` function that was taken as a parameter.\n",
    "\n",
    "    This will be a kind of boring function. But later it will get more interesting if we do any preprocessing on the data."
   ]
  },
  {
   "cell_type": "code",
   "execution_count": null,
   "metadata": {},
   "outputs": [],
   "source": []
  },
  {
   "cell_type": "markdown",
   "metadata": {},
   "source": [
    "## Advanced\n",
    "\n",
    "### Part 4: Run gradient descent & compare\n",
    "\n",
    "Now we're ready to try out our gradient descent algorithm on some real data.\n",
    "\n",
    "1. Run your version of gradient descent on the fake data you created at the beginning.\n",
    "\n",
    "    **Note:** If you're having trouble getting it to converge, run it for just\n",
    "    a few iterations and print out the cost at each iteration. The value should\n",
    "    be going down. If it isn't, you might need to decrease your learning rate.\n",
    "    And of course check your implementation to make sure it's correct. You can\n",
    "    also try printing out the cost every 100 iterations if you want to run it\n",
    "    longer and not get an insane amount of printing."
   ]
  },
  {
   "cell_type": "code",
   "execution_count": null,
   "metadata": {},
   "outputs": [],
   "source": []
  },
  {
   "cell_type": "markdown",
   "metadata": {},
   "source": [
    "2. Do you get a similar decision boundary to your eyeballed guess?"
   ]
  },
  {
   "cell_type": "code",
   "execution_count": null,
   "metadata": {},
   "outputs": [],
   "source": []
  },
  {
   "cell_type": "markdown",
   "metadata": {},
   "source": [
    "3. Run sklearn's `LogisticRegression` on the fake data and see if you get the same results."
   ]
  },
  {
   "cell_type": "code",
   "execution_count": null,
   "metadata": {},
   "outputs": [],
   "source": []
  },
  {
   "cell_type": "markdown",
   "metadata": {},
   "source": [
    "### Part 5: Add Intercept\n",
    "\n",
    "Ideally we would like to also have an intercept. In the one feature case, our equation\n",
    "should look like this: `y = mx + b` (not just `y = mx`). We solve this by adding\n",
    "a column of ones to our feature matrix.\n",
    "\n",
    "1. Implement `add_intercept` in\n",
    "`logistic_regression_functions.py` and use it to modify your feature matrix\n",
    "before running gradient descent.\n",
    "\n",
    "    ```python\n",
    "    def add_intercept(X):\n",
    "        \"\"\"Add an intercept column to a matrix X.\n",
    "\n",
    "        Parameters\n",
    "        ----------\n",
    "        X: A two dimensional numpy array.\n",
    "\n",
    "        Returns\n",
    "        -------\n",
    "        X: The original matrix X, but with a constant column of 1's appended.\n",
    "        \"\"\"\n",
    "    ```\n"
   ]
  },
  {
   "cell_type": "code",
   "execution_count": null,
   "metadata": {},
   "outputs": [],
   "source": []
  },
  {
   "cell_type": "markdown",
   "metadata": {},
   "source": [
    "2. Modify the `__init__` method of `GradientDescent` so that it can take a boolean parameter `fit_intercept`:\n",
    "\n",
    "    ```python\n",
    "    def __init__(self, cost, gradient, fit_intercept=True):\n",
    "        # code goes here\n",
    "    ```\n",
    "\n",
    "    If you set `fit_intercept` to be False, it should work the same way as before this modification."
   ]
  },
  {
   "cell_type": "code",
   "execution_count": null,
   "metadata": {},
   "outputs": [],
   "source": []
  },
  {
   "cell_type": "markdown",
   "metadata": {},
   "source": [
    "3. Check that you get a similar decision boundary to the line you eyeballed."
   ]
  },
  {
   "cell_type": "code",
   "execution_count": null,
   "metadata": {},
   "outputs": [],
   "source": []
  },
  {
   "cell_type": "markdown",
   "metadata": {},
   "source": [
    "## Extra Credit\n",
    "\n",
    "### Part 6: Standardization\n",
    "\n",
    "If you try running your gradient descent code on some of the data from the [logistic regression](https://github.com/GalvanizeDataScience/logistic-regression) exercises, you'll probably have issues with it converging. You can try playing around with alpha, the learning rate (one option is to decrease the learning rate at every iteration).\n",
    "\n",
    "An easier way is to *standardize* the data: shift and scale the data so that the mean is 0 and the standard deviation\n",
    "is 1. To do this, we compute the mean and standard deviation for each feature\n",
    "in the data set and then update the feature matrix by subtracting the mean from each value and then dividing by the standard deviation.\n",
    "\n",
    "1. Commit your code! Run a `git commit -m \"some message\"` so that if you goof\n",
    "things up with your changes you don't lose your previous version.\n",
    "\n",
    "2. Add some methods to the `GradientDescent` class to calculate the scale factors and to scale the features (if the parameter is set.)\n",
    "    * **Note:** Make sure to scale before you add the intercept column. You don't want to try and scale a column of all ones.\n",
    "\n",
    "3. Modify the `__init__` method of the `GradientDescent` class so that it can take a boolean `standardize` parameter. Add calls of the above functions to the `fit` method if `standardize` is `True`.\n",
    "\n",
    "4. Make sure to standardize the features before you call the `cost` or `gradient` function.\n",
    "\n",
    "    * **Note:** You should calculate mu and sigma from the *training* data and use those values of mu and sigma to scale your test data.  Applying standardization to the entire data (before a train test split) is a subtle form of data leakage, and applying independent standardization to the test data can often result in overly optimistic measures of model performance.\n",
    "\n",
    "5. Run your code on the fake data and make sure you get the same results.\n",
    "\n",
    "6. Try running your code on the data from [logistic regression](https://github.com/GalvanizeDataScience/logistic-regression). Does it converge?\n"
   ]
  },
  {
   "cell_type": "code",
   "execution_count": null,
   "metadata": {},
   "outputs": [],
   "source": []
  },
  {
   "cell_type": "markdown",
   "metadata": {},
   "source": [
    "### Part 7: Regularization\n",
    "\n",
    "Recall that regularization helps us deal with overfitting. Let's implement L2 regularization (Ridge).\n",
    "\n",
    "We will be adding the following term to the cost function.\n",
    "\n",
    "![regularization](images/regularization.png)\n",
    "<!--\n",
    "\\lambda \\sum_{j=1}^p\\beta_j^2\n",
    "-->\n",
    "\n",
    "1. Again, don't forget to commit first!\n",
    "\n",
    "2. Modify your cost to include the above term. You should add an additional parameter to the cost function called `lam` which is the lambda in the regularization term.\n",
    "\n",
    "3. Modify your gradient function to include the gradient of the above term. You should add the `lam` term here as well.\n",
    "\n",
    "4. When you instantiate the `GradientDescent` object, you will need to use a new version of these two functions. Here's how you can create them:\n",
    "\n",
    "    ```python\n",
    "    def cost_regularized(X, y, coeffs):\n",
    "        return cost(X, y, coeffs, lam=1)\n",
    "    \n",
    "    def gradient_regularized(X, y, coeffs):\n",
    "        return gradient(X, y, coeffs, lam=1)\n",
    "    ```\n",
    "\n",
    "    Note that you won't actually need to modify your `GradientDescent` algorithm at all.\n",
    "\n",
    "\n",
    "***Always commit before you start a new part! If you muck up your previously working solution, you'll want to get back to it!***"
   ]
  },
  {
   "cell_type": "code",
   "execution_count": null,
   "metadata": {},
   "outputs": [],
   "source": []
  },
  {
   "cell_type": "markdown",
   "metadata": {},
   "source": [
    "### Part 8: Termination\n",
    "\n",
    "Instead of terminating after a fixed number of iterations, we can terminate when the incremental improvement in the cost function is sufficiently small.\n",
    "\n",
    "1. Add a parameter `step_size` to the `fit` function. Terminate the loop once the incremental decrease in the cost function is smaller than `step_size`. Note that this means you'll have to evaluate the cost function at each iteration and compare it to the previous value of the cost function. Specify your function to rely on the step_size parameter instead of the num_iterations parameter if the step_size\n",
    "is not None.\n",
    "\n",
    "2. Figure out what a good value for the `step_size`. If it's too large, you won't make it to the optimal solution. If it's too small, it will take too long to converge."
   ]
  },
  {
   "cell_type": "code",
   "execution_count": null,
   "metadata": {},
   "outputs": [],
   "source": []
  },
  {
   "cell_type": "markdown",
   "metadata": {},
   "source": [
    "### Part 9: Stochastic Gradient Descent\n",
    "\n",
    "*Stochastic Gradient Descent* is a variant of the gradient descent algorithm that in practice converges faster. The difference is that at each iteration, stochastic gradient descent only uses *one* training example for its update. Here is the pseudocode. `n` here is the number of training examples.\n",
    "\n",
    "```\n",
    "Randomly shuffle examples in the training set.\n",
    "Repeat until step size is sufficiently small:\n",
    "    for i = 1, 2, ... n:\n",
    "        β <- β - α * gradient for x_i\n",
    "```\n",
    "\n",
    "Here's the cost function for a single data point **x<sub>i</sub>**:\n",
    "\n",
    "![stochastic cost](images/stochastic_cost.png)\n",
    "<!--\n",
    "J_i(\\boldsymbol\\beta)} = \\log ( h(\\mathbf{x_i}) ) + (1-y_i) \\log (1 - h(\\mathbf{x_i})\n",
    "-->\n",
    "\n",
    "Here is the formula for the partial derivatives that make up the gradient:\n",
    "\n",
    "![stochastic partial](images/stochastic_partial.png)\n",
    "<!--\n",
    "\\frac{\\partial J_i(\\boldsymbol\\beta)}{\\partial \\beta_j} = \\left( h(\\mathbf{x_i}) - y_i \\right ) x_{ij}\n",
    "-->\n",
    "\n",
    "Note that we shuffle the training examples and then go through them in order so that we use every training example before repeating.\n",
    "\n",
    "1. Implement a `fit_stochastic` method that uses the stochastic gradient descent algorithm to fit the model.  You may have to implement alternate versions of the `cost` and `gradient` functions that accept different types for their arguments.\n",
    "\n",
    "2. Use ipython's `timeit` to compare the runtime of the standard gradient descent algorithm and stochastic gradient descent. Also compare their results to verify that they return the same optimal coefficients."
   ]
  },
  {
   "cell_type": "code",
   "execution_count": null,
   "metadata": {},
   "outputs": [],
   "source": []
  },
  {
   "cell_type": "markdown",
   "metadata": {},
   "source": [
    "### Part 10: Newton's Method for a single variable\n",
    "\n",
    "While gradient descent and stochastic gradient descent are two of the most common optimization techniques, they are not the only techniques used by data scientists. Newton's Method is a root-finding algorithm. When we apply Newton's Method to the derivative of a function, we can find the roots of the derivative, which is equivalent to finding the extrema of a function.\n",
    "\n",
    "1. Newton's Method can be used for finding the **roots of a differentiable function**. You may have learned this algorithm in your high school calculus class. Here is an overview of how the algorithm works.\n",
    "    ```\n",
    "    1. Provide an initial guess x0 for the location of the root.\n",
    "\n",
    "    2. Calculate f(x0)\n",
    "\n",
    "    3. If f(x0) is less than your pre-defined tolerance, then stop. Otherwise continue.\n",
    "\n",
    "    4. Find the x-intercept of the line tangent to f(x) at x0.\n",
    "\n",
    "    5. Update x0 := the x-intercept found in step 4.\n",
    "\n",
    "    6. Return to step 2.\n",
    "    ```\n",
    "    \n",
    "    Here is an [animation of how it works](https://en.wikipedia.org/wiki/Newton%27s_method#/media/File:NewtonIteration_Ani.gif)\n",
    "\n",
    "    Equivalently, this iterative method uses this update formula:\n",
    " \n",
    "    ![update formula](images/newtonupdate1.png)\n",
    "\n",
    "\n",
    "2. Newton's Method can also be used to find **local optima of any twice-differentiable function**, such as the cost function, by approximating the zeros of a function's derivative. \n",
    "\n",
    "    First, we can set \n",
    "\n",
    "    ![update formula](images/newtonupdate3.png)\n",
    "\n",
    "    Then, our new update formula will take the form \n",
    "\n",
    "    ![update formula](images/newtonupdate2.png)\n",
    "\n",
    "    And, we continue updating until the derivative, _g(x)_, is less than our tolerance level.\n",
    "\n",
    "    Note: if our function is quadratic, this method will find the vertex in one step.\n",
    "    \n",
    "\n",
    "3. **Exercise:**  Using Newton's Method for optimization, write a function that returns one of the local minimas of the quartic function f(x) = x<sup>4</sup> + 2x<sup>3</sup> - 5x<sup>2</sup> - 8. \n",
    "\n",
    "    ```python\n",
    "    def newton_quartic(x0, epsilon):\n",
    "    '''\n",
    "        Parameters\n",
    "\t----------\n",
    "        x0: Initial guess for x0.\n",
    "\tepsilon: Tolerance level for convergence.\n",
    "\n",
    "\tReturns\n",
    "\t-------\n",
    "        optim: Cartesian coordinates of minima.\n",
    "    '''\n",
    "    ```"
   ]
  },
  {
   "cell_type": "code",
   "execution_count": null,
   "metadata": {},
   "outputs": [],
   "source": []
  }
 ],
 "metadata": {
  "kernelspec": {
   "display_name": "Python 3",
   "language": "python",
   "name": "python3"
  },
  "language_info": {
   "codemirror_mode": {
    "name": "ipython",
    "version": 3
   },
   "file_extension": ".py",
   "mimetype": "text/x-python",
   "name": "python",
   "nbconvert_exporter": "python",
   "pygments_lexer": "ipython3",
   "version": "3.7.6"
  }
 },
 "nbformat": 4,
 "nbformat_minor": 4
}
