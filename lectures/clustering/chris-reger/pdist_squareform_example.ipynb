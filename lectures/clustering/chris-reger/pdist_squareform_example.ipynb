{
 "cells": [
  {
   "cell_type": "markdown",
   "metadata": {},
   "source": [
    "## Demonstrate scipy pdist and squareform functions"
   ]
  },
  {
   "cell_type": "code",
   "execution_count": 1,
   "metadata": {},
   "outputs": [],
   "source": [
    "import numpy as np\n",
    "from scipy.spatial.distance import pdist       # pair-wise distances\n",
    "from scipy.spatial.distance import squareform  # dist. vector to square dist. matrix\n",
    "import matplotlib.pyplot as plt\n",
    "plt.rcParams.update({'font.size': 15})"
   ]
  },
  {
   "cell_type": "code",
   "execution_count": 2,
   "metadata": {},
   "outputs": [],
   "source": [
    "# nine data points\n",
    "data = np.array([ [-0.6, -1.0], \n",
    "                  [0.0, -0.8], \n",
    "                  [-1.5, -0.4],\n",
    "                  [-1.4, -1.5], \n",
    "                  [1.1, -0.3], \n",
    "                  [-1.0, -1.1], \n",
    "                  [ 1.2,  0.0], \n",
    "                  [0.6, -0.3], \n",
    "                  [ 0.0,  0.7] ])\n",
    "\n",
    "# data point labels\n",
    "labels = np.array(['1', '2', '3', '4', '5', '6', '7', '8', '9'])"
   ]
  },
  {
   "cell_type": "code",
   "execution_count": 3,
   "metadata": {},
   "outputs": [
    {
     "data": {
      "image/png": "[encoded data removed]",
      "text/plain": [
       "<Figure size 576x576 with 1 Axes>"
      ]
     },
     "metadata": {
      "needs_background": "light"
     },
     "output_type": "display_data"
    }
   ],
   "source": [
    "fig = plt.figure(figsize = (8,8))\n",
    "ax = fig.add_subplot(111)\n",
    "plt.scatter(data[:,0], data[:,1])\n",
    "\n",
    "for label, x, y in zip(labels, data[:, 0], data[:, 1]):\n",
    "    plt.annotate(\n",
    "        label,\n",
    "        xy=(x, y), xytext=(-5, 5),\n",
    "        textcoords='offset points')\n",
    "ax.set_aspect('equal')\n",
    "plt.show() # should look familiar"
   ]
  },
  {
   "cell_type": "code",
   "execution_count": 4,
   "metadata": {},
   "outputs": [
    {
     "name": "stdout",
     "output_type": "stream",
     "text": [
      "Pair-wise distances\n",
      "[0.63 1.08 0.94 1.84 0.41 2.06 1.39 1.8  1.55 1.57 1.21 1.04 1.44 0.78\n",
      " 1.5  1.1  2.6  0.86 2.73 2.1  1.86 2.77 0.57 3.   2.33 2.61 2.25 0.32\n",
      " 0.5  1.49 2.46 1.79 2.06 0.67 1.39 1.17]\n",
      "\n",
      "Shape of pair-wise distances\n",
      "(36,)\n"
     ]
    }
   ],
   "source": [
    "# find the distance of each point to all the other points\n",
    "pairwise_distances = pdist(data)\n",
    "print(\"Pair-wise distances\")\n",
    "print(pairwise_distances.round(2))\n",
    "print(\"\\nShape of pair-wise distances\")\n",
    "print(pairwise_distances.shape)"
   ]
  },
  {
   "cell_type": "code",
   "execution_count": 5,
   "metadata": {},
   "outputs": [
    {
     "data": {
      "text/plain": [
       "array([[0.  , 0.63, 1.08, 0.94, 1.84, 0.41, 2.06, 1.39, 1.8 ],\n",
       "       [0.63, 0.  , 1.55, 1.57, 1.21, 1.04, 1.44, 0.78, 1.5 ],\n",
       "       [1.08, 1.55, 0.  , 1.1 , 2.6 , 0.86, 2.73, 2.1 , 1.86],\n",
       "       [0.94, 1.57, 1.1 , 0.  , 2.77, 0.57, 3.  , 2.33, 2.61],\n",
       "       [1.84, 1.21, 2.6 , 2.77, 0.  , 2.25, 0.32, 0.5 , 1.49],\n",
       "       [0.41, 1.04, 0.86, 0.57, 2.25, 0.  , 2.46, 1.79, 2.06],\n",
       "       [2.06, 1.44, 2.73, 3.  , 0.32, 2.46, 0.  , 0.67, 1.39],\n",
       "       [1.39, 0.78, 2.1 , 2.33, 0.5 , 1.79, 0.67, 0.  , 1.17],\n",
       "       [1.8 , 1.5 , 1.86, 2.61, 1.49, 2.06, 1.39, 1.17, 0.  ]])"
      ]
     },
     "execution_count": 5,
     "metadata": {},
     "output_type": "execute_result"
    }
   ],
   "source": [
    "pairwise_distances_squareform = squareform(pairwise_distances).round(2)\n",
    "pairwise_distances_squareform"
   ]
  },
  {
   "cell_type": "code",
   "execution_count": 6,
   "metadata": {},
   "outputs": [
    {
     "name": "stdout",
     "output_type": "stream",
     "text": [
      "Squareform version of pair-wise distances\n",
      "\t1\t2\t3\t4\t5\t6\t7\t8\t9\n",
      "1\t0.0\t0.63\t1.08\t0.94\t1.84\t0.41\t2.06\t1.39\t1.8\n",
      "2\t0.63\t0.0\t1.55\t1.57\t1.21\t1.04\t1.44\t0.78\t1.5\n",
      "3\t1.08\t1.55\t0.0\t1.1\t2.6\t0.86\t2.73\t2.1\t1.86\n",
      "4\t0.94\t1.57\t1.1\t0.0\t2.77\t0.57\t3.0\t2.33\t2.61\n",
      "5\t1.84\t1.21\t2.6\t2.77\t0.0\t2.25\t0.32\t0.5\t1.49\n",
      "6\t0.41\t1.04\t0.86\t0.57\t2.25\t0.0\t2.46\t1.79\t2.06\n",
      "7\t2.06\t1.44\t2.73\t3.0\t0.32\t2.46\t0.0\t0.67\t1.39\n",
      "8\t1.39\t0.78\t2.1\t2.33\t0.5\t1.79\t0.67\t0.0\t1.17\n",
      "9\t1.8\t1.5\t1.86\t2.61\t1.49\t2.06\t1.39\t1.17\t0.0\n",
      "\n",
      "Shape of squareform version\n",
      "(9, 9)\n"
     ]
    }
   ],
   "source": [
    "# make it easier to read\n",
    "line = \"{0}\\t{1}\\t{2}\\t{3}\\t{4}\\t{5}\\t{6}\\t{7}\\t{8}\\t{9}\"\n",
    "\n",
    "print(\"Squareform version of pair-wise distances\")\n",
    "print(\"\\t1\\t2\\t3\\t4\\t5\\t6\\t7\\t8\\t9\")\n",
    "\n",
    "for i, row in enumerate(pairwise_distances_squareform, 1):\n",
    "    v1, v2, v3, v4, v5, v6, v7, v8, v9 = row\n",
    "    print(line.format(i, v1, v2, v3, v4, v5, v6, v7, v8, v9))\n",
    "print(\"\\nShape of squareform version\")\n",
    "print(pairwise_distances_squareform.shape)"
   ]
  }
 ],
 "metadata": {
  "anaconda-cloud": {},
  "kernelspec": {
   "display_name": "Python 3",
   "language": "python",
   "name": "python3"
  },
  "language_info": {
   "codemirror_mode": {
    "name": "ipython",
    "version": 3
   },
   "file_extension": ".py",
   "mimetype": "text/x-python",
   "name": "python",
   "nbconvert_exporter": "python",
   "pygments_lexer": "ipython3",
   "version": "3.7.3"
  }
 },
 "nbformat": 4,
 "nbformat_minor": 1
}
