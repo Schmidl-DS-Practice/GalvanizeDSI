{
 "cells": [
  {
   "cell_type": "markdown",
   "metadata": {},
   "source": [
    "## Mongo\n",
    "\n",
    "Let's look at a quick example of creating a database, collection, and document with the Mongo shell, and update the collection using pyMongo.\n",
    "\n",
    "### Part 1: Mongo Shell (in terminal)\n",
    "\n",
    "1. Start up the mongoserver docker container\n",
    "```\n",
    "docker start mongoserver\n",
    "```\n",
    "<br>\n",
    "\n",
    "1. Enter a bash terminal within the docker container\n",
    "```\n",
    "docker exec -it mongoserver bash\n",
    "```\n",
    "<br>\n",
    "\n",
    "1. Enter the Mongo shell\n",
    "```\n",
    "mongo\n",
    "```\n",
    "<br>\n",
    "\n",
    "1. Show available databases\n",
    "```\n",
    "show dbs\n",
    "```\n",
    "<br>\n",
    "\n",
    "1. Make a database called `example_database`\n",
    "```\n",
    "use example_database\n",
    "```\n",
    "    * if `example_database` doesn't exist, it will be created\n",
    "\n",
    "<br>\n",
    "    \n",
    "1. Make a new collection called `example_collection` with a single document inside `example_database`\n",
    "```\n",
    "db.example_collection.insert({name: \"Sam\", friends: []})\n",
    "```\n",
    "<br>\n",
    "\n",
    "1. Query for our newly-created document\n",
    "```\n",
    "db.example_collection.find({name: \"Sam\"})\n",
    "```"
   ]
  },
  {
   "cell_type": "markdown",
   "metadata": {},
   "source": [
    "### Part 2: pyMongo"
   ]
  },
  {
   "cell_type": "code",
   "execution_count": 1,
   "metadata": {},
   "outputs": [],
   "source": [
    "# Import pyMongo and initialize the client\n",
    "\n",
    "from pymongo import MongoClient\n",
    "\n",
    "client = MongoClient('localhost', 27017)"
   ]
  },
  {
   "cell_type": "code",
   "execution_count": 2,
   "metadata": {},
   "outputs": [],
   "source": [
    "db = client['example_database'] # Specify our database\n",
    "collection = db['example_collection'] # Specify our collection"
   ]
  },
  {
   "cell_type": "code",
   "execution_count": 3,
   "metadata": {},
   "outputs": [
    {
     "data": {
      "text/plain": [
       "{'_id': ObjectId('602ee9503e9137ef362a373c'), 'name': 'Sam', 'friends': []}"
      ]
     },
     "execution_count": 3,
     "metadata": {},
     "output_type": "execute_result"
    }
   ],
   "source": [
    "# View our document with pyMongo\n",
    "collection.find_one({'name': 'Sam'})"
   ]
  },
  {
   "cell_type": "code",
   "execution_count": 4,
   "metadata": {},
   "outputs": [
    {
     "data": {
      "text/plain": [
       "<pymongo.results.InsertOneResult at 0x7f89c054d500>"
      ]
     },
     "execution_count": 4,
     "metadata": {},
     "output_type": "execute_result"
    }
   ],
   "source": [
    "# Insert a new document\n",
    "example_record = {'name': 'Frank', 'friends': ['Andrew Ng', 'Nate Silver']}\n",
    "collection.insert_one(example_record)"
   ]
  },
  {
   "cell_type": "code",
   "execution_count": 5,
   "metadata": {},
   "outputs": [
    {
     "data": {
      "text/plain": [
       "<pymongo.results.UpdateResult at 0x7f89c0562c80>"
      ]
     },
     "execution_count": 5,
     "metadata": {},
     "output_type": "execute_result"
    }
   ],
   "source": [
    "# Update an existing document using the '$set' operator\n",
    "collection.update_one({'name': 'Sam'}, {'$set': {'friends': ['Chris']}})"
   ]
  },
  {
   "cell_type": "code",
   "execution_count": 7,
   "metadata": {},
   "outputs": [
    {
     "data": {
      "text/plain": [
       "{'_id': ObjectId('602ee9503e9137ef362a373c'),\n",
       " 'name': 'Sam',\n",
       " 'friends': ['Chris']}"
      ]
     },
     "execution_count": 7,
     "metadata": {},
     "output_type": "execute_result"
    }
   ],
   "source": [
    "# View our updated document\n",
    "collection.find_one({'name': 'Sam'})"
   ]
  },
  {
   "cell_type": "code",
   "execution_count": null,
   "metadata": {},
   "outputs": [],
   "source": []
  }
 ],
 "metadata": {
  "kernelspec": {
   "display_name": "Python 3",
   "language": "python",
   "name": "python3"
  },
  "language_info": {
   "codemirror_mode": {
    "name": "ipython",
    "version": 3
   },
   "file_extension": ".py",
   "mimetype": "text/x-python",
   "name": "python",
   "nbconvert_exporter": "python",
   "pygments_lexer": "ipython3",
   "version": "3.7.9"
  }
 },
 "nbformat": 4,
 "nbformat_minor": 4
}
