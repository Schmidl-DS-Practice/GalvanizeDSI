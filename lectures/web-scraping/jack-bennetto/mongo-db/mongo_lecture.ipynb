{
 "cells": [
  {
   "cell_type": "markdown",
   "metadata": {},
   "source": [
    "# Mongo DB"
   ]
  },
  {
   "cell_type": "markdown",
   "metadata": {},
   "source": [
    "### Objectives:\n",
    "* Install `mongo` and `pymongo`. \n",
    "* Compare and contrast SQL and noSQL.\n",
    "* Connect to a mongo server with `mongo` and `pymongo`.\n",
    "* Perform basic operations using `mongo` and `pymongo`."
   ]
  },
  {
   "cell_type": "markdown",
   "metadata": {},
   "source": [
    "## Resources\n",
    "\n",
    "* [The Little MongoDB Book](http://openmymind.net/mongodb.pdf)\n",
    "* [PyMongo tutorial](http://api.mongodb.org/python/current/tutorial.html)"
   ]
  },
  {
   "cell_type": "markdown",
   "metadata": {},
   "source": [
    "## Installing Mongo and PyMongo\n",
    "\n",
    "### Mongo\n",
    "1. Create and start a container running the mongodb server,: `$ docker run --name mongoserver -p 27017:27017 -v \"$PWD\":/home/data -d mongo` (you should be in or above the lecture directory)\n",
    "2. Access the mongo terminal in the container: `$ docker exec -it mongoserver bash`\n",
    "\n",
    "**Question:** What do all those options mean?\n",
    "\n",
    "We'll get to importing the data (with `mongoimport`) shortly.\n",
    "\n",
    "Some other things you might do with the container:\n",
    "1. Start the container: `$ docker start mongoserver` (it already is)\n",
    "2. List all the containers you have, including those stopped `$ docker container ls -a`\n",
    "3. Stop the container: `$ docker stop mongoserver`\n",
    "4. Remove the stopped container: `$ docker stop mongoserver`\n",
    "\n",
    "#### Do *not* run services as `root`.\n",
    "\n",
    "### PyMongo\n",
    "You'll need `pymongo` on your computer (not the container) to connect to the mongo server from python.\n",
    "1. Install PyMongo: `conda install pymongo`"
   ]
  },
  {
   "cell_type": "markdown",
   "metadata": {},
   "source": [
    "### SQL vs NoSQL\n",
    "\n",
    "NoSQL does not stand for 'No SQL'. SQL is useful for many things, it's not going away.\n",
    "\n",
    "> NoSQL ==> \"Not Only SQL\"\n",
    "\n",
    "It's a different paradigm to deal with messy data that does not lend itself to an RDBMS.  It's also very useful as a quick and painless solution to data storage, where a full relational database model takes much thought and investment.\n",
    "\n",
    "In general, if your priority is that all data is in your database is consistent and clean at all times, use a RDBMS. If your priority is preserving all your data as easily and completely as possible, MongoDB might be a better choice."
   ]
  },
  {
   "cell_type": "markdown",
   "metadata": {},
   "source": [
    "### Mongo Clients\n",
    "\n",
    "The command line program we use to interact with mongo is a *client*.  It's only job is to send messages to another program, a *server*, which holds all our data and knows how to operate on it.\n",
    "\n",
    "The command line Mongo client is written in javascript, so interacting with mongo with this client looks like writing javascript code.\n",
    "\n",
    "<img src=\"images/client-server.png\" width = 500>\n",
    "\n",
    "There are other clients.  Late on we will use `pymongo` to interact with our databases from python."
   ]
  },
  {
   "cell_type": "markdown",
   "metadata": {},
   "source": [
    "## Javascript Object Notation"
   ]
  },
  {
   "cell_type": "markdown",
   "metadata": {},
   "source": [
    "Javascript Object Notation, or JSON, is a simple data storage and communication protocall.  It was designed by [Douglas Crockford](https://en.wikipedia.org/wiki/Douglas_Crockford) based on the notation Javascipt uses for objects.\n",
    "\n",
    "It is meant as a replacement to XML."
   ]
  },
  {
   "cell_type": "markdown",
   "metadata": {},
   "source": [
    "```javascript\n",
    "{\n",
    "    name: 'TwilightSparkle',\n",
    "    friends: ['Applejack', 'Fluttershy'],\n",
    "    age: 16,\n",
    "    gender: 'f',\n",
    "    wings: true,\n",
    "    horn: true,\n",
    "    residence: {\n",
    "        town: 'Ponyville',\n",
    "        address: '15 Gandolfini Lane'}\n",
    "}\n",
    "```"
   ]
  },
  {
   "cell_type": "markdown",
   "metadata": {},
   "source": [
    "It is very similar to a python dictionary literal."
   ]
  },
  {
   "cell_type": "markdown",
   "metadata": {},
   "source": [
    "## Working with Mongo DB"
   ]
  },
  {
   "cell_type": "markdown",
   "metadata": {},
   "source": [
    "### MongoDB Concepts\n",
    "\n",
    "#### What's it about? \n",
    "\n",
    "* MongoDB is a document-oriented database, an alternative to RDBMS, used for storing semi-structured data.\n",
    "* JSON-like objects form the data model, rather than RDBMS tables.\n",
    "* Schema is optional.\n",
    "* Sub-optimal for complicated queries.\n",
    "\n",
    "#### Structure of the database.\n",
    "\n",
    "* MongoDB is made up of databases which contain collections (tables).\n",
    "* A collection is made up of documents (analogous to rows or records).\n",
    "* Each document is a JSON object made up of key-value pairs (analogous to columns).\n",
    "\n",
    "\n",
    "So a RDBMS defines columns at the table level, document oriented database defines its fields at a document level."
   ]
  },
  {
   "cell_type": "markdown",
   "metadata": {},
   "source": [
    "The `unicorns.json` file that can be imported into MongoDB. From the bash shell, navigate to the mongo-db lecture directory, and do\n",
    "\n",
    "```\n",
    "mongoimport --db mlp --collection unicorns < data/unicorns.json\n",
    "```\n",
    "If you're using a docker container, use the bash shell **running in that container** (as above) and first navigate to `/home/data`.\n",
    "\n",
    "**Note**: You may need to add a switch `--jsonArray`."
   ]
  },
  {
   "cell_type": "markdown",
   "metadata": {},
   "source": [
    "Now start `mongo`.\n",
    "\n",
    "A MongoDB contains a collection of databases, so lets check that the `mlp` database exists."
   ]
  },
  {
   "cell_type": "markdown",
   "metadata": {
    "collapsed": true
   },
   "source": [
    "```\n",
    "> show dbs\n",
    "```"
   ]
  },
  {
   "cell_type": "markdown",
   "metadata": {},
   "source": [
    "To use the `mlp` database, we simply do the following:"
   ]
  },
  {
   "cell_type": "markdown",
   "metadata": {},
   "source": [
    "```\n",
    "> use mlp\n",
    "```"
   ]
  },
  {
   "cell_type": "markdown",
   "metadata": {},
   "source": [
    "A database is made of `collection`s, which are containers for the actual stored data.  A `collection` would be analagous to a `table` in a classical relational database, but can contain much more flexible data than a table."
   ]
  },
  {
   "cell_type": "markdown",
   "metadata": {},
   "source": [
    "```\n",
    "> db.getCollectionNames()\n",
    "```"
   ]
  },
  {
   "cell_type": "markdown",
   "metadata": {},
   "source": [
    "### Inserting Data\n",
    "```javascript\n",
    "db.unicorns.insert({\n",
    "    name: 'Applejack',\n",
    "    age: 15,\n",
    "    friends: ['TwilightSparkle', 'Fluttershy'],\n",
    "    wings: false,\n",
    "    horn: false\n",
    "})\n",
    "\n",
    "db.unicorns.insert({\n",
    "    name: 'Fluttershy',\n",
    "    age: 15,\n",
    "    friends: ['Applejack', 'TwilightSparkle'],\n",
    "    wings: true,\n",
    "    horn: false\n",
    "})\n",
    "                 \n",
    "```"
   ]
  },
  {
   "cell_type": "markdown",
   "metadata": {},
   "source": [
    "## Querying Data\n",
    "\n",
    "Without any arguments, `find` dumps all the data in the collection\n",
    "\n",
    "```javascript\n",
    "db.unicorns.find()\n",
    "```\n",
    "\n",
    "`find` is much more flexible.\n",
    "\n",
    "```javascript\n",
    "// find by single field\n",
    "db.unicorns.find({name: 'TwilightSparkle'})\n",
    "\n",
    "// find by presence of field\n",
    "db.unicorns.find({friends: {$exists : true}})\n",
    "\n",
    "// find by value in array\n",
    "db.unicorns.find({friends: 'TwilightSparkle'})\n",
    "\n",
    "// To return only certain fields use the optional second argument to `find`.\n",
    "// This says, return only the names of unicorns who are friends with\n",
    "// twilight sparkle.\n",
    "db.unicorns.find({friends: 'TwilightSparkle'}, {name: true})\n",
    "```"
   ]
  },
  {
   "cell_type": "markdown",
   "metadata": {},
   "source": [
    "**Exercise**: Try to find all the unicorns with wings."
   ]
  },
  {
   "cell_type": "markdown",
   "metadata": {},
   "source": [
    "## Updating Data"
   ]
  },
  {
   "cell_type": "markdown",
   "metadata": {},
   "source": [
    "```javascript\n",
    "// Replaces friends array\n",
    "db.unicorns.update({\n",
    "    name: 'TwilightSparkle'}, {\n",
    "    $set: {\n",
    "        friends: ['Shutterfly', 'Rarity', 'Applejack']}})\n",
    "\n",
    "// Adds to friends array\n",
    "db.unicorns.update({\n",
    "    name: 'Applejack'}, {\n",
    "    $push: {\n",
    "        friends: 'Rarity'}})\n",
    "```\n",
    "\n",
    "We have to use the `$set` and `$push` operators, the default behaviour of `update` is to *replace the data*.\n",
    "\n",
    "```javascript\n",
    "// Replaces the TwighlightSparkle data completely!\n",
    "// It will no longer have even a name field after this!\n",
    "db.unicorns.update({\n",
    "    name: 'TwilightSparkle'}, {\n",
    "    friends: ['Shutterfly', 'Rarity', 'Applejack']})\n",
    "```\n",
    "\n",
    "\n",
    "An `upsert` either creates a document (when it does not already exist) or inserts into an existing document.\n",
    "\n",
    "```\n",
    "// Upsert: This one is created\n",
    "db.unicorns.update({\n",
    "    name: \"Rarity\"}, {\n",
    "    $push: {\n",
    "        friends: {\n",
    "            $each: [\"TwilightSparkle\", \"Applejack\", \"Fluttershy\"]}}}, {\n",
    "    upsert: true})\n",
    "\n",
    "// Upsert: This one is updated\n",
    "db.unicorns.update({\n",
    "    name: \"Fluttershy\"}, {\n",
    "    $push: {\n",
    "        friends: {\n",
    "            $each: [\"Rarity\", \"PrincessCelestia\"]}}}, {\n",
    "    upsert: true})\n",
    "```"
   ]
  },
  {
   "cell_type": "markdown",
   "metadata": {},
   "source": [
    "**Exercise**: Enter a unicorn named RainbowDash into the database who is friends with TwilightSparkle, Rarity, and Applejack."
   ]
  },
  {
   "cell_type": "markdown",
   "metadata": {},
   "source": [
    "## Deleting Data\n",
    "\n",
    "You can also delete data using a query. Do this with care.\n",
    "\n",
    "```javascript\n",
    "db.unicorns.remove({name: \"Fluttershy\"})\n",
    "```"
   ]
  },
  {
   "cell_type": "markdown",
   "metadata": {},
   "source": [
    "## PyMongo\n"
   ]
  },
  {
   "cell_type": "markdown",
   "metadata": {},
   "source": [
    "`pymongo` allows python to connect to and manipulate MongoDB."
   ]
  },
  {
   "cell_type": "code",
   "execution_count": null,
   "metadata": {
    "ExecuteTime": {
     "end_time": "2016-06-20T16:43:39.233966",
     "start_time": "2016-06-20T16:43:39.156749"
    }
   },
   "outputs": [],
   "source": [
    "from pymongo import MongoClient\n",
    "import pprint"
   ]
  },
  {
   "cell_type": "code",
   "execution_count": null,
   "metadata": {
    "ExecuteTime": {
     "end_time": "2016-06-20T16:43:40.363826",
     "start_time": "2016-06-20T16:43:40.347907"
    }
   },
   "outputs": [],
   "source": [
    "# Connect to the hosted MongoDB instance\n",
    "client = MongoClient('localhost', 27017)"
   ]
  },
  {
   "cell_type": "code",
   "execution_count": null,
   "metadata": {
    "ExecuteTime": {
     "end_time": "2016-06-20T16:43:42.583968",
     "start_time": "2016-06-20T16:43:42.572067"
    }
   },
   "outputs": [],
   "source": [
    "db = client['mlp']"
   ]
  },
  {
   "cell_type": "code",
   "execution_count": null,
   "metadata": {
    "ExecuteTime": {
     "end_time": "2016-06-20T16:43:44.037973",
     "start_time": "2016-06-20T16:43:44.027177"
    }
   },
   "outputs": [],
   "source": [
    "# Create a collection called unicorn\n",
    "unicorns = db['unicorns']"
   ]
  },
  {
   "cell_type": "code",
   "execution_count": null,
   "metadata": {
    "ExecuteTime": {
     "end_time": "2016-06-20T16:43:45.358598",
     "start_time": "2016-06-20T16:43:45.298820"
    }
   },
   "outputs": [],
   "source": [
    "unicorns.insert_one({\n",
    "    'name': 'RainbowDash', \n",
    "    'age': 16, \n",
    "    'friends': ['TwilightSparkle', 'Applejack', 'Rarity']})"
   ]
  },
  {
   "cell_type": "code",
   "execution_count": null,
   "metadata": {
    "ExecuteTime": {
     "end_time": "2016-06-20T16:43:51.364472",
     "start_time": "2016-06-20T16:43:51.323466"
    }
   },
   "outputs": [],
   "source": [
    "unicorns.count_documents({})"
   ]
  },
  {
   "cell_type": "code",
   "execution_count": null,
   "metadata": {
    "ExecuteTime": {
     "end_time": "2016-06-20T16:43:56.025399",
     "start_time": "2016-06-20T16:43:55.979764"
    }
   },
   "outputs": [],
   "source": [
    "pprint.pprint(unicorns.find_one())"
   ]
  },
  {
   "cell_type": "code",
   "execution_count": null,
   "metadata": {
    "ExecuteTime": {
     "end_time": "2016-06-20T16:43:58.146325",
     "start_time": "2016-06-20T16:43:58.115367"
    }
   },
   "outputs": [],
   "source": [
    "rarity = unicorns.find_one({'name': 'Rarity'})\n",
    "pprint.pprint(rarity)"
   ]
  },
  {
   "cell_type": "markdown",
   "metadata": {},
   "source": [
    "The same selector strategies can be used for more complex queries in `pymongo`"
   ]
  },
  {
   "cell_type": "code",
   "execution_count": null,
   "metadata": {},
   "outputs": [],
   "source": [
    "friend_of_twilight = unicorns.find_one({'friends': 'TwilightSparkle'})\n",
    "pprint.pprint(friend_of_twilight)"
   ]
  },
  {
   "cell_type": "markdown",
   "metadata": {},
   "source": [
    "To get multiple results back, use `find`, which returns an iterator."
   ]
  },
  {
   "cell_type": "code",
   "execution_count": null,
   "metadata": {},
   "outputs": [],
   "source": [
    "friends_of_twilight = unicorns.find({'friends': 'TwilightSparkle'})\n",
    "for friend in friends_of_twilight:\n",
    "    pprint.pprint(friend)"
   ]
  },
  {
   "cell_type": "code",
   "execution_count": null,
   "metadata": {},
   "outputs": [],
   "source": [
    "young_unicorns = unicorns.find({'age': {'$lt': 33}})\n",
    "for unicorn in young_unicorns[:2]:\n",
    "    pprint.pprint(unicorn)"
   ]
  },
  {
   "cell_type": "markdown",
   "metadata": {},
   "source": [
    "**Exercise:** Find all the unicorns that have a horn and wings."
   ]
  }
 ],
 "metadata": {
  "kernelspec": {
   "display_name": "Python 3",
   "language": "python",
   "name": "python3"
  },
  "language_info": {
   "codemirror_mode": {
    "name": "ipython",
    "version": 3
   },
   "file_extension": ".py",
   "mimetype": "text/x-python",
   "name": "python",
   "nbconvert_exporter": "python",
   "pygments_lexer": "ipython3",
   "version": "3.6.7"
  }
 },
 "nbformat": 4,
 "nbformat_minor": 1
}
