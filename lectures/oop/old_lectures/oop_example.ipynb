{
 "cells": [
  {
   "cell_type": "code",
   "execution_count": null,
   "metadata": {},
   "outputs": [],
   "source": [
    "class Flight:\n",
    "    \n",
    "    __counter = 0\n",
    "    \n",
    "    def __init__(self, fly_num, arr_time, num_pass):\n",
    "        \n",
    "        self.fly_num = fly_num\n",
    "        self.arr_time = arr_time\n",
    "        self.num_pass = num_pass\n",
    "        type(self).__counter += 1\n",
    "        \n",
    "    @staticmethod\n",
    "    def num_flight():\n",
    "        return Flight.__counter\n",
    "    \n",
    "    @classmethod\n",
    "    def num_flight_2(cls):\n",
    "        return cls, Flight.__counter\n",
    "        \n",
    "    def get_num_pass(self):\n",
    "        return self.num_pass\n",
    "    \n",
    "    def __str__(self):\n",
    "        return 'this is the flight num:' + str(self.fly_num)\n",
    "    \n",
    "class Passanger(Flight):\n",
    "    \n",
    "    def __init__(self, fly_num, arr_time, num_pass, pass_list):\n",
    "        super().__init__(fly_num, arr_time,num_pass)\n",
    "        self.pass_list = pass_list\n",
    "        \n",
    "    def get_pass_list(self):\n",
    "        return self.pass_list"
   ]
  }
 ],
 "metadata": {
  "kernelspec": {
   "display_name": "Python 3",
   "language": "python",
   "name": "python3"
  },
  "language_info": {
   "codemirror_mode": {
    "name": "ipython",
    "version": 3
   },
   "file_extension": ".py",
   "mimetype": "text/x-python",
   "name": "python",
   "nbconvert_exporter": "python",
   "pygments_lexer": "ipython3",
   "version": "3.7.3"
  }
 },
 "nbformat": 4,
 "nbformat_minor": 4
}
