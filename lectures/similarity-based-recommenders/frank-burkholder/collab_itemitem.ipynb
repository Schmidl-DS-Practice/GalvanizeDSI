{
 "cells": [
  {
   "cell_type": "markdown",
   "metadata": {},
   "source": [
    "### Demonstration of a simple neighborhood based item-item collaborative filtering recommender\n",
    "based on section 14.5.1 in Machine Learning in Action.  \n",
    "Document strings in the functions based on [Numpy convention.](https://github.com/numpy/numpy/blob/master/doc/HOWTO_DOCUMENT.rst.txt#docstring-standard)"
   ]
  },
  {
   "cell_type": "code",
   "execution_count": 1,
   "metadata": {},
   "outputs": [],
   "source": [
    "from scipy import stats\n",
    "from scipy.spatial.distance import euclidean\n",
    "import numpy as np"
   ]
  },
  {
   "cell_type": "markdown",
   "metadata": {},
   "source": [
    "<img src=\"./images/ratings_MLIA.png\" alt=\"Drawing\" style=\"width: 300px;\"/>\n",
    "\n",
    "The inital ratings matrix. Item ratings from from 1-5.  A blank is an unrated item."
   ]
  },
  {
   "cell_type": "code",
   "execution_count": 2,
   "metadata": {},
   "outputs": [],
   "source": [
    "def ratings_matrix():\n",
    "    \"\"\" Sets initial ratings matrix with items ranked 1-5. \n",
    "        \n",
    "        Rows are users, columns are items. Fill unrated items\n",
    "        with 0 values.\n",
    "        \n",
    "        Parameters\n",
    "        ----------\n",
    "        None\n",
    "        \n",
    "        Returns\n",
    "        -------\n",
    "        2d numpy array of type float\n",
    "    \"\"\" \n",
    "    return np.array([[4, 4, 0, 2, 2],\n",
    "                     [4, 0, 0, 3, 3],\n",
    "                     [4, 0, 0, 1, 1],\n",
    "                     [1, 1, 1, 2, 0],\n",
    "                     [2, 2, 2, 0, 0],\n",
    "                     [1, 1, 1, 0, 0],\n",
    "                     [5, 5, 5, 0, 0]]).astype(float)"
   ]
  },
  {
   "cell_type": "markdown",
   "metadata": {},
   "source": [
    "Similarity metrics"
   ]
  },
  {
   "cell_type": "code",
   "execution_count": 3,
   "metadata": {},
   "outputs": [],
   "source": [
    "def sim_euclidean(u, v):\n",
    "    \"\"\" Finds euclidean similarity between two vectors \n",
    "        \n",
    "        Parameters\n",
    "        ----------\n",
    "        u : 1d np.array\n",
    "        v : 1d np.array\n",
    "        \n",
    "        Returns\n",
    "        -------\n",
    "        float\n",
    "    \"\"\" \n",
    "    return 1 / (1 + euclidean(u, v))\n",
    "\n",
    "def sim_cosine(u, v):\n",
    "    \"\"\" Finds cosine similarity between two vectors \n",
    "        \n",
    "        Parameters\n",
    "        ----------\n",
    "        u : 1d np.array\n",
    "        v : 1d np.array\n",
    "        \n",
    "        Returns\n",
    "        -------\n",
    "        float\n",
    "    \"\"\"\n",
    "    costheta = np.dot(u, v)/(np.linalg.norm(u) * np.linalg.norm(v))\n",
    "    return 0.5 + 0.5 * costheta"
   ]
  },
  {
   "cell_type": "markdown",
   "metadata": {},
   "source": [
    "### Methodology for prediciting an item rating:\n",
    "* The rating on an item of interest is going to be a weighted sum of the ratings a user has given other items.\n",
    "* The weight is determined by how similar the item of interest is to each item.\n",
    "* To find the similarity of each item to the item of interest:  \n",
    "    1) Determine which rows the item of interest was rated.  \n",
    "    2) Determine which rows the item you're comparing it to was rated.  \n",
    "    3) Find the rows that overlap and take the ratings for the item and item of interest to make 2 vectors  \n",
    "    4) Calculate the similarity vector using those two vectors.  "
   ]
  },
  {
   "cell_type": "code",
   "execution_count": 4,
   "metadata": {},
   "outputs": [],
   "source": [
    "def rating_collab(R, user, sim_func, item_ur):\n",
    "    \"\"\"User rating for unrated item using item-item similarity.\n",
    "\n",
    "       Parameters\n",
    "       ----------\n",
    "       R : 2d numpy array\n",
    "           ratings matrix where rows are users, columns are items\n",
    "       user : int\n",
    "           the user of interest (row in R)\n",
    "       item_ur : int\n",
    "           the user's unrated item of interest (col in R)\n",
    "       sim_func : function\n",
    "           similarity function to quantify similarity of items\n",
    "           \n",
    "       Returns\n",
    "       -------\n",
    "       float\n",
    "          weighted rating for item based on item-item similarity\n",
    "    \"\"\"        \n",
    "    n = R.shape[1] # number of columns (items) in R array\n",
    "    sim_total = 0.0 # summed similarity of items to item of interest\n",
    "    rat_sim_prod_total = 0.0 # summed rating * similarity for all items\n",
    "    where_item_ur_rated = R[:,item_ur] > 0 # where the item of interest was rated\n",
    "    for j in range(n): # for all the items\n",
    "        rating = R[user, j] # get the user rating for that item\n",
    "        if rating == 0:\n",
    "            continue # not rated so it will not factor in rating\n",
    "        where_item_rated = R[:, j] > 0\n",
    "        where_both_rated = np.logical_and(where_item_ur_rated, where_item_rated)\n",
    "        rows_both_rated = np.nonzero(where_both_rated)[0] \n",
    "        if len(rows_both_rated) == 0:\n",
    "            similarity = 0 # no rows where they are both rated\n",
    "        else:\n",
    "            u = R[rows_both_rated, item_ur] # masked vector\n",
    "            v = R[rows_both_rated, j] # masked vector\n",
    "            similarity = sim_func(u, v) # find similarity between vectors\n",
    "        sim_total += similarity  # denominator of weighted rating\n",
    "        rat_sim_prod_total += rating * similarity # numerator of weighted rating\n",
    "    if sim_total == 0:\n",
    "        return 0\n",
    "    else:\n",
    "        weighted_rating = rat_sim_prod_total / sim_total  # weighted rating\n",
    "        return weighted_rating"
   ]
  },
  {
   "cell_type": "code",
   "execution_count": 5,
   "metadata": {
    "scrolled": true
   },
   "outputs": [
    {
     "name": "stdout",
     "output_type": "stream",
     "text": [
      "[[4. 4. 0. 2. 2.]\n",
      " [4. 0. 0. 3. 3.]\n",
      " [4. 0. 0. 1. 1.]\n",
      " [1. 1. 1. 2. 0.]\n",
      " [2. 2. 2. 0. 0.]\n",
      " [1. 1. 1. 0. 0.]\n",
      " [5. 5. 5. 0. 0.]]\n"
     ]
    }
   ],
   "source": [
    "R = ratings_matrix()\n",
    "print(R)"
   ]
  },
  {
   "cell_type": "markdown",
   "metadata": {},
   "source": [
    "User 0, item 2 doesn't have a rating.  Let's predict User 0's rating on that item."
   ]
  },
  {
   "cell_type": "code",
   "execution_count": 6,
   "metadata": {},
   "outputs": [
    {
     "name": "stdout",
     "output_type": "stream",
     "text": [
      "User 0 ratings:\n",
      "[4. 4. 0. 2. 2.]\n",
      "\n",
      "Current item 0\n",
      "[4. 4. 4. 1. 2. 1. 5.]\n",
      "\n",
      "Rows where unrated item 2 was rated\n",
      "[False False False  True  True  True  True]\n",
      "\n",
      "Rows where current item 0 was rated\n",
      "[ True  True  True  True  True  True  True]\n",
      "\n",
      "Rows where both unrated and current item rated\n",
      "[3 4 5 6]\n",
      "\n",
      "u [1. 2. 1. 5.]\n",
      "v [1. 2. 1. 5.]\n",
      "Similarity: 1.0\n"
     ]
    }
   ],
   "source": [
    "# demo some part of function\n",
    "usr = 0      # user\n",
    "itm_ur = 2   # unrated item of interest\n",
    "itm_cu = 0   # current item\n",
    "\n",
    "ratings_usr = R[usr,:]\n",
    "print(f\"User {usr} ratings:\")\n",
    "print(ratings_usr)\n",
    "\n",
    "ratings_cu = R[:,itm_cu]\n",
    "print(f\"\\nCurrent item {itm_cu}\")\n",
    "print(ratings_cu)\n",
    "\n",
    "where_item_ur_rated = R[:,itm_ur] > 0\n",
    "print(f\"\\nRows where unrated item {itm_ur} was rated\")\n",
    "print(where_item_ur_rated)\n",
    "\n",
    "where_item_cu_rated = R[:, itm_cu] > 0\n",
    "print(f\"\\nRows where current item {itm_cu} was rated\")\n",
    "print(where_item_cu_rated)\n",
    "\n",
    "where_both_rated = np.logical_and(where_item_ur_rated, where_item_cu_rated)\n",
    "rows_both_rated = np.nonzero(where_both_rated)[0] \n",
    "print(f\"\\nRows where both unrated and current item rated\")\n",
    "print(rows_both_rated)\n",
    "\n",
    "# make vectors\n",
    "u = R[rows_both_rated, itm_ur]  # masked vector\n",
    "v = R[rows_both_rated, itm_cu]  # masked vector\n",
    "# calculate similarity\n",
    "similarity = sim_cosine(u, v)      # find similarity between vectors\n",
    "\n",
    "print(f\"\\nu {u}\")\n",
    "print(f\"v {v}\")\n",
    "print(f\"Similarity: {similarity}\")"
   ]
  },
  {
   "cell_type": "code",
   "execution_count": 7,
   "metadata": {},
   "outputs": [
    {
     "name": "stdout",
     "output_type": "stream",
     "text": [
      "The predicted rating of user 0 on item 2 is 3.6.\n"
     ]
    }
   ],
   "source": [
    "# using euclidean similarity\n",
    "usr = 0\n",
    "itm_ur = 2\n",
    "rtng = rating_collab(R, user=usr, sim_func=sim_euclidean, item_ur=itm_ur)\n",
    "print(\"The predicted rating of user {0} on item {1} is {2:0.1f}.\".format(usr, itm_ur, rtng))"
   ]
  },
  {
   "cell_type": "code",
   "execution_count": 8,
   "metadata": {},
   "outputs": [
    {
     "name": "stdout",
     "output_type": "stream",
     "text": [
      "The predicted rating of user 0 on item 2 is 3.3.\n"
     ]
    }
   ],
   "source": [
    "# using cosine similarity\n",
    "rtng = rating_collab(R, user=usr, sim_func=sim_cosine, item_ur=itm_ur)\n",
    "print(\"The predicted rating of user {0} on item {1} is {2:0.1f}.\".format(usr, itm_ur, rtng))"
   ]
  },
  {
   "cell_type": "markdown",
   "metadata": {},
   "source": [
    "Let's find ratings for all the unrated items in the matrix."
   ]
  },
  {
   "cell_type": "code",
   "execution_count": 9,
   "metadata": {},
   "outputs": [],
   "source": [
    "def find_unrated_items_per_user(R):\n",
    "    \"\"\" Finds unrated items (columns) for each user \n",
    "        \n",
    "        Parameters\n",
    "        ----------\n",
    "        R : 2d numpy array\n",
    "           ratings matrix where rows are users, columns are items\n",
    "        Returns\n",
    "        -------\n",
    "        dict where key = user (row) and values = list of ints (columns)\n",
    "    \"\"\"\n",
    "    unrated = dict()\n",
    "    for user in range(R.shape[0]):\n",
    "        unrated_items = np.nonzero(R[user, :] == 0)[0]\n",
    "        unrated[user] = unrated_items\n",
    "    return unrated"
   ]
  },
  {
   "cell_type": "code",
   "execution_count": 10,
   "metadata": {},
   "outputs": [],
   "source": [
    "def estimate_ratings(R, unrated, sim_func=sim_euclidean, est_method=rating_collab):\n",
    "    \"\"\" Estimates the unrated items in the ratings matrix for each user \n",
    "        \n",
    "        Parameters\n",
    "        ----------\n",
    "        R : 2d numpy array\n",
    "           ratings matrix where rows are users, columns are items\n",
    "        unrated: dict \n",
    "           key = user (row) and values = list of ints (columns)\n",
    "        sim_func : function\n",
    "           similarity function to quantify similarity of items\n",
    "        est_method : function\n",
    "           the function that will be used to estimate the ratings\n",
    "        Returns\n",
    "        -------\n",
    "        R_est : 2d numpy array\n",
    "           estimated ratings matrix where rows are users, columns are items\n",
    "    \"\"\"\n",
    "    R_est = R.copy()\n",
    "    for user, unrated_items in unrated.items():\n",
    "        for unrated_item in unrated_items:\n",
    "            R_est[user, unrated_item] = est_method(R, user, sim_func, unrated_item)\n",
    "    return R_est"
   ]
  },
  {
   "cell_type": "code",
   "execution_count": 11,
   "metadata": {},
   "outputs": [],
   "source": [
    "def recommend_n_items(R, user, n=3, sim_func=sim_euclidean, est_method=rating_collab):\n",
    "    \"\"\"Recommends n previously unrated items to a user\n",
    "\n",
    "       Parameters\n",
    "       ----------\n",
    "       R : 2d numpy array\n",
    "           ratings matrix where rows are users, columns are items\n",
    "       user : int\n",
    "           the user of interest (row in R)\n",
    "       sim_meas : function\n",
    "           the similarity measure that will be used\n",
    "       est_method : function\n",
    "           the function that will be used to estimate the ratings\n",
    "       Returns\n",
    "       -------\n",
    "       list of ints      \n",
    "          sorted items (column indices) to recommend\n",
    "    \"\"\"     \n",
    "    unrated_items = np.nonzero(R[user, :] == 0)[0]\n",
    "    if len(unrated_items) == 0:\n",
    "        return \"Everything is rated.\"\n",
    "    item_scores = []\n",
    "    for item in unrated_items:\n",
    "        estimated_score = est_method(R, user, sim_func, item)\n",
    "        item_scores.append((item, estimated_score))\n",
    "    return sorted(item_scores, key = lambda x: x[1], reverse=True)[:n]"
   ]
  },
  {
   "cell_type": "markdown",
   "metadata": {},
   "source": [
    "All functions defined, finally ready for all calculations."
   ]
  },
  {
   "cell_type": "code",
   "execution_count": 12,
   "metadata": {},
   "outputs": [
    {
     "name": "stdout",
     "output_type": "stream",
     "text": [
      "\n",
      "The original ratings matrix:\n",
      "[[4. 4. 0. 2. 2.]\n",
      " [4. 0. 0. 3. 3.]\n",
      " [4. 0. 0. 1. 1.]\n",
      " [1. 1. 1. 2. 0.]\n",
      " [2. 2. 2. 0. 0.]\n",
      " [1. 1. 1. 0. 0.]\n",
      " [5. 5. 5. 0. 0.]]\n",
      "\n",
      "The ratings matrix filled in using item-item similarity:\n",
      "[[4.  4.  3.3 2.  2. ]\n",
      " [4.  3.3 3.5 3.  3. ]\n",
      " [4.  2.  2.5 1.  1. ]\n",
      " [1.  1.  1.  2.  1.3]\n",
      " [2.  2.  2.  2.  2. ]\n",
      " [1.  1.  1.  1.  1. ]\n",
      " [5.  5.  5.  5.  5. ]]\n",
      "\n",
      "Recommendations:\n",
      "User 0 should be recommended item 2 (3.33).\n",
      "User 1 should be recommended item 2 (3.50) and item 1 (3.34).\n",
      "User 2 should be recommended item 2 (2.50) and item 1 (2.02).\n",
      "User 3 should be recommended item 4 (1.34).\n",
      "User 4 should be recommended item 3 (2.00) and item 4 (2.00).\n",
      "User 5 should be recommended item 3 (1.00) and item 4 (1.00).\n",
      "User 6 should be recommended item 3 (5.00) and item 4 (5.00).\n"
     ]
    }
   ],
   "source": [
    "R = ratings_matrix()\n",
    "print(\"\\nThe original ratings matrix:\")\n",
    "print(R.round(1))\n",
    "unrated = find_unrated_items_per_user(R)\n",
    "R_est = estimate_ratings(R, unrated, sim_func=sim_cosine, est_method=rating_collab)\n",
    "print(\"\\nThe ratings matrix filled in using item-item similarity:\") \n",
    "print(R_est.round(1))\n",
    "print(\"\\nRecommendations:\")\n",
    "for user in range(R.shape[0]):\n",
    "    recs = recommend_n_items(R, user, n=3, sim_func=sim_cosine, est_method=rating_collab)\n",
    "    rec_str = \" and \".join([\"item {0} ({1:0.2f})\".format(rec[0], rec[1]) for rec in recs])\n",
    "    print(\"\".join([\"User {0} should be recommended \".format(user), rec_str, '.']))"
   ]
  },
  {
   "cell_type": "code",
   "execution_count": null,
   "metadata": {},
   "outputs": [],
   "source": []
  }
 ],
 "metadata": {
  "kernelspec": {
   "display_name": "Python 3",
   "language": "python",
   "name": "python3"
  },
  "language_info": {
   "codemirror_mode": {
    "name": "ipython",
    "version": 3
   },
   "file_extension": ".py",
   "mimetype": "text/x-python",
   "name": "python",
   "nbconvert_exporter": "python",
   "pygments_lexer": "ipython3",
   "version": "3.7.3"
  }
 },
 "nbformat": 4,
 "nbformat_minor": 2
}
