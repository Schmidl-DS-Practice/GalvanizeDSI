{
 "cells": [
  {
   "cell_type": "markdown",
   "metadata": {},
   "source": [
    "# Comparison of Bayesian and Chi-Square Testing\n",
    "\n",
    "## Objectives:\n",
    "* Compare the Bayesian and Frequentist approach to solving a problem\n",
    "* Observe that Bayesian is often able to reach a conclusion based on less data\n",
    "\n",
    "Suppose there are two medicines under consideration to treat a disease. Medicine A is well-known to result in a 50% survival rate. Medicine B has not been studied. (Its true survival rate is 52%, but this is not known until we study it.)\n",
    "\n",
    "We need to derive a test to determine if Medicine B is better than Medicine A and examine how much data we need to make this determination.\n",
    "\n",
    "How would we approach this problem using the frequentist (Chi-Squared) technique and the Bayesian technique? How do these approaches work for various sample sizes?"
   ]
  },
  {
   "cell_type": "code",
   "execution_count": null,
   "metadata": {},
   "outputs": [],
   "source": [
    "import numpy as np\n",
    "'''Change or remove random seed to try this with different data'''\n",
    "np.random.seed(123456)\n",
    "import pandas as pd\n",
    "import matplotlib.pyplot as plt\n",
    "from scipy.stats import beta, chisquare\n",
    "\n",
    "'''The threshold value defines the baseline (or True) effectiveness\n",
    "of the medicine being studied'''\n",
    "threshold = 0.52"
   ]
  },
  {
   "cell_type": "code",
   "execution_count": null,
   "metadata": {},
   "outputs": [],
   "source": [
    "sample_size = n = 50\n",
    "''' B = outcomes of `n` patients who have been given medicne B\n",
    "1 = survival, 0 = perish '''\n",
    "B = 1*(np.random.random(n) < threshold)\n",
    "print('The apparent effectiveness of this medicine (as measured from a small sample) is: ')\n",
    "print(B.mean())"
   ]
  },
  {
   "cell_type": "markdown",
   "metadata": {},
   "source": [
    "## First, the frequentist approach\n",
    "\n",
    "Use the chi-squared test. If the p value is greater than 0.05, a frequentist would say that we can't reject the null hypothesis and therefore we continue to believe it, even if there is some reason to suspect the new medicine is better."
   ]
  },
  {
   "cell_type": "code",
   "execution_count": null,
   "metadata": {},
   "outputs": [],
   "source": [
    "survivals = B.sum()\n",
    "deaths = n - survivals\n",
    "chi_p_value = chisquare([deaths, survivals])[1]\n",
    "chi_p_value"
   ]
  },
  {
   "cell_type": "markdown",
   "metadata": {},
   "source": [
    "## Next, the Bayesian Approach\n",
    "\n",
    "Rather than consider whether the null hypothesis can be rejected, we consider the proportion of time that Medicine B appears to be better than *status quo*."
   ]
  },
  {
   "cell_type": "code",
   "execution_count": null,
   "metadata": {},
   "outputs": [],
   "source": [
    "probability_B_better = (beta(1+survivals, 1+deaths).rvs(100_000)>.5).mean()\n",
    "probability_B_better\n"
   ]
  },
  {
   "cell_type": "markdown",
   "metadata": {},
   "source": [
    "## Let's see how this changes as sample size increases\n",
    "\n",
    "let's suppose we have a large number of trial results, but we'll start by only considering a small subset of them.  As the size of this subset increases, we gain more confidence in our conclusions"
   ]
  },
  {
   "cell_type": "code",
   "execution_count": null,
   "metadata": {},
   "outputs": [],
   "source": [
    "outcomes = 1*(np.random.random(100_000) < threshold)\n",
    "print(f'A few outcomes: {outcomes[:20]}')\n",
    "print(f'The average effectivenss, (as measured from a large sample set): {outcomes.mean()}')"
   ]
  },
  {
   "cell_type": "code",
   "execution_count": null,
   "metadata": {},
   "outputs": [],
   "source": [
    "def comparison(n):\n",
    "    trials = n['trials']\n",
    "    trial_outcomes = outcomes[:trials]\n",
    "    survivals = trial_outcomes.sum()\n",
    "    deaths = trials - survivals\n",
    "    frequentist_p = chisquare([deaths, survivals])[1]\n",
    "    bayesian_prob = (beta(1+survivals, 1+deaths).rvs(100_000)>.5).mean()\n",
    "    return pd.Series({'survivals':survivals, \n",
    "                      'deaths':deaths, \n",
    "                      'p':frequentist_p, \n",
    "                      'bayes':bayesian_prob})"
   ]
  },
  {
   "cell_type": "code",
   "execution_count": null,
   "metadata": {},
   "outputs": [],
   "source": [
    "df = pd.DataFrame({'trials':np.unique(np.logspace(2,5, 200).astype(np.int))}, dtype = np.int)\n",
    "x = pd.concat([df, df.apply(comparison, axis = 1)], axis = 1).set_index('trials')\n",
    "x.head(20)"
   ]
  },
  {
   "cell_type": "code",
   "execution_count": null,
   "metadata": {},
   "outputs": [],
   "source": [
    "plt.plot(1-x['p'], label = '1 - Chi Square p_value')\n",
    "plt.plot(x['bayes'], label = 'Bayes')\n",
    "plt.axhline(.95)\n",
    "plt.xscale('log')\n",
    "plt.xlabel('Number of Trials')\n",
    "plt.ylabel('Confidence or Probability of Superior Performance')\n",
    "plt.title('Comparison of Bayes and Frequentist Tests')\n",
    "plt.legend();"
   ]
  },
  {
   "cell_type": "markdown",
   "metadata": {},
   "source": [
    "This shows us that both the Chi Square test and the Bayesian test approach a high level of certainty for large sample sizes.\n",
    "Note that Bayes is nearly always above the Frequentist, and has less variation. Generally, Bayes will exceed the 95% threshold sooner.\n",
    "\n",
    "How much sooner is Bayes arriving at that conclusion?"
   ]
  },
  {
   "cell_type": "code",
   "execution_count": null,
   "metadata": {},
   "outputs": [],
   "source": [
    "print('First time Bayes exceeded 95%: ')\n",
    "print(x[x['bayes'] > .95].index.min(),' trials')"
   ]
  },
  {
   "cell_type": "code",
   "execution_count": null,
   "metadata": {},
   "outputs": [],
   "source": [
    "print('First time Chi Squared exceeded 95% (p<.05): ')\n",
    "print(x[x['p'] < .05].index.min(),' trials')"
   ]
  },
  {
   "cell_type": "code",
   "execution_count": null,
   "metadata": {},
   "outputs": [],
   "source": [
    "print('Last time Bayes was less than 95%')\n",
    "print(x[x['bayes'] < .95].index.max(), ' trials')"
   ]
  },
  {
   "cell_type": "code",
   "execution_count": null,
   "metadata": {},
   "outputs": [],
   "source": [
    "print('Last time Chi Squared was less than 95% (p>.05): ')\n",
    "print(x[x['p'] > .05].index.max(), ' trials')"
   ]
  },
  {
   "cell_type": "markdown",
   "metadata": {},
   "source": [
    "# Conclusion: \n",
    "\n",
    "### While both Bayesian and Frequentist approaches were able to arrive at the correct result, Bayes was able to reach that result with several hundred, or several thousand fewer trials.\n",
    "\n",
    "### In the real world, this could save time, money, effort and possibly even lives."
   ]
  },
  {
   "cell_type": "markdown",
   "metadata": {},
   "source": [
    "## Explore:\n",
    "\n",
    "* Try changing the np.random.seed() value in the first cell (or remove this statement) to try this with different values\n",
    "* Try changing the threshold value to see how this changes when the effect size changes.\n",
    "* If threshold = 0.5, the new medicine, B, should be identical to the *status quo* medicine."
   ]
  },
  {
   "cell_type": "code",
   "execution_count": null,
   "metadata": {},
   "outputs": [],
   "source": []
  }
 ],
 "metadata": {
  "kernelspec": {
   "display_name": "Python 3",
   "language": "python",
   "name": "python3"
  },
  "language_info": {
   "codemirror_mode": {
    "name": "ipython",
    "version": 3
   },
   "file_extension": ".py",
   "mimetype": "text/x-python",
   "name": "python",
   "nbconvert_exporter": "python",
   "pygments_lexer": "ipython3",
   "version": "3.7.4"
  }
 },
 "nbformat": 4,
 "nbformat_minor": 2
}
