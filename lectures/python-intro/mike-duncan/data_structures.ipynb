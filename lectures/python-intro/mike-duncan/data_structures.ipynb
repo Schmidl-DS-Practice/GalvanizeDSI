{
 "cells": [
  {
   "cell_type": "markdown",
   "metadata": {},
   "source": [
    "# Python Data Structures"
   ]
  },
  {
   "cell_type": "markdown",
   "metadata": {},
   "source": [
    "# Lists\n",
    "\n",
    "Python Lists are a flexible container that holds other objects in an ordered arrangment.  **A list is a general purpose, ordered data structure that allows you to change the data it holds (mutable).**"
   ]
  },
  {
   "cell_type": "code",
   "execution_count": null,
   "metadata": {},
   "outputs": [],
   "source": [
    "my_bag_has = ['lunch', 1.50, True, [\"HitchHiker's Guide\", 'Fluent Python', 'Tensorflow'], 42]\n",
    "print(my_bag_has[3])\n",
    "my_bag_has[3][0] += \" to Python\"\n",
    "print(my_bag_has)"
   ]
  },
  {
   "cell_type": "markdown",
   "metadata": {},
   "source": [
    "## Simple list comprehensions\n",
    "A readable, efficient way to perform operations on lists."
   ]
  },
  {
   "cell_type": "code",
   "execution_count": null,
   "metadata": {},
   "outputs": [],
   "source": [
    "# Evaluate ways to return the absolute value of each element in a list\n",
    "\n",
    "# In python 3 this will return a range object, which is a generator\n",
    "a = range(-10,11)\n",
    "\n",
    "# Let's cast it to a list\n",
    "a = list(a)\n",
    "\n",
    "# return the absolute value of each element in the list a using\n",
    "# 1) a for loop\n",
    "# 2) a functional built-in, map\n",
    "# 3) a list comprehension\n",
    "\n",
    "# using for loop (try to avoid this)\n",
    "abs_a_for = []\n",
    "for elem in a:\n",
    "    abs_a_for.append(abs(elem))\n",
    "\n",
    "## with functional builtins (map)\n",
    "abs_a_map = list(map(abs,a))\n",
    "\n",
    "## using a list comprehension (very Pythonic and fast)\n",
    "abs_a_lstcomp = [abs(x) for x in a]\n",
    "\n",
    "print(\"Here are the resulting arrays\")\n",
    "print(\"          The original array: {0}\\n\".format(a))\n",
    "print(\"              Using for loop: {0}\".format(abs_a_for))\n",
    "print(\"                   Using map: {0}\".format(abs_a_map))\n",
    "print(\"Using the list comprehension: {0}\".format(abs_a_lstcomp))\n",
    "print(\"\\nAre the resulting arrays the same?\")\n",
    "print(abs_a_for == abs_a_map == abs_a_lstcomp)"
   ]
  },
  {
   "cell_type": "markdown",
   "metadata": {},
   "source": [
    "### So which version is best?\n",
    "Code readability is very imporant in Python, and that's one reason why list comprehensions are \"Pythonic.\"\n",
    "Of course, speed matters too.  So which one is fastest?"
   ]
  },
  {
   "cell_type": "code",
   "execution_count": null,
   "metadata": {},
   "outputs": [],
   "source": [
    "# import the timeit module\n",
    "import timeit\n",
    "number_executions = 1000"
   ]
  },
  {
   "cell_type": "code",
   "execution_count": null,
   "metadata": {},
   "outputs": [],
   "source": [
    "# define a larger list so there is more to time\n",
    "lst = range(-20000, 20001)"
   ]
  },
  {
   "cell_type": "code",
   "execution_count": null,
   "metadata": {},
   "outputs": [],
   "source": [
    "# define absolute value functions\n",
    "\n",
    "def abs_using_for(lst):\n",
    "    \"\"\"Returns a list containing the absolute values of all \n",
    "       elements in lst using a for loop.\n",
    "    \"\"\"\n",
    "    abs_values = []\n",
    "    for val in lst:\n",
    "        abs_values.append(abs(val))\n",
    "    return abs_values\n",
    "\n",
    "def abs_using_map(lst):\n",
    "    \"\"\"Returns a list containing the absolute values of all \n",
    "       elements in lst using map.\n",
    "    \"\"\"\n",
    "    return list(map(abs, lst))\n",
    "\n",
    "def abs_using_lstcomp(lst):\n",
    "    \"\"\"Returns a list containing the absolute values of all \n",
    "       elements in lst using a list comprehension.\n",
    "    \"\"\"\n",
    "    return [abs(val) for val in lst]"
   ]
  },
  {
   "cell_type": "code",
   "execution_count": null,
   "metadata": {},
   "outputs": [],
   "source": [
    "# use globals so lst is defined in the function call\n",
    "time_for = timeit.timeit('abs_using_for(lst)', globals=globals(), number=number_executions) \n",
    "print(\"The for function takes {0:0.2f} seconds for {1} executions.\".format(time_for, number_executions))"
   ]
  },
  {
   "cell_type": "code",
   "execution_count": null,
   "metadata": {},
   "outputs": [],
   "source": [
    "time_map = timeit.timeit('abs_using_map(lst)', globals=globals(), number=number_executions) \n",
    "print(\"The map function takes {0:0.2f} seconds for {1} executions.\".format(time_map, number_executions))"
   ]
  },
  {
   "cell_type": "code",
   "execution_count": null,
   "metadata": {},
   "outputs": [],
   "source": [
    "time_lstcomp = timeit.timeit('abs_using_lstcomp(lst)', globals=globals(), number=number_executions) \n",
    "print(\"The list comp. takes {0:0.2f} seconds for {1} executions.\".format(time_lstcomp, number_executions))"
   ]
  },
  {
   "cell_type": "markdown",
   "metadata": {},
   "source": [
    "**Summary** Functional programming (map, filter, reduce) is often faster, but is not as readable nor as flexible as list comprehensions.  \n",
    "Advice: aim to code in comprehensions (list, dictionary, set) and go functional if speed becomes an issue.  We'll get into Numpy later in the course and its vectorized way of doing computations is *the* fastest way to go."
   ]
  },
  {
   "cell_type": "markdown",
   "metadata": {},
   "source": [
    "## Filtering list comprehensions"
   ]
  },
  {
   "cell_type": "code",
   "execution_count": null,
   "metadata": {},
   "outputs": [],
   "source": [
    "## filter\n",
    "a = ['', 'fee', '', '', '', 'fi', '', '', '', '', 'foo', '', '', '', '', '', 'fum']\n",
    "b = [x for x in a if len(x) > 0]\n",
    "print(b)"
   ]
  },
  {
   "cell_type": "markdown",
   "metadata": {},
   "source": [
    "### <font color='gray'>List Comprehension Question</font>\n",
    "Write a list comprehension that squares an item in the list below if it's an integer."
   ]
  },
  {
   "cell_type": "code",
   "execution_count": null,
   "metadata": {},
   "outputs": [],
   "source": [
    "a_lst = [1, '4', 5, 'a', 0, 4]\n"
   ]
  },
  {
   "cell_type": "markdown",
   "metadata": {},
   "source": [
    "<details><summary>\n",
    "Click here for solution…\n",
    "</summary>\n",
    "`a_sqrd = [elem**2 for elem in a_lst if type(elem) is int]`\n",
    "</details>"
   ]
  },
  {
   "cell_type": "markdown",
   "metadata": {},
   "source": [
    "## Nested list comprehensions\n",
    "You can do them, but do you want to?"
   ]
  },
  {
   "cell_type": "code",
   "execution_count": null,
   "metadata": {},
   "outputs": [],
   "source": [
    "nest_lst = [[1,2,3], [4,5,6], [7,8]]\n",
    "print(\"The nested list:\")\n",
    "print(nest_lst)\n",
    "\n",
    "flat_lst = []\n",
    "for lst in nest_lst:\n",
    "    for item in lst:\n",
    "        flat_lst.append(item)\n",
    "print(\"Flattened:\")\n",
    "print(flat_lst)\n",
    "        \n",
    "flat_lst2 = [item for lst in nest_lst for item in lst]\n",
    "\n",
    "print(\"\\nDo both methods for flattening result in the same list?\")\n",
    "print(flat_lst == flat_lst2)"
   ]
  },
  {
   "cell_type": "markdown",
   "metadata": {},
   "source": [
    "## Having fun with Zip\n",
    "Useful way to combine same length iterables."
   ]
  },
  {
   "cell_type": "code",
   "execution_count": null,
   "metadata": {},
   "outputs": [],
   "source": [
    "a1 = [1,2,3]\n",
    "a2 = ['a','b','c']\n",
    "print(\"The lists, separately:\")\n",
    "print(a1)\n",
    "print(a2)\n",
    "\n",
    "print(\"\\nZipped together:\")\n",
    "a1a2 = list(zip(a1,a2))\n",
    "print(a1a2)\n",
    "\n",
    "print(\"\\nHow it's often used:\")\n",
    "for v1, v2 in zip(a1, a2):\n",
    "    print(f\"a1: {v1}, a2: {v2}\")"
   ]
  },
  {
   "cell_type": "markdown",
   "metadata": {},
   "source": [
    "### Tuples\n",
    "\n",
    "Tuples are a lightweight (meaning relatively small in memory) immutable brother/sister of the `list`. Tuples are immutable, ordered collections.  Similar to lists, tuples are declared by passing an iterable to the `tuple()` constructor, with or without the syntactic parenthesis (this works because Python automatically interprets comma separated things that aren't specifically specified otherwise as tuples).  **If you want an ordered, lightweight data structure to hold unchanging data, use tuples.**"
   ]
  },
  {
   "cell_type": "code",
   "execution_count": null,
   "metadata": {},
   "outputs": [],
   "source": [
    "my_first_tuple = tuple([1, 2])\n",
    "print(type(my_first_tuple))\n",
    "my_first_tuple"
   ]
  },
  {
   "cell_type": "code",
   "execution_count": null,
   "metadata": {},
   "outputs": [],
   "source": [
    "my_second_tuple = (1, 2)\n",
    "print(type(my_second_tuple))\n",
    "my_second_tuple"
   ]
  },
  {
   "cell_type": "code",
   "execution_count": null,
   "metadata": {},
   "outputs": [],
   "source": [
    "my_third_tuple = 1, 2\n",
    "print(type(my_third_tuple))\n",
    "my_third_tuple"
   ]
  },
  {
   "cell_type": "markdown",
   "metadata": {},
   "source": [
    "### <font color='gray'>Tuple Questions</font>\n",
    "\n",
    "1. Make a tuple called `my_tuple` with the values `1` and `\"hello\"` in it. \n",
    "    1. How do you access the `1` in `my_tuple`?\n",
    "    2. How do you access the `\"hello\"` in `my_tuple`?\n",
    "2. Can you change the `\"hello\"` entry in `my_tuple` to `\"hello there\"`? Why or why not?"
   ]
  },
  {
   "cell_type": "code",
   "execution_count": null,
   "metadata": {},
   "outputs": [],
   "source": [
    "my_tuple = (1, 'hello')"
   ]
  },
  {
   "cell_type": "markdown",
   "metadata": {},
   "source": [
    "<details><summary>\n",
    "Click here for solution 1.A\n",
    "</summary>\n",
    "`my_tuple = (1, 'hello')`\n",
    "`print(my_tuple[0])`\n",
    "</details>"
   ]
  },
  {
   "cell_type": "code",
   "execution_count": null,
   "metadata": {},
   "outputs": [],
   "source": [
    "my_tuple[0]"
   ]
  },
  {
   "cell_type": "markdown",
   "metadata": {},
   "source": [
    "<details><summary>\n",
    "Click here for solution 1.B\n",
    "</summary>\n",
    "`my_tuple = (1, 'hello')`\n",
    "`print(my_tuple[1])`\n",
    "</details>"
   ]
  },
  {
   "cell_type": "markdown",
   "metadata": {},
   "source": [
    "<details><summary>\n",
    "Click here for solution 2\n",
    "</summary>\n",
    "You can't.  Tuple are immutable (you can't modify them after creation).\n",
    "</details>"
   ]
  },
  {
   "cell_type": "markdown",
   "metadata": {},
   "source": [
    "### Dictionaries\n",
    "\n",
    "So far, the only collections that we have talked about are ordered.  These are great as containers if there is some intrinsic order to the data that we're storing. However, there are plenty of times when we don't care about order, either because it simply doesn't matter or because the data are associated with each other in a different way.  Dictionaries are useful because they link data (the value) to a key for fast look-up.  **When you want to link data or any object to some entity, use a dictionary.**"
   ]
  },
  {
   "cell_type": "code",
   "execution_count": null,
   "metadata": {},
   "outputs": [],
   "source": [
    "states_caps_dict = {'Georgia': 'Atlanta', 'Colorado': 'Denver', 'Indiana': 'Indianapolis'}\n",
    "states_caps_dict"
   ]
  },
  {
   "cell_type": "code",
   "execution_count": null,
   "metadata": {},
   "outputs": [],
   "source": [
    "# for a standard dictionary, asking for a key that hasn't been assigned previously\n",
    "states_caps_dict['Washington']"
   ]
  },
  {
   "cell_type": "code",
   "execution_count": null,
   "metadata": {},
   "outputs": [],
   "source": [
    "# .get method allows a default value to be supplied\n",
    "states_caps_dict.get('Washington', 'State not found')"
   ]
  },
  {
   "cell_type": "code",
   "execution_count": null,
   "metadata": {},
   "outputs": [],
   "source": [
    "# but we could have assigned it:\n",
    "states_caps_dict['Washington'] = 'Olympia'\n",
    "states_caps_dict"
   ]
  },
  {
   "cell_type": "code",
   "execution_count": null,
   "metadata": {},
   "outputs": [],
   "source": [
    "# default dictionaries allow a default value to be set\n",
    "from collections import defaultdict\n",
    "states_caps = defaultdict(lambda: 'State not found')\n",
    "states_caps.update(states_caps_dict)\n",
    "print(states_caps)\n",
    "states_caps['Oregon']\n",
    "states_caps['Washington']"
   ]
  },
  {
   "cell_type": "markdown",
   "metadata": {},
   "source": [
    "### <font color='gray'>Dictionary Questions</font>\n",
    "\n",
    "1. Make a dictionary called `restaurant_types` that has the following associated `key-value` pairs: `('Red Lobster', 'Seafood')`, `('Burger King', 'Fast Food')`, `('Safeway', 'Groceries')`.\n",
    "\n",
    "2. How do you find the resturant type for `'Burger King'`?\n",
    "3. What if you don't know whether or not `'Outback Steakhouse'` is in the `resturant_types` dictionary - how would you go about trying to get it's resturant type and make sure that you won't get an error?"
   ]
  },
  {
   "cell_type": "code",
   "execution_count": null,
   "metadata": {},
   "outputs": [],
   "source": []
  },
  {
   "cell_type": "markdown",
   "metadata": {},
   "source": [
    "<details><summary>\n",
    "Click here for solution 1\n",
    "</summary>\n",
    "```\n",
    "restaurant_types = {'Red Lobster': 'Seafood', 'Burger King': 'Fast Food', 'Safeway': 'Groceries'}\n",
    "print(restaurant_types)\n",
    "```\n",
    "</details>"
   ]
  },
  {
   "cell_type": "code",
   "execution_count": null,
   "metadata": {},
   "outputs": [],
   "source": []
  },
  {
   "cell_type": "markdown",
   "metadata": {},
   "source": [
    "<details><summary>\n",
    "Click here for solution 2\n",
    "</summary>\n",
    "```\n",
    "restaurant_types['Burger King']\n",
    "```\n",
    "</details>"
   ]
  },
  {
   "cell_type": "code",
   "execution_count": null,
   "metadata": {},
   "outputs": [],
   "source": []
  },
  {
   "cell_type": "markdown",
   "metadata": {},
   "source": [
    "<details><summary>\n",
    "Click here for solution 3\n",
    "</summary>\n",
    "`restaurant_types.get('Outback Steakhouse', 'Restaurant not in dictionary.')`\n",
    "</details>"
   ]
  },
  {
   "cell_type": "markdown",
   "metadata": {},
   "source": [
    "## Sets\n",
    "\n",
    "A set combines some of the features of both the `list` and the `dictionary`. A set is defined as an unordered, mutable collection of unique items. This means that a `set` is a data structure where you can store items, without caring about their order and knowing that there will be at most one of them in the structure.  Sets use a hash to link each item to membership or not.  **If you are going to check membership in a data structure, use a set.**"
   ]
  },
  {
   "cell_type": "code",
   "execution_count": null,
   "metadata": {},
   "outputs": [],
   "source": [
    "# how to initialize\n",
    "my_set = set([1, 2, 3])\n",
    "my_other_set = {1, 2, 3}\n",
    "my_empty_set = {}  # uh, no....\n",
    "print(type(my_set))\n",
    "print(type(my_other_set))\n",
    "print(type(my_empty_set)) # see?"
   ]
  },
  {
   "cell_type": "code",
   "execution_count": null,
   "metadata": {},
   "outputs": [],
   "source": [
    "empty_set_2 = set()\n",
    "print(type(empty_set_2))"
   ]
  },
  {
   "cell_type": "code",
   "execution_count": null,
   "metadata": {},
   "outputs": [],
   "source": [
    "my_set = {1, 2, 3}\n",
    "my_other_set = {5, 6, 7}\n",
    "my_set.union(my_other_set)"
   ]
  },
  {
   "cell_type": "code",
   "execution_count": null,
   "metadata": {},
   "outputs": [],
   "source": [
    "my_set.add(4)\n",
    "my_set"
   ]
  },
  {
   "cell_type": "code",
   "execution_count": null,
   "metadata": {},
   "outputs": [],
   "source": [
    "my_set.update(my_other_set)\n",
    "my_set"
   ]
  },
  {
   "cell_type": "code",
   "execution_count": null,
   "metadata": {},
   "outputs": [],
   "source": [
    "my_set.remove(5)\n",
    "my_set"
   ]
  },
  {
   "cell_type": "code",
   "execution_count": null,
   "metadata": {},
   "outputs": [],
   "source": [
    "my_set.intersection(my_other_set)"
   ]
  },
  {
   "cell_type": "markdown",
   "metadata": {},
   "source": [
    "**Set Questions**\n",
    "\n",
    "1. Make a set called `first_set` with the values 1-10 and another with the values 5-15 called `second_set`.\n",
    "2. Add the value 11 to `first_set`.\n",
    "3. Add the string `'hello'` to `second_set`.\n",
    "4. Using one of the methods discussed above, find what elements `first_set` and `second_set` have in common."
   ]
  },
  {
   "cell_type": "code",
   "execution_count": null,
   "metadata": {},
   "outputs": [],
   "source": []
  },
  {
   "cell_type": "code",
   "execution_count": null,
   "metadata": {},
   "outputs": [],
   "source": []
  },
  {
   "cell_type": "code",
   "execution_count": null,
   "metadata": {},
   "outputs": [],
   "source": []
  },
  {
   "cell_type": "code",
   "execution_count": null,
   "metadata": {},
   "outputs": [],
   "source": []
  },
  {
   "cell_type": "markdown",
   "metadata": {},
   "source": [
    "<details><summary>\n",
    "Click here for answers\n",
    "</summary>\n",
    "```\n",
    "first_set = set(range(1,11))\n",
    "second_set = set(range(5,16))\n",
    "print(first_set)\n",
    "print(second_set)\n",
    "first_set.add(11)\n",
    "second_set.add('hello')\n",
    "print(first_set)\n",
    "print(second_set)\n",
    "intersection = first_set.intersection(second_set)\n",
    "print(intersection)  \n",
    "```\n",
    "</details>"
   ]
  }
 ],
 "metadata": {
  "kernelspec": {
   "display_name": "Python 3",
   "language": "python",
   "name": "python3"
  },
  "language_info": {
   "codemirror_mode": {
    "name": "ipython",
    "version": 3
   },
   "file_extension": ".py",
   "mimetype": "text/x-python",
   "name": "python",
   "nbconvert_exporter": "python",
   "pygments_lexer": "ipython3",
   "version": "3.8.1"
  }
 },
 "nbformat": 4,
 "nbformat_minor": 4
}
