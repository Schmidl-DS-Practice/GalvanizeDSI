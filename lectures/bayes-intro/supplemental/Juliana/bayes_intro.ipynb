{
 "cells": [
  {
   "cell_type": "code",
   "execution_count": 1,
   "metadata": {},
   "outputs": [],
   "source": [
    "import numpy as np\n",
    "from scipy import stats\n",
    "import matplotlib.pyplot as plt\n",
    "\n",
    "plt.style.use('ggplot')\n",
    "plt.rcParams.update({'font.size': 14})"
   ]
  },
  {
   "cell_type": "markdown",
   "metadata": {},
   "source": [
    "# Bayesian Statistics \n",
    "\n",
    "## Objectives\n",
    "\n",
    " * Describe the difference between Frequentist and Bayesian statistics\n",
    " * Use Bayes' theorem to calculate posterior probabilities\n",
    " * Use Bayesian Updating\n",
    "\n",
    "## Agenda\n",
    "\n",
    "* Compare Frequentist and Bayesian approaches\n",
    "* Introduce Bayes' theorem\n",
    "* Calculate posterior probabilities"
   ]
  },
  {
   "cell_type": "markdown",
   "metadata": {},
   "source": [
    "# Review: Frequentist Approach\n",
    "\n",
    "Let's say that I give you a coin and I ask you to design an experiment to determine whether this coin is fair.  What would you do? \n",
    "\n",
    "1.   \n",
    "\n",
    "\n",
    "<br><br><br><br><br><br><br><br><br>\n",
    "\n",
    "\n",
    "\n",
    "\n",
    "\n",
    "\n",
    "\n",
    "\n",
    "\n",
    "<details>\n",
    "<summary> Possible Answer</summary>\n",
    "<br><br><br><br><br><br><br>\n",
    "**Design a hypothesis test**\n",
    "1. State a scientific question \n",
    "2. Null Hypothesis: The is coin fair \n",
    "3. Alternative Hypothesis: The coin is not fair \n",
    "4. Test statistics: Flip a coin 100 times and see how coins are H v T. \n",
    "5. Significance level: 0.05 \n",
    "6. Compute a p-value: $P(x > teststatistic | Binomial(n=100 p = 0.5) )$\n",
    "7. Conclusion: Reject or fail to reject the null hypothesis \n",
    "</details>\n",
    "\n",
    "The conclusions of the frequentist is a bit disappointing.  Wouldn't it be great if we can define a probability that a coin is fair?  <i>i.e I am 90% sure that your coin is fair.</i>. This is the power of Bayesian statistics. \n",
    "\n",
    "# Bayesian Statistics \n",
    "\n",
    "When people talk about statistics they usually mean **Frequentist statistics**. All the talk of p-values and confidence intervals and MLE is all Frequentist terminology. But there's another way to think about statistics. Long ago **Bayesian statistics** was controversial; today it's popular enough that any data scientist should understand both.\n",
    "\n",
    "In general, Frequentist and Bayesians look at statistical problems in fundamentally different ways that are almost inverse of each other.\n",
    "\n",
    "![](img/bayes_v_frequentist.png)\n",
    "\n",
    "\n",
    "| <center>Bayesian Perspective</center> | <center>Frequentist Perspective</center>  |   \n",
    "|---|---|\n",
    "| \"There is no single true hypothesis, but any number of possible hypotheses, each with a probability. The only thing we can know for certain is the observation.\" |  \"There is one true hypothesis, though we don't know what it is. The observation (or data or sample) is one of many that could have been generated.\" | \n",
    "\n",
    "For a Frequentist, it's absurd to talk about the probability of some hypothesis being true; either it is true or it isn't. This is sometimes taken as a criticism of Bayesian statistics."
   ]
  },
  {
   "cell_type": "markdown",
   "metadata": {},
   "source": [
    "## Bayes Theorem \n",
    "\n",
    "Bayes Theorem is the most important equation in Bayesian Statistics.  It gives us the ability to compute the probabilities of hypothesis given data. \n",
    "\n",
    "Suppose we're considering some hypothesis $H$ and we've collected some data $\\mathbf{D}$.\n",
    "$$ P(H|\\mathbf{D}) = \\frac{P(\\mathbf{D}|H) P(H)}{P(\\mathbf{D})} $$\n",
    "\n",
    "Each term has a name.\n",
    "\n",
    "* $P(H)$ is the *prior probability*\n",
    "* $P(\\mathbf{D}|H)$ is the *likelihood*.\n",
    "* $P(\\mathbf{D})$ is the *normalizing constant*.\n",
    "* $P(H|\\mathbf{D})$ is the *posterior probability*.\n",
    "\n",
    "\n",
    "If there are a bunch of hypotheses $H_1, H_2, ... H_n$, we could write this as\n",
    "\n",
    "$$\\begin{align}\n",
    "P(H_i|\\mathbf{D}) & = \\frac{P(\\mathbf{D}|H_i) P(H_i)}{P(\\mathbf{D})}\\\\\n",
    "         & = \\frac{P(\\mathbf{D}|H_i) P(H_i)}{\\sum_{j=0}^{n} P(\\mathbf{D}|H_j) P(H_j)}\n",
    "\\end{align}\n",
    "$$\n",
    "\n",
    "Here we see the normalizing constant is the likelihood times the prior summed over all possible hypotheses (using the law of total probability).\n",
    "\n",
    "In other words, it's the constant (independent of hypothesis) needed to be multiplied by all the numerators so that they all add up to one.\n",
    "\n",
    "Let's talk through a fun example\n",
    "\n",
    "<img src='img/silly_example1.png' width=600 />\n",
    "<img src='img/silly_example2.png' width=600 />\n",
    "<img src='img/silly_example3.png' width=600 />\n",
    "<!-- <img src='img/bayes_example.jpg' width=400 /> -->\n",
    "\n",
    "As you will see in the next example, priors do not always have to be so subjective.  However, it is something you should be aware of when using Bayesian Statistics. "
   ]
  },
  {
   "cell_type": "markdown",
   "metadata": {},
   "source": [
    "# Bayesian Updating \n",
    "\n",
    "Bayesian updating uses new data on the fly to continuously alter our understanding of the probability of each of the possible hypotheses.  Mathematically what occurs in Bayesian updating is that our prior probability, $P(H)$ will become the posterior $P(H|D)$ when we accumulate new data.  \n",
    "\n",
    "Let's dive into an example to see how this works:\n"
   ]
  },
  {
   "cell_type": "markdown",
   "metadata": {},
   "source": [
    "## Example Bayesian Updating Step by Step \n",
    "\n",
    "<img src='img/flip_coin.png' width=600 />\n",
    "\n",
    "**The problem:**  Let's say we picked one of two coins. One isn't fair ($p(Heads) = 0.45$) while the other one is ($p(Heads) = 0.5$). After a certain number of flips, what is our degree of belief that the results came from fair coin?"
   ]
  },
  {
   "cell_type": "markdown",
   "metadata": {},
   "source": [
    "### First Coin Flip  \n",
    "\n",
    "Let's start by flipping a coin once and let's say we get heads and calculate our Posterior:\n",
    "<img src='http://www.gambling911.com/files/styles/article_image/public/publisher/Super-Bowl-Coin-Toss-Heads-020316L.jpg?itok=L4jga2u' width=100 />\n",
    "\n",
    "1. **Likelihood:**\n",
    "We could ask two questions -- what's the likelihood our coin is fair or unfair.  I will compute the probability that our coin is fair in this example, but I could have computed unfair as well. \n",
    "\n",
    "$$P(Head|Fair) = 0.5$$\n",
    "$$P(Head|UnFair) = 0.45$$\n",
    "\n",
    "2. **Prior:**\n",
    "The prior is our belief about the probability that our coin is fair or not fair.  Since, we have no data and the coins were split 50-50 our prior is .5. \n",
    "\n",
    "$$ P(Fair) = 0.5$$\n",
    "$$ P(UnFair) = 0.5$$\n",
    "\n",
    "3. **Marginal Probability:**\n",
    "The marginal probability acts as a normalization constant. \n",
    "\n",
    "$$P(Head) = P(Head|Fair)P(Fair) + P(Head|UnFair)P(UnFair)$$\n",
    "$$P(Head) = (0.5)(0.5) + (0.45)(0.5) = 0.475$$"
   ]
  },
  {
   "cell_type": "code",
   "execution_count": 2,
   "metadata": {},
   "outputs": [
    {
     "data": {
      "text/plain": [
       "0.475"
      ]
     },
     "execution_count": 2,
     "metadata": {},
     "output_type": "execute_result"
    }
   ],
   "source": [
    "marg_prob1 = (0.5)*(0.5) + (0.45)*(0.5)\n",
    "marg_prob1"
   ]
  },
  {
   "cell_type": "markdown",
   "metadata": {},
   "source": [
    "4. **Posterior:**\n",
    "\n",
    "$$P(Fair|Head) = \\frac{P(Head|Fair) P(Fair)}{P(Head)} = \\frac{(0.5)(0.5)}{(0.475)}= 0.526$$\n",
    "$$P(UnFair|Head) = \\frac{P(Head|UnFair) P(UnFair)}{P(Head)} = \\frac{(0.45)(0.5)}{(0.475)}= 0.474$$\n"
   ]
  },
  {
   "cell_type": "code",
   "execution_count": 35,
   "metadata": {},
   "outputs": [
    {
     "name": "stdout",
     "output_type": "stream",
     "text": [
      " The probability the coin is fair is 0.526.\n",
      " The probability the coin in unfair is 0.474. \n",
      " The sum of the probabilities is 1.0\n"
     ]
    }
   ],
   "source": [
    "posterior1_fair = 0.5*0.5/marg_prob1\n",
    "posterior1_unfair = 0.45*0.5/marg_prob1\n",
    "print(' The probability the coin is fair is {0:.3}.\\n \\\n",
    "The probability the coin in unfair is {1:.3}. \\n \\\n",
    "The sum of the probabilities is {2:.3}'.format(posterior1_fair, \n",
    "                                               posterior1_unfair, \n",
    "                                               posterior1_fair + posterior1_unfair) )"
   ]
  },
  {
   "cell_type": "markdown",
   "metadata": {},
   "source": [
    "### Second Coin Flip\n",
    "\n",
    "This time we flip the coin again and we get Tails. \n",
    "\n",
    "<img src='http://www.bernstein-plus-sons.com/.dowling/Probability_Module/www.busyteacherscafe.com/Coin%2520Clipart_files/quarter_tail.jpg' width=100 />\n",
    "\n",
    "1. **Likelihood:**\n",
    "We could ask two questions -- what's the likelihood our coin is fair or unfair.  I will compute the probability that our coin is fair in this example, but I could have computed unfair as well. \n",
    "\n",
    "$$P(Tail|Fair) = 0.5$$\n",
    "$$P(Tail|UnFair) = 0.55$$\n",
    "\n",
    "2. **Prior:**\n",
    "Our prior belief now can be data driven, since we have flipped this coin before! For our prior we will now use the posterior from the previous coin flip:\n",
    "\n",
    "$$ P(Fair) = 0.526$$\n",
    "$$ P(UnFair) = 0.474$$\n",
    "\n",
    "3. **Marginal Probability:**\n",
    "The marginal probability acts as a normalization constant. \n",
    "\n",
    "$$P(Tail) = P(Tail|Fair)P(Fair) + P(Tail|UnFair)P(UnFair)$$\n",
    "$$P(Tail) = (0.5)(0.5263) + (0.55)(1- 0.5263) = 0.475=0.523$$"
   ]
  },
  {
   "cell_type": "code",
   "execution_count": 22,
   "metadata": {},
   "outputs": [
    {
     "data": {
      "text/plain": [
       "0.5236842105263158"
      ]
     },
     "execution_count": 22,
     "metadata": {},
     "output_type": "execute_result"
    }
   ],
   "source": [
    "marg_prob2 = 0.5*posterior1_fair + 0.55*(posterior1_unfair)\n",
    "marg_prob2"
   ]
  },
  {
   "cell_type": "markdown",
   "metadata": {},
   "source": [
    "4. **Posterior:**\n",
    "\n",
    "$$P(Fair|Tail) = \\frac{P(Tail|Fair) P(Fair)}{P(Head)} = \\frac{(0.5)(0.526)}{(0.523)}= 0.503$$\n",
    "\n",
    "$$P(UnFair|Tail) = \\frac{P(Tail|UnFair) P(UnFair)}{P(Head)} = \\frac{(0.55)(0.473)}{(0.523)}= 0.497$$\n"
   ]
  },
  {
   "cell_type": "code",
   "execution_count": 36,
   "metadata": {},
   "outputs": [
    {
     "name": "stdout",
     "output_type": "stream",
     "text": [
      " The probability the coin is fair is 0.503.\n",
      " The probability the coin in unfair is 0.497. \n",
      " The sum of the probabilities is 1.0\n"
     ]
    }
   ],
   "source": [
    "posterior2_fair = 0.5*posterior1_fair/marg_prob2\n",
    "posterior2_unfair = 0.55*posterior1_unfair/marg_prob2\n",
    "\n",
    "print(' The probability the coin is fair is {0:.3}.\\n \\\n",
    "The probability the coin in unfair is {1:.3}. \\n \\\n",
    "The sum of the probabilities is {2:.3}'.format(posterior2_fair, \n",
    "                                               posterior2_unfair, \n",
    "                                               posterior2_fair + posterior2_unfair) )"
   ]
  },
  {
   "cell_type": "markdown",
   "metadata": {},
   "source": [
    "### Third Coin Flip\n",
    "\n",
    "This time we flip the coin again and we get Heads.\n",
    "<img src='http://www.gambling911.com/files/styles/article_image/public/publisher/Super-Bowl-Coin-Toss-Heads-020316L.jpg?itok=L4jga2u' width=100 />\n",
    "\n",
    "1. **Likelihood:**\n",
    "We could ask two questions -- what's the likelihood our coin is fair or unfair.  I will compute the probability that our coin is fair in this example, but I could have computed unfair as well. \n",
    "\n",
    "$$P(Head|Fair) = 0.5$$\n",
    "$$P(Head|UnFair) = 0.45$$\n",
    "\n",
    "2. **Prior:**\n",
    "Our prior belief now can be data driven, since we have fliped this coin before! For our prior we will not use the posterior from the previous coin flip \n",
    "\n",
    "$$ P(Fair) = 0.503$$\n",
    "$$ P(UnFair) = 0.497$$\n",
    "\n",
    "3. **Marginal Probability:**\n",
    "The marginal probability acts as a normalization constant. \n",
    "\n",
    "$$P(Head) = P(Head|Fair)P(Fair) + P(Head|UnFair)P(UnFair)$$\n",
    "$$P(Head) = (0.5)(0.503) + (0.45)(1-0.497) = 0.475$$"
   ]
  },
  {
   "cell_type": "code",
   "execution_count": 39,
   "metadata": {},
   "outputs": [
    {
     "data": {
      "text/plain": [
       "0.4751256281407036"
      ]
     },
     "execution_count": 39,
     "metadata": {},
     "output_type": "execute_result"
    }
   ],
   "source": [
    "marg_prob3 = (0.5)*(posterior2_fair) + (0.45)*(posterior2_unfair)\n",
    "marg_prob3"
   ]
  },
  {
   "cell_type": "markdown",
   "metadata": {},
   "source": [
    "4. **Posterior:**\n",
    "\n",
    "$$P(Fair|Head) = \\frac{P(Head|Fair) P(Fair)}{P(Head)} = 0.529$$\n",
    "$$P(UnFair|Head) = \\frac{P(Head|UnFair) P(UnFair)}{P(Head)} = 0.571$$"
   ]
  },
  {
   "cell_type": "code",
   "execution_count": 41,
   "metadata": {},
   "outputs": [
    {
     "name": "stdout",
     "output_type": "stream",
     "text": [
      " The probability the coin is fair is 0.529.\n",
      " The probability the coin in unfair is 0.471. \n",
      " The sum of the probabilities is 1.0\n"
     ]
    }
   ],
   "source": [
    "posterior3_fair = 0.5*posterior2_fair/marg_prob3\n",
    "posterior3_unfair = 0.45*posterior2_unfair/marg_prob3\n",
    "\n",
    "print(' The probability the coin is fair is {0:.3}.\\n \\\n",
    "The probability the coin in unfair is {1:.3}. \\n \\\n",
    "The sum of the probabilities is {2:.3}'.format(posterior3_fair, \n",
    "                                               posterior3_unfair, \n",
    "                                               posterior3_fair + posterior3_unfair) )"
   ]
  },
  {
   "cell_type": "markdown",
   "metadata": {},
   "source": [
    "## Breakout Exercise \n",
    "\n",
    "![](https://ksr-ugc.imgix.net/assets/019/159/570/a8669a017600ac1e9b4cbd4200199856_original.jpg?ixlib=rb-1.1.0&w=680&fit=max&v=1510318889&auto=format&gif-q=50&q=92&s=518be559a1ca962170092a28c4c91595)\n",
    "\n",
    "**Problem**<br> \n",
    "A box contains a 4-sided die, a 6-sided die, an 8-sided die, a 12-sided die, and a 20-sided die. A die is selected at random, and the rest are destroyed.\n",
    "\n",
    "We would like to determine which die I have selected, given only information of what I roll.\n",
    "    \n",
    "Using pen and paper answer the following questions:\n",
    "\n",
    "1. What is the prior associated with choosing any one die?\n",
    "\n",
    "2. What is the likelihood function? You should assume that the die are all fair.  You only need to write down a likelihood function for one die roll.\n",
    "\n",
    "3. Say I roll an 8. After one bayesian update, what is the probability that I chose each of the dice?\n",
    "\n",
    "4. I am curious and decided to roll one more time and get a 5.  What are my updated probabilities? \n"
   ]
  },
  {
   "cell_type": "markdown",
   "metadata": {},
   "source": [
    "## Automating the Process: Updating the Posterior for Many Coin Flips\n",
    "\n",
    "Going step by step is tedious, so let's automate the process and see how our posterior changes as we continue to flip the unfair coin. \n",
    "\n",
    "First we will simulate drawing the a coin out of the bag: "
   ]
  },
  {
   "cell_type": "code",
   "execution_count": 8,
   "metadata": {},
   "outputs": [
    {
     "name": "stdout",
     "output_type": "stream",
     "text": [
      "It's the unfair coin (p = 0.45).\n"
     ]
    }
   ],
   "source": [
    "np.random.seed(37) # try to make it so that we all get the same result\n",
    "\n",
    "# make the coins and select one\n",
    "p_fair = 0.5 # don't change\n",
    "p_not_fair = 0.45 # feel free to change (but don't use 0.5)\n",
    "p = np.random.choice([p_fair, p_not_fair]) # random.choice selects uniform random number from array \n",
    "\n",
    "def indicate_coin_picked(p):\n",
    "    fair = p == 0.5                             # is coin fair or not\n",
    "    if fair:\n",
    "        print(\"It's the fair coin (p = 0.5).\")\n",
    "    else:\n",
    "        print(f\"It's the unfair coin (p = {p}).\")\n",
    "\n",
    "indicate_coin_picked(p)"
   ]
  },
  {
   "cell_type": "markdown",
   "metadata": {},
   "source": [
    "Now the we have a coin selected (that is unfair) let's run a simulation of flipping this coin several times.  \n",
    "\n",
    "One thing to note about the code below.  In the step by step example, I chose to compute the probability that the coin was fair.  However, I could have just of easily computed that the probability that the coin is unfair. "
   ]
  },
  {
   "cell_type": "code",
   "execution_count": 9,
   "metadata": {},
   "outputs": [],
   "source": [
    "def flip_the_coin(p, flips_lst):\n",
    "    '''Flips the coin with probability of success p\n",
    "       and appends to the flips_lst'''\n",
    "    if np.random.random() <= p:\n",
    "        flips_lst.append(1) #heads (success)\n",
    "    else:\n",
    "        flips_lst.append(0) #tails (failure)\n",
    "        \n",
    "def calculate_likelihood(flips_lst):\n",
    "    '''\n",
    "    Likelihood of the last flip (aka: the PMF) in the flips_lst \n",
    "    given fair, not fair coin\n",
    "    '''\n",
    "    result = flips_lst[-1]\n",
    "    likelihood_fair = stats.bernoulli.pmf(result, p_fair)\n",
    "    likelihood_not_fair = stats.bernoulli.pmf(result, p_not_fair)\n",
    "    return [likelihood_fair, likelihood_not_fair]\n",
    "\n",
    "def calculate_marginal(likelihoods_lst, prior_lst):\n",
    "    \"\"\"\n",
    "    Computed the marginal probability or normalization p\n",
    "    \"\"\"\n",
    "    # marginal = likelihood_fair * prior_fair + likelihood_not_fair * prior_unfair\n",
    "    marginal = likelihoods_lst[0] * prior_lst[0] + likelihoods_lst[1] * prior_lst[1]\n",
    "    return marginal\n",
    "\n",
    "def calculate_posterior(likelihoods_lst, prior_lst):\n",
    "    '''Calculates the posterior given the likelihoods and prior'''\n",
    "    marginal = calculate_marginal(likelihoods_lst, prior_lst) \n",
    "    posterior = []\n",
    "    for likelihood, prior in zip(likelihoods_lst, prior_lst):\n",
    "        posterior.append(likelihood * prior / marginal)  \n",
    "    return posterior\n",
    "\n",
    "def plot_pfair_prob(num_flips, p_fair_arr):\n",
    "    fig, ax = plt.subplots(figsize=(12,4))\n",
    "    flip_num = np.arange(1, num_flips + 1)\n",
    "    ax.plot(flip_num, p_fair_arr)\n",
    "    ax.set_ylim([-0.1, 1.1])\n",
    "    ax.set_title('Probability of fair coin as a function of flip number')\n",
    "    ax.set_ylabel('Probability p_fair')\n",
    "    ax.set_xlabel('Flip number');"
   ]
  },
  {
   "cell_type": "code",
   "execution_count": 44,
   "metadata": {},
   "outputs": [
    {
     "name": "stdout",
     "output_type": "stream",
     "text": [
      "It's the unfair coin (p = 0.45).\n",
      "\n",
      "Posteriors after 4000 trials\n",
      "Probability Fair 0.022, Not fair 0.978\n"
     ]
    },
    {
     "data": {
      "image/png": "[encoded data removed]",
      "text/plain": [
       "<Figure size 864x288 with 1 Axes>"
      ]
     },
     "metadata": {},
     "output_type": "display_data"
    }
   ],
   "source": [
    "# print whether coin is fair\n",
    "indicate_coin_picked(p)\n",
    "\n",
    "# initialize my prior belief\n",
    "priors = [0.5, 0.5]\n",
    "flips_lst = []\n",
    "\n",
    "# set the number of flips\n",
    "num_flips = 4000\n",
    "#num_flips = 50\n",
    "p_fair_arr = np.zeros(num_flips)\n",
    "for i in range(num_flips):\n",
    "    flip_the_coin(p, flips_lst)\n",
    "    likelihoods = calculate_likelihood(flips_lst)\n",
    "    posteriors = calculate_posterior(likelihoods, priors)\n",
    "    p_fair_arr[i] = posteriors[0]  # the index is for pulling the P(fair); index = 1 --> P(unfair)\n",
    "    priors = posteriors  # set my \n",
    "\n",
    "# print results of experiment\n",
    "print(\"\\nPosteriors after {0} trials\".format(num_flips))\n",
    "print(\"Probability Fair {0:0.3f}, Not fair {1:0.3f}\".format(posteriors[0], posteriors[1]))\n",
    "\n",
    "plot_pfair_prob(num_flips, p_fair_arr)\n"
   ]
  },
  {
   "cell_type": "markdown",
   "metadata": {},
   "source": [
    "### Just for fun\n",
    "\n",
    "**Derivation of Bayes Theorem**\n",
    "\n",
    "$$ P(A \\cap B) = P(A) P(B | A)$$\n",
    "$$-OR-$$\n",
    "$$ P(A \\cap B) = P(B) P(A | B)$$ \n",
    "\n",
    "This means the following is true:\n",
    "$$P(A) P(B | A) = P(B) P(A | B)$$\n",
    "$$P(B|A) = \\frac{P(B) P(A | B)}{P(A)}$$\n",
    "\n"
   ]
  },
  {
   "cell_type": "code",
   "execution_count": null,
   "metadata": {},
   "outputs": [],
   "source": []
  },
  {
   "cell_type": "code",
   "execution_count": null,
   "metadata": {},
   "outputs": [],
   "source": []
  },
  {
   "cell_type": "code",
   "execution_count": null,
   "metadata": {},
   "outputs": [],
   "source": []
  },
  {
   "cell_type": "code",
   "execution_count": null,
   "metadata": {},
   "outputs": [],
   "source": []
  },
  {
   "cell_type": "code",
   "execution_count": null,
   "metadata": {},
   "outputs": [],
   "source": []
  },
  {
   "cell_type": "code",
   "execution_count": null,
   "metadata": {},
   "outputs": [],
   "source": []
  }
 ],
 "metadata": {
  "kernelspec": {
   "display_name": "Python 3",
   "language": "python",
   "name": "python3"
  },
  "language_info": {
   "codemirror_mode": {
    "name": "ipython",
    "version": 3
   },
   "file_extension": ".py",
   "mimetype": "text/x-python",
   "name": "python",
   "nbconvert_exporter": "python",
   "pygments_lexer": "ipython3",
   "version": "3.7.7"
  },
  "toc": {
   "base_numbering": 1,
   "nav_menu": {},
   "number_sections": true,
   "sideBar": true,
   "skip_h1_title": false,
   "title_cell": "Table of Contents",
   "title_sidebar": "Contents",
   "toc_cell": false,
   "toc_position": {},
   "toc_section_display": true,
   "toc_window_display": false
  }
 },
 "nbformat": 4,
 "nbformat_minor": 4
}
