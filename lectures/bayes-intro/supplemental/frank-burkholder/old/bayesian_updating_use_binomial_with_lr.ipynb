{
 "cells": [
  {
   "cell_type": "markdown",
   "metadata": {},
   "source": [
    "## Demonstrate Bayesian updating for discrete posteriors, priors, and likelihoods\n",
    "\n",
    "\n",
    "Let's say we picked one of two coins.  One isn't fair (pHeads = 0.45) while the other one is (pHeads = 0.5).  After a certain number of flips, what is our degree of belief that the results came from each of the coins?\n",
    "\n",
    "Bayes rule for this example:\n",
    "\n",
    "\\begin{equation*}\n",
    "p(Fair | Flips)   = \\frac{p(Flips | Fair) * p(Fair)}{p(Flips)}\n",
    "\\end{equation*}\n",
    "\n",
    "\\begin{equation*}\n",
    "p(Unfair | Flips) = \\frac{p(Flips | Unfair) * p(Unfair)}{p(Flips)}\n",
    "\\end{equation*}\n",
    "\n",
    "We know that:\n",
    "\n",
    "$$ p(Fair) + p(Unfair) = 1 $$\n",
    "\n",
    "We'll keep track of the probabilities in a list:  \n",
    "$$ [p(Fair), p(Unfair)] $$ \n",
    "<br>\n",
    "We *could* have done this example by only modeling $ p(Fair) $ or $ p(Unfair) $,\n",
    "but this approach is extensible to problems that have more than just two solutions.  \n",
    "\n",
    "For example, lets say there were three coins:  \n",
    "* C1 p(Heads) = 0.25\n",
    "* C2 p(Heads) = 0.1\n",
    "* C3 p(Heads) = 0.5  \n",
    "\n",
    "And we were to pick one, flip it many times, and based on the outcomes determine the probability that the flips came from each coin.  \n",
    "Would keep probabilities in a list:  \n",
    "$$ [p(C1), p(C2), p(C3)] $$ "
   ]
  },
  {
   "cell_type": "code",
   "execution_count": 1,
   "metadata": {},
   "outputs": [],
   "source": [
    "import numpy as np\n",
    "from scipy import stats\n",
    "import matplotlib.pyplot as plt\n",
    "\n",
    "plt.style.use('ggplot')\n",
    "plt.rcParams.update({'font.size': 16})"
   ]
  },
  {
   "cell_type": "code",
   "execution_count": 2,
   "metadata": {},
   "outputs": [],
   "source": [
    "np.random.seed(37) # try to make it so that we all get the same result\n",
    "\n",
    "# make the coins and select one\n",
    "p_fair = 0.5 # don't change\n",
    "p_not_fair = 0.45 # feel free to change (but don't use 0.5)\n",
    "p = np.random.choice([p_fair, p_not_fair])"
   ]
  },
  {
   "cell_type": "code",
   "execution_count": 3,
   "metadata": {},
   "outputs": [],
   "source": [
    "def indicate_coin_picked(p):\n",
    "    fair = p == 0.5\n",
    "    if fair:\n",
    "        print(\"It's the fair coin (p = 0.5).\")\n",
    "    else:\n",
    "        print(f\"It's the unfair coin (p = {p}).\")"
   ]
  },
  {
   "cell_type": "code",
   "execution_count": 4,
   "metadata": {},
   "outputs": [
    {
     "name": "stdout",
     "output_type": "stream",
     "text": [
      "The coin's probability of heads is 0.45.\n",
      "It's the unfair coin (p = 0.45).\n"
     ]
    }
   ],
   "source": [
    "# which coin did we get?\n",
    "print(f\"The coin's probability of heads is {p}.\")\n",
    "indicate_coin_picked(p)"
   ]
  },
  {
   "cell_type": "markdown",
   "metadata": {},
   "source": [
    "### Can we figure out, from the flips, whether it's a fair coin or not?  And if so, how soon can we know it?"
   ]
  },
  {
   "cell_type": "code",
   "execution_count": 5,
   "metadata": {},
   "outputs": [],
   "source": [
    "# helper function 1\n",
    "\n",
    "def flip_the_coin(p, flips_lst):\n",
    "    '''Flips the coin with probability of success p\n",
    "       and appends to the flips_lst'''\n",
    "    if np.random.random() <= p:\n",
    "        flips_lst.append(1) #heads (success)\n",
    "    else:\n",
    "        flips_lst.append(0) #tails (failure)"
   ]
  },
  {
   "cell_type": "code",
   "execution_count": 6,
   "metadata": {},
   "outputs": [],
   "source": [
    "# test it out - initialize flips_lst\n",
    "flips_lst = []"
   ]
  },
  {
   "cell_type": "code",
   "execution_count": 9,
   "metadata": {},
   "outputs": [
    {
     "name": "stdout",
     "output_type": "stream",
     "text": [
      "[1, 0, 0]\n"
     ]
    }
   ],
   "source": [
    "# do some flips (trials) - keep executing this cell\n",
    "flip_the_coin(p, flips_lst)\n",
    "print(flips_lst)"
   ]
  },
  {
   "cell_type": "code",
   "execution_count": 10,
   "metadata": {},
   "outputs": [],
   "source": [
    "# helper function 2\n",
    "\n",
    "def calculate_likelihood(flips_lst):\n",
    "    '''Likelihood of flips in flips_lst given fair, not fair coin'''\n",
    "    k_successes = sum(flips_lst)\n",
    "    n_trials = len(flips_lst)\n",
    "    likelihood_fair = stats.binom.pmf(k_successes, n_trials, p_fair)\n",
    "    likelihood_not_fair = stats.binom.pmf(k_successes, n_trials, p_not_fair)\n",
    "    return [likelihood_fair, likelihood_not_fair]"
   ]
  },
  {
   "cell_type": "code",
   "execution_count": 11,
   "metadata": {},
   "outputs": [
    {
     "name": "stdout",
     "output_type": "stream",
     "text": [
      "[0.313 0.303]\n",
      "\n",
      "Likelihood fair: 0.313\n",
      "Likelihood not fair: 0.303\n"
     ]
    }
   ],
   "source": [
    "# test it out\n",
    "\n",
    "flips_lst = [0,0,1,0,1,1] # assume these were the flips we got\n",
    "likelihoods = calculate_likelihood(flips_lst)\n",
    "print(np.around(likelihoods,3))\n",
    "print(\"\\nLikelihood fair: {0:0.3f}\".format(likelihoods[0]))\n",
    "print(\"Likelihood not fair: {0:0.3f}\".format(likelihoods[1]))"
   ]
  },
  {
   "cell_type": "code",
   "execution_count": 12,
   "metadata": {},
   "outputs": [],
   "source": [
    "# helper function 3\n",
    "marginal = 1  # placeholder, p(Flips) is same for both fair and unfair (see intro)\n",
    "\n",
    "def calculate_posterior(likelihoods_lst, prior_lst):\n",
    "    '''Calculates the posterior given the likelihoods and prior'''\n",
    "    posterior_unnormalized = []\n",
    "    for likelihood, prior in zip(likelihoods_lst, prior_lst):\n",
    "        posterior_unnormalized.append(likelihood * prior / marginal)\n",
    "    # now need to normalize so that the total probability in posterior is 1\n",
    "    posterior_un_total = sum(posterior_unnormalized)\n",
    "    posterior_lst = []\n",
    "    for posterior in posterior_unnormalized:\n",
    "        posterior_lst.append(posterior/posterior_un_total)\n",
    "    return posterior_lst"
   ]
  },
  {
   "cell_type": "code",
   "execution_count": 13,
   "metadata": {},
   "outputs": [
    {
     "name": "stdout",
     "output_type": "stream",
     "text": [
      "[0.48073959938366717, 0.5192604006163328]\n",
      "\n",
      "Probability fair: 0.481\n",
      "Probability not fair: 0.519\n"
     ]
    }
   ],
   "source": [
    "# test it out\n",
    "\n",
    "prior_lst = [0.5, 0.5]\n",
    "likelihoods_lst = [0.312, 0.337]\n",
    "\n",
    "posterior = calculate_posterior(likelihoods_lst, prior_lst)\n",
    "print(posterior)\n",
    "print(\"\\nProbability fair: {0:0.3f}\".format(posterior[0]))\n",
    "print(\"Probability not fair: {0:0.3f}\".format(posterior[1]))"
   ]
  },
  {
   "cell_type": "markdown",
   "metadata": {},
   "source": [
    "### Put it all together - step through a simulation"
   ]
  },
  {
   "cell_type": "code",
   "execution_count": 14,
   "metadata": {},
   "outputs": [],
   "source": [
    "# execute this cell only once (or before starting a new simulation)\n",
    "np.random.seed(3)\n",
    "\n",
    "# define the prior [our probability that we have the fair coin,   \n",
    "# probability that we don't have the fair coin]\n",
    "priors = [0.5, 0.5]\n",
    "\n",
    "# initialize the flips list and the iteration number\n",
    "flips_lst = []\n",
    "i = 0"
   ]
  },
  {
   "cell_type": "code",
   "execution_count": 21,
   "metadata": {},
   "outputs": [
    {
     "name": "stdout",
     "output_type": "stream",
     "text": [
      "It's the unfair coin (p = 0.45).\n",
      "\n",
      "Flip 6\n",
      "Here are the flips:\n",
      "[0, 0, 1, 0, 0, 0]\n",
      "\n",
      "Priors\n",
      "Fair 0.304, Not fair 0.696\n",
      "\n",
      "Likelihoods:\n",
      "Fair 0.094, Not fair 0.136\n",
      "\n",
      "Posteriors:\n",
      "Fair 0.232, Not fair 0.768\n",
      "\n"
     ]
    }
   ],
   "source": [
    "# Simulate - keep executing this cell to add flips\n",
    "\n",
    "indicate_coin_picked(p)\n",
    "\n",
    "# iteration number\n",
    "i += 1\n",
    "print(f\"\\nFlip {i}\")\n",
    "\n",
    "# execute this cell as many times as desired\n",
    "print(\"Here are the flips:\")\n",
    "flip_the_coin(p, flips_lst)\n",
    "print(flips_lst)\n",
    "\n",
    "print(\"\\nPriors\")\n",
    "print(\"Fair {0:0.3f}, Not fair {1:0.3f}\".format(priors[0], priors[1]))\n",
    "\n",
    "print(\"\\nLikelihoods:\")\n",
    "likelihoods = calculate_likelihood(flips_lst)\n",
    "print(\"Fair {0:0.3f}, Not fair {1:0.3f}\".format(likelihoods[0], likelihoods[1]))\n",
    "\n",
    "print(\"\\nPosteriors:\")\n",
    "posteriors = calculate_posterior(likelihoods, priors)\n",
    "print(\"Fair {0:0.3f}, Not fair {1:0.3f}\\n\".format(posteriors[0], posteriors[1]))\n",
    "\n",
    "priors = posteriors"
   ]
  },
  {
   "cell_type": "code",
   "execution_count": 22,
   "metadata": {},
   "outputs": [],
   "source": [
    "# helper function - plot the probability of the fair coin with time\n",
    "\n",
    "def plot_pfair_prob(num_flips, p_fair_arr):\n",
    "    fig, ax = plt.subplots(figsize=(12,4))\n",
    "    flip_num = np.arange(1, num_flips + 1)\n",
    "    ax.plot(flip_num, p_fair_arr)\n",
    "    ax.set_ylim([-0.1, 1.1])\n",
    "    ax.set_title('Probability of fair coin as a function of flip number')\n",
    "    ax.set_ylabel('Probability p_fair')\n",
    "    ax.set_xlabel('Flip number');\n",
    "    plt.show()"
   ]
  },
  {
   "cell_type": "code",
   "execution_count": 23,
   "metadata": {},
   "outputs": [
    {
     "name": "stdout",
     "output_type": "stream",
     "text": [
      "The actual probability is 0.45.\n",
      "It's the unfair coin (p = 0.45).\n",
      "\n",
      "Posteriors after 5000 trials\n",
      "Probability Fair 1.000, Not fair 0.000\n"
     ]
    },
    {
     "data": {
      "image/png": "[encoded data removed]",
      "text/plain": [
       "<Figure size 864x288 with 1 Axes>"
      ]
     },
     "metadata": {},
     "output_type": "display_data"
    }
   ],
   "source": [
    "# lets do a simulation\n",
    "np.random.seed(2) # try 2 and 3\n",
    "\n",
    "print(f\"The actual probability is {p}.\")\n",
    "indicate_coin_picked(p)\n",
    "\n",
    "# initialize\n",
    "priors = [0.5, 0.5]\n",
    "flips_lst = []\n",
    "\n",
    "# set the number of flips\n",
    "num_flips = 5000\n",
    "p_fair_arr = np.zeros(num_flips)\n",
    "\n",
    "for i in range(num_flips):\n",
    "    flip_the_coin(p, flips_lst)\n",
    "    likelihoods = calculate_likelihood(flips_lst)\n",
    "    posteriors = calculate_posterior(likelihoods, priors)\n",
    "    p_fair_arr[i] = posteriors[0]\n",
    "    priors = posteriors\n",
    "\n",
    "print(\"\\nPosteriors after {0} trials\".format(num_flips))\n",
    "print(\"Probability Fair {0:0.3f}, Not fair {1:0.3f}\".format(posteriors[0], posteriors[1]))\n",
    "\n",
    "plot_pfair_prob(num_flips, p_fair_arr)"
   ]
  },
  {
   "cell_type": "markdown",
   "metadata": {},
   "source": [
    "### Seems very sensitive to updates.  Let's add a tuning dial (learning rate) that limits how much each update can affect the posteriors."
   ]
  },
  {
   "cell_type": "code",
   "execution_count": 24,
   "metadata": {},
   "outputs": [],
   "source": [
    "marginal = 1  # placeholder, p(Flips) is same for both fair and unfair (see intro)\n",
    "\n",
    "def normalize(lst):\n",
    "    total = sum(lst)\n",
    "    return [val/total for val in lst]\n",
    "\n",
    "def calculate_posterior_with_learning_rate(likelihoods_lst, prior_lst, learning_rate):\n",
    "    '''Calculates the posterior given the likelihoods and prior'''\n",
    "    posterior_unnormalized = []\n",
    "    for likelihood, prior in zip(likelihoods_lst, prior_lst):\n",
    "        posterior_unnormalized.append(likelihood * prior / marginal)\n",
    "    \n",
    "    # now need to normalize so that the total probability in posterior is 1\n",
    "    posterior_lst = normalize(posterior_unnormalized)\n",
    "    \n",
    "    # now weight returned posterior by new posterior and old posterior\n",
    "    posterior_weighted_unnorm = []\n",
    "    for posterior, prior in zip(posterior_lst, prior_lst):\n",
    "        posterior_weighted_unnorm.append(learning_rate * posterior + \n",
    "                                         (1 - learning_rate) * prior)\n",
    "    posterior_weighted = normalize(posterior_weighted_unnorm)\n",
    "    return posterior_weighted"
   ]
  },
  {
   "cell_type": "code",
   "execution_count": 29,
   "metadata": {},
   "outputs": [
    {
     "name": "stdout",
     "output_type": "stream",
     "text": [
      "The actual probability is 0.45.\n",
      "It's the unfair coin (p = 0.45).\n",
      "\n",
      "Posteriors after 5000 trials\n",
      "Probability Fair 0.000, Not fair 1.000\n"
     ]
    },
    {
     "data": {
      "image/png": "[encoded data removed]",
      "text/plain": [
       "<Figure size 864x288 with 1 Axes>"
      ]
     },
     "metadata": {},
     "output_type": "display_data"
    }
   ],
   "source": [
    "# lets do a simulation\n",
    "np.random.seed(2) # try 3 and 2\n",
    "\n",
    "print(f\"The actual probability is {p}.\")\n",
    "indicate_coin_picked(p)\n",
    "\n",
    "# initialize\n",
    "priors = [0.5, 0.5]\n",
    "learning_rate = 0.02\n",
    "flips_lst = []\n",
    "\n",
    "# set the number of flips\n",
    "num_flips = 5000\n",
    "p_fair_arr = np.zeros(num_flips)\n",
    "\n",
    "for i in range(num_flips):\n",
    "    flip_the_coin(p, flips_lst)\n",
    "    likelihoods = calculate_likelihood(flips_lst)\n",
    "    posteriors = calculate_posterior_with_learning_rate(likelihoods, priors, learning_rate)\n",
    "    p_fair_arr[i] = posteriors[0]\n",
    "    priors = posteriors\n",
    "\n",
    "print(\"\\nPosteriors after {0} trials\".format(num_flips))\n",
    "print(\"Probability Fair {0:0.3f}, Not fair {1:0.3f}\".format(posteriors[0], posteriors[1]))\n",
    "\n",
    "plot_pfair_prob(num_flips, p_fair_arr)"
   ]
  },
  {
   "cell_type": "code",
   "execution_count": null,
   "metadata": {},
   "outputs": [],
   "source": []
  }
 ],
 "metadata": {
  "kernelspec": {
   "display_name": "Python 3",
   "language": "python",
   "name": "python3"
  },
  "language_info": {
   "codemirror_mode": {
    "name": "ipython",
    "version": 3
   },
   "file_extension": ".py",
   "mimetype": "text/x-python",
   "name": "python",
   "nbconvert_exporter": "python",
   "pygments_lexer": "ipython3",
   "version": "3.7.3"
  }
 },
 "nbformat": 4,
 "nbformat_minor": 2
}
