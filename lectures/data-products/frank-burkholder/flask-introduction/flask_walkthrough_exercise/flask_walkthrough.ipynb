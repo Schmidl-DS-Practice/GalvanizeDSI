{
 "cells": [
  {
   "cell_type": "markdown",
   "metadata": {},
   "source": [
    "Data Products (a.k.a. deploying an app)\n",
    "---------------------------------------\n",
    "\n",
    "This self-guided **Python 3** notebook will you take you from displaying a local html document web to deploying a web-app locally that uses a pre-trained machine learning model to predict on the class of new data and to display it.  At this point you'll be ready for the individual assignment.\n",
    "\n",
    "For the pair this afternoon you'll be attempting to deploy a nice-looking web page on AWS.  But first - get comfortable with Flask this morning and occasional tweaking of HTML.  You'll need both skills this afternoon.\n",
    "\n",
    "You'll be bouncing back-and-forth between this notebook and the command line a lot.  The `%%writefile` command in many of the cells writes the python or HTML file that need to be opened or executed from the command line.\n",
    "\n",
    "_So here we go:_\n",
    "\n",
    "Web pages are written in HTML (HyperText Markup Language) and this HTML is rendered in a browser.  You'll be seeing a lot of HTML in this notebook.  Go to this [link](http://www.w3schools.com/html/) at w3schools.com if the brief explanation of the HTML in the comments isn't sufficient.  \n",
    "\n",
    "Execute the cell below to create the `example_html_only.html` file then go to terminal to render it in your browser."
   ]
  },
  {
   "cell_type": "code",
   "execution_count": null,
   "metadata": {},
   "outputs": [],
   "source": [
    "%%writefile example_html_only.html\n",
    "\n",
    "<!DOCTYPE html>\n",
    "<html>\n",
    "    <head>\n",
    "        <meta charset=\"utf-8\">\n",
    "        <title>Page Title</title>\n",
    "    </head>\n",
    "    <body>\n",
    "    <!-- page content below -->\n",
    "        <h1>My Page</h1>\n",
    "        <p>\n",
    "            All the things I want to say.  \n",
    "        </p>\n",
    "        <p style=\"color: purple; text-align: right;\">\n",
    "            My right-aligned purple text.\n",
    "        </p>\n",
    "        <p style=\"font-family: courier; color: blue; text-align: center; font-size:150%;\">\n",
    "            <b>My bold blue centered text in Courier font at 1.5x size.</b>\n",
    "        </p>\n",
    "        <h2>This was just HTML.  \n",
    "    </body>\n",
    "</html>"
   ]
  },
  {
   "cell_type": "markdown",
   "metadata": {},
   "source": [
    "#### Now go to terminal and open the html file with your browser of choice.\n",
    "For instance, on a mac:  \n",
    "`$ open -a \"Google Chrome\" example_html_only.html`  \n",
    "on ubuntu linux:  \n",
    "`$ firefox example_html_only.html`"
   ]
  },
  {
   "cell_type": "markdown",
   "metadata": {},
   "source": [
    "HTML is great but we don't have 6 months to teach Web Development!\n",
    "------------------------------------------------------------------\n",
    "\n",
    "So we're going to leverage our Python skills and use the Python module `Flask` to help us write and organize HTML.\n",
    "\n",
    "Here's a simple example.  **Please read through the code and the explanatory comments thoroughly.**"
   ]
  },
  {
   "cell_type": "code",
   "execution_count": null,
   "metadata": {},
   "outputs": [],
   "source": [
    "%%writefile flask_ex1.py\n",
    "\n",
    "# import Flask\n",
    "from flask import Flask\n",
    "\n",
    "# initialize the Flask app, note that all routing blocks use @app\n",
    "app = Flask(__name__)  # instantiate a flask app object\n",
    "\n",
    "# routing blocks - note there is only one in this case - @app.route('/') \n",
    "\n",
    "# home page - the first place your app will go\n",
    "@app.route('/', methods = ['GET', 'POST'])  # GET is the default, more about GET and POST below\n",
    "# the function below will be executed at the host and port followed by '/' \n",
    "# the name of the function that will be executed at '/'. Its name is arbitrary.\n",
    "def index():\n",
    "    return 'Hello!'\n",
    "\n",
    "# no more routing blocks\n",
    "\n",
    "if __name__ == '__main__':\n",
    "    app.run(host='0.0.0.0', port=8080, debug=True)\n",
    "    # the combination of host and port are where we look for it in our browser\n",
    "    # e.g. http://0.0.0.0:8080/\n",
    "    # setting debug=True to see error messages - wouldn't do this on a final deployed app"
   ]
  },
  {
   "cell_type": "markdown",
   "metadata": {},
   "source": [
    "#### Now go to the terminal and type:\n",
    "`$ python flask_ex1.py`  \n",
    "\n",
    "And navigate to the specified address in the browser.  When you are done, hit Ctrl-C to stop the app and come back to this notebook.\n",
    "\n",
    "Congratulations you just made your first app."
   ]
  },
  {
   "cell_type": "markdown",
   "metadata": {},
   "source": [
    "### Note:  the route - @app.route('/') - has two methods: GET and POST\n",
    "\n",
    "Understanding these two terms requires putting in context how the browser (the _client_) is interacting with information stored on your local computer (the _server_). \n",
    "\n",
    "**GET** is used by the browser to get information from the server.  In the example above, the browser asked the server to get the information returned by the `index` function.  Every routing block has a GET method (it's the default).\n",
    "\n",
    "**POST** tells the server that the browser wants to send information to it.  HTML _forms_ usually transmit data this way.\n",
    "\n",
    "GET requests will show information in the browser address bar while POST won't.  Confidential information should be sent with POST."
   ]
  },
  {
   "cell_type": "markdown",
   "metadata": {},
   "source": [
    "### Let's make an app that has two pages (from two routing blocks) that we can navigate using html *forms*. "
   ]
  },
  {
   "cell_type": "markdown",
   "metadata": {},
   "source": [
    "Note that both routing blocks return strings containing HTML.  The *action* in each form navigates between the two blocks."
   ]
  },
  {
   "cell_type": "code",
   "execution_count": null,
   "metadata": {},
   "outputs": [],
   "source": [
    "%%writefile flask_ex2.py\n",
    "\n",
    "from flask import Flask\n",
    "app = Flask(__name__)\n",
    "\n",
    "# first routing block\n",
    "@app.route('/') # if no methods specified, default is 'GET'\n",
    "def index():\n",
    "    display_str = 'Hello!'\n",
    "    # code below makes a button to go to the '/rainbow' block\n",
    "    go_to_rainbow_html = '''\n",
    "        <form action=\"/rainbow\" >\n",
    "            <input type=\"submit\" value = \"Go to rainbow\"/>\n",
    "        </form>\n",
    "    '''\n",
    "    # html that gets returned\n",
    "    return display_str + go_to_rainbow_html\n",
    "\n",
    "\n",
    "# second routing block\n",
    "@app.route('/rainbow') # if no methods specified, default is 'GET'\n",
    "def rainbow():\n",
    "    colors = ['red', 'orange', 'yellow', 'green', 'blue', 'purple']\n",
    "    color_divs = []\n",
    "    for i in range(20):\n",
    "        color = colors[i % len(colors)]\n",
    "        # making html string that makes colors\n",
    "        div = '''<div style=\"background-color: {0};\n",
    "                             color: white;\n",
    "                             text-align: center;\">\n",
    "                     {1}\n",
    "                 </div>'''.format(color, '*' * 100)\n",
    "        color_divs.append(div)\n",
    "    \n",
    "    # make html that gives us a button to go back to the home page\n",
    "    go_to_home_html = '''\n",
    "        <form action=\"/\" >\n",
    "            <input type=\"submit\" value = \"Go home\"/>\n",
    "        </form>\n",
    "    '''\n",
    "    # combine them for final html\n",
    "    return '''\n",
    "            <!DOCTYPE html>\n",
    "            <html>\n",
    "                <head>\n",
    "                    <meta charset=\"utf-8\">\n",
    "                    <title>Rainbow</title>\n",
    "                </head>\n",
    "                <body>{0}</body>\n",
    "            </html>\n",
    "            '''.format('\\n'.join(color_divs)) + go_to_home_html\n",
    "\n",
    "if __name__ == '__main__':\n",
    "    app.run(host='0.0.0.0', port=8080, debug=True)"
   ]
  },
  {
   "cell_type": "markdown",
   "metadata": {},
   "source": [
    "#### Now go to the terminal and type:\n",
    "`$ python flask_ex2.py`  \n",
    "\n",
    "And navigate to the specified address in the browser.  When you are done, hit Ctrl-C to stop the app and come back to this notebook."
   ]
  },
  {
   "cell_type": "markdown",
   "metadata": {},
   "source": [
    "### The example above used html forms to jump back and forth between pages.\n",
    "\n",
    "Let's use forms again and **send data** between the pages, too."
   ]
  },
  {
   "cell_type": "code",
   "execution_count": null,
   "metadata": {},
   "outputs": [],
   "source": [
    "%%writefile flask_ex3.py\n",
    "\n",
    "from collections import Counter\n",
    "from flask import Flask, request\n",
    "app = Flask(__name__)\n",
    "\n",
    "# formatting dictionary keys and values to be displayed in html\n",
    "def dict_to_html(d):\n",
    "    return '<br>'.join('{0}: {1}'.format(k, d[k]) for k in sorted(d))\n",
    "\n",
    "\n",
    "# Form page to submit text\n",
    "@app.route('/')\n",
    "def submission_page():\n",
    "    # in this form, method = 'POST' means that data entered into\n",
    "    # the 'user_input' variable will be sent to the /word_counter routing\n",
    "    # block when the 'Enter text' submit button is pressed\n",
    "    return '''\n",
    "        <form action=\"/word_counter\" method='POST' >\n",
    "            <input type=\"text\" name=\"user_input\" />\n",
    "            <input type=\"submit\" value = 'Enter text'/>\n",
    "        </form>\n",
    "        '''\n",
    "\n",
    "\n",
    "# My word counter app\n",
    "# this routing block accepts data in variable 'user_input' from the form\n",
    "# and then processes it on the server and returns word counts to the browser\n",
    "@app.route('/word_counter', methods=['GET', 'POST'])\n",
    "def word_counter():\n",
    "    text = str(request.form['user_input']) #gets the value entered in the input type=\"text\", name=\"user_input\"\n",
    "    word_counts = Counter(text.lower().split())\n",
    "    \n",
    "    # formatted output string\n",
    "    page = 'There are {0} words.<br><br>Individual word counts:<br> {1}'\n",
    "    \n",
    "    # make html that gives us a button to go back to the home page\n",
    "    go_to_home_html = '''\n",
    "        <form action=\"/\" >\n",
    "            <input type=\"submit\" value = \"Enter more text\"/>\n",
    "        </form>\n",
    "    '''\n",
    "    \n",
    "    return page.format(len(word_counts), dict_to_html(word_counts)) + go_to_home_html\n",
    "\n",
    "\n",
    "if __name__ == '__main__':\n",
    "    app.run(host='0.0.0.0', port=8080, debug=True)"
   ]
  },
  {
   "cell_type": "markdown",
   "metadata": {},
   "source": [
    "#### Now go to the terminal and type:\n",
    "`$ python flask_ex3.py`  \n",
    "\n",
    "And navigate to the specified address in the browser.  When you are done, hit Ctrl-C to stop the app and come back to this notebook."
   ]
  },
  {
   "cell_type": "markdown",
   "metadata": {
    "collapsed": true
   },
   "source": [
    "###  Let's make a plot with matplotlib and display it."
   ]
  },
  {
   "cell_type": "code",
   "execution_count": null,
   "metadata": {},
   "outputs": [],
   "source": [
    "%%writefile flask_ex4.py\n",
    "\n",
    "from random import random\n",
    "import matplotlib\n",
    "from matplotlib.figure import Figure\n",
    "matplotlib.use('Agg')\n",
    "from io import BytesIO\n",
    "from flask import Flask\n",
    "app = Flask(__name__)\n",
    "\n",
    "@app.route('/')\n",
    "def index():\n",
    "    # img in the html specifies the presence of an image\n",
    "    # however, the src of the image is a routing block instead of\n",
    "    # a .jpg or .png\n",
    "    return '''\n",
    "        <h2>Here's my plot!</h2>\n",
    "        <img src='/plot.png'>\n",
    "        '''\n",
    "\n",
    "@app.route('/plot.png')\n",
    "def get_graph():\n",
    "    fig = Figure()\n",
    "    ax = fig.subplots()\n",
    "    n = 10\n",
    "    ax.plot(range(n), [random() for i in range(n)])\n",
    "    image = BytesIO()\n",
    "    fig.savefig(image)  #the plot is saved\n",
    "    return image.getvalue(), 200, {'Content-Type': 'image/png'}\n",
    "\n",
    "\n",
    "if __name__ == '__main__':\n",
    "    app.run(host='0.0.0.0', port=8080, debug=True)"
   ]
  },
  {
   "cell_type": "markdown",
   "metadata": {},
   "source": [
    "#### Now go to the terminal and type:\n",
    "`$ python flask_ex4.py`  "
   ]
  },
  {
   "cell_type": "markdown",
   "metadata": {},
   "source": [
    "### So you are probably getting tired of looking at HTML in your Python code.\n",
    "\n",
    "You can create HTML templates and render them using Jinja.  Jinja (Jinja2) creates HTML files that optionally containing user values.  [Here](https://realpython.com/blog/python/primer-on-jinja-templating/) is a nice description of Jinja templates.\n",
    "**The HTML template needs to be in a `/templates` folder in the same directory as the flask app.**  "
   ]
  },
  {
   "cell_type": "markdown",
   "metadata": {},
   "source": [
    "Normally you will find example templates similar to what you want, place them in the templates folder, and then modify them to display what you want.  In this case, the \"table.html\" file is created by the cell below."
   ]
  },
  {
   "cell_type": "code",
   "execution_count": null,
   "metadata": {},
   "outputs": [],
   "source": [
    "%%writefile templates/table.html\n",
    "\n",
    "<html>\n",
    "<head>\n",
    "<!-- CSS style -->\n",
    "<style>\n",
    "table, th, td {\n",
    "    border: 1px solid black;\n",
    "    border-collapse: collapse;\n",
    "}\n",
    "th, td {\n",
    "    padding: 15px;\n",
    "}\n",
    "table.center {\n",
    "    margin-left:auto; \n",
    "    margin-right:auto;\n",
    "}\n",
    "</style>\n",
    "</head>\n",
    "<body>\n",
    "<table class=\"center\">\n",
    "  <thead>\n",
    "    <th>x</th>\n",
    "    <th>y</th>\n",
    "  </thead>\n",
    "  <tbody>\n",
    "    <!-- Here is where the data passed into the template gets inserted -->\n",
    "    {% for x, y in data %}\n",
    "      <tr>\n",
    "        <td>{{ x }}</td>\n",
    "        <td>{{ y }}</td>\n",
    "      </tr>\n",
    "    {% endfor %}\n",
    "  </tbody>\n",
    "</table>"
   ]
  },
  {
   "cell_type": "markdown",
   "metadata": {},
   "source": [
    "#### Now the flask app below renders this html template, and passes data to it to be displayed."
   ]
  },
  {
   "cell_type": "code",
   "execution_count": null,
   "metadata": {},
   "outputs": [],
   "source": [
    "%%writefile flask_ex5.py\n",
    "\n",
    "from flask import Flask, render_template\n",
    "from random import random\n",
    "app = Flask(__name__)\n",
    "\n",
    "\n",
    "@app.route('/')\n",
    "def index():\n",
    "    n = 10\n",
    "    x = range(n)\n",
    "    y = [round(random(),3) for i in x]\n",
    "    # table.html is an existing file in the templates folder\n",
    "    # isn't this nice, no html here!\n",
    "    return render_template('table.html', data=zip(x, y))  # using Jinja here, the render_template call\n",
    "\n",
    "if __name__ == '__main__':\n",
    "    app.run(host='0.0.0.0', port=8080, debug=True)"
   ]
  },
  {
   "cell_type": "markdown",
   "metadata": {},
   "source": [
    "#### Now go to the terminal and type:\n",
    "`$ python flask_ex5.py`  "
   ]
  },
  {
   "cell_type": "markdown",
   "metadata": {
    "collapsed": true
   },
   "source": [
    "### Now let's deploy a trained machine learning model in an app.\n",
    "\n",
    "In this case we will:  \n",
    "1. Train the model in a python file and `pickle` the fitted model.\n",
    "2. Put the pickled model on the server with the web app.\n",
    "3. In the flask python file, unpickle the model and use it to predict.\n",
    "\n",
    "See the example below."
   ]
  },
  {
   "cell_type": "code",
   "execution_count": null,
   "metadata": {},
   "outputs": [],
   "source": [
    "# Here we train and pickle a logistic regression model on the iris dataset\n",
    "\n",
    "# Based on:\n",
    "# http://scikit-learn.org/stable/auto_examples/linear_model/plot_iris_logistic.html\n",
    "\n",
    "import numpy as np\n",
    "from sklearn.linear_model import LogisticRegression\n",
    "from sklearn import datasets\n",
    "import pickle\n",
    "\n",
    "# import data\n",
    "iris = datasets.load_iris()\n",
    "X = iris.data[:, :2]  # we only take the first two features.\n",
    "Y = iris.target\n",
    "\n",
    "# declare model\n",
    "logreg = LogisticRegression(C=1e5, solver='lbfgs', multi_class='multinomial')\n",
    "\n",
    "# fit the data\n",
    "logreg.fit(X, Y)\n",
    "\n",
    "# pickle the data (wouldn't normally do this but want to plot prediction vs the train data)\n",
    "trainXY = np.hstack((X,Y.reshape(-1,1)))\n",
    "with open('data/trainXY.pkl', 'wb') as f:\n",
    "    pickle.dump(trainXY, f)\n",
    "\n",
    "# pickle the model\n",
    "with open('data/model_logreg.pkl', 'wb') as f:\n",
    "    pickle.dump(logreg, f)"
   ]
  },
  {
   "cell_type": "markdown",
   "metadata": {},
   "source": [
    "### Now that the model has been pickled, let's use it in an app to predict on new data:"
   ]
  },
  {
   "cell_type": "code",
   "execution_count": null,
   "metadata": {},
   "outputs": [],
   "source": [
    "%%writefile flask_ex6.py\n",
    "\n",
    "from flask import Flask, request\n",
    "import pickle\n",
    "import numpy as np\n",
    "import matplotlib.pyplot as plt\n",
    "from io import BytesIO\n",
    "\n",
    "# Initialize app\n",
    "app = Flask(__name__)\n",
    "\n",
    "# load the pickled model\n",
    "with open('data/model_logreg.pkl', 'rb') as f:\n",
    "    model = pickle.load(f)\n",
    "\n",
    "# load the pickled training data to display with prediction\n",
    "with open('data/trainXY.pkl', 'rb') as f:\n",
    "    trainXY = pickle.load(f)\n",
    "\n",
    "trainX = trainXY[:,:2]\n",
    "trainY = trainXY[:,2]\n",
    "\n",
    "# Home page with form on it to submit new data\n",
    "@app.route('/')\n",
    "def get_new_data():\n",
    "    return '''\n",
    "        <form action=\"/predict\" method='POST'>\n",
    "          Sepal length (4.0 - 9.0):<br>\n",
    "          <input type=\"text\" name=\"length\"> \n",
    "          <br>\n",
    "          Sepal width (1.0 - 5.0):<br>\n",
    "          <input type=\"text\" name=\"width\"> \n",
    "          <br><br>\n",
    "          <input type=\"submit\" value=\"Submit for class prediction\">\n",
    "        </form>\n",
    "        '''\n",
    "\n",
    "@app.route('/predict', methods = [\"GET\", \"POST\"])\n",
    "def predict():\n",
    "    # request the text from the form \n",
    "    length = float(request.form['length'])\n",
    "    width = float(request.form['width'])\n",
    "    X_n = np.array([[length, width]])\n",
    "    \n",
    "    # predict on the new data\n",
    "    Y_pred = model.predict(X_n)\n",
    "\n",
    "    # for plotting \n",
    "    X_0 = trainX[trainY == 0] # class 0\n",
    "    X_1 = trainX[trainY == 1] # class 1\n",
    "    X_2 = trainX[trainY == 2] # class 2\n",
    "    \n",
    "    # color-coding prediction \n",
    "    if Y_pred[0] == 0:\n",
    "        cp = 'b'\n",
    "    elif Y_pred[0] == 1:\n",
    "        cp = 'r'\n",
    "    else:\n",
    "        cp = 'g'\n",
    "\n",
    "    if plt:\n",
    "        plt.clf() # clears the figure when browser back arrow used to enter new data\n",
    "\n",
    "    plt.scatter(X_0[:, 0], X_0[:, 1], c='b', edgecolors='k', label = 'class 0')\n",
    "    plt.scatter(X_1[:, 0], X_1[:, 1], c='r', edgecolors='k', label = 'class 1')\n",
    "    plt.scatter(X_2[:, 0], X_2[:, 1], c='g', edgecolors='k', label = 'class 2')\n",
    "    plt.scatter(X_n[:, 0], X_n[:, 1], c=cp, edgecolors='k', marker = 'd', \\\n",
    "        s=100, label = 'prediction')\n",
    "    plt.xlabel('Sepal length')\n",
    "    plt.ylabel('Sepal width')\n",
    "    plt.title('Prediction plotted with training data')\n",
    "    plt.legend()\n",
    "        \n",
    "    image = BytesIO()\n",
    "    plt.savefig(image)\n",
    "    out = image.getvalue(), 200, {'Content-Type': 'image/png'}\n",
    "    return out\n",
    "\n",
    "if __name__ == '__main__':\n",
    "    app.run(host='0.0.0.0', port=8080, debug=True)"
   ]
  },
  {
   "cell_type": "markdown",
   "metadata": {},
   "source": [
    "#### Now go to the terminal and type:\n",
    "`$ python flask_ex6.py`  "
   ]
  },
  {
   "cell_type": "markdown",
   "metadata": {},
   "source": [
    "### You are now ready for the individual assignment!  Go to it!"
   ]
  },
  {
   "cell_type": "markdown",
   "metadata": {},
   "source": [
    "The individual assignment asks you to use html templates for the index, predict and submit pages.  The `table.html` in this notebook is one example.  If you get stuck making these templates, say something and the instructor will release them.  They are nothing fancy."
   ]
  },
  {
   "cell_type": "code",
   "execution_count": null,
   "metadata": {},
   "outputs": [],
   "source": []
  }
 ],
 "metadata": {
  "anaconda-cloud": {},
  "kernelspec": {
   "display_name": "Python 3",
   "language": "python",
   "name": "python3"
  },
  "language_info": {
   "codemirror_mode": {
    "name": "ipython",
    "version": 3
   },
   "file_extension": ".py",
   "mimetype": "text/x-python",
   "name": "python",
   "nbconvert_exporter": "python",
   "pygments_lexer": "ipython3",
   "version": "3.7.3"
  }
 },
 "nbformat": 4,
 "nbformat_minor": 1
}
