{
 "cells": [
  {
   "cell_type": "markdown",
   "metadata": {},
   "source": [
    "## Reinforcement Learning\n",
    "F. Burkholder 11/06/18\n",
    "\n",
    "Notebook features material from [Adventures in Machine Learning](http://adventuresinmachinelearning.com/reinforcement-learning-tutorial-python-keras/), [Wikipedia](https://en.wikipedia.org/wiki/Reinforcement_learning), and [Towards Data Science.](https://towardsdatascience.com/applications-of-reinforcement-learning-in-real-world-1a94955bcd12)"
   ]
  },
  {
   "cell_type": "markdown",
   "metadata": {},
   "source": [
    "Reinforcement learning can be considered a third type of machine learning:  \n",
    "* Supervised learning: From features predict a target.\n",
    "* Unsupervised learning: Find structure in the data.\n",
    "* Reinforcement learning: Let an **agent** interact with an **environment** and use feedback from the environment to train its behavior.  Some call this semi-supervised.  \n",
    "\n",
    "Reinforcement learning (RL) hasn't always been assisted by deep learning (neural networks).  But a fundamental challenge of RL has been how to represent data.  Deep learning is very good at engineering features to represent data.  \n",
    "\n",
    "A more exact definition of RL:  \n",
    "\n",
    "In RL an **agent** is placed in an **environment** where it receives **rewards** for its **actions** depending what **state** the **agent** and **environment** are in.  \n",
    "\n",
    "For an example, watch this [YouTube video](https://www.youtube.com/watch?v=XiigTGKZfks) of the classic [control theory pole balancing problem.](https://pdfs.semanticscholar.org/3dd6/7d8565480ddb5f3c0b4ea6be7058e77b4172.pdf)"
   ]
  },
  {
   "cell_type": "markdown",
   "metadata": {},
   "source": [
    "In the cart pole video...  \n",
    "<br>\n",
    "What is the **agent**?\n",
    "<details><summary>\n",
    "solution…\n",
    "</summary>\n",
    "The cart\n",
    "</details>  \n",
    "What is the **environment**?  \n",
    "<details><summary>\n",
    "solution…\n",
    "</summary>\n",
    "The track constraining the cart's motion, gravity.\n",
    "</details>  \n",
    "What **actions** can the agent take?  \n",
    "<details><summary>\n",
    "solution…\n",
    "</summary>\n",
    "The cart can move left or right.\n",
    "</details>  \n",
    "What is the **reward**?  \n",
    "<details><summary>\n",
    "solution…\n",
    "</summary>\n",
    "Some value (+1, +10?!?) associated with keeping the pole upright. \n",
    "</details> \n",
    "<br>\n",
    "What is the **state**?  \n",
    "<details><summary>\n",
    "solution…\n",
    "</summary>\n",
    "The position of the cart on the track.  \n",
    "The linear velocity of the cart.  \n",
    "The angle of the pole.  \n",
    "The angular velocity of the pole.\n",
    "</details>   \n",
    "Would you describe this as a deterministic approach?  Or was it more trial and error?    \n",
    "<details><summary>\n",
    "solution…\n",
    "</summary>\n",
    "Trial and error.  Episodes were spent **exploring** the effect of taking certain **actions** at certain **states** in the **environment**, and as the **agent** associated **rewards** with certain **actions** at certain **states** it **exploited** this knowledge to keep the pole upright to **maximize its reward.** \n",
    "</details> "
   ]
  },
  {
   "cell_type": "markdown",
   "metadata": {},
   "source": [
    "Likely you've heard about RL before, but in the context of learning to play games:  \n",
    "[Playing Atari with Deep Reinforcement Learning](https://www.cs.toronto.edu/~vmnih/docs/dqn.pdf)  \n",
    "[AlphaGo vs Lee Seedol in Go](https://www.youtube.com/watch?v=rOL6QJdAlm8) (not RL at the time)  \n",
    "[AlphaGo Zero (RL!) destroys AlphaGo](https://deepmind.com/blog/alphago-zero-learning-scratch/)  \n",
    "\n",
    "But don't think RL is just limited to games.  As Koray Kavukcuoglu, the director of DeepMind, said at a conference:  \n",
    "\n",
    "  \"If one of the goals that we work for here is AI then it[RL] is at the  \n",
    "   core of that. Reinforcement Learning is a very general framework  \n",
    "   for learning sequential decision making tasks. And Deep Learning,  \n",
    "   on the other hand, is of course the best set of algorithms we have  \n",
    "   to learn representations. And combinations of these two different  \n",
    "   models is the best answer so far we have in terms of learning very  \n",
    "   good state representations of very challenging tasks that are not  \n",
    "   just for solving toy domains but actually to solve challenging real  \n",
    "   world problems.\"  \n",
    "\n",
    "Current applications for RL:  \n",
    "* Traffic light control\n",
    "* Robotics\n",
    "* Web system configuration\n",
    "* Bidding and advertising\n"
   ]
  },
  {
   "cell_type": "markdown",
   "metadata": {},
   "source": [
    "Diagram of relationship between agent, actions, environment, reward, and state in RL.  \n",
    "<img src=\"images/RL_Diagram.png\" width=\"400\">"
   ]
  },
  {
   "cell_type": "markdown",
   "metadata": {},
   "source": [
    "## **If you aren't already running this notebook in your tensorflow container, I'd recommend changing that**"
   ]
  },
  {
   "cell_type": "markdown",
   "metadata": {},
   "source": [
    "In your terminal:\n",
    "```\n",
    "$ docker start tensorflow \n",
    "$ docker logs tensorflow  \n",
    "```\n",
    "Go to localhost:8888 in your browser (or 0.0.0.0:8888, they're the same thing!)\n",
    "\n",
    "Copy the token from the ```docker logs tensorflow``` command and use it to login to your jupyter environment"
   ]
  },
  {
   "cell_type": "markdown",
   "metadata": {},
   "source": [
    "## Installation pre-requisites\n",
    "Before we install the proper libraries, we must make sure we're inside the container.\n",
    "```\n",
    "$ docker exec -it tensorflow bash\n",
    "```\n",
    "\n",
    "Now let's install the reinforcement learning library, OpenAI's Gym, in your container.\n",
    "```  \n",
    "$ pip install gym  \n",
    "```\n",
    "\n",
    "For the assignment later, consider downloading some of Gym's other environment dependencies\n",
    "```\n",
    "$ pip install gym[atari]\n",
    "$ pip install gym[box2d]\n",
    "```"
   ]
  },
  {
   "cell_type": "markdown",
   "metadata": {},
   "source": [
    "We need to define everything mathematically and algorithmically in code.  Let's do it through an example, with an environment defined by [OpenAI Gym.](https://gym.openai.com/) \n",
    "\n",
    "We're going to use the `NChain-v0` environment in OpenAi Gym.  Here's a diagram summarizing the environment:\n",
    "\n",
    "<img src=\"./images/NChain-v0.png\" width=\"800\">"
   ]
  },
  {
   "cell_type": "code",
   "execution_count": 1,
   "metadata": {},
   "outputs": [],
   "source": [
    "import numpy as np\n",
    "import gym\n",
    "env = gym.make('NChain-v0')"
   ]
  },
  {
   "cell_type": "code",
   "execution_count": 2,
   "metadata": {},
   "outputs": [
    {
     "data": {
      "text/plain": [
       "\u001b[0;31mSignature:\u001b[0m \u001b[0menv\u001b[0m\u001b[0;34m.\u001b[0m\u001b[0mreset\u001b[0m\u001b[0;34m(\u001b[0m\u001b[0;34m**\u001b[0m\u001b[0mkwargs\u001b[0m\u001b[0;34m)\u001b[0m\u001b[0;34m\u001b[0m\u001b[0;34m\u001b[0m\u001b[0m\n",
       "\u001b[0;31mDocstring:\u001b[0m\n",
       "Resets the environment to an initial state and returns an initial\n",
       "observation.\n",
       "\n",
       "Note that this function should not reset the environment's random\n",
       "number generator(s); random variables in the environment's state should\n",
       "be sampled independently between multiple calls to `reset()`. In other\n",
       "words, each call of `reset()` should yield an environment suitable for\n",
       "a new episode, independent of previous episodes.\n",
       "\n",
       "Returns:\n",
       "    observation (object): the initial observation.\n",
       "\u001b[0;31mFile:\u001b[0m      ~/opt/anaconda3/lib/python3.7/site-packages/gym/wrappers/time_limit.py\n",
       "\u001b[0;31mType:\u001b[0m      method\n"
      ]
     },
     "metadata": {},
     "output_type": "display_data"
    }
   ],
   "source": [
    "env.reset?"
   ]
  },
  {
   "cell_type": "code",
   "execution_count": 3,
   "metadata": {},
   "outputs": [
    {
     "name": "stdout",
     "output_type": "stream",
     "text": [
      "The agent is in state 0.\n"
     ]
    }
   ],
   "source": [
    "obs = env.reset()\n",
    "print(\"The agent is in state {0}.\".format(obs))"
   ]
  },
  {
   "cell_type": "code",
   "execution_count": 4,
   "metadata": {},
   "outputs": [
    {
     "data": {
      "text/plain": [
       "\u001b[0;31mSignature:\u001b[0m \u001b[0menv\u001b[0m\u001b[0;34m.\u001b[0m\u001b[0mstep\u001b[0m\u001b[0;34m(\u001b[0m\u001b[0maction\u001b[0m\u001b[0;34m)\u001b[0m\u001b[0;34m\u001b[0m\u001b[0;34m\u001b[0m\u001b[0m\n",
       "\u001b[0;31mDocstring:\u001b[0m\n",
       "Run one timestep of the environment's dynamics. When end of\n",
       "episode is reached, you are responsible for calling `reset()`\n",
       "to reset this environment's state.\n",
       "\n",
       "Accepts an action and returns a tuple (observation, reward, done, info).\n",
       "\n",
       "Args:\n",
       "    action (object): an action provided by the agent\n",
       "\n",
       "Returns:\n",
       "    observation (object): agent's observation of the current environment\n",
       "    reward (float) : amount of reward returned after previous action\n",
       "    done (bool): whether the episode has ended, in which case further step() calls will return undefined results\n",
       "    info (dict): contains auxiliary diagnostic information (helpful for debugging, and sometimes learning)\n",
       "\u001b[0;31mFile:\u001b[0m      ~/opt/anaconda3/lib/python3.7/site-packages/gym/wrappers/time_limit.py\n",
       "\u001b[0;31mType:\u001b[0m      method\n"
      ]
     },
     "metadata": {},
     "output_type": "display_data"
    }
   ],
   "source": [
    "env.step?"
   ]
  },
  {
   "cell_type": "code",
   "execution_count": 5,
   "metadata": {},
   "outputs": [],
   "source": [
    "obs, reward, done, _ = env.step(env.action_space.sample())"
   ]
  },
  {
   "cell_type": "code",
   "execution_count": 6,
   "metadata": {},
   "outputs": [
    {
     "name": "stdout",
     "output_type": "stream",
     "text": [
      "The agent took action 0.\n",
      "The agent is now in state 2.\n",
      "The reward was 0.\n",
      "Is the episode finished? False\n"
     ]
    }
   ],
   "source": [
    "action = 0\n",
    "new_obs, reward, done, _ = env.step(action)\n",
    "print(\"The agent took action {0}.\".format(action))\n",
    "print(\"The agent is now in state {0}.\".format(new_obs))\n",
    "print(\"The reward was {0}.\".format(reward))\n",
    "print(\"Is the episode finished? {0}\".format(done))"
   ]
  },
  {
   "cell_type": "code",
   "execution_count": 7,
   "metadata": {},
   "outputs": [
    {
     "name": "stdout",
     "output_type": "stream",
     "text": [
      "The agent took action 1.\n",
      "The agent is now in state 0.\n",
      "The reward was 2.\n",
      "Is the episode finished? False\n"
     ]
    }
   ],
   "source": [
    "action = 1\n",
    "new_obs, reward, done, _ = env.step(action)\n",
    "print(\"The agent took action {0}.\".format(action))\n",
    "print(\"The agent is now in state {0}.\".format(new_obs))\n",
    "print(\"The reward was {0}.\".format(reward))\n",
    "print(\"Is the episode finished? {0}\".format(done))"
   ]
  },
  {
   "cell_type": "markdown",
   "metadata": {},
   "source": [
    "### A naive heuristic (educated guess, rule of thumb) for reinforcement learning\n",
    "\n",
    "We need to find a **policy $\\pi$** which maps **states**, **actions**, and **rewards** in such a way that **the cumulative award is maximized** in the episode.  \n",
    "\n",
    "Imagine a **reward table**  \n",
    "\n",
    "|state|  action 0 | action 1 |\n",
    "|---|:---:|:---:|\n",
    "| 0 | $\\sum_{step=1}^{N} r_{a0}$  | $\\sum_{step=1}^{N} r_{a1}$  | \n",
    "| 1 | $\\sum_{step=1}^{N} r_{a0}$ | $\\sum_{step=1}^{N} r_{a1}$   | \n",
    "| 2 |  $\\sum_{step=1}^{N} r_{a0}$  | $\\sum_{step=1}^{N} r_{a1}$  | \n",
    "| 3 |$\\sum_{step=1}^{N} r_{a0}$  | $\\sum_{step=1}^{N} r_{a1}$  | \n",
    "| 4 | $\\sum_{step=1}^{N} r_{a0}$  | $\\sum_{step=1}^{N} r_{a1}$  | \n",
    "\n",
    "where a simulation fills in the values in this table.  \n",
    "Do this with Python:"
   ]
  },
  {
   "cell_type": "code",
   "execution_count": 22,
   "metadata": {},
   "outputs": [],
   "source": [
    "def naive_sum_reward_agent(env, num_episodes=100):\n",
    "    num_states = env.observation_space.n\n",
    "    num_actions = env.action_space.n\n",
    "    # this is the table that will hold our summated rewards for\n",
    "    # each action in each state\n",
    "    r_table = np.zeros((num_states, num_actions))\n",
    "    for g in range(num_episodes):\n",
    "        if g % 25 == 0: \n",
    "            print(\"Episode {0}\".format(g))\n",
    "        obs = env.reset()\n",
    "        done = False\n",
    "        while not done:\n",
    "            if np.sum(r_table[obs, :]) == 0:\n",
    "                # make a random selection of actions\n",
    "                action = np.random.randint(0, num_actions) # Explore\n",
    "            else:\n",
    "                # select the action with highest cummulative reward\n",
    "                action = np.argmax(r_table[obs, :]) # Exploit\n",
    "            new_obs, reward, done, _ = env.step(action)\n",
    "            r_table[obs, action] += reward\n",
    "            obs = new_obs\n",
    "    return r_table"
   ]
  },
  {
   "cell_type": "code",
   "execution_count": 23,
   "metadata": {},
   "outputs": [],
   "source": [
    "def print_table(tabl):\n",
    "    '''Prints table with row and column headers'''\n",
    "    print(\"State\\ta0\\ta1\")\n",
    "    print(\"-\"*25)\n",
    "    for s, row in enumerate(tabl):\n",
    "        print(\"{0}\\t{1:0.1f}\\t{2:0.1f}\".format(s, row[0], row[1]))"
   ]
  },
  {
   "cell_type": "code",
   "execution_count": 24,
   "metadata": {},
   "outputs": [
    {
     "name": "stdout",
     "output_type": "stream",
     "text": [
      "Episode 0\n",
      "Episode 25\n",
      "Episode 50\n",
      "Episode 75\n",
      "Episode 100\n",
      "Episode 125\n",
      "Episode 150\n",
      "Episode 175\n",
      "Episode 200\n",
      "Episode 225\n",
      "Episode 250\n",
      "Episode 275\n",
      "Episode 300\n",
      "Episode 325\n",
      "Episode 350\n",
      "Episode 375\n",
      "Episode 400\n",
      "Episode 425\n",
      "Episode 450\n",
      "Episode 475\n",
      "Episode 500\n",
      "Episode 525\n",
      "Episode 550\n",
      "Episode 575\n",
      "Episode 600\n",
      "Episode 625\n",
      "Episode 650\n",
      "Episode 675\n",
      "Episode 700\n",
      "Episode 725\n",
      "Episode 750\n",
      "Episode 775\n",
      "Episode 800\n",
      "Episode 825\n",
      "Episode 850\n",
      "Episode 875\n",
      "Episode 900\n",
      "Episode 925\n",
      "Episode 950\n",
      "Episode 975\n",
      "\n",
      "The naive reward table after 1000 episodes is:\n",
      "State\ta0\ta1\n",
      "-------------------------\n",
      "0\t0.0\t1122708.0\n",
      "1\t56456.0\t0.0\n",
      "2\t0.0\t179016.0\n",
      "3\t0.0\t36070.0\n",
      "4\t190142.0\t0.0\n"
     ]
    }
   ],
   "source": [
    "env.reset()\n",
    "num_episodes = 1000\n",
    "naive_reward_table = naive_sum_reward_agent(env, num_episodes)\n",
    "print(\"\\nThe naive reward table after {0} episodes is:\".format(num_episodes))\n",
    "print_table(naive_reward_table)\n",
    "# try executing this cell several times to compare differences in results"
   ]
  },
  {
   "cell_type": "markdown",
   "metadata": {},
   "source": [
    "Problems with this approach:  \n",
    "* We aren't exploring both actions at each state.\n",
    "* We know that the best solution is to take action 0 all the way to state 4 and then continue to take action 0 there, but the table above isn't showing that (most time is spent in state 0).\n",
    "* This approach only sums immediate awards for an action taken in a given state.  It has no mechanism for accounting for a delayed reward (picking action 0 with no reward until state 4)."
   ]
  },
  {
   "cell_type": "markdown",
   "metadata": {},
   "source": [
    "### Accounting for a delayed reward: Q-learning\n",
    "The idea of propagating possible reward from the best possible actions in future states is a core component of what is called Q learning.  \n",
    "Here is the Q-learning update rule:\n",
    "<img src=\"./images/Q_learning.png\" width=\"800\">\n",
    "and $\\gamma$ is a discount factor (0 < $\\gamma$ $\\leq$ 1) associated with how much to weight future rewards.  \n",
    "The max $Q(s_{t+1},a_{t+1})$ is the maximum Q value obtained from any action in that state.  \n",
    "[source](https://en.wikipedia.org/wiki/Q-learning)\n",
    "\n",
    "Instead of making a **reward table**, we'll make a **Q table**."
   ]
  },
  {
   "cell_type": "code",
   "execution_count": 11,
   "metadata": {},
   "outputs": [],
   "source": [
    "def q_update(old_q, new_q, reward, lr=0.8, gamma=0.95):\n",
    "    return (1 - lr) * old_q + lr * (reward + gamma * np.max(new_q))"
   ]
  },
  {
   "cell_type": "code",
   "execution_count": 13,
   "metadata": {},
   "outputs": [],
   "source": [
    "def q_learning_with_table(env, num_episodes=100):\n",
    "    num_states = env.observation_space.n\n",
    "    num_actions = env.action_space.n\n",
    "    q_table = np.zeros((num_states, num_actions))\n",
    "    gamma = 0.95 # discount factor\n",
    "    lr = 0.8 # learning rate\n",
    "    for i in range(num_episodes):\n",
    "        if i % 25 == 0: \n",
    "            print(\"Episode {0}\".format(i))\n",
    "        obs = env.reset()\n",
    "        done = False\n",
    "        while not done:\n",
    "            if np.sum(q_table[obs,:]) == 0:\n",
    "                # make a random selection of actions\n",
    "                action = np.random.randint(0, num_actions)\n",
    "            else:\n",
    "                # select the action with largest q value in state s\n",
    "                action = np.argmax(q_table[obs, :])\n",
    "            new_obs, reward, done, _ = env.step(action)      \n",
    "            q_table[obs, action] = q_update(q_table[obs, action], q_table[new_obs, :], reward, lr, gamma)\n",
    "            obs = new_obs\n",
    "    return q_table"
   ]
  },
  {
   "cell_type": "code",
   "execution_count": 25,
   "metadata": {},
   "outputs": [
    {
     "name": "stdout",
     "output_type": "stream",
     "text": [
      "Episode 0\n",
      "Episode 25\n",
      "Episode 50\n",
      "Episode 75\n",
      "Episode 100\n",
      "Episode 125\n",
      "Episode 150\n",
      "Episode 175\n",
      "\n",
      "The q learning table after 200 episodes is:\n",
      "State\ta0\ta1\n",
      "-------------------------\n",
      "0\t0.0\t19.3\n",
      "1\t18.8\t0.0\n",
      "2\t0.0\t20.8\n",
      "3\t0.0\t19.8\n",
      "4\t20.7\t0.0\n"
     ]
    }
   ],
   "source": [
    "env.reset()\n",
    "num_episodes = 200\n",
    "q_learning_table = q_learning_with_table(env, num_episodes)\n",
    "print(\"\\nThe q learning table after {0} episodes is:\".format(num_episodes))\n",
    "print_table(q_learning_table)\n",
    "# try executing this cell several times to compare differences in results"
   ]
  },
  {
   "cell_type": "markdown",
   "metadata": {},
   "source": [
    "Better, but still have the problem that it isn't exploring all actions in each state.  \n",
    "Let's use an *epsilon - greedy* approach where a random number less than *epsilon* forces the algorithm to **explore**.  Otherwise it will **exploit**."
   ]
  },
  {
   "cell_type": "code",
   "execution_count": 15,
   "metadata": {},
   "outputs": [],
   "source": [
    "def eps_greedy_q_learning_with_table(env, num_episodes=100):\n",
    "    num_states = env.observation_space.n\n",
    "    num_actions = env.action_space.n\n",
    "    q_table = np.zeros((num_states, num_actions))\n",
    "    gamma = 0.95 # discount factor\n",
    "    eps = 0.5 # epsilon-greed explore threshold\n",
    "    lr = 0.8 # learning rate\n",
    "    decay_factor = 0.99999 # as time goes on, decrease willingness to explore\n",
    "    for i in range(num_episodes):\n",
    "        if i % 25 == 0: \n",
    "            print(\"Episode {0}\".format(i))\n",
    "        obs = env.reset()\n",
    "        eps *= decay_factor\n",
    "        done = False\n",
    "        while not done:\n",
    "            # select the action with highest cummulative reward\n",
    "            if np.random.random() < eps or np.sum(q_table[obs, :]) == 0:\n",
    "                action = np.random.randint(0, num_actions)\n",
    "            else:\n",
    "                action = np.argmax(q_table[obs, :])\n",
    "            new_obs, reward, done, _ = env.step(action)\n",
    "            q_table[obs, action] = q_update(q_table[obs, action], q_table[new_obs, :], reward, lr, gamma)\n",
    "            obs = new_obs\n",
    "    return q_table"
   ]
  },
  {
   "cell_type": "code",
   "execution_count": 21,
   "metadata": {},
   "outputs": [
    {
     "name": "stdout",
     "output_type": "stream",
     "text": [
      "Episode 0\n",
      "Episode 25\n",
      "Episode 50\n",
      "Episode 75\n",
      "Episode 100\n",
      "Episode 125\n",
      "Episode 150\n",
      "Episode 175\n",
      "Episode 200\n",
      "Episode 225\n",
      "Episode 250\n",
      "Episode 275\n",
      "Episode 300\n",
      "Episode 325\n",
      "Episode 350\n",
      "Episode 375\n",
      "Episode 400\n",
      "Episode 425\n",
      "Episode 450\n",
      "Episode 475\n",
      "\n",
      "The q learning table using epsilon to explore/exploit after 500 episodes is:\n",
      "State\ta0\ta1\n",
      "-------------------------\n",
      "0\t39.5\t41.1\n",
      "1\t40.8\t41.4\n",
      "2\t40.8\t41.4\n",
      "3\t47.4\t39.2\n",
      "4\t44.2\t46.8\n"
     ]
    }
   ],
   "source": [
    "env.reset()\n",
    "num_episodes = 500\n",
    "q_learning_eps_greed_table = eps_greedy_q_learning_with_table(env, num_episodes)\n",
    "print(\"\\nThe q learning table using epsilon to explore/exploit after {0} episodes is:\".format(num_episodes))\n",
    "print_table(q_learning_eps_greed_table)\n",
    "# try executing this cell several times to compare differences in results"
   ]
  },
  {
   "cell_type": "markdown",
   "metadata": {},
   "source": [
    "If everything worked out, the Q values under action 0 should be larger than action 1 for all states.  Therefore, the best **policy** to **maximize our cumulative reward** is to choose action 0 in every state.  \n",
    "\n",
    "This is a simple environment, so a simulation like this can be performed to find the Q values and determine the best policy.  But most likely the environment is more complicated that this, with more states and actions possible at each state.\n",
    "\n",
    "However, neural networks can be trained to predict Q values for each action in a given state in more complicated problems.  Deep learning to the rescue!"
   ]
  },
  {
   "cell_type": "markdown",
   "metadata": {},
   "source": [
    "## Reinforcement Learning with Keras"
   ]
  },
  {
   "cell_type": "markdown",
   "metadata": {},
   "source": [
    "To develop a neural network which can perform Q learning, the input needs to be the current state (plus potentially some other information about the environment) and it needs to output the relevant Q values for each action in that state. The Q values which are output should approach, as training progresses, the values produced in the Q learning updating rule. Therefore, the loss or cost function for the neural network should be:  \n",
    "<img src=\"./images/loss_rl_dl.png\" width=\"400\">  \n",
    "and we'll use this architecture:  \n",
    "<img src=\"images/rl_arch.png\" width=\"500\">"
   ]
  },
  {
   "cell_type": "code",
   "execution_count": 17,
   "metadata": {},
   "outputs": [],
   "source": [
    "from tensorflow.keras.models import Sequential\n",
    "from tensorflow.keras.layers import Dense, InputLayer\n",
    "import matplotlib.pylab as plt\n",
    "import matplotlib as mpl\n",
    "plt.style.use(\"ggplot\") # always make it pretty\n",
    "mpl.rcParams['font.size'] = 16 # Frank was here\n",
    "mpl.rcParams['figure.figsize'] = 10, 8"
   ]
  },
  {
   "cell_type": "code",
   "execution_count": 18,
   "metadata": {},
   "outputs": [],
   "source": [
    "def q_learning_keras(env, num_episodes=150):\n",
    "    num_actions = env.action_space.n\n",
    "    num_states = env.observation_space.n\n",
    "    \n",
    "    # create matrix of model-interpretable states\n",
    "    obs_states = np.identity(num_states)\n",
    "    \n",
    "    # create the model\n",
    "    model = Sequential()\n",
    "    model.add(InputLayer(batch_input_shape=(1, num_states)))\n",
    "    model.add(Dense(10, activation='sigmoid'))\n",
    "    model.add(Dense(num_actions, activation='linear'))\n",
    "    model.compile(loss='mse', optimizer='adam', metrics=['mae'])\n",
    "    # now execute the q learning\n",
    "    gamma = 0.95\n",
    "    eps = 0.5\n",
    "    decay_factor = 0.999\n",
    "    r_avg_list = []\n",
    "    for i in range(num_episodes):\n",
    "        obs = env.reset()\n",
    "        eps *= decay_factor\n",
    "        if i % 25 == 0:\n",
    "            print(\"Episode {} of {}\".format(i, num_episodes))\n",
    "        done = False\n",
    "        reward_sum = 0\n",
    "        while not done: \n",
    "            if np.random.random() < eps:\n",
    "                action = np.random.randint(0, num_actions)\n",
    "            else:\n",
    "                action = np.argmax(model.predict(obs_states[obs:obs + 1]))\n",
    "            new_obs, reward, done, _ = env.step(action)\n",
    "            target_q = reward + gamma * np.max(model.predict(obs_states[new_obs:new_obs + 1]))\n",
    "            target_vec = model.predict(obs_states[obs:obs + 1])[0]\n",
    "            target_vec[action] = target_q\n",
    "            model.fit(obs_states[obs:obs + 1], target_vec.reshape(-1, num_actions), epochs=1, verbose=0)\n",
    "            obs = new_obs\n",
    "            reward_sum += reward\n",
    "        r_avg_list.append(reward_sum / 1000)\n",
    "    plt.plot(r_avg_list)\n",
    "    plt.ylabel('Average reward per episode')\n",
    "    plt.xlabel('Number of episodes')\n",
    "    plt.show()\n",
    "    prediction_table = np.zeros((num_states, num_actions))\n",
    "    for i in range(num_states):\n",
    "        prediction_table[i] = model.predict(obs_states[i:i + 1])[0]\n",
    "    print_table(prediction_table)       "
   ]
  },
  {
   "cell_type": "code",
   "execution_count": 19,
   "metadata": {},
   "outputs": [
    {
     "name": "stdout",
     "output_type": "stream",
     "text": [
      "Episode 0 of 150\n",
      "Episode 25 of 150\n",
      "Episode 50 of 150\n",
      "Episode 75 of 150\n",
      "Episode 100 of 150\n",
      "Episode 125 of 150\n"
     ]
    },
    {
     "data": {
      "image/png": "[encoded data removed]",
      "text/plain": [
       "<Figure size 720x576 with 1 Axes>"
      ]
     },
     "metadata": {},
     "output_type": "display_data"
    },
    {
     "name": "stdout",
     "output_type": "stream",
     "text": [
      "State\ta0\ta1\n",
      "-------------------------\n",
      "0\t58.5\t57.1\n",
      "1\t61.8\t58.5\n",
      "2\t66.1\t59.6\n",
      "3\t71.8\t60.6\n",
      "4\t79.1\t64.3\n"
     ]
    }
   ],
   "source": [
    "env.reset()\n",
    "q_learning_keras(env)"
   ]
  },
  {
   "cell_type": "markdown",
   "metadata": {},
   "source": [
    "Other environments are available in OpenAI Gym: [environments](https://gym.openai.com/envs/)  \n",
    "Solutions to some of these environments can be found on the OpenAI [Leaderboard](https://github.com/openai/gym/wiki/Leaderboard)  \n",
    "You can also make your own environment: [Guide](https://github.com/openai/gym/tree/master/gym/envs)"
   ]
  },
  {
   "cell_type": "markdown",
   "metadata": {},
   "source": [
    "To be able to save recordings of our training, we'll need some stuff to trick our docker environment into thinking it has a screen. It's not generally an easy process to include recording with your environments, hence why this is a footnote. \n",
    "\n",
    "You'll need to run the following command in your docker container (bash prompt!) to download the necessary dependencies\n",
    "\n",
    "```\n",
    "$ apt-get -y update && apt-get -y install xvfb ffmpeg python-opengl\n",
    "```"
   ]
  }
 ],
 "metadata": {
  "kernelspec": {
   "display_name": "Python 3",
   "language": "python",
   "name": "python3"
  },
  "language_info": {
   "codemirror_mode": {
    "name": "ipython",
    "version": 3
   },
   "file_extension": ".py",
   "mimetype": "text/x-python",
   "name": "python",
   "nbconvert_exporter": "python",
   "pygments_lexer": "ipython3",
   "version": "3.7.6"
  }
 },
 "nbformat": 4,
 "nbformat_minor": 4
}
