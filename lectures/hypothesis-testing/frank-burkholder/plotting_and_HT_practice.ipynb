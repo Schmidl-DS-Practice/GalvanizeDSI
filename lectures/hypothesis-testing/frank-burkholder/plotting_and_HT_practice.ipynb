{
 "cells": [
  {
   "cell_type": "markdown",
   "metadata": {},
   "source": [
    "### This notebook is an in-class exercise that is expected to take between 45 minutes and 1 hr.  If you're stuck, read the provided hints, and if you're still stuck after that please ask for help from a neighbor or instructor.  Instructors will check on your progress throughout."
   ]
  },
  {
   "cell_type": "markdown",
   "metadata": {},
   "source": [
    "## 1) Google lunch hour distribution\n",
    "Assume that Google employee lunch hours can be modeled statistically by a normal distribution with a mean of 2 hrs and a standard deviation of 30 minutes.  Plot the probability density function vs. lunch hour time.  \n",
    "Hints:  \n",
    "* Try using a plot style, e.g. `plt.style.use('ggplot')` or `plt.style.use('fivethirtyeight')`\n",
    "* Use scipy.stats.norm to make the distribution\n",
    "* Use np.linspace to make your x values (the lunch hours).  \n",
    "* Use the percentile point function (ppf) to ensure that your x values cover 99.9% of the distribution.\n",
    "* Use the .pdf method on the norm object and your x values (lunch hours) to make the pdf of the lunch hours.\n",
    "* Use the object oriented way of making a plot, i.e. `fig, ax = plt.subplots(1,1)`, then `ax.plot(...`    \n",
    "* Label your x and y axis labels using `ax.set_xlabel(...`, `ax.set_ylabel(...`\n",
    "* Title your plot using `ax.set_title(...`\n",
    "* Include a legend, `ax.legend(..`\n",
    "* Try using the ggplot or fivethirtyeight plot style: \n",
    "You can see almost all the hints above in action [here](https://docs.scipy.org/doc/scipy/reference/generated/scipy.stats.norm.html)"
   ]
  },
  {
   "cell_type": "code",
   "execution_count": 1,
   "metadata": {},
   "outputs": [],
   "source": [
    "#imports\n",
    "%matplotlib inline\n",
    "\n",
    "import numpy as np\n",
    "import matplotlib.pyplot as plt\n",
    "import scipy.stats as stats\n",
    "\n",
    "# Always make it pretty.\n",
    "plt.style.use('fivethirtyeight')"
   ]
  },
  {
   "cell_type": "code",
   "execution_count": null,
   "metadata": {},
   "outputs": [],
   "source": []
  },
  {
   "cell_type": "markdown",
   "metadata": {},
   "source": [
    "## 2) Find the middle 95% of the distribution\n",
    "Use the percentilie point function (ppf) to determine both the lower and upper bounds of the middle 95% of lunch hours.  \n",
    "Find and print them (to two decimal places), then recreate the plot above and include vertical red, dashed, narrow lines at these upper and lower bounds.  \n",
    "Hints:  \n",
    "* ppf is used [here](https://docs.scipy.org/doc/scipy/reference/generated/scipy.stats.norm.html) to find values associated with 1% and 99% (you want 2.5% and 97.5%).  \n",
    "* `axvline` is documented [here](https://matplotlib.org/3.1.1/api/_as_gen/matplotlib.pyplot.axvline.html)  \n",
    "* You will want to use `color='red'`, `linestyle='--'` and `linewidth=1` to get red, dashed, narrow vertical lines in your plot.  \n",
    "* Use f string notation along with a desired number of float digits to control the number of digits displayed.  See this [StackOverflow answer](https://stackoverflow.com/questions/45310254/fixed-digits-after-decimal-with-f-strings)\n"
   ]
  },
  {
   "cell_type": "code",
   "execution_count": null,
   "metadata": {},
   "outputs": [],
   "source": []
  },
  {
   "cell_type": "markdown",
   "metadata": {},
   "source": [
    "## How often does someone take a 3 hour, 15 minute lunch, or longer?\n",
    "Based on this distribution, what percentage of lunches take 3 hours 15 minutes, or more?  \n",
    "Hint:  \n",
    "* Use the cumulative distribution method `.cdf` to find out."
   ]
  },
  {
   "cell_type": "code",
   "execution_count": null,
   "metadata": {},
   "outputs": [],
   "source": []
  },
  {
   "cell_type": "markdown",
   "metadata": {},
   "source": [
    "## 3) A hypothesis test\n",
    "Google sensors monitor the time employees are away at lunch, and one day they calculated the **average** lunch hour to be 2 hours and 1 minute.  Is that inconsistent with the previous 2 hour average they had calculated?\n",
    "\n",
    "\n",
    "### 3a) State the Null and Alternative Hypotheses (make it two-tailed):"
   ]
  },
  {
   "cell_type": "markdown",
   "metadata": {},
   "source": [
    "H0: 2 hours and 2 hours and 1 minute comes from the same distribution   \n",
    "H1: 2 hours 1 minute != 2 hours"
   ]
  },
  {
   "cell_type": "markdown",
   "metadata": {},
   "source": [
    "### 3b) Choose your significance level"
   ]
  },
  {
   "cell_type": "code",
   "execution_count": null,
   "metadata": {},
   "outputs": [],
   "source": [
    "# what alpha is associated with a a confidence level of 95%?\n"
   ]
  },
  {
   "cell_type": "markdown",
   "metadata": {},
   "source": [
    "### 3c) Determine your test, and calculate your test statistic\n",
    "We'll be using a [one sample Z-test](https://stattrek.com/statistics/dictionary.aspx?definition=one-sample%20z-test).  Calculate the Z-statistic.  Besides the mean (2 hours) the value of interest (2 hours and 1 minute), the lunch hour standard deviation (30 minutes), you'll also need the number of data points (employees) the population distribution was based on.  **Assume 500 employees**.  \n",
    "Hints:  \n",
    "* you can't use scipy.stats.zscore to do this: it requires an array of values.  \n",
    "* Use the equation for the Z score calculation [here](https://stattrek.com/statistics/dictionary.aspx?definition=one-sample%20z-test)  "
   ]
  },
  {
   "cell_type": "code",
   "execution_count": null,
   "metadata": {},
   "outputs": [],
   "source": [
    "# Calculate and print the Z statistic\n"
   ]
  },
  {
   "cell_type": "markdown",
   "metadata": {},
   "source": [
    "### Let's better understand the Z statistic with some plotting.\n",
    "\n",
    "Plot the **sampling distribution** of the lunch data.  Use what you know from the CLT to do this (don't use bootstrapping).  To make the sampling distribution you'll need the sample mean (2 hrs), the sample standard deviation (30 minutes), and the number of samples the distribution was based on (500).\n",
    "\n",
    "You'll need to figure out what the standard deviation of the sampling distribution is (hint: it's not 30 minutes).  Check out [this blog] if you can't figure out what the standard deviation should be.\n",
    "\n",
    "Plot the sampling distribution of the sample mean.  Recycle some of your earlier plotting code.  \n",
    "Title the figure \"Sampling distribution of the mean lunch hour\""
   ]
  },
  {
   "cell_type": "code",
   "execution_count": null,
   "metadata": {},
   "outputs": [],
   "source": []
  },
  {
   "cell_type": "markdown",
   "metadata": {},
   "source": [
    "### Recreate the plot, adding a vertical red line to the average of interest: 2 hours, 1 min.  Make it blue."
   ]
  },
  {
   "cell_type": "code",
   "execution_count": null,
   "metadata": {},
   "outputs": [],
   "source": []
  },
  {
   "cell_type": "markdown",
   "metadata": {},
   "source": [
    "### Recreate the plot again, adding yet other vertical (red) lines corresponding to the middle 95% of lunch hours.\n",
    "These are our critical values.  If the blue line is outside of them, we can reject the null in favor of the alternate.  Otherwise, we can't reject the null."
   ]
  },
  {
   "cell_type": "code",
   "execution_count": null,
   "metadata": {},
   "outputs": [],
   "source": []
  },
  {
   "cell_type": "markdown",
   "metadata": {},
   "source": [
    "### Find the probability of this (or more extreme) result, and compare it to the significance level."
   ]
  },
  {
   "cell_type": "code",
   "execution_count": null,
   "metadata": {},
   "outputs": [],
   "source": []
  },
  {
   "cell_type": "code",
   "execution_count": null,
   "metadata": {},
   "outputs": [],
   "source": []
  }
 ],
 "metadata": {
  "kernelspec": {
   "display_name": "Python 3",
   "language": "python",
   "name": "python3"
  },
  "language_info": {
   "codemirror_mode": {
    "name": "ipython",
    "version": 3
   },
   "file_extension": ".py",
   "mimetype": "text/x-python",
   "name": "python",
   "nbconvert_exporter": "python",
   "pygments_lexer": "ipython3",
   "version": "3.7.3"
  }
 },
 "nbformat": 4,
 "nbformat_minor": 2
}
