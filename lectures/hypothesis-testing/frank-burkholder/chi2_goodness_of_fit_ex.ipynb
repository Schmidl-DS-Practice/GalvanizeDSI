{
 "cells": [
  {
   "cell_type": "markdown",
   "metadata": {},
   "source": [
    "## Chi square test to show goodness of fit\n",
    "Did the data come from an **expected multi-category distribution**?\n",
    "\n",
    "For example, can we determine if a 6-sided die is fair or not?\n",
    "\n",
    "This notebook is also demonstrating some useful Python along the way:\n",
    "* Numpy np.random.choice sampling with unequal probabilities\n",
    "* A plot with several subplots with a minimum of code  \n",
    "* The usefulness of Counters\n",
    "* SciPy stats chisquare test\n",
    "* f-string formatting\n",
    "\n",
    "Reference: [Yale Chi-square goodness of fit](http://www.stat.yale.edu/Courses/1997-98/101/chigf.htm)"
   ]
  },
  {
   "cell_type": "code",
   "execution_count": 1,
   "metadata": {},
   "outputs": [],
   "source": [
    "import numpy as np\n",
    "import matplotlib.pyplot as plt\n",
    "import pandas as pd\n",
    "\n",
    "from scipy import stats\n",
    "from collections import Counter"
   ]
  },
  {
   "cell_type": "code",
   "execution_count": 2,
   "metadata": {},
   "outputs": [],
   "source": [
    "plt.rcParams.update({'font.size': 14})  # bigger font than default"
   ]
  },
  {
   "cell_type": "code",
   "execution_count": 3,
   "metadata": {},
   "outputs": [],
   "source": [
    "# number of rolls of the dice\n",
    "nrolls = 120"
   ]
  },
  {
   "cell_type": "code",
   "execution_count": 4,
   "metadata": {},
   "outputs": [],
   "source": [
    "# set a random seed so that we all get the same thing\n",
    "np.random.seed(114)"
   ]
  },
  {
   "cell_type": "code",
   "execution_count": 5,
   "metadata": {},
   "outputs": [
    {
     "data": {
      "text/plain": [
       "array([3, 4, 3, 4, 5, 3, 1, 2, 4, 6, 1, 5, 4, 5, 1, 5, 4, 6, 1, 6, 6, 5,\n",
       "       6, 6, 4, 2, 5, 5, 1, 5, 5, 2, 3, 5, 3, 2, 6, 5, 2, 4, 2, 3, 5, 4,\n",
       "       1, 2, 6, 4, 5, 4, 4, 1, 3, 4, 5, 4, 3, 2, 4, 6, 4, 3, 6, 3, 3, 2,\n",
       "       4, 2, 6, 4, 4, 5, 1, 6, 4, 6, 5, 6, 5, 4, 2, 5, 3, 3, 6, 6, 4, 3,\n",
       "       4, 6, 3, 6, 3, 5, 2, 4, 6, 6, 2, 5, 4, 3, 5, 3, 6, 5, 5, 3, 5, 6,\n",
       "       1, 3, 1, 6, 4, 4, 1, 5, 2, 6])"
      ]
     },
     "execution_count": 5,
     "metadata": {},
     "output_type": "execute_result"
    }
   ],
   "source": [
    "# fair dice distribution\n",
    "fair_rolls = np.random.randint(1, 7, size = (nrolls, ))\n",
    "fair_rolls"
   ]
  },
  {
   "cell_type": "code",
   "execution_count": 6,
   "metadata": {},
   "outputs": [
    {
     "data": {
      "text/plain": [
       "array([4, 3, 4, 2, 3, 4, 3, 4, 4, 3, 3, 3, 3, 1, 1, 5, 4, 4, 4, 4, 3, 3,\n",
       "       4, 5, 4, 4, 4, 4, 6, 3, 3, 3, 5, 4, 5, 3, 4, 1, 3, 5, 6, 2, 4, 4,\n",
       "       4, 1, 3, 4, 4, 3, 1, 3, 1, 4, 6, 4, 4, 4, 3, 3, 3, 4, 3, 4, 3, 1,\n",
       "       3, 3, 3, 3, 3, 3, 4, 4, 4, 4, 3, 5, 4, 3, 3, 4, 4, 3, 3, 4, 4, 4,\n",
       "       4, 3, 6, 3, 3, 4, 4, 4, 6, 4, 4, 4, 6, 5, 3, 5, 1, 1, 3, 4, 3, 3,\n",
       "       4, 4, 4, 4, 4, 4, 4, 4, 4, 3])"
      ]
     },
     "execution_count": 6,
     "metadata": {},
     "output_type": "execute_result"
    }
   ],
   "source": [
    "# weighted (unfair) rolls\n",
    "# Note how we can set the probability of each choice.  Default is equal.\n",
    "unfair_rolls = np.random.choice(np.arange(1, 7), \n",
    "                                p = [0.1, 0.05, 0.3, 0.4, 0.05, 0.1], \n",
    "                                size = (nrolls,))\n",
    "unfair_rolls"
   ]
  },
  {
   "cell_type": "code",
   "execution_count": 7,
   "metadata": {},
   "outputs": [
    {
     "data": {
      "text/plain": [
       "array([1, 2, 3, 4, 5, 6, 1, 2, 3, 4, 5, 6, 1, 2, 3, 4, 5, 6, 1, 2, 3, 4,\n",
       "       5, 6, 1, 2, 3, 4, 5, 6, 1, 2, 3, 4, 5, 6, 1, 2, 3, 4, 5, 6, 1, 2,\n",
       "       3, 4, 5, 6, 1, 2, 3, 4, 5, 6, 1, 2, 3, 4, 5, 6, 1, 2, 3, 4, 5, 6,\n",
       "       1, 2, 3, 4, 5, 6, 1, 2, 3, 4, 5, 6, 1, 2, 3, 4, 5, 6, 1, 2, 3, 4,\n",
       "       5, 6, 1, 2, 3, 4, 5, 6, 1, 2, 3, 4, 5, 6, 1, 2, 3, 4, 5, 6, 1, 2,\n",
       "       3, 4, 5, 6, 1, 2, 3, 4, 5, 6])"
      ]
     },
     "execution_count": 7,
     "metadata": {},
     "output_type": "execute_result"
    }
   ],
   "source": [
    "# expected frequencies if perfectly fair\n",
    "# note that of course they would be shuffled, but here shown in sequence\n",
    "expected_rolls = np.array([num for _ in range(int(nrolls/6)) \n",
    "                           for num in range(1,7)])\n",
    "expected_rolls"
   ]
  },
  {
   "cell_type": "code",
   "execution_count": 8,
   "metadata": {},
   "outputs": [
    {
     "data": {
      "image/png": "[encoded data removed]",
      "text/plain": [
       "<Figure size 864x360 with 3 Axes>"
      ]
     },
     "metadata": {
      "needs_background": "light"
     },
     "output_type": "display_data"
    }
   ],
   "source": [
    "def plot_rolls(rolls, titles):\n",
    "    '''Plot roll frequency for 6 sided die'''\n",
    "    ndists = len(rolls)\n",
    "    fig, axs = plt.subplots(nrows=1, ncols=ndists, figsize=(12, 5))\n",
    "    for i in range(ndists):\n",
    "        axs[i].hist(rolls[i], bins=6, range=(0.5, 6.5), width=0.9)\n",
    "        axs[i].set_ylim(0, 60)\n",
    "        axs[i].set_xticks(np.arange(1,7))\n",
    "        axs[i].set_title(titles[i])\n",
    "        axs[i].set_xlabel(\"Die number\")\n",
    "        axs[i].set_ylabel(\"Count\")\n",
    "    plt.tight_layout() # show with and without this line\n",
    "\n",
    "rolls = [fair_rolls, unfair_rolls, expected_rolls]\n",
    "titles = ['Histogram of fair rolls', \n",
    "          'Histogram of weighted rolls',\n",
    "          'Histogram of expected rolls']\n",
    "\n",
    "plot_rolls(rolls, titles)"
   ]
  },
  {
   "cell_type": "code",
   "execution_count": 9,
   "metadata": {},
   "outputs": [
    {
     "name": "stdout",
     "output_type": "stream",
     "text": [
      "Fair die counts:\n",
      "Die number: 1, count: 11\n",
      "Die number: 2, count: 14\n",
      "Die number: 3, count: 20\n",
      "Die number: 4, count: 26\n",
      "Die number: 5, count: 25\n",
      "Die number: 6, count: 24\n",
      "\n",
      "Fair frequency counts: [11, 14, 20, 26, 25, 24].\n"
     ]
    }
   ],
   "source": [
    "# get frequencies for fair counts\n",
    "fair_counts = Counter(fair_rolls)\n",
    "print(\"Fair die counts:\")\n",
    "for die_num, count in sorted(fair_counts.items()):\n",
    "    print(\"Die number: {0}, count: {1}\".format(die_num, count))\n",
    "fair_freqs = [fair_counts[i] for i in range(1, 7)]\n",
    "print(f'\\nFair frequency counts: {fair_freqs}.')"
   ]
  },
  {
   "cell_type": "code",
   "execution_count": 10,
   "metadata": {},
   "outputs": [
    {
     "name": "stdout",
     "output_type": "stream",
     "text": [
      "Unfair die counts:\n",
      "Die number: 1, count: 9\n",
      "Die number: 2, count: 2\n",
      "Die number: 3, count: 41\n",
      "Die number: 4, count: 54\n",
      "Die number: 5, count: 8\n",
      "Die number: 6, count: 6\n",
      "\n",
      "Unfair frequency counts: [9, 2, 41, 54, 8, 6].\n"
     ]
    }
   ],
   "source": [
    "# frequencies for unfair counts\n",
    "unfair_counts = Counter(unfair_rolls)\n",
    "print(\"Unfair die counts:\")\n",
    "for die_num, count in sorted(unfair_counts.items()):\n",
    "    print(\"Die number: {0}, count: {1}\".format(die_num, count))\n",
    "unfair_freqs = [unfair_counts[i] for i in range(1, 7)]\n",
    "print(f'\\nUnfair frequency counts: {unfair_freqs}.')"
   ]
  },
  {
   "cell_type": "code",
   "execution_count": 11,
   "metadata": {},
   "outputs": [
    {
     "name": "stdout",
     "output_type": "stream",
     "text": [
      "Expected die counts:\n",
      "Die number: 1, count: 20\n",
      "Die number: 2, count: 20\n",
      "Die number: 3, count: 20\n",
      "Die number: 4, count: 20\n",
      "Die number: 5, count: 20\n",
      "Die number: 6, count: 20\n",
      "\n",
      "Expected frequency counts: [20, 20, 20, 20, 20, 20].\n"
     ]
    }
   ],
   "source": [
    "# frequencies for expected counts (if fair)\n",
    "expected_counts = Counter(expected_rolls)\n",
    "print(\"Expected die counts:\")\n",
    "for die_num, count in sorted(expected_counts.items()):\n",
    "    print(\"Die number: {0}, count: {1}\".format(die_num, count))\n",
    "expected_freqs = [expected_counts[i] for i in range(1, 7)]\n",
    "print(f'\\nExpected frequency counts: {expected_freqs}.')"
   ]
  },
  {
   "cell_type": "markdown",
   "metadata": {},
   "source": [
    "## Perform Chi-squared test"
   ]
  },
  {
   "cell_type": "code",
   "execution_count": 12,
   "metadata": {},
   "outputs": [
    {
     "data": {
      "text/plain": [
       "Power_divergenceResult(statistic=9.7, pvalue=0.08419581913411846)"
      ]
     },
     "execution_count": 12,
     "metadata": {},
     "output_type": "execute_result"
    }
   ],
   "source": [
    "ans_fair = stats.chisquare(fair_freqs, expected_freqs, axis=0)\n",
    "ans_fair"
   ]
  },
  {
   "cell_type": "markdown",
   "metadata": {},
   "source": [
    "In scipy stats, the chisquare Null Hypothesis assumption is that the data came from the same distribution.  A high p-value here indicates that the fair_freqs data was very likely to have come from the same distribution that made the expected_freqs."
   ]
  },
  {
   "cell_type": "code",
   "execution_count": 13,
   "metadata": {},
   "outputs": [
    {
     "data": {
      "text/plain": [
       "Power_divergenceResult(statistic=119.1, pvalue=4.867912965735093e-24)"
      ]
     },
     "execution_count": 13,
     "metadata": {},
     "output_type": "execute_result"
    }
   ],
   "source": [
    "ans_unfair = stats.chisquare(unfair_freqs, expected_freqs, axis=0)\n",
    "ans_unfair"
   ]
  },
  {
   "cell_type": "markdown",
   "metadata": {},
   "source": [
    "A large test statistic and low p-value, we can reject the null (came from the same distribution) and accept the alternative (they didn't)."
   ]
  }
 ],
 "metadata": {
  "kernelspec": {
   "display_name": "Python 3",
   "language": "python",
   "name": "python3"
  },
  "language_info": {
   "codemirror_mode": {
    "name": "ipython",
    "version": 3
   },
   "file_extension": ".py",
   "mimetype": "text/x-python",
   "name": "python",
   "nbconvert_exporter": "python",
   "pygments_lexer": "ipython3",
   "version": "3.7.3"
  }
 },
 "nbformat": 4,
 "nbformat_minor": 2
}
