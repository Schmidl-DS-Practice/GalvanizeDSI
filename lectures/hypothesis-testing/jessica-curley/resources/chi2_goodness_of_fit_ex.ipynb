{
 "cells": [
  {
   "cell_type": "markdown",
   "metadata": {},
   "source": [
    "## Chi square test to show goodness of fit\n",
    "Did the data come from an expected multi-catagory distribution?"
   ]
  },
  {
   "cell_type": "code",
   "execution_count": 1,
   "metadata": {},
   "outputs": [],
   "source": [
    "import numpy as np\n",
    "from scipy import stats\n",
    "import matplotlib.pyplot as plt\n",
    "import pandas as pd\n",
    "import seaborn\n",
    "from collections import Counter\n",
    "%matplotlib inline"
   ]
  },
  {
   "cell_type": "code",
   "execution_count": 2,
   "metadata": {},
   "outputs": [],
   "source": [
    "import matplotlib\n",
    "matplotlib.rcParams.update({'font.size': 15})"
   ]
  },
  {
   "cell_type": "code",
   "execution_count": 3,
   "metadata": {},
   "outputs": [],
   "source": [
    "# number of rolls of the dice\n",
    "nrolls = 120"
   ]
  },
  {
   "cell_type": "code",
   "execution_count": 4,
   "metadata": {},
   "outputs": [
    {
     "data": {
      "text/plain": [
       "array([1, 6, 4, 6, 3, 4, 1, 4, 4, 6, 4, 1, 2, 3, 6, 6, 3, 4, 6, 5, 6, 6,\n",
       "       5, 3, 1, 4, 3, 4, 4, 2, 4, 2, 1, 1, 2, 3, 5, 5, 2, 3, 2, 1, 3, 4,\n",
       "       5, 2, 6, 5, 5, 3, 5, 4, 2, 2, 3, 5, 4, 2, 6, 3, 4, 4, 4, 6, 3, 4,\n",
       "       3, 5, 1, 4, 4, 5, 5, 2, 3, 6, 5, 6, 4, 2, 1, 1, 3, 3, 4, 1, 6, 5,\n",
       "       4, 5, 1, 3, 1, 3, 1, 1, 5, 2, 5, 5, 4, 6, 2, 6, 1, 1, 6, 1, 4, 1,\n",
       "       6, 5, 4, 4, 3, 4, 1, 5, 5, 4])"
      ]
     },
     "execution_count": 4,
     "metadata": {},
     "output_type": "execute_result"
    }
   ],
   "source": [
    "# fair dice distribution\n",
    "fair_rolls = np.random.randint(1, 7, size = (nrolls, ))\n",
    "fair_rolls"
   ]
  },
  {
   "cell_type": "code",
   "execution_count": 5,
   "metadata": {},
   "outputs": [
    {
     "data": {
      "text/plain": [
       "array([4, 4, 4, 3, 3, 4, 2, 6, 3, 6, 5, 3, 4, 3, 3, 3, 4, 6, 3, 3, 3, 3,\n",
       "       4, 6, 4, 6, 6, 3, 4, 5, 4, 3, 4, 3, 3, 2, 4, 3, 1, 3, 3, 4, 4, 3,\n",
       "       1, 6, 3, 2, 4, 6, 1, 3, 3, 6, 2, 6, 6, 3, 1, 6, 3, 1, 1, 3, 1, 3,\n",
       "       3, 6, 4, 3, 4, 5, 4, 4, 4, 4, 6, 3, 4, 3, 3, 4, 4, 1, 6, 4, 4, 3,\n",
       "       3, 4, 5, 4, 6, 4, 1, 3, 4, 1, 3, 3, 4, 6, 4, 3, 5, 4, 4, 4, 4, 4,\n",
       "       4, 5, 4, 3, 3, 1, 5, 3, 4, 4])"
      ]
     },
     "execution_count": 5,
     "metadata": {},
     "output_type": "execute_result"
    }
   ],
   "source": [
    "# weighted (unfair) rolls\n",
    "unfair_rolls = np.random.choice(np.arange(1, 7), p = [0.1, 0.05, 0.3, 0.4, 0.05, 0.1], size = (nrolls,))\n",
    "unfair_rolls"
   ]
  },
  {
   "cell_type": "code",
   "execution_count": 6,
   "metadata": {},
   "outputs": [
    {
     "data": {
      "text/plain": [
       "array([1, 2, 3, 4, 5, 6, 1, 2, 3, 4, 5, 6, 1, 2, 3, 4, 5, 6, 1, 2, 3, 4,\n",
       "       5, 6, 1, 2, 3, 4, 5, 6, 1, 2, 3, 4, 5, 6, 1, 2, 3, 4, 5, 6, 1, 2,\n",
       "       3, 4, 5, 6, 1, 2, 3, 4, 5, 6, 1, 2, 3, 4, 5, 6, 1, 2, 3, 4, 5, 6,\n",
       "       1, 2, 3, 4, 5, 6, 1, 2, 3, 4, 5, 6, 1, 2, 3, 4, 5, 6, 1, 2, 3, 4,\n",
       "       5, 6, 1, 2, 3, 4, 5, 6, 1, 2, 3, 4, 5, 6, 1, 2, 3, 4, 5, 6, 1, 2,\n",
       "       3, 4, 5, 6, 1, 2, 3, 4, 5, 6])"
      ]
     },
     "execution_count": 6,
     "metadata": {},
     "output_type": "execute_result"
    }
   ],
   "source": [
    "# expected frequencies if perfectly fair\n",
    "# note that of course they would be shuffled, but here shown in sequence\n",
    "expected_rolls = np.array([num for roll in range(int(nrolls/6)) for num in range(1,7)])\n",
    "expected_rolls"
   ]
  },
  {
   "cell_type": "code",
   "execution_count": 7,
   "metadata": {},
   "outputs": [
    {
     "data": {
      "image/png": "[encoded data removed]",
      "text/plain": [
       "<Figure size 864x288 with 3 Axes>"
      ]
     },
     "metadata": {
      "needs_background": "light"
     },
     "output_type": "display_data"
    }
   ],
   "source": [
    "fig = plt.figure(figsize = (12, 4))\n",
    "ax1 = fig.add_subplot(131)\n",
    "ax1.hist(fair_rolls, bins = 6, range = (0.5, 6.5), width = 0.5)\n",
    "ax1.set_ylim(0, 50)\n",
    "ax1.set_title(\"Histogram of fair rolls\")\n",
    "ax1.set_xlabel(\"Die number\")\n",
    "ax1.set_ylabel(\"Count\")\n",
    "\n",
    "ax2 = fig.add_subplot(132)\n",
    "ax2.hist(unfair_rolls, bins = 6, range = (0.5, 6.5), width = 0.5)\n",
    "ax2.set_ylim(0, 50)\n",
    "ax2.set_title('Histogram of weighted rolls')\n",
    "ax2.set_xlabel(\"Die number\")\n",
    "ax2.set_ylabel(\"Count\")\n",
    "\n",
    "\n",
    "ax3 = fig.add_subplot(133)\n",
    "ax3.hist(expected_rolls, bins = 6, range = (0.5, 6.5), width = 0.5)\n",
    "ax3.set_ylim(0, 50)\n",
    "ax3.set_title('Histogram of expected rolls')\n",
    "ax3.set_xlabel(\"Die number\")\n",
    "ax3.set_ylabel(\"Count\")\n",
    "\n",
    "plt.tight_layout()"
   ]
  },
  {
   "cell_type": "code",
   "execution_count": 8,
   "metadata": {},
   "outputs": [
    {
     "name": "stdout",
     "output_type": "stream",
     "text": [
      "Fair die counts:\n",
      "Die number: 1, count: 20\n",
      "Die number: 2, count: 14\n",
      "Die number: 3, count: 19\n",
      "Die number: 4, count: 28\n",
      "Die number: 5, count: 21\n",
      "Die number: 6, count: 18\n"
     ]
    }
   ],
   "source": [
    "# get frequencies for fair counts\n",
    "fair_counts = Counter(fair_rolls)\n",
    "print(\"Fair die counts:\")\n",
    "for die_num, count in sorted(fair_counts.items()):\n",
    "    print(\"Die number: {0}, count: {1}\".format(die_num, count))\n",
    "fair_freqs = [fair_counts[i] for i in range(1, 7)]"
   ]
  },
  {
   "cell_type": "code",
   "execution_count": 9,
   "metadata": {},
   "outputs": [
    {
     "name": "stdout",
     "output_type": "stream",
     "text": [
      "Unfair die counts:\n",
      "Die number: 1, count: 11\n",
      "Die number: 2, count: 4\n",
      "Die number: 3, count: 40\n",
      "Die number: 4, count: 41\n",
      "Die number: 5, count: 7\n",
      "Die number: 6, count: 17\n"
     ]
    }
   ],
   "source": [
    "# frequencies for unfair counts\n",
    "unfair_counts = Counter(unfair_rolls)\n",
    "print(\"Unfair die counts:\")\n",
    "for die_num, count in sorted(unfair_counts.items()):\n",
    "    print(\"Die number: {0}, count: {1}\".format(die_num, count))\n",
    "unfair_freqs = [unfair_counts[i] for i in range(1, 7)]"
   ]
  },
  {
   "cell_type": "code",
   "execution_count": 10,
   "metadata": {},
   "outputs": [
    {
     "name": "stdout",
     "output_type": "stream",
     "text": [
      "Expected die counts:\n",
      "Die number: 1, count: 20\n",
      "Die number: 2, count: 20\n",
      "Die number: 3, count: 20\n",
      "Die number: 4, count: 20\n",
      "Die number: 5, count: 20\n",
      "Die number: 6, count: 20\n"
     ]
    }
   ],
   "source": [
    "# frequencies for expected counts (if fair)\n",
    "expected_counts = Counter(expected_rolls)\n",
    "print(\"Expected die counts:\")\n",
    "for die_num, count in sorted(expected_counts.items()):\n",
    "    print(\"Die number: {0}, count: {1}\".format(die_num, count))\n",
    "expected_freqs = [expected_counts[i] for i in range(1, 7)]"
   ]
  },
  {
   "cell_type": "code",
   "execution_count": 11,
   "metadata": {},
   "outputs": [
    {
     "data": {
      "text/plain": [
       "Power_divergenceResult(statistic=5.300000000000001, pvalue=0.38037503234347064)"
      ]
     },
     "execution_count": 11,
     "metadata": {},
     "output_type": "execute_result"
    }
   ],
   "source": [
    "ans_fair = stats.chisquare(fair_freqs, expected_freqs, axis=0)\n",
    "ans_fair"
   ]
  },
  {
   "cell_type": "markdown",
   "metadata": {},
   "source": [
    "In scipy stats, the chisquare Null Hypothesis assumption is that the data came from the same distribution.  A high p-value here indicates that the fair_freqs data was very likely to have come from the same distribution that made the expected_freqs"
   ]
  },
  {
   "cell_type": "code",
   "execution_count": 12,
   "metadata": {},
   "outputs": [
    {
     "data": {
      "text/plain": [
       "Power_divergenceResult(statistic=67.80000000000001, pvalue=2.9386744358408433e-13)"
      ]
     },
     "execution_count": 12,
     "metadata": {},
     "output_type": "execute_result"
    }
   ],
   "source": [
    "ans_unfair = stats.chisquare(unfair_freqs, expected_freqs, axis=0)\n",
    "ans_unfair"
   ]
  },
  {
   "cell_type": "markdown",
   "metadata": {},
   "source": [
    "A large test statistic and low p-value, we can reject the null (came from the same distribution) and accept the alternative (they didn't)."
   ]
  }
 ],
 "metadata": {
  "kernelspec": {
   "display_name": "Python 3",
   "language": "python",
   "name": "python3"
  },
  "language_info": {
   "codemirror_mode": {
    "name": "ipython",
    "version": 3
   },
   "file_extension": ".py",
   "mimetype": "text/x-python",
   "name": "python",
   "nbconvert_exporter": "python",
   "pygments_lexer": "ipython3",
   "version": "3.7.3"
  }
 },
 "nbformat": 4,
 "nbformat_minor": 2
}
