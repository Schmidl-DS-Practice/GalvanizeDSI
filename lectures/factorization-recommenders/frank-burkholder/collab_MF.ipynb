{
 "cells": [
  {
   "cell_type": "markdown",
   "metadata": {},
   "source": [
    "### Demonstration of matrix-factorization based collaborative filtering recommender"
   ]
  },
  {
   "cell_type": "code",
   "execution_count": 1,
   "metadata": {},
   "outputs": [],
   "source": [
    "import numpy as np\n",
    "import matplotlib.pyplot as plt"
   ]
  },
  {
   "cell_type": "markdown",
   "metadata": {},
   "source": [
    "The inital ratings matrix.  \"0\" indicates an unrated item.  Item ratings from from 1-5."
   ]
  },
  {
   "cell_type": "code",
   "execution_count": 2,
   "metadata": {},
   "outputs": [],
   "source": [
    "def ratings_matrix():\n",
    "    \"\"\" Sets initial ratings matrix with items ranked 1-5. \n",
    "        \n",
    "        Rows are users, columns are items. Unrated items\n",
    "        have 0 values.\n",
    "        \n",
    "        Parameters\n",
    "        ----------\n",
    "        None\n",
    "        Returns\n",
    "        -------\n",
    "        2d numpy array of type float\n",
    "    \"\"\" \n",
    "    return np.array([[4, 4, 0, 2, 2],\n",
    "                     [4, 0, 0, 3, 3],\n",
    "                     [4, 0, 0, 1, 1],\n",
    "                     [1, 1, 1, 2, 0],\n",
    "                     [2, 2, 2, 0, 0],\n",
    "                     [1, 1, 1, 0, 0],\n",
    "                     [5, 5, 5, 0, 0]]).astype(float)"
   ]
  },
  {
   "cell_type": "code",
   "execution_count": 3,
   "metadata": {
    "scrolled": true
   },
   "outputs": [
    {
     "name": "stdout",
     "output_type": "stream",
     "text": [
      "[[4. 4. 0. 2. 2.]\n",
      " [4. 0. 0. 3. 3.]\n",
      " [4. 0. 0. 1. 1.]\n",
      " [1. 1. 1. 2. 0.]\n",
      " [2. 2. 2. 0. 0.]\n",
      " [1. 1. 1. 0. 0.]\n",
      " [5. 5. 5. 0. 0.]]\n"
     ]
    }
   ],
   "source": [
    "R = ratings_matrix()\n",
    "print(R)"
   ]
  },
  {
   "cell_type": "markdown",
   "metadata": {},
   "source": [
    "### Try to use NMF to predict ratings"
   ]
  },
  {
   "cell_type": "code",
   "execution_count": 4,
   "metadata": {},
   "outputs": [],
   "source": [
    "from sklearn.decomposition import NMF"
   ]
  },
  {
   "cell_type": "code",
   "execution_count": 5,
   "metadata": {},
   "outputs": [
    {
     "name": "stdout",
     "output_type": "stream",
     "text": [
      "Number of latent factors: 2\n",
      "Original ratings matrix:\n",
      "[[4. 4. 0. 2. 2.]\n",
      " [4. 0. 0. 3. 3.]\n",
      " [4. 0. 0. 1. 1.]\n",
      " [1. 1. 1. 2. 0.]\n",
      " [2. 2. 2. 0. 0.]\n",
      " [1. 1. 1. 0. 0.]\n",
      " [5. 5. 5. 0. 0.]]\n",
      "\n",
      "Reconstructed ratings matrix:\n",
      "[[4.5 2.3 1.5 2.  1.8]\n",
      " [4.2 0.7 0.  2.8 2.6]\n",
      " [2.9 0.7 0.2 1.8 1.7]\n",
      " [1.6 0.9 0.6 0.6 0.6]\n",
      " [1.9 2.2 1.8 0.1 0. ]\n",
      " [1.  1.1 0.9 0.  0. ]\n",
      " [4.9 5.5 4.6 0.1 0. ]]\n"
     ]
    }
   ],
   "source": [
    "# try one value for k\n",
    "k = 2\n",
    "model = NMF(n_components=k, init='random', random_state=0)\n",
    "U = model.fit_transform(R)\n",
    "V = model.components_\n",
    "R_recon = np.dot(U,V)\n",
    "print(\"Number of latent factors: {0}\".format(k))\n",
    "print(\"Original ratings matrix:\")\n",
    "print(R.round(1))\n",
    "print(\"\\nReconstructed ratings matrix:\")\n",
    "print(R_recon.round(1))\n",
    "# now try 5 -  what does the reconstructed matrix look like?"
   ]
  },
  {
   "cell_type": "markdown",
   "metadata": {},
   "source": [
    "### The problem with the above approach is that the code is trying to find latent topics that predict the 0 ratings, too.  0 simply means not-rated; non-zero rating predictions are what we desire in-place of the 0 placeholder."
   ]
  },
  {
   "cell_type": "code",
   "execution_count": 6,
   "metadata": {},
   "outputs": [
    {
     "data": {
      "image/png": "[encoded data removed]",
      "text/plain": [
       "<Figure size 432x288 with 1 Axes>"
      ]
     },
     "metadata": {},
     "output_type": "display_data"
    }
   ],
   "source": [
    "# Look for right value of k\n",
    "import matplotlib.pyplot as plt\n",
    "\n",
    "def fit_nmf(k, R):\n",
    "    nmf = NMF(n_components=k)\n",
    "    nmf.fit(R)\n",
    "    U = nmf.transform(R);\n",
    "    V = nmf.components_;\n",
    "    return nmf.reconstruction_err_\n",
    "\n",
    "k_max = 5\n",
    "error = [fit_nmf(i, R) for i in range(1,k_max+1)]\n",
    "plt.plot(range(1,k_max+1), error, 'o-')\n",
    "plt.xlabel('k')\n",
    "plt.ylabel('Reconstruction Error')\n",
    "plt.show()"
   ]
  },
  {
   "cell_type": "markdown",
   "metadata": {},
   "source": [
    "Unsurprisingly, as the number of topics increases to be the number of items, the matrix is perfectly reconstructed (0's and all)\n",
    "\n",
    "### Code that only updates the matrices where ratings aren't zero\n",
    "Adapted from [this post.](http://www.quuxlabs.com/blog/2010/09/matrix-factorization-a-simple-tutorial-and-implementation-in-python/)  \n",
    "Appears to be an implementation of FunkSVD (See Wikipedia \"Matrix Factorization for Recommendation Systems\")"
   ]
  },
  {
   "cell_type": "code",
   "execution_count": 7,
   "metadata": {},
   "outputs": [],
   "source": [
    "\"\"\"\n",
    "@INPUT:\n",
    "    R     : a matrix to be factorized, dimension N x M\n",
    "    P     : an initial matrix of dimension N x K (think U)\n",
    "    Q     : an initial matrix of dimension M x K, Q.T is K X M (think V)\n",
    "    K     : the number of latent features\n",
    "    steps : the maximum number of steps to perform the optimisation\n",
    "    alpha : the learning rate\n",
    "    beta  : the regularization parameter\n",
    "@OUTPUT:\n",
    "    the final matrices P and Q\n",
    "\"\"\"\n",
    "def matrix_factorization(R, P, Q, K, steps=5000, alpha=0.0002, beta=0.02):\n",
    "    Q = Q.T\n",
    "    for step in range(steps):\n",
    "        for i in range(len(R)):\n",
    "            for j in range(len(R[i])):\n",
    "                if R[i][j] > 0:\n",
    "                    eij = R[i][j] - np.dot(P[i,:],Q[:,j])\n",
    "                    for k in range(K):\n",
    "                        P[i][k] = P[i][k] + alpha * (2 * eij * Q[k][j] - beta * P[i][k])\n",
    "                        Q[k][j] = Q[k][j] + alpha * (2 * eij * P[i][k] - beta * Q[k][j])\n",
    "        eR = np.dot(P,Q)\n",
    "        e = 0\n",
    "        for i in range(len(R)):\n",
    "            for j in range(len(R[i])):\n",
    "                if R[i][j] > 0:\n",
    "                    e = e + pow(R[i][j] - np.dot(P[i,:],Q[:,j]), 2)\n",
    "                    for k in range(K):\n",
    "                        e = e + (beta/2) * ( pow(P[i][k],2) + pow(Q[k][j],2) )\n",
    "        if e < 0.001:\n",
    "            print(\"Converged!\")\n",
    "            break\n",
    "    return P, Q, e"
   ]
  },
  {
   "cell_type": "markdown",
   "metadata": {},
   "source": [
    "### Use the function above to factorize the same ratings matrix, investigate reconstruction error associated with the number of latent factors/topics"
   ]
  },
  {
   "cell_type": "code",
   "execution_count": 8,
   "metadata": {},
   "outputs": [
    {
     "name": "stdout",
     "output_type": "stream",
     "text": [
      "Latent factors: 1, reconstruction error: 5.89.\n",
      "Latent factors: 2, reconstruction error: 2.41.\n",
      "Latent factors: 3, reconstruction error: 1.97.\n",
      "Latent factors: 4, reconstruction error: 1.61.\n",
      "Latent factors: 5, reconstruction error: 1.63.\n"
     ]
    }
   ],
   "source": [
    "Ks = [1, 2, 3, 4, 5] # of latent factors\n",
    "N = len(R) # number of rows in the ratings matrix\n",
    "M = len(R[0]) # number of columns in the ratings matrix\n",
    "\n",
    "Pf_k = []\n",
    "Qf_k = []\n",
    "err_k = []\n",
    "for K in Ks:\n",
    "    P = np.random.rand(N,K) # think U\n",
    "    Q = np.random.rand(M,K) # think V\n",
    "    Pf, Qf, error = matrix_factorization(R, P, Q, K)\n",
    "    Pf_k.append(Pf)\n",
    "    Qf_k.append(Qf)\n",
    "    err_k.append(error)\n",
    "    print(\"Latent factors: {0}, reconstruction error: {1:0.2f}.\".format(K, error))"
   ]
  },
  {
   "cell_type": "code",
   "execution_count": 9,
   "metadata": {},
   "outputs": [
    {
     "name": "stdout",
     "output_type": "stream",
     "text": [
      "Investigate factorized matrices shapes\n",
      "Latent factors: 1, shape P: (7, 1), shape Q: (1, 5)\n",
      "Latent factors: 2, shape P: (7, 2), shape Q: (2, 5)\n",
      "Latent factors: 3, shape P: (7, 3), shape Q: (3, 5)\n",
      "Latent factors: 4, shape P: (7, 4), shape Q: (4, 5)\n",
      "Latent factors: 5, shape P: (7, 5), shape Q: (5, 5)\n"
     ]
    }
   ],
   "source": [
    "print(\"Investigate factorized matrices shapes\")\n",
    "for K, Pf, Qf in list(zip(Ks, Pf_k, Qf_k)):\n",
    "    print(\"Latent factors: {0}, shape P: {1}, shape Q: {2}\".format(K, Pf.shape, Qf.shape))"
   ]
  },
  {
   "cell_type": "code",
   "execution_count": 10,
   "metadata": {},
   "outputs": [
    {
     "name": "stdout",
     "output_type": "stream",
     "text": [
      "Number of latent factors: 3\n",
      "Reconstruction error: 3.305\n",
      "Original ratings matrix:\n",
      "[[4. 4. 0. 2. 2.]\n",
      " [4. 0. 0. 3. 3.]\n",
      " [4. 0. 0. 1. 1.]\n",
      " [1. 1. 1. 2. 0.]\n",
      " [2. 2. 2. 0. 0.]\n",
      " [1. 1. 1. 0. 0.]\n",
      " [5. 5. 5. 0. 0.]]\n",
      "\n",
      "Reconstructed ratings matrix:\n",
      "[[4.  4.  4.  1.8 2. ]\n",
      " [4.3 3.9 4.  2.9 2.6]\n",
      " [3.3 3.3 3.2 1.6 1.6]\n",
      " [1.2 0.9 1.1 1.5 1. ]\n",
      " [2.  2.  2.  1.  0.9]\n",
      " [1.1 0.9 1.  0.9 0.7]\n",
      " [5.1 5.  4.9 2.6 2.6]]\n"
     ]
    }
   ],
   "source": [
    "# Reconstruction error with 3 topics was the best, diminishing returns with more\n",
    "K = 3\n",
    "P = np.random.rand(N,K) # think U\n",
    "Q = np.random.rand(M,K) # think V\n",
    "nP, nQ, error = matrix_factorization(R, P, Q, K)\n",
    "R_recon_mf = np.dot(nP, nQ)\n",
    "\n",
    "print(\"Number of latent factors: {0}\".format(K))\n",
    "print(\"Reconstruction error: {0:0.3f}\".format(error))\n",
    "print(\"Original ratings matrix:\")\n",
    "print(R.round(1))\n",
    "print(\"\\nReconstructed ratings matrix:\")\n",
    "print(R_recon_mf.round(1))"
   ]
  },
  {
   "cell_type": "code",
   "execution_count": null,
   "metadata": {},
   "outputs": [],
   "source": []
  }
 ],
 "metadata": {
  "kernelspec": {
   "display_name": "Python 3",
   "language": "python",
   "name": "python3"
  },
  "language_info": {
   "codemirror_mode": {
    "name": "ipython",
    "version": 3
   },
   "file_extension": ".py",
   "mimetype": "text/x-python",
   "name": "python",
   "nbconvert_exporter": "python",
   "pygments_lexer": "ipython3",
   "version": "3.7.3"
  }
 },
 "nbformat": 4,
 "nbformat_minor": 2
}
