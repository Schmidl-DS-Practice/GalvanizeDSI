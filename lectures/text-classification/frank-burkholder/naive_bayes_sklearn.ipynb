{
 "cells": [
  {
   "cell_type": "markdown",
   "metadata": {},
   "source": [
    "# Naive Bayes example  \n",
    "Based on [sklearn example](http://scikit-learn.org/stable/tutorial/text_analytics/working_with_text_data.html).  \n",
    "\n",
    "The [20 newsgroups dataset](http://qwone.com/~jason/20Newsgroups/) is one of the older \"classic\" natural-language-processing datasets.  Wikipedia has an [impressive page](https://en.wikipedia.org/wiki/List_of_datasets_for_machine-learning_research) dedicated to datasets for machine learning."
   ]
  },
  {
   "cell_type": "code",
   "execution_count": 1,
   "metadata": {},
   "outputs": [],
   "source": [
    "import numpy as np\n",
    "from sklearn.datasets import fetch_20newsgroups\n",
    "from sklearn.feature_extraction.text import CountVectorizer\n",
    "from sklearn.feature_extraction.text import TfidfTransformer\n",
    "from sklearn.naive_bayes import MultinomialNB"
   ]
  },
  {
   "cell_type": "code",
   "execution_count": 2,
   "metadata": {},
   "outputs": [],
   "source": [
    "categories = ['alt.atheism', 'soc.religion.christian', 'comp.graphics',\n",
    "                  'sci.med']"
   ]
  },
  {
   "cell_type": "code",
   "execution_count": 3,
   "metadata": {},
   "outputs": [],
   "source": [
    "twenty_train = fetch_20newsgroups(subset='train', categories=categories,\n",
    "                                      shuffle=True, random_state=42)"
   ]
  },
  {
   "cell_type": "markdown",
   "metadata": {},
   "source": [
    "## Featurize the text"
   ]
  },
  {
   "cell_type": "code",
   "execution_count": 4,
   "metadata": {},
   "outputs": [],
   "source": [
    "count_vect = CountVectorizer(lowercase=True, tokenizer=None, stop_words='english',\n",
    "                             analyzer='word', max_df=1.0, min_df=1,\n",
    "                             max_features=None)\n",
    "\n",
    "count_vect.fit(twenty_train.data)\n",
    "\n",
    "target_names = twenty_train.target_names"
   ]
  },
  {
   "cell_type": "code",
   "execution_count": 5,
   "metadata": {},
   "outputs": [
    {
     "name": "stdout",
     "output_type": "stream",
     "text": [
      "The type of X_train_counts is <class 'scipy.sparse.csr.csr_matrix'>.\n",
      "The X matrix has 2257 rows (documents) and 35482 columns (words).\n"
     ]
    }
   ],
   "source": [
    "X_train_counts = count_vect.transform(twenty_train.data)\n",
    "print(\"The type of X_train_counts is {0}.\".format(type(X_train_counts)))\n",
    "print(\"The X matrix has {0} rows (documents) and {1} columns (words).\".format(\n",
    "        X_train_counts.shape[0], X_train_counts.shape[1]))"
   ]
  },
  {
   "cell_type": "code",
   "execution_count": 6,
   "metadata": {},
   "outputs": [],
   "source": [
    "tfidf_transformer = TfidfTransformer(use_idf=True)\n",
    "tfidf_transformer.fit(X_train_counts)\n",
    "X_train_tfidf = tfidf_transformer.transform(X_train_counts)"
   ]
  },
  {
   "cell_type": "markdown",
   "metadata": {},
   "source": [
    "## Training a Naive Bayes model\n",
    "\n",
    "We have a multi-class classificiation problem with more features than rows.  \n",
    "Will use sklearn's [Mulitnomial Naive Bayes](https://scikit-learn.org/stable/modules/generated/sklearn.naive_bayes.MultinomialNB.html) algorithm."
   ]
  },
  {
   "cell_type": "code",
   "execution_count": 7,
   "metadata": {},
   "outputs": [],
   "source": [
    "nb_model = MultinomialNB(alpha=1.0, fit_prior=True, class_prior=None)\n",
    "nb_model.fit(X_train_tfidf, twenty_train.target);"
   ]
  },
  {
   "cell_type": "markdown",
   "metadata": {},
   "source": [
    "### Interpretability - tokens associated with each category"
   ]
  },
  {
   "cell_type": "code",
   "execution_count": 8,
   "metadata": {},
   "outputs": [
    {
     "name": "stdout",
     "output_type": "stream",
     "text": [
      "\n",
      "Target: 0, name: alt.atheism\n",
      "Top 7 tokens:  ['edu', 'keith', 'god', 'com', 'caltech', 'writes', 'people']\n",
      "\n",
      "Target: 1, name: comp.graphics\n",
      "Top 7 tokens:  ['graphics', 'edu', 'image', 'files', 'com', 'lines', 'university']\n",
      "\n",
      "Target: 2, name: sci.med\n",
      "Top 7 tokens:  ['edu', 'pitt', 'com', 'gordon', 'banks', 'geb', 'msg']\n",
      "\n",
      "Target: 3, name: soc.religion.christian\n",
      "Top 7 tokens:  ['god', 'jesus', 'edu', 'church', 'christians', 'people', 'christian']\n"
     ]
    }
   ],
   "source": [
    "feature_words = count_vect.get_feature_names()\n",
    "n = 7 #number of top words associated with the category that we wish to see\n",
    "\n",
    "for cat in range(len(categories)):\n",
    "    print(f\"\\nTarget: {cat}, name: {target_names[cat]}\")\n",
    "    log_prob = nb_model.feature_log_prob_[cat]\n",
    "    i_topn = np.argsort(log_prob)[::-1][:n]\n",
    "    features_topn = [feature_words[i] for i in i_topn]\n",
    "    print(f\"Top {n} tokens: \", features_topn)"
   ]
  },
  {
   "cell_type": "markdown",
   "metadata": {},
   "source": [
    "A [Word cloud](https://amueller.github.io/word_cloud/) would be a nicer way to visualize the top tokens associated with each category (will leave that to you)."
   ]
  },
  {
   "cell_type": "markdown",
   "metadata": {},
   "source": [
    "## Building a pipeline"
   ]
  },
  {
   "cell_type": "code",
   "execution_count": 9,
   "metadata": {},
   "outputs": [],
   "source": [
    "from sklearn.pipeline import Pipeline\n",
    "nb_pipeline = Pipeline([('vect', CountVectorizer()),\n",
    "                        ('tfidf', TfidfTransformer()),\n",
    "                        ('model', MultinomialNB()),\n",
    "                        ])\n",
    "nb_pipeline.fit(twenty_train.data, twenty_train.target); "
   ]
  },
  {
   "cell_type": "markdown",
   "metadata": {},
   "source": [
    "### Evaluating performance on the test set"
   ]
  },
  {
   "cell_type": "code",
   "execution_count": 10,
   "metadata": {},
   "outputs": [
    {
     "name": "stdout",
     "output_type": "stream",
     "text": [
      "\n",
      "The accuracy on the test set is 0.835.\n"
     ]
    }
   ],
   "source": [
    "twenty_test = fetch_20newsgroups(subset='test', categories=categories,\n",
    "                                     shuffle=True, random_state=42)\n",
    "docs_test = twenty_test.data\n",
    "predicted = nb_pipeline.predict(docs_test)\n",
    "accuracy = np.mean(predicted == twenty_test.target)\n",
    "print(\"\\nThe accuracy on the test set is {0:0.3f}.\".format(accuracy))"
   ]
  },
  {
   "cell_type": "code",
   "execution_count": 11,
   "metadata": {},
   "outputs": [
    {
     "data": {
      "text/plain": [
       "1502"
      ]
     },
     "execution_count": 11,
     "metadata": {},
     "output_type": "execute_result"
    }
   ],
   "source": [
    "len(docs_test)"
   ]
  }
 ],
 "metadata": {
  "kernelspec": {
   "display_name": "Python 3",
   "language": "python",
   "name": "python3"
  },
  "language_info": {
   "codemirror_mode": {
    "name": "ipython",
    "version": 3
   },
   "file_extension": ".py",
   "mimetype": "text/x-python",
   "name": "python",
   "nbconvert_exporter": "python",
   "pygments_lexer": "ipython3",
   "version": "3.7.3"
  }
 },
 "nbformat": 4,
 "nbformat_minor": 2
}
