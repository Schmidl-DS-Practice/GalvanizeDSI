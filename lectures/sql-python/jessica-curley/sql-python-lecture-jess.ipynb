{
 "cells": [
  {
   "cell_type": "markdown",
   "metadata": {},
   "source": [
    "# Lecture Objectives\n",
    "brought to you by Jessica Curley, Jenny O'Shea, Kayla Thomas Elliot Cohen, Adam Richards, Frank Burkholder, and Erich Wellinger.\n",
    "\n",
    "- Connect to a database from within a python program and run queries\n",
    "- Understand psycopg2's cursors and commits\n",
    "- Generate dynamic queries"
   ]
  },
  {
   "cell_type": "markdown",
   "metadata": {},
   "source": [
    "### Combining SQL and Python\n",
    "\n",
    "You'll find yourself working with data that are only accessable through SQL.  However, your machine-learning capabilities are built in Python.  To resolve this, set up a connection from Python to the SQL database to bring in the data."
   ]
  },
  {
   "cell_type": "markdown",
   "metadata": {},
   "source": [
    "### Why do we care?\n",
    "\n",
    "- SQL-based databases are common in industry environments\n",
    "- Can leverage the benefit of SQL's structure and scalability, while maintaining the flexibility of Python\n",
    "- Useful for data pipelines, pre-cleaning, data exploration\n",
    "- Allows for dynamic query generation and hence automation"
   ]
  },
  {
   "cell_type": "markdown",
   "metadata": {},
   "source": [
    "### psycopg2\n",
    "- How do you say it? [It's up for debate...](https://twitter.com/di_codes/status/1048197498072969218)\n",
    "- A Python library that connects and interacts with PostgresSQL databases.\n",
    "- psycopg2 is a wrapper around libpq (C application programmer's interface) that exposes a Python DB-API to Python programs.\n",
    "- [Documentation--Includes Installation Instructions](http://initd.org/psycopg/docs/install.html)\n",
    "- In addition to what's listed in the documentation, if you have the anaconda distribution of Python \n",
    "```bash \n",
    "$ conda install psycopg2 \n",
    "```\n",
    "should work.\n",
    "\n",
    "If you're getting errors, try:\n",
    "```bash  \n",
    "$ conda update --all\n",
    "$ conda install psycopg2\n",
    "```\n",
    "- There are similar packages for other flavors of SQL that work much the same way:\n",
    "  \n",
    "    [msql.connector](https://dev.mysql.com/doc/connector-python/en/connector-python-example-connecting.html)  \n",
    "    [pyodbc](https://github.com/mkleehammer/pyodbc)"
   ]
  },
  {
   "cell_type": "markdown",
   "metadata": {},
   "source": [
    "## General Workflow\n",
    "0. Create a database (depending on if you need to)\n",
    "1. Establish a connection to Postgres database using psycopg2\n",
    "2. Create/Instantiate a [cursor](http://initd.org/psycopg/docs/cursor.html#cursor)\n",
    "3. Use the cursor to execute SQL queries and retrieve data\n",
    "4. Commit SQL actions\n",
    "4. Close the cursor and connection"
   ]
  },
  {
   "cell_type": "markdown",
   "metadata": {},
   "source": [
    "## 0) Create a database from an admin account\n",
    "\n",
    "Database creation should be reserved for only administrators.  Each database should have a list of non-admin users that are specific to that database.  Keeping this separation of roles is a setup that helps with security. \n",
    "\n",
    "### Database setup\n",
    "\n",
    "Type the commands below in bash (indicated by being prefaced with $). \n",
    "\n",
    "\n",
    "```bash\n",
    "$ docker exec -it pgserv bash\n",
    "# psql -U postgres\n",
    "=# CREATE USER ender WITH ENCRYPTED PASSWORD 'bugger';\n",
    "=# CREATE DATABASE golf WITH OWNER ender;\n",
    "=# \\q\n",
    "\n",
    "\n",
    "Check to see if you see the new database and other useful commands\n",
    "\n",
    "```sql\n",
    "# \\list    # lists all the databases in Postgres\n",
    "# \\connect # connect to a specific database\n",
    "# \\dt      # list tables in the currently connected database\n",
    "# \\q       # quit \n",
    "```"
   ]
  },
  {
   "cell_type": "markdown",
   "metadata": {},
   "source": [
    "## 1) Connect to the database\n",
    "- Connections must be established using an existing database, username, database IP/URL, and maybe passwords\n",
    "- If you need to create a database, you can first connect to Postgres using the dbname 'postgres' to initialize\n",
    "- Enter the password you created above (should be ```bugger```)"
   ]
  },
  {
   "cell_type": "code",
   "execution_count": 1,
   "metadata": {
    "ExecuteTime": {
     "end_time": "2017-01-12T08:58:08.165520",
     "start_time": "2017-01-12T08:58:08.091308"
    }
   },
   "outputs": [
    {
     "name": "stdout",
     "output_type": "stream",
     "text": [
      "········\n",
      "connected\n"
     ]
    }
   ],
   "source": [
    "import psycopg2\n",
    "import getpass\n",
    "\n",
    "upass = getpass.getpass()\n",
    "conn = psycopg2.connect(database=\"golf\", user=\"ender\", password=upass, host=\"localhost\", port=\"5432\")\n",
    "print(\"connected\")"
   ]
  },
  {
   "cell_type": "markdown",
   "metadata": {},
   "source": [
    "## 2) Instantiate the Cursor\n",
    "\n",
    "- A cursor is a control structure that enables traversal over the records in a database\n",
    "- Executes and fetches data\n",
    "- When the cursor points at the resulting output of a query, it can only read each observation once.  If you choose to see a previously read observation, you must rerun the query. \n",
    "- Can be closed without closing the connection"
   ]
  },
  {
   "cell_type": "code",
   "execution_count": 2,
   "metadata": {
    "ExecuteTime": {
     "end_time": "2017-01-12T08:58:08.185336",
     "start_time": "2017-01-12T08:58:08.167694"
    }
   },
   "outputs": [],
   "source": [
    "cur = conn.cursor()"
   ]
  },
  {
   "cell_type": "markdown",
   "metadata": {},
   "source": [
    "## 3) Commit SQL Actions\n",
    "### We won't do this yet, but this would be the next step\n",
    "\n",
    "- Data changes are not actually stored until you choose to commit\n",
    "- You can choose to have automatic commit by using ` autocommit = True`\n",
    "- When connecting directly to the Postgres Server to initiate server level commands such as creating a database, you must use the `autocommit = True` option since Postgres does not have \"temporary\" transactions at the database level"
   ]
  },
  {
   "cell_type": "markdown",
   "metadata": {},
   "source": [
    "## 4)  Disconnect from the cursor and database\n",
    "### We won't do this yet, but this wil be the last step \n",
    "- Cursors and Connections must be closed using .close() or else Postgres will lock certain operations on the database/tables. "
   ]
  },
  {
   "cell_type": "markdown",
   "metadata": {},
   "source": [
    "# Let's Get Started with Some Databases!"
   ]
  },
  {
   "cell_type": "markdown",
   "metadata": {},
   "source": [
    "## Populate the database"
   ]
  },
  {
   "cell_type": "markdown",
   "metadata": {},
   "source": [
    "You'll need to enter your password (```bugger```) again when you run the script."
   ]
  },
  {
   "cell_type": "code",
   "execution_count": 3,
   "metadata": {
    "ExecuteTime": {
     "end_time": "2017-01-12T08:58:08.996294",
     "start_time": "2017-01-12T08:58:08.976269"
    }
   },
   "outputs": [
    {
     "name": "stdout",
     "output_type": "stream",
     "text": [
      "········\n",
      "connected\n",
      "(datetime.date(2014, 7, 1), 'sunny', 85, 85, False, \"Don't Play\")\n",
      "(datetime.date(2014, 7, 2), 'sunny', 80, 90, True, \"Don't Play\")\n",
      "(datetime.date(2014, 7, 3), 'overcast', 83, 78, False, 'Play')\n",
      "(datetime.date(2014, 7, 4), 'rain', 70, 96, False, 'Play')\n",
      "(datetime.date(2014, 7, 5), 'rain', 68, 80, False, 'Play')\n",
      "(datetime.date(2014, 7, 6), 'rain', 65, 70, True, \"Don't Play\")\n",
      "(datetime.date(2014, 7, 7), 'overcast', 64, 65, True, 'Play')\n",
      "(datetime.date(2014, 7, 8), 'sunny', 72, 95, False, \"Don't Play\")\n",
      "(datetime.date(2014, 7, 9), 'sunny', 69, 70, False, 'Play')\n",
      "(datetime.date(2014, 7, 10), 'rain', 75, 80, False, 'Play')\n",
      "(datetime.date(2014, 7, 11), 'sunny', 75, 70, True, 'Play')\n",
      "(datetime.date(2014, 7, 12), 'overcast', 72, 90, True, 'Play')\n",
      "(datetime.date(2014, 7, 13), 'overcast', 81, 75, False, 'Play')\n",
      "(datetime.date(2014, 7, 14), 'rain', 71, 80, True, \"Don't Play\")\n"
     ]
    }
   ],
   "source": [
    "run populate.py"
   ]
  },
  {
   "cell_type": "markdown",
   "metadata": {},
   "source": [
    "You should be seeing 14 lines of data above."
   ]
  },
  {
   "cell_type": "markdown",
   "metadata": {},
   "source": [
    "### Create a new table\n",
    "\n",
    "**you may need to edit the populate.py script with your username and password**\n",
    "\n",
    "The populate.py script does the following:\n",
    "\n",
    "1. Connects to the database\n",
    "2. Checks to see if a 'golf' table exists and if so drops it\n",
    "3. Creates a 'golf' table\n",
    "4. Populates the golf table with 'playgolf.csv'\n",
    "5. Queries the table for the first ten items\n"
   ]
  },
  {
   "cell_type": "markdown",
   "metadata": {},
   "source": [
    "### Run a query to get 30 records from our data"
   ]
  },
  {
   "cell_type": "code",
   "execution_count": 4,
   "metadata": {
    "ExecuteTime": {
     "end_time": "2017-01-12T08:58:09.226774",
     "start_time": "2017-01-12T08:58:09.192623"
    }
   },
   "outputs": [],
   "source": [
    "cur = conn.cursor()\n",
    "query = '''\n",
    "        SELECT *\n",
    "        FROM golf\n",
    "        LIMIT 30;\n",
    "        '''\n",
    "\n",
    "cur.execute(query)"
   ]
  },
  {
   "cell_type": "markdown",
   "metadata": {},
   "source": [
    "### Lets look at our data one line at a time"
   ]
  },
  {
   "cell_type": "code",
   "execution_count": 5,
   "metadata": {
    "ExecuteTime": {
     "end_time": "2017-01-12T08:58:09.259809",
     "start_time": "2017-01-12T08:58:09.230102"
    }
   },
   "outputs": [
    {
     "data": {
      "text/plain": [
       "(datetime.date(2014, 7, 1), 'sunny', 85, 85, False, \"Don't Play\")"
      ]
     },
     "execution_count": 5,
     "metadata": {},
     "output_type": "execute_result"
    }
   ],
   "source": [
    "cur.fetchone()"
   ]
  },
  {
   "cell_type": "markdown",
   "metadata": {},
   "source": [
    "### Many lines at a time"
   ]
  },
  {
   "cell_type": "code",
   "execution_count": 6,
   "metadata": {
    "ExecuteTime": {
     "end_time": "2017-01-12T08:58:09.281025",
     "start_time": "2017-01-12T08:58:09.261857"
    }
   },
   "outputs": [
    {
     "data": {
      "text/plain": [
       "[(datetime.date(2014, 7, 2), 'sunny', 80, 90, True, \"Don't Play\"),\n",
       " (datetime.date(2014, 7, 3), 'overcast', 83, 78, False, 'Play'),\n",
       " (datetime.date(2014, 7, 4), 'rain', 70, 96, False, 'Play'),\n",
       " (datetime.date(2014, 7, 5), 'rain', 68, 80, False, 'Play'),\n",
       " (datetime.date(2014, 7, 6), 'rain', 65, 70, True, \"Don't Play\")]"
      ]
     },
     "execution_count": 6,
     "metadata": {},
     "output_type": "execute_result"
    }
   ],
   "source": [
    "#fetchmany(n) to get n rows\n",
    "cur.fetchmany(5)"
   ]
  },
  {
   "cell_type": "markdown",
   "metadata": {},
   "source": [
    "### Or everything at once"
   ]
  },
  {
   "cell_type": "markdown",
   "metadata": {},
   "source": [
    "But are there any results left?  With the cursor we only see them once and then the cursor moves on..."
   ]
  },
  {
   "cell_type": "code",
   "execution_count": 7,
   "metadata": {
    "ExecuteTime": {
     "end_time": "2017-01-12T08:58:09.308550",
     "start_time": "2017-01-12T08:58:09.284019"
    }
   },
   "outputs": [],
   "source": [
    "results = cur.fetchall() # fetchall() grabs all remaining rows"
   ]
  },
  {
   "cell_type": "code",
   "execution_count": 8,
   "metadata": {
    "ExecuteTime": {
     "end_time": "2017-01-12T08:58:09.340242",
     "start_time": "2017-01-12T08:58:09.309710"
    }
   },
   "outputs": [
    {
     "data": {
      "text/plain": [
       "list"
      ]
     },
     "execution_count": 8,
     "metadata": {},
     "output_type": "execute_result"
    }
   ],
   "source": [
    "type(results)"
   ]
  },
  {
   "cell_type": "code",
   "execution_count": 9,
   "metadata": {
    "ExecuteTime": {
     "end_time": "2017-01-12T08:58:09.377396",
     "start_time": "2017-01-12T08:58:09.342447"
    }
   },
   "outputs": [
    {
     "data": {
      "text/plain": [
       "tuple"
      ]
     },
     "execution_count": 9,
     "metadata": {},
     "output_type": "execute_result"
    }
   ],
   "source": [
    "type(results[0])"
   ]
  },
  {
   "cell_type": "code",
   "execution_count": 10,
   "metadata": {},
   "outputs": [
    {
     "data": {
      "text/plain": [
       "[(datetime.date(2014, 7, 7), 'overcast', 64, 65, True, 'Play'),\n",
       " (datetime.date(2014, 7, 8), 'sunny', 72, 95, False, \"Don't Play\"),\n",
       " (datetime.date(2014, 7, 9), 'sunny', 69, 70, False, 'Play'),\n",
       " (datetime.date(2014, 7, 10), 'rain', 75, 80, False, 'Play'),\n",
       " (datetime.date(2014, 7, 11), 'sunny', 75, 70, True, 'Play'),\n",
       " (datetime.date(2014, 7, 12), 'overcast', 72, 90, True, 'Play'),\n",
       " (datetime.date(2014, 7, 13), 'overcast', 81, 75, False, 'Play'),\n",
       " (datetime.date(2014, 7, 14), 'rain', 71, 80, True, \"Don't Play\")]"
      ]
     },
     "execution_count": 10,
     "metadata": {},
     "output_type": "execute_result"
    }
   ],
   "source": [
    "results"
   ]
  },
  {
   "cell_type": "markdown",
   "metadata": {},
   "source": [
    "### You can even iterate over the cursor"
   ]
  },
  {
   "cell_type": "code",
   "execution_count": 11,
   "metadata": {
    "ExecuteTime": {
     "end_time": "2017-01-12T08:58:09.417730",
     "start_time": "2017-01-12T08:58:09.380019"
    }
   },
   "outputs": [
    {
     "name": "stdout",
     "output_type": "stream",
     "text": [
      "date:2014-07-01, outlook:sunny, temperature:85\n",
      "date:2014-07-02, outlook:sunny, temperature:80\n",
      "date:2014-07-03, outlook:overcast, temperature:83\n",
      "date:2014-07-04, outlook:rain, temperature:70\n",
      "date:2014-07-05, outlook:rain, temperature:68\n",
      "date:2014-07-06, outlook:rain, temperature:65\n",
      "date:2014-07-07, outlook:overcast, temperature:64\n",
      "date:2014-07-08, outlook:sunny, temperature:72\n",
      "date:2014-07-09, outlook:sunny, temperature:69\n",
      "date:2014-07-10, outlook:rain, temperature:75\n",
      "date:2014-07-11, outlook:sunny, temperature:75\n",
      "date:2014-07-12, outlook:overcast, temperature:72\n",
      "date:2014-07-13, outlook:overcast, temperature:81\n",
      "date:2014-07-14, outlook:rain, temperature:71\n"
     ]
    }
   ],
   "source": [
    "cur.execute(query)\n",
    "for record in cur:\n",
    "    print (\"date:{}, outlook:{}, temperature:{}\".format(record[0], record[1], record[2]))"
   ]
  },
  {
   "cell_type": "markdown",
   "metadata": {},
   "source": [
    "### Another way to see many lines at once: "
   ]
  },
  {
   "cell_type": "code",
   "execution_count": 12,
   "metadata": {},
   "outputs": [
    {
     "name": "stdout",
     "output_type": "stream",
     "text": [
      "(datetime.date(2014, 7, 1), 'sunny', 85, 85, False, \"Don't Play\")\n",
      "(datetime.date(2014, 7, 2), 'sunny', 80, 90, True, \"Don't Play\")\n",
      "(datetime.date(2014, 7, 3), 'overcast', 83, 78, False, 'Play')\n",
      "(datetime.date(2014, 7, 4), 'rain', 70, 96, False, 'Play')\n",
      "(datetime.date(2014, 7, 5), 'rain', 68, 80, False, 'Play')\n",
      "(datetime.date(2014, 7, 6), 'rain', 65, 70, True, \"Don't Play\")\n",
      "(datetime.date(2014, 7, 7), 'overcast', 64, 65, True, 'Play')\n",
      "(datetime.date(2014, 7, 8), 'sunny', 72, 95, False, \"Don't Play\")\n",
      "(datetime.date(2014, 7, 9), 'sunny', 69, 70, False, 'Play')\n",
      "(datetime.date(2014, 7, 10), 'rain', 75, 80, False, 'Play')\n",
      "(datetime.date(2014, 7, 11), 'sunny', 75, 70, True, 'Play')\n",
      "(datetime.date(2014, 7, 12), 'overcast', 72, 90, True, 'Play')\n",
      "(datetime.date(2014, 7, 13), 'overcast', 81, 75, False, 'Play')\n",
      "(datetime.date(2014, 7, 14), 'rain', 71, 80, True, \"Don't Play\")\n"
     ]
    }
   ],
   "source": [
    "cur.execute(query)\n",
    "for row in cur:\n",
    "    print(row)"
   ]
  },
  {
   "cell_type": "markdown",
   "metadata": {},
   "source": [
    "### And another:"
   ]
  },
  {
   "cell_type": "code",
   "execution_count": 13,
   "metadata": {},
   "outputs": [
    {
     "data": {
      "text/plain": [
       "[(datetime.date(2014, 7, 1), 'sunny', 85, 85, False, \"Don't Play\"),\n",
       " (datetime.date(2014, 7, 2), 'sunny', 80, 90, True, \"Don't Play\"),\n",
       " (datetime.date(2014, 7, 3), 'overcast', 83, 78, False, 'Play'),\n",
       " (datetime.date(2014, 7, 4), 'rain', 70, 96, False, 'Play'),\n",
       " (datetime.date(2014, 7, 5), 'rain', 68, 80, False, 'Play'),\n",
       " (datetime.date(2014, 7, 6), 'rain', 65, 70, True, \"Don't Play\"),\n",
       " (datetime.date(2014, 7, 7), 'overcast', 64, 65, True, 'Play'),\n",
       " (datetime.date(2014, 7, 8), 'sunny', 72, 95, False, \"Don't Play\"),\n",
       " (datetime.date(2014, 7, 9), 'sunny', 69, 70, False, 'Play'),\n",
       " (datetime.date(2014, 7, 10), 'rain', 75, 80, False, 'Play'),\n",
       " (datetime.date(2014, 7, 11), 'sunny', 75, 70, True, 'Play'),\n",
       " (datetime.date(2014, 7, 12), 'overcast', 72, 90, True, 'Play'),\n",
       " (datetime.date(2014, 7, 13), 'overcast', 81, 75, False, 'Play'),\n",
       " (datetime.date(2014, 7, 14), 'rain', 71, 80, True, \"Don't Play\")]"
      ]
     },
     "execution_count": 13,
     "metadata": {},
     "output_type": "execute_result"
    }
   ],
   "source": [
    "cur.execute(query)\n",
    "list(cur)"
   ]
  },
  {
   "cell_type": "markdown",
   "metadata": {},
   "source": [
    "### You can also use Pandas to manipulate SQL query data, check out the documentation: https://pandas.pydata.org/pandas-docs/stable/reference/api/pandas.read_sql.html"
   ]
  },
  {
   "cell_type": "code",
   "execution_count": 14,
   "metadata": {},
   "outputs": [],
   "source": [
    "import pandas as pd"
   ]
  },
  {
   "cell_type": "code",
   "execution_count": 15,
   "metadata": {},
   "outputs": [
    {
     "data": {
      "text/html": [
       "<div>\n",
       "<style scoped>\n",
       "    .dataframe tbody tr th:only-of-type {\n",
       "        vertical-align: middle;\n",
       "    }\n",
       "\n",
       "    .dataframe tbody tr th {\n",
       "        vertical-align: top;\n",
       "    }\n",
       "\n",
       "    .dataframe thead th {\n",
       "        text-align: right;\n",
       "    }\n",
       "</style>\n",
       "<table border=\"1\" class=\"dataframe\">\n",
       "  <thead>\n",
       "    <tr style=\"text-align: right;\">\n",
       "      <th></th>\n",
       "      <th>date</th>\n",
       "      <th>outlook</th>\n",
       "      <th>temperature</th>\n",
       "      <th>humidity</th>\n",
       "      <th>windy</th>\n",
       "      <th>result</th>\n",
       "    </tr>\n",
       "  </thead>\n",
       "  <tbody>\n",
       "    <tr>\n",
       "      <th>0</th>\n",
       "      <td>2014-07-01</td>\n",
       "      <td>sunny</td>\n",
       "      <td>85</td>\n",
       "      <td>85</td>\n",
       "      <td>False</td>\n",
       "      <td>Don't Play</td>\n",
       "    </tr>\n",
       "    <tr>\n",
       "      <th>1</th>\n",
       "      <td>2014-07-02</td>\n",
       "      <td>sunny</td>\n",
       "      <td>80</td>\n",
       "      <td>90</td>\n",
       "      <td>True</td>\n",
       "      <td>Don't Play</td>\n",
       "    </tr>\n",
       "    <tr>\n",
       "      <th>2</th>\n",
       "      <td>2014-07-03</td>\n",
       "      <td>overcast</td>\n",
       "      <td>83</td>\n",
       "      <td>78</td>\n",
       "      <td>False</td>\n",
       "      <td>Play</td>\n",
       "    </tr>\n",
       "    <tr>\n",
       "      <th>3</th>\n",
       "      <td>2014-07-04</td>\n",
       "      <td>rain</td>\n",
       "      <td>70</td>\n",
       "      <td>96</td>\n",
       "      <td>False</td>\n",
       "      <td>Play</td>\n",
       "    </tr>\n",
       "    <tr>\n",
       "      <th>4</th>\n",
       "      <td>2014-07-05</td>\n",
       "      <td>rain</td>\n",
       "      <td>68</td>\n",
       "      <td>80</td>\n",
       "      <td>False</td>\n",
       "      <td>Play</td>\n",
       "    </tr>\n",
       "    <tr>\n",
       "      <th>5</th>\n",
       "      <td>2014-07-06</td>\n",
       "      <td>rain</td>\n",
       "      <td>65</td>\n",
       "      <td>70</td>\n",
       "      <td>True</td>\n",
       "      <td>Don't Play</td>\n",
       "    </tr>\n",
       "    <tr>\n",
       "      <th>6</th>\n",
       "      <td>2014-07-07</td>\n",
       "      <td>overcast</td>\n",
       "      <td>64</td>\n",
       "      <td>65</td>\n",
       "      <td>True</td>\n",
       "      <td>Play</td>\n",
       "    </tr>\n",
       "    <tr>\n",
       "      <th>7</th>\n",
       "      <td>2014-07-08</td>\n",
       "      <td>sunny</td>\n",
       "      <td>72</td>\n",
       "      <td>95</td>\n",
       "      <td>False</td>\n",
       "      <td>Don't Play</td>\n",
       "    </tr>\n",
       "    <tr>\n",
       "      <th>8</th>\n",
       "      <td>2014-07-09</td>\n",
       "      <td>sunny</td>\n",
       "      <td>69</td>\n",
       "      <td>70</td>\n",
       "      <td>False</td>\n",
       "      <td>Play</td>\n",
       "    </tr>\n",
       "    <tr>\n",
       "      <th>9</th>\n",
       "      <td>2014-07-10</td>\n",
       "      <td>rain</td>\n",
       "      <td>75</td>\n",
       "      <td>80</td>\n",
       "      <td>False</td>\n",
       "      <td>Play</td>\n",
       "    </tr>\n",
       "    <tr>\n",
       "      <th>10</th>\n",
       "      <td>2014-07-11</td>\n",
       "      <td>sunny</td>\n",
       "      <td>75</td>\n",
       "      <td>70</td>\n",
       "      <td>True</td>\n",
       "      <td>Play</td>\n",
       "    </tr>\n",
       "    <tr>\n",
       "      <th>11</th>\n",
       "      <td>2014-07-12</td>\n",
       "      <td>overcast</td>\n",
       "      <td>72</td>\n",
       "      <td>90</td>\n",
       "      <td>True</td>\n",
       "      <td>Play</td>\n",
       "    </tr>\n",
       "    <tr>\n",
       "      <th>12</th>\n",
       "      <td>2014-07-13</td>\n",
       "      <td>overcast</td>\n",
       "      <td>81</td>\n",
       "      <td>75</td>\n",
       "      <td>False</td>\n",
       "      <td>Play</td>\n",
       "    </tr>\n",
       "    <tr>\n",
       "      <th>13</th>\n",
       "      <td>2014-07-14</td>\n",
       "      <td>rain</td>\n",
       "      <td>71</td>\n",
       "      <td>80</td>\n",
       "      <td>True</td>\n",
       "      <td>Don't Play</td>\n",
       "    </tr>\n",
       "  </tbody>\n",
       "</table>\n",
       "</div>"
      ],
      "text/plain": [
       "          date   outlook  temperature  humidity  windy      result\n",
       "0   2014-07-01     sunny           85        85  False  Don't Play\n",
       "1   2014-07-02     sunny           80        90   True  Don't Play\n",
       "2   2014-07-03  overcast           83        78  False        Play\n",
       "3   2014-07-04      rain           70        96  False        Play\n",
       "4   2014-07-05      rain           68        80  False        Play\n",
       "5   2014-07-06      rain           65        70   True  Don't Play\n",
       "6   2014-07-07  overcast           64        65   True        Play\n",
       "7   2014-07-08     sunny           72        95  False  Don't Play\n",
       "8   2014-07-09     sunny           69        70  False        Play\n",
       "9   2014-07-10      rain           75        80  False        Play\n",
       "10  2014-07-11     sunny           75        70   True        Play\n",
       "11  2014-07-12  overcast           72        90   True        Play\n",
       "12  2014-07-13  overcast           81        75  False        Play\n",
       "13  2014-07-14      rain           71        80   True  Don't Play"
      ]
     },
     "execution_count": 15,
     "metadata": {},
     "output_type": "execute_result"
    }
   ],
   "source": [
    "df = pd.read_sql(query, conn)\n",
    "df"
   ]
  },
  {
   "cell_type": "markdown",
   "metadata": {},
   "source": [
    "# Dynamic Queries\n",
    "\n",
    "- When you search for an item on a website, there is not a person waiting to then write your query! This is where system administrators use Dynamic queries. A Dynamic Query is a query that facilitates automated generation of program statements.  It's flexible and adaptable based on context."
   ]
  },
  {
   "cell_type": "markdown",
   "metadata": {},
   "source": [
    "### First lets get an idea of how many records we start with"
   ]
  },
  {
   "cell_type": "code",
   "execution_count": 16,
   "metadata": {
    "ExecuteTime": {
     "end_time": "2017-01-12T08:58:09.446430",
     "start_time": "2017-01-12T08:58:09.421547"
    }
   },
   "outputs": [],
   "source": [
    "cur.execute('SELECT count(*) FROM golf;')\n",
    "record_count = cur.fetchone()"
   ]
  },
  {
   "cell_type": "code",
   "execution_count": 17,
   "metadata": {
    "ExecuteTime": {
     "end_time": "2017-01-12T08:58:09.471580",
     "start_time": "2017-01-12T08:58:09.451032"
    }
   },
   "outputs": [
    {
     "data": {
      "text/plain": [
       "(14,)"
      ]
     },
     "execution_count": 17,
     "metadata": {},
     "output_type": "execute_result"
    }
   ],
   "source": [
    "record_count"
   ]
  },
  {
   "cell_type": "code",
   "execution_count": 18,
   "metadata": {
    "ExecuteTime": {
     "end_time": "2017-01-12T08:58:09.515994",
     "start_time": "2017-01-12T08:58:09.476168"
    }
   },
   "outputs": [
    {
     "data": {
      "text/plain": [
       "14"
      ]
     },
     "execution_count": 18,
     "metadata": {},
     "output_type": "execute_result"
    }
   ],
   "source": [
    "record_count = record_count[0]\n",
    "record_count"
   ]
  },
  {
   "cell_type": "markdown",
   "metadata": {},
   "source": [
    "### Create a query template and determine file path for imports"
   ]
  },
  {
   "cell_type": "markdown",
   "metadata": {},
   "source": [
    "Use string formatting to generate a query for each approved file.\n",
    "\n",
    "- **[WARNING: BEWARE OF SQL INJECTION](http://initd.org/psycopg/docs/usage.html)**\n",
    "\n",
    "NEVER use + or % or .format to reformat strings to be used with .execute -- even the documentation notes, \"not even at gunpoint\"!!"
   ]
  },
  {
   "cell_type": "code",
   "execution_count": 20,
   "metadata": {},
   "outputs": [
    {
     "name": "stdout",
     "output_type": "stream",
     "text": [
      "SELECT * FROM golf WHERE tmstmp > 2014-08-01;\n"
     ]
    }
   ],
   "source": [
    "# num = 579\n",
    "# terribly_unsafe = \"SELECT * FROM golf WHERE userid = {num}; \".format(num=num)\n",
    "# print (terribly_unsafe)\n",
    "\n",
    "\n",
    "date_cut = \"2014-08-01\"\n",
    "horribly_risky = \"SELECT * FROM golf WHERE tmstmp > %s;\" % date_cut\n",
    "print (horribly_risky)"
   ]
  },
  {
   "cell_type": "markdown",
   "metadata": {
    "ExecuteTime": {
     "end_time": "2017-01-12T08:58:09.571188",
     "start_time": "2017-01-12T08:58:09.521349"
    }
   },
   "source": [
    "**Q** Why is this unsafe?  \n",
    "**A** Python is happy, but if `num` or `date_cut` included something **malicious** your data could be at risk"
   ]
  },
  {
   "cell_type": "markdown",
   "metadata": {},
   "source": [
    "### What is a SQL Injection Attack?"
   ]
  },
  {
   "cell_type": "code",
   "execution_count": 21,
   "metadata": {
    "ExecuteTime": {
     "end_time": "2017-01-12T08:58:09.596979",
     "start_time": "2017-01-12T08:58:09.573540"
    }
   },
   "outputs": [
    {
     "name": "stdout",
     "output_type": "stream",
     "text": [
      "SELECT * FROM logins WHERE tmstmp > 2014-08-01; DROP TABLE logins;\n"
     ]
    }
   ],
   "source": [
    "date_cut = \"2014-08-01; DROP TABLE logins\" # The user enters a date in a field on a web form\n",
    "horribly_risky = \"SELECT * FROM logins WHERE tmstmp > {};\".format(date_cut)\n",
    "print (horribly_risky)"
   ]
  },
  {
   "cell_type": "markdown",
   "metadata": {},
   "source": [
    "### Practice safe SQL with Psycopg2\n",
    "```\n",
    ">>> sql_query = \"INSERT INTO authors (name) VALUES (%s);\" \n",
    ">>> data = (\"O'Reilly\", )\n",
    ">>> cur.execute(sql_query, data) # Note: no % operator\n",
    "```"
   ]
  },
  {
   "cell_type": "markdown",
   "metadata": {},
   "source": [
    "### Learn more about SQL safety and Injection Attacks:\n",
    "- Check out ww3schools [More on SQL Injections](https://www.w3schools.com/sql/sql_injection.asp)\n",
    "- Visit [bobby-tables.com](http://www.bobby-tables.com/) to learn more about SQL safety.\n",
    "- Here's a [video example](https://www.youtube.com/watch?v=ciNHn38EyRc) of an Injection Attack\n",
    "- here's an [XKCD comic](https://xkcd.com/327/) about it"
   ]
  },
  {
   "cell_type": "markdown",
   "metadata": {},
   "source": [
    "### Psygopg2 can leave databases \"idle in transaction\"  \n",
    "To prevent this **commit**, **close**, or **rollback** your transation"
   ]
  },
  {
   "cell_type": "code",
   "execution_count": 22,
   "metadata": {
    "ExecuteTime": {
     "end_time": "2017-01-12T08:58:10.189096",
     "start_time": "2017-01-12T16:58:08.148Z"
    }
   },
   "outputs": [],
   "source": [
    "conn.commit() # commits whatever changed you made to the database"
   ]
  },
  {
   "cell_type": "code",
   "execution_count": 23,
   "metadata": {},
   "outputs": [],
   "source": [
    "conn.rollback() # rollsback (undo) present pending transaction"
   ]
  },
  {
   "cell_type": "code",
   "execution_count": 24,
   "metadata": {},
   "outputs": [],
   "source": [
    "conn.close() # closes the connection"
   ]
  },
  {
   "cell_type": "markdown",
   "metadata": {},
   "source": [
    "## `with` statements"
   ]
  },
  {
   "cell_type": "code",
   "execution_count": 25,
   "metadata": {
    "ExecuteTime": {
     "end_time": "2017-01-12T08:58:10.189716",
     "start_time": "2017-01-12T16:58:08.151Z"
    }
   },
   "outputs": [
    {
     "name": "stdout",
     "output_type": "stream",
     "text": [
      "········\n",
      "Cursor inside with block: <cursor object at 0x7fa0187a2a50; closed: 0>\n",
      "Cursor closed? False\n",
      "Cursor outside with block: <cursor object at 0x7fa0187a2a50; closed: -1>\n",
      "Cursor closed? True\n",
      "Connection closed? 0\n"
     ]
    }
   ],
   "source": [
    "query = \"SELECT count(*) FROM golf;\"\n",
    "upass = getpass.getpass()\n",
    "\n",
    "with psycopg2.connect(database=\"golf\", user=\"ender\", password=upass, host=\"localhost\", port=\"5432\") as conn:\n",
    "    with conn.cursor() as curs:\n",
    "        print(\"Cursor inside with block: {}\".format(curs))\n",
    "        curs.execute(query)\n",
    "        print(\"Cursor closed? {}\".format(curs.closed))\n",
    "    print(\"Cursor outside with block: {}\".format(curs))\n",
    "    print(\"Cursor closed? {}\".format(curs.closed))\n",
    "    print(\"Connection closed? {}\".format(conn.closed))"
   ]
  },
  {
   "cell_type": "markdown",
   "metadata": {
    "ExecuteTime": {
     "end_time": "2017-01-12T08:51:21.531861",
     "start_time": "2017-01-12T08:51:21.518559"
    }
   },
   "source": [
    "### The connection is *not* closed automatically:"
   ]
  },
  {
   "cell_type": "code",
   "execution_count": 26,
   "metadata": {
    "ExecuteTime": {
     "end_time": "2017-01-12T08:58:10.189999",
     "start_time": "2017-01-12T16:58:08.153Z"
    }
   },
   "outputs": [
    {
     "data": {
      "text/plain": [
       "<connection object at 0x7f9fd88e1730; dsn: 'user=ender password=xxx dbname=golf host=localhost port=5432', closed: 0>"
      ]
     },
     "execution_count": 26,
     "metadata": {},
     "output_type": "execute_result"
    }
   ],
   "source": [
    "conn"
   ]
  },
  {
   "cell_type": "code",
   "execution_count": 27,
   "metadata": {
    "ExecuteTime": {
     "end_time": "2017-01-12T08:58:10.190294",
     "start_time": "2017-01-12T16:58:08.154Z"
    }
   },
   "outputs": [
    {
     "name": "stdout",
     "output_type": "stream",
     "text": [
      "Connection closed? 1\n"
     ]
    },
    {
     "data": {
      "text/plain": [
       "<connection object at 0x7f9fd88e1730; dsn: 'user=ender password=xxx dbname=golf host=localhost port=5432', closed: 1>"
      ]
     },
     "execution_count": 27,
     "metadata": {},
     "output_type": "execute_result"
    }
   ],
   "source": [
    "conn.close()\n",
    "print(\"Connection closed? {}\".format(conn.closed))\n",
    "conn"
   ]
  },
  {
   "cell_type": "markdown",
   "metadata": {},
   "source": [
    "# Review\n",
    "\n",
    "* Connections must be established using an existing database, username, database IP/URL, and maybe passwords\n",
    "* If you have no created databases, you can connect to Postgres using the dbname 'postgres' to initialize db commands\n",
    "* Data changes are not actually stored until you choose to commit. This can be done either through `conn.commit()` or setting `autocommit = True`.  Until commited, all transactions is only temporary stored.\n",
    "* Autocommit = True is necessary to do database commands like CREATE DATABASE.  This is because Postgres does not have temporary transactions at the database level.\n",
    "* If you ever need to build similar pipelines for other forms of database, there are libraries such PyODBC which operate very similarly.\n",
    "* SQL connection databases utilizes cursors for data traversal and retrieval.  This is kind of like an iterator in Python.\n",
    "* Cursor operations typically goes like the following:\n",
    "    - execute a query\n",
    "    - fetch rows from query result if it is a SELECT query\n",
    "    - because it is iterative, previously fetched rows can only be fetched again by rerunning the query\n",
    "    - close cursor through .close()\n",
    "* Cursors and Connections must be closed using .close() or else Postgres will lock certain operation on the database/tables until the connection is severed. "
   ]
  },
  {
   "cell_type": "markdown",
   "metadata": {},
   "source": [
    "## Additional Resources"
   ]
  },
  {
   "cell_type": "markdown",
   "metadata": {},
   "source": [
    "<table border=\"1\" class=\"data-types docutils\">\n",
    "<caption>Default mapping between Python and PostgreSQL types</caption>\n",
    "<colgroup>\n",
    "<col width=\"28%\">\n",
    "<col width=\"35%\">\n",
    "<col width=\"37%\">\n",
    "</colgroup>\n",
    "<thead valign=\"bottom\">\n",
    "<tr class=\"row-odd\"><th class=\"head\">Python</th>\n",
    "<th class=\"head\">PostgreSQL</th>\n",
    "<th class=\"head\">See also</th>\n",
    "</tr>\n",
    "</thead>\n",
    "<tbody valign=\"top\">\n",
    "<tr class=\"row-even\"><td><code class=\"xref py py-obj docutils literal\"><span class=\"pre\">None</span></code></td>\n",
    "<td><code class=\"sql docutils literal\"><span class=\"pre\">NULL</span></code></td>\n",
    "<td rowspan=\"2\"><a class=\"reference internal\" href=\"#adapt-consts\"><span class=\"std std-ref\">Constants adaptation</span></a></td>\n",
    "</tr>\n",
    "<tr class=\"row-odd\"><td><code class=\"xref py py-obj docutils literal\"><span class=\"pre\">bool</span></code></td>\n",
    "<td><code class=\"sql docutils literal\"><span class=\"pre\">bool</span></code></td>\n",
    "</tr>\n",
    "<tr class=\"row-even\"><td><code class=\"xref py py-obj docutils literal\"><span class=\"pre\">float</span></code></td>\n",
    "<td><div class=\"first last line-block\">\n",
    "<div class=\"line\"><code class=\"sql docutils literal\"><span class=\"pre\">real</span></code></div>\n",
    "<div class=\"line\"><code class=\"sql docutils literal\"><span class=\"pre\">double</span></code></div>\n",
    "</div>\n",
    "</td>\n",
    "<td rowspan=\"3\"><a class=\"reference internal\" href=\"#adapt-numbers\"><span class=\"std std-ref\">Numbers adaptation</span></a></td>\n",
    "</tr>\n",
    "<tr class=\"row-odd\"><td><div class=\"first last line-block\">\n",
    "<div class=\"line\"><code class=\"xref py py-obj docutils literal\"><span class=\"pre\">int</span></code></div>\n",
    "<div class=\"line\"><code class=\"xref py py-obj docutils literal\"><span class=\"pre\">long</span></code></div>\n",
    "</div>\n",
    "</td>\n",
    "<td><div class=\"first last line-block\">\n",
    "<div class=\"line\"><code class=\"sql docutils literal\"><span class=\"pre\">smallint</span></code></div>\n",
    "<div class=\"line\"><code class=\"sql docutils literal\"><span class=\"pre\">integer</span></code></div>\n",
    "<div class=\"line\"><code class=\"sql docutils literal\"><span class=\"pre\">bigint</span></code></div>\n",
    "</div>\n",
    "</td>\n",
    "</tr>\n",
    "<tr class=\"row-even\"><td><a class=\"reference external\" href=\"https://docs.python.org/3/library/decimal.html#decimal.Decimal\" title=\"(in Python v3.6)\"><code class=\"xref py py-obj docutils literal\"><span class=\"pre\">Decimal</span></code></a></td>\n",
    "<td><code class=\"sql docutils literal\"><span class=\"pre\">numeric</span></code></td>\n",
    "</tr>\n",
    "<tr class=\"row-odd\"><td><div class=\"first last line-block\">\n",
    "<div class=\"line\"><code class=\"xref py py-obj docutils literal\"><span class=\"pre\">str</span></code></div>\n",
    "<div class=\"line\"><code class=\"xref py py-obj docutils literal\"><span class=\"pre\">unicode</span></code></div>\n",
    "</div>\n",
    "</td>\n",
    "<td><div class=\"first last line-block\">\n",
    "<div class=\"line\"><code class=\"sql docutils literal\"><span class=\"pre\">varchar</span></code></div>\n",
    "<div class=\"line\"><code class=\"sql docutils literal\"><span class=\"pre\">text</span></code></div>\n",
    "</div>\n",
    "</td>\n",
    "<td><a class=\"reference internal\" href=\"#adapt-string\"><span class=\"std std-ref\">Strings adaptation</span></a></td>\n",
    "</tr>\n",
    "<tr class=\"row-even\"><td><div class=\"first last line-block\">\n",
    "<div class=\"line\"><a class=\"reference external\" href=\"https://docs.python.org/2/library/functions.html#buffer\" title=\"(in Python v2.7)\"><code class=\"xref py py-obj docutils literal\"><span class=\"pre\">buffer</span></code></a></div>\n",
    "<div class=\"line\"><a class=\"reference external\" href=\"https://docs.python.org/3/library/stdtypes.html#memoryview\" title=\"(in Python v3.6)\"><code class=\"xref py py-obj docutils literal\"><span class=\"pre\">memoryview</span></code></a></div>\n",
    "<div class=\"line\"><a class=\"reference external\" href=\"https://docs.python.org/3/library/stdtypes.html#bytearray\" title=\"(in Python v3.6)\"><code class=\"xref py py-obj docutils literal\"><span class=\"pre\">bytearray</span></code></a></div>\n",
    "<div class=\"line\"><a class=\"reference external\" href=\"https://docs.python.org/3/library/stdtypes.html#bytes\" title=\"(in Python v3.6)\"><code class=\"xref py py-obj docutils literal\"><span class=\"pre\">bytes</span></code></a></div>\n",
    "<div class=\"line\">Buffer protocol</div>\n",
    "</div>\n",
    "</td>\n",
    "<td><code class=\"sql docutils literal\"><span class=\"pre\">bytea</span></code></td>\n",
    "<td><a class=\"reference internal\" href=\"#adapt-binary\"><span class=\"std std-ref\">Binary adaptation</span></a></td>\n",
    "</tr>\n",
    "<tr class=\"row-odd\"><td><code class=\"xref py py-obj docutils literal\"><span class=\"pre\">date</span></code></td>\n",
    "<td><code class=\"sql docutils literal\"><span class=\"pre\">date</span></code></td>\n",
    "<td rowspan=\"4\"><a class=\"reference internal\" href=\"#adapt-date\"><span class=\"std std-ref\">Date/Time objects adaptation</span></a></td>\n",
    "</tr>\n",
    "<tr class=\"row-even\"><td><code class=\"xref py py-obj docutils literal\"><span class=\"pre\">time</span></code></td>\n",
    "<td><div class=\"first last line-block\">\n",
    "<div class=\"line\"><code class=\"sql docutils literal\"><span class=\"pre\">time</span></code></div>\n",
    "<div class=\"line\"><code class=\"sql docutils literal\"><span class=\"pre\">timetz</span></code></div>\n",
    "</div>\n",
    "</td>\n",
    "</tr>\n",
    "<tr class=\"row-odd\"><td><code class=\"xref py py-obj docutils literal\"><span class=\"pre\">datetime</span></code></td>\n",
    "<td><div class=\"first last line-block\">\n",
    "<div class=\"line\"><code class=\"sql docutils literal\"><span class=\"pre\">timestamp</span></code></div>\n",
    "<div class=\"line\"><code class=\"sql docutils literal\"><span class=\"pre\">timestamptz</span></code></div>\n",
    "</div>\n",
    "</td>\n",
    "</tr>\n",
    "<tr class=\"row-even\"><td><code class=\"xref py py-obj docutils literal\"><span class=\"pre\">timedelta</span></code></td>\n",
    "<td><code class=\"sql docutils literal\"><span class=\"pre\">interval</span></code></td>\n",
    "</tr>\n",
    "<tr class=\"row-odd\"><td><code class=\"xref py py-obj docutils literal\"><span class=\"pre\">list</span></code></td>\n",
    "<td><code class=\"sql docutils literal\"><span class=\"pre\">ARRAY</span></code></td>\n",
    "<td><a class=\"reference internal\" href=\"#adapt-list\"><span class=\"std std-ref\">Lists adaptation</span></a></td>\n",
    "</tr>\n",
    "<tr class=\"row-even\"><td><div class=\"first last line-block\">\n",
    "<div class=\"line\"><code class=\"xref py py-obj docutils literal\"><span class=\"pre\">tuple</span></code></div>\n",
    "<div class=\"line\"><code class=\"xref py py-obj docutils literal\"><span class=\"pre\">namedtuple</span></code></div>\n",
    "</div>\n",
    "</td>\n",
    "<td><div class=\"first last line-block\">\n",
    "<div class=\"line\">Composite types</div>\n",
    "<div class=\"line\"><code class=\"sql docutils literal\"><span class=\"pre\">IN</span></code> syntax</div>\n",
    "</div>\n",
    "</td>\n",
    "<td><div class=\"first last line-block\">\n",
    "<div class=\"line\"><a class=\"reference internal\" href=\"#adapt-tuple\"><span class=\"std std-ref\">Tuples adaptation</span></a></div>\n",
    "<div class=\"line\"><a class=\"reference internal\" href=\"extras.html#adapt-composite\"><span class=\"std std-ref\">Composite types casting</span></a></div>\n",
    "</div>\n",
    "</td>\n",
    "</tr>\n",
    "<tr class=\"row-odd\"><td><code class=\"xref py py-obj docutils literal\"><span class=\"pre\">dict</span></code></td>\n",
    "<td><code class=\"sql docutils literal\"><span class=\"pre\">hstore</span></code></td>\n",
    "<td><a class=\"reference internal\" href=\"extras.html#adapt-hstore\"><span class=\"std std-ref\">Hstore data type</span></a></td>\n",
    "</tr>\n",
    "<tr class=\"row-even\"><td>Psycopg’s <code class=\"xref py py-obj docutils literal\"><span class=\"pre\">Range</span></code></td>\n",
    "<td><code class=\"sql docutils literal\"><span class=\"pre\">range</span></code></td>\n",
    "<td><a class=\"reference internal\" href=\"extras.html#adapt-range\"><span class=\"std std-ref\">Range data types</span></a></td>\n",
    "</tr>\n",
    "<tr class=\"row-odd\"><td>Anything™</td>\n",
    "<td><code class=\"sql docutils literal\"><span class=\"pre\">json</span></code></td>\n",
    "<td><a class=\"reference internal\" href=\"extras.html#adapt-json\"><span class=\"std std-ref\">JSON adaptation</span></a></td>\n",
    "</tr>\n",
    "<tr class=\"row-even\"><td><a class=\"reference external\" href=\"https://docs.python.org/3/library/uuid.html#uuid.UUID\" title=\"(in Python v3.6)\"><code class=\"xref py py-obj docutils literal\"><span class=\"pre\">UUID</span></code></a></td>\n",
    "<td><code class=\"sql docutils literal\"><span class=\"pre\">uuid</span></code></td>\n",
    "<td><a class=\"reference internal\" href=\"extras.html#adapt-uuid\"><span class=\"std std-ref\">UUID data type</span></a></td>\n",
    "</tr>\n",
    "<tr class=\"row-odd\"><td><a class=\"reference external\" href=\"https://docs.python.org/3/library/ipaddress.html#module-ipaddress\" title=\"(in Python v3.6)\"><code class=\"xref py py-obj docutils literal\"><span class=\"pre\">ipaddress</span></code></a>\n",
    "objects</td>\n",
    "<td><div class=\"first last line-block\">\n",
    "<div class=\"line\"><code class=\"sql docutils literal\"><span class=\"pre\">inet</span></code></div>\n",
    "<div class=\"line\"><code class=\"sql docutils literal\"><span class=\"pre\">cidr</span></code></div>\n",
    "</div>\n",
    "</td>\n",
    "<td><a class=\"reference internal\" href=\"extras.html#adapt-network\"><span class=\"std std-ref\">Networking data types</span></a></td>\n",
    "</tr>\n",
    "</tbody>\n",
    "</table>"
   ]
  }
 ],
 "metadata": {
  "kernelspec": {
   "display_name": "Python 3",
   "language": "python",
   "name": "python3"
  },
  "language_info": {
   "codemirror_mode": {
    "name": "ipython",
    "version": 3
   },
   "file_extension": ".py",
   "mimetype": "text/x-python",
   "name": "python",
   "nbconvert_exporter": "python",
   "pygments_lexer": "ipython3",
   "version": "3.7.9"
  }
 },
 "nbformat": 4,
 "nbformat_minor": 1
}
