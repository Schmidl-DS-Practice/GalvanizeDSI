{
 "cells": [
  {
   "cell_type": "markdown",
   "metadata": {},
   "source": [
    "## SVD for topic analysis\n",
    "\n",
    "We can use SVD to determine what we call ***latent features***. This will be best demonstrated with an example.\n",
    "\n",
    "### Example\n",
    "\n",
    "Let's look at users ratings of different movies. The ratings are from 1-5. A rating of 0 means the user hasn't watched the movie.  \n",
    "<br>\n",
    "\n",
    "|   -   | Matrix | Alien | Serenity | Casablanca | Amelie |\n",
    "| ----- | ------ | ----- | -------- | ---------- | ------ |\n",
    "| **Alice** |      1 |     1 |        1 |          0 |      0 |\n",
    "|   **Bob** |      3 |     3 |        3 |          0 |      0 |\n",
    "| **Cindy** |      4 |     4 |        4 |          0 |      0 |\n",
    "|   **Dan** |      5 |     5 |        5 |          0 |      0 |\n",
    "| **Emily** |      0 |     2 |        0 |          4 |      4 |\n",
    "| **Frank** |      0 |     0 |        0 |          5 |      5 |\n",
    "|  **Greg** |      0 |     1 |        0 |          2 |      2 |\n",
    "\n",
    "Note that the first three movies (Matrix, Alien, Serenity) are Sci-fi movies and the last two (Casablanca, Amelie) are Romance. Can we mathematically pull out these \"topics\" from user ratings?\n",
    "\n",
    "Let's do the computation with Python."
   ]
  },
  {
   "cell_type": "code",
   "execution_count": 1,
   "metadata": {},
   "outputs": [],
   "source": [
    "import numpy as np\n",
    "import pandas as pd\n",
    "import matplotlib.pyplot as plt\n",
    "%matplotlib inline"
   ]
  },
  {
   "cell_type": "code",
   "execution_count": 2,
   "metadata": {},
   "outputs": [],
   "source": [
    "M = np.array([[1, 1, 1, 0, 0],\n",
    "              [3, 3, 3, 0, 0],\n",
    "              [4, 4, 4, 0, 0],\n",
    "              [5, 5, 5, 0, 0],\n",
    "              [0, 2, 0, 4, 4],\n",
    "              [0, 0, 0, 5, 5],\n",
    "              [0, 1, 0, 2, 2]])"
   ]
  },
  {
   "cell_type": "markdown",
   "metadata": {},
   "source": [
    "### Compute SVD using numpy\n",
    "[Documentation](https://docs.scipy.org/doc/numpy-1.15.1/reference/generated/numpy.linalg.svd.html)"
   ]
  },
  {
   "cell_type": "code",
   "execution_count": 3,
   "metadata": {
    "scrolled": false
   },
   "outputs": [],
   "source": [
    "# Compute SVD\n",
    "from numpy.linalg import svd\n",
    "U, sigma, VT = svd(M, full_matrices=False, compute_uv=True) #see documentation for full_matrics parameters"
   ]
  },
  {
   "cell_type": "code",
   "execution_count": 4,
   "metadata": {},
   "outputs": [
    {
     "name": "stdout",
     "output_type": "stream",
     "text": [
      "Checking U:\n",
      "[[ 1.  0.  0.  0.  0.]\n",
      " [ 0.  1.  0.  0.  0.]\n",
      " [ 0.  0.  1. -0.  0.]\n",
      " [ 0.  0. -0.  1. -0.]\n",
      " [ 0.  0.  0. -0.  1.]]\n",
      "\n",
      "Checking V:\n",
      "[[ 1.  0.  0.  0.  0.]\n",
      " [ 0.  1.  0.  0. -0.]\n",
      " [ 0.  0.  1. -0.  0.]\n",
      " [ 0.  0. -0.  1.  0.]\n",
      " [ 0. -0.  0.  0.  1.]]\n"
     ]
    }
   ],
   "source": [
    "# Check if U and VT matrices are column orthogonal\n",
    "# If the matrix is orthogonal, it's dot product with itself should give\n",
    "# the identity matrix (inline with itself (1), orthogonal with all the rest (0))\n",
    "\n",
    "print(\"Checking U:\")\n",
    "print(np.dot(U.T,U).round(1))\n",
    "print(\"\\nChecking V:\")\n",
    "print(np.dot(VT.T,VT).round(1))"
   ]
  },
  {
   "cell_type": "markdown",
   "metadata": {},
   "source": [
    "## Part 1\n",
    "\n",
    "Describe the matrices"
   ]
  },
  {
   "cell_type": "code",
   "execution_count": 5,
   "metadata": {},
   "outputs": [
    {
     "name": "stdout",
     "output_type": "stream",
     "text": [
      "(7, 5)\n",
      "\n",
      "U matrix:\n",
      "Relates Users (rows) to latent features (columns) based on magnitude of values in matrix.\n",
      "\n",
      "[[-0.14  0.02  0.01  0.99 -0.  ]\n",
      " [-0.41  0.07  0.03 -0.06 -0.89]\n",
      " [-0.55  0.09  0.04 -0.08  0.42]\n",
      " [-0.69  0.12  0.05 -0.1   0.19]\n",
      " [-0.15 -0.59 -0.65 -0.    0.  ]\n",
      " [-0.07 -0.73  0.68  0.   -0.  ]\n",
      " [-0.08 -0.3  -0.33 -0.   -0.  ]]\n"
     ]
    }
   ],
   "source": [
    "## U matrix\n",
    "## shape\n",
    "print(U.shape)\n",
    "## it relates\n",
    "print(\"\\nU matrix:\")\n",
    "print(\"Relates Users (rows) to latent features (columns) based on magnitude of values in matrix.\\n\")\n",
    "print(U.round(2))"
   ]
  },
  {
   "cell_type": "code",
   "execution_count": 6,
   "metadata": {},
   "outputs": [
    {
     "name": "stdout",
     "output_type": "stream",
     "text": [
      "S matrix\n",
      "(5,)\n",
      "The latent feature singular values. The (singular value)^2 is\n",
      "is the eigenvalue.\n",
      "\n",
      "The singular values:\n",
      "[12.48  9.51  1.35  0.    0.  ]\n",
      "\n",
      "The singular values matrix, S:\n",
      "[[12.48  0.    0.    0.    0.  ]\n",
      " [ 0.    9.51  0.    0.    0.  ]\n",
      " [ 0.    0.    1.35  0.    0.  ]\n",
      " [ 0.    0.    0.    0.    0.  ]\n",
      " [ 0.    0.    0.    0.    0.  ]]\n"
     ]
    }
   ],
   "source": [
    "## sigma matrix\n",
    "## shape\n",
    "print(\"S matrix\")\n",
    "print(sigma.shape) # these are just the diagonal values of the singular values matrix\n",
    "print(\"The latent feature singular values. The (singular value)^2 is\\n\"\n",
    "      \"is the eigenvalue.\")\n",
    "print(\"\\nThe singular values:\")\n",
    "print(sigma.round(2)) # these are just the diagonal values of the singular values matrix\n",
    "print(\"\\nThe singular values matrix, S:\")\n",
    "sigma_m = sigma * np.eye(len(sigma))\n",
    "print(sigma_m.round(2))"
   ]
  },
  {
   "cell_type": "code",
   "execution_count": 7,
   "metadata": {},
   "outputs": [
    {
     "name": "stdout",
     "output_type": "stream",
     "text": [
      "The VT matrix\n",
      "(5, 5)\n",
      "Relates latent topics (rows) to the items (columns). In this case the columns are movies.\n",
      "\n",
      "[[-0.56 -0.59 -0.56 -0.09 -0.09]\n",
      " [ 0.13 -0.03  0.13 -0.7  -0.7 ]\n",
      " [ 0.41 -0.8   0.41  0.09  0.09]\n",
      " [-0.71  0.    0.71 -0.    0.  ]\n",
      " [-0.    0.   -0.    0.71 -0.71]]\n"
     ]
    }
   ],
   "source": [
    "## VT matrix\n",
    "# shape\n",
    "print(\"The VT matrix\")\n",
    "print(VT.shape)\n",
    "# it relates\n",
    "print(\"Relates latent topics (rows) to the items (columns). In this case the columns are movies.\\n\")\n",
    "print(VT.round(2))"
   ]
  },
  {
   "cell_type": "markdown",
   "metadata": {},
   "source": [
    "## Part 2\n",
    "\n",
    "Making use of the factorized version of our ratings"
   ]
  },
  {
   "cell_type": "code",
   "execution_count": 8,
   "metadata": {},
   "outputs": [
    {
     "name": "stdout",
     "output_type": "stream",
     "text": [
      "U matrix - relates users to topics\n",
      "          0     1     2     3     4\n",
      "Alice -0.14  0.02  0.01  0.99 -0.00\n",
      "Bob   -0.41  0.07  0.03 -0.06 -0.89\n",
      "Cindy -0.55  0.09  0.04 -0.08  0.42\n",
      "Dan   -0.69  0.12  0.05 -0.10  0.19\n",
      "Emily -0.15 -0.59 -0.65 -0.00  0.00\n",
      "Frank -0.07 -0.73  0.68  0.00 -0.00\n",
      "Greg  -0.08 -0.30 -0.33 -0.00 -0.00\n",
      "--------------------------------------\n",
      "\n",
      "Singular values\n",
      "square these to get the eigenvalues (and describe proportional variance)\n",
      "[[12.48  0.    0.    0.    0.  ]\n",
      " [ 0.    9.51  0.    0.    0.  ]\n",
      " [ 0.    0.    1.35  0.    0.  ]\n",
      " [ 0.    0.    0.    0.    0.  ]\n",
      " [ 0.    0.    0.    0.    0.  ]]\n",
      "--------------------------------------\n",
      "\n",
      "V matrix - relates topics to the movies\n",
      "   Matrix  Alien  Serenity  Casablanca  Amelie\n",
      "0   -0.56  -0.59     -0.56       -0.09   -0.09\n",
      "1    0.13  -0.03      0.13       -0.70   -0.70\n",
      "2    0.41  -0.80      0.41        0.09    0.09\n",
      "3   -0.71   0.00      0.71       -0.00    0.00\n",
      "4   -0.00   0.00     -0.00        0.71   -0.71\n"
     ]
    }
   ],
   "source": [
    "# Make interpretable\n",
    "movies = ['Matrix','Alien','Serenity','Casablanca','Amelie']\n",
    "users = ['Alice','Bob','Cindy','Dan','Emily','Frank','Greg']\n",
    "\n",
    "#U, sigma, VT = (np.around(x,2) for x in (U,sigma,VT))\n",
    "df_U = pd.DataFrame(U, index=users)\n",
    "df_VT = pd.DataFrame(VT, columns=movies)\n",
    "\n",
    "print(\"U matrix - relates users to topics\")\n",
    "print(df_U.round(2))\n",
    "print(\"--------------------------------------\")\n",
    "print(\"\\nSingular values\")\n",
    "print(\"square these to get the eigenvalues (and describe proportional variance)\")\n",
    "print(np.diag(sigma.round(2)))\n",
    "print(\"--------------------------------------\")\n",
    "print(\"\\nV matrix - relates topics to the movies\")\n",
    "print(df_VT.round(2))"
   ]
  },
  {
   "cell_type": "code",
   "execution_count": 9,
   "metadata": {},
   "outputs": [
    {
     "name": "stdout",
     "output_type": "stream",
     "text": [
      "       Matrix  Alien  Serenity  Casablanca  Amelie\n",
      "Alice     1.0    1.0       1.0         0.0     0.0\n",
      "Bob       3.0    3.0       3.0        -0.0    -0.0\n",
      "Cindy     4.0    4.0       4.0         0.0    -0.0\n",
      "Dan       5.0    5.0       5.0        -0.0    -0.0\n",
      "Emily     0.0    2.0      -0.0         4.0     4.0\n",
      "Frank     0.0    0.0      -0.0         5.0     5.0\n",
      "Greg      0.0    1.0      -0.0         2.0     2.0\n",
      "Perfectly reconstructs - no surprise because we used all the latent factors.\n"
     ]
    }
   ],
   "source": [
    "# Multiply the U, S, and VT matrices to reconstruct the original dataset\n",
    "print(np.around(df_U.dot(np.diag(sigma)).dot(df_VT),2))\n",
    "print(\"Perfectly reconstructs - no surprise because we used all the latent factors.\")"
   ]
  },
  {
   "cell_type": "markdown",
   "metadata": {},
   "source": [
    "## Trim the matrices to represent a factorization from only the top two factors"
   ]
  },
  {
   "cell_type": "code",
   "execution_count": 10,
   "metadata": {},
   "outputs": [
    {
     "name": "stdout",
     "output_type": "stream",
     "text": [
      "U matrix\n",
      "           0     1\n",
      "Alice -0.14  0.02\n",
      "Bob   -0.41  0.07\n",
      "Cindy -0.55  0.09\n",
      "Dan   -0.69  0.12\n",
      "Emily -0.15 -0.59\n",
      "Frank -0.07 -0.73\n",
      "Greg  -0.08 -0.30\n",
      "\n",
      "\n",
      "sigma [12.48  9.51]\n",
      "\n",
      "\n",
      "V matrix\n",
      "   Matrix  Alien  Serenity  Casablanca  Amelie\n",
      "0   -0.56  -0.59     -0.56       -0.09   -0.09\n",
      "1    0.13  -0.03      0.13       -0.70   -0.70\n"
     ]
    }
   ],
   "source": [
    "lf = 2 # will use only two latent factors \n",
    "df_U_lf = df_U.iloc[:,:lf]\n",
    "print(\"U matrix\\n\", df_U_lf.round(2))\n",
    "print(\"\\n\")\n",
    "sigma_lf = sigma[:lf].round(2)\n",
    "print(\"sigma\", sigma_lf)\n",
    "df_VT_lf = df_VT.iloc[:lf,:].round(2)\n",
    "print(\"\\n\")\n",
    "print(\"V matrix\")\n",
    "print(df_VT_lf.round(2))"
   ]
  },
  {
   "cell_type": "markdown",
   "metadata": {},
   "source": [
    "## Part 3: Does your approximate version of the matrix still reasonably reconstruct the original?"
   ]
  },
  {
   "cell_type": "code",
   "execution_count": 11,
   "metadata": {},
   "outputs": [
    {
     "name": "stdout",
     "output_type": "stream",
     "text": [
      "Here's the original:\n",
      "       Matrix  Alien  Serenity  Casablanca  Amelie\n",
      "Alice       1      1         1           0       0\n",
      "Bob         3      3         3           0       0\n",
      "Cindy       4      4         4           0       0\n",
      "Dan         5      5         5           0       0\n",
      "Emily       0      2         0           4       4\n",
      "Frank       0      0         0           5       5\n",
      "Greg        0      1         0           2       2\n",
      "\n",
      "Here's the reconstruction:\n",
      "       Matrix  Alien  Serenity  Casablanca  Amelie\n",
      "Alice     1.0    1.0       1.0        -0.0    -0.0\n",
      "Bob       3.0    3.0       3.0        -0.0    -0.0\n",
      "Cindy     4.0    4.0       4.0        -0.0    -0.0\n",
      "Dan       5.0    5.0       5.0        -0.0    -0.0\n",
      "Emily     0.3    1.3       0.3         4.1     4.1\n",
      "Frank    -0.4    0.7      -0.4         4.9     4.9\n",
      "Greg      0.2    0.6       0.2         2.1     2.1\n"
     ]
    }
   ],
   "source": [
    "# How well are original ratings captured when only using a subset of the latent factors?\n",
    "print(\"Here's the original:\")\n",
    "df_M = pd.DataFrame(M, index=users, columns=movies)\n",
    "print(df_M)\n",
    "print(\"\\nHere's the reconstruction:\")\n",
    "df_R = df_U_lf.dot(np.diag(sigma_lf)).dot(df_VT_lf)\n",
    "print(df_R.round(1))"
   ]
  },
  {
   "cell_type": "markdown",
   "metadata": {},
   "source": [
    "Take aways:  \n",
    "1) A matrix X can be factorized into U, S, V matrices using singular value decomposition.  \n",
    "2) The U and V matrices contain orthogonal vectors.  These vectors are latent topics.  You can think of latent topics as principal components.  (US = principal components = XV)  \n",
    "3) The U matrix relates rows in X to the latent topics, based on the magnitude of the values in the matrix (the larger the value, the more it loads onto that latent topic).  \n",
    "4) The S matrix contains the singular values associated with the latent topics.  Squared singular values are the same as eigenvalues.  \n",
    "5) The V matrix relates the topics (rows) to the columns of the X matrix (in this case the movies)  \n",
    "6) By selecting the number of singular values, you are simultaneously reducing dimensionality and eliminating collinearity, and finding latent topics that can be used to reconstruct your original data."
   ]
  }
 ],
 "metadata": {
  "kernelspec": {
   "display_name": "Python 3",
   "language": "python",
   "name": "python3"
  },
  "language_info": {
   "codemirror_mode": {
    "name": "ipython",
    "version": 3
   },
   "file_extension": ".py",
   "mimetype": "text/x-python",
   "name": "python",
   "nbconvert_exporter": "python",
   "pygments_lexer": "ipython3",
   "version": "3.7.3"
  }
 },
 "nbformat": 4,
 "nbformat_minor": 1
}
